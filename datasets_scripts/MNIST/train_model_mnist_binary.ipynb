{
 "metadata": {
  "language_info": {
   "codemirror_mode": {
    "name": "ipython",
    "version": 3
   },
   "file_extension": ".py",
   "mimetype": "text/x-python",
   "name": "python",
   "nbconvert_exporter": "python",
   "pygments_lexer": "ipython3",
   "version": "3.8.5"
  },
  "orig_nbformat": 2,
  "kernelspec": {
   "name": "python385jvsc74a57bd090e02b2587fbb2ca467fc85381f5522fddb4a9e5fbb8605712260c849ecf752b",
   "display_name": "Python 3.8.5 64-bit ('base': conda)"
  }
 },
 "nbformat": 4,
 "nbformat_minor": 2,
 "cells": [
  {
   "source": [
    "## Train model for geometric shapes\n",
    "**Function        : Train model in pytorch for MNIST **<br>\n",
    "**Author          : Team DIANNA **<br>\n",
    "**Contributor     : **<br>\n",
    "**First Built     : 2021.06.06 **<br>\n",
    "**Last Update     : 2021.06.06 **<br>\n",
    "**Library         : os, numpy, matplotlib, torch, tensorflow, wandb **<br>\n",
    "**Description     : In this notebook we train models in pytorch for geometric shapes. The trained models will be used to explore the XAI methods later.**<br>\n",
    "**Return Values   : pytorch models and training status (.pt) / training report from weights & biases**<br>"
   ],
   "cell_type": "markdown",
   "metadata": {}
  },
  {
   "cell_type": "code",
   "execution_count": 1,
   "metadata": {},
   "outputs": [],
   "source": [
    "%matplotlib inline\n",
    "import os\n",
    "import time as tt\n",
    "import numpy as np\n",
    "from mlxtend.data import loadlocal_mnist\n",
    "# DL framework\n",
    "import torch\n",
    "import torchvision\n",
    "import torch.nn as nn\n",
    "import torch.nn.functional as F\n",
    "import torch.optim as optim\n",
    "import torch.utils.data\n",
    "#import torchvision\n",
    "# for plotting\n",
    "import matplotlib.pyplot as plt\n",
    "# report and monitoring with Weights & Biases\n",
    "import wandb"
   ]
  },
  {
   "cell_type": "code",
   "execution_count": 2,
   "metadata": {},
   "outputs": [],
   "source": [
    "#################################################################################\n",
    "#########                     path to the dataset                        ########\n",
    "#################################################################################\n",
    "# please specify data path\n",
    "datapath = '/mnt/d/NLeSC/DIANNA/data/mnist'\n",
    "# please specify output path\n",
    "output_path = '/mnt/d/NLeSC/DIANNA/codebase/dianna/train_models/mnist'"
   ]
  },
  {
   "cell_type": "code",
   "execution_count": 4,
   "metadata": {},
   "outputs": [
    {
     "output_type": "stream",
     "name": "stdout",
     "text": [
      "dimensions of mnist:\ndimensions or training set (60000, 784)\ndimensions or training set label (60000,)\ndimensions or testing set (10000, 784)\ndimensions or testing set label (10000,)\nstatistics of training set:\nDigits:  0 1 2 3 4 5 6 7 8 9\nlabels: [0 1 2 3 4 5 6 7 8 9]\nClass distribution: [5923 6742 5958 6131 5842 5421 5918 6265 5851 5949]\n"
     ]
    }
   ],
   "source": [
    "#################################################################################\n",
    "#########                 extract MNIST dataset locally                  ########\n",
    "#################################################################################\n",
    "# load MNIST from local using mlxtend (without using any ML framework eg. torch, tensorflow)\n",
    "# training set\n",
    "train_X, train_y = loadlocal_mnist(images_path= os.path.join(datapath,'train-images-idx3-ubyte'), \n",
    "                                   labels_path=os.path.join(datapath,'train-labels-idx1-ubyte'))\n",
    "# testing set\n",
    "test_X, test_y = loadlocal_mnist(images_path= os.path.join(datapath,'t10k-images-idx3-ubyte'), \n",
    "                                 labels_path=os.path.join(datapath,'t10k-labels-idx1-ubyte'))\n",
    "\n",
    "# dimensions of data\n",
    "print(\"dimensions of mnist:\")\n",
    "print(\"dimensions or training set\", train_X.shape)\n",
    "print(\"dimensions or training set label\", train_y.shape)\n",
    "print(\"dimensions or testing set\", test_X.shape)\n",
    "print(\"dimensions or testing set label\", test_y.shape)\n",
    "# statistics of training set\n",
    "print(\"statistics of training set:\")\n",
    "print(\"Digits:  0 1 2 3 4 5 6 7 8 9\")\n",
    "print(\"labels: {}\".format(np.unique(train_y)))\n",
    "print(\"Class distribution: {}\".format(np.bincount(train_y)))"
   ]
  },
  {
   "cell_type": "code",
   "execution_count": 6,
   "metadata": {},
   "outputs": [
    {
     "output_type": "stream",
     "name": "stdout",
     "text": [
      "training set shape after filtering (12665, 784)\ntraining set label shape after filtering (12665,)\nBefore filtering [5 0 4 1 9 2 1 3 1 4 3 5 3 6 1 7 2 8 6 9]\nAfter filtering [0 1 1 1 1 0 1 1 0 0 1 0 0 1 0 1 0 0 1 1]\n"
     ]
    }
   ],
   "source": [
    "#################################################################################\n",
    "#########                 extract subset of MNIST dataset                ########\n",
    "#################################################################################\n",
    "# extract subset of MNIST\n",
    "# get all the images labelled \"0\" and \"1\" (binary filtering)\n",
    "label_a = 0\n",
    "label_b = 1\n",
    "train_X_binary = train_X[(train_y == label_a) | (train_y == label_b),:]\n",
    "train_y_binary = train_y[(train_y == label_a) | (train_y == label_b)]\n",
    "test_X_binary = test_X[(test_y == label_a) | (test_y == label_b),:]\n",
    "test_y_binary = test_y[(test_y == label_a) | (test_y == label_b)]\n",
    "# check the results\n",
    "print(\"training set shape after filtering\", train_X_binary.shape)\n",
    "print(\"training set label shape after filtering\", train_y_binary.shape)\n",
    "print(\"Before filtering\", train_y[:20])\n",
    "print(\"After filtering\", train_y_binary[:20])"
   ]
  },
  {
   "cell_type": "code",
   "execution_count": 5,
   "metadata": {},
   "outputs": [
    {
     "output_type": "stream",
     "name": "stderr",
     "text": [
      "Failed to detect the name of this notebook, you can set it manually with the WANDB_NOTEBOOK_NAME environment variable to enable code saving.\n",
      "*******************  check the version of pytorch  *********************\n",
      "Pytorch version 1.8.1\n",
      "Is CUDA available? False\n",
      "*******************  login weights & biases  *********************\n",
      "\u001b[34m\u001b[1mwandb\u001b[0m: Currently logged in as: \u001b[33mgit-yang\u001b[0m (use `wandb login --relogin` to force relogin)\n"
     ]
    },
    {
     "output_type": "execute_result",
     "data": {
      "text/plain": [
       "True"
      ]
     },
     "metadata": {},
     "execution_count": 5
    }
   ],
   "source": [
    "#################################################################################\n",
    "#########              set up the environment for training               ########\n",
    "#################################################################################\n",
    "print ('*******************  check the version of pytorch  *********************')\n",
    "print (\"Pytorch version {}\".format(torch.__version__))\n",
    "# check if CUDA is available\n",
    "use_cuda = torch.cuda.is_available()\n",
    "print(\"Is CUDA available? {}\".format(use_cuda))\n",
    "# use GPU if possible\n",
    "device = torch.device(\"cuda:0\" if torch.cuda.is_available() else \"cpu\")\n",
    "print ('*******************  login weights & biases  *********************')\n",
    "# call weights & biases service\n",
    "wandb.login()\n"
   ]
  },
  {
   "cell_type": "code",
   "execution_count": 4,
   "metadata": {},
   "outputs": [
    {
     "output_type": "stream",
     "name": "stdout",
     "text": [
      "torch.Size([64, 1, 28, 28])\ntorch.Size([64])\n"
     ]
    },
    {
     "output_type": "execute_result",
     "data": {
      "text/plain": [
       "Text(0.5, 1.0, 'Digit 5')"
      ]
     },
     "metadata": {},
     "execution_count": 4
    },
    {
     "output_type": "display_data",
     "data": {
      "text/plain": "<Figure size 432x288 with 1 Axes>",
      "image/svg+xml": "<?xml version=\"1.0\" encoding=\"utf-8\" standalone=\"no\"?>\n<!DOCTYPE svg PUBLIC \"-//W3C//DTD SVG 1.1//EN\"\n  \"http://www.w3.org/Graphics/SVG/1.1/DTD/svg11.dtd\">\n<!-- Created with matplotlib (https://matplotlib.org/) -->\n<svg height=\"263.63625pt\" version=\"1.1\" viewBox=\"0 0 251.565 263.63625\" width=\"251.565pt\" xmlns=\"http://www.w3.org/2000/svg\" xmlns:xlink=\"http://www.w3.org/1999/xlink\">\n <defs>\n  <style type=\"text/css\">\n*{stroke-linecap:butt;stroke-linejoin:round;}\n  </style>\n </defs>\n <g id=\"figure_1\">\n  <g id=\"patch_1\">\n   <path d=\"M 0 263.63625 \nL 251.565 263.63625 \nL 251.565 0 \nL 0 0 \nz\n\" style=\"fill:none;\"/>\n  </g>\n  <g id=\"axes_1\">\n   <g id=\"patch_2\">\n    <path d=\"M 26.925 239.758125 \nL 244.365 239.758125 \nL 244.365 22.318125 \nL 26.925 22.318125 \nz\n\" style=\"fill:#ffffff;\"/>\n   </g>\n   <g clip-path=\"url(#pb7fc9b3228)\">\n    <image height=\"218\" id=\"image9223c44b62\" transform=\"scale(1 -1)translate(0 -218)\" width=\"218\" x=\"26.925\" xlink:href=\"data:image/png;base64,\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\" y=\"-21.758125\"/>\n   </g>\n   <g id=\"matplotlib.axis_1\">\n    <g id=\"xtick_1\">\n     <g id=\"line2d_1\">\n      <defs>\n       <path d=\"M 0 0 \nL 0 3.5 \n\" id=\"m797acbc19f\" style=\"stroke:#000000;stroke-width:0.8;\"/>\n      </defs>\n      <g>\n       <use style=\"stroke:#000000;stroke-width:0.8;\" x=\"30.807857\" xlink:href=\"#m797acbc19f\" y=\"239.758125\"/>\n      </g>\n     </g>\n     <g id=\"text_1\">\n      <!-- 0 -->\n      <defs>\n       <path d=\"M 31.78125 66.40625 \nQ 24.171875 66.40625 20.328125 58.90625 \nQ 16.5 51.421875 16.5 36.375 \nQ 16.5 21.390625 20.328125 13.890625 \nQ 24.171875 6.390625 31.78125 6.390625 \nQ 39.453125 6.390625 43.28125 13.890625 \nQ 47.125 21.390625 47.125 36.375 \nQ 47.125 51.421875 43.28125 58.90625 \nQ 39.453125 66.40625 31.78125 66.40625 \nz\nM 31.78125 74.21875 \nQ 44.046875 74.21875 50.515625 64.515625 \nQ 56.984375 54.828125 56.984375 36.375 \nQ 56.984375 17.96875 50.515625 8.265625 \nQ 44.046875 -1.421875 31.78125 -1.421875 \nQ 19.53125 -1.421875 13.0625 8.265625 \nQ 6.59375 17.96875 6.59375 36.375 \nQ 6.59375 54.828125 13.0625 64.515625 \nQ 19.53125 74.21875 31.78125 74.21875 \nz\n\" id=\"DejaVuSans-48\"/>\n      </defs>\n      <g transform=\"translate(27.626607 254.356563)scale(0.1 -0.1)\">\n       <use xlink:href=\"#DejaVuSans-48\"/>\n      </g>\n     </g>\n    </g>\n    <g id=\"xtick_2\">\n     <g id=\"line2d_2\">\n      <g>\n       <use style=\"stroke:#000000;stroke-width:0.8;\" x=\"69.636429\" xlink:href=\"#m797acbc19f\" y=\"239.758125\"/>\n      </g>\n     </g>\n     <g id=\"text_2\">\n      <!-- 5 -->\n      <defs>\n       <path d=\"M 10.796875 72.90625 \nL 49.515625 72.90625 \nL 49.515625 64.59375 \nL 19.828125 64.59375 \nL 19.828125 46.734375 \nQ 21.96875 47.46875 24.109375 47.828125 \nQ 26.265625 48.1875 28.421875 48.1875 \nQ 40.625 48.1875 47.75 41.5 \nQ 54.890625 34.8125 54.890625 23.390625 \nQ 54.890625 11.625 47.5625 5.09375 \nQ 40.234375 -1.421875 26.90625 -1.421875 \nQ 22.3125 -1.421875 17.546875 -0.640625 \nQ 12.796875 0.140625 7.71875 1.703125 \nL 7.71875 11.625 \nQ 12.109375 9.234375 16.796875 8.0625 \nQ 21.484375 6.890625 26.703125 6.890625 \nQ 35.15625 6.890625 40.078125 11.328125 \nQ 45.015625 15.765625 45.015625 23.390625 \nQ 45.015625 31 40.078125 35.4375 \nQ 35.15625 39.890625 26.703125 39.890625 \nQ 22.75 39.890625 18.8125 39.015625 \nQ 14.890625 38.140625 10.796875 36.28125 \nz\n\" id=\"DejaVuSans-53\"/>\n      </defs>\n      <g transform=\"translate(66.455179 254.356563)scale(0.1 -0.1)\">\n       <use xlink:href=\"#DejaVuSans-53\"/>\n      </g>\n     </g>\n    </g>\n    <g id=\"xtick_3\">\n     <g id=\"line2d_3\">\n      <g>\n       <use style=\"stroke:#000000;stroke-width:0.8;\" x=\"108.465\" xlink:href=\"#m797acbc19f\" y=\"239.758125\"/>\n      </g>\n     </g>\n     <g id=\"text_3\">\n      <!-- 10 -->\n      <defs>\n       <path d=\"M 12.40625 8.296875 \nL 28.515625 8.296875 \nL 28.515625 63.921875 \nL 10.984375 60.40625 \nL 10.984375 69.390625 \nL 28.421875 72.90625 \nL 38.28125 72.90625 \nL 38.28125 8.296875 \nL 54.390625 8.296875 \nL 54.390625 0 \nL 12.40625 0 \nz\n\" id=\"DejaVuSans-49\"/>\n      </defs>\n      <g transform=\"translate(102.1025 254.356563)scale(0.1 -0.1)\">\n       <use xlink:href=\"#DejaVuSans-49\"/>\n       <use x=\"63.623047\" xlink:href=\"#DejaVuSans-48\"/>\n      </g>\n     </g>\n    </g>\n    <g id=\"xtick_4\">\n     <g id=\"line2d_4\">\n      <g>\n       <use style=\"stroke:#000000;stroke-width:0.8;\" x=\"147.293571\" xlink:href=\"#m797acbc19f\" y=\"239.758125\"/>\n      </g>\n     </g>\n     <g id=\"text_4\">\n      <!-- 15 -->\n      <g transform=\"translate(140.931071 254.356563)scale(0.1 -0.1)\">\n       <use xlink:href=\"#DejaVuSans-49\"/>\n       <use x=\"63.623047\" xlink:href=\"#DejaVuSans-53\"/>\n      </g>\n     </g>\n    </g>\n    <g id=\"xtick_5\">\n     <g id=\"line2d_5\">\n      <g>\n       <use style=\"stroke:#000000;stroke-width:0.8;\" x=\"186.122143\" xlink:href=\"#m797acbc19f\" y=\"239.758125\"/>\n      </g>\n     </g>\n     <g id=\"text_5\">\n      <!-- 20 -->\n      <defs>\n       <path d=\"M 19.1875 8.296875 \nL 53.609375 8.296875 \nL 53.609375 0 \nL 7.328125 0 \nL 7.328125 8.296875 \nQ 12.9375 14.109375 22.625 23.890625 \nQ 32.328125 33.6875 34.8125 36.53125 \nQ 39.546875 41.84375 41.421875 45.53125 \nQ 43.3125 49.21875 43.3125 52.78125 \nQ 43.3125 58.59375 39.234375 62.25 \nQ 35.15625 65.921875 28.609375 65.921875 \nQ 23.96875 65.921875 18.8125 64.3125 \nQ 13.671875 62.703125 7.8125 59.421875 \nL 7.8125 69.390625 \nQ 13.765625 71.78125 18.9375 73 \nQ 24.125 74.21875 28.421875 74.21875 \nQ 39.75 74.21875 46.484375 68.546875 \nQ 53.21875 62.890625 53.21875 53.421875 \nQ 53.21875 48.921875 51.53125 44.890625 \nQ 49.859375 40.875 45.40625 35.40625 \nQ 44.1875 33.984375 37.640625 27.21875 \nQ 31.109375 20.453125 19.1875 8.296875 \nz\n\" id=\"DejaVuSans-50\"/>\n      </defs>\n      <g transform=\"translate(179.759643 254.356563)scale(0.1 -0.1)\">\n       <use xlink:href=\"#DejaVuSans-50\"/>\n       <use x=\"63.623047\" xlink:href=\"#DejaVuSans-48\"/>\n      </g>\n     </g>\n    </g>\n    <g id=\"xtick_6\">\n     <g id=\"line2d_6\">\n      <g>\n       <use style=\"stroke:#000000;stroke-width:0.8;\" x=\"224.950714\" xlink:href=\"#m797acbc19f\" y=\"239.758125\"/>\n      </g>\n     </g>\n     <g id=\"text_6\">\n      <!-- 25 -->\n      <g transform=\"translate(218.588214 254.356563)scale(0.1 -0.1)\">\n       <use xlink:href=\"#DejaVuSans-50\"/>\n       <use x=\"63.623047\" xlink:href=\"#DejaVuSans-53\"/>\n      </g>\n     </g>\n    </g>\n   </g>\n   <g id=\"matplotlib.axis_2\">\n    <g id=\"ytick_1\">\n     <g id=\"line2d_7\">\n      <defs>\n       <path d=\"M 0 0 \nL -3.5 0 \n\" id=\"mfc9b5746cd\" style=\"stroke:#000000;stroke-width:0.8;\"/>\n      </defs>\n      <g>\n       <use style=\"stroke:#000000;stroke-width:0.8;\" x=\"26.925\" xlink:href=\"#mfc9b5746cd\" y=\"26.200982\"/>\n      </g>\n     </g>\n     <g id=\"text_7\">\n      <!-- 0 -->\n      <g transform=\"translate(13.5625 30.000201)scale(0.1 -0.1)\">\n       <use xlink:href=\"#DejaVuSans-48\"/>\n      </g>\n     </g>\n    </g>\n    <g id=\"ytick_2\">\n     <g id=\"line2d_8\">\n      <g>\n       <use style=\"stroke:#000000;stroke-width:0.8;\" x=\"26.925\" xlink:href=\"#mfc9b5746cd\" y=\"65.029554\"/>\n      </g>\n     </g>\n     <g id=\"text_8\">\n      <!-- 5 -->\n      <g transform=\"translate(13.5625 68.828772)scale(0.1 -0.1)\">\n       <use xlink:href=\"#DejaVuSans-53\"/>\n      </g>\n     </g>\n    </g>\n    <g id=\"ytick_3\">\n     <g id=\"line2d_9\">\n      <g>\n       <use style=\"stroke:#000000;stroke-width:0.8;\" x=\"26.925\" xlink:href=\"#mfc9b5746cd\" y=\"103.858125\"/>\n      </g>\n     </g>\n     <g id=\"text_9\">\n      <!-- 10 -->\n      <g transform=\"translate(7.2 107.657344)scale(0.1 -0.1)\">\n       <use xlink:href=\"#DejaVuSans-49\"/>\n       <use x=\"63.623047\" xlink:href=\"#DejaVuSans-48\"/>\n      </g>\n     </g>\n    </g>\n    <g id=\"ytick_4\">\n     <g id=\"line2d_10\">\n      <g>\n       <use style=\"stroke:#000000;stroke-width:0.8;\" x=\"26.925\" xlink:href=\"#mfc9b5746cd\" y=\"142.686696\"/>\n      </g>\n     </g>\n     <g id=\"text_10\">\n      <!-- 15 -->\n      <g transform=\"translate(7.2 146.485915)scale(0.1 -0.1)\">\n       <use xlink:href=\"#DejaVuSans-49\"/>\n       <use x=\"63.623047\" xlink:href=\"#DejaVuSans-53\"/>\n      </g>\n     </g>\n    </g>\n    <g id=\"ytick_5\">\n     <g id=\"line2d_11\">\n      <g>\n       <use style=\"stroke:#000000;stroke-width:0.8;\" x=\"26.925\" xlink:href=\"#mfc9b5746cd\" y=\"181.515268\"/>\n      </g>\n     </g>\n     <g id=\"text_11\">\n      <!-- 20 -->\n      <g transform=\"translate(7.2 185.314487)scale(0.1 -0.1)\">\n       <use xlink:href=\"#DejaVuSans-50\"/>\n       <use x=\"63.623047\" xlink:href=\"#DejaVuSans-48\"/>\n      </g>\n     </g>\n    </g>\n    <g id=\"ytick_6\">\n     <g id=\"line2d_12\">\n      <g>\n       <use style=\"stroke:#000000;stroke-width:0.8;\" x=\"26.925\" xlink:href=\"#mfc9b5746cd\" y=\"220.343839\"/>\n      </g>\n     </g>\n     <g id=\"text_12\">\n      <!-- 25 -->\n      <g transform=\"translate(7.2 224.143058)scale(0.1 -0.1)\">\n       <use xlink:href=\"#DejaVuSans-50\"/>\n       <use x=\"63.623047\" xlink:href=\"#DejaVuSans-53\"/>\n      </g>\n     </g>\n    </g>\n   </g>\n   <g id=\"patch_3\">\n    <path d=\"M 26.925 239.758125 \nL 26.925 22.318125 \n\" style=\"fill:none;stroke:#000000;stroke-linecap:square;stroke-linejoin:miter;stroke-width:0.8;\"/>\n   </g>\n   <g id=\"patch_4\">\n    <path d=\"M 244.365 239.758125 \nL 244.365 22.318125 \n\" style=\"fill:none;stroke:#000000;stroke-linecap:square;stroke-linejoin:miter;stroke-width:0.8;\"/>\n   </g>\n   <g id=\"patch_5\">\n    <path d=\"M 26.925 239.758125 \nL 244.365 239.758125 \n\" style=\"fill:none;stroke:#000000;stroke-linecap:square;stroke-linejoin:miter;stroke-width:0.8;\"/>\n   </g>\n   <g id=\"patch_6\">\n    <path d=\"M 26.925 22.318125 \nL 244.365 22.318125 \n\" style=\"fill:none;stroke:#000000;stroke-linecap:square;stroke-linejoin:miter;stroke-width:0.8;\"/>\n   </g>\n   <g id=\"text_13\">\n    <!-- Digit 5 -->\n    <defs>\n     <path d=\"M 19.671875 64.796875 \nL 19.671875 8.109375 \nL 31.59375 8.109375 \nQ 46.6875 8.109375 53.6875 14.9375 \nQ 60.6875 21.78125 60.6875 36.53125 \nQ 60.6875 51.171875 53.6875 57.984375 \nQ 46.6875 64.796875 31.59375 64.796875 \nz\nM 9.8125 72.90625 \nL 30.078125 72.90625 \nQ 51.265625 72.90625 61.171875 64.09375 \nQ 71.09375 55.28125 71.09375 36.53125 \nQ 71.09375 17.671875 61.125 8.828125 \nQ 51.171875 0 30.078125 0 \nL 9.8125 0 \nz\n\" id=\"DejaVuSans-68\"/>\n     <path d=\"M 9.421875 54.6875 \nL 18.40625 54.6875 \nL 18.40625 0 \nL 9.421875 0 \nz\nM 9.421875 75.984375 \nL 18.40625 75.984375 \nL 18.40625 64.59375 \nL 9.421875 64.59375 \nz\n\" id=\"DejaVuSans-105\"/>\n     <path d=\"M 45.40625 27.984375 \nQ 45.40625 37.75 41.375 43.109375 \nQ 37.359375 48.484375 30.078125 48.484375 \nQ 22.859375 48.484375 18.828125 43.109375 \nQ 14.796875 37.75 14.796875 27.984375 \nQ 14.796875 18.265625 18.828125 12.890625 \nQ 22.859375 7.515625 30.078125 7.515625 \nQ 37.359375 7.515625 41.375 12.890625 \nQ 45.40625 18.265625 45.40625 27.984375 \nz\nM 54.390625 6.78125 \nQ 54.390625 -7.171875 48.1875 -13.984375 \nQ 42 -20.796875 29.203125 -20.796875 \nQ 24.46875 -20.796875 20.265625 -20.09375 \nQ 16.0625 -19.390625 12.109375 -17.921875 \nL 12.109375 -9.1875 \nQ 16.0625 -11.328125 19.921875 -12.34375 \nQ 23.78125 -13.375 27.78125 -13.375 \nQ 36.625 -13.375 41.015625 -8.765625 \nQ 45.40625 -4.15625 45.40625 5.171875 \nL 45.40625 9.625 \nQ 42.625 4.78125 38.28125 2.390625 \nQ 33.9375 0 27.875 0 \nQ 17.828125 0 11.671875 7.65625 \nQ 5.515625 15.328125 5.515625 27.984375 \nQ 5.515625 40.671875 11.671875 48.328125 \nQ 17.828125 56 27.875 56 \nQ 33.9375 56 38.28125 53.609375 \nQ 42.625 51.21875 45.40625 46.390625 \nL 45.40625 54.6875 \nL 54.390625 54.6875 \nz\n\" id=\"DejaVuSans-103\"/>\n     <path d=\"M 18.3125 70.21875 \nL 18.3125 54.6875 \nL 36.8125 54.6875 \nL 36.8125 47.703125 \nL 18.3125 47.703125 \nL 18.3125 18.015625 \nQ 18.3125 11.328125 20.140625 9.421875 \nQ 21.96875 7.515625 27.59375 7.515625 \nL 36.8125 7.515625 \nL 36.8125 0 \nL 27.59375 0 \nQ 17.1875 0 13.234375 3.875 \nQ 9.28125 7.765625 9.28125 18.015625 \nL 9.28125 47.703125 \nL 2.6875 47.703125 \nL 2.6875 54.6875 \nL 9.28125 54.6875 \nL 9.28125 70.21875 \nz\n\" id=\"DejaVuSans-116\"/>\n     <path id=\"DejaVuSans-32\"/>\n    </defs>\n    <g transform=\"translate(115.805625 16.318125)scale(0.12 -0.12)\">\n     <use xlink:href=\"#DejaVuSans-68\"/>\n     <use x=\"77.001953\" xlink:href=\"#DejaVuSans-105\"/>\n     <use x=\"104.785156\" xlink:href=\"#DejaVuSans-103\"/>\n     <use x=\"168.261719\" xlink:href=\"#DejaVuSans-105\"/>\n     <use x=\"196.044922\" xlink:href=\"#DejaVuSans-116\"/>\n     <use x=\"235.253906\" xlink:href=\"#DejaVuSans-32\"/>\n     <use x=\"267.041016\" xlink:href=\"#DejaVuSans-53\"/>\n    </g>\n   </g>\n  </g>\n </g>\n <defs>\n  <clipPath id=\"pb7fc9b3228\">\n   <rect height=\"217.44\" width=\"217.44\" x=\"26.925\" y=\"22.318125\"/>\n  </clipPath>\n </defs>\n</svg>\n",
      "image/png": "[encoded data removed]"
     },
     "metadata": {
      "needs_background": "light"
     }
    }
   ],
   "source": [
    "#################################################################################\n",
    "#########                 precheck data from data loader                 ########\n",
    "#################################################################################\n",
    "train_X_y = enumerate(train_data_loader)\n",
    "batch_idx, (train_X_torch, train_y_torch) = next(train_X_y)\n",
    "\n",
    "# check the data\n",
    "print(train_X_torch.shape)\n",
    "print(train_y_torch.shape)\n",
    "\n",
    "plt.imshow(train_X_torch[0,0,:,:], cmap='gray')\n",
    "plt.title(\"Digit {}\".format(train_y_torch[0]))"
   ]
  },
  {
   "cell_type": "code",
   "execution_count": 6,
   "metadata": {},
   "outputs": [],
   "source": [
    "#################################################################################\n",
    "#########                      build neural network                      ########\n",
    "#################################################################################\n",
    "class ShapesNet(nn.Module):\n",
    "    def __init__(self, kernels=[4, 8], dropout = 0.2, classes=2):\n",
    "        '''\n",
    "        Two layer CNN model with max pooling.\n",
    "        '''\n",
    "        super(ShapesNet, self).__init__()\n",
    "        self.kernels = kernels\n",
    "        # 1st layer\n",
    "        self.layer1 = nn.Sequential(\n",
    "            nn.Conv2d(1, kernels[0], kernel_size=5, stride=1, padding=2),\n",
    "            nn.ReLU(),\n",
    "            nn.MaxPool2d(kernel_size=4, stride=4),\n",
    "            nn.Dropout()\n",
    "        )\n",
    "        # 2nd layer\n",
    "        self.layer2 = nn.Sequential(\n",
    "            nn.Conv2d(kernels[0], kernels[1], kernel_size=5, stride=1, padding=2),\n",
    "            nn.ReLU(),\n",
    "            nn.MaxPool2d(kernel_size=4, stride=4),\n",
    "            nn.Dropout()\n",
    "        )\n",
    "        self.fc1 = nn.Linear(4 * 4 * kernels[-1], kernels[-1]) # pixel 64 / maxpooling 4 * 4 = 4\n",
    "        self.fc2 = nn.Linear(kernels[-1], classes)\n",
    "\n",
    "    def forward(self, x):\n",
    "        x = self.layer1(x)\n",
    "        x = self.layer2(x)\n",
    "        x = x.reshape(x.size(0), -1)\n",
    "        x = self.fc1(x)\n",
    "        x = self.fc2(x)\n",
    "\n",
    "        return F.sigmoid(x)"
   ]
  },
  {
   "cell_type": "code",
   "execution_count": 7,
   "metadata": {},
   "outputs": [
    {
     "output_type": "stream",
     "name": "stderr",
     "text": [
      "\u001b[34m\u001b[1mwandb\u001b[0m: wandb version 0.10.31 is available!  To upgrade, please run:\n\u001b[34m\u001b[1mwandb\u001b[0m:  $ pip install wandb --upgrade\n"
     ]
    },
    {
     "output_type": "display_data",
     "data": {
      "text/plain": "<IPython.core.display.HTML object>",
      "text/html": "\n                Tracking run with wandb version 0.10.30<br/>\n                Syncing run <strong style=\"color:#cdcd00\">resilient-rain-12</strong> to <a href=\"https://wandb.ai\" target=\"_blank\">Weights & Biases</a> <a href=\"https://docs.wandb.com/integrations/jupyter.html\" target=\"_blank\">(Documentation)</a>.<br/>\n                Project page: <a href=\"https://wandb.ai/dianna-ai/geometric-shapes\" target=\"_blank\">https://wandb.ai/dianna-ai/geometric-shapes</a><br/>\n                Run page: <a href=\"https://wandb.ai/dianna-ai/geometric-shapes/runs/teqajg1s\" target=\"_blank\">https://wandb.ai/dianna-ai/geometric-shapes/runs/teqajg1s</a><br/>\n                Run data is saved locally in <code>/mnt/d/NLeSC/DIANNA/codebase/dianna/train_models/geometric_shapes/wandb/run-20210606_105553-teqajg1s</code><br/><br/>\n            "
     },
     "metadata": {}
    }
   ],
   "source": [
    "#################################################################################\n",
    "#########            configure hyper-parameters & prepare data           ########\n",
    "#################################################################################\n",
    "hyperparameters = dict(\n",
    "    epoch = 10,\n",
    "    classes = 1,\n",
    "    kernels = [4, 8],\n",
    "    batch_size = 100,\n",
    "    learning_rate = 0.01,\n",
    "    dropout = 0.1,\n",
    "    dataset = 'Geographic shapes',\n",
    "    architecture = 'CNN'\n",
    ")\n",
    "\n",
    "# initialize weights & biases service\n",
    "wandb.init(config=hyperparameters, project='geometric-shapes', entity='dianna-ai')\n",
    "config = wandb.config\n",
    "\n",
    "# use pytorch data loader\n",
    "train_X_torch = torch.from_numpy(train_X).type(torch.LongTensor)\n",
    "train_y_torch = torch.from_numpy(train_y).type(torch.LongTensor)\n",
    "\n",
    "test_X_torch = torch.from_numpy(test_X).type(torch.LongTensor)\n",
    "test_y_torch = torch.from_numpy(test_y).type(torch.LongTensor)\n",
    "\n",
    "# reshape the input following the definition in pytorch (batch, channel, Height, Width)\n",
    "train_X_torch = train_X_torch.view(-1,1,64,64).float()\n",
    "test_X_torch = test_X_torch.view(-1,1,64,64).float()\n",
    "\n",
    "# pytorch train and test sets\n",
    "train_set = torch.utils.data.TensorDataset(train_X_torch,train_y_torch)\n",
    "test_set = torch.utils.data.TensorDataset(test_X_torch,test_y_torch)\n",
    "\n",
    "# data loader\n",
    "train_loader = torch.utils.data.DataLoader(train_set, batch_size = config.batch_size, shuffle = False)\n",
    "test_loader = torch.utils.data.DataLoader(test_set, batch_size = config.batch_size, shuffle = False)\n"
   ]
  },
  {
   "cell_type": "code",
   "execution_count": 8,
   "metadata": {},
   "outputs": [
    {
     "output_type": "stream",
     "name": "stdout",
     "text": [
      "Model details:\n ShapesNet(\n  (layer1): Sequential(\n    (0): Conv2d(1, 4, kernel_size=(5, 5), stride=(1, 1), padding=(2, 2))\n    (1): ReLU()\n    (2): MaxPool2d(kernel_size=4, stride=4, padding=0, dilation=1, ceil_mode=False)\n    (3): Dropout(p=0.5, inplace=False)\n  )\n  (layer2): Sequential(\n    (0): Conv2d(4, 8, kernel_size=(5, 5), stride=(1, 1), padding=(2, 2))\n    (1): ReLU()\n    (2): MaxPool2d(kernel_size=4, stride=4, padding=0, dilation=1, ceil_mode=False)\n    (3): Dropout(p=0.5, inplace=False)\n  )\n  (fc1): Linear(in_features=128, out_features=8, bias=True)\n  (fc2): Linear(in_features=8, out_features=1, bias=True)\n)\nOptimizer details:\n Adam (\nParameter Group 0\n    amsgrad: False\n    betas: (0.9, 0.999)\n    eps: 1e-08\n    lr: 0.01\n    weight_decay: 0\n)\n"
     ]
    },
    {
     "output_type": "execute_result",
     "data": {
      "text/plain": [
       "[<wandb.wandb_torch.TorchGraph at 0x7f0d8afbffd0>]"
      ]
     },
     "metadata": {},
     "execution_count": 8
    }
   ],
   "source": [
    "#################################################################################\n",
    "#########               create model and choose optimizer                ########\n",
    "#################################################################################\n",
    "model = MnistNet(config.kernels, config.dropout, config.classes)\n",
    "#criterion = nn.CrossEntropyLoss()\n",
    "criterion = nn.BCELoss()\n",
    "#criterion = nn.BCEWithLogitsLoss() # same as BCELoss(torch.sigmoid(x),...), but more numerically stable\n",
    "optimizer = torch.optim.Adam(model.parameters(), lr=config.learning_rate)\n",
    "print('Model details:\\n', model)\n",
    "print('Optimizer details:\\n',optimizer)\n",
    "\n",
    "wandb.watch(model)"
   ]
  },
  {
   "cell_type": "code",
   "execution_count": 9,
   "metadata": {
    "tags": []
   },
   "outputs": [
    {
     "output_type": "stream",
     "name": "stderr",
     "text": [
      "/home/yangliu/miniconda3/lib/python3.8/site-packages/torch/nn/functional.py:1709: UserWarning: nn.functional.sigmoid is deprecated. Use torch.sigmoid instead.\n",
      "  warnings.warn(\"nn.functional.sigmoid is deprecated. Use torch.sigmoid instead.\")\n",
      "Epoch : 0 [0/8500 (0%)]\tLoss: 0.692305\t Accuracy:52.000%\n",
      "Epoch : 0 [400/8500 (5%)]\tLoss: 0.702110\t Accuracy:50.800%\n",
      "Epoch : 0 [800/8500 (9%)]\tLoss: 0.699483\t Accuracy:51.556%\n",
      "Epoch : 0 [1200/8500 (14%)]\tLoss: 0.698200\t Accuracy:50.769%\n",
      "Epoch : 0 [1600/8500 (19%)]\tLoss: 0.708112\t Accuracy:50.647%\n",
      "Epoch : 0 [2000/8500 (24%)]\tLoss: 0.692727\t Accuracy:51.095%\n",
      "Epoch : 0 [2400/8500 (28%)]\tLoss: 0.694749\t Accuracy:50.360%\n",
      "Epoch : 0 [2800/8500 (33%)]\tLoss: 0.694419\t Accuracy:50.448%\n",
      "Epoch : 0 [3200/8500 (38%)]\tLoss: 0.693988\t Accuracy:50.727%\n",
      "Epoch : 0 [3600/8500 (42%)]\tLoss: 0.692960\t Accuracy:50.568%\n",
      "Epoch : 0 [4000/8500 (47%)]\tLoss: 0.695576\t Accuracy:50.439%\n",
      "Epoch : 0 [4400/8500 (52%)]\tLoss: 0.691038\t Accuracy:50.778%\n",
      "Epoch : 0 [4800/8500 (56%)]\tLoss: 0.691056\t Accuracy:50.694%\n",
      "Epoch : 0 [5200/8500 (61%)]\tLoss: 0.690951\t Accuracy:50.547%\n",
      "Epoch : 0 [5600/8500 (66%)]\tLoss: 0.692981\t Accuracy:50.456%\n",
      "Epoch : 0 [6000/8500 (71%)]\tLoss: 0.691691\t Accuracy:50.492%\n",
      "Epoch : 0 [6400/8500 (75%)]\tLoss: 0.692480\t Accuracy:50.523%\n",
      "Epoch : 0 [6800/8500 (80%)]\tLoss: 0.693792\t Accuracy:50.333%\n",
      "Epoch : 0 [7200/8500 (85%)]\tLoss: 0.693570\t Accuracy:50.247%\n",
      "Epoch : 0 [7600/8500 (89%)]\tLoss: 0.692923\t Accuracy:50.338%\n",
      "Epoch : 0 [8000/8500 (94%)]\tLoss: 0.691502\t Accuracy:50.173%\n",
      "Epoch : 0 [8400/8500 (99%)]\tLoss: 0.693778\t Accuracy:50.224%\n",
      "Epoch : 1 [0/8500 (0%)]\tLoss: 0.693597\t Accuracy:52.000%\n",
      "Epoch : 1 [400/8500 (5%)]\tLoss: 0.692570\t Accuracy:50.800%\n",
      "Epoch : 1 [800/8500 (9%)]\tLoss: 0.693621\t Accuracy:51.556%\n",
      "Epoch : 1 [1200/8500 (14%)]\tLoss: 0.696280\t Accuracy:50.769%\n",
      "Epoch : 1 [1600/8500 (19%)]\tLoss: 0.693346\t Accuracy:50.647%\n",
      "Epoch : 1 [2000/8500 (24%)]\tLoss: 0.692303\t Accuracy:51.095%\n",
      "Epoch : 1 [2400/8500 (28%)]\tLoss: 0.691867\t Accuracy:50.360%\n",
      "Epoch : 1 [2800/8500 (33%)]\tLoss: 0.693386\t Accuracy:50.448%\n",
      "Epoch : 1 [3200/8500 (38%)]\tLoss: 0.697225\t Accuracy:50.727%\n",
      "Epoch : 1 [3600/8500 (42%)]\tLoss: 0.693814\t Accuracy:50.568%\n",
      "Epoch : 1 [4000/8500 (47%)]\tLoss: 0.692321\t Accuracy:50.439%\n",
      "Epoch : 1 [4400/8500 (52%)]\tLoss: 0.691055\t Accuracy:50.778%\n",
      "Epoch : 1 [4800/8500 (56%)]\tLoss: 0.690570\t Accuracy:50.694%\n",
      "Epoch : 1 [5200/8500 (61%)]\tLoss: 0.691194\t Accuracy:50.547%\n",
      "Epoch : 1 [5600/8500 (66%)]\tLoss: 0.693474\t Accuracy:50.456%\n",
      "Epoch : 1 [6000/8500 (71%)]\tLoss: 0.692201\t Accuracy:50.492%\n",
      "Epoch : 1 [6400/8500 (75%)]\tLoss: 0.693328\t Accuracy:50.523%\n",
      "Epoch : 1 [6800/8500 (80%)]\tLoss: 0.692063\t Accuracy:50.333%\n",
      "Epoch : 1 [7200/8500 (85%)]\tLoss: 0.694939\t Accuracy:50.247%\n",
      "Epoch : 1 [7600/8500 (89%)]\tLoss: 0.694330\t Accuracy:50.338%\n",
      "Epoch : 1 [8000/8500 (94%)]\tLoss: 0.693590\t Accuracy:50.173%\n",
      "Epoch : 1 [8400/8500 (99%)]\tLoss: 0.694392\t Accuracy:50.224%\n",
      "Epoch : 2 [0/8500 (0%)]\tLoss: 0.693477\t Accuracy:52.000%\n",
      "Epoch : 2 [400/8500 (5%)]\tLoss: 0.692317\t Accuracy:50.800%\n",
      "Epoch : 2 [800/8500 (9%)]\tLoss: 0.693185\t Accuracy:51.556%\n",
      "Epoch : 2 [1200/8500 (14%)]\tLoss: 0.697583\t Accuracy:50.769%\n",
      "Epoch : 2 [1600/8500 (19%)]\tLoss: 0.697258\t Accuracy:50.647%\n",
      "Epoch : 2 [2000/8500 (24%)]\tLoss: 0.703571\t Accuracy:51.095%\n",
      "Epoch : 2 [2400/8500 (28%)]\tLoss: 0.693047\t Accuracy:50.360%\n",
      "Epoch : 2 [2800/8500 (33%)]\tLoss: 0.692438\t Accuracy:50.448%\n",
      "Epoch : 2 [3200/8500 (38%)]\tLoss: 0.693602\t Accuracy:50.727%\n",
      "Epoch : 2 [3600/8500 (42%)]\tLoss: 0.691879\t Accuracy:50.568%\n",
      "Epoch : 2 [4000/8500 (47%)]\tLoss: 0.693542\t Accuracy:50.439%\n",
      "Epoch : 2 [4400/8500 (52%)]\tLoss: 0.692261\t Accuracy:50.778%\n",
      "Epoch : 2 [4800/8500 (56%)]\tLoss: 0.691172\t Accuracy:50.694%\n",
      "Epoch : 2 [5200/8500 (61%)]\tLoss: 0.691805\t Accuracy:50.547%\n",
      "Epoch : 2 [5600/8500 (66%)]\tLoss: 0.693273\t Accuracy:50.456%\n",
      "Epoch : 2 [6000/8500 (71%)]\tLoss: 0.693061\t Accuracy:50.492%\n",
      "Epoch : 2 [6400/8500 (75%)]\tLoss: 0.692890\t Accuracy:50.523%\n",
      "Epoch : 2 [6800/8500 (80%)]\tLoss: 0.692580\t Accuracy:50.333%\n",
      "Epoch : 2 [7200/8500 (85%)]\tLoss: 0.693714\t Accuracy:50.247%\n",
      "Epoch : 2 [7600/8500 (89%)]\tLoss: 0.693773\t Accuracy:50.338%\n",
      "Epoch : 2 [8000/8500 (94%)]\tLoss: 0.693592\t Accuracy:50.173%\n",
      "Epoch : 2 [8400/8500 (99%)]\tLoss: 0.694745\t Accuracy:50.224%\n",
      "Epoch : 3 [0/8500 (0%)]\tLoss: 0.693883\t Accuracy:52.000%\n",
      "Epoch : 3 [400/8500 (5%)]\tLoss: 0.693057\t Accuracy:50.800%\n",
      "Epoch : 3 [800/8500 (9%)]\tLoss: 0.693587\t Accuracy:51.556%\n",
      "Epoch : 3 [1200/8500 (14%)]\tLoss: 0.694708\t Accuracy:50.769%\n",
      "Epoch : 3 [1600/8500 (19%)]\tLoss: 0.693311\t Accuracy:50.647%\n",
      "Epoch : 3 [2000/8500 (24%)]\tLoss: 0.692227\t Accuracy:51.095%\n",
      "Epoch : 3 [2400/8500 (28%)]\tLoss: 0.694638\t Accuracy:50.360%\n",
      "Epoch : 3 [2800/8500 (33%)]\tLoss: 0.692174\t Accuracy:50.448%\n",
      "Epoch : 3 [3200/8500 (38%)]\tLoss: 0.694495\t Accuracy:50.727%\n",
      "Epoch : 3 [3600/8500 (42%)]\tLoss: 0.692441\t Accuracy:50.568%\n",
      "Epoch : 3 [4000/8500 (47%)]\tLoss: 0.693585\t Accuracy:50.439%\n",
      "Epoch : 3 [4400/8500 (52%)]\tLoss: 0.691878\t Accuracy:50.778%\n",
      "Epoch : 3 [4800/8500 (56%)]\tLoss: 0.691710\t Accuracy:50.694%\n",
      "Epoch : 3 [5200/8500 (61%)]\tLoss: 0.691927\t Accuracy:50.547%\n",
      "Epoch : 3 [5600/8500 (66%)]\tLoss: 0.693941\t Accuracy:50.456%\n",
      "Epoch : 3 [6000/8500 (71%)]\tLoss: 0.693004\t Accuracy:50.492%\n",
      "Epoch : 3 [6400/8500 (75%)]\tLoss: 0.691284\t Accuracy:50.523%\n",
      "Epoch : 3 [6800/8500 (80%)]\tLoss: 0.690502\t Accuracy:50.333%\n",
      "Epoch : 3 [7200/8500 (85%)]\tLoss: 0.695560\t Accuracy:50.247%\n",
      "Epoch : 3 [7600/8500 (89%)]\tLoss: 0.693529\t Accuracy:50.338%\n",
      "Epoch : 3 [8000/8500 (94%)]\tLoss: 0.689300\t Accuracy:50.173%\n",
      "Epoch : 3 [8400/8500 (99%)]\tLoss: 0.694672\t Accuracy:50.224%\n",
      "Epoch : 4 [0/8500 (0%)]\tLoss: 0.694448\t Accuracy:52.000%\n",
      "Epoch : 4 [400/8500 (5%)]\tLoss: 0.687263\t Accuracy:50.800%\n",
      "Epoch : 4 [800/8500 (9%)]\tLoss: 0.697035\t Accuracy:51.556%\n",
      "Epoch : 4 [1200/8500 (14%)]\tLoss: 0.694722\t Accuracy:50.769%\n",
      "Epoch : 4 [1600/8500 (19%)]\tLoss: 0.693241\t Accuracy:50.647%\n",
      "Epoch : 4 [2000/8500 (24%)]\tLoss: 0.692016\t Accuracy:51.095%\n",
      "Epoch : 4 [2400/8500 (28%)]\tLoss: 0.693370\t Accuracy:50.360%\n",
      "Epoch : 4 [2800/8500 (33%)]\tLoss: 0.692195\t Accuracy:50.448%\n",
      "Epoch : 4 [3200/8500 (38%)]\tLoss: 0.693091\t Accuracy:50.727%\n",
      "Epoch : 4 [3600/8500 (42%)]\tLoss: 0.699161\t Accuracy:50.568%\n",
      "Epoch : 4 [4000/8500 (47%)]\tLoss: 0.693447\t Accuracy:50.439%\n",
      "Epoch : 4 [4400/8500 (52%)]\tLoss: 0.692769\t Accuracy:50.778%\n",
      "Epoch : 4 [4800/8500 (56%)]\tLoss: 0.691236\t Accuracy:50.694%\n",
      "Epoch : 4 [5200/8500 (61%)]\tLoss: 0.692047\t Accuracy:50.547%\n",
      "Epoch : 4 [5600/8500 (66%)]\tLoss: 0.693073\t Accuracy:50.456%\n",
      "Epoch : 4 [6000/8500 (71%)]\tLoss: 0.693032\t Accuracy:50.492%\n",
      "Epoch : 4 [6400/8500 (75%)]\tLoss: 0.687062\t Accuracy:50.523%\n",
      "Epoch : 4 [6800/8500 (80%)]\tLoss: 0.686303\t Accuracy:50.333%\n",
      "Epoch : 4 [7200/8500 (85%)]\tLoss: 0.706677\t Accuracy:50.247%\n",
      "Epoch : 4 [7600/8500 (89%)]\tLoss: 0.693497\t Accuracy:50.338%\n",
      "Epoch : 4 [8000/8500 (94%)]\tLoss: 0.692187\t Accuracy:50.173%\n",
      "Epoch : 4 [8400/8500 (99%)]\tLoss: 0.694474\t Accuracy:50.224%\n",
      "Epoch : 5 [0/8500 (0%)]\tLoss: 0.693755\t Accuracy:52.000%\n",
      "Epoch : 5 [400/8500 (5%)]\tLoss: 0.686480\t Accuracy:50.800%\n",
      "Epoch : 5 [800/8500 (9%)]\tLoss: 0.686210\t Accuracy:51.556%\n",
      "Epoch : 5 [1200/8500 (14%)]\tLoss: 0.695006\t Accuracy:50.769%\n",
      "Epoch : 5 [1600/8500 (19%)]\tLoss: 0.693357\t Accuracy:50.647%\n",
      "Epoch : 5 [2000/8500 (24%)]\tLoss: 0.692143\t Accuracy:51.095%\n",
      "Epoch : 5 [2400/8500 (28%)]\tLoss: 0.693268\t Accuracy:50.360%\n",
      "Epoch : 5 [2800/8500 (33%)]\tLoss: 0.692504\t Accuracy:50.448%\n",
      "Epoch : 5 [3200/8500 (38%)]\tLoss: 0.698843\t Accuracy:50.727%\n",
      "Epoch : 5 [3600/8500 (42%)]\tLoss: 0.685281\t Accuracy:50.568%\n",
      "Epoch : 5 [4000/8500 (47%)]\tLoss: 0.693413\t Accuracy:50.439%\n",
      "Epoch : 5 [4400/8500 (52%)]\tLoss: 0.692745\t Accuracy:50.778%\n",
      "Epoch : 5 [4800/8500 (56%)]\tLoss: 0.678895\t Accuracy:50.694%\n",
      "Epoch : 5 [5200/8500 (61%)]\tLoss: 0.692065\t Accuracy:50.547%\n",
      "Epoch : 5 [5600/8500 (66%)]\tLoss: 0.691860\t Accuracy:50.456%\n",
      "Epoch : 5 [6000/8500 (71%)]\tLoss: 0.693059\t Accuracy:50.492%\n",
      "Epoch : 5 [6400/8500 (75%)]\tLoss: 0.687094\t Accuracy:50.523%\n",
      "Epoch : 5 [6800/8500 (80%)]\tLoss: 0.686385\t Accuracy:50.333%\n",
      "Epoch : 5 [7200/8500 (85%)]\tLoss: 0.688895\t Accuracy:50.247%\n",
      "Epoch : 5 [7600/8500 (89%)]\tLoss: 0.693411\t Accuracy:50.338%\n",
      "Epoch : 5 [8000/8500 (94%)]\tLoss: 0.690741\t Accuracy:50.173%\n",
      "Epoch : 5 [8400/8500 (99%)]\tLoss: 0.694777\t Accuracy:50.224%\n",
      "Epoch : 6 [0/8500 (0%)]\tLoss: 0.693983\t Accuracy:52.000%\n",
      "Epoch : 6 [400/8500 (5%)]\tLoss: 0.687367\t Accuracy:50.800%\n",
      "Epoch : 6 [800/8500 (9%)]\tLoss: 0.687766\t Accuracy:51.556%\n",
      "Epoch : 6 [1200/8500 (14%)]\tLoss: 0.694425\t Accuracy:50.769%\n",
      "Epoch : 6 [1600/8500 (19%)]\tLoss: 0.693335\t Accuracy:50.647%\n",
      "Epoch : 6 [2000/8500 (24%)]\tLoss: 0.692193\t Accuracy:51.095%\n",
      "Epoch : 6 [2400/8500 (28%)]\tLoss: 0.693287\t Accuracy:50.360%\n",
      "Epoch : 6 [2800/8500 (33%)]\tLoss: 0.692464\t Accuracy:50.448%\n",
      "Epoch : 6 [3200/8500 (38%)]\tLoss: 0.687055\t Accuracy:50.727%\n",
      "Epoch : 6 [3600/8500 (42%)]\tLoss: 0.686452\t Accuracy:50.568%\n",
      "Epoch : 6 [4000/8500 (47%)]\tLoss: 0.693166\t Accuracy:50.439%\n",
      "Epoch : 6 [4400/8500 (52%)]\tLoss: 0.694318\t Accuracy:50.778%\n",
      "Epoch : 6 [4800/8500 (56%)]\tLoss: 0.678151\t Accuracy:50.694%\n",
      "Epoch : 6 [5200/8500 (61%)]\tLoss: 0.691801\t Accuracy:50.547%\n",
      "Epoch : 6 [5600/8500 (66%)]\tLoss: 0.688002\t Accuracy:50.456%\n",
      "Epoch : 6 [6000/8500 (71%)]\tLoss: 0.692907\t Accuracy:50.492%\n",
      "Epoch : 6 [6400/8500 (75%)]\tLoss: 0.686906\t Accuracy:50.523%\n",
      "Epoch : 6 [6800/8500 (80%)]\tLoss: 0.686991\t Accuracy:50.333%\n",
      "Epoch : 6 [7200/8500 (85%)]\tLoss: 0.690415\t Accuracy:50.247%\n",
      "Epoch : 6 [7600/8500 (89%)]\tLoss: 0.693213\t Accuracy:50.338%\n",
      "Epoch : 6 [8000/8500 (94%)]\tLoss: 0.691958\t Accuracy:50.173%\n",
      "Epoch : 6 [8400/8500 (99%)]\tLoss: 0.694384\t Accuracy:50.224%\n",
      "Epoch : 7 [0/8500 (0%)]\tLoss: 0.693732\t Accuracy:52.000%\n",
      "Epoch : 7 [400/8500 (5%)]\tLoss: 0.686485\t Accuracy:50.800%\n",
      "Epoch : 7 [800/8500 (9%)]\tLoss: 0.688239\t Accuracy:51.556%\n",
      "Epoch : 7 [1200/8500 (14%)]\tLoss: 0.697757\t Accuracy:50.769%\n",
      "Epoch : 7 [1600/8500 (19%)]\tLoss: 0.693102\t Accuracy:50.647%\n",
      "Epoch : 7 [2000/8500 (24%)]\tLoss: 0.696583\t Accuracy:51.095%\n",
      "Epoch : 7 [2400/8500 (28%)]\tLoss: 0.692276\t Accuracy:50.360%\n",
      "Epoch : 7 [2800/8500 (33%)]\tLoss: 0.692621\t Accuracy:50.448%\n",
      "Epoch : 7 [3200/8500 (38%)]\tLoss: 0.687653\t Accuracy:50.727%\n",
      "Epoch : 7 [3600/8500 (42%)]\tLoss: 0.686384\t Accuracy:50.568%\n",
      "Epoch : 7 [4000/8500 (47%)]\tLoss: 0.693646\t Accuracy:50.439%\n",
      "Epoch : 7 [4400/8500 (52%)]\tLoss: 0.691416\t Accuracy:50.778%\n",
      "Epoch : 7 [4800/8500 (56%)]\tLoss: 0.691956\t Accuracy:50.694%\n",
      "Epoch : 7 [5200/8500 (61%)]\tLoss: 0.698238\t Accuracy:50.547%\n",
      "Epoch : 7 [5600/8500 (66%)]\tLoss: 0.700211\t Accuracy:50.456%\n",
      "Epoch : 7 [6000/8500 (71%)]\tLoss: 0.692716\t Accuracy:50.492%\n",
      "Epoch : 7 [6400/8500 (75%)]\tLoss: 0.687503\t Accuracy:50.523%\n",
      "Epoch : 7 [6800/8500 (80%)]\tLoss: 0.686749\t Accuracy:50.333%\n",
      "Epoch : 7 [7200/8500 (85%)]\tLoss: 0.689577\t Accuracy:50.247%\n",
      "Epoch : 7 [7600/8500 (89%)]\tLoss: 0.693251\t Accuracy:50.338%\n",
      "Epoch : 7 [8000/8500 (94%)]\tLoss: 0.686653\t Accuracy:50.173%\n",
      "Epoch : 7 [8400/8500 (99%)]\tLoss: 0.694619\t Accuracy:50.224%\n",
      "Epoch : 8 [0/8500 (0%)]\tLoss: 0.693905\t Accuracy:52.000%\n",
      "Epoch : 8 [400/8500 (5%)]\tLoss: 0.690294\t Accuracy:50.800%\n",
      "Epoch : 8 [800/8500 (9%)]\tLoss: 0.686645\t Accuracy:51.556%\n",
      "Epoch : 8 [1200/8500 (14%)]\tLoss: 0.694371\t Accuracy:50.769%\n",
      "Epoch : 8 [1600/8500 (19%)]\tLoss: 0.693271\t Accuracy:50.647%\n",
      "Epoch : 8 [2000/8500 (24%)]\tLoss: 0.692220\t Accuracy:51.095%\n",
      "Epoch : 8 [2400/8500 (28%)]\tLoss: 0.693260\t Accuracy:50.360%\n",
      "Epoch : 8 [2800/8500 (33%)]\tLoss: 0.692541\t Accuracy:50.448%\n",
      "Epoch : 8 [3200/8500 (38%)]\tLoss: 0.687222\t Accuracy:50.727%\n",
      "Epoch : 8 [3600/8500 (42%)]\tLoss: 0.689592\t Accuracy:50.568%\n",
      "Epoch : 8 [4000/8500 (47%)]\tLoss: 0.693318\t Accuracy:50.439%\n",
      "Epoch : 8 [4400/8500 (52%)]\tLoss: 0.694898\t Accuracy:50.778%\n",
      "Epoch : 8 [4800/8500 (56%)]\tLoss: 0.718647\t Accuracy:50.694%\n",
      "Epoch : 8 [5200/8500 (61%)]\tLoss: 0.691486\t Accuracy:50.547%\n",
      "Epoch : 8 [5600/8500 (66%)]\tLoss: 0.697621\t Accuracy:50.456%\n",
      "Epoch : 8 [6000/8500 (71%)]\tLoss: 0.692646\t Accuracy:50.492%\n",
      "Epoch : 8 [6400/8500 (75%)]\tLoss: 0.688324\t Accuracy:50.523%\n",
      "Epoch : 8 [6800/8500 (80%)]\tLoss: 0.687267\t Accuracy:50.333%\n",
      "Epoch : 8 [7200/8500 (85%)]\tLoss: 0.688827\t Accuracy:50.247%\n",
      "Epoch : 8 [7600/8500 (89%)]\tLoss: 0.693597\t Accuracy:50.338%\n",
      "Epoch : 8 [8000/8500 (94%)]\tLoss: 0.695527\t Accuracy:50.173%\n",
      "Epoch : 8 [8400/8500 (99%)]\tLoss: 0.695125\t Accuracy:50.224%\n",
      "Epoch : 9 [0/8500 (0%)]\tLoss: 0.694176\t Accuracy:52.000%\n",
      "Epoch : 9 [400/8500 (5%)]\tLoss: 0.686875\t Accuracy:50.800%\n",
      "Epoch : 9 [800/8500 (9%)]\tLoss: 0.686414\t Accuracy:51.556%\n",
      "Epoch : 9 [1200/8500 (14%)]\tLoss: 0.694152\t Accuracy:50.769%\n",
      "Epoch : 9 [1600/8500 (19%)]\tLoss: 0.693232\t Accuracy:50.647%\n",
      "Epoch : 9 [2000/8500 (24%)]\tLoss: 0.692333\t Accuracy:51.095%\n",
      "Epoch : 9 [2400/8500 (28%)]\tLoss: 0.693252\t Accuracy:50.360%\n",
      "Epoch : 9 [2800/8500 (33%)]\tLoss: 0.692220\t Accuracy:50.448%\n",
      "Epoch : 9 [3200/8500 (38%)]\tLoss: 0.687630\t Accuracy:50.727%\n",
      "Epoch : 9 [3600/8500 (42%)]\tLoss: 0.685268\t Accuracy:50.568%\n",
      "Epoch : 9 [4000/8500 (47%)]\tLoss: 0.694308\t Accuracy:50.439%\n",
      "Epoch : 9 [4400/8500 (52%)]\tLoss: 0.689935\t Accuracy:50.778%\n",
      "Epoch : 9 [4800/8500 (56%)]\tLoss: 0.690915\t Accuracy:50.694%\n",
      "Epoch : 9 [5200/8500 (61%)]\tLoss: 0.691821\t Accuracy:50.547%\n",
      "Epoch : 9 [5600/8500 (66%)]\tLoss: 0.686613\t Accuracy:50.456%\n",
      "Epoch : 9 [6000/8500 (71%)]\tLoss: 0.693018\t Accuracy:50.492%\n",
      "Epoch : 9 [6400/8500 (75%)]\tLoss: 0.696164\t Accuracy:50.523%\n",
      "Epoch : 9 [6800/8500 (80%)]\tLoss: 0.689327\t Accuracy:50.333%\n",
      "Epoch : 9 [7200/8500 (85%)]\tLoss: 0.690107\t Accuracy:50.247%\n",
      "Epoch : 9 [7600/8500 (89%)]\tLoss: 0.693251\t Accuracy:50.338%\n",
      "Epoch : 9 [8000/8500 (94%)]\tLoss: 0.690958\t Accuracy:50.173%\n",
      "Epoch : 9 [8400/8500 (99%)]\tLoss: 0.694508\t Accuracy:50.224%\n",
      "--- 0.43672844966252644 minutes ---\n"
     ]
    }
   ],
   "source": [
    "#################################################################################\n",
    "#########                   start the training process                   ########\n",
    "#################################################################################\n",
    "# calculate the time for the code execution\n",
    "start_time = tt.time()\n",
    "# switch model into train mode\n",
    "model.train()\n",
    "\n",
    "# function to calculate accuracy\n",
    "def accuracy(y_pred, y_true):\n",
    "    y_pred = torch.round(torch.sigmoid(y_pred))\n",
    "    return (y_pred == y_true).sum() / len(y_pred)\n",
    "\n",
    "for epoch in range(config.epoch):\n",
    "    correct = 0\n",
    "    for batch_idx, (X_batch, y_batch) in enumerate(train_loader):\n",
    "        var_X_batch = torch.autograd.Variable(X_batch).float()\n",
    "        var_y_batch = torch.autograd.Variable(y_batch).float()\n",
    "        optimizer.zero_grad()\n",
    "        output = model(var_X_batch).squeeze(1)\n",
    "        #print(output.detach().numpy())\n",
    "        loss = criterion(output, var_y_batch)\n",
    "        loss.backward()\n",
    "        optimizer.step()\n",
    "\n",
    "        # Total correct predictions\n",
    "        #predicted = torch.max(output.data, 1)[1]\n",
    "        predicted = torch.round(torch.sigmoid(output))\n",
    "        correct += (predicted == var_y_batch).sum()\n",
    "        #print(correct)\n",
    "        wandb.log({'train_loss': loss.item(), 'train_acc': float(correct*100) / float(config.batch_size*(batch_idx+1))})\n",
    "        if batch_idx % 4 == 0:\n",
    "            print('Epoch : {} [{}/{} ({:.0f}%)]\\tLoss: {:.6f}\\t Accuracy:{:.3f}%'.format(\n",
    "                  epoch, batch_idx*len(X_batch), len(train_loader.dataset), 100.* batch_idx / len(train_loader),\n",
    "                  loss.item(), float(correct*100) / float(config.batch_size*(batch_idx+1))))\n",
    "\n",
    "# save the general checkpoint\n",
    "torch.save({\n",
    "            'epoch': epoch,\n",
    "            'model_state_dict': model.state_dict(),\n",
    "            'optimizer_state_dict': optimizer.state_dict(),\n",
    "            'loss': loss.item()\n",
    "            }, os.path.join(output_path,'shapesnet_training_checkpoint.pt'))\n",
    "\n",
    "print (\"--- %s minutes ---\" % ((tt.time() - start_time)/60))"
   ]
  },
  {
   "cell_type": "code",
   "execution_count": 10,
   "metadata": {},
   "outputs": [
    {
     "output_type": "stream",
     "name": "stdout",
     "text": [
      "Test accuracy:51.251% \n"
     ]
    }
   ],
   "source": [
    "#################################################################################\n",
    "#########                  start the evaluation process                  ########\n",
    "#################################################################################\n",
    "# switch model into evaluation mode\n",
    "model.eval()\n",
    "correct = 0\n",
    "for test_imgs, test_labels in test_loader:\n",
    "    #print(test_imgs.shape)\n",
    "    test_imgs = torch.autograd.Variable(test_imgs).float()\n",
    "    output = model(test_imgs)\n",
    "    #predicted = torch.max(output,1)[1]\n",
    "    predicted = torch.round(torch.sigmoid(output))\n",
    "    correct += (predicted == test_labels).sum()\n",
    "print(\"Test accuracy:{:.3f}% \".format(float(correct) / (len(test_loader)*config.batch_size)))\n"
   ]
  },
  {
   "cell_type": "code",
   "execution_count": 11,
   "metadata": {},
   "outputs": [
    {
     "output_type": "stream",
     "name": "stdout",
     "text": [
      "[0. 0. 0. 0. 0. 0. 0. 0. 0. 0. 0. 0. 0. 0. 0. 0. 0. 0. 0. 0.]\nPredictions: None\n[0 0 1 1 0 0 0 1 0 0 1 1 1 1 1 1 1 0 1 1]\nGround Truth: None\n"
     ]
    },
    {
     "output_type": "display_data",
     "data": {
      "text/plain": "<Figure size 288x288 with 16 Axes>",
      "image/svg+xml": "<?xml version=\"1.0\" encoding=\"utf-8\" standalone=\"no\"?>\n<!DOCTYPE svg PUBLIC \"-//W3C//DTD SVG 1.1//EN\"\n  \"http://www.w3.org/Graphics/SVG/1.1/DTD/svg11.dtd\">\n<!-- Created with matplotlib (https://matplotlib.org/) -->\n<svg height=\"279.87875pt\" version=\"1.1\" viewBox=\"0 0 266.86087 279.87875\" width=\"266.86087pt\" xmlns=\"http://www.w3.org/2000/svg\" xmlns:xlink=\"http://www.w3.org/1999/xlink\">\n <defs>\n  <style type=\"text/css\">\n*{stroke-linecap:butt;stroke-linejoin:round;}\n  </style>\n </defs>\n <g id=\"figure_1\">\n  <g id=\"patch_1\">\n   <path d=\"M 0 279.87875 \nL 266.86087 279.87875 \nL 266.86087 0 \nL 0 0 \nz\n\" style=\"fill:none;\"/>\n  </g>\n  <g id=\"axes_1\">\n   <g clip-path=\"url(#p8159f1b321)\">\n    <image height=\"46\" id=\"image82bbeeb782\" transform=\"scale(1 -1)translate(0 -46)\" width=\"46\" x=\"7.2\" xlink:href=\"data:image/png;base64,\niVBORw0KGgoAAAANSUhEUgAAAC4AAAAuCAYAAABXuSs3AAAABHNCSVQICAgIfAhkiAAABA9JREFUaIHtmctLOl0Yx79HB81CS43pYthFKLG2oauCgqDoAq2K2lREm/6Id9uqfVE7iTZCEbmIXASB0iKKEl3YBRoyEa2RvKHju4hefi/MTR2T4PdZes6Z82HO8TnPeYZQFFXCL0RVb4FK+Sv+0/xacUqpBxFC0NjYCKPRiKamJlAUBUIIOI5DLpcDy7L4+PhAPp9XZL6qxSmKgsPhwPDwMCwWC3p7e9HW1gadTgcA4DgOLMvi5eUFz8/PiEQi8Pv9iEajKJUqD2ik0nDY0NCAoaEhLC0toa+vDyaTCSqV9M7LZrOIx+MIBAJwu92Ix+MoFou1FyeEoL+/HwsLCxgbGwNFVb5osVgMHo8HR0dHYFm2rLFli4+OjmJ9fR09PT0ghJQ1GR+FQgHn5+fY29sDwzCyx8kW12g0mJ2dxcrKClpaWioW5YPjOASDQWxvbyMUCskao1apVP/I6Tg1NYWNjQ00NzdX48gLIQQ0TcNms+H6+hqpVEpyjKw4brfbsbq6CoPBULWkGA6HA2tra7LmkRSnaRqbm5ugaVoROVEZlQrj4+OYm5uDWq0W7yv1oJGREQwODioqKAZFUZifn0dra6toP1Fxo9GIxcVFaDQaReWkoGkay8vLolFLVNzlcqG9vV1xMTk4nU7RuQXFCSGYnJysiZQczGYzXC6XYLuguMViqdvbBr5SCpvNJrhNBcXtdjv0en3NxOTQ3d0teG6IvvHvDK9edHV1CcZ0QXGdTicZS2uNwWCAVqvlbeMVJ4TUXRr4OkeEUmXeX0ulUlVJvpIIeQhulXw+X3f5TCaDQqHA2yYonkgkFLsfVsrb2xs+Pz952wTFw+GwrPSyljw+PiKZTPK2CYpHIpGyr1NKwnEcGIZBOp3mbRcUz2azCAQCNROTIpFI4Orqqvw/JwCcnJwgl8vVREyKh4cHBINBwXZR8dfXV5ydnf14dCkUCnC73YIRBZAQz+VyOD4+Luv2XS2lUgk+nw93d3ei/SSvbqFQCB6P58dC49PTEw4PD5HNZkX7SYoXi0V4PB74fL6KKk7l8P7+jt3dXYTDYcm+ssoTHMfh/v4enZ2dsFqtskpt5cKyLPb39+H1emX1l11XyWQyuLm5gdlshtVqVTQJi8Vi2NnZwenpqexVlS0OfMn7/X6k02lYLBbo9fqqynD5fB63t7fY2trC5eVlWVuxomqtWq2G3W7HzMwMJiYmBHNmMaLRKA4ODnBxcYFYLFb2+IrLzACg1WrR0dGB6elpOJ1OGAwG6PV6aDSa/61EsVhEJpNBKpVCNBqF1+uF3+9HMpkEx3EVzV2V+J98X24HBgZgMpn+k/+WZhgGoVAIDMMocqApJs77cEJqdurW9ONVLVOFX/vV7a/4T/Nrxf8FYJyCDkzYuO8AAAAASUVORK5CYII=\" y=\"-18.77875\"/>\n   </g>\n   <g id=\"text_1\">\n    <!-- circle -->\n    <defs>\n     <path d=\"M 48.78125 52.59375 \nL 48.78125 44.1875 \nQ 44.96875 46.296875 41.140625 47.34375 \nQ 37.3125 48.390625 33.40625 48.390625 \nQ 24.65625 48.390625 19.8125 42.84375 \nQ 14.984375 37.3125 14.984375 27.296875 \nQ 14.984375 17.28125 19.8125 11.734375 \nQ 24.65625 6.203125 33.40625 6.203125 \nQ 37.3125 6.203125 41.140625 7.25 \nQ 44.96875 8.296875 48.78125 10.40625 \nL 48.78125 2.09375 \nQ 45.015625 0.34375 40.984375 -0.53125 \nQ 36.96875 -1.421875 32.421875 -1.421875 \nQ 20.0625 -1.421875 12.78125 6.34375 \nQ 5.515625 14.109375 5.515625 27.296875 \nQ 5.515625 40.671875 12.859375 48.328125 \nQ 20.21875 56 33.015625 56 \nQ 37.15625 56 41.109375 55.140625 \nQ 45.0625 54.296875 48.78125 52.59375 \nz\n\" id=\"DejaVuSans-99\"/>\n     <path d=\"M 9.421875 54.6875 \nL 18.40625 54.6875 \nL 18.40625 0 \nL 9.421875 0 \nz\nM 9.421875 75.984375 \nL 18.40625 75.984375 \nL 18.40625 64.59375 \nL 9.421875 64.59375 \nz\n\" id=\"DejaVuSans-105\"/>\n     <path d=\"M 41.109375 46.296875 \nQ 39.59375 47.171875 37.8125 47.578125 \nQ 36.03125 48 33.890625 48 \nQ 26.265625 48 22.1875 43.046875 \nQ 18.109375 38.09375 18.109375 28.8125 \nL 18.109375 0 \nL 9.078125 0 \nL 9.078125 54.6875 \nL 18.109375 54.6875 \nL 18.109375 46.1875 \nQ 20.953125 51.171875 25.484375 53.578125 \nQ 30.03125 56 36.53125 56 \nQ 37.453125 56 38.578125 55.875 \nQ 39.703125 55.765625 41.0625 55.515625 \nz\n\" id=\"DejaVuSans-114\"/>\n     <path d=\"M 9.421875 75.984375 \nL 18.40625 75.984375 \nL 18.40625 0 \nL 9.421875 0 \nz\n\" id=\"DejaVuSans-108\"/>\n     <path d=\"M 56.203125 29.59375 \nL 56.203125 25.203125 \nL 14.890625 25.203125 \nQ 15.484375 15.921875 20.484375 11.0625 \nQ 25.484375 6.203125 34.421875 6.203125 \nQ 39.59375 6.203125 44.453125 7.46875 \nQ 49.3125 8.734375 54.109375 11.28125 \nL 54.109375 2.78125 \nQ 49.265625 0.734375 44.1875 -0.34375 \nQ 39.109375 -1.421875 33.890625 -1.421875 \nQ 20.796875 -1.421875 13.15625 6.1875 \nQ 5.515625 13.8125 5.515625 26.8125 \nQ 5.515625 40.234375 12.765625 48.109375 \nQ 20.015625 56 32.328125 56 \nQ 43.359375 56 49.78125 48.890625 \nQ 56.203125 41.796875 56.203125 29.59375 \nz\nM 47.21875 32.234375 \nQ 47.125 39.59375 43.09375 43.984375 \nQ 39.0625 48.390625 32.421875 48.390625 \nQ 24.90625 48.390625 20.390625 44.140625 \nQ 15.875 39.890625 15.1875 32.171875 \nz\n\" id=\"DejaVuSans-101\"/>\n    </defs>\n    <g transform=\"translate(19.313125 13.27875)scale(0.08 -0.08)\">\n     <use xlink:href=\"#DejaVuSans-99\"/>\n     <use x=\"54.980469\" xlink:href=\"#DejaVuSans-105\"/>\n     <use x=\"82.763672\" xlink:href=\"#DejaVuSans-114\"/>\n     <use x=\"121.626953\" xlink:href=\"#DejaVuSans-99\"/>\n     <use x=\"176.607422\" xlink:href=\"#DejaVuSans-108\"/>\n     <use x=\"204.390625\" xlink:href=\"#DejaVuSans-101\"/>\n    </g>\n   </g>\n  </g>\n  <g id=\"axes_2\">\n   <g clip-path=\"url(#p064eb307b9)\">\n    <image height=\"46\" id=\"image5e896f8113\" transform=\"scale(1 -1)translate(0 -46)\" width=\"46\" x=\"76.186957\" xlink:href=\"data:image/png;base64,\niVBORw0KGgoAAAANSUhEUgAAAC4AAAAuCAYAAABXuSs3AAAABHNCSVQICAgIfAhkiAAAAvpJREFUaIHVmWlygzAMRj8ZbJZAev/T9QxlcbGN7f6CgbAEshD6ZpihrK9ESJah7+9vj38I+7TAo4TPXoCI+iUIAnDOEYYhGGMgInjvYa2FMQbGGHjv4ZyD98/90A+LExE45xBCIIoiCCE2neecg1IKWmsopWCtfej+u8W7J5tlGYQQCIJg1/mMMSRJgiRJYIxB0zSQUsI5t+s6u8SDIECaprhcLiCiXTeag3MOzjniOEZd12iaZnMIbRYXQiDP880hsQfOOb6+viCEQFmWm57+XXEiQhRFuF6vu8NiD0SENE3BGENZlmjbdvX4VXEiQpIkyPMcjB2TOeM4BmMMPz8/q/KrNpzzQ6U7urBcu+/injAMcb1eD5fuiOMYeZ4vJoFZK8YYsiwD5/ytcvdIkgRxHM/umxUXQiyecCREhMvlMvurT7YQEbIse0mefgWcc6RpOtk+EY+i6OMhckscx5NUPBLvcunZ4JwjiqLRNnZ7QBg+PWB8C0KIUfiOxMMwfGt1fIYoikYvab9GRKd92gD68X3/d7dydnEAo6Tx/8UBfKy8b2X4/p3b9IbFrHJ2ht0RW9pxRoadUS/eTSOcmWFjMRI3xnxEaCtDv1Go3OvzPs0wIiahsnd+4yi01ssvpzHmtE9dKbUsbq2F1vpwqXt0XoviAB6aDns3WutJ4piIO+cgpTxM6h7ee1RVNakxE3HvPX5/f0+TGuu6nq0vsyW/bdvZ//JotNaQUs56LI5VlFKo6/qtYmtYa1GW5WI1XxT33qOu64/Eu3MORVGsZrjV0aFzDlVVHSrvnENZllBKrR53t+Wx1qIoCjjnXjahv4QxBkVR9N+K1tjUq3UpyRjzljlF7z2apkFVVZsr9+Yms7t427ZIkqSfhH8WYwyqqoLWelfh290dd6lSSok0TSGE6D8PbsVai7ZtIaWcjEG28lBb340ky7Icfdvs1oMgGL0Lzjm0bTtatsTxy8WHWGthre1Fu4+1t3jv++UVvGwipRM6qtr+qy5/yB+Ln5KiWdqDPgAAAABJRU5ErkJggg==\" y=\"-18.77875\"/>\n   </g>\n   <g id=\"text_2\">\n    <!-- circle -->\n    <g transform=\"translate(88.300082 13.27875)scale(0.08 -0.08)\">\n     <use xlink:href=\"#DejaVuSans-99\"/>\n     <use x=\"54.980469\" xlink:href=\"#DejaVuSans-105\"/>\n     <use x=\"82.763672\" xlink:href=\"#DejaVuSans-114\"/>\n     <use x=\"121.626953\" xlink:href=\"#DejaVuSans-99\"/>\n     <use x=\"176.607422\" xlink:href=\"#DejaVuSans-108\"/>\n     <use x=\"204.390625\" xlink:href=\"#DejaVuSans-101\"/>\n    </g>\n   </g>\n  </g>\n  <g id=\"axes_3\">\n   <g clip-path=\"url(#p00bdaf9141)\">\n    <image height=\"46\" id=\"image123e10f62e\" transform=\"scale(1 -1)translate(0 -46)\" width=\"46\" x=\"145.173913\" xlink:href=\"data:image/png;base64,\niVBORw0KGgoAAAANSUhEUgAAAC4AAAAuCAYAAABXuSs3AAAABHNCSVQICAgIfAhkiAAAAfpJREFUaIHtl92qqkAYht/JbdmfdBhdRZfQfXcFHVgWCoKFVhpBSRn+lKKzj3astYm9Sm02wTwnHjjj+yj4fd+Q0WhE8YHU/rdAUbg4a7g4a7g4a7g4a7g4a7g4a7g4a36xDBMEAfV6HZIkodVqIQgC+L5f6FmlxAkhAIBarQZCCAghEAQBzWYTnU4HvV4Psiyj3W6j0WhAEAQIggBRFJHnOcbjceHsQuKEEPT7fQwGA8iyDFmW0e1273JfX+rP9W8sy8LpdCqoXVCcUgpJkjAcDiGK4sv78zyHrutFou8U/jlt24au66D09SOr4zg4Ho9FowGUEKeUYj6fw3Gcl/alaQrLsnC9XotGAyhZDuM4hqIouFwuT+85n8/YbrdlYgFUUMf3+z2m0ymyLPtxLaUUtm0jCIKysdU0INM0YZrmj+uSJIFhGFVEViOeZRlmsxl2u90/1xmGgSiKqoisruX7vg9FURDH8cP7URTBsqxCVegRlc4qrutCVdWHcq7rwvO8yrIqH7IMw8ByufwmnyQJVqsV0jStLKdy8dvtBlVVv7Vz3/crKYFfectY63keJpPJ/QsvFounyuUrvG0e32w20DQNh8Ph5e76DG+bxyml0DQN6/W6dHt/xFsPEmEYIgzDtzz7Y49uXJw1XJw1XJw1XJw1XJw1Hyv+G41k173O61qEAAAAAElFTkSuQmCC\" y=\"-18.77875\"/>\n   </g>\n   <g id=\"text_3\">\n    <!-- triangle -->\n    <defs>\n     <path d=\"M 18.3125 70.21875 \nL 18.3125 54.6875 \nL 36.8125 54.6875 \nL 36.8125 47.703125 \nL 18.3125 47.703125 \nL 18.3125 18.015625 \nQ 18.3125 11.328125 20.140625 9.421875 \nQ 21.96875 7.515625 27.59375 7.515625 \nL 36.8125 7.515625 \nL 36.8125 0 \nL 27.59375 0 \nQ 17.1875 0 13.234375 3.875 \nQ 9.28125 7.765625 9.28125 18.015625 \nL 9.28125 47.703125 \nL 2.6875 47.703125 \nL 2.6875 54.6875 \nL 9.28125 54.6875 \nL 9.28125 70.21875 \nz\n\" id=\"DejaVuSans-116\"/>\n     <path d=\"M 34.28125 27.484375 \nQ 23.390625 27.484375 19.1875 25 \nQ 14.984375 22.515625 14.984375 16.5 \nQ 14.984375 11.71875 18.140625 8.90625 \nQ 21.296875 6.109375 26.703125 6.109375 \nQ 34.1875 6.109375 38.703125 11.40625 \nQ 43.21875 16.703125 43.21875 25.484375 \nL 43.21875 27.484375 \nz\nM 52.203125 31.203125 \nL 52.203125 0 \nL 43.21875 0 \nL 43.21875 8.296875 \nQ 40.140625 3.328125 35.546875 0.953125 \nQ 30.953125 -1.421875 24.3125 -1.421875 \nQ 15.921875 -1.421875 10.953125 3.296875 \nQ 6 8.015625 6 15.921875 \nQ 6 25.140625 12.171875 29.828125 \nQ 18.359375 34.515625 30.609375 34.515625 \nL 43.21875 34.515625 \nL 43.21875 35.40625 \nQ 43.21875 41.609375 39.140625 45 \nQ 35.0625 48.390625 27.6875 48.390625 \nQ 23 48.390625 18.546875 47.265625 \nQ 14.109375 46.140625 10.015625 43.890625 \nL 10.015625 52.203125 \nQ 14.9375 54.109375 19.578125 55.046875 \nQ 24.21875 56 28.609375 56 \nQ 40.484375 56 46.34375 49.84375 \nQ 52.203125 43.703125 52.203125 31.203125 \nz\n\" id=\"DejaVuSans-97\"/>\n     <path d=\"M 54.890625 33.015625 \nL 54.890625 0 \nL 45.90625 0 \nL 45.90625 32.71875 \nQ 45.90625 40.484375 42.875 44.328125 \nQ 39.84375 48.1875 33.796875 48.1875 \nQ 26.515625 48.1875 22.3125 43.546875 \nQ 18.109375 38.921875 18.109375 30.90625 \nL 18.109375 0 \nL 9.078125 0 \nL 9.078125 54.6875 \nL 18.109375 54.6875 \nL 18.109375 46.1875 \nQ 21.34375 51.125 25.703125 53.5625 \nQ 30.078125 56 35.796875 56 \nQ 45.21875 56 50.046875 50.171875 \nQ 54.890625 44.34375 54.890625 33.015625 \nz\n\" id=\"DejaVuSans-110\"/>\n     <path d=\"M 45.40625 27.984375 \nQ 45.40625 37.75 41.375 43.109375 \nQ 37.359375 48.484375 30.078125 48.484375 \nQ 22.859375 48.484375 18.828125 43.109375 \nQ 14.796875 37.75 14.796875 27.984375 \nQ 14.796875 18.265625 18.828125 12.890625 \nQ 22.859375 7.515625 30.078125 7.515625 \nQ 37.359375 7.515625 41.375 12.890625 \nQ 45.40625 18.265625 45.40625 27.984375 \nz\nM 54.390625 6.78125 \nQ 54.390625 -7.171875 48.1875 -13.984375 \nQ 42 -20.796875 29.203125 -20.796875 \nQ 24.46875 -20.796875 20.265625 -20.09375 \nQ 16.0625 -19.390625 12.109375 -17.921875 \nL 12.109375 -9.1875 \nQ 16.0625 -11.328125 19.921875 -12.34375 \nQ 23.78125 -13.375 27.78125 -13.375 \nQ 36.625 -13.375 41.015625 -8.765625 \nQ 45.40625 -4.15625 45.40625 5.171875 \nL 45.40625 9.625 \nQ 42.625 4.78125 38.28125 2.390625 \nQ 33.9375 0 27.875 0 \nQ 17.828125 0 11.671875 7.65625 \nQ 5.515625 15.328125 5.515625 27.984375 \nQ 5.515625 40.671875 11.671875 48.328125 \nQ 17.828125 56 27.875 56 \nQ 33.9375 56 38.28125 53.609375 \nQ 42.625 51.21875 45.40625 46.390625 \nL 45.40625 54.6875 \nL 54.390625 54.6875 \nz\n\" id=\"DejaVuSans-103\"/>\n    </defs>\n    <g transform=\"translate(152.502038 13.27875)scale(0.08 -0.08)\">\n     <use xlink:href=\"#DejaVuSans-116\"/>\n     <use x=\"39.208984\" xlink:href=\"#DejaVuSans-114\"/>\n     <use x=\"80.322266\" xlink:href=\"#DejaVuSans-105\"/>\n     <use x=\"108.105469\" xlink:href=\"#DejaVuSans-97\"/>\n     <use x=\"169.384766\" xlink:href=\"#DejaVuSans-110\"/>\n     <use x=\"232.763672\" xlink:href=\"#DejaVuSans-103\"/>\n     <use x=\"296.240234\" xlink:href=\"#DejaVuSans-108\"/>\n     <use x=\"324.023438\" xlink:href=\"#DejaVuSans-101\"/>\n    </g>\n   </g>\n  </g>\n  <g id=\"axes_4\">\n   <g clip-path=\"url(#p20f862cd91)\">\n    <image height=\"46\" id=\"image073c518520\" transform=\"scale(1 -1)translate(0 -46)\" width=\"46\" x=\"214.16087\" xlink:href=\"data:image/png;base64,\niVBORw0KGgoAAAANSUhEUgAAAC4AAAAuCAYAAABXuSs3AAAABHNCSVQICAgIfAhkiAAAAbNJREFUaIHtmFGuozAMRa9Nkv3vsMsACrHnywyaUYE4Ia9P4nyhSjRHxrGd0Ov1UvxC+KcFvDzivXnEe/OI9+YR781XiBMRiKjonXCTyylEhGEYwMwgIrzf76L3u4lbRJkZIQSEELZI55yhWjYy3SpuYsyMYRgQQgDz/9mZcy7+71vEmRnMjBjj9nzEuq7FazQRt6gSEVJK2/NVRKR4Tbf4fnNZGnjwSAMF4vvNtU+B0jL2L540AU7E95trXwla4qkowIWIxxiRUnJJneERNg63u6piWRb35zxDRNw5ftryRQTTNGFZFtcCR6iqO+qXZhVVxTzPzeVF5F5x4K986UxxhKdjGkXFV1U38RhjVYVR1Srx4rHW5KdpqqoKNfkNOOdxVcW6rlXytZWq6iCRc3bL16QJUClukR/Hsbgee+u30eToZpG/GsVaaaDhmdPkr0h555M9TQ/LIoJxHE8jX9N4jOanfBsRPlUNVf2uVNlzNN98tTjweUSobTzGrRdC1mXned5+a5HfQId7FZvpASCl1Gy273IhZPIiUt0xjW43WdZlW/EVl54eHvHePOK9ecR78wdrSCTYTz58OQAAAABJRU5ErkJggg==\" y=\"-18.77875\"/>\n   </g>\n   <g id=\"text_4\">\n    <!-- triangle -->\n    <g transform=\"translate(221.488995 13.27875)scale(0.08 -0.08)\">\n     <use xlink:href=\"#DejaVuSans-116\"/>\n     <use x=\"39.208984\" xlink:href=\"#DejaVuSans-114\"/>\n     <use x=\"80.322266\" xlink:href=\"#DejaVuSans-105\"/>\n     <use x=\"108.105469\" xlink:href=\"#DejaVuSans-97\"/>\n     <use x=\"169.384766\" xlink:href=\"#DejaVuSans-110\"/>\n     <use x=\"232.763672\" xlink:href=\"#DejaVuSans-103\"/>\n     <use x=\"296.240234\" xlink:href=\"#DejaVuSans-108\"/>\n     <use x=\"324.023438\" xlink:href=\"#DejaVuSans-101\"/>\n    </g>\n   </g>\n  </g>\n  <g id=\"axes_5\">\n   <g clip-path=\"url(#p92ddf47b9b)\">\n    <image height=\"46\" id=\"image34446489ed\" transform=\"scale(1 -1)translate(0 -46)\" width=\"46\" x=\"7.2\" xlink:href=\"data:image/png;base64,\niVBORw0KGgoAAAANSUhEUgAAAC4AAAAuCAYAAABXuSs3AAAABHNCSVQICAgIfAhkiAAAAUpJREFUaIHtmEESwyAIRQV7ztz/EmJXdDKddvwIoWbq2ySLqC9EjUDHcfRyQ/jXArNs8Wy2eDa3FX9EdtZ7f131nog+Xr24xVWy915EZPg8Mxdmdr+AS1xEYOFzGxFxv8CUuMpahN/R9rXWwmxfauYWEdJnWmultfZaEygm8WhpZaZPWPwqacXaNyx+pbRimTKQuHXn8ICOA4lnSetYSNSH4pnRVqAf2egB6zYVARL12x6ylow4Mu5QPHt+K/87VVZlWfHRcXcoPnPkjMAtHpVqRbOkOJIZQeLZ0wUJFmSUGXU0D4XENbHNgIjixEvJ2V0sAYJtiKjUWqelhiLGr2oKIzNfIj9TYzF//2j52cLQVEFIB/Im0J5q1nQJTuc8EZnTu4j6obvoqQuKmb8WP8+S6HY3IqzMfBa6cvdRlj3Wjtji2WzxbLZ4Nk+H3radxinoeAAAAABJRU5ErkJggg==\" y=\"-88.07875\"/>\n   </g>\n   <g id=\"text_5\">\n    <!-- circle -->\n    <g transform=\"translate(19.313125 82.57875)scale(0.08 -0.08)\">\n     <use xlink:href=\"#DejaVuSans-99\"/>\n     <use x=\"54.980469\" xlink:href=\"#DejaVuSans-105\"/>\n     <use x=\"82.763672\" xlink:href=\"#DejaVuSans-114\"/>\n     <use x=\"121.626953\" xlink:href=\"#DejaVuSans-99\"/>\n     <use x=\"176.607422\" xlink:href=\"#DejaVuSans-108\"/>\n     <use x=\"204.390625\" xlink:href=\"#DejaVuSans-101\"/>\n    </g>\n   </g>\n  </g>\n  <g id=\"axes_6\">\n   <g clip-path=\"url(#peed1f358e1)\">\n    <image height=\"46\" id=\"image3bb53ba67d\" transform=\"scale(1 -1)translate(0 -46)\" width=\"46\" x=\"76.186957\" xlink:href=\"data:image/png;base64,\niVBORw0KGgoAAAANSUhEUgAAAC4AAAAuCAYAAABXuSs3AAAABHNCSVQICAgIfAhkiAAAA8JJREFUaIHVmdtyqjAUhv8QoFBEqKItdXrXt+j7P0c7nVGnVdFgKQebZF+ZlnpCq+L+ZpwRDPC5shJyIE9PTxL/IfqxbiSlRFEUyLIMi8UCnPPvh+g6LMuCZVmglB7leQeLSynBOUeWZZhOp5jP5+CcQwgBIQSk/K5ITdPUxzRNeJ4Hz/NgGMbBf2RvcSkl8jwHYwyTyQRpmu68hnOuaiDPc8zncwwGA/i+j2azCd/39/4De4lzzjEejzGZTJBlWSmq+yKEQBRFYIyBMYZutwvHcUAIqXR9ZfEkSTAcDhHH8Z+Ef8M5x3Q6RRzHuL29RRAEMAxj53U7xaWUYIyh3+8jy7KjyK6Dc47BYIAsyxCGISzL2lpe2/ajlBJRFOH19fWk0j+JoggvLy/I83xrua3iS+nFYnFUuV0kSYLn5+etwdoovmz5QoiTyO1i2aY2BW2teJ7nGA6HKIripHK7iKII4/F4bWewIi6lxGg0wnw+P4vcLt7e3pAkycr5FfEsyzAej88iVQXOOd7f30tDCOCXOOccw+FwpVDdxHGM2WxWOlcST9N0bbXUDecccRyXAqrEpZT4+PiovUFuYjablXoYJc45X6mOS0IIAcaYOi6Jf35+1iJVlZ+BVeJpmh518HQKiqJQea7EL7FR/kZKqYYBpYhfOkKIVfFzD6QOQQiBr68vAL+6w/+BpacSrzplqpulpxI/1rLBKSGEKE8lbppmbUJV0TRNzUeVeKPRqE2oKpqmqbmoErdtuzahqlBKVWaUUuXS06XRaKw2Tk3T4HlebVJVaLVa6nupV3EcB5q2deJfG7Zt4+rqSh2XLD3Pg+M4Z5faBSEE7XYbuv69flUS13UdrVbr4l5GlmXB87yS10pe3NzcXFTUl9H+mSbAGnFKKXq9XqWFx3PQbDYRBMFKFqxtibZto9Pp1N5QLctCGIZrhyNrzSiluLu7Q7vdPrncJgzDQK/X25i2G0NKCMH9/X2p7zwXmqah1+ttfa9sXR/XdR0PDw+glGIymZxlAdQ0TRWwbb3bzoX9pbxhGBiNRiedKbmuizAM4bruzrKVtlIIIeh2u3BdF/1+H0mSHHXGRClFEATodDor3d4mKu8BUUrRaDTw+PiI6XSKKIqQJMmf0sc0TTiOo7ZO9nnx7b1duIyO7/tgjCFJEjDGKi/dEUJwfX0Nz/Pgui5s2z5o9nXwBq2u62i32/B9H2EYoigKpGmq1h8555BSghACwzBg2zYcx1GilNI/DS3+vCW+lDAMA47jIAiCv96yEpc5hq3AP4hapl+61goSAAAAAElFTkSuQmCC\" y=\"-88.07875\"/>\n   </g>\n   <g id=\"text_6\">\n    <!-- circle -->\n    <g transform=\"translate(88.300082 82.57875)scale(0.08 -0.08)\">\n     <use xlink:href=\"#DejaVuSans-99\"/>\n     <use x=\"54.980469\" xlink:href=\"#DejaVuSans-105\"/>\n     <use x=\"82.763672\" xlink:href=\"#DejaVuSans-114\"/>\n     <use x=\"121.626953\" xlink:href=\"#DejaVuSans-99\"/>\n     <use x=\"176.607422\" xlink:href=\"#DejaVuSans-108\"/>\n     <use x=\"204.390625\" xlink:href=\"#DejaVuSans-101\"/>\n    </g>\n   </g>\n  </g>\n  <g id=\"axes_7\">\n   <g clip-path=\"url(#p5fd5a21165)\">\n    <image height=\"46\" id=\"image4731d45d8b\" transform=\"scale(1 -1)translate(0 -46)\" width=\"46\" x=\"145.173913\" xlink:href=\"data:image/png;base64,\niVBORw0KGgoAAAANSUhEUgAAAC4AAAAuCAYAAABXuSs3AAAABHNCSVQICAgIfAhkiAAAAwFJREFUaIHtmF1L40AUht+ZtKNWGj+qEGzrRfygioiiUvFW/MH+i4JKSy+0+BFEqwQ0Kg1GW+zM3qy7Crv0TCbbpdDn+pw5DxnmZM6ww8NDhQGE/2+BuAzF+81QvN8MxfvNwIqnklpIKYUwDNFsNvH4+Ih2uw2lFCzLwvj4OObm5uA4DoQQidQzFn97e4Pv+6hWq3h6esLHxweklFDq9w+ZMYZarQYhBBYXF1EqlZDL5WBZVuy6zOSXf3d3h1qthtvbW3S7XXJeJpPBysoK1tfXkclkYtWO9cWllDg/P8fR0RFarZZ2fhRFqFarCIIA5XIZMzMz2mtoi0spUa/XcXx8jHa7rV3w6zrX19cIwxAHBwfI5XJa+dpdpdls4uTkxEj6K0EQoFKpIIoirTwt8VarhUqlgvf3d60ivbi5uUG9Xtc6J2RxKSVOT08RBEEsuV5rn52daa1NFg/DEJ7nQUoZS64XURSh0WiQ48niDw8PeH5+jiVF5fLyEp1OhxRLEldKwfM8IykKnU4Hvu+TYslfnLqgCVJK3N/fk2JJ4lJK8haaoJTC6+srKZYkrtOmTKHWIokzxoxkdKDWIolblgXO//3VnTGGkZERUiz5i09OThpJUeCck+8sZPGFhQUjKQqpVArFYpEUS97/JKeXvzE9PY1sNkuKJYtPTU3Bdd3YUr2wLAubm5vJHk4AEEJgaWkp9sTSi2KxCMdxyPFaraJQKKBUKiXeHm3bxsbGBsbGxsg5WuKcc2xvb8N13cTaoxACOzs7yOfzWnnao1s6ncbe3h4AwPO8b9O8LqOjo9ja2sLy8rJ2bqxh2bZt7O/vY2JiAo1GQ3/s+tmvd3d3USgUYu1e7HeVdDqNcrmMfD6Pi4sLeJ5Huoh9dqfV1VXYth23vNmDEOcc8/PzcBwHa2tr8H0fV1dXeHl5+TYpCSHgOA5c18Xs7Cyy2azxGTF6EPoTSikopdDtdqGUAuf814tVkt0osbfDTxhjYIz980vZwL7WDsX7zVC83wzF+83Aiv8A3zURY/6tA1wAAAAASUVORK5CYII=\" y=\"-88.07875\"/>\n   </g>\n   <g id=\"text_7\">\n    <!-- circle -->\n    <g transform=\"translate(157.287038 82.57875)scale(0.08 -0.08)\">\n     <use xlink:href=\"#DejaVuSans-99\"/>\n     <use x=\"54.980469\" xlink:href=\"#DejaVuSans-105\"/>\n     <use x=\"82.763672\" xlink:href=\"#DejaVuSans-114\"/>\n     <use x=\"121.626953\" xlink:href=\"#DejaVuSans-99\"/>\n     <use x=\"176.607422\" xlink:href=\"#DejaVuSans-108\"/>\n     <use x=\"204.390625\" xlink:href=\"#DejaVuSans-101\"/>\n    </g>\n   </g>\n  </g>\n  <g id=\"axes_8\">\n   <g clip-path=\"url(#pb69b032b15)\">\n    <image height=\"46\" id=\"image332cb07275\" transform=\"scale(1 -1)translate(0 -46)\" width=\"46\" x=\"214.16087\" xlink:href=\"data:image/png;base64,\niVBORw0KGgoAAAANSUhEUgAAAC4AAAAuCAYAAABXuSs3AAAABHNCSVQICAgIfAhkiAAAAQhJREFUaIHt2NEOwjAIBdBi/P8P60eVPWnMoitcLpgl3GfDjl3b0cqcU8cN8/g3AE3Dq9Pw6jS8Og2vTsOr0/DqPHc/EJEhIhWWd1R1qF43rVu4qpbjd+gxjFPFUoiVtRYXXoH3PMe8OKvg1rjgay0IZK2fAkeKe2t74t7HM+DIgEBwNh6pB305mXDr9ncODGcs1MgAwL0KY8pEaoSarAg8+sfDcPTh0bcVbmsRAGOaUeDehcrYlSgHCc8Isr4DtBOQFcPqd6jwHZ7ZpFHPnFdwdptAh/8aVXaPk3LKPwMzGjM6/BsyoxVOG/EXNuvwsb2eQPMJz8ht4alXcJk3A7e9O2x4dRpenQP6O+zL7wzwlAAAAABJRU5ErkJggg==\" y=\"-88.07875\"/>\n   </g>\n   <g id=\"text_8\">\n    <!-- triangle -->\n    <g transform=\"translate(221.488995 82.57875)scale(0.08 -0.08)\">\n     <use xlink:href=\"#DejaVuSans-116\"/>\n     <use x=\"39.208984\" xlink:href=\"#DejaVuSans-114\"/>\n     <use x=\"80.322266\" xlink:href=\"#DejaVuSans-105\"/>\n     <use x=\"108.105469\" xlink:href=\"#DejaVuSans-97\"/>\n     <use x=\"169.384766\" xlink:href=\"#DejaVuSans-110\"/>\n     <use x=\"232.763672\" xlink:href=\"#DejaVuSans-103\"/>\n     <use x=\"296.240234\" xlink:href=\"#DejaVuSans-108\"/>\n     <use x=\"324.023438\" xlink:href=\"#DejaVuSans-101\"/>\n    </g>\n   </g>\n  </g>\n  <g id=\"axes_9\">\n   <g clip-path=\"url(#pb2130fa23b)\">\n    <image height=\"46\" id=\"image2409071b46\" transform=\"scale(1 -1)translate(0 -46)\" width=\"46\" x=\"7.2\" xlink:href=\"data:image/png;base64,\niVBORw0KGgoAAAANSUhEUgAAAC4AAAAuCAYAAABXuSs3AAAABHNCSVQICAgIfAhkiAAAArdJREFUaIHtmMtL60AUh395imktpaQvxBaEQqlgpauC/fN148LQTV0paBdtqvSBZETTzLjwVrzitXMmMRch37Zz5nwcTs/MRLu4uBD4hej/W0CVTDxtMvG0ycTTJhNPGzPJzcIwBGMMYRhivV6Dcw7DMGBZFnZ2drC7uwtdT6ZWiYiHYYibmxvMZjNMJhMEQQDO+fvvlmWhVCqhWq3i4OAA1WoVmqbFyqnFuatwzjGdTjEcDnF/f48wDLfGOI6DZrOJbreLXC6nmlpdPIoijEYjXF5eYr1ek+OLxSIGgwEqlYpS9ZUajnOOq6srZWkAWC6XOD8/x2w2U4oniwshcH19Dc/zlKU3LBYLnJ2dIQgCcixZnDEGz/Pw8vJCTvYVy+USw+EQQtA6liw+Go3w+PhIDfuW29tb+L5PiiGJB0GAu7s7UgIZGGMYj8d/jdBtkMSn0ykYY2QxGXzfx9PTk/R6kvhqtUqstz8zn8/x/PwsvV5aPIqiH5MG3k5fmQNsg7S4ECL2+NtGFEXSa6XFNU1L7IL0Lyj7S6/UdR2WZSkJye5vmvJ3PlLFk7yWfiaXy5EKQ7Ko1WpwHIcsJUO9XiftTRIvlUooFotkqW1YloVKpfJzFdd1HScnJ6RelKFcLuPw8JAUQ25Y13XRarViv2A2mKaJbrdL/uOTxQ3DwPHxMfb392PLm6aJXq+HWq1GjlUaEfl8Hqenp7HkbdtGr9dDp9NRmlTKsy2fz2MwGKDdbpN7fm9vD/1+H0dHRzAMQyl/rMcy8HZMPzw8wPM8rFYrMMa+vJ7atg3HcdBoNNDpdOA4TqxWiy2+gXOO+XwO3/ffv61wzmGaJmzbRqFQQL1ej/Wy/0hic03XdbiuC9d1IYQA5xxCCGiaptwO35HsQP7DT8l+5Nd+O8zE0yYTT5tMPG0y8bR5Bf1hAKe6bpI1AAAAAElFTkSuQmCC\" y=\"-157.37875\"/>\n   </g>\n   <g id=\"text_9\">\n    <!-- circle -->\n    <g transform=\"translate(19.313125 151.87875)scale(0.08 -0.08)\">\n     <use xlink:href=\"#DejaVuSans-99\"/>\n     <use x=\"54.980469\" xlink:href=\"#DejaVuSans-105\"/>\n     <use x=\"82.763672\" xlink:href=\"#DejaVuSans-114\"/>\n     <use x=\"121.626953\" xlink:href=\"#DejaVuSans-99\"/>\n     <use x=\"176.607422\" xlink:href=\"#DejaVuSans-108\"/>\n     <use x=\"204.390625\" xlink:href=\"#DejaVuSans-101\"/>\n    </g>\n   </g>\n  </g>\n  <g id=\"axes_10\">\n   <g clip-path=\"url(#p0eda81e174)\">\n    <image height=\"46\" id=\"image3e3cc8ceee\" transform=\"scale(1 -1)translate(0 -46)\" width=\"46\" x=\"76.186957\" xlink:href=\"data:image/png;base64,\niVBORw0KGgoAAAANSUhEUgAAAC4AAAAuCAYAAABXuSs3AAAABHNCSVQICAgIfAhkiAAAAwFJREFUaIHtmM9L40AUx78zmqISQ2ljFNFDL0qr2FpEUNCTIIJePNb/0UtFKXjqQUGkVVGLXhUPMZaaBpREnT0sXRbXH28msUuhn/N78z55ZDIvw8rlskAHwv+3gCpd8XbTFW83XfF207HivVEuJoSAEAJPT09oNpsIggD9/f0wDAOapoExFlmtSMQ9z8Pt7S2q1SpqtRqen5/x9vYGAGCMgTEG0zSRz+eRyWRgmiZisViomizMkf/y8oKLiwscHBygVqv9kf0KwzCQz+exvLwMy7JUS6uL+76PnZ0dHB0dwfM8uaKMYXR0FBsbG8hkMuBcfqspiT8+PmJ7exvVapXU5c/QdR1ra2tYWlqSlpd+1CAIsLu7G1oa+L039vb2cHl5KZ0rLX58fIzDw8PQ0i08z0OxWIRt21J5UuK2bWN/fz8y6RZ3d3col8vwfZ+cQxYXQuDk5AT39/dKct+tXalU4DgOOYcs3mg0cH5+Hnm3W7iuK/Wuk8Vd18XNzY2SFJVKpQIhaB85sni9XkcQBMpSFBzHIdcgi8vuehWEEHBdlxRLEhdCSJ+OKrQGNArkjocdiqhomkaKI4kzxpBMJkMJUeCcQ9d1Wix1UcuyIp2nP6Kvrw8DAwOkWLK4YRgwTVNZikI6nSY3hywej8cxMTGhLPWtCOeYnZ2NXjwWiyGbzWJwcFBZ7ivS6TTGxsbI8VJD1uTkJGZmZqSlvkPXdSwuLpI3JiAp3tPTg9XVVQwPD0vLfSrAOebn5zE1NSWXJ1sokUhga2sLIyMjsqn/FuccuVwO6+vr6O2V+29XuldJpVIoFAqh5DnnWFhYwObmptLhFuovv16vo1Qq4ezsDM1mk5TDOcfQ0BBWVlYwNzdHPinfE0ocAF5fX3F1dYXT01NcX1/DcZwPR1NN0zA+Po7p6WnkcrlQVxNABOItfN9Ho9GA67qwbRsPDw/wfR+6rsOyLCQSCRiGgXg8HskJHJn4e1pd/6kxIdK7w7/56bmmY29ru+Ltpivebrri7aZjxX8B9KIe5Oe3sKEAAAAASUVORK5CYII=\" y=\"-157.37875\"/>\n   </g>\n   <g id=\"text_10\">\n    <!-- circle -->\n    <g transform=\"translate(88.300082 151.87875)scale(0.08 -0.08)\">\n     <use xlink:href=\"#DejaVuSans-99\"/>\n     <use x=\"54.980469\" xlink:href=\"#DejaVuSans-105\"/>\n     <use x=\"82.763672\" xlink:href=\"#DejaVuSans-114\"/>\n     <use x=\"121.626953\" xlink:href=\"#DejaVuSans-99\"/>\n     <use x=\"176.607422\" xlink:href=\"#DejaVuSans-108\"/>\n     <use x=\"204.390625\" xlink:href=\"#DejaVuSans-101\"/>\n    </g>\n   </g>\n  </g>\n  <g id=\"axes_11\">\n   <g clip-path=\"url(#p9ef9b921c5)\">\n    <image height=\"46\" id=\"image519ab1b059\" transform=\"scale(1 -1)translate(0 -46)\" width=\"46\" x=\"145.173913\" xlink:href=\"data:image/png;base64,\niVBORw0KGgoAAAANSUhEUgAAAC4AAAAuCAYAAABXuSs3AAAABHNCSVQICAgIfAhkiAAAAVNJREFUaIHtmVuSgyAQRW/jLMj9L07mS0sphX5jqjxfqQTw5CY0grSua8UPUmYLaPnEs/nEs/nEs/mbLbBTa728JiIQ0WP7qeK11kN427bLZ8uydPumibeJtqItvbSBQPFd9CnRHqWMp56b+FlUInnHKG3AIG5J1AO2eJZoKUWfuHQizeAi3itPWXDSBm4Sn50uV/xSd4hoWPgj4ZTBo237BhGJBvCEmzbwcJNVSpkmz+XRLlueWwaP9qPB3pr80CpLXpI2wNxIZMiHiAOx8ppxRT2i5KVpA4o9Z0SdTxP3lNeOo+rlKa9JGzAcT3gnL8V0Vau8dLU8Y95zai9sxeV31t4OW7602x9UI/8KcUAmb53U7iWBK2+dGyG1LGMLGFaEe/KWMniMYeo9IDL58GXvTt6j9qes1628h3ja+fgufz7es5D6RGL0eETCO7fwDH5W/B9GzFc3DTPp6QAAAABJRU5ErkJggg==\" y=\"-157.37875\"/>\n   </g>\n   <g id=\"text_11\">\n    <!-- triangle -->\n    <g transform=\"translate(152.502038 151.87875)scale(0.08 -0.08)\">\n     <use xlink:href=\"#DejaVuSans-116\"/>\n     <use x=\"39.208984\" xlink:href=\"#DejaVuSans-114\"/>\n     <use x=\"80.322266\" xlink:href=\"#DejaVuSans-105\"/>\n     <use x=\"108.105469\" xlink:href=\"#DejaVuSans-97\"/>\n     <use x=\"169.384766\" xlink:href=\"#DejaVuSans-110\"/>\n     <use x=\"232.763672\" xlink:href=\"#DejaVuSans-103\"/>\n     <use x=\"296.240234\" xlink:href=\"#DejaVuSans-108\"/>\n     <use x=\"324.023438\" xlink:href=\"#DejaVuSans-101\"/>\n    </g>\n   </g>\n  </g>\n  <g id=\"axes_12\">\n   <g clip-path=\"url(#p8e9e05738c)\">\n    <image height=\"46\" id=\"image08264935cc\" transform=\"scale(1 -1)translate(0 -46)\" width=\"46\" x=\"214.16087\" xlink:href=\"data:image/png;base64,\niVBORw0KGgoAAAANSUhEUgAAAC4AAAAuCAYAAABXuSs3AAAABHNCSVQICAgIfAhkiAAAAfVJREFUaIHtmO2KqzAQht9JMmNi/eqV9f6votBCBRFzfhRld9uuH4lZDviAFEzVZ+LMRKXL5eLxH6L+WmArh3hqDvHUHOKpSSIuItHPubu4iKBpmujyu4obYybpPM+jnns3cSJC0zTIsgxEBBGBUvEut4s4EaGuazjnpn0iEjVdoosTEcqyRFEUL/u/BhJKdHFrLYqiABG9jDnnoqVLVPGxg2it345rrWGtjXKtaOJjBzHG/Pq/WN0livjXDjIHM0cp0mDxUXpp4RljFgU4R7D46XRa3S2stcFFGnS0cw5VVX0sxk9kWTZbC3NsFhcRnM/n1dLAM71Ci3STODP/2vaW4Jx72+uXslpcKYW6roMLTGsdtJKuEiciVFUVZekmIlhrN8/6YnEiQlEUL88gIYjI5iJdLO6cQ1mWQXn5E2YGM286dpH4eFsBwPu4X+zyPN80GYvuk/ce1+sVwDOILMsgImBmKKW+bWslrLXQWqPv+/jio/z427Yt2rYF8AxEaw1mhtYaSikYY6ZtrmWOPf12u+0j/gnvPfq+/zZjRDQFRETT84mITIGMS/74gnG/31elYbD4O7z38N5jGAYAQNd1eDwe07hS6iUQZkbXdYuvsYv4HMMwvKTbWv5E/CdbOtXxCS41h3hqDvHUHOKpOcRTc4in5h9rLFIQGkfkfAAAAABJRU5ErkJggg==\" y=\"-157.37875\"/>\n   </g>\n   <g id=\"text_12\">\n    <!-- triangle -->\n    <g transform=\"translate(221.488995 151.87875)scale(0.08 -0.08)\">\n     <use xlink:href=\"#DejaVuSans-116\"/>\n     <use x=\"39.208984\" xlink:href=\"#DejaVuSans-114\"/>\n     <use x=\"80.322266\" xlink:href=\"#DejaVuSans-105\"/>\n     <use x=\"108.105469\" xlink:href=\"#DejaVuSans-97\"/>\n     <use x=\"169.384766\" xlink:href=\"#DejaVuSans-110\"/>\n     <use x=\"232.763672\" xlink:href=\"#DejaVuSans-103\"/>\n     <use x=\"296.240234\" xlink:href=\"#DejaVuSans-108\"/>\n     <use x=\"324.023438\" xlink:href=\"#DejaVuSans-101\"/>\n    </g>\n   </g>\n  </g>\n  <g id=\"axes_13\">\n   <g clip-path=\"url(#p35a3503907)\">\n    <image height=\"46\" id=\"imageae417b35db\" transform=\"scale(1 -1)translate(0 -46)\" width=\"46\" x=\"7.2\" xlink:href=\"data:image/png;base64,\niVBORw0KGgoAAAANSUhEUgAAAC4AAAAuCAYAAABXuSs3AAAABHNCSVQICAgIfAhkiAAAApxJREFUaIHtmN3OojAQht+OFQVB/MGfCm1EMR57TV638UYU92BX464CpRY2X+KTcCDMTN/UTmdadjweb/iB0P8WYMpXeNt8hbfNV3jbfIW3zVd42/CiD5fLBdfr9fH7dvu7pcnzvDDo3fbZR+fdu5hBEKDb7eoJz/Mc5/MZp9PpRXCRyCYIwxCHw+Gt8LdLhYgQxzFc18Xtdit9mqLT6SBJEvT7/bffC9e453nIsgyMscbElTEajZAkCYjeSyxNzsVigclk0oiwMogIWZah0+kU25QF4JxjvV7DcRzr4sqI4xij0ajUpnI7nM1mEEJYE1WF53mQUpbONqAhnIham3XGGIQQGA6HlbZaBWgwGLSSqK7rIk3TwoR8RrtyLpfLRhOVMYYsy7T/WW3hjuNASvm2GNggiiLMZjNte23hRITlcokoioyEleE4DpRS6PV62j61miwiwna7BeeFLY4RdWcbMOgOfd9HmqbWEpVzjizLtBLymdrCiQir1Upry6qCMYY0TeF5Xm1fo37cdV0opWrP0r8Mh0MIIYziGI187x7H47GJ+yNGkiTwfd/M/5OBd7ud8fYYhiGSJDEd/rOjWxiGWK1W9QfV6P4qYxh74nezr5TCYDCo5SeE+GiZARYOy0EQQEqpbe+6LqSUH9cCK6d8pRTCMNSyFUJU9to6WBF+LyJViep5nnb3V4W1e5XpdIr5fF74/V5sbDVp1oRzzrHZbAobpSiKsFgsrMw2YPkmKwgCKKVe3nPOIaUsvGowwfoVXBzHL31M1TIywbrwfr+PNE0f253jONjtdtaWyB3rwokI8/kc4/EYjLGP+pEy7J4I/tDtdrHf75Hneelt1Cc0ds3s+z72+30jsw00KJyIrFTIwviNRW6YHyv8F9DpaivQNxVqAAAAAElFTkSuQmCC\" y=\"-226.67875\"/>\n   </g>\n   <g id=\"text_13\">\n    <!-- triangle -->\n    <g transform=\"translate(14.528125 221.17875)scale(0.08 -0.08)\">\n     <use xlink:href=\"#DejaVuSans-116\"/>\n     <use x=\"39.208984\" xlink:href=\"#DejaVuSans-114\"/>\n     <use x=\"80.322266\" xlink:href=\"#DejaVuSans-105\"/>\n     <use x=\"108.105469\" xlink:href=\"#DejaVuSans-97\"/>\n     <use x=\"169.384766\" xlink:href=\"#DejaVuSans-110\"/>\n     <use x=\"232.763672\" xlink:href=\"#DejaVuSans-103\"/>\n     <use x=\"296.240234\" xlink:href=\"#DejaVuSans-108\"/>\n     <use x=\"324.023438\" xlink:href=\"#DejaVuSans-101\"/>\n    </g>\n   </g>\n  </g>\n  <g id=\"axes_14\">\n   <g clip-path=\"url(#p3ec2bccf52)\">\n    <image height=\"46\" id=\"image2bd7e4ffd1\" transform=\"scale(1 -1)translate(0 -46)\" width=\"46\" x=\"76.186957\" xlink:href=\"data:image/png;base64,\niVBORw0KGgoAAAANSUhEUgAAAC4AAAAuCAYAAABXuSs3AAAABHNCSVQICAgIfAhkiAAAAw9JREFUaIHtmEtL60AYht+mxwvionTp0kVXuvPP+Bf8Qa6L4CZFRaGuuxCUKkULtTqKoElzIRfT9OqkmZyFHMFbTSZpzjmQZ9nON+/D5JvpNLnd3d0A/yHC3xbgJRNPm0w8bTLxaTDGYJomxuNxYnOmIn55eYnt7W0oipLYnDMXb7fb2Nvbg6ZpMAwDjLFE5p2p+M3NDURRhG3bCIIAjUbj3xeXZRmVSgWapr19RghJrM9nIq5pGiqVyqeeppTi7u4ukYzExU3ThCiKIIR8+o4xhvPz80TaJVHx0WiE/f19tNvtb8cYhgHXdWNnJSbe6/UgiiKurq6mjjNN88unEZVExCmlODw8RL1e/7ENxuMxFEWB7/uxMmOLTyYTVKtVnJ2dhe5dQgj6/X6s3FjilFIcHx+jVqtFWsHHx0c8Pz/HiY4nfnJyglqtBkpppDrG2NQNHAYucd/3cXp6imq1itFoxBV8cXER61iMLM4YQ6PRwNHREYbDIXew4zhQVZW7PrL4w8MDDg4O4DgOdygAvLy8oNlscteHFmeM4f7+Hjs7O7E3FvDabpIkcd9dQourqgpRFGEYBlfQV8iy/O4SFoVQ4rZto1wuQ5IkrpDvsCwLuq5z1f4orus6yuUyZFnmCpgGYwytVgue50WuDbXiq6urWFlZwdzcHAQh2Qvl9fV15N8BAMiFeXfo+z583welFIqioNlsotPpwHVd9Ho9DAYD7jM5l8tha2sLa2trkep+hRmUz+eRz+cxPz+PUqmEUqkExhhc14UkSdB1HbZtQ5blyCdFEASo1+uzEf8KQRBQKBRQKBSwvr4Oz/MwHA4xGAzQ7XZBCEGr1YLjOPA8D5TSb5+Kqqro9/tYXl4OnR+qVXhhjIFSiqenJ9ze3sKyLFiW9fZnIgheo5eWlrC5uYmNjY3Qc3OveBgEQcDi4uK79nIcB6ZpotvtQlEUEELQ6XSgqioYY6E3/0zFPyIIAorFIorFIoDXTT+ZTKa20XekKv6RP5t+YWEhcm320jNtMvG0ycTTJhNPm0w8bf5b8d/PzsYqXIsUbQAAAABJRU5ErkJggg==\" y=\"-226.67875\"/>\n   </g>\n   <g id=\"text_14\">\n    <!-- triangle -->\n    <g transform=\"translate(83.515082 221.17875)scale(0.08 -0.08)\">\n     <use xlink:href=\"#DejaVuSans-116\"/>\n     <use x=\"39.208984\" xlink:href=\"#DejaVuSans-114\"/>\n     <use x=\"80.322266\" xlink:href=\"#DejaVuSans-105\"/>\n     <use x=\"108.105469\" xlink:href=\"#DejaVuSans-97\"/>\n     <use x=\"169.384766\" xlink:href=\"#DejaVuSans-110\"/>\n     <use x=\"232.763672\" xlink:href=\"#DejaVuSans-103\"/>\n     <use x=\"296.240234\" xlink:href=\"#DejaVuSans-108\"/>\n     <use x=\"324.023438\" xlink:href=\"#DejaVuSans-101\"/>\n    </g>\n   </g>\n  </g>\n  <g id=\"axes_15\">\n   <g clip-path=\"url(#p7dd3689bc4)\">\n    <image height=\"46\" id=\"image2a7dc96af7\" transform=\"scale(1 -1)translate(0 -46)\" width=\"46\" x=\"145.173913\" xlink:href=\"data:image/png;base64,\niVBORw0KGgoAAAANSUhEUgAAAC4AAAAuCAYAAABXuSs3AAAABHNCSVQICAgIfAhkiAAAAXRJREFUaIHtmUGOwyAMRb8D9P6nye2MZzGiikZ0iI1xUilv01XIk/kYt6V93wVfyHa1gJVHPJpHPJpHfBYRgcj5zpwXugwREdRaUWsFM6OUgpTSqWcvERcRMPNburFt5wMQJt6qy8zdWBCRar3l4k20fX7iFuKj6vYgIpW8m/jxoNVaVR0CuKDix4OmbWkzmMQtUfgPbUwApfjZgxbBUNy7uj2ISNXDgQ/iTTayutNRYeal1e2hlQY6Q1bbssgMu4gTkWrY8cBFvC1USkHOMaOM9mACg3k854xSiqkiGizrD0vaItNuR2+sRTm1RymlZbm3xARQfHU75t4zOksrfiTn7CofJg78Ruf1epm32QPzmz36/cyuTZVsNveW4arhstfW3Fvm8Pc7TU91WN3v/+J6urT9/rKM99DMObcSb4zmnNl7YOn4N8r9TCtdfoOsmnNCrr5ev5+NSuidfez3t854D6/IXPL7uIf8bf5K0fKIR/O14j9kDcTsiTNfNQAAAABJRU5ErkJggg==\" y=\"-226.67875\"/>\n   </g>\n   <g id=\"text_15\">\n    <!-- triangle -->\n    <g transform=\"translate(152.502038 221.17875)scale(0.08 -0.08)\">\n     <use xlink:href=\"#DejaVuSans-116\"/>\n     <use x=\"39.208984\" xlink:href=\"#DejaVuSans-114\"/>\n     <use x=\"80.322266\" xlink:href=\"#DejaVuSans-105\"/>\n     <use x=\"108.105469\" xlink:href=\"#DejaVuSans-97\"/>\n     <use x=\"169.384766\" xlink:href=\"#DejaVuSans-110\"/>\n     <use x=\"232.763672\" xlink:href=\"#DejaVuSans-103\"/>\n     <use x=\"296.240234\" xlink:href=\"#DejaVuSans-108\"/>\n     <use x=\"324.023438\" xlink:href=\"#DejaVuSans-101\"/>\n    </g>\n   </g>\n  </g>\n  <g id=\"axes_16\">\n   <g clip-path=\"url(#pe4ac104f2d)\">\n    <image height=\"46\" id=\"imagecb1bbe0bf5\" transform=\"scale(1 -1)translate(0 -46)\" width=\"46\" x=\"214.16087\" xlink:href=\"data:image/png;base64,\niVBORw0KGgoAAAANSUhEUgAAAC4AAAAuCAYAAABXuSs3AAAABHNCSVQICAgIfAhkiAAAAltJREFUaIHtmFuPqjAURr9CUSlCQA2/zl9vVAxIQsDItfQ8YWbmaMQWcSZhvdLLSulu9y7ZbrcCfxDt0wKyTOJjM4mPzSQ+NpP42HxUXNM0GIYh1ZcO7NILXdexXC7BGAOlFIfDAW3bvjTGaOKapkHXdaxWK1iWBcMwoOs60jSFEK+nS28VJ4RgNpthsVjAcRwwxqDr+rc2RVH8HnFCCBhjcBwHpmliPp+DEHK3bV3XUnMMJt5tBdu24XkeKKX/re5POOfgnEvNpyxOKYVlWbAsC8vlEpT2H3J0cUIIKKVYr9dgjN0C7VWapkHTNDIK/cW/BprneTBN8+G+7ctbxQkhsCwLtm2DMYbZbKYs3ME5lzpRgCfihBC4rovNZiN9wz1CCCF9ogBPrnwhBJIkQRRF0r/0EW3boixL6f5Pc5VOPggCpYnuURSFdN/eSVaWZdjv98iyTHqyrwghlP7iS9lhWZYIggBJkkgHVYdKYAISaW3TNDidTgjDUPryANS2CSCZj7dtiziOcTwepfd9nudS/TqUCoksy3A8HqUkVANduQLK8xy73Q5pmvbeOqqBCQxUunHOEQQB4jjuJd80zcsVz08Gqzk557d9/2w1q6pSPpUGLSSEEMiyDJxz+L4PxtjddmVZKp1IwJuq/Ov1iiAIkKbp3e+qZzjwxueJ7rKKoujb6g4RmMCb31U454iiCGEY3mTbth1EfJTniSRJUNc1fN8HIQRVVSmPOYq4EAKXywVlWcJ1XaU8vGPUl6y6rnE+n5UDE/jA2+EQ0sD0Wjs+k/jYTOJj82fF/wG17jswWu+34wAAAABJRU5ErkJggg==\" y=\"-226.67875\"/>\n   </g>\n   <g id=\"text_16\">\n    <!-- triangle -->\n    <g transform=\"translate(221.488995 221.17875)scale(0.08 -0.08)\">\n     <use xlink:href=\"#DejaVuSans-116\"/>\n     <use x=\"39.208984\" xlink:href=\"#DejaVuSans-114\"/>\n     <use x=\"80.322266\" xlink:href=\"#DejaVuSans-105\"/>\n     <use x=\"108.105469\" xlink:href=\"#DejaVuSans-97\"/>\n     <use x=\"169.384766\" xlink:href=\"#DejaVuSans-110\"/>\n     <use x=\"232.763672\" xlink:href=\"#DejaVuSans-103\"/>\n     <use x=\"296.240234\" xlink:href=\"#DejaVuSans-108\"/>\n     <use x=\"324.023438\" xlink:href=\"#DejaVuSans-101\"/>\n    </g>\n   </g>\n  </g>\n </g>\n <defs>\n  <clipPath id=\"p8159f1b321\">\n   <rect height=\"45.5\" width=\"45.5\" x=\"7.2\" y=\"19.27875\"/>\n  </clipPath>\n  <clipPath id=\"p064eb307b9\">\n   <rect height=\"45.5\" width=\"45.5\" x=\"76.186957\" y=\"19.27875\"/>\n  </clipPath>\n  <clipPath id=\"p00bdaf9141\">\n   <rect height=\"45.5\" width=\"45.5\" x=\"145.173913\" y=\"19.27875\"/>\n  </clipPath>\n  <clipPath id=\"p20f862cd91\">\n   <rect height=\"45.5\" width=\"45.5\" x=\"214.16087\" y=\"19.27875\"/>\n  </clipPath>\n  <clipPath id=\"p92ddf47b9b\">\n   <rect height=\"45.5\" width=\"45.5\" x=\"7.2\" y=\"88.57875\"/>\n  </clipPath>\n  <clipPath id=\"peed1f358e1\">\n   <rect height=\"45.5\" width=\"45.5\" x=\"76.186957\" y=\"88.57875\"/>\n  </clipPath>\n  <clipPath id=\"p5fd5a21165\">\n   <rect height=\"45.5\" width=\"45.5\" x=\"145.173913\" y=\"88.57875\"/>\n  </clipPath>\n  <clipPath id=\"pb69b032b15\">\n   <rect height=\"45.5\" width=\"45.5\" x=\"214.16087\" y=\"88.57875\"/>\n  </clipPath>\n  <clipPath id=\"pb2130fa23b\">\n   <rect height=\"45.5\" width=\"45.5\" x=\"7.2\" y=\"157.87875\"/>\n  </clipPath>\n  <clipPath id=\"p0eda81e174\">\n   <rect height=\"45.5\" width=\"45.5\" x=\"76.186957\" y=\"157.87875\"/>\n  </clipPath>\n  <clipPath id=\"p9ef9b921c5\">\n   <rect height=\"45.5\" width=\"45.5\" x=\"145.173913\" y=\"157.87875\"/>\n  </clipPath>\n  <clipPath id=\"p8e9e05738c\">\n   <rect height=\"45.5\" width=\"45.5\" x=\"214.16087\" y=\"157.87875\"/>\n  </clipPath>\n  <clipPath id=\"p35a3503907\">\n   <rect height=\"45.5\" width=\"45.5\" x=\"7.2\" y=\"227.17875\"/>\n  </clipPath>\n  <clipPath id=\"p3ec2bccf52\">\n   <rect height=\"45.5\" width=\"45.5\" x=\"76.186957\" y=\"227.17875\"/>\n  </clipPath>\n  <clipPath id=\"p7dd3689bc4\">\n   <rect height=\"45.5\" width=\"45.5\" x=\"145.173913\" y=\"227.17875\"/>\n  </clipPath>\n  <clipPath id=\"pe4ac104f2d\">\n   <rect height=\"45.5\" width=\"45.5\" x=\"214.16087\" y=\"227.17875\"/>\n  </clipPath>\n </defs>\n</svg>\n",
      "image/png": "[encoded data removed]"
     },
     "metadata": {
      "needs_background": "light"
     }
    }
   ],
   "source": [
    "#################################################################################\n",
    "#########                  check the evaluation results                  ########\n",
    "#################################################################################\n",
    "print(\"Predictions:\", print(predicted[:20,0].detach().numpy()))\n",
    "print(\"Ground Truth:\", print(test_y[:20]))\n",
    "evaluate_fig, axes = plt.subplots(nrows=4, ncols=4, figsize=(4, 4))\n",
    "axes = axes.flatten()\n",
    "\n",
    "for i in range(16):\n",
    "    a = axes[i]\n",
    "    a.imshow(test_X[i], cmap='gray', vmin=0, vmax=1)\n",
    "    a.set_title(classes[test_y[i]], fontsize=8)\n",
    "    a.axis('off')\n",
    "    \n",
    "evaluate_fig.tight_layout()"
   ]
  }
 ]
}