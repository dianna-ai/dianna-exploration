{
 "cells": [
  {
   "cell_type": "markdown",
   "metadata": {},
   "source": [
    "# LeafSnap image cropping"
   ]
  },
  {
   "cell_type": "markdown",
   "metadata": {},
   "source": [
    "The purpose of this notebook is croping of the lab images of some species from a subset of the most populous 30 species of lab and field images."
   ]
  },
  {
   "cell_type": "markdown",
   "metadata": {},
   "source": [
    "### Imports"
   ]
  },
  {
   "cell_type": "code",
   "execution_count": 69,
   "metadata": {},
   "outputs": [],
   "source": [
    "import warnings\n",
    "warnings.simplefilter('ignore')\n",
    "from os import walk, path\n",
    "from PIL import Image\n",
    "import numpy as np"
   ]
  },
  {
   "cell_type": "markdown",
   "metadata": {},
   "source": [
    "### Parameters"
   ]
  },
  {
   "cell_type": "code",
   "execution_count": 70,
   "metadata": {},
   "outputs": [],
   "source": [
    "species = \"juglans_cinerea\" #\"chionanthus_virginicus\"\n",
    "left_crop_width = 0\n",
    "top_crop_height = 0\n",
    "right_crop_width = 0 #250 #130\n",
    "bottom_crop_height = 60 #120 #130"
   ]
  },
  {
   "cell_type": "markdown",
   "metadata": {},
   "source": [
    "\n",
    "### Image paths and filenames\n",
    "\n"
   ]
  },
  {
   "cell_type": "code",
   "execution_count": 71,
   "metadata": {},
   "outputs": [],
   "source": [
    "# subset of 30 species dataset\n",
    "images_path = \"/home/elena/eStep/DIANNA/Data/LeafSnap/leafsnap-dataset-30subset/dataset/images/lab\"\n",
    "croped_images_path = os.path.join(images_path, \"Auto_cropped\")\n"
   ]
  },
  {
   "cell_type": "code",
   "execution_count": 72,
   "metadata": {},
   "outputs": [],
   "source": [
    "species_images_path = os.path.join(images_path, species)\n",
    "_, _, filenames = next(walk(species_images_path))\n",
    "#print(filenames)\n",
    "species_cropped_images_path = os.path.join(croped_images_path, species)\n",
    "#print(\"Source: \", species_images_path)\n",
    "#print(\"Destination: \", species_cropped_images_path)"
   ]
  },
  {
   "cell_type": "markdown",
   "metadata": {},
   "source": [
    "### Crop"
   ]
  },
  {
   "cell_type": "code",
   "execution_count": 73,
   "metadata": {},
   "outputs": [],
   "source": [
    "for filename in filenames:\n",
    "    image_file = os.path.join(species_images_path, filename)\n",
    "    img = Image.open(image_file) \n",
    "    width, height = img.size  \n",
    "    img_res = img.crop((left_crop_width, top_crop_height, width - right_crop_width, height - bottom_crop_height)) \n",
    "    #img_res.show() \n",
    "    cropped_image_file = os.path.join(species_cropped_images_path, filename)\n",
    "    img_res = img_res.save(cropped_image_file)"
   ]
  },
  {
   "cell_type": "code",
   "execution_count": 74,
   "metadata": {},
   "outputs": [
    {
     "name": "stdout",
     "output_type": "stream",
     "text": [
      "DONE!\n"
     ]
    }
   ],
   "source": [
    "print(\"DONE!\")"
   ]
  }
 ],
 "metadata": {
  "kernelspec": {
   "display_name": "Python 3",
   "language": "python",
   "name": "python3"
  },
  "language_info": {
   "codemirror_mode": {
    "name": "ipython",
    "version": 3
   },
   "file_extension": ".py",
   "mimetype": "text/x-python",
   "name": "python",
   "nbconvert_exporter": "python",
   "pygments_lexer": "ipython3",
   "version": "3.6.10"
  }
 },
 "nbformat": 4,
 "nbformat_minor": 2
}
