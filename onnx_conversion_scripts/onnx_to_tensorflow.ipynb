{
 "cells": [
  {
   "cell_type": "code",
   "execution_count": 1,
   "id": "ecological-enemy",
   "metadata": {},
   "outputs": [],
   "source": [
    "from pathlib import Path\n",
    "import onnx\n",
    "from onnx_tf.backend import prepare\n",
    "import numpy as np\n",
    "import dianna"
   ]
  },
  {
   "cell_type": "code",
   "execution_count": 2,
   "id": "lesbian-pound",
   "metadata": {},
   "outputs": [],
   "source": [
    "folder = Path(r'C:\\Users\\ChristiaanMeijer\\Documents\\dianna\\tutorials')\n",
    "leafsnap_model_path = folder/'leafsnap_model.onnx'\n",
    "np.random.seed = 1234\n",
    "leafsnap_input = np.random.randn(64,3,128,128).astype(np.float32)"
   ]
  },
  {
   "cell_type": "code",
   "execution_count": 3,
   "id": "waiting-following",
   "metadata": {},
   "outputs": [],
   "source": [
    "\n",
    "def run_onnx_through_tf(onnx_model_path, data):\n",
    "    onnx_model = onnx.load(onnx_model_path)  # load onnx model    \n",
    "    tf_output = prepare(onnx_model).run(data).output\n",
    "    return tf_output"
   ]
  },
  {
   "cell_type": "code",
   "execution_count": 4,
   "id": "further-concentrate",
   "metadata": {},
   "outputs": [],
   "source": [
    "def run_onnx_using_runner(onnx_model_path, data):\n",
    "    runner = dianna.utils.onnx_runner.SimpleModelRunner(str(leafsnap_model_path))\n",
    "    onnx_runner_output = runner(data)\n",
    "    return onnx_runner_output"
   ]
  },
  {
   "cell_type": "code",
   "execution_count": 5,
   "id": "affecting-nepal",
   "metadata": {},
   "outputs": [
    {
     "name": "stdout",
     "output_type": "stream",
     "text": [
      "WARNING:tensorflow:From C:\\Users\\ChristiaanMeijer\\AppData\\Roaming\\Python\\Python39\\site-packages\\tensorflow\\python\\ops\\array_ops.py:5043: calling gather (from tensorflow.python.ops.array_ops) with validate_indices is deprecated and will be removed in a future version.\n",
      "Instructions for updating:\n",
      "The `validate_indices` argument has no effect. Indices are always validated on CPU and never validated on GPU.\n",
      "mean 2.69079e-05 \n",
      "std 2.9605108e-05 \n",
      "max 0.00030517578\n"
     ]
    }
   ],
   "source": [
    "abs_diff = np.abs(run_onnx_through_tf(leafsnap_model_path, leafsnap_input)\n",
    "                  - run_onnx_using_runner(leafsnap_model_path, leafsnap_input))\n",
    "print('mean', np.mean(abs_diff), '\\nstd', np.std(abs_diff), '\\nmax', np.max(abs_diff))"
   ]
  },
  {
   "cell_type": "markdown",
   "id": "caroline-logic",
   "metadata": {},
   "source": [
    "Conclusion: outputs are equivalent."
   ]
  }
 ],
 "metadata": {
  "kernelspec": {
   "display_name": "Python 3",
   "language": "python",
   "name": "python3"
  },
  "language_info": {
   "codemirror_mode": {
    "name": "ipython",
    "version": 3
   },
   "file_extension": ".py",
   "mimetype": "text/x-python",
   "name": "python",
   "nbconvert_exporter": "python",
   "pygments_lexer": "ipython3",
   "version": "3.9.2"
  }
 },
 "nbformat": 4,
 "nbformat_minor": 5
}
