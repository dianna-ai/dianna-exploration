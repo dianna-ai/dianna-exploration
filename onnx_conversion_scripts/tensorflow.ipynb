{
 "cells": [
  {
   "cell_type": "markdown",
   "id": "municipal-transcription",
   "metadata": {},
   "source": [
    "## Tensorflow to ONNX conversion\n",
    "\n",
    "This notebook shows how to convert your Tensorflow model to ONNX, the generic format supported by DIANNA.\n",
    "\n",
    "The conversion is done with the tf2onnx Python package, which suports tf 1.X, tf 2.X, tf.keras, and tflite.  \n",
    "Note: tf.keras is also supported by the keras to onnx converter, see [this notebook](./keras.ipynb)."
   ]
  },
  {
   "cell_type": "code",
   "execution_count": 1,
   "id": "senior-federation",
   "metadata": {},
   "outputs": [],
   "source": [
    "import os\n",
    "\n",
    "import numpy as np\n",
    "import tensorflow as tf\n",
    "\n",
    "import onnx\n",
    "import onnxruntime as ort"
   ]
  },
  {
   "cell_type": "markdown",
   "id": "entire-gather",
   "metadata": {},
   "source": [
    "In addition to these imports, this notebook depends on tf2onnx. It is used from the command line"
   ]
  },
  {
   "cell_type": "markdown",
   "id": "essential-spoke",
   "metadata": {},
   "source": [
    "## Download model in GraphDef format"
   ]
  },
  {
   "cell_type": "code",
   "execution_count": 2,
   "id": "cleared-journalism",
   "metadata": {},
   "outputs": [],
   "source": [
    "fname = tf.keras.utils.get_file(\n",
    "    'mobilenet.tgz',\n",
    "    'https://storage.googleapis.com/download.tensorflow.org/models/mobilenet_v1_1.0_224_frozen.tgz',\n",
    "    extract=True)\n",
    "graph_file = os.path.join(os.path.dirname(fname), 'mobilenet_v1_1.0_224/frozen_graph.pb')"
   ]
  },
  {
   "cell_type": "markdown",
   "id": "behavioral-geology",
   "metadata": {},
   "source": [
    "## Create inference function from frozen graph \n",
    "Here tensorflow 2 is used"
   ]
  },
  {
   "cell_type": "code",
   "execution_count": 3,
   "id": "invisible-conspiracy",
   "metadata": {},
   "outputs": [],
   "source": [
    "graph_input = 'input'\n",
    "graph_output = 'MobilenetV1/Predictions/Softmax'\n",
    "\n",
    "# helper function to load graph in TF2\n",
    "# taken from https://www.tensorflow.org/guide/migrate\n",
    "def wrap_frozen_graph(graph_def, inputs, outputs):\n",
    "    def _imports_graph_def():\n",
    "        tf.compat.v1.import_graph_def(graph_def, name=\"\")\n",
    "        \n",
    "    wrapped_import = tf.compat.v1.wrap_function(_imports_graph_def, [])\n",
    "    import_graph = wrapped_import.graph\n",
    "    return wrapped_import.prune(\n",
    "        tf.nest.map_structure(import_graph.as_graph_element, inputs),\n",
    "        tf.nest.map_structure(import_graph.as_graph_element, outputs)\n",
    "    )\n",
    "\n",
    "\n",
    "graph_def = tf.compat.v1.GraphDef()\n",
    "with open(graph_file, 'rb') as f:\n",
    "    graph_def.ParseFromString(f.read())\n",
    "    \n",
    "func = wrap_frozen_graph(graph_def, inputs=graph_input+':0', outputs=graph_output+':0')"
   ]
  },
  {
   "cell_type": "markdown",
   "id": "suited-bulletin",
   "metadata": {},
   "source": [
    "## Evaluate model on some random input"
   ]
  },
  {
   "cell_type": "code",
   "execution_count": 4,
   "id": "applied-charge",
   "metadata": {},
   "outputs": [],
   "source": [
    "input_shape = func.inputs[0].shape\n",
    "input_data = tf.random.normal(shape=input_shape, dtype=tf.float32)\n",
    "pred = func(input_data)"
   ]
  },
  {
   "cell_type": "markdown",
   "id": "lucky-programming",
   "metadata": {},
   "source": [
    "## Convert model to tflite and SavedModel format"
   ]
  },
  {
   "cell_type": "code",
   "execution_count": 5,
   "id": "flying-joseph",
   "metadata": {},
   "outputs": [],
   "source": [
    "# convert to tflite\n",
    "tflite_file = 'mobilenet.tflite'\n",
    "converter = tf.compat.v1.lite.TFLiteConverter.from_frozen_graph(\n",
    "    graph_def_file=graph_file,\n",
    "    input_arrays=[graph_input],\n",
    "    input_shapes={graph_input: input_shape},\n",
    "    output_arrays=[graph_output]\n",
    ")\n",
    "\n",
    "# Save the model\n",
    "with open(tflite_file, 'wb') as f:\n",
    "  f.write(converter.convert())"
   ]
  },
  {
   "cell_type": "code",
   "execution_count": 6,
   "id": "moved-collins",
   "metadata": {},
   "outputs": [
    {
     "name": "stdout",
     "output_type": "stream",
     "text": [
      "INFO:tensorflow:Assets written to: mobilenet_savedmodel/assets\n"
     ]
    },
    {
     "name": "stderr",
     "output_type": "stream",
     "text": [
      "INFO:tensorflow:Assets written to: mobilenet_savedmodel/assets\n"
     ]
    }
   ],
   "source": [
    "# create a Trackable object that can be saved as SavedModel\n",
    "class Model(tf.Module):\n",
    "    def __init__(self, function):\n",
    "        super().__init__()\n",
    "        self.function = function\n",
    "    \n",
    "    def __call__(self, x):\n",
    "        return self.function(x)\n",
    "    \n",
    "model = Model(func)\n",
    "\n",
    "# save the model\n",
    "savedmodel_dir = 'mobilenet_savedmodel'\n",
    "tf.saved_model.save(model, savedmodel_dir)"
   ]
  },
  {
   "cell_type": "markdown",
   "id": "departmental-diana",
   "metadata": {},
   "source": [
    "## Convert to ONNX"
   ]
  },
  {
   "cell_type": "code",
   "execution_count": 7,
   "id": "common-northern",
   "metadata": {},
   "outputs": [
    {
     "name": "stdout",
     "output_type": "stream",
     "text": [
      "WARNING:tensorflow:From /Users/loostrum/pyenv/versions/3.8.7/envs/tensorflow/lib/python3.8/site-packages/tf2onnx/tf_loader.py:165: convert_variables_to_constants (from tensorflow.python.framework.graph_util_impl) is deprecated and will be removed in a future version.\n",
      "Instructions for updating:\n",
      "Use `tf.compat.v1.graph_util.convert_variables_to_constants`\n",
      "2021-04-08 10:52:09,752 - WARNING - From /Users/loostrum/pyenv/versions/3.8.7/envs/tensorflow/lib/python3.8/site-packages/tf2onnx/tf_loader.py:165: convert_variables_to_constants (from tensorflow.python.framework.graph_util_impl) is deprecated and will be removed in a future version.\n",
      "Instructions for updating:\n",
      "Use `tf.compat.v1.graph_util.convert_variables_to_constants`\n",
      "WARNING:tensorflow:From /Users/loostrum/pyenv/versions/3.8.7/envs/tensorflow/lib/python3.8/site-packages/tensorflow/python/framework/convert_to_constants.py:854: extract_sub_graph (from tensorflow.python.framework.graph_util_impl) is deprecated and will be removed in a future version.\n",
      "Instructions for updating:\n",
      "Use `tf.compat.v1.graph_util.extract_sub_graph`\n",
      "2021-04-08 10:52:09,752 - WARNING - From /Users/loostrum/pyenv/versions/3.8.7/envs/tensorflow/lib/python3.8/site-packages/tensorflow/python/framework/convert_to_constants.py:854: extract_sub_graph (from tensorflow.python.framework.graph_util_impl) is deprecated and will be removed in a future version.\n",
      "Instructions for updating:\n",
      "Use `tf.compat.v1.graph_util.extract_sub_graph`\n",
      "2021-04-08 10:52:10,108 - INFO - Using tensorflow=2.3.1, onnx=1.8.1, tf2onnx=1.8.3/0fbdb5\n",
      "2021-04-08 10:52:10,108 - INFO - Using opset <onnx, 9>\n",
      "2021-04-08 10:52:10,398 - INFO - Computed 0 values for constant folding\n",
      "2021-04-08 10:52:11,194 - INFO - Optimizing ONNX model\n",
      "2021-04-08 10:52:11,676 - INFO - After optimization: Add -27 (27->0), Cast -1 (1->0), Const -13 (70->57), Identity -2 (2->0), Mul -13 (13->0), Transpose -57 (58->1)\n",
      "2021-04-08 10:52:11,685 - INFO - \n",
      "2021-04-08 10:52:11,685 - INFO - Successfully converted TensorFlow model /Users/loostrum/.keras/datasets/mobilenet_v1_1.0_224/frozen_graph.pb to ONNX\n",
      "2021-04-08 10:52:11,694 - INFO - ONNX model is saved at mobilenet_graph.onnx\n",
      "2021-04-08 10:52:14,417 - INFO - Using tensorflow=2.3.1, onnx=1.8.1, tf2onnx=1.8.3/0fbdb5\n",
      "2021-04-08 10:52:14,417 - INFO - Using opset <onnx, 9>\n",
      "2021-04-08 10:52:14,656 - INFO - Optimizing ONNX model\n",
      "2021-04-08 10:52:15,194 - INFO - After optimization: Cast -1 (1->0), Const -12 (71->59), Identity -1 (1->0), Reshape -12 (14->2), Transpose -113 (114->1)\n",
      "2021-04-08 10:52:15,205 - INFO - \n",
      "2021-04-08 10:52:15,205 - INFO - Successfully converted TensorFlow model mobilenet.tflite to ONNX\n",
      "2021-04-08 10:52:15,220 - INFO - ONNX model is saved at mobilenet_tflite.onnx\n",
      "2021-04-08 10:52:18,418 - INFO - Signatures found in model: [serving_default].\n",
      "WARNING:tensorflow:From /Users/loostrum/pyenv/versions/3.8.7/envs/tensorflow/lib/python3.8/site-packages/tf2onnx/tf_loader.py:529: extract_sub_graph (from tensorflow.python.framework.graph_util_impl) is deprecated and will be removed in a future version.\n",
      "Instructions for updating:\n",
      "Use `tf.compat.v1.graph_util.extract_sub_graph`\n",
      "2021-04-08 10:52:19,177 - WARNING - From /Users/loostrum/pyenv/versions/3.8.7/envs/tensorflow/lib/python3.8/site-packages/tf2onnx/tf_loader.py:529: extract_sub_graph (from tensorflow.python.framework.graph_util_impl) is deprecated and will be removed in a future version.\n",
      "Instructions for updating:\n",
      "Use `tf.compat.v1.graph_util.extract_sub_graph`\n",
      "2021-04-08 10:52:19,434 - INFO - Using tensorflow=2.3.1, onnx=1.8.1, tf2onnx=1.8.3/0fbdb5\n",
      "2021-04-08 10:52:19,434 - INFO - Using opset <onnx, 9>\n",
      "2021-04-08 10:52:19,721 - INFO - Computed 0 values for constant folding\n",
      "2021-04-08 10:52:20,568 - INFO - Optimizing ONNX model\n",
      "2021-04-08 10:52:20,946 - INFO - After optimization: Add -27 (27->0), Cast -1 (1->0), Const -13 (70->57), Identity -5 (5->0), Mul -13 (13->0), Transpose -57 (58->1)\n",
      "2021-04-08 10:52:20,960 - INFO - \n",
      "2021-04-08 10:52:20,960 - INFO - Successfully converted TensorFlow model mobilenet_savedmodel to ONNX\n",
      "2021-04-08 10:52:20,969 - INFO - ONNX model is saved at mobilenet_savedmodel.onnx\n"
     ]
    }
   ],
   "source": [
    "# graphdef to onnx\n",
    "onnx_graphdef = 'mobilenet_graph.onnx'\n",
    "!python -m tf2onnx.convert --graphdef {graph_file} --output {onnx_graphdef} --inputs {graph_input}:0 --outputs {graph_output}:0\n",
    "\n",
    "# tflite to onnx\n",
    "onnx_tflite = 'mobilenet_tflite.onnx'\n",
    "!python -m tf2onnx.convert --tflite {tflite_file} --output {onnx_tflite}\n",
    "\n",
    "# SavedModel to onnx\n",
    "onnx_savedmodel = 'mobilenet_savedmodel.onnx'\n",
    "!python -m tf2onnx.convert --saved-model {savedmodel_dir} --output {onnx_savedmodel} --signature_def serving_default --tag serve\n",
    "\n",
    "# For completeness, this is how to convert a tf.keras model to ONNX:\n",
    "# !python -m tf2onnx.convert --keras {model_dir} --output {output_file}"
   ]
  },
  {
   "cell_type": "markdown",
   "id": "stainless-warrant",
   "metadata": {},
   "source": [
    "## Evaluate ONNX models and compare to tensorflow output"
   ]
  },
  {
   "cell_type": "code",
   "execution_count": 8,
   "id": "southern-classics",
   "metadata": {},
   "outputs": [
    {
     "name": "stdout",
     "output_type": "stream",
     "text": [
      "graphdef: True\n",
      "tflite: True\n",
      "SavedModel: True\n"
     ]
    }
   ],
   "source": [
    "models = {'graphdef': onnx_graphdef, 'tflite': onnx_tflite, 'SavedModel': onnx_savedmodel}\n",
    "\n",
    "for model, fname in models.items():\n",
    "\n",
    "    # verify the ONNX model is valid\n",
    "    onnx_model = onnx.load(fname)\n",
    "    onnx.checker.check_model(onnx_model)\n",
    "\n",
    "    \n",
    "    # get ONNX predictions\n",
    "    sess = ort.InferenceSession(fname)\n",
    "    input_name = sess.get_inputs()[0].name\n",
    "    output_name = sess.get_outputs()[0].name\n",
    "    \n",
    "    onnx_input = {input_name: input_data.numpy()}\n",
    "    pred_onnx = sess.run([output_name], onnx_input)[0]\n",
    "    \n",
    "    print(f\"{model}: {np.allclose(pred_onnx, pred, atol=1e-5)}\")"
   ]
  }
 ],
 "metadata": {
  "kernelspec": {
   "display_name": "Python 3",
   "language": "python",
   "name": "python3"
  },
  "language_info": {
   "codemirror_mode": {
    "name": "ipython",
    "version": 3
   },
   "file_extension": ".py",
   "mimetype": "text/x-python",
   "name": "python",
   "nbconvert_exporter": "python",
   "pygments_lexer": "ipython3",
   "version": "3.9.1"
  }
 },
 "nbformat": 4,
 "nbformat_minor": 5
}
