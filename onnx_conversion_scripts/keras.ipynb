{
 "cells": [
  {
   "cell_type": "markdown",
   "id": "disabled-encyclopedia",
   "metadata": {},
   "source": [
    "## Keras to ONNX conversion\n",
    "\n",
    "keras2onnx suports both the SavedModel format and the older HDF5 (.h5 or .keras) format. \n",
    "It can convert multi-backend keras as well as tf.keras models.  \n",
    "Note: tf.keras is also supported by the tensorflow to onnx converter, see [this notebook](./tensorflow.ipynb)."
   ]
  },
  {
   "cell_type": "code",
   "execution_count": 1,
   "id": "standing-puppy",
   "metadata": {},
   "outputs": [],
   "source": [
    "import os\n",
    "\n",
    "import numpy as np\n",
    "import keras\n",
    "import keras2onnx\n",
    "\n",
    "import onnx\n",
    "import onnxruntime as ort"
   ]
  },
  {
   "cell_type": "markdown",
   "id": "destroyed-graphics",
   "metadata": {},
   "source": [
    "## Download and initialize built-in model"
   ]
  },
  {
   "cell_type": "code",
   "execution_count": 2,
   "id": "applied-correlation",
   "metadata": {},
   "outputs": [],
   "source": [
    "# Note: a ~100MB file will be downloaded\n",
    "model = keras.applications.resnet50.ResNet50(include_top=True, weights='imagenet')"
   ]
  },
  {
   "cell_type": "markdown",
   "id": "stunning-vaccine",
   "metadata": {},
   "source": [
    "## Evaluate model on some random input"
   ]
  },
  {
   "cell_type": "code",
   "execution_count": 3,
   "id": "greater-courage",
   "metadata": {},
   "outputs": [],
   "source": [
    "input_shape = [1] + model.inputs[0].shape[1:]  # input shape without a 1 for batch size, instead of None\n",
    "input_data = np.random.normal(size=input_shape).astype(np.float32)\n",
    "pred = model.predict(input_data)"
   ]
  },
  {
   "cell_type": "markdown",
   "id": "faced-bangladesh",
   "metadata": {},
   "source": [
    "## Convert to ONNX"
   ]
  },
  {
   "cell_type": "code",
   "execution_count": 4,
   "id": "ideal-amazon",
   "metadata": {},
   "outputs": [
    {
     "name": "stderr",
     "output_type": "stream",
     "text": [
      "tf executing eager_mode: True\n",
      "tf.keras model eager_mode: False\n",
      "The ONNX operator number change on the optimization: 458 -> 127\n"
     ]
    }
   ],
   "source": [
    "# Convert the model to ONNX\n",
    "fname = 'resnet.onnx'\n",
    "\n",
    "# Note: convert to ONNX and storing to disk is not working with tensorflow 2.3 nor 2.4 as backend\n",
    "# Workaround (only working with TF 2.3, not 2.4): convert model to ONNX protobuf, then save to disk with ONNX\n",
    "\n",
    "# keras2onnx.save_model(model, fname)  # this is not working\n",
    "onnx_protobuf = keras2onnx.convert_keras(model, model.name)\n",
    "onnx.save(onnx_protobuf, fname)"
   ]
  },
  {
   "cell_type": "markdown",
   "id": "acceptable-restoration",
   "metadata": {},
   "source": [
    "## Evaluate ONNX models and compare to tensorflow output"
   ]
  },
  {
   "cell_type": "code",
   "execution_count": 5,
   "id": "toxic-macedonia",
   "metadata": {},
   "outputs": [
    {
     "name": "stdout",
     "output_type": "stream",
     "text": [
      "True\n"
     ]
    }
   ],
   "source": [
    "# verify the ONNX model is valid\n",
    "onnx_model = onnx.load(fname)\n",
    "onnx.checker.check_model(onnx_model)\n",
    "\n",
    "# get ONNX predictions\n",
    "sess = ort.InferenceSession(fname)\n",
    "input_name = sess.get_inputs()[0].name\n",
    "output_name = sess.get_outputs()[0].name\n",
    "\n",
    "onnx_input = {input_name: input_data}\n",
    "pred_onnx = sess.run([output_name], onnx_input)[0]\n",
    "\n",
    "print(np.allclose(pred_onnx, pred, atol=1e-5))"
   ]
  }
 ],
 "metadata": {
  "kernelspec": {
   "display_name": "Python 3",
   "language": "python",
   "name": "python3"
  },
  "language_info": {
   "codemirror_mode": {
    "name": "ipython",
    "version": 3
   },
   "file_extension": ".py",
   "mimetype": "text/x-python",
   "name": "python",
   "nbconvert_exporter": "python",
   "pygments_lexer": "ipython3",
   "version": "3.8.7"
  }
 },
 "nbformat": 4,
 "nbformat_minor": 5
}
