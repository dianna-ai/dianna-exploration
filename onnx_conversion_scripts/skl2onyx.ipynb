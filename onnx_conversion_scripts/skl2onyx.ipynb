{
 "cells": [
  {
   "cell_type": "markdown",
   "id": "younger-lancaster",
   "metadata": {},
   "source": [
    "### This notebook shows how to convert some sklearn model into onnx and shows it makes the same predictions."
   ]
  },
  {
   "cell_type": "markdown",
   "id": "least-transportation",
   "metadata": {},
   "source": [
    "# Do some imports and prepare data\n",
    "The skl2onnx import failed for me until I updated onnx from 1.3 to 1.8. skl2onnx requires onnx>1.2.1 but apparently that's not enough, at least not on python 3.9 it seems."
   ]
  },
  {
   "cell_type": "code",
   "execution_count": 1,
   "id": "common-letter",
   "metadata": {},
   "outputs": [
    {
     "name": "stdout",
     "output_type": "stream",
     "text": [
      "Train shape (110, 10)\n",
      "Test shape (10890, 10)\n"
     ]
    }
   ],
   "source": [
    "import numpy\n",
    "from pandas import DataFrame\n",
    "from tqdm import tqdm\n",
    "from sklearn import config_context\n",
    "from sklearn.datasets import make_regression\n",
    "from sklearn.ensemble import (\n",
    "    GradientBoostingRegressor, RandomForestRegressor,\n",
    "    VotingRegressor)\n",
    "from sklearn.linear_model import LinearRegression\n",
    "from sklearn.model_selection import train_test_split\n",
    "from onnxruntime import InferenceSession\n",
    "from skl2onnx import to_onnx\n",
    "\n",
    "\n",
    "N = 11000\n",
    "X, y = make_regression(N, n_features=10)\n",
    "X_train, X_test, y_train, y_test = train_test_split(\n",
    "    X, y, train_size=0.01)\n",
    "print(\"Train shape\", X_train.shape)\n",
    "print(\"Test shape\", X_test.shape)\n",
    "\n"
   ]
  },
  {
   "cell_type": "markdown",
   "id": "dedicated-rover",
   "metadata": {},
   "source": [
    "# Create some (overly complicated) machine learning model and make some predictions on a test set"
   ]
  },
  {
   "cell_type": "code",
   "execution_count": 2,
   "id": "endless-carroll",
   "metadata": {},
   "outputs": [
    {
     "data": {
      "text/plain": [
       "VotingRegressor(estimators=[('gb', GradientBoostingRegressor(random_state=1)),\n",
       "                            ('rf', RandomForestRegressor(random_state=1)),\n",
       "                            ('lr', LinearRegression())])"
      ]
     },
     "execution_count": 2,
     "metadata": {},
     "output_type": "execute_result"
    }
   ],
   "source": [
    "reg1 = GradientBoostingRegressor(random_state=1)\n",
    "reg2 = RandomForestRegressor(random_state=1)\n",
    "reg3 = LinearRegression()\n",
    "model = VotingRegressor([('gb', reg1), ('rf', reg2), ('lr', reg3)])\n",
    "model.fit(X_train, y_train)"
   ]
  },
  {
   "cell_type": "code",
   "execution_count": 3,
   "id": "electronic-inside",
   "metadata": {},
   "outputs": [
    {
     "data": {
      "text/plain": [
       "array([ 361.39147751,    0.53920232,    1.46728941, ...,   83.91634289,\n",
       "        252.5048443 , -179.44221213])"
      ]
     },
     "execution_count": 3,
     "metadata": {},
     "output_type": "execute_result"
    }
   ],
   "source": [
    "pred = model.predict(X_test)\n",
    "pred"
   ]
  },
  {
   "cell_type": "markdown",
   "id": "economic-clark",
   "metadata": {},
   "source": [
    "# Convert to ONNX and use the onnx model to make the same predictions"
   ]
  },
  {
   "cell_type": "code",
   "execution_count": 4,
   "id": "determined-marking",
   "metadata": {},
   "outputs": [
    {
     "name": "stderr",
     "output_type": "stream",
     "text": [
      "/home/chris/anaconda3/envs/skl2onnx/lib/python3.8/site-packages/sklearn/utils/deprecation.py:101: FutureWarning: Attribute n_classes_ was deprecated in version 0.24 and will be removed in 1.1 (renaming of 0.26).\n",
      "  warnings.warn(msg, category=FutureWarning)\n"
     ]
    }
   ],
   "source": [
    "onx_model = to_onnx(model, X_train[:1].astype(numpy.float32))"
   ]
  },
  {
   "cell_type": "code",
   "execution_count": 5,
   "id": "underlying-sterling",
   "metadata": {},
   "outputs": [
    {
     "data": {
      "text/plain": [
       "array([[ 361.39148  ],\n",
       "       [   0.5392027],\n",
       "       [   1.467289 ],\n",
       "       ...,\n",
       "       [  83.91634  ],\n",
       "       [ 252.50485  ],\n",
       "       [-179.4422   ]], dtype=float32)"
      ]
     },
     "execution_count": 5,
     "metadata": {},
     "output_type": "execute_result"
    }
   ],
   "source": [
    "import onnxruntime as rt\n",
    "import numpy\n",
    "sess = rt.InferenceSession(onx_model.SerializeToString())\n",
    "input_name = sess.get_inputs()[0].name\n",
    "label_name = sess.get_outputs()[0].name\n",
    "pred_onx = sess.run([label_name], {input_name: X_test.astype(numpy.float32)})[0]\n",
    "pred_onx"
   ]
  },
  {
   "cell_type": "markdown",
   "id": "weekly-bracelet",
   "metadata": {},
   "source": [
    "# Check if predictions are sort of equal"
   ]
  },
  {
   "cell_type": "code",
   "execution_count": 6,
   "id": "likely-income",
   "metadata": {},
   "outputs": [
    {
     "data": {
      "text/plain": [
       "True"
      ]
     },
     "execution_count": 6,
     "metadata": {},
     "output_type": "execute_result"
    }
   ],
   "source": [
    "numpy.allclose(pred, pred_onx[:,0], atol=1e-4)"
   ]
  }
 ],
 "metadata": {
  "kernelspec": {
   "display_name": "Python 3",
   "language": "python",
   "name": "python3"
  },
  "language_info": {
   "codemirror_mode": {
    "name": "ipython",
    "version": 3
   },
   "file_extension": ".py",
   "mimetype": "text/x-python",
   "name": "python",
   "nbconvert_exporter": "python",
   "pygments_lexer": "ipython3",
   "version": "3.9.2"
  }
 },
 "nbformat": 4,
 "nbformat_minor": 5
}
