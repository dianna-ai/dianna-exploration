{
 "cells": [
  {
   "cell_type": "code",
   "execution_count": 1,
   "id": "returning-community",
   "metadata": {},
   "outputs": [],
   "source": [
    "from ipycanvas import Canvas\n",
    "import matplotlib.pyplot as plt\n",
    "import ipywidgets\n",
    "import numpy as np"
   ]
  },
  {
   "cell_type": "code",
   "execution_count": 2,
   "id": "nervous-disclaimer",
   "metadata": {},
   "outputs": [
    {
     "data": {
      "application/vnd.jupyter.widget-view+json": {
       "model_id": "585dd57678994da288cae95eb4667e9b",
       "version_major": 2,
       "version_minor": 0
      },
      "text/plain": [
       "Canvas(height=200, sync_image_data=True, width=200)"
      ]
     },
     "metadata": {},
     "output_type": "display_data"
    }
   ],
   "source": [
    "width = 200\n",
    "height = 200\n",
    "canvas = Canvas(width=width, height=height, sync_image_data=True)\n",
    "canvas"
   ]
  },
  {
   "cell_type": "code",
   "execution_count": 3,
   "id": "viral-publication",
   "metadata": {},
   "outputs": [],
   "source": [
    "def on_event(kwargs):    \n",
    "    x = 0.5 * width\n",
    "    y = 0.5 * height\n",
    "    angle = 0\n",
    "#     length = 0.5 * height\n",
    "    if kwargs['name'] == 'value':\n",
    "        r = kwargs['new']\n",
    "        length = kwargs['new']\n",
    "    else:\n",
    "        raise Exception()\n",
    "#     draw_circle(x,y,r)\n",
    "    draw_triangle(x,y,length,angle)\n",
    "    data = canvas.get_image_data()\n",
    "#     plt.imshow(data)\n",
    "    \n",
    "    \n",
    "\n",
    "def draw_circle(x,y,radius):\n",
    "    canvas.clear()\n",
    "    canvas.fill_style = '#000000'\n",
    "    canvas.fill_circle(x,y,radius)\n",
    "    \n",
    "def draw_triangle(x, y, length, angle):\n",
    "    a = rot(angle).dot(np.array([0, length/np.sqrt(3)]))\n",
    "    b = rot(120).dot(a)\n",
    "    c = rot(120).dot(b)\n",
    "    m = np.array([x,y])\n",
    "    \n",
    "    canvas.clear()\n",
    "    canvas.fill_style = '#000000'\n",
    "    canvas.fill_polygon([a+m,b+m,c+m])\n",
    "    \n",
    "    \n",
    "def rot(angle_deg):\n",
    "    angle = np.deg2rad(angle_deg)\n",
    "    return np.array([[np.cos(angle), np.sin(angle)], [-np.sin(angle), np.cos(angle)]])\n",
    "    \n",
    "    "
   ]
  },
  {
   "cell_type": "code",
   "execution_count": 4,
   "id": "polish-cleaning",
   "metadata": {},
   "outputs": [
    {
     "data": {
      "application/vnd.jupyter.widget-view+json": {
       "model_id": "896fba6a331747a0af72500f38f7e9c1",
       "version_major": 2,
       "version_minor": 0
      },
      "text/plain": [
       "IntSlider(value=0)"
      ]
     },
     "metadata": {},
     "output_type": "display_data"
    }
   ],
   "source": [
    "w = ipywidgets.IntSlider()\n",
    "w.observe(on_event, names='value')\n",
    "w"
   ]
  },
  {
   "cell_type": "code",
   "execution_count": 5,
   "id": "oriented-playback",
   "metadata": {},
   "outputs": [],
   "source": [
    "draw_circle(50,50, 50)"
   ]
  }
 ],
 "metadata": {
  "kernelspec": {
   "display_name": "Python 3",
   "language": "python",
   "name": "python3"
  },
  "language_info": {
   "codemirror_mode": {
    "name": "ipython",
    "version": 3
   },
   "file_extension": ".py",
   "mimetype": "text/x-python",
   "name": "python",
   "nbconvert_exporter": "python",
   "pygments_lexer": "ipython3",
   "version": "3.9.2"
  }
 },
 "nbformat": 4,
 "nbformat_minor": 5
}
