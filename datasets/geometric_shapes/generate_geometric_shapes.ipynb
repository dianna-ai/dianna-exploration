{
 "cells": [
  {
   "cell_type": "code",
   "execution_count": 2,
   "id": "peripheral-vault",
   "metadata": {},
   "outputs": [],
   "source": [
    "import io\n",
    "import tqdm\n",
    "import numpy as np\n",
    "import matplotlib.pyplot as plt\n",
    "from matplotlib import patches"
   ]
  },
  {
   "cell_type": "code",
   "execution_count": 3,
   "id": "democratic-aquarium",
   "metadata": {},
   "outputs": [
    {
     "data": {
      "image/png": "[encoded data removed]",
      "text/plain": [
       "<Figure size 46.08x46.08 with 1 Axes>"
      ]
     },
     "metadata": {
      "needs_background": "light"
     },
     "output_type": "display_data"
    }
   ],
   "source": [
    "# Size of canvas\n",
    "width = 64\n",
    "height = 64\n",
    "# Actual value of DPI does not matter for final output\n",
    "# Larger value makes the matplotlib canvas smaller on screen\n",
    "dpi = 100\n",
    "\n",
    "# create a figure with fixed size\n",
    "fig = plt.figure(frameon=False)\n",
    "fig.set_size_inches(width/dpi, height/dpi)\n",
    "ax = plt.Axes(fig, [0., 0., 1., 1.])\n",
    "ax.axis('off')\n",
    "fig.add_axes(ax)\n",
    "\n",
    "ax.set_xlim(0, width)\n",
    "ax.set_ylim(0, height)\n",
    "\n",
    "io_buf = io.BytesIO()"
   ]
  },
  {
   "cell_type": "code",
   "execution_count": 36,
   "id": "constitutional-chinese",
   "metadata": {},
   "outputs": [],
   "source": [
    "def draw_shape(shape, x=.5*width, y=.5*height, **kwargs):\n",
    "    if shape == 'circle':\n",
    "        patch = generate_circle(x, y, **kwargs)\n",
    "    elif shape == 'triangle':\n",
    "        patch = generate_triangle(x, y, **kwargs)\n",
    "    else:\n",
    "        raise ValueError(f\"Invalid shape: {shape}\")\n",
    "    # keep reference to the patch connected to the axis so it can be removed later\n",
    "    patch = ax.add_patch(patch)\n",
    "    # extract data from image\n",
    "    # taken from https://stackoverflow.com/questions/7821518/matplotlib-save-plot-to-numpy-array\n",
    "    io_buf.seek(0)\n",
    "    fig.savefig(io_buf, format='rgba', dpi=dpi)\n",
    "    io_buf.seek(0)\n",
    "    # load (flattened) image into numpy array, reshape, keep only one channel (R)\n",
    "    img = np.frombuffer(io_buf.getvalue(), dtype=np.uint8).reshape(width, height, -1)[..., 0]\n",
    "\n",
    "    # remove the patch from the axis\n",
    "    patch.remove()\n",
    "    return img\n",
    "\n",
    "def generate_circle(x, y, radius):\n",
    "    return patches.Circle((x, y), radius, fc='k', ec='k', antialiased=True)\n",
    "\n",
    "def generate_triangle(x, y, radius, angle):\n",
    "    a = rot(angle).dot(np.array([0, radius]))\n",
    "    b = rot(120).dot(a)\n",
    "    c = rot(120).dot(b)\n",
    "    m = np.array([x,y])\n",
    "    return patches.Polygon([a+m, b+m, c+m], closed=True, fill=True, antialiased=True)\n",
    "    \n",
    "def rot(angle_deg):\n",
    "    angle = np.deg2rad(angle_deg)\n",
    "    return np.array([[np.cos(angle), np.sin(angle)], [-np.sin(angle), np.cos(angle)]])"
   ]
  },
  {
   "cell_type": "code",
   "execution_count": 37,
   "id": "digital-hybrid",
   "metadata": {},
   "outputs": [
    {
     "name": "stderr",
     "output_type": "stream",
     "text": [
      "32it [00:00, 236.28it/s]\n",
      "32it [00:00, 351.36it/s]\n"
     ]
    }
   ],
   "source": [
    "ncircle = 32\n",
    "ntriangle = 32\n",
    "shapes = np.empty(shape=(ncircle+ntriangle, height, width))\n",
    "\n",
    "# circles\n",
    "radii = np.random.uniform(.2*min(width, height), .48*min(width, height), ncircle)\n",
    "for n, radius in tqdm.tqdm(enumerate(radii)):\n",
    "    shapes[n] = draw_shape('circle', radius=radius)\n",
    "\n",
    "# triangles\n",
    "radii = np.random.uniform(.2*min(width, height), .48*min(width, height), ntriangle)\n",
    "angles = np.random.uniform(0, 360, ntriangle)\n",
    "for n, radius in tqdm.tqdm(enumerate(radii)):\n",
    "    angle = angles[n]\n",
    "    shapes[ncircle+n] = draw_shape('triangle', radius=radius, angle=angle)\n",
    "    \n",
    "# scale to 0-1\n",
    "shapes = shapes.astype(float) / 255."
   ]
  },
  {
   "cell_type": "code",
   "execution_count": 38,
   "id": "saving-diagnosis",
   "metadata": {},
   "outputs": [],
   "source": [
    "labels = np.zeros(ncircle+ntriangle, dtype=int)\n",
    "# circle=0, triangle=1\n",
    "labels[ncircle:] = 1"
   ]
  },
  {
   "cell_type": "code",
   "execution_count": 39,
   "id": "entertaining-fifth",
   "metadata": {},
   "outputs": [],
   "source": [
    "indices = np.random.choice(ncircle+ntriangle, size=ncircle+ntriangle, replace=False)\n",
    "shapes = shapes[indices]\n",
    "labels = labels[indices]"
   ]
  },
  {
   "cell_type": "code",
   "execution_count": 40,
   "id": "colonial-pacific",
   "metadata": {},
   "outputs": [],
   "source": [
    "np.savez_compressed('shapes.npz', X=shapes, y=labels)"
   ]
  },
  {
   "cell_type": "code",
   "execution_count": 41,
   "id": "lasting-meditation",
   "metadata": {},
   "outputs": [
    {
     "name": "stdout",
     "output_type": "stream",
     "text": [
      " 16K\tshapes.npz\n"
     ]
    }
   ],
   "source": [
    "!du -hs shapes.npz"
   ]
  },
  {
   "cell_type": "code",
   "execution_count": 42,
   "id": "excessive-honey",
   "metadata": {},
   "outputs": [],
   "source": [
    "fd = np.load('shapes.npz')\n",
    "X = fd['X']\n",
    "y = fd['y']\n",
    "fd.close()"
   ]
  },
  {
   "cell_type": "code",
   "execution_count": 43,
   "id": "aggregate-converter",
   "metadata": {},
   "outputs": [
    {
     "data": {
      "text/plain": [
       "<matplotlib.image.AxesImage at 0x119993a30>"
      ]
     },
     "execution_count": 43,
     "metadata": {},
     "output_type": "execute_result"
    },
    {
     "data": {
      "image/png": "[encoded data removed]",
      "text/plain": [
       "<Figure size 432x288 with 1 Axes>"
      ]
     },
     "metadata": {
      "needs_background": "light"
     },
     "output_type": "display_data"
    }
   ],
   "source": [
    "triangle = draw_shape('triangle', radius=.48*width, angle=40)\n",
    "circle = draw_shape('circle', radius=.48*width)\n",
    "data = (.5 * circle) + (.5 * triangle)\n",
    "\n",
    "plt.figure()\n",
    "plt.imshow(data, cmap='gray')"
   ]
  },
  {
   "cell_type": "code",
   "execution_count": 30,
   "id": "sustainable-tradition",
   "metadata": {},
   "outputs": [],
   "source": [
    "overview_fig, axes = plt.subplots(nrows=8, ncols=8, figsize=(8, 8))\n",
    "axes = axes.flatten()\n",
    "\n",
    "classes = ['circle', 'triangle']\n",
    "\n",
    "for i in range(64):\n",
    "    a = axes[i]\n",
    "    a.imshow(X[i], cmap='gray')\n",
    "    a.set_title(classes[y[i]], fontsize=8)\n",
    "    a.axis('off')\n",
    "    \n",
    "overview_fig.tight_layout()"
   ]
  },
  {
   "cell_type": "code",
   "execution_count": null,
   "id": "latter-brisbane",
   "metadata": {},
   "outputs": [],
   "source": []
  }
 ],
 "metadata": {
  "kernelspec": {
   "display_name": "Python 3",
   "language": "python",
   "name": "python3"
  },
  "language_info": {
   "codemirror_mode": {
    "name": "ipython",
    "version": 3
   },
   "file_extension": ".py",
   "mimetype": "text/x-python",
   "name": "python",
   "nbconvert_exporter": "python",
   "pygments_lexer": "ipython3",
   "version": "3.9.1"
  }
 },
 "nbformat": 4,
 "nbformat_minor": 5
}
