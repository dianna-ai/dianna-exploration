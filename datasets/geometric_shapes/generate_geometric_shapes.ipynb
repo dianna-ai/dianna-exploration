{
 "cells": [
  {
   "cell_type": "code",
   "execution_count": 1,
   "id": "invalid-advice",
   "metadata": {},
   "outputs": [],
   "source": [
    "from ipycanvas import Canvas\n",
    "import matplotlib.pyplot as plt\n",
    "import ipywidgets\n",
    "import numpy as np\n",
    "import tqdm\n",
    "\n",
    "width = 200\n",
    "height = 200"
   ]
  },
  {
   "cell_type": "code",
   "execution_count": 2,
   "id": "academic-civilization",
   "metadata": {},
   "outputs": [],
   "source": [
    "def on_event(kwargs):    \n",
    "    x = 0.5 * width\n",
    "    y = 0.5 * height\n",
    "    angle = 0\n",
    "#     length = 0.5 * height\n",
    "    if kwargs['name'] == 'value':\n",
    "        r = kwargs['new']\n",
    "        length = kwargs['new']\n",
    "    else:\n",
    "        raise Exception()\n",
    "#     draw_circle(r,x,y)\n",
    "    draw_triangle(length,angle, x, y)\n",
    "    data = canvas.get_image_data()\n",
    "#     plt.imshow(data)\n",
    "    \n",
    "    \n",
    "\n",
    "def draw_circle(radius, x=.5*width, y=.5*height):\n",
    "    canvas.clear()\n",
    "    canvas.fill_circle(x,y,radius)\n",
    "    \n",
    "def draw_triangle(radius, angle, x=.5*width, y=.5*height):\n",
    "#     radius = length/np.sqrt(3)\n",
    "    a = rot(angle).dot(np.array([0, radius]))\n",
    "    b = rot(120).dot(a)\n",
    "    c = rot(120).dot(b)\n",
    "    m = np.array([x,y])\n",
    "    \n",
    "    canvas.clear()\n",
    "    canvas.fill_polygon([a+m,b+m,c+m])\n",
    "    \n",
    "    \n",
    "def rot(angle_deg):\n",
    "    angle = np.deg2rad(angle_deg)\n",
    "    return np.array([[np.cos(angle), np.sin(angle)], [-np.sin(angle), np.cos(angle)]])\n",
    "    \n",
    "\n"
   ]
  },
  {
   "cell_type": "code",
   "execution_count": 3,
   "id": "incorporate-stuff",
   "metadata": {},
   "outputs": [
    {
     "data": {
      "application/vnd.jupyter.widget-view+json": {
       "model_id": "4aeb016e2323478a9d46c93e26f78d56",
       "version_major": 2,
       "version_minor": 0
      },
      "text/plain": [
       "Canvas(height=200, sync_image_data=True, width=200)"
      ]
     },
     "metadata": {},
     "output_type": "display_data"
    }
   ],
   "source": [
    "canvas = Canvas(width=width, height=height, sync_image_data=True)\n",
    "canvas.fill_style = '#000000'\n",
    "canvas"
   ]
  },
  {
   "cell_type": "code",
   "execution_count": 4,
   "id": "organic-details",
   "metadata": {},
   "outputs": [
    {
     "data": {
      "application/vnd.jupyter.widget-view+json": {
       "model_id": "0a7b05a847304acb9a4934080c43dc60",
       "version_major": 2,
       "version_minor": 0
      },
      "text/plain": [
       "IntSlider(value=0)"
      ]
     },
     "metadata": {},
     "output_type": "display_data"
    }
   ],
   "source": [
    "w = ipywidgets.IntSlider()\n",
    "w.observe(on_event, names='value')\n",
    "w"
   ]
  },
  {
   "cell_type": "code",
   "execution_count": 5,
   "id": "lined-steam",
   "metadata": {},
   "outputs": [
    {
     "name": "stderr",
     "output_type": "stream",
     "text": [
      "10it [00:00, 1257.66it/s]\n",
      "10it [00:00, 827.80it/s]\n"
     ]
    }
   ],
   "source": [
    "class GenerateShapes:\n",
    "    def __init__(self, ncircle, ntriangle):\n",
    "        self.shapes = np.empty(shape=(ncircle+ntriangle, height, width))\n",
    "        self.counter = 0\n",
    "\n",
    "    def add_shape(self, *args, **kwargs):\n",
    "        print(\"adding shape\")\n",
    "        self.shapes[self.counter] = canvas.get_image_data()[..., 0]  # select first channel=R\n",
    "        self.counter += 1\n",
    "        \n",
    "ncircle = 10\n",
    "ntriangle = 10\n",
    "\n",
    "generator = GenerateShapes(ncircle, ntriangle)\n",
    "canvas.observe(generator.add_shape, 'image_data')\n",
    "\n",
    "# circles\n",
    "radii = np.random.uniform(0, .5*min(width, height), ncircle)\n",
    "for n, radius in tqdm.tqdm(enumerate(radii)):\n",
    "    draw_circle(radius)\n",
    "    \n",
    "# triangles\n",
    "radii = np.random.uniform(0, .5*min(width, height), ntriangle)\n",
    "angles = np.random.uniform(0, 360, ntriangle)\n",
    "for n, radius in tqdm.tqdm(enumerate(radii)):\n",
    "    angle = angles[n]\n",
    "    draw_triangle(radius, angle)\n"
   ]
  },
  {
   "cell_type": "code",
   "execution_count": 6,
   "id": "occasional-trauma",
   "metadata": {},
   "outputs": [],
   "source": [
    "labels = np.zeros(ncircle+ntriangle, dtype=int)\n",
    "# circle=0, triangle=1\n",
    "labels[ncircle:] = 1"
   ]
  },
  {
   "cell_type": "code",
   "execution_count": 7,
   "id": "organizational-clarity",
   "metadata": {},
   "outputs": [],
   "source": [
    "indices = np.random.choice(ncircle+ntriangle, size=ncircle+ntriangle, replace=False)\n",
    "generator.shapes = generator.shapes[indices]\n",
    "labels = labels[indices]"
   ]
  },
  {
   "cell_type": "code",
   "execution_count": 8,
   "id": "desperate-richardson",
   "metadata": {},
   "outputs": [],
   "source": [
    "np.savez_compressed('shapes.npz', X=generator.shapes, y=labels)"
   ]
  },
  {
   "cell_type": "code",
   "execution_count": 9,
   "id": "opening-contrary",
   "metadata": {},
   "outputs": [
    {
     "name": "stdout",
     "output_type": "stream",
     "text": [
      "8.0K\tshapes.npz\r\n"
     ]
    }
   ],
   "source": [
    "!du -hs shapes.npz"
   ]
  },
  {
   "cell_type": "code",
   "execution_count": 10,
   "id": "homeless-uniform",
   "metadata": {},
   "outputs": [],
   "source": [
    "fd = np.load('shapes.npz')\n",
    "X = fd['X']\n",
    "y = fd['y']\n",
    "fd.close()"
   ]
  },
  {
   "cell_type": "code",
   "execution_count": 11,
   "id": "theoretical-envelope",
   "metadata": {},
   "outputs": [
    {
     "data": {
      "text/plain": [
       "<matplotlib.image.AxesImage at 0x11aee31f0>"
      ]
     },
     "execution_count": 11,
     "metadata": {},
     "output_type": "execute_result"
    },
    {
     "data": {
      "image/png": "[encoded data removed]",
      "text/plain": [
       "<Figure size 432x288 with 1 Axes>"
      ]
     },
     "metadata": {
      "needs_background": "light"
     },
     "output_type": "display_data"
    }
   ],
   "source": [
    "plt.imshow(X[0], cmap='binary')"
   ]
  }
 ],
 "metadata": {
  "kernelspec": {
   "display_name": "Python 3",
   "language": "python",
   "name": "python3"
  },
  "language_info": {
   "codemirror_mode": {
    "name": "ipython",
    "version": 3
   },
   "file_extension": ".py",
   "mimetype": "text/x-python",
   "name": "python",
   "nbconvert_exporter": "python",
   "pygments_lexer": "ipython3",
   "version": "3.9.1"
  }
 },
 "nbformat": 4,
 "nbformat_minor": 5
}
