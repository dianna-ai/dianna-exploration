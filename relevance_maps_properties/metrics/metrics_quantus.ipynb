{
 "cells": [
  {
   "attachments": {},
   "cell_type": "markdown",
   "metadata": {},
   "source": [
    "<img width=\"150\" alt=\"Logo_ER10\" src=\"https://user-images.githubusercontent.com/3244249/151994514-b584b984-a148-4ade-80ee-0f88b0aefa45.png\">\n",
    "\n",
    "### Using Quantus Evaluation with DIANNA\n",
    "This notebook demonstrates the use of [Quantus](https://github.com/understandable-machine-intelligence-lab/Quantus) with the use of DIANNA's explanation methods. <br> We will demonstrate the necessary input and output constraints and postprocessing that is necessary to ensure integration between the two libraries. "
   ]
  },
  {
   "cell_type": "code",
   "execution_count": 23,
   "metadata": {},
   "outputs": [],
   "source": [
    "import warnings\n",
    "warnings.filterwarnings('ignore') # disable warnings relateds to versions of tf\n",
    "import numpy as np\n",
    "import dianna\n",
    "import onnx\n",
    "import quantus\n",
    "\n",
    "from metrics import Incremental_deletion\n",
    "from utils import * # Imports utilities for quantus compatability\n",
    "\n",
    "from onnx_tf.backend import prepare\n",
    "import matplotlib.pyplot as plt\n",
    "from pathlib import Path"
   ]
  },
  {
   "attachments": {},
   "cell_type": "markdown",
   "metadata": {},
   "source": [
    "### 1 - Loading in the MNIST dataset"
   ]
  },
  {
   "cell_type": "code",
   "execution_count": 24,
   "metadata": {},
   "outputs": [],
   "source": [
    "# # load dataset\n",
    "data = np.load(Path().absolute().parent / 'data/binary-mnist.npz')\n",
    "# load testing data and the related labels\n",
    "X_test = data['X_test'].astype(np.float32).reshape([-1, 28, 28, 1]) / 255"
   ]
  },
  {
   "cell_type": "code",
   "execution_count": 25,
   "metadata": {},
   "outputs": [],
   "source": [
    "# Load saved onnx model\n",
    "onnx_model_path = Path('../models', 'mnist_model_tf.onnx')\n",
    "onnx_model = onnx.load(onnx_model_path)\n",
    "# get the output node\n",
    "output_node = prepare(onnx_model, gen_tensor_dict=True).outputs[0]"
   ]
  },
  {
   "cell_type": "code",
   "execution_count": 26,
   "metadata": {},
   "outputs": [
    {
     "name": "stdout",
     "output_type": "stream",
     "text": [
      "The predicted class is: digit 0\n"
     ]
    },
    {
     "data": {
      "text/plain": [
       "<matplotlib.image.AxesImage at 0x7f3dc72e5cd0>"
      ]
     },
     "execution_count": 26,
     "metadata": {},
     "output_type": "execute_result"
    },
    {
     "data": {
      "image/png": "[encoded data removed]",
      "text/plain": [
       "<Figure size 640x480 with 1 Axes>"
      ]
     },
     "metadata": {},
     "output_type": "display_data"
    }
   ],
   "source": [
    "# class name\n",
    "class_name = ['digit 0', 'digit 1']\n",
    "# instance index\n",
    "i_instance = 1\n",
    "# select instance for testing\n",
    "test_sample = X_test[i_instance].copy().astype(np.float32)\n",
    "# model predictions with added batch axis to test sample\n",
    "predictions = prepare(onnx_model).run(test_sample[None, ...])[f'{output_node}']\n",
    "pred_class = class_name[np.argmax(predictions)]\n",
    "print(\"The predicted class is:\", pred_class)\n",
    "plt.imshow(X_test[i_instance][:,:,0], cmap='gray')  # 0 for channel"
   ]
  },
  {
   "attachments": {},
   "cell_type": "markdown",
   "metadata": {},
   "source": [
    "### 2 - Batching the input \n",
    "\n",
    "Quantus requires batched input variables, which we introduce here. "
   ]
  },
  {
   "cell_type": "code",
   "execution_count": 32,
   "metadata": {},
   "outputs": [
    {
     "data": {
      "text/plain": [
       "(1, 28, 28, 1)"
      ]
     },
     "execution_count": 32,
     "metadata": {},
     "output_type": "execute_result"
    }
   ],
   "source": [
    "x_batch = test_sample[np.newaxis, ...]\n",
    "y_batch = np.array([0])\n",
    "\n",
    "x_batch.shape"
   ]
  },
  {
   "attachments": {},
   "cell_type": "markdown",
   "metadata": {},
   "source": [
    "### 3 - Checking available methods\n",
    "\n",
    "Below we display all the available methods in quantus"
   ]
  },
  {
   "cell_type": "code",
   "execution_count": 33,
   "metadata": {},
   "outputs": [
    {
     "data": {
      "text/plain": [
       "['Faithfulness',\n",
       " 'Robustness',\n",
       " 'Localisation',\n",
       " 'Complexity',\n",
       " 'Randomisation',\n",
       " 'Axiomatic']"
      ]
     },
     "execution_count": 33,
     "metadata": {},
     "output_type": "execute_result"
    }
   ],
   "source": [
    "quantus.helpers.constants.available_categories()"
   ]
  },
  {
   "cell_type": "code",
   "execution_count": 34,
   "metadata": {},
   "outputs": [
    {
     "data": {
      "text/plain": [
       "{'Faithfulness': ['Faithfulness Correlation',\n",
       "  'Faithfulness Estimate',\n",
       "  'Pixel-Flipping',\n",
       "  'Region Segmentation',\n",
       "  'Monotonicity-Arya',\n",
       "  'Monotonicity-Nguyen',\n",
       "  'Selectivity',\n",
       "  'SensitivityN',\n",
       "  'IROF',\n",
       "  'ROAD',\n",
       "  'Infidelity',\n",
       "  'Sufficiency'],\n",
       " 'Robustness': ['Continuity Test',\n",
       "  'Local Lipschitz Estimate',\n",
       "  'Max-Sensitivity',\n",
       "  'Avg-Sensitivity',\n",
       "  'Consistency',\n",
       "  'Relative Input Stability',\n",
       "  'Relative Output Stability',\n",
       "  'Relative Representation Stability'],\n",
       " 'Localisation': ['Pointing Game',\n",
       "  'Top-K Intersection',\n",
       "  'Relevance Mass Accuracy',\n",
       "  'Relevance Rank Accuracy',\n",
       "  'Attribution Localisation ',\n",
       "  'AUC',\n",
       "  'Focus'],\n",
       " 'Complexity': ['Sparseness', 'Complexity', 'Effective Complexity'],\n",
       " 'Randomisation': ['Model Parameter Randomisation', 'Random Logit'],\n",
       " 'Axiomatic': ['Completeness', 'NonSensitivity', 'InputInvariance']}"
      ]
     },
     "execution_count": 34,
     "metadata": {},
     "output_type": "execute_result"
    }
   ],
   "source": [
    "quantus.helpers.constants.available_metrics()"
   ]
  },
  {
   "attachments": {},
   "cell_type": "markdown",
   "metadata": {},
   "source": []
  },
  {
   "attachments": {},
   "cell_type": "markdown",
   "metadata": {},
   "source": [
    "### 4 - ONNX to Keras\n",
    "\n",
    "This is an experimental feature so keep in mind to **USE THIS WITH CARE**. This conversion requires the input names defined before pickling the model. <br> I have included a helper function that reads this name from the onnx_model as `get_onnx_names`. We then leverage the `onnx_to_keras` library that does the heavy lifting of conversion for us. "
   ]
  },
  {
   "cell_type": "code",
   "execution_count": 50,
   "metadata": {},
   "outputs": [
    {
     "name": "stderr",
     "output_type": "stream",
     "text": [
      "Unable to use `same` padding. Add ZeroPadding2D layer to fix shapes.\n",
      "Failed to use keras.layers.Add. Fallback to TF lambda.\n",
      "Failed to use keras.layers.Add. Fallback to TF lambda.\n"
     ]
    },
    {
     "name": "stdout",
     "output_type": "stream",
     "text": [
      "Tensor(\"Placeholder:0\", shape=(None, 128), dtype=float32) Tensor(\"Placeholder_1:0\", shape=(128,), dtype=float32)\n",
      "Tensor(\"Placeholder:0\", shape=(None, 2), dtype=float32) Tensor(\"Placeholder_1:0\", shape=(2,), dtype=float32)\n"
     ]
    }
   ],
   "source": [
    "from onnx2keras import onnx_to_keras\n",
    "\n",
    "feed_net_input, output = get_onnx_names(onnx_model)\n",
    "k_model = onnx_to_keras(onnx_model, net_feed_input, name_policy='renumerate', verbose=False)"
   ]
  },
  {
   "attachments": {},
   "cell_type": "markdown",
   "metadata": {},
   "source": [
    "### 5 - Using the metrics!\n",
    "\n",
    "Finally, we show how to use some of the metrics. Keep in mind that the integration between the two libraries is not particularly stable and therefore not all of the afformentioned metrics work. <br> Aditionally, it is vital to use the postprocess functions in order for the metrics to work. "
   ]
  },
  {
   "cell_type": "code",
   "execution_count": 49,
   "metadata": {},
   "outputs": [
    {
     "name": "stdout",
     "output_type": "stream",
     "text": [
      "Warnings and information:\n",
      " (1) The Avg Sensitivity metric is likely to be sensitive to the choice of amount of noise added 'lower_bound' and 'upper_bound', the number of samples iterated over 'nr_samples', the function to perturb the input 'perturb_func', the similarity metric 'similarity_func' as well as norm calculations on the numerator and denominator of the sensitivity equation i.e., 'norm_numerator' and 'norm_denominator'.  \n",
      " (2) If attributions are normalised or their absolute values are taken it may destroy or skew information in the explanation and as a result, affect the overall evaluation outcome.\n",
      " (3) Make sure to validate the choices for hyperparameters of the metric (by calling .get_params of the metric instance).\n",
      " (4) For further information, see original publication: Yeh, Chih-Kuan, et al. 'On the (in) fidelity and sensitivity for explanations.' arXiv preprint arXiv:1901.09392 (2019).\n",
      " (5) To disable these warnings set 'disable_warnings' = True when initialising the metric.\n",
      "\n"
     ]
    },
    {
     "name": "stderr",
     "output_type": "stream",
     "text": [
      "100%|██████████| 1/1 [00:03<00:00,  3.83s/it]\n",
      "100%|██████████| 1/1 [00:03<00:00,  3.85s/it]\n",
      "100%|██████████| 1/1 [00:03<00:00,  3.81s/it]\n",
      "100%|██████████| 1/1 [00:03<00:00,  3.84s/it]\n",
      "100%|██████████| 1/1 [00:03<00:00,  3.74s/it]\n",
      "100%|██████████| 1/1 [00:03<00:00,  3.79s/it]\n"
     ]
    },
    {
     "data": {
      "text/plain": [
       "[0.002556783560096721]"
      ]
     },
     "execution_count": 49,
     "metadata": {},
     "output_type": "execute_result"
    }
   ],
   "source": [
    "# Average Sensitivity: KernelSHAP\n",
    "quantus.AvgSensitivity(\n",
    "    nr_samples=5,\n",
    "    perturb_func=quantus.perturb_func.gaussian_noise,\n",
    ")(model=k_model, \n",
    "   x_batch=x_batch,\n",
    "   y_batch=y_batch,\n",
    "   a_batch=None,   \n",
    "   explain_func=SHAP_postprocess, \n",
    "   explain_func_kwargs={'model_or_function': onnx_model_path,\n",
    "                        \"input_data\": test_sample,\n",
    "                        \"labels\": range(1),\n",
    "                       }\n",
    ")"
   ]
  },
  {
   "cell_type": "code",
   "execution_count": 51,
   "metadata": {},
   "outputs": [
    {
     "name": "stdout",
     "output_type": "stream",
     "text": [
      "Warnings and information:\n",
      " (1) The Avg Sensitivity metric is likely to be sensitive to the choice of amount of noise added 'lower_bound' and 'upper_bound', the number of samples iterated over 'nr_samples', the function to perturb the input 'perturb_func', the similarity metric 'similarity_func' as well as norm calculations on the numerator and denominator of the sensitivity equation i.e., 'norm_numerator' and 'norm_denominator'.  \n",
      " (2) If attributions are normalised or their absolute values are taken it may destroy or skew information in the explanation and as a result, affect the overall evaluation outcome.\n",
      " (3) Make sure to validate the choices for hyperparameters of the metric (by calling .get_params of the metric instance).\n",
      " (4) For further information, see original publication: Yeh, Chih-Kuan, et al. 'On the (in) fidelity and sensitivity for explanations.' arXiv preprint arXiv:1901.09392 (2019).\n",
      " (5) To disable these warnings set 'disable_warnings' = True when initialising the metric.\n",
      "\n"
     ]
    },
    {
     "name": "stderr",
     "output_type": "stream",
     "text": [
      "100%|██████████| 5000/5000 [00:07<00:00, 704.54it/s]\n",
      "100%|██████████| 5000/5000 [00:07<00:00, 631.43it/s]\n",
      "100%|██████████| 5000/5000 [00:08<00:00, 594.72it/s]\n",
      "100%|██████████| 5000/5000 [00:08<00:00, 620.82it/s]\n",
      " 95%|█████████▌| 4774/5000 [00:07<00:00, 683.47it/s]"
     ]
    }
   ],
   "source": [
    "# Average Sensitivity: LIME\n",
    "quantus.AvgSensitivity(\n",
    "    nr_samples=5,\n",
    "    perturb_func=quantus.perturb_func.gaussian_noise,\n",
    ")(model=k_model, \n",
    "   x_batch=x_batch,\n",
    "   y_batch=y_batch,\n",
    "   a_batch=None,   \n",
    "   explain_func=LIME_postprocess, \n",
    "   explain_func_kwargs={'model_or_function': onnx_model_path,\n",
    "                        \"input_data\": test_sample,\n",
    "                        \"labels\": range(1),\n",
    "                       }\n",
    ")"
   ]
  },
  {
   "cell_type": "code",
   "execution_count": null,
   "metadata": {},
   "outputs": [],
   "source": [
    "# Average Sensitivity: RISE\n",
    "quantus.AvgSensitivity(\n",
    "    nr_samples=5,\n",
    "    perturb_func=quantus.perturb_func.gaussian_noise,\n",
    ")(model=k_model, \n",
    "   x_batch=x_batch,\n",
    "   y_batch=y_batch,\n",
    "   a_batch=None,   \n",
    "   explain_func=dianna.explain_image, \n",
    "   explain_func_kwargs={'model_or_function': onnx_model_path,\n",
    "                        \"input_data\": test_sample,\n",
    "                        \"method\": \"RISE\",\n",
    "                        \"labels\": range(1),\n",
    "                       }\n",
    ")"
   ]
  }
 ],
 "metadata": {
  "kernelspec": {
   "display_name": "venv",
   "language": "python",
   "name": "python3"
  },
  "language_info": {
   "codemirror_mode": {
    "name": "ipython",
    "version": 3
   },
   "file_extension": ".py",
   "mimetype": "text/x-python",
   "name": "python",
   "nbconvert_exporter": "python",
   "pygments_lexer": "ipython3",
   "version": "3.9.16"
  },
  "orig_nbformat": 4
 },
 "nbformat": 4,
 "nbformat_minor": 2
}
