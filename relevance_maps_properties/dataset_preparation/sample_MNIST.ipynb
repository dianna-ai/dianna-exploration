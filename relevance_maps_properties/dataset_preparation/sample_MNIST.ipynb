{
 "cells": [
  {
   "cell_type": "code",
   "execution_count": 1,
   "metadata": {},
   "outputs": [
    {
     "name": "stderr",
     "output_type": "stream",
     "text": [
      "2023-07-23 16:22:55.138398: I tensorflow/core/platform/cpu_feature_guard.cc:193] This TensorFlow binary is optimized with oneAPI Deep Neural Network Library (oneDNN) to use the following CPU instructions in performance-critical operations:  AVX2 FMA\n",
      "To enable them in other operations, rebuild TensorFlow with the appropriate compiler flags.\n",
      "2023-07-23 16:22:55.542538: W tensorflow/compiler/xla/stream_executor/platform/default/dso_loader.cc:64] Could not load dynamic library 'libcudart.so.11.0'; dlerror: libcudart.so.11.0: cannot open shared object file: No such file or directory\n",
      "2023-07-23 16:22:55.542561: I tensorflow/compiler/xla/stream_executor/cuda/cudart_stub.cc:29] Ignore above cudart dlerror if you do not have a GPU set up on your machine.\n",
      "2023-07-23 16:22:56.755241: W tensorflow/compiler/xla/stream_executor/platform/default/dso_loader.cc:64] Could not load dynamic library 'libnvinfer.so.7'; dlerror: libnvinfer.so.7: cannot open shared object file: No such file or directory\n",
      "2023-07-23 16:22:56.755528: W tensorflow/compiler/xla/stream_executor/platform/default/dso_loader.cc:64] Could not load dynamic library 'libnvinfer_plugin.so.7'; dlerror: libnvinfer_plugin.so.7: cannot open shared object file: No such file or directory\n",
      "2023-07-23 16:22:56.755542: W tensorflow/compiler/tf2tensorrt/utils/py_utils.cc:38] TF-TRT Warning: Cannot dlopen some TensorRT libraries. If you would like to use Nvidia GPU with TensorRT, please make sure the missing libraries mentioned above are installed properly.\n"
     ]
    }
   ],
   "source": [
    "import warnings\n",
    "warnings.filterwarnings('ignore') # disable warnings relateds to versions of tf\n",
    "import numpy as np\n",
    "import dianna\n",
    "import onnx\n",
    "\n",
    "from onnx_tf.backend import prepare\n",
    "import matplotlib.pyplot as plt\n",
    "from pathlib import Path"
   ]
  },
  {
   "cell_type": "code",
   "execution_count": 2,
   "metadata": {},
   "outputs": [],
   "source": [
    "# # load dataset\n",
    "data = np.load(Path().absolute().parent / 'data/binary-mnist.npz')\n",
    "# load testing data and the related labels\n",
    "X_test = data['X_test'].astype(np.float32).reshape([-1, 28, 28, 1]) / 255\n",
    "y_test = data['y_test']"
   ]
  },
  {
   "cell_type": "code",
   "execution_count": 3,
   "metadata": {},
   "outputs": [
    {
     "name": "stderr",
     "output_type": "stream",
     "text": [
      "2023-07-23 16:22:59.687877: W tensorflow/compiler/xla/stream_executor/platform/default/dso_loader.cc:64] Could not load dynamic library 'libcuda.so.1'; dlerror: libcuda.so.1: cannot open shared object file: No such file or directory\n",
      "2023-07-23 16:22:59.688116: W tensorflow/compiler/xla/stream_executor/cuda/cuda_driver.cc:265] failed call to cuInit: UNKNOWN ERROR (303)\n",
      "2023-07-23 16:22:59.688148: I tensorflow/compiler/xla/stream_executor/cuda/cuda_diagnostics.cc:156] kernel driver does not appear to be running on this host (debian): /proc/driver/nvidia/version does not exist\n",
      "2023-07-23 16:22:59.689250: I tensorflow/core/platform/cpu_feature_guard.cc:193] This TensorFlow binary is optimized with oneAPI Deep Neural Network Library (oneDNN) to use the following CPU instructions in performance-critical operations:  AVX2 FMA\n",
      "To enable them in other operations, rebuild TensorFlow with the appropriate compiler flags.\n"
     ]
    }
   ],
   "source": [
    "# Load saved onnx model\n",
    "onnx_model_path = Path('../models', 'mnist_model_tf.onnx')\n",
    "onnx_model = onnx.load(onnx_model_path)\n",
    "# get the output node\n",
    "output_node = prepare(onnx_model, gen_tensor_dict=True).outputs[0]"
   ]
  },
  {
   "cell_type": "code",
   "execution_count": 4,
   "metadata": {},
   "outputs": [
    {
     "name": "stdout",
     "output_type": "stream",
     "text": [
      "WARNING:tensorflow:From /home/willem/.local/lib/python3.9/site-packages/tensorflow/python/autograph/pyct/static_analysis/liveness.py:83: Analyzer.lamba_check (from tensorflow.python.autograph.pyct.static_analysis.liveness) is deprecated and will be removed after 2023-09-23.\n",
      "Instructions for updating:\n",
      "Lambda fuctions will be no more assumed to be used in the statement where they are used, or at least in the same block. https://github.com/tensorflow/tensorflow/issues/56089\n"
     ]
    },
    {
     "name": "stderr",
     "output_type": "stream",
     "text": [
      "2023-07-23 16:23:06.433304: W tensorflow/tsl/framework/cpu_allocator_impl.cc:82] Allocation of 183006720 exceeds 10% of free system memory.\n",
      "2023-07-23 16:23:06.589935: W tensorflow/tsl/framework/cpu_allocator_impl.cc:82] Allocation of 183006720 exceeds 10% of free system memory.\n",
      "2023-07-23 16:23:06.731591: W tensorflow/tsl/framework/cpu_allocator_impl.cc:82] Allocation of 183006720 exceeds 10% of free system memory.\n",
      "2023-07-23 16:23:06.810887: W tensorflow/tsl/framework/cpu_allocator_impl.cc:82] Allocation of 311869440 exceeds 10% of free system memory.\n",
      "2023-07-23 16:23:07.092524: W tensorflow/tsl/framework/cpu_allocator_impl.cc:82] Allocation of 311869440 exceeds 10% of free system memory.\n"
     ]
    },
    {
     "data": {
      "text/plain": [
       "array([[0.50103104, 0.49896887],\n",
       "       [0.50657696, 0.493423  ],\n",
       "       [0.4870078 , 0.51299214],\n",
       "       [0.47869465, 0.52130526],\n",
       "       [0.5268018 , 0.47319815],\n",
       "       [0.53240806, 0.467592  ],\n",
       "       [0.53450626, 0.46549365],\n",
       "       [0.53516006, 0.46483985],\n",
       "       [0.54152083, 0.45847908],\n",
       "       [0.548066  , 0.4519339 ],\n",
       "       [0.4471883 , 0.5528116 ],\n",
       "       [0.44067955, 0.5593204 ],\n",
       "       [0.4393693 , 0.5606307 ],\n",
       "       [0.4297149 , 0.570285  ],\n",
       "       [0.42618632, 0.5738137 ],\n",
       "       [0.4241363 , 0.5758636 ],\n",
       "       [0.58537114, 0.41462895],\n",
       "       [0.41276965, 0.58723027],\n",
       "       [0.591211  , 0.4087889 ],\n",
       "       [0.39739138, 0.6026086 ],\n",
       "       [0.60531074, 0.3946892 ],\n",
       "       [0.39411977, 0.6058803 ],\n",
       "       [0.6150188 , 0.38498116],\n",
       "       [0.38481352, 0.6151865 ],\n",
       "       [0.37883347, 0.6211665 ],\n",
       "       [0.37492347, 0.62507653],\n",
       "       [0.36917955, 0.6308205 ],\n",
       "       [0.36457154, 0.63542837],\n",
       "       [0.35691208, 0.64308786],\n",
       "       [0.6452054 , 0.3547946 ],\n",
       "       [0.34979618, 0.6502038 ],\n",
       "       [0.3436881 , 0.656312  ],\n",
       "       [0.33965912, 0.66034096],\n",
       "       [0.66523707, 0.33476296],\n",
       "       [0.32998934, 0.6700106 ],\n",
       "       [0.6759051 , 0.32409492],\n",
       "       [0.31977352, 0.68022645],\n",
       "       [0.313982  , 0.686018  ],\n",
       "       [0.3089015 , 0.6910985 ],\n",
       "       [0.6958449 , 0.30415505],\n",
       "       [0.29984787, 0.70015216],\n",
       "       [0.29492924, 0.70507073],\n",
       "       [0.71005726, 0.28994268],\n",
       "       [0.2846834 , 0.7153166 ],\n",
       "       [0.2797935 , 0.7202065 ],\n",
       "       [0.7250401 , 0.2749599 ],\n",
       "       [0.26948082, 0.7305191 ],\n",
       "       [0.26494515, 0.7350549 ],\n",
       "       [0.25998405, 0.740016  ],\n",
       "       [0.25486958, 0.74513036],\n",
       "       [0.24990143, 0.7500985 ],\n",
       "       [0.24494995, 0.75505   ],\n",
       "       [0.2398431 , 0.76015687],\n",
       "       [0.2349452 , 0.76505476],\n",
       "       [0.22955802, 0.77044195],\n",
       "       [0.22485289, 0.77514714],\n",
       "       [0.78009313, 0.21990678],\n",
       "       [0.21463922, 0.7853608 ],\n",
       "       [0.20978577, 0.79021424],\n",
       "       [0.7950202 , 0.20497978],\n",
       "       [0.19998622, 0.80001384],\n",
       "       [0.19498429, 0.8050157 ],\n",
       "       [0.18996029, 0.81003976],\n",
       "       [0.8151575 , 0.18484251],\n",
       "       [0.17996542, 0.82003456],\n",
       "       [0.17498447, 0.8250155 ],\n",
       "       [0.1699692 , 0.83003074],\n",
       "       [0.16499889, 0.8350012 ],\n",
       "       [0.8400382 , 0.15996175],\n",
       "       [0.15497   , 0.84503   ],\n",
       "       [0.14999674, 0.8500032 ],\n",
       "       [0.85508233, 0.14491764],\n",
       "       [0.13995542, 0.8600446 ],\n",
       "       [0.86519283, 0.13480726],\n",
       "       [0.87020886, 0.12979111],\n",
       "       [0.87502503, 0.12497506],\n",
       "       [0.88002956, 0.11997036],\n",
       "       [0.8851021 , 0.11489798],\n",
       "       [0.8904588 , 0.1095411 ],\n",
       "       [0.89507574, 0.1049242 ],\n",
       "       [0.9002142 , 0.0997858 ],\n",
       "       [0.90519595, 0.09480409],\n",
       "       [0.910051  , 0.089949  ],\n",
       "       [0.9150493 , 0.08495078],\n",
       "       [0.92003334, 0.07996674],\n",
       "       [0.92501473, 0.07498517],\n",
       "       [0.9300515 , 0.06994846],\n",
       "       [0.9350422 , 0.06495772],\n",
       "       [0.9408033 , 0.05919679],\n",
       "       [0.94506097, 0.054939  ],\n",
       "       [0.9501638 , 0.0498362 ],\n",
       "       [0.95559317, 0.0444068 ],\n",
       "       [0.96033245, 0.0396675 ],\n",
       "       [0.9651738 , 0.03482609]], dtype=float32)"
      ]
     },
     "execution_count": 4,
     "metadata": {},
     "output_type": "execute_result"
    }
   ],
   "source": [
    "scores = prepare(onnx_model).run(X_test)[f'{output_node}']\n",
    "scores_indices = np.argsort(scores.max(axis=1))\n",
    "nsamples = 100\n",
    "prob_range = .5\n",
    "\n",
    "prob = prob_range\n",
    "sample_indices = []\n",
    "for idx in scores_indices: \n",
    "    if scores[idx].max() > prob:\n",
    "        sample_indices.append(idx)\n",
    "        prob += prob_range / nsamples\n",
    "\n",
    "np.save('../data/mnist_sample.npy', data['X_test'][sample_indices])\n",
    "scores[sample_indices]"
   ]
  },
  {
   "cell_type": "code",
   "execution_count": 24,
   "metadata": {},
   "outputs": [
    {
     "data": {
      "text/plain": [
       "<matplotlib.image.AxesImage at 0x7faf25f243d0>"
      ]
     },
     "execution_count": 24,
     "metadata": {},
     "output_type": "execute_result"
    },
    {
     "data": {
      "image/png": "[encoded data removed]",
      "text/plain": [
       "<Figure size 640x480 with 1 Axes>"
      ]
     },
     "metadata": {},
     "output_type": "display_data"
    }
   ],
   "source": [
    "plt.imshow(X_test[sample_indices[16]])"
   ]
  },
  {
   "cell_type": "code",
   "execution_count": 6,
   "metadata": {},
   "outputs": [],
   "source": [
    "images = np.load('../data/mnist_sample.npy').reshape((-1, 28, 28, 1)) / 255."
   ]
  }
 ],
 "metadata": {
  "kernelspec": {
   "display_name": "venv",
   "language": "python",
   "name": "python3"
  },
  "language_info": {
   "codemirror_mode": {
    "name": "ipython",
    "version": 3
   },
   "file_extension": ".py",
   "mimetype": "text/x-python",
   "name": "python",
   "nbconvert_exporter": "python",
   "pygments_lexer": "ipython3",
   "version": "3.9.2"
  },
  "orig_nbformat": 4
 },
 "nbformat": 4,
 "nbformat_minor": 2
}
