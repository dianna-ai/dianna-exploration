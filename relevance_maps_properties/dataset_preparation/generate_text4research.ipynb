{
 "cells": [
  {
   "cell_type": "code",
   "execution_count": 2,
   "metadata": {},
   "outputs": [],
   "source": [
    "import openai\n",
    "\n",
    "import json"
   ]
  },
  {
   "cell_type": "code",
   "execution_count": 12,
   "metadata": {},
   "outputs": [
    {
     "data": {
      "text/plain": [
       "['brilliant',\n",
       " 'amazing',\n",
       " 'delightful',\n",
       " 'impressive',\n",
       " 'captivating',\n",
       " 'refreshing',\n",
       " 'good',\n",
       " 'rewarding',\n",
       " 'decent',\n",
       " 'watchable',\n",
       " 'educational',\n",
       " 'OK',\n",
       " 'fair',\n",
       " 'average',\n",
       " 'bearable',\n",
       " 'imperfect',\n",
       " 'mediocre',\n",
       " 'poor',\n",
       " 'grating',\n",
       " 'unpleasant',\n",
       " 'lame',\n",
       " 'bad',\n",
       " 'terrible',\n",
       " 'dreadful',\n",
       " 'worthless']"
      ]
     },
     "execution_count": 12,
     "metadata": {},
     "output_type": "execute_result"
    }
   ],
   "source": [
    "with open('sentiment_words.json') as file:\n",
    "    data = file.read()\n",
    "    sentiments = json.loads(data)['words']\n",
    "\n",
    "sentiments = [x[0] for x in list(sentiments.values())]\n",
    "sentiments"
   ]
  }
 ],
 "metadata": {
  "kernelspec": {
   "display_name": "Python 3",
   "language": "python",
   "name": "python3"
  },
  "language_info": {
   "codemirror_mode": {
    "name": "ipython",
    "version": 3
   },
   "file_extension": ".py",
   "mimetype": "text/x-python",
   "name": "python",
   "nbconvert_exporter": "python",
   "pygments_lexer": "ipython3",
   "version": "3.9.2"
  },
  "orig_nbformat": 4
 },
 "nbformat": 4,
 "nbformat_minor": 2
}
