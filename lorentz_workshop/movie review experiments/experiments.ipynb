{
 "cells": [
  {
   "cell_type": "code",
   "execution_count": 73,
   "metadata": {},
   "outputs": [
    {
     "name": "stdout",
     "output_type": "stream",
     "text": [
      "Collecting en-core-web-sm==3.5.0\n",
      "  Downloading https://github.com/explosion/spacy-models/releases/download/en_core_web_sm-3.5.0/en_core_web_sm-3.5.0-py3-none-any.whl (12.8 MB)\n",
      "\u001b[2K     \u001b[90m━━━━━━━━━━━━━━━━━━━━━━━━━━━━━━━━━━━━━━━━\u001b[0m \u001b[32m12.8/12.8 MB\u001b[0m \u001b[31m6.8 MB/s\u001b[0m eta \u001b[36m0:00:00\u001b[0m00:01\u001b[0m00:01\u001b[0m\n",
      "\u001b[?25hRequirement already satisfied: spacy<3.6.0,>=3.5.0 in /home/shadwad/anaconda3/envs/loren/lib/python3.9/site-packages (from en-core-web-sm==3.5.0) (3.5.3)\n",
      "Requirement already satisfied: spacy-legacy<3.1.0,>=3.0.11 in /home/shadwad/anaconda3/envs/loren/lib/python3.9/site-packages (from spacy<3.6.0,>=3.5.0->en-core-web-sm==3.5.0) (3.0.12)\n",
      "Requirement already satisfied: spacy-loggers<2.0.0,>=1.0.0 in /home/shadwad/anaconda3/envs/loren/lib/python3.9/site-packages (from spacy<3.6.0,>=3.5.0->en-core-web-sm==3.5.0) (1.0.4)\n",
      "Requirement already satisfied: murmurhash<1.1.0,>=0.28.0 in /home/shadwad/anaconda3/envs/loren/lib/python3.9/site-packages (from spacy<3.6.0,>=3.5.0->en-core-web-sm==3.5.0) (1.0.9)\n",
      "Requirement already satisfied: cymem<2.1.0,>=2.0.2 in /home/shadwad/anaconda3/envs/loren/lib/python3.9/site-packages (from spacy<3.6.0,>=3.5.0->en-core-web-sm==3.5.0) (2.0.7)\n",
      "Requirement already satisfied: preshed<3.1.0,>=3.0.2 in /home/shadwad/anaconda3/envs/loren/lib/python3.9/site-packages (from spacy<3.6.0,>=3.5.0->en-core-web-sm==3.5.0) (3.0.8)\n",
      "Requirement already satisfied: thinc<8.2.0,>=8.1.8 in /home/shadwad/anaconda3/envs/loren/lib/python3.9/site-packages (from spacy<3.6.0,>=3.5.0->en-core-web-sm==3.5.0) (8.1.10)\n",
      "Requirement already satisfied: wasabi<1.2.0,>=0.9.1 in /home/shadwad/anaconda3/envs/loren/lib/python3.9/site-packages (from spacy<3.6.0,>=3.5.0->en-core-web-sm==3.5.0) (1.1.1)\n",
      "Requirement already satisfied: srsly<3.0.0,>=2.4.3 in /home/shadwad/anaconda3/envs/loren/lib/python3.9/site-packages (from spacy<3.6.0,>=3.5.0->en-core-web-sm==3.5.0) (2.4.6)\n",
      "Requirement already satisfied: catalogue<2.1.0,>=2.0.6 in /home/shadwad/anaconda3/envs/loren/lib/python3.9/site-packages (from spacy<3.6.0,>=3.5.0->en-core-web-sm==3.5.0) (2.0.8)\n",
      "Requirement already satisfied: typer<0.8.0,>=0.3.0 in /home/shadwad/anaconda3/envs/loren/lib/python3.9/site-packages (from spacy<3.6.0,>=3.5.0->en-core-web-sm==3.5.0) (0.7.0)\n",
      "Requirement already satisfied: pathy>=0.10.0 in /home/shadwad/anaconda3/envs/loren/lib/python3.9/site-packages (from spacy<3.6.0,>=3.5.0->en-core-web-sm==3.5.0) (0.10.1)\n",
      "Requirement already satisfied: smart-open<7.0.0,>=5.2.1 in /home/shadwad/anaconda3/envs/loren/lib/python3.9/site-packages (from spacy<3.6.0,>=3.5.0->en-core-web-sm==3.5.0) (6.3.0)\n",
      "Requirement already satisfied: tqdm<5.0.0,>=4.38.0 in /home/shadwad/anaconda3/envs/loren/lib/python3.9/site-packages (from spacy<3.6.0,>=3.5.0->en-core-web-sm==3.5.0) (4.65.0)\n",
      "Requirement already satisfied: numpy>=1.15.0 in /home/shadwad/anaconda3/envs/loren/lib/python3.9/site-packages (from spacy<3.6.0,>=3.5.0->en-core-web-sm==3.5.0) (1.23.5)\n",
      "Requirement already satisfied: requests<3.0.0,>=2.13.0 in /home/shadwad/anaconda3/envs/loren/lib/python3.9/site-packages (from spacy<3.6.0,>=3.5.0->en-core-web-sm==3.5.0) (2.31.0)\n",
      "Requirement already satisfied: pydantic!=1.8,!=1.8.1,<1.11.0,>=1.7.4 in /home/shadwad/anaconda3/envs/loren/lib/python3.9/site-packages (from spacy<3.6.0,>=3.5.0->en-core-web-sm==3.5.0) (1.10.8)\n",
      "Requirement already satisfied: jinja2 in /home/shadwad/anaconda3/envs/loren/lib/python3.9/site-packages (from spacy<3.6.0,>=3.5.0->en-core-web-sm==3.5.0) (3.1.2)\n",
      "Requirement already satisfied: setuptools in /home/shadwad/anaconda3/envs/loren/lib/python3.9/site-packages (from spacy<3.6.0,>=3.5.0->en-core-web-sm==3.5.0) (69.0.3)\n",
      "Requirement already satisfied: packaging>=20.0 in /home/shadwad/anaconda3/envs/loren/lib/python3.9/site-packages (from spacy<3.6.0,>=3.5.0->en-core-web-sm==3.5.0) (23.1)\n",
      "Requirement already satisfied: langcodes<4.0.0,>=3.2.0 in /home/shadwad/anaconda3/envs/loren/lib/python3.9/site-packages (from spacy<3.6.0,>=3.5.0->en-core-web-sm==3.5.0) (3.3.0)\n",
      "Requirement already satisfied: typing-extensions>=4.2.0 in /home/shadwad/anaconda3/envs/loren/lib/python3.9/site-packages (from pydantic!=1.8,!=1.8.1,<1.11.0,>=1.7.4->spacy<3.6.0,>=3.5.0->en-core-web-sm==3.5.0) (4.6.1)\n",
      "Requirement already satisfied: charset-normalizer<4,>=2 in /home/shadwad/anaconda3/envs/loren/lib/python3.9/site-packages (from requests<3.0.0,>=2.13.0->spacy<3.6.0,>=3.5.0->en-core-web-sm==3.5.0) (3.1.0)\n",
      "Requirement already satisfied: idna<4,>=2.5 in /home/shadwad/anaconda3/envs/loren/lib/python3.9/site-packages (from requests<3.0.0,>=2.13.0->spacy<3.6.0,>=3.5.0->en-core-web-sm==3.5.0) (3.4)\n",
      "Requirement already satisfied: urllib3<3,>=1.21.1 in /home/shadwad/anaconda3/envs/loren/lib/python3.9/site-packages (from requests<3.0.0,>=2.13.0->spacy<3.6.0,>=3.5.0->en-core-web-sm==3.5.0) (1.26.16)\n",
      "Requirement already satisfied: certifi>=2017.4.17 in /home/shadwad/anaconda3/envs/loren/lib/python3.9/site-packages (from requests<3.0.0,>=2.13.0->spacy<3.6.0,>=3.5.0->en-core-web-sm==3.5.0) (2023.5.7)\n",
      "Requirement already satisfied: blis<0.8.0,>=0.7.8 in /home/shadwad/anaconda3/envs/loren/lib/python3.9/site-packages (from thinc<8.2.0,>=8.1.8->spacy<3.6.0,>=3.5.0->en-core-web-sm==3.5.0) (0.7.9)\n",
      "Requirement already satisfied: confection<1.0.0,>=0.0.1 in /home/shadwad/anaconda3/envs/loren/lib/python3.9/site-packages (from thinc<8.2.0,>=8.1.8->spacy<3.6.0,>=3.5.0->en-core-web-sm==3.5.0) (0.0.4)\n",
      "Requirement already satisfied: click<9.0.0,>=7.1.1 in /home/shadwad/anaconda3/envs/loren/lib/python3.9/site-packages (from typer<0.8.0,>=0.3.0->spacy<3.6.0,>=3.5.0->en-core-web-sm==3.5.0) (8.1.3)\n",
      "Requirement already satisfied: MarkupSafe>=2.0 in /home/shadwad/anaconda3/envs/loren/lib/python3.9/site-packages (from jinja2->spacy<3.6.0,>=3.5.0->en-core-web-sm==3.5.0) (2.1.2)\n",
      "\u001b[38;5;2m✔ Download and installation successful\u001b[0m\n",
      "You can now load the package via spacy.load('en_core_web_sm')\n"
     ]
    }
   ],
   "source": [
    "import os\n",
    "import sys\n",
    "import matplotlib.pyplot as plt\n",
    "import pandas as pd\n",
    "import numpy as np\n",
    "from pathlib import Path\n",
    "import spacy\n",
    "from scipy.special import expit as sigmoid\n",
    "from scipy.stats import pearsonr\n",
    "\n",
    "import dianna\n",
    "from dianna import visualization\n",
    "from dianna import utils\n",
    "from dianna.utils.tokenizers import SpacyTokenizer\n",
    "\n",
    "import torch\n",
    "from torch.utils.data import Dataset, DataLoader\n",
    "from torch import nn, optim\n",
    "import torch.nn.functional as F\n",
    "\n",
    "from torchtext.vocab import Vectors\n",
    "from torchtext.data import get_tokenizer\n",
    "\n",
    "import tqdm\n",
    "import wandb\n",
    "\n",
    "# ensure the tokenizer for english is available\n",
    "spacy.cli.download('en_core_web_sm')"
   ]
  },
  {
   "cell_type": "code",
   "execution_count": 4,
   "metadata": {},
   "outputs": [
    {
     "name": "stderr",
     "output_type": "stream",
     "text": [
      "Failed to detect the name of this notebook, you can set it manually with the WANDB_NOTEBOOK_NAME environment variable to enable code saving.\n"
     ]
    },
    {
     "name": "stdout",
     "output_type": "stream",
     "text": [
      "PyTorch will use cpu\n"
     ]
    }
   ],
   "source": [
    "# mode = 'online'\n",
    "mode = 'disabled'\n",
    "wandb.init(project='movie-reviews', entity='dianna-ai', mode=mode)\n",
    "\n",
    "# tunable hyperparameters\n",
    "config = wandb.config\n",
    "config.batch_size = 64\n",
    "config.epochs = 10\n",
    "config.output_dim = 1\n",
    "config.dropout = .4\n",
    "config.n_filters = 128\n",
    "config.filter_sizes = [3, 4, 5]\n",
    "config.learning_rate = 0.001\n",
    "config.weight_decay = 0.0003\n",
    "config.max_samples = 10000  # maximum samples of training set to use\n",
    "\n",
    "# select device to run on\n",
    "if torch.cuda.is_available():\n",
    "    device = torch.device('cuda')\n",
    "else:\n",
    "    device = torch.device('cpu')\n",
    "print(f'PyTorch will use {device}')\n",
    "\n",
    "# path to data files\n",
    "data_path = 'model/'\n",
    "\n",
    "# tokenizer for splitting input sentences\n",
    "tokenizer = get_tokenizer('spacy', 'en_core_web_sm')\n",
    "\n",
    "# word vectors as generated from data preparation notebook\n",
    "vocab = Vectors('word_vectors.txt', cache='.')\n",
    "\n",
    "# class to hold a dataset\n",
    "# custom datasets need to implement init, len, and getitem\n",
    "class MovieReviewDataset(Dataset):\n",
    "    def __init__(self, filename, tokenizer, vocab, max_samples=None, max_filter_size=None):\n",
    "        self.tokenizer = tokenizer\n",
    "        self.vocab = vocab\n",
    "        self.max_filter_size = max_filter_size\n",
    "\n",
    "        self.data = pd.read_csv(filename, delimiter='\\t')\n",
    "        if max_samples is not None:\n",
    "            self.data = self.data[:min(len(self.data), max_samples)]\n",
    "          \n",
    "    def __getitem__(self, idx):\n",
    "        # get sentence and corresponding label\n",
    "        sentence = self.data.iloc[idx]['sentence']\n",
    "        label = self.data.iloc[idx]['label']\n",
    "        # tokenize sentence\n",
    "        tokens = self.tokenizer(sentence)\n",
    "        # pad if needed\n",
    "        if self.max_filter_size is not None:\n",
    "            tokens = pad(tokens, self.max_filter_size)\n",
    "        # numericalize\n",
    "        tokens_numerical = [self.vocab.stoi[token] if token in self.vocab.stoi else self.vocab.stoi['<unk>'] for token in tokens]\n",
    "        return tokens_numerical, label\n",
    "    \n",
    "    def __len__(self):\n",
    "        return len(self.data)\n",
    "    \n",
    "# function to pad to some minimum length\n",
    "def pad(tokens, max_filter_size, padding_token='<pad>'):\n",
    "    npad = max(max_filter_size - len(tokens), 0)\n",
    "    tokens += [padding_token] * npad\n",
    "    return tokens\n",
    "\n",
    "# custom collate function to handle variable-size input\n",
    "def collate(batch, padding_idx):\n",
    "    # get max sample size: item[0] is the input sentence split into numerical tokens\n",
    "    tokens = [sample[0] for sample in batch]\n",
    "    max_size = max(map(len, tokens))\n",
    "    # create input array with padding such that each element has the same size\n",
    "    input_data = np.empty((len(batch), max_size), dtype=int)\n",
    "    for i, item in enumerate(tokens):\n",
    "        # pad each element and store\n",
    "        input_data[i] = pad(item, max_size, padding_token=padding_idx)\n",
    "\n",
    "    # convert to tensors\n",
    "    input_data = torch.LongTensor(input_data)\n",
    "    labels = torch.FloatTensor([item[1] for item in batch])\n",
    "    return [input_data, labels]\n",
    "\n",
    "# convert collate function to callable that only requires batch as argument\n",
    "collate_func = lambda batch: collate(batch, vocab.stoi['<pad>'])\n",
    "\n",
    "# Load data into PyTorch dataset\n",
    "# These datasets return the input as numerical values, suited for input to the model\n",
    "\n",
    "train_data = MovieReviewDataset(os.path.join(data_path, 'train.tsv'), tokenizer, vocab, max_samples=config.max_samples)\n",
    "val_data = MovieReviewDataset(os.path.join(data_path, 'validation.tsv'), tokenizer, vocab)\n",
    "\n",
    "# Create iterators for the data\n",
    "batch_size = config.batch_size\n",
    "nworker = min(12, os.cpu_count() - 1)\n",
    "\n",
    "train_data_iterator = DataLoader(train_data, batch_size=batch_size, shuffle=True, collate_fn=collate_func, num_workers=nworker, pin_memory=True)\n",
    "val_data_iterator = DataLoader(val_data, batch_size=batch_size, shuffle=True, collate_fn=collate_func, num_workers=nworker, pin_memory=True)\n",
    "\n",
    "# create a model\n",
    "class Model(nn.Module):\n",
    "    def __init__(self, vocab_size, embedding_size, n_filters, filter_sizes, padding_idx,\n",
    "                dropout, output_dim):\n",
    "        super().__init__()\n",
    "        \n",
    "        self.embedding = nn.Embedding(vocab_size, embedding_size, padding_idx=padding_idx)\n",
    "        \n",
    "        self.conv_layers = nn.ModuleList()\n",
    "        for filter_size in filter_sizes:\n",
    "            layer = nn.Conv2d(in_channels=1, out_channels=n_filters, kernel_size=(filter_size, embedding_size))\n",
    "            self.conv_layers.append(layer)\n",
    "\n",
    "        self.dropout = nn.Dropout(dropout)\n",
    "        self.fc = nn.Linear(n_filters * len(filter_sizes), output_dim)\n",
    "    \n",
    "    def forward(self, text):\n",
    "        # shape = [batch size, max nword per sentence]\n",
    "        embedding = self.embedding(text).unsqueeze(1)\n",
    "        # shape = [batch_size, 1, nword, embedding dim]\n",
    "        conved = [F.relu(conv(embedding)).squeeze(3) for conv in self.conv_layers]\n",
    "        # shape = len(filter_sizes) list of [batch_size, n_filter, nword - filter_size + 1]\n",
    "        # note: max_pool1d does not work with ONNX when output shape is dynamic\n",
    "        # therefore switched to adaptive_max_pool1d\n",
    "        pooled = [F.adaptive_max_pool1d(out, 1).squeeze(2) for out in conved]\n",
    "        # shape = len(filter_sizes) list of [batch_size, n_filter]\n",
    "        concat = torch.cat(pooled, dim=1)\n",
    "        # shape = [batch_size * len(filter_sizes), n_filter]\n",
    "        dropped = self.dropout(concat)\n",
    "        return self.fc(dropped)"
   ]
  },
  {
   "cell_type": "code",
   "execution_count": 5,
   "metadata": {},
   "outputs": [
    {
     "name": "stdout",
     "output_type": "stream",
     "text": [
      "100%|██████████| 157/157 [00:05<00:00, 28.84it/s]\n",
      "train loss: 0.51 | train acc: 0.75\n",
      "val   loss: 0.46 | val   acc: 0.79\n",
      "100%|██████████| 157/157 [00:05<00:00, 30.02it/s]\n",
      "train loss: 0.34 | train acc: 0.86\n",
      "val   loss: 0.42 | val   acc: 0.80\n",
      "100%|██████████| 157/157 [00:05<00:00, 30.26it/s]\n",
      "train loss: 0.26 | train acc: 0.90\n",
      "val   loss: 0.42 | val   acc: 0.81\n",
      "100%|██████████| 157/157 [00:05<00:00, 30.20it/s]\n",
      "train loss: 0.20 | train acc: 0.93\n",
      "val   loss: 0.46 | val   acc: 0.80\n",
      "100%|██████████| 157/157 [00:05<00:00, 27.99it/s]\n",
      "train loss: 0.15 | train acc: 0.95\n",
      "val   loss: 0.47 | val   acc: 0.80\n",
      "100%|██████████| 157/157 [00:05<00:00, 28.68it/s]\n",
      "train loss: 0.12 | train acc: 0.96\n",
      "val   loss: 0.48 | val   acc: 0.79\n",
      "100%|██████████| 157/157 [00:05<00:00, 29.16it/s]\n",
      "train loss: 0.10 | train acc: 0.97\n",
      "val   loss: 0.58 | val   acc: 0.77\n",
      "100%|██████████| 157/157 [00:05<00:00, 28.75it/s]\n",
      "train loss: 0.09 | train acc: 0.98\n",
      "val   loss: 0.57 | val   acc: 0.78\n",
      "100%|██████████| 157/157 [00:05<00:00, 30.00it/s]\n",
      "train loss: 0.08 | train acc: 0.98\n",
      "val   loss: 0.58 | val   acc: 0.79\n",
      "100%|██████████| 157/157 [00:05<00:00, 28.50it/s]\n",
      "train loss: 0.07 | train acc: 0.98\n",
      "val   loss: 0.62 | val   acc: 0.77\n",
      "Best validation loss: 0.42, accuracy: 0.80\n"
     ]
    }
   ],
   "source": [
    "# init a model\n",
    "output_dim = config.output_dim\n",
    "dropout = config.dropout\n",
    "n_filters = config.n_filters\n",
    "filter_sizes = config.filter_sizes\n",
    "\n",
    "vocab_size, embedding_size = vocab.vectors.size()\n",
    "padding_idx = vocab.stoi['<pad>']\n",
    "\n",
    "model = Model(vocab_size, embedding_size, n_filters, filter_sizes, padding_idx, dropout, output_dim)\n",
    "# copy pre-trained embeddings into model\n",
    "model.embedding.weight.data.copy_(vocab.vectors)\n",
    "\n",
    "model = model.to(device)\n",
    "\n",
    "wandb.watch(model)\n",
    "\n",
    "# Define training and evaluation functions\n",
    "# first define optimizer and loss function\n",
    "optimizer = optim.Adam(model.parameters(), lr=config.learning_rate, weight_decay=config.weight_decay)\n",
    "loss_func = nn.BCEWithLogitsLoss().to(device)\n",
    "\n",
    "# function to calculate accuracy\n",
    "def accuracy(model_output, y_true):\n",
    "    y_pred = torch.round(torch.sigmoid(model_output))\n",
    "    return (y_pred == y_true).sum() / len(y_pred)\n",
    "\n",
    "def train(model, train_data, optimizer, loss_func):\n",
    "    epoch_loss = 0\n",
    "    epoch_acc = 0\n",
    "    model.train()\n",
    "    \n",
    "    for batch in tqdm.tqdm(train_data, file=sys.stdout):\n",
    "        input_data, label = batch\n",
    "        input_data = input_data.to(device)\n",
    "        label = label.to(device)\n",
    "        \n",
    "        optimizer.zero_grad()\n",
    "        predictions = model(input_data).squeeze(1)\n",
    "        \n",
    "        loss = loss_func(predictions, label)\n",
    "        acc = accuracy(predictions, label)\n",
    "        \n",
    "        loss.backward()\n",
    "        optimizer.step()\n",
    "        \n",
    "        epoch_loss += loss.item()\n",
    "        epoch_acc += acc.item()\n",
    "        \n",
    "        wandb.log({'train_loss': loss.item(), 'train_acc': acc.item()})\n",
    "        \n",
    "    epoch_loss /= len(train_data)\n",
    "    epoch_acc /= len(train_data)\n",
    "    \n",
    "    wandb.log({'train_epoch_loss': epoch_loss, 'train_epoch_acc': epoch_acc})\n",
    "                \n",
    "    return epoch_loss, epoch_acc\n",
    "\n",
    "def evaluate(model, data, loss_func):\n",
    "    loss = 0\n",
    "    acc = 0\n",
    "    model.eval()\n",
    "    \n",
    "    with torch.no_grad():\n",
    "        for batch in data:\n",
    "            input_data, label = batch\n",
    "            input_data = input_data.to(device)\n",
    "            label = label.to(device)\n",
    "            predictions = model(input_data).squeeze(1)\n",
    "\n",
    "            loss += loss_func(predictions, label).item()\n",
    "            acc += accuracy(predictions, label).item()\n",
    "            \n",
    "    loss /= len(data)\n",
    "    acc /= len(data)\n",
    "        \n",
    "    return loss, acc\n",
    "\n",
    "# do the training\n",
    "best_val_loss = np.inf\n",
    "best_val_acc = np.inf\n",
    "\n",
    "for epoch in range(config.epochs):\n",
    "    train_epoch_loss, train_epoch_acc = train(model, train_data_iterator, optimizer, loss_func)\n",
    "    val_epoch_loss, val_epoch_acc = evaluate(model, val_data_iterator, loss_func)\n",
    "    # log the validation results to wandb\n",
    "    wandb.log({'val_epoch_loss': val_epoch_loss, 'val_epoch_acc': val_epoch_acc})\n",
    "    print(f'train loss: {train_epoch_loss:.2f} | train acc: {train_epoch_acc:.2f}')\n",
    "    print(f'val   loss: {val_epoch_loss:.2f} | val   acc: {val_epoch_acc:.2f}')\n",
    "    # store model with best validation loss\n",
    "    if val_epoch_loss < best_val_loss:\n",
    "        best_val_loss = val_epoch_loss\n",
    "        best_val_acc = val_epoch_acc\n",
    "        # ensure we are in eval mode\n",
    "        model.eval()\n",
    "        torch.save(model, 'movie_review_model.pytorch')\n",
    "\n",
    "print(f\"Best validation loss: {best_val_loss:.2f}, accuracy: {best_val_acc:.2f}\")\n",
    "\n",
    "\n",
    "# load best model from disk\n",
    "loaded_model = torch.load('movie_review_model.pytorch')\n",
    "loaded_model = loaded_model.to(device)\n",
    "loaded_model.eval()\n",
    "\n",
    "# store as ONNX, needs example input\n",
    "x = next(iter(train_data_iterator))[0].to(device)\n",
    "torch.onnx.export(loaded_model, x, 'movie_review_model.onnx', opset_version=11,\n",
    "                  export_params=True, input_names=['input'], output_names=['output'],\n",
    "                  dynamic_axes={'input': {0: 'batch_size', 1: 'sentence_length'},\n",
    "                                'output': {0: 'batch_size'}})\n",
    "\n",
    "# class to predict sentiment from a sentence\n",
    "class Predictor:\n",
    "    def __init__(self, model, tokenizer, vocab, device, max_filter_size=None):\n",
    "        self.model = model\n",
    "        self.tokenizer = tokenizer\n",
    "        self.vocab = vocab\n",
    "        self.device = device\n",
    "        self.max_filter_size = max_filter_size\n",
    "        self.classes = ['negative', 'positive']\n",
    "        \n",
    "        self.model.eval()\n",
    "        \n",
    "    def __call__(self, sentence):\n",
    "        # get numerical tokens\n",
    "        tokens = tokenizer(sentence)\n",
    "        # pad if needed\n",
    "        if self.max_filter_size is not None:\n",
    "            tokens = pad(tokens, self.max_filter_size)\n",
    "        # numericalize\n",
    "        tokens = [self.vocab.stoi[token] if token in self.vocab.stoi else self.vocab.stoi['<unk>'] for token in tokens]\n",
    "        # move to device and add required batch axis\n",
    "        tokens = torch.tensor(tokens).unsqueeze(0).to(self.device)\n",
    "        # feed to model\n",
    "        pred = torch.sigmoid(model.forward(tokens)).item()\n",
    "        # get string representation of predicted class\n",
    "        class_str = self.classes[int(np.round(pred))]\n",
    "        \n",
    "        return pred, class_str\n",
    "    \n",
    "predict_sentiment = Predictor(loaded_model, tokenizer, vocab, device, max_filter_size=max(config.filter_sizes))\n"
   ]
  },
  {
   "cell_type": "code",
   "execution_count": 88,
   "metadata": {},
   "outputs": [],
   "source": [
    "model_path = Path('model', 'movie_review_model.onnx')\n",
    "word_vector_path = Path('', 'word_vectors.txt')\n",
    "labels = (\"negative\", \"positive\")\n",
    "\n",
    "class MovieReviewsModelRunner:\n",
    "    def __init__(self, model, word_vectors, max_filter_size):\n",
    "        self.run_model = utils.get_function(model)\n",
    "        self.vocab = Vectors(word_vectors, cache=os.path.dirname(word_vectors))\n",
    "        self.max_filter_size = max_filter_size\n",
    "\n",
    "        self.tokenizer = SpacyTokenizer(name='en_core_web_sm')\n",
    "\n",
    "    def __call__(self, sentences):\n",
    "        # ensure the input has a batch axis\n",
    "        if isinstance(sentences, str):\n",
    "            sentences = [sentences]\n",
    "\n",
    "        output = []\n",
    "        for sentence in sentences:\n",
    "            # tokenize and pad to minimum length\n",
    "            tokens = self.tokenizer.tokenize(sentence)\n",
    "            if len(tokens) < self.max_filter_size:\n",
    "                tokens += ['<pad>'] * (self.max_filter_size - len(tokens))\n",
    "\n",
    "            # numericalize the tokens\n",
    "            tokens_numerical = [self.vocab.stoi[token] if token in self.vocab.stoi else self.vocab.stoi['<unk>']\n",
    "                                for token in tokens]\n",
    "\n",
    "            # run the model, applying a sigmoid because the model outputs logits, remove any remaining batch axis\n",
    "            pred = float(sigmoid(self.run_model([tokens_numerical])))\n",
    "            output.append(pred)\n",
    "\n",
    "        # output two classes\n",
    "        positivity = np.array(output)\n",
    "        negativity = 1 - positivity\n",
    "        return np.transpose([negativity, positivity])\n",
    "\n",
    "# define model runner. max_filter_size is a property of the model\n",
    "model_runner = MovieReviewsModelRunner(model_path, word_vector_path, max_filter_size=5)"
   ]
  },
  {
   "cell_type": "code",
   "execution_count": 90,
   "metadata": {},
   "outputs": [
    {
     "name": "stdout",
     "output_type": "stream",
     "text": [
      "\"It is worthless.\" - negative - 0.07\n",
      "Rise parameter p_keep was automatically determined at 0.5\n"
     ]
    },
    {
     "name": "stderr",
     "output_type": "stream",
     "text": [
      "Explaining: 100%|██████████| 10/10 [00:11<00:00,  1.14s/it]"
     ]
    },
    {
     "name": "stdout",
     "output_type": "stream",
     "text": [
      "[('It', 0, -0.4366016015633941), ('is', 1, -0.40447407534718516), ('worthless', 2, -0.9299311614483595), ('.', 3, -0.46943103335797787)]\n"
     ]
    },
    {
     "name": "stderr",
     "output_type": "stream",
     "text": [
      "\n"
     ]
    },
    {
     "data": {
      "text/html": [
       "<mark style=\"background-color: hsl(240, 100%, 77%, 0.8); line-height:1.75\">It</mark> <mark style=\"background-color: hsl(240, 100%, 79%, 0.8); line-height:1.75\">is</mark> <mark style=\"background-color: hsl(240, 100%, 50%, 0.8); line-height:1.75\">worthless</mark> <mark style=\"background-color: hsl(240, 100%, 75%, 0.8); line-height:1.75\">.</mark>"
      ],
      "text/plain": [
       "<IPython.core.display.HTML object>"
      ]
     },
     "metadata": {},
     "output_type": "display_data"
    },
    {
     "name": "stdout",
     "output_type": "stream",
     "text": [
      "\"This is worthless.\" - negative - 0.07\n",
      "Rise parameter p_keep was automatically determined at 0.5\n"
     ]
    },
    {
     "name": "stderr",
     "output_type": "stream",
     "text": [
      "Explaining: 100%|██████████| 10/10 [00:10<00:00,  1.09s/it]"
     ]
    },
    {
     "name": "stdout",
     "output_type": "stream",
     "text": [
      "[('This', 0, -0.40201239395141597), ('is', 1, -0.3551179520785809), ('worthless', 2, -0.9292916301712394), ('.', 3, -0.4874757638499141)]\n"
     ]
    },
    {
     "name": "stderr",
     "output_type": "stream",
     "text": [
      "\n"
     ]
    },
    {
     "data": {
      "text/html": [
       "<mark style=\"background-color: hsl(240, 100%, 79%, 0.8); line-height:1.75\">This</mark> <mark style=\"background-color: hsl(240, 100%, 81%, 0.8); line-height:1.75\">is</mark> <mark style=\"background-color: hsl(240, 100%, 50%, 0.8); line-height:1.75\">worthless</mark> <mark style=\"background-color: hsl(240, 100%, 74%, 0.8); line-height:1.75\">.</mark>"
      ],
      "text/plain": [
       "<IPython.core.display.HTML object>"
      ]
     },
     "metadata": {},
     "output_type": "display_data"
    },
    {
     "name": "stdout",
     "output_type": "stream",
     "text": [
      "\"A worthless film.\" - negative - 0.00\n",
      "Rise parameter p_keep was automatically determined at 0.5\n"
     ]
    },
    {
     "name": "stderr",
     "output_type": "stream",
     "text": [
      "Explaining: 100%|██████████| 10/10 [00:10<00:00,  1.10s/it]"
     ]
    },
    {
     "name": "stdout",
     "output_type": "stream",
     "text": [
      "[('A', 0, -0.4156136345788837), ('worthless', 1, -0.9486930836215616), ('film', 2, -0.3913904095441103), ('.', 3, -0.4634366471618414)]\n"
     ]
    },
    {
     "name": "stderr",
     "output_type": "stream",
     "text": [
      "\n"
     ]
    },
    {
     "data": {
      "text/html": [
       "<mark style=\"background-color: hsl(240, 100%, 79%, 0.8); line-height:1.75\">A</mark> <mark style=\"background-color: hsl(240, 100%, 50%, 0.8); line-height:1.75\">worthless</mark> <mark style=\"background-color: hsl(240, 100%, 80%, 0.8); line-height:1.75\">film</mark> <mark style=\"background-color: hsl(240, 100%, 76%, 0.8); line-height:1.75\">.</mark>"
      ],
      "text/plain": [
       "<IPython.core.display.HTML object>"
      ]
     },
     "metadata": {},
     "output_type": "display_data"
    },
    {
     "name": "stdout",
     "output_type": "stream",
     "text": [
      "\"It is dreadful.\" - negative - 0.28\n",
      "Rise parameter p_keep was automatically determined at 0.4\n"
     ]
    },
    {
     "name": "stderr",
     "output_type": "stream",
     "text": [
      "Explaining: 100%|██████████| 10/10 [00:10<00:00,  1.09s/it]"
     ]
    },
    {
     "name": "stdout",
     "output_type": "stream",
     "text": [
      "[('It', 0, -0.31877372067421683), ('is', 1, -0.19419696673750886), ('dreadful', 2, -0.7866624000668525), ('.', 3, -0.37349612995982173)]\n"
     ]
    },
    {
     "name": "stderr",
     "output_type": "stream",
     "text": [
      "\n"
     ]
    },
    {
     "data": {
      "text/html": [
       "<mark style=\"background-color: hsl(240, 100%, 80%, 0.8); line-height:1.75\">It</mark> <mark style=\"background-color: hsl(240, 100%, 88%, 0.8); line-height:1.75\">is</mark> <mark style=\"background-color: hsl(240, 100%, 50%, 0.8); line-height:1.75\">dreadful</mark> <mark style=\"background-color: hsl(240, 100%, 77%, 0.8); line-height:1.75\">.</mark>"
      ],
      "text/plain": [
       "<IPython.core.display.HTML object>"
      ]
     },
     "metadata": {},
     "output_type": "display_data"
    },
    {
     "name": "stdout",
     "output_type": "stream",
     "text": [
      "\"This is dreadful.\" - negative - 0.28\n",
      "Rise parameter p_keep was automatically determined at 0.5\n"
     ]
    },
    {
     "name": "stderr",
     "output_type": "stream",
     "text": [
      "Explaining: 100%|██████████| 10/10 [00:10<00:00,  1.10s/it]"
     ]
    },
    {
     "name": "stdout",
     "output_type": "stream",
     "text": [
      "[('This', 0, -0.4068762520253658), ('is', 1, -0.32705054146051404), ('dreadful', 2, -0.7751517668962479), ('.', 3, -0.42160856419801707)]\n"
     ]
    },
    {
     "name": "stderr",
     "output_type": "stream",
     "text": [
      "\n"
     ]
    },
    {
     "data": {
      "text/html": [
       "<mark style=\"background-color: hsl(240, 100%, 74%, 0.8); line-height:1.75\">This</mark> <mark style=\"background-color: hsl(240, 100%, 79%, 0.8); line-height:1.75\">is</mark> <mark style=\"background-color: hsl(240, 100%, 50%, 0.8); line-height:1.75\">dreadful</mark> <mark style=\"background-color: hsl(240, 100%, 73%, 0.8); line-height:1.75\">.</mark>"
      ],
      "text/plain": [
       "<IPython.core.display.HTML object>"
      ]
     },
     "metadata": {},
     "output_type": "display_data"
    },
    {
     "name": "stdout",
     "output_type": "stream",
     "text": [
      "\"A dreadful film.\" - negative - 0.02\n",
      "Rise parameter p_keep was automatically determined at 0.5\n"
     ]
    },
    {
     "name": "stderr",
     "output_type": "stream",
     "text": [
      "Explaining: 100%|██████████| 10/10 [00:10<00:00,  1.09s/it]"
     ]
    },
    {
     "name": "stdout",
     "output_type": "stream",
     "text": [
      "[('A', 0, -0.38306503331661224), ('dreadful', 1, -0.8917424947917462), ('film', 2, -0.34042065638303753), ('.', 3, -0.3899522876143455)]\n"
     ]
    },
    {
     "name": "stderr",
     "output_type": "stream",
     "text": [
      "\n"
     ]
    },
    {
     "data": {
      "text/html": [
       "<mark style=\"background-color: hsl(240, 100%, 79%, 0.8); line-height:1.75\">A</mark> <mark style=\"background-color: hsl(240, 100%, 50%, 0.8); line-height:1.75\">dreadful</mark> <mark style=\"background-color: hsl(240, 100%, 81%, 0.8); line-height:1.75\">film</mark> <mark style=\"background-color: hsl(240, 100%, 79%, 0.8); line-height:1.75\">.</mark>"
      ],
      "text/plain": [
       "<IPython.core.display.HTML object>"
      ]
     },
     "metadata": {},
     "output_type": "display_data"
    },
    {
     "name": "stdout",
     "output_type": "stream",
     "text": [
      "\"It is irritating.\" - negative - 0.03\n",
      "Rise parameter p_keep was automatically determined at 0.4\n"
     ]
    },
    {
     "name": "stderr",
     "output_type": "stream",
     "text": [
      "Explaining: 100%|██████████| 10/10 [00:10<00:00,  1.09s/it]"
     ]
    },
    {
     "name": "stdout",
     "output_type": "stream",
     "text": [
      "[('It', 0, -0.23366592843085532), ('is', 1, -0.1506585938483478), ('irritating', 2, -0.7978219364583492), ('.', 3, -0.3263927969336511)]\n"
     ]
    },
    {
     "name": "stderr",
     "output_type": "stream",
     "text": [
      "\n"
     ]
    },
    {
     "data": {
      "text/html": [
       "<mark style=\"background-color: hsl(240, 100%, 86%, 0.8); line-height:1.75\">It</mark> <mark style=\"background-color: hsl(240, 100%, 91%, 0.8); line-height:1.75\">is</mark> <mark style=\"background-color: hsl(240, 100%, 50%, 0.8); line-height:1.75\">irritating</mark> <mark style=\"background-color: hsl(240, 100%, 80%, 0.8); line-height:1.75\">.</mark>"
      ],
      "text/plain": [
       "<IPython.core.display.HTML object>"
      ]
     },
     "metadata": {},
     "output_type": "display_data"
    },
    {
     "name": "stdout",
     "output_type": "stream",
     "text": [
      "\"This is irritating.\" - negative - 0.03\n",
      "Rise parameter p_keep was automatically determined at 0.6\n"
     ]
    },
    {
     "name": "stderr",
     "output_type": "stream",
     "text": [
      "Explaining: 100%|██████████| 10/10 [00:11<00:00,  1.11s/it]"
     ]
    },
    {
     "name": "stdout",
     "output_type": "stream",
     "text": [
      "[('This', 0, -0.4816540983319282), ('is', 1, -0.42936326563358307), ('irritating', 2, -0.7740206634998321), ('.', 3, -0.46182590499520304)]\n"
     ]
    },
    {
     "name": "stderr",
     "output_type": "stream",
     "text": [
      "\n"
     ]
    },
    {
     "data": {
      "text/html": [
       "<mark style=\"background-color: hsl(240, 100%, 69%, 0.8); line-height:1.75\">This</mark> <mark style=\"background-color: hsl(240, 100%, 73%, 0.8); line-height:1.75\">is</mark> <mark style=\"background-color: hsl(240, 100%, 50%, 0.8); line-height:1.75\">irritating</mark> <mark style=\"background-color: hsl(240, 100%, 71%, 0.8); line-height:1.75\">.</mark>"
      ],
      "text/plain": [
       "<IPython.core.display.HTML object>"
      ]
     },
     "metadata": {},
     "output_type": "display_data"
    },
    {
     "name": "stdout",
     "output_type": "stream",
     "text": [
      "\"An irritating film.\" - negative - 0.00\n",
      "Rise parameter p_keep was automatically determined at 0.4\n"
     ]
    },
    {
     "name": "stderr",
     "output_type": "stream",
     "text": [
      "Explaining: 100%|██████████| 10/10 [00:11<00:00,  1.16s/it]"
     ]
    },
    {
     "name": "stdout",
     "output_type": "stream",
     "text": [
      "[('An', 0, -0.30457113809883596), ('irritating', 1, -0.8526143498346209), ('film', 2, -0.19717913977801804), ('.', 3, -0.3364005502685904)]\n"
     ]
    },
    {
     "name": "stderr",
     "output_type": "stream",
     "text": [
      "\n"
     ]
    },
    {
     "data": {
      "text/html": [
       "<mark style=\"background-color: hsl(240, 100%, 83%, 0.8); line-height:1.75\">An</mark> <mark style=\"background-color: hsl(240, 100%, 50%, 0.8); line-height:1.75\">irritating</mark> <mark style=\"background-color: hsl(240, 100%, 89%, 0.8); line-height:1.75\">film</mark> <mark style=\"background-color: hsl(240, 100%, 81%, 0.8); line-height:1.75\">.</mark>"
      ],
      "text/plain": [
       "<IPython.core.display.HTML object>"
      ]
     },
     "metadata": {},
     "output_type": "display_data"
    },
    {
     "name": "stdout",
     "output_type": "stream",
     "text": [
      "\"It is horrible.\" - negative - 0.04\n",
      "Rise parameter p_keep was automatically determined at 0.4\n"
     ]
    },
    {
     "name": "stderr",
     "output_type": "stream",
     "text": [
      "Explaining: 100%|██████████| 10/10 [00:11<00:00,  1.13s/it]"
     ]
    },
    {
     "name": "stdout",
     "output_type": "stream",
     "text": [
      "[('It', 0, -0.31647443644702444), ('is', 1, -0.2483784096688032), ('horrible', 2, -0.8603572754189373), ('.', 3, -0.2890772118419409)]\n"
     ]
    },
    {
     "name": "stderr",
     "output_type": "stream",
     "text": [
      "\n"
     ]
    },
    {
     "data": {
      "text/html": [
       "<mark style=\"background-color: hsl(240, 100%, 82%, 0.8); line-height:1.75\">It</mark> <mark style=\"background-color: hsl(240, 100%, 86%, 0.8); line-height:1.75\">is</mark> <mark style=\"background-color: hsl(240, 100%, 50%, 0.8); line-height:1.75\">horrible</mark> <mark style=\"background-color: hsl(240, 100%, 84%, 0.8); line-height:1.75\">.</mark>"
      ],
      "text/plain": [
       "<IPython.core.display.HTML object>"
      ]
     },
     "metadata": {},
     "output_type": "display_data"
    },
    {
     "name": "stdout",
     "output_type": "stream",
     "text": [
      "\"This is horrible.\" - negative - 0.04\n",
      "Rise parameter p_keep was automatically determined at 0.5\n"
     ]
    },
    {
     "name": "stderr",
     "output_type": "stream",
     "text": [
      "Explaining: 100%|██████████| 10/10 [00:11<00:00,  1.15s/it]"
     ]
    },
    {
     "name": "stdout",
     "output_type": "stream",
     "text": [
      "[('This', 0, -0.4226256225705147), ('is', 1, -0.3583358275294304), ('horrible', 2, -0.8485202154517174), ('.', 3, -0.4261295092701912)]\n"
     ]
    },
    {
     "name": "stderr",
     "output_type": "stream",
     "text": [
      "\n"
     ]
    },
    {
     "data": {
      "text/html": [
       "<mark style=\"background-color: hsl(240, 100%, 76%, 0.8); line-height:1.75\">This</mark> <mark style=\"background-color: hsl(240, 100%, 79%, 0.8); line-height:1.75\">is</mark> <mark style=\"background-color: hsl(240, 100%, 50%, 0.8); line-height:1.75\">horrible</mark> <mark style=\"background-color: hsl(240, 100%, 75%, 0.8); line-height:1.75\">.</mark>"
      ],
      "text/plain": [
       "<IPython.core.display.HTML object>"
      ]
     },
     "metadata": {},
     "output_type": "display_data"
    },
    {
     "name": "stdout",
     "output_type": "stream",
     "text": [
      "\"A horrible film.\" - negative - 0.00\n",
      "Rise parameter p_keep was automatically determined at 0.5\n"
     ]
    },
    {
     "name": "stderr",
     "output_type": "stream",
     "text": [
      "Explaining: 100%|██████████| 10/10 [00:11<00:00,  1.11s/it]"
     ]
    },
    {
     "name": "stdout",
     "output_type": "stream",
     "text": [
      "[('A', 0, -0.4712480494305491), ('horrible', 1, -0.9332084762528539), ('film', 2, -0.38669124875962735), ('.', 3, -0.42737237056344746)]\n"
     ]
    },
    {
     "name": "stderr",
     "output_type": "stream",
     "text": [
      "\n"
     ]
    },
    {
     "data": {
      "text/html": [
       "<mark style=\"background-color: hsl(240, 100%, 75%, 0.8); line-height:1.75\">A</mark> <mark style=\"background-color: hsl(240, 100%, 50%, 0.8); line-height:1.75\">horrible</mark> <mark style=\"background-color: hsl(240, 100%, 80%, 0.8); line-height:1.75\">film</mark> <mark style=\"background-color: hsl(240, 100%, 78%, 0.8); line-height:1.75\">.</mark>"
      ],
      "text/plain": [
       "<IPython.core.display.HTML object>"
      ]
     },
     "metadata": {},
     "output_type": "display_data"
    },
    {
     "name": "stdout",
     "output_type": "stream",
     "text": [
      "\"It is excruciating.\" - positive - 0.64\n",
      "Rise parameter p_keep was automatically determined at 0.6\n"
     ]
    },
    {
     "name": "stderr",
     "output_type": "stream",
     "text": [
      "Explaining: 100%|██████████| 10/10 [00:11<00:00,  1.13s/it]"
     ]
    },
    {
     "name": "stdout",
     "output_type": "stream",
     "text": [
      "[('It', 0, -0.3336922323703765), ('is', 1, -0.28867802376548446), ('excruciating', 2, -0.6450964330633482), ('.', 3, -0.34967861215273544)]\n"
     ]
    },
    {
     "name": "stderr",
     "output_type": "stream",
     "text": [
      "\n"
     ]
    },
    {
     "data": {
      "text/html": [
       "<mark style=\"background-color: hsl(240, 100%, 75%, 0.8); line-height:1.75\">It</mark> <mark style=\"background-color: hsl(240, 100%, 78%, 0.8); line-height:1.75\">is</mark> <mark style=\"background-color: hsl(240, 100%, 50%, 0.8); line-height:1.75\">excruciating</mark> <mark style=\"background-color: hsl(240, 100%, 73%, 0.8); line-height:1.75\">.</mark>"
      ],
      "text/plain": [
       "<IPython.core.display.HTML object>"
      ]
     },
     "metadata": {},
     "output_type": "display_data"
    },
    {
     "name": "stdout",
     "output_type": "stream",
     "text": [
      "\"This is excruciating.\" - positive - 0.64\n",
      "Rise parameter p_keep was automatically determined at 0.6\n"
     ]
    },
    {
     "name": "stderr",
     "output_type": "stream",
     "text": [
      "Explaining: 100%|██████████| 10/10 [00:11<00:00,  1.14s/it]"
     ]
    },
    {
     "name": "stdout",
     "output_type": "stream",
     "text": [
      "[('This', 0, -0.38464820792277654), ('is', 1, -0.30947266956170394), ('excruciating', 2, -0.6141540696720282), ('.', 3, -0.4258561225732167)]\n"
     ]
    },
    {
     "name": "stderr",
     "output_type": "stream",
     "text": [
      "\n"
     ]
    },
    {
     "data": {
      "text/html": [
       "<mark style=\"background-color: hsl(240, 100%, 69%, 0.8); line-height:1.75\">This</mark> <mark style=\"background-color: hsl(240, 100%, 75%, 0.8); line-height:1.75\">is</mark> <mark style=\"background-color: hsl(240, 100%, 50%, 0.8); line-height:1.75\">excruciating</mark> <mark style=\"background-color: hsl(240, 100%, 66%, 0.8); line-height:1.75\">.</mark>"
      ],
      "text/plain": [
       "<IPython.core.display.HTML object>"
      ]
     },
     "metadata": {},
     "output_type": "display_data"
    },
    {
     "name": "stdout",
     "output_type": "stream",
     "text": [
      "\"An excruciating film.\" - negative - 0.20\n",
      "Rise parameter p_keep was automatically determined at 0.5\n"
     ]
    },
    {
     "name": "stderr",
     "output_type": "stream",
     "text": [
      "Explaining: 100%|██████████| 10/10 [00:11<00:00,  1.17s/it]"
     ]
    },
    {
     "name": "stdout",
     "output_type": "stream",
     "text": [
      "[('An', 0, -0.2950399668812752), ('excruciating', 1, -0.7731300805211068), ('film', 2, -0.20999917513132094), ('.', 3, -0.34963553661108016)]\n"
     ]
    },
    {
     "name": "stderr",
     "output_type": "stream",
     "text": [
      "\n"
     ]
    },
    {
     "data": {
      "text/html": [
       "<mark style=\"background-color: hsl(240, 100%, 81%, 0.8); line-height:1.75\">An</mark> <mark style=\"background-color: hsl(240, 100%, 50%, 0.8); line-height:1.75\">excruciating</mark> <mark style=\"background-color: hsl(240, 100%, 87%, 0.8); line-height:1.75\">film</mark> <mark style=\"background-color: hsl(240, 100%, 78%, 0.8); line-height:1.75\">.</mark>"
      ],
      "text/plain": [
       "<IPython.core.display.HTML object>"
      ]
     },
     "metadata": {},
     "output_type": "display_data"
    },
    {
     "name": "stdout",
     "output_type": "stream",
     "text": [
      "\"It is pointless.\" - negative - 0.02\n",
      "Rise parameter p_keep was automatically determined at 0.5\n"
     ]
    },
    {
     "name": "stderr",
     "output_type": "stream",
     "text": [
      "Explaining: 100%|██████████| 10/10 [00:12<00:00,  1.28s/it]"
     ]
    },
    {
     "name": "stdout",
     "output_type": "stream",
     "text": [
      "[('It', 0, -0.49662490761280065), ('is', 1, -0.3912676422297955), ('pointless', 2, -0.9156371515989303), ('.', 3, -0.4484106939435005)]\n"
     ]
    },
    {
     "name": "stderr",
     "output_type": "stream",
     "text": [
      "\n"
     ]
    },
    {
     "data": {
      "text/html": [
       "<mark style=\"background-color: hsl(240, 100%, 73%, 0.8); line-height:1.75\">It</mark> <mark style=\"background-color: hsl(240, 100%, 79%, 0.8); line-height:1.75\">is</mark> <mark style=\"background-color: hsl(240, 100%, 50%, 0.8); line-height:1.75\">pointless</mark> <mark style=\"background-color: hsl(240, 100%, 76%, 0.8); line-height:1.75\">.</mark>"
      ],
      "text/plain": [
       "<IPython.core.display.HTML object>"
      ]
     },
     "metadata": {},
     "output_type": "display_data"
    },
    {
     "name": "stdout",
     "output_type": "stream",
     "text": [
      "\"This is pointless.\" - negative - 0.02\n",
      "Rise parameter p_keep was automatically determined at 0.6\n"
     ]
    },
    {
     "name": "stderr",
     "output_type": "stream",
     "text": [
      "Explaining: 100%|██████████| 10/10 [00:11<00:00,  1.11s/it]"
     ]
    },
    {
     "name": "stdout",
     "output_type": "stream",
     "text": [
      "[('This', 0, -0.528559916789333), ('is', 1, -0.4768288681159416), ('pointless', 2, -0.9142502177879215), ('.', 3, -0.5801935824751854)]\n"
     ]
    },
    {
     "name": "stderr",
     "output_type": "stream",
     "text": [
      "\n"
     ]
    },
    {
     "data": {
      "text/html": [
       "<mark style=\"background-color: hsl(240, 100%, 72%, 0.8); line-height:1.75\">This</mark> <mark style=\"background-color: hsl(240, 100%, 74%, 0.8); line-height:1.75\">is</mark> <mark style=\"background-color: hsl(240, 100%, 50%, 0.8); line-height:1.75\">pointless</mark> <mark style=\"background-color: hsl(240, 100%, 69%, 0.8); line-height:1.75\">.</mark>"
      ],
      "text/plain": [
       "<IPython.core.display.HTML object>"
      ]
     },
     "metadata": {},
     "output_type": "display_data"
    },
    {
     "name": "stdout",
     "output_type": "stream",
     "text": [
      "\"A pointless film.\" - negative - 0.00\n",
      "Rise parameter p_keep was automatically determined at 0.7000000000000001\n"
     ]
    },
    {
     "name": "stderr",
     "output_type": "stream",
     "text": [
      "Explaining: 100%|██████████| 10/10 [00:11<00:00,  1.18s/it]"
     ]
    },
    {
     "name": "stdout",
     "output_type": "stream",
     "text": [
      "[('A', 0, -0.6392530856494394), ('pointless', 1, -0.9453177312814763), ('film', 2, -0.6107589562503355), ('.', 3, -0.6360311139055661)]\n"
     ]
    },
    {
     "name": "stderr",
     "output_type": "stream",
     "text": [
      "\n"
     ]
    },
    {
     "data": {
      "text/html": [
       "<mark style=\"background-color: hsl(240, 100%, 67%, 0.8); line-height:1.75\">A</mark> <mark style=\"background-color: hsl(240, 100%, 50%, 0.8); line-height:1.75\">pointless</mark> <mark style=\"background-color: hsl(240, 100%, 68%, 0.8); line-height:1.75\">film</mark> <mark style=\"background-color: hsl(240, 100%, 67%, 0.8); line-height:1.75\">.</mark>"
      ],
      "text/plain": [
       "<IPython.core.display.HTML object>"
      ]
     },
     "metadata": {},
     "output_type": "display_data"
    },
    {
     "name": "stdout",
     "output_type": "stream",
     "text": [
      "\"It is bad.\" - negative - 0.22\n",
      "Rise parameter p_keep was automatically determined at 0.4\n"
     ]
    },
    {
     "name": "stderr",
     "output_type": "stream",
     "text": [
      "Explaining: 100%|██████████| 10/10 [00:11<00:00,  1.14s/it]"
     ]
    },
    {
     "name": "stdout",
     "output_type": "stream",
     "text": [
      "[('It', 0, -0.38789894380606715), ('is', 1, -0.30166142579168076), ('bad', 2, -0.9333813055604696), ('.', 3, -0.375554912686348)]\n"
     ]
    },
    {
     "name": "stderr",
     "output_type": "stream",
     "text": [
      "\n"
     ]
    },
    {
     "data": {
      "text/html": [
       "<mark style=\"background-color: hsl(240, 100%, 80%, 0.8); line-height:1.75\">It</mark> <mark style=\"background-color: hsl(240, 100%, 84%, 0.8); line-height:1.75\">is</mark> <mark style=\"background-color: hsl(240, 100%, 50%, 0.8); line-height:1.75\">bad</mark> <mark style=\"background-color: hsl(240, 100%, 80%, 0.8); line-height:1.75\">.</mark>"
      ],
      "text/plain": [
       "<IPython.core.display.HTML object>"
      ]
     },
     "metadata": {},
     "output_type": "display_data"
    },
    {
     "name": "stdout",
     "output_type": "stream",
     "text": [
      "\"This is bad.\" - negative - 0.22\n",
      "Rise parameter p_keep was automatically determined at 0.5\n"
     ]
    },
    {
     "name": "stderr",
     "output_type": "stream",
     "text": [
      "Explaining: 100%|██████████| 10/10 [00:11<00:00,  1.12s/it]"
     ]
    },
    {
     "name": "stdout",
     "output_type": "stream",
     "text": [
      "[('This', 0, -0.4548339876160026), ('is', 1, -0.4136258291304111), ('bad', 2, -0.9335249367281795), ('.', 3, -0.4996573806032538)]\n"
     ]
    },
    {
     "name": "stderr",
     "output_type": "stream",
     "text": [
      "\n"
     ]
    },
    {
     "data": {
      "text/html": [
       "<mark style=\"background-color: hsl(240, 100%, 76%, 0.8); line-height:1.75\">This</mark> <mark style=\"background-color: hsl(240, 100%, 78%, 0.8); line-height:1.75\">is</mark> <mark style=\"background-color: hsl(240, 100%, 50%, 0.8); line-height:1.75\">bad</mark> <mark style=\"background-color: hsl(240, 100%, 74%, 0.8); line-height:1.75\">.</mark>"
      ],
      "text/plain": [
       "<IPython.core.display.HTML object>"
      ]
     },
     "metadata": {},
     "output_type": "display_data"
    },
    {
     "name": "stdout",
     "output_type": "stream",
     "text": [
      "\"A bad film.\" - negative - 0.01\n",
      "Rise parameter p_keep was automatically determined at 0.6\n"
     ]
    },
    {
     "name": "stderr",
     "output_type": "stream",
     "text": [
      "Explaining: 100%|██████████| 10/10 [00:11<00:00,  1.11s/it]"
     ]
    },
    {
     "name": "stdout",
     "output_type": "stream",
     "text": [
      "[('A', 0, -0.5487293039107074), ('bad', 1, -0.9643158856965601), ('film', 2, -0.4745938993493716), ('.', 3, -0.5216037066963812)]\n"
     ]
    },
    {
     "name": "stderr",
     "output_type": "stream",
     "text": [
      "\n"
     ]
    },
    {
     "data": {
      "text/html": [
       "<mark style=\"background-color: hsl(240, 100%, 72%, 0.8); line-height:1.75\">A</mark> <mark style=\"background-color: hsl(240, 100%, 50%, 0.8); line-height:1.75\">bad</mark> <mark style=\"background-color: hsl(240, 100%, 76%, 0.8); line-height:1.75\">film</mark> <mark style=\"background-color: hsl(240, 100%, 73%, 0.8); line-height:1.75\">.</mark>"
      ],
      "text/plain": [
       "<IPython.core.display.HTML object>"
      ]
     },
     "metadata": {},
     "output_type": "display_data"
    },
    {
     "name": "stdout",
     "output_type": "stream",
     "text": [
      "\"It is depressing.\" - negative - 0.06\n",
      "Rise parameter p_keep was automatically determined at 0.6\n"
     ]
    },
    {
     "name": "stderr",
     "output_type": "stream",
     "text": [
      "Explaining: 100%|██████████| 10/10 [00:11<00:00,  1.10s/it]"
     ]
    },
    {
     "name": "stdout",
     "output_type": "stream",
     "text": [
      "[('It', 0, -0.4088565389811992), ('is', 1, -0.3179933330913385), ('depressing', 2, -0.7316435200472673), ('.', 3, -0.4360773496329784)]\n"
     ]
    },
    {
     "name": "stderr",
     "output_type": "stream",
     "text": [
      "\n"
     ]
    },
    {
     "data": {
      "text/html": [
       "<mark style=\"background-color: hsl(240, 100%, 73%, 0.8); line-height:1.75\">It</mark> <mark style=\"background-color: hsl(240, 100%, 79%, 0.8); line-height:1.75\">is</mark> <mark style=\"background-color: hsl(240, 100%, 50%, 0.8); line-height:1.75\">depressing</mark> <mark style=\"background-color: hsl(240, 100%, 71%, 0.8); line-height:1.75\">.</mark>"
      ],
      "text/plain": [
       "<IPython.core.display.HTML object>"
      ]
     },
     "metadata": {},
     "output_type": "display_data"
    },
    {
     "name": "stdout",
     "output_type": "stream",
     "text": [
      "\"This is depressing.\" - negative - 0.06\n",
      "Rise parameter p_keep was automatically determined at 0.6\n"
     ]
    },
    {
     "name": "stderr",
     "output_type": "stream",
     "text": [
      "Explaining: 100%|██████████| 10/10 [00:10<00:00,  1.10s/it]"
     ]
    },
    {
     "name": "stdout",
     "output_type": "stream",
     "text": [
      "[('This', 0, -0.37622533674041425), ('is', 1, -0.3127923503518104), ('depressing', 2, -0.7338402277231216), ('.', 3, -0.42537329713503524)]\n"
     ]
    },
    {
     "name": "stderr",
     "output_type": "stream",
     "text": [
      "\n"
     ]
    },
    {
     "data": {
      "text/html": [
       "<mark style=\"background-color: hsl(240, 100%, 75%, 0.8); line-height:1.75\">This</mark> <mark style=\"background-color: hsl(240, 100%, 79%, 0.8); line-height:1.75\">is</mark> <mark style=\"background-color: hsl(240, 100%, 50%, 0.8); line-height:1.75\">depressing</mark> <mark style=\"background-color: hsl(240, 100%, 72%, 0.8); line-height:1.75\">.</mark>"
      ],
      "text/plain": [
       "<IPython.core.display.HTML object>"
      ]
     },
     "metadata": {},
     "output_type": "display_data"
    },
    {
     "name": "stdout",
     "output_type": "stream",
     "text": [
      "\"A depressing film.\" - negative - 0.00\n",
      "Rise parameter p_keep was automatically determined at 0.5\n"
     ]
    },
    {
     "name": "stderr",
     "output_type": "stream",
     "text": [
      "Explaining: 100%|██████████| 10/10 [00:11<00:00,  1.10s/it]"
     ]
    },
    {
     "name": "stdout",
     "output_type": "stream",
     "text": [
      "[('A', 0, -0.3957322856485843), ('depressing', 1, -0.8615940620005131), ('film', 2, -0.34725486767292024), ('.', 3, -0.4434951861202717)]\n"
     ]
    },
    {
     "name": "stderr",
     "output_type": "stream",
     "text": [
      "\n"
     ]
    },
    {
     "data": {
      "text/html": [
       "<mark style=\"background-color: hsl(240, 100%, 78%, 0.8); line-height:1.75\">A</mark> <mark style=\"background-color: hsl(240, 100%, 50%, 0.8); line-height:1.75\">depressing</mark> <mark style=\"background-color: hsl(240, 100%, 80%, 0.8); line-height:1.75\">film</mark> <mark style=\"background-color: hsl(240, 100%, 75%, 0.8); line-height:1.75\">.</mark>"
      ],
      "text/plain": [
       "<IPython.core.display.HTML object>"
      ]
     },
     "metadata": {},
     "output_type": "display_data"
    },
    {
     "name": "stdout",
     "output_type": "stream",
     "text": [
      "\"It is nasty.\" - negative - 0.05\n",
      "Rise parameter p_keep was automatically determined at 0.5\n"
     ]
    },
    {
     "name": "stderr",
     "output_type": "stream",
     "text": [
      "Explaining: 100%|██████████| 10/10 [00:11<00:00,  1.12s/it]"
     ]
    },
    {
     "name": "stdout",
     "output_type": "stream",
     "text": [
      "[('It', 0, -0.38396763032674786), ('is', 1, -0.299436714142561), ('nasty', 2, -0.8886818729490041), ('.', 3, -0.41791038528084756)]\n"
     ]
    },
    {
     "name": "stderr",
     "output_type": "stream",
     "text": [
      "\n"
     ]
    },
    {
     "data": {
      "text/html": [
       "<mark style=\"background-color: hsl(240, 100%, 79%, 0.8); line-height:1.75\">It</mark> <mark style=\"background-color: hsl(240, 100%, 84%, 0.8); line-height:1.75\">is</mark> <mark style=\"background-color: hsl(240, 100%, 50%, 0.8); line-height:1.75\">nasty</mark> <mark style=\"background-color: hsl(240, 100%, 77%, 0.8); line-height:1.75\">.</mark>"
      ],
      "text/plain": [
       "<IPython.core.display.HTML object>"
      ]
     },
     "metadata": {},
     "output_type": "display_data"
    },
    {
     "name": "stdout",
     "output_type": "stream",
     "text": [
      "\"This is nasty.\" - negative - 0.05\n",
      "Rise parameter p_keep was automatically determined at 0.5\n"
     ]
    },
    {
     "name": "stderr",
     "output_type": "stream",
     "text": [
      "Explaining: 100%|██████████| 10/10 [00:11<00:00,  1.14s/it]"
     ]
    },
    {
     "name": "stdout",
     "output_type": "stream",
     "text": [
      "[('This', 0, -0.43160749974846835), ('is', 1, -0.3315479650497436), ('nasty', 2, -0.8847531419694423), ('.', 3, -0.4291301057040692)]\n"
     ]
    },
    {
     "name": "stderr",
     "output_type": "stream",
     "text": [
      "\n"
     ]
    },
    {
     "data": {
      "text/html": [
       "<mark style=\"background-color: hsl(240, 100%, 76%, 0.8); line-height:1.75\">This</mark> <mark style=\"background-color: hsl(240, 100%, 82%, 0.8); line-height:1.75\">is</mark> <mark style=\"background-color: hsl(240, 100%, 50%, 0.8); line-height:1.75\">nasty</mark> <mark style=\"background-color: hsl(240, 100%, 76%, 0.8); line-height:1.75\">.</mark>"
      ],
      "text/plain": [
       "<IPython.core.display.HTML object>"
      ]
     },
     "metadata": {},
     "output_type": "display_data"
    },
    {
     "name": "stdout",
     "output_type": "stream",
     "text": [
      "\"A nasty film.\" - negative - 0.00\n",
      "Rise parameter p_keep was automatically determined at 0.5\n"
     ]
    },
    {
     "name": "stderr",
     "output_type": "stream",
     "text": [
      "Explaining: 100%|██████████| 10/10 [00:11<00:00,  1.17s/it]"
     ]
    },
    {
     "name": "stdout",
     "output_type": "stream",
     "text": [
      "[('A', 0, -0.38973676887899633), ('nasty', 1, -0.9357434278130531), ('film', 2, -0.33066530680656436), ('.', 3, -0.4248967377245426)]\n"
     ]
    },
    {
     "name": "stderr",
     "output_type": "stream",
     "text": [
      "\n"
     ]
    },
    {
     "data": {
      "text/html": [
       "<mark style=\"background-color: hsl(240, 100%, 80%, 0.8); line-height:1.75\">A</mark> <mark style=\"background-color: hsl(240, 100%, 50%, 0.8); line-height:1.75\">nasty</mark> <mark style=\"background-color: hsl(240, 100%, 83%, 0.8); line-height:1.75\">film</mark> <mark style=\"background-color: hsl(240, 100%, 78%, 0.8); line-height:1.75\">.</mark>"
      ],
      "text/plain": [
       "<IPython.core.display.HTML object>"
      ]
     },
     "metadata": {},
     "output_type": "display_data"
    },
    {
     "name": "stdout",
     "output_type": "stream",
     "text": [
      "\"It is boring.\" - negative - 0.03\n",
      "Rise parameter p_keep was automatically determined at 0.5\n"
     ]
    },
    {
     "name": "stderr",
     "output_type": "stream",
     "text": [
      "Explaining: 100%|██████████| 10/10 [00:11<00:00,  1.11s/it]"
     ]
    },
    {
     "name": "stdout",
     "output_type": "stream",
     "text": [
      "[('It', 0, -0.40978960967063904), ('is', 1, -0.286978347286582), ('boring', 2, -0.8925187194794416), ('.', 3, -0.46282691670954224)]\n"
     ]
    },
    {
     "name": "stderr",
     "output_type": "stream",
     "text": [
      "\n"
     ]
    },
    {
     "data": {
      "text/html": [
       "<mark style=\"background-color: hsl(240, 100%, 78%, 0.8); line-height:1.75\">It</mark> <mark style=\"background-color: hsl(240, 100%, 84%, 0.8); line-height:1.75\">is</mark> <mark style=\"background-color: hsl(240, 100%, 50%, 0.8); line-height:1.75\">boring</mark> <mark style=\"background-color: hsl(240, 100%, 75%, 0.8); line-height:1.75\">.</mark>"
      ],
      "text/plain": [
       "<IPython.core.display.HTML object>"
      ]
     },
     "metadata": {},
     "output_type": "display_data"
    },
    {
     "name": "stdout",
     "output_type": "stream",
     "text": [
      "\"This is boring.\" - negative - 0.03\n",
      "Rise parameter p_keep was automatically determined at 0.5\n"
     ]
    },
    {
     "name": "stderr",
     "output_type": "stream",
     "text": [
      "Explaining: 100%|██████████| 10/10 [00:10<00:00,  1.09s/it]"
     ]
    },
    {
     "name": "stdout",
     "output_type": "stream",
     "text": [
      "[('This', 0, -0.3977475035339594), ('is', 1, -0.3262831280380487), ('boring', 2, -0.884499710559845), ('.', 3, -0.46183088767528535)]\n"
     ]
    },
    {
     "name": "stderr",
     "output_type": "stream",
     "text": [
      "\n"
     ]
    },
    {
     "data": {
      "text/html": [
       "<mark style=\"background-color: hsl(240, 100%, 78%, 0.8); line-height:1.75\">This</mark> <mark style=\"background-color: hsl(240, 100%, 82%, 0.8); line-height:1.75\">is</mark> <mark style=\"background-color: hsl(240, 100%, 50%, 0.8); line-height:1.75\">boring</mark> <mark style=\"background-color: hsl(240, 100%, 74%, 0.8); line-height:1.75\">.</mark>"
      ],
      "text/plain": [
       "<IPython.core.display.HTML object>"
      ]
     },
     "metadata": {},
     "output_type": "display_data"
    },
    {
     "name": "stdout",
     "output_type": "stream",
     "text": [
      "\"A boring film.\" - negative - 0.00\n",
      "Rise parameter p_keep was automatically determined at 0.5\n"
     ]
    },
    {
     "name": "stderr",
     "output_type": "stream",
     "text": [
      "Explaining: 100%|██████████| 10/10 [00:10<00:00,  1.09s/it]"
     ]
    },
    {
     "name": "stdout",
     "output_type": "stream",
     "text": [
      "[('A', 0, -0.375749053016305), ('boring', 1, -0.9155821476131678), ('film', 2, -0.29518008136749263), ('.', 3, -0.4592516323924065)]\n"
     ]
    },
    {
     "name": "stderr",
     "output_type": "stream",
     "text": [
      "\n"
     ]
    },
    {
     "data": {
      "text/html": [
       "<mark style=\"background-color: hsl(240, 100%, 80%, 0.8); line-height:1.75\">A</mark> <mark style=\"background-color: hsl(240, 100%, 50%, 0.8); line-height:1.75\">boring</mark> <mark style=\"background-color: hsl(240, 100%, 84%, 0.8); line-height:1.75\">film</mark> <mark style=\"background-color: hsl(240, 100%, 75%, 0.8); line-height:1.75\">.</mark>"
      ],
      "text/plain": [
       "<IPython.core.display.HTML object>"
      ]
     },
     "metadata": {},
     "output_type": "display_data"
    },
    {
     "name": "stdout",
     "output_type": "stream",
     "text": [
      "\"It is lackluster.\" - negative - 0.20\n",
      "Rise parameter p_keep was automatically determined at 0.6\n"
     ]
    },
    {
     "name": "stderr",
     "output_type": "stream",
     "text": [
      "Explaining: 100%|██████████| 10/10 [00:10<00:00,  1.08s/it]"
     ]
    },
    {
     "name": "stdout",
     "output_type": "stream",
     "text": [
      "[('It', 0, -0.39007087637980775), ('is', 1, -0.3504535802702109), ('lackluster', 2, -0.6788488091528415), ('.', 3, -0.37249092578887943)]\n"
     ]
    },
    {
     "name": "stderr",
     "output_type": "stream",
     "text": [
      "\n"
     ]
    },
    {
     "data": {
      "text/html": [
       "<mark style=\"background-color: hsl(240, 100%, 72%, 0.8); line-height:1.75\">It</mark> <mark style=\"background-color: hsl(240, 100%, 75%, 0.8); line-height:1.75\">is</mark> <mark style=\"background-color: hsl(240, 100%, 50%, 0.8); line-height:1.75\">lackluster</mark> <mark style=\"background-color: hsl(240, 100%, 73%, 0.8); line-height:1.75\">.</mark>"
      ],
      "text/plain": [
       "<IPython.core.display.HTML object>"
      ]
     },
     "metadata": {},
     "output_type": "display_data"
    },
    {
     "name": "stdout",
     "output_type": "stream",
     "text": [
      "\"This is lackluster.\" - negative - 0.20\n",
      "Rise parameter p_keep was automatically determined at 0.5\n"
     ]
    },
    {
     "name": "stderr",
     "output_type": "stream",
     "text": [
      "Explaining: 100%|██████████| 10/10 [00:11<00:00,  1.11s/it]"
     ]
    },
    {
     "name": "stdout",
     "output_type": "stream",
     "text": [
      "[('This', 0, -0.3311270412802696), ('is', 1, -0.20382313984632494), ('lackluster', 2, -0.6972160270810127), ('.', 3, -0.3706328169107437)]\n"
     ]
    },
    {
     "name": "stderr",
     "output_type": "stream",
     "text": [
      "\n"
     ]
    },
    {
     "data": {
      "text/html": [
       "<mark style=\"background-color: hsl(240, 100%, 77%, 0.8); line-height:1.75\">This</mark> <mark style=\"background-color: hsl(240, 100%, 86%, 0.8); line-height:1.75\">is</mark> <mark style=\"background-color: hsl(240, 100%, 50%, 0.8); line-height:1.75\">lackluster</mark> <mark style=\"background-color: hsl(240, 100%, 74%, 0.8); line-height:1.75\">.</mark>"
      ],
      "text/plain": [
       "<IPython.core.display.HTML object>"
      ]
     },
     "metadata": {},
     "output_type": "display_data"
    },
    {
     "name": "stdout",
     "output_type": "stream",
     "text": [
      "\"A lackluster film.\" - negative - 0.01\n",
      "Rise parameter p_keep was automatically determined at 0.4\n"
     ]
    },
    {
     "name": "stderr",
     "output_type": "stream",
     "text": [
      "Explaining: 100%|██████████| 10/10 [00:10<00:00,  1.09s/it]"
     ]
    },
    {
     "name": "stdout",
     "output_type": "stream",
     "text": [
      "[('A', 0, -0.2714905395358802), ('lackluster', 1, -0.8177198138087988), ('film', 2, -0.17400155052542687), ('.', 3, -0.30968889515846976)]\n"
     ]
    },
    {
     "name": "stderr",
     "output_type": "stream",
     "text": [
      "\n"
     ]
    },
    {
     "data": {
      "text/html": [
       "<mark style=\"background-color: hsl(240, 100%, 84%, 0.8); line-height:1.75\">A</mark> <mark style=\"background-color: hsl(240, 100%, 50%, 0.8); line-height:1.75\">lackluster</mark> <mark style=\"background-color: hsl(240, 100%, 90%, 0.8); line-height:1.75\">film</mark> <mark style=\"background-color: hsl(240, 100%, 82%, 0.8); line-height:1.75\">.</mark>"
      ],
      "text/plain": [
       "<IPython.core.display.HTML object>"
      ]
     },
     "metadata": {},
     "output_type": "display_data"
    },
    {
     "name": "stdout",
     "output_type": "stream",
     "text": [
      "\"It is repetitive.\" - negative - 0.03\n",
      "Rise parameter p_keep was automatically determined at 0.6\n"
     ]
    },
    {
     "name": "stderr",
     "output_type": "stream",
     "text": [
      "Explaining: 100%|██████████| 10/10 [00:11<00:00,  1.11s/it]"
     ]
    },
    {
     "name": "stdout",
     "output_type": "stream",
     "text": [
      "[('It', 0, -0.47051779727141063), ('is', 1, -0.41418732325235996), ('repetitive', 2, -0.8919537229215105), ('.', 3, -0.5291930280625821)]\n"
     ]
    },
    {
     "name": "stderr",
     "output_type": "stream",
     "text": [
      "\n"
     ]
    },
    {
     "data": {
      "text/html": [
       "<mark style=\"background-color: hsl(240, 100%, 74%, 0.8); line-height:1.75\">It</mark> <mark style=\"background-color: hsl(240, 100%, 77%, 0.8); line-height:1.75\">is</mark> <mark style=\"background-color: hsl(240, 100%, 50%, 0.8); line-height:1.75\">repetitive</mark> <mark style=\"background-color: hsl(240, 100%, 71%, 0.8); line-height:1.75\">.</mark>"
      ],
      "text/plain": [
       "<IPython.core.display.HTML object>"
      ]
     },
     "metadata": {},
     "output_type": "display_data"
    },
    {
     "name": "stdout",
     "output_type": "stream",
     "text": [
      "\"This is repetitive.\" - negative - 0.03\n",
      "Rise parameter p_keep was automatically determined at 0.5\n"
     ]
    },
    {
     "name": "stderr",
     "output_type": "stream",
     "text": [
      "Explaining: 100%|██████████| 10/10 [00:10<00:00,  1.08s/it]"
     ]
    },
    {
     "name": "stdout",
     "output_type": "stream",
     "text": [
      "[('This', 0, -0.40724068985879425), ('is', 1, -0.4018308272361756), ('repetitive', 2, -0.8876186629384756), ('.', 3, -0.46887676906585696)]\n"
     ]
    },
    {
     "name": "stderr",
     "output_type": "stream",
     "text": [
      "\n"
     ]
    },
    {
     "data": {
      "text/html": [
       "<mark style=\"background-color: hsl(240, 100%, 78%, 0.8); line-height:1.75\">This</mark> <mark style=\"background-color: hsl(240, 100%, 78%, 0.8); line-height:1.75\">is</mark> <mark style=\"background-color: hsl(240, 100%, 50%, 0.8); line-height:1.75\">repetitive</mark> <mark style=\"background-color: hsl(240, 100%, 74%, 0.8); line-height:1.75\">.</mark>"
      ],
      "text/plain": [
       "<IPython.core.display.HTML object>"
      ]
     },
     "metadata": {},
     "output_type": "display_data"
    },
    {
     "name": "stdout",
     "output_type": "stream",
     "text": [
      "\"A repetitive film.\" - negative - 0.00\n",
      "Rise parameter p_keep was automatically determined at 0.5\n"
     ]
    },
    {
     "name": "stderr",
     "output_type": "stream",
     "text": [
      "Explaining: 100%|██████████| 10/10 [00:10<00:00,  1.09s/it]"
     ]
    },
    {
     "name": "stdout",
     "output_type": "stream",
     "text": [
      "[('A', 0, -0.4184443663060665), ('repetitive', 1, -0.9120571045279503), ('film', 2, -0.33809907448291776), ('.', 3, -0.45648238354921344)]\n"
     ]
    },
    {
     "name": "stderr",
     "output_type": "stream",
     "text": [
      "\n"
     ]
    },
    {
     "data": {
      "text/html": [
       "<mark style=\"background-color: hsl(240, 100%, 78%, 0.8); line-height:1.75\">A</mark> <mark style=\"background-color: hsl(240, 100%, 50%, 0.8); line-height:1.75\">repetitive</mark> <mark style=\"background-color: hsl(240, 100%, 82%, 0.8); line-height:1.75\">film</mark> <mark style=\"background-color: hsl(240, 100%, 75%, 0.8); line-height:1.75\">.</mark>"
      ],
      "text/plain": [
       "<IPython.core.display.HTML object>"
      ]
     },
     "metadata": {},
     "output_type": "display_data"
    },
    {
     "name": "stdout",
     "output_type": "stream",
     "text": [
      "\"It is worse.\" - negative - 0.11\n",
      "Rise parameter p_keep was automatically determined at 0.6\n"
     ]
    },
    {
     "name": "stderr",
     "output_type": "stream",
     "text": [
      "Explaining: 100%|██████████| 10/10 [00:10<00:00,  1.09s/it]"
     ]
    },
    {
     "name": "stdout",
     "output_type": "stream",
     "text": [
      "[('It', 0, -0.5313824274142583), ('is', 1, -0.4840561834474404), ('worse', 2, -0.9351127801587185), ('.', 3, -0.5303996275365352)]\n"
     ]
    },
    {
     "name": "stderr",
     "output_type": "stream",
     "text": [
      "\n"
     ]
    },
    {
     "data": {
      "text/html": [
       "<mark style=\"background-color: hsl(240, 100%, 72%, 0.8); line-height:1.75\">It</mark> <mark style=\"background-color: hsl(240, 100%, 75%, 0.8); line-height:1.75\">is</mark> <mark style=\"background-color: hsl(240, 100%, 50%, 0.8); line-height:1.75\">worse</mark> <mark style=\"background-color: hsl(240, 100%, 72%, 0.8); line-height:1.75\">.</mark>"
      ],
      "text/plain": [
       "<IPython.core.display.HTML object>"
      ]
     },
     "metadata": {},
     "output_type": "display_data"
    },
    {
     "name": "stdout",
     "output_type": "stream",
     "text": [
      "\"This is worse.\" - negative - 0.11\n",
      "Rise parameter p_keep was automatically determined at 0.5\n"
     ]
    },
    {
     "name": "stderr",
     "output_type": "stream",
     "text": [
      "Explaining: 100%|██████████| 10/10 [00:10<00:00,  1.08s/it]"
     ]
    },
    {
     "name": "stdout",
     "output_type": "stream",
     "text": [
      "[('This', 0, -0.40010637934505944), ('is', 1, -0.34980826967954637), ('worse', 2, -0.9380843526422977), ('.', 3, -0.41060707014799114)]\n"
     ]
    },
    {
     "name": "stderr",
     "output_type": "stream",
     "text": [
      "\n"
     ]
    },
    {
     "data": {
      "text/html": [
       "<mark style=\"background-color: hsl(240, 100%, 79%, 0.8); line-height:1.75\">This</mark> <mark style=\"background-color: hsl(240, 100%, 82%, 0.8); line-height:1.75\">is</mark> <mark style=\"background-color: hsl(240, 100%, 50%, 0.8); line-height:1.75\">worse</mark> <mark style=\"background-color: hsl(240, 100%, 79%, 0.8); line-height:1.75\">.</mark>"
      ],
      "text/plain": [
       "<IPython.core.display.HTML object>"
      ]
     },
     "metadata": {},
     "output_type": "display_data"
    },
    {
     "name": "stdout",
     "output_type": "stream",
     "text": [
      "\"A worse film.\" - negative - 0.00\n",
      "Rise parameter p_keep was automatically determined at 0.5\n"
     ]
    },
    {
     "name": "stderr",
     "output_type": "stream",
     "text": [
      "Explaining: 100%|██████████| 10/10 [00:11<00:00,  1.10s/it]"
     ]
    },
    {
     "name": "stdout",
     "output_type": "stream",
     "text": [
      "[('A', 0, -0.4663304565548897), ('worse', 1, -0.9694315402731299), ('film', 2, -0.4211237958967685), ('.', 3, -0.480068795658648)]\n"
     ]
    },
    {
     "name": "stderr",
     "output_type": "stream",
     "text": [
      "\n"
     ]
    },
    {
     "data": {
      "text/html": [
       "<mark style=\"background-color: hsl(240, 100%, 76%, 0.8); line-height:1.75\">A</mark> <mark style=\"background-color: hsl(240, 100%, 50%, 0.8); line-height:1.75\">worse</mark> <mark style=\"background-color: hsl(240, 100%, 79%, 0.8); line-height:1.75\">film</mark> <mark style=\"background-color: hsl(240, 100%, 76%, 0.8); line-height:1.75\">.</mark>"
      ],
      "text/plain": [
       "<IPython.core.display.HTML object>"
      ]
     },
     "metadata": {},
     "output_type": "display_data"
    },
    {
     "name": "stdout",
     "output_type": "stream",
     "text": [
      "\"It is pitiful.\" - positive - 0.70\n",
      "Rise parameter p_keep was automatically determined at 0.5\n"
     ]
    },
    {
     "name": "stderr",
     "output_type": "stream",
     "text": [
      "Explaining: 100%|██████████| 10/10 [00:10<00:00,  1.06s/it]"
     ]
    },
    {
     "name": "stdout",
     "output_type": "stream",
     "text": [
      "[('It', 0, -0.39360731509327884), ('is', 1, -0.36069670006632804), ('pitiful', 2, -0.8109870368540287), ('.', 3, -0.4320970620512963)]\n"
     ]
    },
    {
     "name": "stderr",
     "output_type": "stream",
     "text": [
      "\n"
     ]
    },
    {
     "data": {
      "text/html": [
       "<mark style=\"background-color: hsl(240, 100%, 76%, 0.8); line-height:1.75\">It</mark> <mark style=\"background-color: hsl(240, 100%, 78%, 0.8); line-height:1.75\">is</mark> <mark style=\"background-color: hsl(240, 100%, 50%, 0.8); line-height:1.75\">pitiful</mark> <mark style=\"background-color: hsl(240, 100%, 74%, 0.8); line-height:1.75\">.</mark>"
      ],
      "text/plain": [
       "<IPython.core.display.HTML object>"
      ]
     },
     "metadata": {},
     "output_type": "display_data"
    },
    {
     "name": "stdout",
     "output_type": "stream",
     "text": [
      "\"This is pitiful.\" - positive - 0.70\n",
      "Rise parameter p_keep was automatically determined at 0.5\n"
     ]
    },
    {
     "name": "stderr",
     "output_type": "stream",
     "text": [
      "Explaining: 100%|██████████| 10/10 [00:10<00:00,  1.06s/it]"
     ]
    },
    {
     "name": "stdout",
     "output_type": "stream",
     "text": [
      "[('This', 0, -0.35927827319502825), ('is', 1, -0.2710566383302212), ('pitiful', 2, -0.8182070947289467), ('.', 3, -0.40801381886005406)]\n"
     ]
    },
    {
     "name": "stderr",
     "output_type": "stream",
     "text": [
      "\n"
     ]
    },
    {
     "data": {
      "text/html": [
       "<mark style=\"background-color: hsl(240, 100%, 79%, 0.8); line-height:1.75\">This</mark> <mark style=\"background-color: hsl(240, 100%, 84%, 0.8); line-height:1.75\">is</mark> <mark style=\"background-color: hsl(240, 100%, 50%, 0.8); line-height:1.75\">pitiful</mark> <mark style=\"background-color: hsl(240, 100%, 76%, 0.8); line-height:1.75\">.</mark>"
      ],
      "text/plain": [
       "<IPython.core.display.HTML object>"
      ]
     },
     "metadata": {},
     "output_type": "display_data"
    },
    {
     "name": "stdout",
     "output_type": "stream",
     "text": [
      "\"A pitiful film.\" - negative - 0.32\n",
      "Rise parameter p_keep was automatically determined at 0.5\n"
     ]
    },
    {
     "name": "stderr",
     "output_type": "stream",
     "text": [
      "Explaining: 100%|██████████| 10/10 [00:10<00:00,  1.07s/it]"
     ]
    },
    {
     "name": "stdout",
     "output_type": "stream",
     "text": [
      "[('A', 0, -0.44336757485568523), ('pitiful', 1, -0.9078815697282553), ('film', 2, -0.29738121756911273), ('.', 3, -0.4317498849183321)]\n"
     ]
    },
    {
     "name": "stderr",
     "output_type": "stream",
     "text": [
      "\n"
     ]
    },
    {
     "data": {
      "text/html": [
       "<mark style=\"background-color: hsl(240, 100%, 76%, 0.8); line-height:1.75\">A</mark> <mark style=\"background-color: hsl(240, 100%, 50%, 0.8); line-height:1.75\">pitiful</mark> <mark style=\"background-color: hsl(240, 100%, 84%, 0.8); line-height:1.75\">film</mark> <mark style=\"background-color: hsl(240, 100%, 77%, 0.8); line-height:1.75\">.</mark>"
      ],
      "text/plain": [
       "<IPython.core.display.HTML object>"
      ]
     },
     "metadata": {},
     "output_type": "display_data"
    },
    {
     "name": "stdout",
     "output_type": "stream",
     "text": [
      "\"It is clunky.\" - negative - 0.06\n",
      "Rise parameter p_keep was automatically determined at 0.6\n"
     ]
    },
    {
     "name": "stderr",
     "output_type": "stream",
     "text": [
      "Explaining: 100%|██████████| 10/10 [00:10<00:00,  1.06s/it]"
     ]
    },
    {
     "name": "stdout",
     "output_type": "stream",
     "text": [
      "[('It', 0, -0.5489149409160018), ('is', 1, -0.49777717705816027), ('clunky', 2, -0.9362555553143224), ('.', 3, -0.5628882224112749)]\n"
     ]
    },
    {
     "name": "stderr",
     "output_type": "stream",
     "text": [
      "\n"
     ]
    },
    {
     "data": {
      "text/html": [
       "<mark style=\"background-color: hsl(240, 100%, 71%, 0.8); line-height:1.75\">It</mark> <mark style=\"background-color: hsl(240, 100%, 74%, 0.8); line-height:1.75\">is</mark> <mark style=\"background-color: hsl(240, 100%, 50%, 0.8); line-height:1.75\">clunky</mark> <mark style=\"background-color: hsl(240, 100%, 70%, 0.8); line-height:1.75\">.</mark>"
      ],
      "text/plain": [
       "<IPython.core.display.HTML object>"
      ]
     },
     "metadata": {},
     "output_type": "display_data"
    },
    {
     "name": "stdout",
     "output_type": "stream",
     "text": [
      "\"This is clunky.\" - negative - 0.06\n",
      "Rise parameter p_keep was automatically determined at 0.5\n"
     ]
    },
    {
     "name": "stderr",
     "output_type": "stream",
     "text": [
      "Explaining: 100%|██████████| 10/10 [00:10<00:00,  1.06s/it]"
     ]
    },
    {
     "name": "stdout",
     "output_type": "stream",
     "text": [
      "[('This', 0, -0.43730257536470885), ('is', 1, -0.39507900048792366), ('clunky', 2, -0.93604266859591), ('.', 3, -0.5104150776118039)]\n"
     ]
    },
    {
     "name": "stderr",
     "output_type": "stream",
     "text": [
      "\n"
     ]
    },
    {
     "data": {
      "text/html": [
       "<mark style=\"background-color: hsl(240, 100%, 77%, 0.8); line-height:1.75\">This</mark> <mark style=\"background-color: hsl(240, 100%, 79%, 0.8); line-height:1.75\">is</mark> <mark style=\"background-color: hsl(240, 100%, 50%, 0.8); line-height:1.75\">clunky</mark> <mark style=\"background-color: hsl(240, 100%, 73%, 0.8); line-height:1.75\">.</mark>"
      ],
      "text/plain": [
       "<IPython.core.display.HTML object>"
      ]
     },
     "metadata": {},
     "output_type": "display_data"
    },
    {
     "name": "stdout",
     "output_type": "stream",
     "text": [
      "\"A clunky film.\" - negative - 0.00\n",
      "Rise parameter p_keep was automatically determined at 0.5\n"
     ]
    },
    {
     "name": "stderr",
     "output_type": "stream",
     "text": [
      "Explaining: 100%|██████████| 10/10 [00:10<00:00,  1.06s/it]"
     ]
    },
    {
     "name": "stdout",
     "output_type": "stream",
     "text": [
      "[('A', 0, -0.44409052487462763), ('clunky', 1, -0.9563797298595309), ('film', 2, -0.4038428891822696), ('.', 3, -0.4870385916531086)]\n"
     ]
    },
    {
     "name": "stderr",
     "output_type": "stream",
     "text": [
      "\n"
     ]
    },
    {
     "data": {
      "text/html": [
       "<mark style=\"background-color: hsl(240, 100%, 77%, 0.8); line-height:1.75\">A</mark> <mark style=\"background-color: hsl(240, 100%, 50%, 0.8); line-height:1.75\">clunky</mark> <mark style=\"background-color: hsl(240, 100%, 79%, 0.8); line-height:1.75\">film</mark> <mark style=\"background-color: hsl(240, 100%, 75%, 0.8); line-height:1.75\">.</mark>"
      ],
      "text/plain": [
       "<IPython.core.display.HTML object>"
      ]
     },
     "metadata": {},
     "output_type": "display_data"
    },
    {
     "name": "stdout",
     "output_type": "stream",
     "text": [
      "\"It is rotten.\" - negative - 0.03\n",
      "Rise parameter p_keep was automatically determined at 0.5\n"
     ]
    },
    {
     "name": "stderr",
     "output_type": "stream",
     "text": [
      "Explaining: 100%|██████████| 10/10 [00:10<00:00,  1.07s/it]"
     ]
    },
    {
     "name": "stdout",
     "output_type": "stream",
     "text": [
      "[('It', 0, -0.3944862638711929), ('is', 1, -0.3892551938593387), ('rotten', 2, -0.904867695003748), ('.', 3, -0.5106494319438935)]\n"
     ]
    },
    {
     "name": "stderr",
     "output_type": "stream",
     "text": [
      "\n"
     ]
    },
    {
     "data": {
      "text/html": [
       "<mark style=\"background-color: hsl(240, 100%, 79%, 0.8); line-height:1.75\">It</mark> <mark style=\"background-color: hsl(240, 100%, 79%, 0.8); line-height:1.75\">is</mark> <mark style=\"background-color: hsl(240, 100%, 50%, 0.8); line-height:1.75\">rotten</mark> <mark style=\"background-color: hsl(240, 100%, 72%, 0.8); line-height:1.75\">.</mark>"
      ],
      "text/plain": [
       "<IPython.core.display.HTML object>"
      ]
     },
     "metadata": {},
     "output_type": "display_data"
    },
    {
     "name": "stdout",
     "output_type": "stream",
     "text": [
      "\"This is rotten.\" - negative - 0.03\n",
      "Rise parameter p_keep was automatically determined at 0.4\n"
     ]
    },
    {
     "name": "stderr",
     "output_type": "stream",
     "text": [
      "Explaining: 100%|██████████| 10/10 [00:10<00:00,  1.09s/it]"
     ]
    },
    {
     "name": "stdout",
     "output_type": "stream",
     "text": [
      "[('This', 0, -0.37194740766659373), ('is', 1, -0.29647404842078684), ('rotten', 2, -0.9058047783374786), ('.', 3, -0.3762159506604076)]\n"
     ]
    },
    {
     "name": "stderr",
     "output_type": "stream",
     "text": [
      "\n"
     ]
    },
    {
     "data": {
      "text/html": [
       "<mark style=\"background-color: hsl(240, 100%, 80%, 0.8); line-height:1.75\">This</mark> <mark style=\"background-color: hsl(240, 100%, 84%, 0.8); line-height:1.75\">is</mark> <mark style=\"background-color: hsl(240, 100%, 50%, 0.8); line-height:1.75\">rotten</mark> <mark style=\"background-color: hsl(240, 100%, 80%, 0.8); line-height:1.75\">.</mark>"
      ],
      "text/plain": [
       "<IPython.core.display.HTML object>"
      ]
     },
     "metadata": {},
     "output_type": "display_data"
    },
    {
     "name": "stdout",
     "output_type": "stream",
     "text": [
      "\"A rotten film.\" - negative - 0.00\n",
      "Rise parameter p_keep was automatically determined at 0.6\n"
     ]
    },
    {
     "name": "stderr",
     "output_type": "stream",
     "text": [
      "Explaining: 100%|██████████| 10/10 [00:10<00:00,  1.10s/it]"
     ]
    },
    {
     "name": "stdout",
     "output_type": "stream",
     "text": [
      "[('A', 0, -0.5166448845776419), ('rotten', 1, -0.9495257676703235), ('film', 2, -0.45780256360148386), ('.', 3, -0.5524256457388401)]\n"
     ]
    },
    {
     "name": "stderr",
     "output_type": "stream",
     "text": [
      "\n"
     ]
    },
    {
     "data": {
      "text/html": [
       "<mark style=\"background-color: hsl(240, 100%, 73%, 0.8); line-height:1.75\">A</mark> <mark style=\"background-color: hsl(240, 100%, 50%, 0.8); line-height:1.75\">rotten</mark> <mark style=\"background-color: hsl(240, 100%, 76%, 0.8); line-height:1.75\">film</mark> <mark style=\"background-color: hsl(240, 100%, 71%, 0.8); line-height:1.75\">.</mark>"
      ],
      "text/plain": [
       "<IPython.core.display.HTML object>"
      ]
     },
     "metadata": {},
     "output_type": "display_data"
    },
    {
     "name": "stdout",
     "output_type": "stream",
     "text": [
      "\"It is tedious.\" - negative - 0.01\n",
      "Rise parameter p_keep was automatically determined at 0.5\n"
     ]
    },
    {
     "name": "stderr",
     "output_type": "stream",
     "text": [
      "Explaining: 100%|██████████| 10/10 [00:11<00:00,  1.17s/it]"
     ]
    },
    {
     "name": "stdout",
     "output_type": "stream",
     "text": [
      "[('It', 0, -0.4532922474592924), ('is', 1, -0.3642891137599945), ('tedious', 2, -0.8921097474396229), ('.', 3, -0.44094455124437804)]\n"
     ]
    },
    {
     "name": "stderr",
     "output_type": "stream",
     "text": [
      "\n"
     ]
    },
    {
     "data": {
      "text/html": [
       "<mark style=\"background-color: hsl(240, 100%, 75%, 0.8); line-height:1.75\">It</mark> <mark style=\"background-color: hsl(240, 100%, 80%, 0.8); line-height:1.75\">is</mark> <mark style=\"background-color: hsl(240, 100%, 50%, 0.8); line-height:1.75\">tedious</mark> <mark style=\"background-color: hsl(240, 100%, 76%, 0.8); line-height:1.75\">.</mark>"
      ],
      "text/plain": [
       "<IPython.core.display.HTML object>"
      ]
     },
     "metadata": {},
     "output_type": "display_data"
    },
    {
     "name": "stdout",
     "output_type": "stream",
     "text": [
      "\"This is tedious.\" - negative - 0.01\n",
      "Rise parameter p_keep was automatically determined at 0.6\n"
     ]
    },
    {
     "name": "stderr",
     "output_type": "stream",
     "text": [
      "Explaining: 100%|██████████| 10/10 [00:11<00:00,  1.14s/it]"
     ]
    },
    {
     "name": "stdout",
     "output_type": "stream",
     "text": [
      "[('This', 0, -0.5067074688027302), ('is', 1, -0.4829297636697689), ('tedious', 2, -0.8882966681321461), ('.', 3, -0.550378839969635)]\n"
     ]
    },
    {
     "name": "stderr",
     "output_type": "stream",
     "text": [
      "\n"
     ]
    },
    {
     "data": {
      "text/html": [
       "<mark style=\"background-color: hsl(240, 100%, 72%, 0.8); line-height:1.75\">This</mark> <mark style=\"background-color: hsl(240, 100%, 73%, 0.8); line-height:1.75\">is</mark> <mark style=\"background-color: hsl(240, 100%, 50%, 0.8); line-height:1.75\">tedious</mark> <mark style=\"background-color: hsl(240, 100%, 70%, 0.8); line-height:1.75\">.</mark>"
      ],
      "text/plain": [
       "<IPython.core.display.HTML object>"
      ]
     },
     "metadata": {},
     "output_type": "display_data"
    },
    {
     "name": "stdout",
     "output_type": "stream",
     "text": [
      "\"A tedious film.\" - negative - 0.00\n",
      "Rise parameter p_keep was automatically determined at 0.5\n"
     ]
    },
    {
     "name": "stderr",
     "output_type": "stream",
     "text": [
      "Explaining: 100%|██████████| 10/10 [00:11<00:00,  1.14s/it]"
     ]
    },
    {
     "name": "stdout",
     "output_type": "stream",
     "text": [
      "[('A', 0, -0.4189617625176907), ('tedious', 1, -0.925946235165), ('film', 2, -0.35858553312718866), ('.', 3, -0.4608021201491356)]\n"
     ]
    },
    {
     "name": "stderr",
     "output_type": "stream",
     "text": [
      "\n"
     ]
    },
    {
     "data": {
      "text/html": [
       "<mark style=\"background-color: hsl(240, 100%, 78%, 0.8); line-height:1.75\">A</mark> <mark style=\"background-color: hsl(240, 100%, 50%, 0.8); line-height:1.75\">tedious</mark> <mark style=\"background-color: hsl(240, 100%, 81%, 0.8); line-height:1.75\">film</mark> <mark style=\"background-color: hsl(240, 100%, 76%, 0.8); line-height:1.75\">.</mark>"
      ],
      "text/plain": [
       "<IPython.core.display.HTML object>"
      ]
     },
     "metadata": {},
     "output_type": "display_data"
    },
    {
     "name": "stdout",
     "output_type": "stream",
     "text": [
      "\"It is cliched.\" - negative - 0.11\n",
      "Rise parameter p_keep was automatically determined at 0.6\n"
     ]
    },
    {
     "name": "stderr",
     "output_type": "stream",
     "text": [
      "Explaining: 100%|██████████| 10/10 [00:11<00:00,  1.11s/it]"
     ]
    },
    {
     "name": "stdout",
     "output_type": "stream",
     "text": [
      "[('It', 0, -0.3947778572142123), ('is', 1, -0.37166160975893336), ('cliched', 2, -0.7878209743648767), ('.', 3, -0.42833238633970416)]\n"
     ]
    },
    {
     "name": "stderr",
     "output_type": "stream",
     "text": [
      "\n"
     ]
    },
    {
     "data": {
      "text/html": [
       "<mark style=\"background-color: hsl(240, 100%, 75%, 0.8); line-height:1.75\">It</mark> <mark style=\"background-color: hsl(240, 100%, 77%, 0.8); line-height:1.75\">is</mark> <mark style=\"background-color: hsl(240, 100%, 50%, 0.8); line-height:1.75\">cliched</mark> <mark style=\"background-color: hsl(240, 100%, 73%, 0.8); line-height:1.75\">.</mark>"
      ],
      "text/plain": [
       "<IPython.core.display.HTML object>"
      ]
     },
     "metadata": {},
     "output_type": "display_data"
    },
    {
     "name": "stdout",
     "output_type": "stream",
     "text": [
      "\"This is cliched.\" - negative - 0.11\n",
      "Rise parameter p_keep was automatically determined at 0.6\n"
     ]
    },
    {
     "name": "stderr",
     "output_type": "stream",
     "text": [
      "Explaining: 100%|██████████| 10/10 [00:11<00:00,  1.12s/it]"
     ]
    },
    {
     "name": "stdout",
     "output_type": "stream",
     "text": [
      "[('This', 0, -0.4325223375360171), ('is', 1, -0.39087807650367423), ('cliched', 2, -0.7736710213124751), ('.', 3, -0.4903355458378792)]\n"
     ]
    },
    {
     "name": "stderr",
     "output_type": "stream",
     "text": [
      "\n"
     ]
    },
    {
     "data": {
      "text/html": [
       "<mark style=\"background-color: hsl(240, 100%, 73%, 0.8); line-height:1.75\">This</mark> <mark style=\"background-color: hsl(240, 100%, 75%, 0.8); line-height:1.75\">is</mark> <mark style=\"background-color: hsl(240, 100%, 50%, 0.8); line-height:1.75\">cliched</mark> <mark style=\"background-color: hsl(240, 100%, 69%, 0.8); line-height:1.75\">.</mark>"
      ],
      "text/plain": [
       "<IPython.core.display.HTML object>"
      ]
     },
     "metadata": {},
     "output_type": "display_data"
    },
    {
     "name": "stdout",
     "output_type": "stream",
     "text": [
      "\"A cliched film.\" - negative - 0.01\n",
      "Rise parameter p_keep was automatically determined at 0.5\n"
     ]
    },
    {
     "name": "stderr",
     "output_type": "stream",
     "text": [
      "Explaining: 100%|██████████| 10/10 [00:11<00:00,  1.12s/it]"
     ]
    },
    {
     "name": "stdout",
     "output_type": "stream",
     "text": [
      "[('A', 0, -0.3761245549321175), ('cliched', 1, -0.8338809573054313), ('film', 2, -0.3017576252818107), ('.', 3, -0.4402574900388717)]\n"
     ]
    },
    {
     "name": "stderr",
     "output_type": "stream",
     "text": [
      "\n"
     ]
    },
    {
     "data": {
      "text/html": [
       "<mark style=\"background-color: hsl(240, 100%, 78%, 0.8); line-height:1.75\">A</mark> <mark style=\"background-color: hsl(240, 100%, 50%, 0.8); line-height:1.75\">cliched</mark> <mark style=\"background-color: hsl(240, 100%, 82%, 0.8); line-height:1.75\">film</mark> <mark style=\"background-color: hsl(240, 100%, 74%, 0.8); line-height:1.75\">.</mark>"
      ],
      "text/plain": [
       "<IPython.core.display.HTML object>"
      ]
     },
     "metadata": {},
     "output_type": "display_data"
    },
    {
     "name": "stdout",
     "output_type": "stream",
     "text": [
      "\"It is confusing.\" - negative - 0.15\n",
      "Rise parameter p_keep was automatically determined at 0.6\n"
     ]
    },
    {
     "name": "stderr",
     "output_type": "stream",
     "text": [
      "Explaining: 100%|██████████| 10/10 [00:10<00:00,  1.08s/it]"
     ]
    },
    {
     "name": "stdout",
     "output_type": "stream",
     "text": [
      "[('It', 0, -0.4633137233803669), ('is', 1, -0.42592908856769396), ('confusing', 2, -0.8725736969833573), ('.', 3, -0.4928862497707207)]\n"
     ]
    },
    {
     "name": "stderr",
     "output_type": "stream",
     "text": [
      "\n"
     ]
    },
    {
     "data": {
      "text/html": [
       "<mark style=\"background-color: hsl(240, 100%, 74%, 0.8); line-height:1.75\">It</mark> <mark style=\"background-color: hsl(240, 100%, 76%, 0.8); line-height:1.75\">is</mark> <mark style=\"background-color: hsl(240, 100%, 50%, 0.8); line-height:1.75\">confusing</mark> <mark style=\"background-color: hsl(240, 100%, 72%, 0.8); line-height:1.75\">.</mark>"
      ],
      "text/plain": [
       "<IPython.core.display.HTML object>"
      ]
     },
     "metadata": {},
     "output_type": "display_data"
    },
    {
     "name": "stdout",
     "output_type": "stream",
     "text": [
      "\"This is confusing.\" - negative - 0.15\n",
      "Rise parameter p_keep was automatically determined at 0.5\n"
     ]
    },
    {
     "name": "stderr",
     "output_type": "stream",
     "text": [
      "Explaining: 100%|██████████| 10/10 [00:10<00:00,  1.08s/it]"
     ]
    },
    {
     "name": "stdout",
     "output_type": "stream",
     "text": [
      "[('This', 0, -0.3774282301962376), ('is', 1, -0.3583682733774185), ('confusing', 2, -0.8684048657417297), ('.', 3, -0.45866392318904403)]\n"
     ]
    },
    {
     "name": "stderr",
     "output_type": "stream",
     "text": [
      "\n"
     ]
    },
    {
     "data": {
      "text/html": [
       "<mark style=\"background-color: hsl(240, 100%, 79%, 0.8); line-height:1.75\">This</mark> <mark style=\"background-color: hsl(240, 100%, 80%, 0.8); line-height:1.75\">is</mark> <mark style=\"background-color: hsl(240, 100%, 50%, 0.8); line-height:1.75\">confusing</mark> <mark style=\"background-color: hsl(240, 100%, 74%, 0.8); line-height:1.75\">.</mark>"
      ],
      "text/plain": [
       "<IPython.core.display.HTML object>"
      ]
     },
     "metadata": {},
     "output_type": "display_data"
    },
    {
     "name": "stdout",
     "output_type": "stream",
     "text": [
      "\"A confusing film.\" - negative - 0.01\n",
      "Rise parameter p_keep was automatically determined at 0.5\n"
     ]
    },
    {
     "name": "stderr",
     "output_type": "stream",
     "text": [
      "Explaining: 100%|██████████| 10/10 [00:10<00:00,  1.08s/it]"
     ]
    },
    {
     "name": "stdout",
     "output_type": "stream",
     "text": [
      "[('A', 0, -0.39824251966923474), ('confusing', 1, -0.9105373593121767), ('film', 2, -0.39763341926038265), ('.', 3, -0.44193014995753765)]\n"
     ]
    },
    {
     "name": "stderr",
     "output_type": "stream",
     "text": [
      "\n"
     ]
    },
    {
     "data": {
      "text/html": [
       "<mark style=\"background-color: hsl(240, 100%, 79%, 0.8); line-height:1.75\">A</mark> <mark style=\"background-color: hsl(240, 100%, 50%, 0.8); line-height:1.75\">confusing</mark> <mark style=\"background-color: hsl(240, 100%, 79%, 0.8); line-height:1.75\">film</mark> <mark style=\"background-color: hsl(240, 100%, 76%, 0.8); line-height:1.75\">.</mark>"
      ],
      "text/plain": [
       "<IPython.core.display.HTML object>"
      ]
     },
     "metadata": {},
     "output_type": "display_data"
    },
    {
     "name": "stdout",
     "output_type": "stream",
     "text": [
      "\"It is redundant.\" - negative - 0.15\n",
      "Rise parameter p_keep was automatically determined at 0.6\n"
     ]
    },
    {
     "name": "stderr",
     "output_type": "stream",
     "text": [
      "Explaining: 100%|██████████| 10/10 [00:11<00:00,  1.13s/it]"
     ]
    },
    {
     "name": "stdout",
     "output_type": "stream",
     "text": [
      "[('It', 0, -0.48495642443497977), ('is', 1, -0.4827762591466308), ('redundant', 2, -0.878364136579136), ('.', 3, -0.5191153239334623)]\n"
     ]
    },
    {
     "name": "stderr",
     "output_type": "stream",
     "text": [
      "\n"
     ]
    },
    {
     "data": {
      "text/html": [
       "<mark style=\"background-color: hsl(240, 100%, 73%, 0.8); line-height:1.75\">It</mark> <mark style=\"background-color: hsl(240, 100%, 73%, 0.8); line-height:1.75\">is</mark> <mark style=\"background-color: hsl(240, 100%, 50%, 0.8); line-height:1.75\">redundant</mark> <mark style=\"background-color: hsl(240, 100%, 71%, 0.8); line-height:1.75\">.</mark>"
      ],
      "text/plain": [
       "<IPython.core.display.HTML object>"
      ]
     },
     "metadata": {},
     "output_type": "display_data"
    },
    {
     "name": "stdout",
     "output_type": "stream",
     "text": [
      "\"This is redundant.\" - negative - 0.15\n",
      "Rise parameter p_keep was automatically determined at 0.6\n"
     ]
    },
    {
     "name": "stderr",
     "output_type": "stream",
     "text": [
      "Explaining: 100%|██████████| 10/10 [00:10<00:00,  1.09s/it]"
     ]
    },
    {
     "name": "stdout",
     "output_type": "stream",
     "text": [
      "[('This', 0, -0.48487729466209806), ('is', 1, -0.44335685465484853), ('redundant', 2, -0.8836804064487418), ('.', 3, -0.5164334929858645)]\n"
     ]
    },
    {
     "name": "stderr",
     "output_type": "stream",
     "text": [
      "\n"
     ]
    },
    {
     "data": {
      "text/html": [
       "<mark style=\"background-color: hsl(240, 100%, 73%, 0.8); line-height:1.75\">This</mark> <mark style=\"background-color: hsl(240, 100%, 75%, 0.8); line-height:1.75\">is</mark> <mark style=\"background-color: hsl(240, 100%, 50%, 0.8); line-height:1.75\">redundant</mark> <mark style=\"background-color: hsl(240, 100%, 71%, 0.8); line-height:1.75\">.</mark>"
      ],
      "text/plain": [
       "<IPython.core.display.HTML object>"
      ]
     },
     "metadata": {},
     "output_type": "display_data"
    },
    {
     "name": "stdout",
     "output_type": "stream",
     "text": [
      "\"A redundant film.\" - negative - 0.01\n",
      "Rise parameter p_keep was automatically determined at 0.5\n"
     ]
    },
    {
     "name": "stderr",
     "output_type": "stream",
     "text": [
      "Explaining: 100%|██████████| 10/10 [00:11<00:00,  1.10s/it]"
     ]
    },
    {
     "name": "stdout",
     "output_type": "stream",
     "text": [
      "[('A', 0, -0.34751433563232426), ('redundant', 1, -0.8933545107543468), ('film', 2, -0.2747864154875278), ('.', 3, -0.4077663207948208)]\n"
     ]
    },
    {
     "name": "stderr",
     "output_type": "stream",
     "text": [
      "\n"
     ]
    },
    {
     "data": {
      "text/html": [
       "<mark style=\"background-color: hsl(240, 100%, 81%, 0.8); line-height:1.75\">A</mark> <mark style=\"background-color: hsl(240, 100%, 50%, 0.8); line-height:1.75\">redundant</mark> <mark style=\"background-color: hsl(240, 100%, 85%, 0.8); line-height:1.75\">film</mark> <mark style=\"background-color: hsl(240, 100%, 78%, 0.8); line-height:1.75\">.</mark>"
      ],
      "text/plain": [
       "<IPython.core.display.HTML object>"
      ]
     },
     "metadata": {},
     "output_type": "display_data"
    },
    {
     "name": "stdout",
     "output_type": "stream",
     "text": [
      "\"It is awful.\" - negative - 0.34\n",
      "Rise parameter p_keep was automatically determined at 0.5\n"
     ]
    },
    {
     "name": "stderr",
     "output_type": "stream",
     "text": [
      "Explaining: 100%|██████████| 10/10 [00:11<00:00,  1.13s/it]"
     ]
    },
    {
     "name": "stdout",
     "output_type": "stream",
     "text": [
      "[('It', 0, -0.30731442373991014), ('is', 1, -0.26523264127969737), ('awful', 2, -0.6730457218289375), ('.', 3, -0.3783362964391709)]\n"
     ]
    },
    {
     "name": "stderr",
     "output_type": "stream",
     "text": [
      "\n"
     ]
    },
    {
     "data": {
      "text/html": [
       "<mark style=\"background-color: hsl(240, 100%, 78%, 0.8); line-height:1.75\">It</mark> <mark style=\"background-color: hsl(240, 100%, 81%, 0.8); line-height:1.75\">is</mark> <mark style=\"background-color: hsl(240, 100%, 50%, 0.8); line-height:1.75\">awful</mark> <mark style=\"background-color: hsl(240, 100%, 72%, 0.8); line-height:1.75\">.</mark>"
      ],
      "text/plain": [
       "<IPython.core.display.HTML object>"
      ]
     },
     "metadata": {},
     "output_type": "display_data"
    },
    {
     "name": "stdout",
     "output_type": "stream",
     "text": [
      "\"This is awful.\" - negative - 0.34\n",
      "Rise parameter p_keep was automatically determined at 0.5\n"
     ]
    },
    {
     "name": "stderr",
     "output_type": "stream",
     "text": [
      "Explaining: 100%|██████████| 10/10 [00:11<00:00,  1.19s/it]"
     ]
    },
    {
     "name": "stdout",
     "output_type": "stream",
     "text": [
      "[('This', 0, -0.3369488307833671), ('is', 1, -0.19384787344932553), ('awful', 2, -0.6745855333209038), ('.', 3, -0.36589013206958776)]\n"
     ]
    },
    {
     "name": "stderr",
     "output_type": "stream",
     "text": [
      "\n"
     ]
    },
    {
     "data": {
      "text/html": [
       "<mark style=\"background-color: hsl(240, 100%, 76%, 0.8); line-height:1.75\">This</mark> <mark style=\"background-color: hsl(240, 100%, 86%, 0.8); line-height:1.75\">is</mark> <mark style=\"background-color: hsl(240, 100%, 50%, 0.8); line-height:1.75\">awful</mark> <mark style=\"background-color: hsl(240, 100%, 73%, 0.8); line-height:1.75\">.</mark>"
      ],
      "text/plain": [
       "<IPython.core.display.HTML object>"
      ]
     },
     "metadata": {},
     "output_type": "display_data"
    },
    {
     "name": "stdout",
     "output_type": "stream",
     "text": [
      "\"An awful film.\" - negative - 0.01\n",
      "Rise parameter p_keep was automatically determined at 0.5\n"
     ]
    },
    {
     "name": "stderr",
     "output_type": "stream",
     "text": [
      "Explaining: 100%|██████████| 10/10 [00:12<00:00,  1.22s/it]"
     ]
    },
    {
     "name": "stdout",
     "output_type": "stream",
     "text": [
      "[('An', 0, -0.37393316268920895), ('awful', 1, -0.8038840837478638), ('film', 2, -0.28439992707967754), ('.', 3, -0.3702444314360619)]\n"
     ]
    },
    {
     "name": "stderr",
     "output_type": "stream",
     "text": [
      "\n"
     ]
    },
    {
     "data": {
      "text/html": [
       "<mark style=\"background-color: hsl(240, 100%, 77%, 0.8); line-height:1.75\">An</mark> <mark style=\"background-color: hsl(240, 100%, 50%, 0.8); line-height:1.75\">awful</mark> <mark style=\"background-color: hsl(240, 100%, 83%, 0.8); line-height:1.75\">film</mark> <mark style=\"background-color: hsl(240, 100%, 77%, 0.8); line-height:1.75\">.</mark>"
      ],
      "text/plain": [
       "<IPython.core.display.HTML object>"
      ]
     },
     "metadata": {},
     "output_type": "display_data"
    },
    {
     "name": "stdout",
     "output_type": "stream",
     "text": [
      "\"It is sordid.\" - negative - 0.19\n",
      "Rise parameter p_keep was automatically determined at 0.5\n"
     ]
    },
    {
     "name": "stderr",
     "output_type": "stream",
     "text": [
      "Explaining: 100%|██████████| 10/10 [00:10<00:00,  1.09s/it]"
     ]
    },
    {
     "name": "stdout",
     "output_type": "stream",
     "text": [
      "[('It', 0, -0.292428985208273), ('is', 1, -0.23137850123643877), ('sordid', 2, -0.696631816059351), ('.', 3, -0.3315882849991322)]\n"
     ]
    },
    {
     "name": "stderr",
     "output_type": "stream",
     "text": [
      "\n"
     ]
    },
    {
     "data": {
      "text/html": [
       "<mark style=\"background-color: hsl(240, 100%, 80%, 0.8); line-height:1.75\">It</mark> <mark style=\"background-color: hsl(240, 100%, 84%, 0.8); line-height:1.75\">is</mark> <mark style=\"background-color: hsl(240, 100%, 50%, 0.8); line-height:1.75\">sordid</mark> <mark style=\"background-color: hsl(240, 100%, 77%, 0.8); line-height:1.75\">.</mark>"
      ],
      "text/plain": [
       "<IPython.core.display.HTML object>"
      ]
     },
     "metadata": {},
     "output_type": "display_data"
    },
    {
     "name": "stdout",
     "output_type": "stream",
     "text": [
      "\"This is sordid.\" - negative - 0.19\n",
      "Rise parameter p_keep was automatically determined at 0.7000000000000001\n"
     ]
    },
    {
     "name": "stderr",
     "output_type": "stream",
     "text": [
      "Explaining: 100%|██████████| 10/10 [00:11<00:00,  1.10s/it]"
     ]
    },
    {
     "name": "stdout",
     "output_type": "stream",
     "text": [
      "[('This', 0, -0.4489271499216557), ('is', 1, -0.403927284862314), ('sordid', 2, -0.670165756557669), ('.', 3, -0.45910968912499295)]\n"
     ]
    },
    {
     "name": "stderr",
     "output_type": "stream",
     "text": [
      "\n"
     ]
    },
    {
     "data": {
      "text/html": [
       "<mark style=\"background-color: hsl(240, 100%, 67%, 0.8); line-height:1.75\">This</mark> <mark style=\"background-color: hsl(240, 100%, 70%, 0.8); line-height:1.75\">is</mark> <mark style=\"background-color: hsl(240, 100%, 50%, 0.8); line-height:1.75\">sordid</mark> <mark style=\"background-color: hsl(240, 100%, 66%, 0.8); line-height:1.75\">.</mark>"
      ],
      "text/plain": [
       "<IPython.core.display.HTML object>"
      ]
     },
     "metadata": {},
     "output_type": "display_data"
    },
    {
     "name": "stdout",
     "output_type": "stream",
     "text": [
      "\"A sordid film.\" - negative - 0.01\n",
      "Rise parameter p_keep was automatically determined at 0.4\n"
     ]
    },
    {
     "name": "stderr",
     "output_type": "stream",
     "text": [
      "Explaining: 100%|██████████| 10/10 [00:11<00:00,  1.12s/it]"
     ]
    },
    {
     "name": "stdout",
     "output_type": "stream",
     "text": [
      "[('A', 0, -0.26942136194556954), ('sordid', 1, -0.8208418183401227), ('film', 2, -0.1597866174578667), ('.', 3, -0.2706483820080757)]\n"
     ]
    },
    {
     "name": "stderr",
     "output_type": "stream",
     "text": [
      "\n"
     ]
    },
    {
     "data": {
      "text/html": [
       "<mark style=\"background-color: hsl(240, 100%, 84%, 0.8); line-height:1.75\">A</mark> <mark style=\"background-color: hsl(240, 100%, 50%, 0.8); line-height:1.75\">sordid</mark> <mark style=\"background-color: hsl(240, 100%, 91%, 0.8); line-height:1.75\">film</mark> <mark style=\"background-color: hsl(240, 100%, 84%, 0.8); line-height:1.75\">.</mark>"
      ],
      "text/plain": [
       "<IPython.core.display.HTML object>"
      ]
     },
     "metadata": {},
     "output_type": "display_data"
    },
    {
     "name": "stdout",
     "output_type": "stream",
     "text": [
      "\"It is stagy.\" - negative - 0.29\n",
      "Rise parameter p_keep was automatically determined at 0.5\n"
     ]
    },
    {
     "name": "stderr",
     "output_type": "stream",
     "text": [
      "Explaining: 100%|██████████| 10/10 [00:11<00:00,  1.16s/it]"
     ]
    },
    {
     "name": "stdout",
     "output_type": "stream",
     "text": [
      "[('It', 0, -0.26574287533760066), ('is', 1, -0.15458955127000806), ('stagy', 2, -0.6043080013990403), ('.', 3, -0.279012080013752)]\n"
     ]
    },
    {
     "name": "stderr",
     "output_type": "stream",
     "text": [
      "\n"
     ]
    },
    {
     "data": {
      "text/html": [
       "<mark style=\"background-color: hsl(240, 100%, 79%, 0.8); line-height:1.75\">It</mark> <mark style=\"background-color: hsl(240, 100%, 88%, 0.8); line-height:1.75\">is</mark> <mark style=\"background-color: hsl(240, 100%, 50%, 0.8); line-height:1.75\">stagy</mark> <mark style=\"background-color: hsl(240, 100%, 77%, 0.8); line-height:1.75\">.</mark>"
      ],
      "text/plain": [
       "<IPython.core.display.HTML object>"
      ]
     },
     "metadata": {},
     "output_type": "display_data"
    },
    {
     "name": "stdout",
     "output_type": "stream",
     "text": [
      "\"This is stagy.\" - negative - 0.29\n",
      "Rise parameter p_keep was automatically determined at 0.4\n"
     ]
    },
    {
     "name": "stderr",
     "output_type": "stream",
     "text": [
      "Explaining: 100%|██████████| 10/10 [00:11<00:00,  1.12s/it]"
     ]
    },
    {
     "name": "stdout",
     "output_type": "stream",
     "text": [
      "[('This', 0, -0.26911693617701526), ('is', 1, -0.12734255254268645), ('stagy', 2, -0.6118256816267967), ('.', 3, -0.3098685974627734)]\n"
     ]
    },
    {
     "name": "stderr",
     "output_type": "stream",
     "text": [
      "\n"
     ]
    },
    {
     "data": {
      "text/html": [
       "<mark style=\"background-color: hsl(240, 100%, 79%, 0.8); line-height:1.75\">This</mark> <mark style=\"background-color: hsl(240, 100%, 90%, 0.8); line-height:1.75\">is</mark> <mark style=\"background-color: hsl(240, 100%, 50%, 0.8); line-height:1.75\">stagy</mark> <mark style=\"background-color: hsl(240, 100%, 75%, 0.8); line-height:1.75\">.</mark>"
      ],
      "text/plain": [
       "<IPython.core.display.HTML object>"
      ]
     },
     "metadata": {},
     "output_type": "display_data"
    },
    {
     "name": "stdout",
     "output_type": "stream",
     "text": [
      "\"A stagy film.\" - negative - 0.04\n",
      "Rise parameter p_keep was automatically determined at 0.6\n"
     ]
    },
    {
     "name": "stderr",
     "output_type": "stream",
     "text": [
      "Explaining: 100%|██████████| 10/10 [00:13<00:00,  1.36s/it]"
     ]
    },
    {
     "name": "stdout",
     "output_type": "stream",
     "text": [
      "[('A', 0, -0.34192320379118124), ('stagy', 1, -0.6483293347309033), ('film', 2, -0.2726172602673371), ('.', 3, -0.37246139342586193)]\n"
     ]
    },
    {
     "name": "stderr",
     "output_type": "stream",
     "text": [
      "\n"
     ]
    },
    {
     "data": {
      "text/html": [
       "<mark style=\"background-color: hsl(240, 100%, 74%, 0.8); line-height:1.75\">A</mark> <mark style=\"background-color: hsl(240, 100%, 50%, 0.8); line-height:1.75\">stagy</mark> <mark style=\"background-color: hsl(240, 100%, 79%, 0.8); line-height:1.75\">film</mark> <mark style=\"background-color: hsl(240, 100%, 72%, 0.8); line-height:1.75\">.</mark>"
      ],
      "text/plain": [
       "<IPython.core.display.HTML object>"
      ]
     },
     "metadata": {},
     "output_type": "display_data"
    },
    {
     "name": "stdout",
     "output_type": "stream",
     "text": [
      "\"It is satisfactory.\" - positive - 0.92\n",
      "Rise parameter p_keep was automatically determined at 0.4\n"
     ]
    },
    {
     "name": "stderr",
     "output_type": "stream",
     "text": [
      "Explaining: 100%|██████████| 10/10 [00:11<00:00,  1.15s/it]"
     ]
    },
    {
     "name": "stdout",
     "output_type": "stream",
     "text": [
      "[('It', 0, 0.056803998649120224), ('is', 1, 0.21380441486835466), ('satisfactory', 2, 0.13858070135116574), ('.', 3, -0.06798679649829875)]\n"
     ]
    },
    {
     "name": "stderr",
     "output_type": "stream",
     "text": [
      "\n"
     ]
    },
    {
     "data": {
      "text/html": [
       "<mark style=\"background-color: hsl(0, 100%, 87%, 0.8); line-height:1.75\">It</mark> <mark style=\"background-color: hsl(0, 100%, 50%, 0.8); line-height:1.75\">is</mark> <mark style=\"background-color: hsl(0, 100%, 68%, 0.8); line-height:1.75\">satisfactory</mark> <mark style=\"background-color: hsl(240, 100%, 85%, 0.8); line-height:1.75\">.</mark>"
      ],
      "text/plain": [
       "<IPython.core.display.HTML object>"
      ]
     },
     "metadata": {},
     "output_type": "display_data"
    },
    {
     "name": "stdout",
     "output_type": "stream",
     "text": [
      "\"This is satisfactory.\" - positive - 0.92\n",
      "Rise parameter p_keep was automatically determined at 0.4\n"
     ]
    },
    {
     "name": "stderr",
     "output_type": "stream",
     "text": [
      "Explaining: 100%|██████████| 10/10 [00:10<00:00,  1.09s/it]"
     ]
    },
    {
     "name": "stdout",
     "output_type": "stream",
     "text": [
      "[('This', 0, 0.0793422108888624), ('is', 1, 0.20151679903268804), ('satisfactory', 2, 0.20557959914207435), ('.', 3, -0.011797616779804176)]\n"
     ]
    },
    {
     "name": "stderr",
     "output_type": "stream",
     "text": [
      "\n"
     ]
    },
    {
     "data": {
      "text/html": [
       "<mark style=\"background-color: hsl(0, 100%, 81%, 0.8); line-height:1.75\">This</mark> <mark style=\"background-color: hsl(0, 100%, 51%, 0.8); line-height:1.75\">is</mark> <mark style=\"background-color: hsl(0, 100%, 50%, 0.8); line-height:1.75\">satisfactory</mark> <mark style=\"background-color: hsl(240, 100%, 98%, 0.8); line-height:1.75\">.</mark>"
      ],
      "text/plain": [
       "<IPython.core.display.HTML object>"
      ]
     },
     "metadata": {},
     "output_type": "display_data"
    },
    {
     "name": "stdout",
     "output_type": "stream",
     "text": [
      "\"A satisfactory film.\" - positive - 0.83\n",
      "Rise parameter p_keep was automatically determined at 0.5\n"
     ]
    },
    {
     "name": "stderr",
     "output_type": "stream",
     "text": [
      "Explaining: 100%|██████████| 10/10 [00:11<00:00,  1.18s/it]"
     ]
    },
    {
     "name": "stdout",
     "output_type": "stream",
     "text": [
      "[('A', 0, 0.0932739535570144), ('satisfactory', 1, 0.14411900997161875), ('film', 2, 0.2574700264930725), ('.', 3, 0.06835084247589118)]\n"
     ]
    },
    {
     "name": "stderr",
     "output_type": "stream",
     "text": [
      "\n"
     ]
    },
    {
     "data": {
      "text/html": [
       "<mark style=\"background-color: hsl(0, 100%, 82%, 0.8); line-height:1.75\">A</mark> <mark style=\"background-color: hsl(0, 100%, 73%, 0.8); line-height:1.75\">satisfactory</mark> <mark style=\"background-color: hsl(0, 100%, 50%, 0.8); line-height:1.75\">film</mark> <mark style=\"background-color: hsl(0, 100%, 87%, 0.8); line-height:1.75\">.</mark>"
      ],
      "text/plain": [
       "<IPython.core.display.HTML object>"
      ]
     },
     "metadata": {},
     "output_type": "display_data"
    },
    {
     "name": "stdout",
     "output_type": "stream",
     "text": [
      "\"It is conventional.\" - negative - 0.02\n",
      "Rise parameter p_keep was automatically determined at 0.6\n"
     ]
    },
    {
     "name": "stderr",
     "output_type": "stream",
     "text": [
      "Explaining: 100%|██████████| 10/10 [00:11<00:00,  1.15s/it]"
     ]
    },
    {
     "name": "stdout",
     "output_type": "stream",
     "text": [
      "[('It', 0, -0.4546624853213628), ('is', 1, -0.36046041185657174), ('conventional', 2, -0.7365000269810358), ('.', 3, -0.4071067054321368)]\n"
     ]
    },
    {
     "name": "stderr",
     "output_type": "stream",
     "text": [
      "\n"
     ]
    },
    {
     "data": {
      "text/html": [
       "<mark style=\"background-color: hsl(240, 100%, 70%, 0.8); line-height:1.75\">It</mark> <mark style=\"background-color: hsl(240, 100%, 76%, 0.8); line-height:1.75\">is</mark> <mark style=\"background-color: hsl(240, 100%, 50%, 0.8); line-height:1.75\">conventional</mark> <mark style=\"background-color: hsl(240, 100%, 73%, 0.8); line-height:1.75\">.</mark>"
      ],
      "text/plain": [
       "<IPython.core.display.HTML object>"
      ]
     },
     "metadata": {},
     "output_type": "display_data"
    },
    {
     "name": "stdout",
     "output_type": "stream",
     "text": [
      "\"This is conventional.\" - negative - 0.02\n",
      "Rise parameter p_keep was automatically determined at 0.6\n"
     ]
    },
    {
     "name": "stderr",
     "output_type": "stream",
     "text": [
      "Explaining: 100%|██████████| 10/10 [00:12<00:00,  1.22s/it]"
     ]
    },
    {
     "name": "stdout",
     "output_type": "stream",
     "text": [
      "[('This', 0, -0.42982751891016957), ('is', 1, -0.3950428718328476), ('conventional', 2, -0.732754616389672), ('.', 3, -0.4758982070287069)]\n"
     ]
    },
    {
     "name": "stderr",
     "output_type": "stream",
     "text": [
      "\n"
     ]
    },
    {
     "data": {
      "text/html": [
       "<mark style=\"background-color: hsl(240, 100%, 71%, 0.8); line-height:1.75\">This</mark> <mark style=\"background-color: hsl(240, 100%, 74%, 0.8); line-height:1.75\">is</mark> <mark style=\"background-color: hsl(240, 100%, 50%, 0.8); line-height:1.75\">conventional</mark> <mark style=\"background-color: hsl(240, 100%, 68%, 0.8); line-height:1.75\">.</mark>"
      ],
      "text/plain": [
       "<IPython.core.display.HTML object>"
      ]
     },
     "metadata": {},
     "output_type": "display_data"
    },
    {
     "name": "stdout",
     "output_type": "stream",
     "text": [
      "\"A conventional film.\" - negative - 0.00\n",
      "Rise parameter p_keep was automatically determined at 0.6\n"
     ]
    },
    {
     "name": "stderr",
     "output_type": "stream",
     "text": [
      "Explaining: 100%|██████████| 10/10 [00:12<00:00,  1.27s/it]"
     ]
    },
    {
     "name": "stdout",
     "output_type": "stream",
     "text": [
      "[('A', 0, -0.29747255076964696), ('conventional', 1, -0.5669327650467555), ('film', 2, -0.20900004903475444), ('.', 3, -0.3213479294379552)]\n"
     ]
    },
    {
     "name": "stderr",
     "output_type": "stream",
     "text": [
      "\n"
     ]
    },
    {
     "data": {
      "text/html": [
       "<mark style=\"background-color: hsl(240, 100%, 74%, 0.8); line-height:1.75\">A</mark> <mark style=\"background-color: hsl(240, 100%, 50%, 0.8); line-height:1.75\">conventional</mark> <mark style=\"background-color: hsl(240, 100%, 82%, 0.8); line-height:1.75\">film</mark> <mark style=\"background-color: hsl(240, 100%, 72%, 0.8); line-height:1.75\">.</mark>"
      ],
      "text/plain": [
       "<IPython.core.display.HTML object>"
      ]
     },
     "metadata": {},
     "output_type": "display_data"
    },
    {
     "name": "stdout",
     "output_type": "stream",
     "text": [
      "\"It is sober.\" - positive - 0.84\n",
      "Rise parameter p_keep was automatically determined at 0.5\n"
     ]
    },
    {
     "name": "stderr",
     "output_type": "stream",
     "text": [
      "Explaining: 100%|██████████| 10/10 [00:11<00:00,  1.16s/it]"
     ]
    },
    {
     "name": "stdout",
     "output_type": "stream",
     "text": [
      "[('It', 0, 0.16653819847106943), ('is', 1, 0.319896369934082), ('sober', 2, 0.3080130259990692), ('.', 3, 0.1711898701190948)]\n"
     ]
    },
    {
     "name": "stderr",
     "output_type": "stream",
     "text": [
      "\n"
     ]
    },
    {
     "data": {
      "text/html": [
       "<mark style=\"background-color: hsl(0, 100%, 74%, 0.8); line-height:1.75\">It</mark> <mark style=\"background-color: hsl(0, 100%, 50%, 0.8); line-height:1.75\">is</mark> <mark style=\"background-color: hsl(0, 100%, 52%, 0.8); line-height:1.75\">sober</mark> <mark style=\"background-color: hsl(0, 100%, 74%, 0.8); line-height:1.75\">.</mark>"
      ],
      "text/plain": [
       "<IPython.core.display.HTML object>"
      ]
     },
     "metadata": {},
     "output_type": "display_data"
    },
    {
     "name": "stdout",
     "output_type": "stream",
     "text": [
      "\"This is sober.\" - positive - 0.84\n",
      "Rise parameter p_keep was automatically determined at 0.7000000000000001\n"
     ]
    },
    {
     "name": "stderr",
     "output_type": "stream",
     "text": [
      "Explaining: 100%|██████████| 10/10 [00:10<00:00,  1.09s/it]"
     ]
    },
    {
     "name": "stdout",
     "output_type": "stream",
     "text": [
      "[('This', 0, 0.3253037566798074), ('is', 1, 0.3510517929281505), ('sober', 2, 0.38333769730159206), ('.', 3, 0.2586087312017167)]\n"
     ]
    },
    {
     "name": "stderr",
     "output_type": "stream",
     "text": [
      "\n"
     ]
    },
    {
     "data": {
      "text/html": [
       "<mark style=\"background-color: hsl(0, 100%, 58%, 0.8); line-height:1.75\">This</mark> <mark style=\"background-color: hsl(0, 100%, 55%, 0.8); line-height:1.75\">is</mark> <mark style=\"background-color: hsl(0, 100%, 50%, 0.8); line-height:1.75\">sober</mark> <mark style=\"background-color: hsl(0, 100%, 67%, 0.8); line-height:1.75\">.</mark>"
      ],
      "text/plain": [
       "<IPython.core.display.HTML object>"
      ]
     },
     "metadata": {},
     "output_type": "display_data"
    },
    {
     "name": "stdout",
     "output_type": "stream",
     "text": [
      "\"A sober film.\" - positive - 0.53\n",
      "Rise parameter p_keep was automatically determined at 0.6\n"
     ]
    },
    {
     "name": "stderr",
     "output_type": "stream",
     "text": [
      "Explaining: 100%|██████████| 10/10 [00:11<00:00,  1.12s/it]"
     ]
    },
    {
     "name": "stdout",
     "output_type": "stream",
     "text": [
      "[('A', 0, 0.26225947340329503), ('sober', 1, 0.37573338886102037), ('film', 2, 0.39396447996298467), ('.', 3, 0.22683627426624287)]\n"
     ]
    },
    {
     "name": "stderr",
     "output_type": "stream",
     "text": [
      "\n"
     ]
    },
    {
     "data": {
      "text/html": [
       "<mark style=\"background-color: hsl(0, 100%, 67%, 0.8); line-height:1.75\">A</mark> <mark style=\"background-color: hsl(0, 100%, 53%, 0.8); line-height:1.75\">sober</mark> <mark style=\"background-color: hsl(0, 100%, 50%, 0.8); line-height:1.75\">film</mark> <mark style=\"background-color: hsl(0, 100%, 72%, 0.8); line-height:1.75\">.</mark>"
      ],
      "text/plain": [
       "<IPython.core.display.HTML object>"
      ]
     },
     "metadata": {},
     "output_type": "display_data"
    },
    {
     "name": "stdout",
     "output_type": "stream",
     "text": [
      "\"It is melodramatic.\" - negative - 0.37\n",
      "Rise parameter p_keep was automatically determined at 0.4\n"
     ]
    },
    {
     "name": "stderr",
     "output_type": "stream",
     "text": [
      "Explaining: 100%|██████████| 10/10 [00:10<00:00,  1.09s/it]"
     ]
    },
    {
     "name": "stdout",
     "output_type": "stream",
     "text": [
      "[('It', 0, -0.21037265695631513), ('is', 1, -0.0014957249909640646), ('melodramatic', 2, -0.5881985463202), ('.', 3, -0.21873767472803607)]\n"
     ]
    },
    {
     "name": "stderr",
     "output_type": "stream",
     "text": [
      "\n"
     ]
    },
    {
     "data": {
      "text/html": [
       "<mark style=\"background-color: hsl(240, 100%, 83%, 0.8); line-height:1.75\">It</mark> <mark style=\"background-color: hsl(240, 100%, 100%, 0.8); line-height:1.75\">is</mark> <mark style=\"background-color: hsl(240, 100%, 50%, 0.8); line-height:1.75\">melodramatic</mark> <mark style=\"background-color: hsl(240, 100%, 82%, 0.8); line-height:1.75\">.</mark>"
      ],
      "text/plain": [
       "<IPython.core.display.HTML object>"
      ]
     },
     "metadata": {},
     "output_type": "display_data"
    },
    {
     "name": "stdout",
     "output_type": "stream",
     "text": [
      "\"This is melodramatic.\" - negative - 0.37\n",
      "Rise parameter p_keep was automatically determined at 0.5\n"
     ]
    },
    {
     "name": "stderr",
     "output_type": "stream",
     "text": [
      "Explaining: 100%|██████████| 10/10 [00:11<00:00,  1.11s/it]"
     ]
    },
    {
     "name": "stdout",
     "output_type": "stream",
     "text": [
      "[('This', 0, -0.2694539161920547), ('is', 1, -0.19149982458353043), ('melodramatic', 2, -0.5545955181717872), ('.', 3, -0.3374357115626335)]\n"
     ]
    },
    {
     "name": "stderr",
     "output_type": "stream",
     "text": [
      "\n"
     ]
    },
    {
     "data": {
      "text/html": [
       "<mark style=\"background-color: hsl(240, 100%, 76%, 0.8); line-height:1.75\">This</mark> <mark style=\"background-color: hsl(240, 100%, 83%, 0.8); line-height:1.75\">is</mark> <mark style=\"background-color: hsl(240, 100%, 50%, 0.8); line-height:1.75\">melodramatic</mark> <mark style=\"background-color: hsl(240, 100%, 70%, 0.8); line-height:1.75\">.</mark>"
      ],
      "text/plain": [
       "<IPython.core.display.HTML object>"
      ]
     },
     "metadata": {},
     "output_type": "display_data"
    },
    {
     "name": "stdout",
     "output_type": "stream",
     "text": [
      "\"A melodramatic film.\" - negative - 0.05\n",
      "Rise parameter p_keep was automatically determined at 0.5\n"
     ]
    },
    {
     "name": "stderr",
     "output_type": "stream",
     "text": [
      "Explaining: 100%|██████████| 10/10 [00:10<00:00,  1.07s/it]"
     ]
    },
    {
     "name": "stdout",
     "output_type": "stream",
     "text": [
      "[('A', 0, -0.2272113875150681), ('melodramatic', 1, -0.6109217618107796), ('film', 2, -0.16067027199268336), ('.', 3, -0.30621453768014906)]\n"
     ]
    },
    {
     "name": "stderr",
     "output_type": "stream",
     "text": [
      "\n"
     ]
    },
    {
     "data": {
      "text/html": [
       "<mark style=\"background-color: hsl(240, 100%, 82%, 0.8); line-height:1.75\">A</mark> <mark style=\"background-color: hsl(240, 100%, 50%, 0.8); line-height:1.75\">melodramatic</mark> <mark style=\"background-color: hsl(240, 100%, 87%, 0.8); line-height:1.75\">film</mark> <mark style=\"background-color: hsl(240, 100%, 75%, 0.8); line-height:1.75\">.</mark>"
      ],
      "text/plain": [
       "<IPython.core.display.HTML object>"
      ]
     },
     "metadata": {},
     "output_type": "display_data"
    },
    {
     "name": "stdout",
     "output_type": "stream",
     "text": [
      "\"It is extreme.\" - positive - 0.73\n",
      "Rise parameter p_keep was automatically determined at 0.4\n"
     ]
    },
    {
     "name": "stderr",
     "output_type": "stream",
     "text": [
      "Explaining: 100%|██████████| 10/10 [00:10<00:00,  1.09s/it]"
     ]
    },
    {
     "name": "stdout",
     "output_type": "stream",
     "text": [
      "[('It', 0, -0.10535002484917644), ('is', 1, -0.009228031486272936), ('extreme', 2, -0.41460958465933806), ('.', 3, -0.20471318811178207)]\n"
     ]
    },
    {
     "name": "stderr",
     "output_type": "stream",
     "text": [
      "\n"
     ]
    },
    {
     "data": {
      "text/html": [
       "<mark style=\"background-color: hsl(240, 100%, 88%, 0.8); line-height:1.75\">It</mark> <mark style=\"background-color: hsl(240, 100%, 99%, 0.8); line-height:1.75\">is</mark> <mark style=\"background-color: hsl(240, 100%, 50%, 0.8); line-height:1.75\">extreme</mark> <mark style=\"background-color: hsl(240, 100%, 76%, 0.8); line-height:1.75\">.</mark>"
      ],
      "text/plain": [
       "<IPython.core.display.HTML object>"
      ]
     },
     "metadata": {},
     "output_type": "display_data"
    },
    {
     "name": "stdout",
     "output_type": "stream",
     "text": [
      "\"This is extreme.\" - positive - 0.73\n",
      "Rise parameter p_keep was automatically determined at 0.30000000000000004\n"
     ]
    },
    {
     "name": "stderr",
     "output_type": "stream",
     "text": [
      "Explaining: 100%|██████████| 10/10 [00:11<00:00,  1.11s/it]"
     ]
    },
    {
     "name": "stdout",
     "output_type": "stream",
     "text": [
      "[('This', 0, 0.003306996226310588), ('is', 1, 0.10424643735090866), ('extreme', 2, -0.39692459722359985), ('.', 3, -0.13736305634180712)]\n"
     ]
    },
    {
     "name": "stderr",
     "output_type": "stream",
     "text": [
      "\n"
     ]
    },
    {
     "data": {
      "text/html": [
       "<mark style=\"background-color: hsl(0, 100%, 100%, 0.8); line-height:1.75\">This</mark> <mark style=\"background-color: hsl(0, 100%, 87%, 0.8); line-height:1.75\">is</mark> <mark style=\"background-color: hsl(240, 100%, 50%, 0.8); line-height:1.75\">extreme</mark> <mark style=\"background-color: hsl(240, 100%, 83%, 0.8); line-height:1.75\">.</mark>"
      ],
      "text/plain": [
       "<IPython.core.display.HTML object>"
      ]
     },
     "metadata": {},
     "output_type": "display_data"
    },
    {
     "name": "stdout",
     "output_type": "stream",
     "text": [
      "\"An extreme film.\" - positive - 0.51\n",
      "Rise parameter p_keep was automatically determined at 0.4\n"
     ]
    },
    {
     "name": "stderr",
     "output_type": "stream",
     "text": [
      "Explaining: 100%|██████████| 10/10 [00:10<00:00,  1.07s/it]"
     ]
    },
    {
     "name": "stdout",
     "output_type": "stream",
     "text": [
      "[('An', 0, -0.11689797997474671), ('extreme', 1, -0.49869772024452685), ('film', 2, 0.05244554936885826), ('.', 3, -0.14343324057757856)]\n"
     ]
    },
    {
     "name": "stderr",
     "output_type": "stream",
     "text": [
      "\n"
     ]
    },
    {
     "data": {
      "text/html": [
       "<mark style=\"background-color: hsl(240, 100%, 89%, 0.8); line-height:1.75\">An</mark> <mark style=\"background-color: hsl(240, 100%, 50%, 0.8); line-height:1.75\">extreme</mark> <mark style=\"background-color: hsl(0, 100%, 95%, 0.8); line-height:1.75\">film</mark> <mark style=\"background-color: hsl(240, 100%, 86%, 0.8); line-height:1.75\">.</mark>"
      ],
      "text/plain": [
       "<IPython.core.display.HTML object>"
      ]
     },
     "metadata": {},
     "output_type": "display_data"
    },
    {
     "name": "stdout",
     "output_type": "stream",
     "text": [
      "\"It is visual.\" - positive - 0.84\n",
      "Rise parameter p_keep was automatically determined at 0.6\n"
     ]
    },
    {
     "name": "stderr",
     "output_type": "stream",
     "text": [
      "Explaining: 100%|██████████| 10/10 [00:11<00:00,  1.15s/it]"
     ]
    },
    {
     "name": "stdout",
     "output_type": "stream",
     "text": [
      "[('It', 0, 0.29678612907727575), ('is', 1, 0.36370091974735264), ('visual', 2, 0.45136492212613444), ('.', 3, 0.29101145525773364)]\n"
     ]
    },
    {
     "name": "stderr",
     "output_type": "stream",
     "text": [
      "\n"
     ]
    },
    {
     "data": {
      "text/html": [
       "<mark style=\"background-color: hsl(0, 100%, 68%, 0.8); line-height:1.75\">It</mark> <mark style=\"background-color: hsl(0, 100%, 60%, 0.8); line-height:1.75\">is</mark> <mark style=\"background-color: hsl(0, 100%, 50%, 0.8); line-height:1.75\">visual</mark> <mark style=\"background-color: hsl(0, 100%, 68%, 0.8); line-height:1.75\">.</mark>"
      ],
      "text/plain": [
       "<IPython.core.display.HTML object>"
      ]
     },
     "metadata": {},
     "output_type": "display_data"
    },
    {
     "name": "stdout",
     "output_type": "stream",
     "text": [
      "\"This is visual.\" - positive - 0.84\n",
      "Rise parameter p_keep was automatically determined at 0.7000000000000001\n"
     ]
    },
    {
     "name": "stderr",
     "output_type": "stream",
     "text": [
      "Explaining: 100%|██████████| 10/10 [00:11<00:00,  1.12s/it]"
     ]
    },
    {
     "name": "stdout",
     "output_type": "stream",
     "text": [
      "[('This', 0, 0.354798868043082), ('is', 1, 0.44333484649658184), ('visual', 2, 0.5048011887073516), ('.', 3, 0.3916073824678148)]\n"
     ]
    },
    {
     "name": "stderr",
     "output_type": "stream",
     "text": [
      "\n"
     ]
    },
    {
     "data": {
      "text/html": [
       "<mark style=\"background-color: hsl(0, 100%, 65%, 0.8); line-height:1.75\">This</mark> <mark style=\"background-color: hsl(0, 100%, 57%, 0.8); line-height:1.75\">is</mark> <mark style=\"background-color: hsl(0, 100%, 50%, 0.8); line-height:1.75\">visual</mark> <mark style=\"background-color: hsl(0, 100%, 62%, 0.8); line-height:1.75\">.</mark>"
      ],
      "text/plain": [
       "<IPython.core.display.HTML object>"
      ]
     },
     "metadata": {},
     "output_type": "display_data"
    },
    {
     "name": "stdout",
     "output_type": "stream",
     "text": [
      "\"A visual film.\" - positive - 0.92\n",
      "Rise parameter p_keep was automatically determined at 0.4\n"
     ]
    },
    {
     "name": "stderr",
     "output_type": "stream",
     "text": [
      "Explaining: 100%|██████████| 10/10 [00:10<00:00,  1.09s/it]"
     ]
    },
    {
     "name": "stdout",
     "output_type": "stream",
     "text": [
      "[('A', 0, 0.3702411687374112), ('visual', 1, 0.6863857233524322), ('film', 2, 0.46542198479175556), ('.', 3, 0.24358819007873533)]\n"
     ]
    },
    {
     "name": "stderr",
     "output_type": "stream",
     "text": [
      "\n"
     ]
    },
    {
     "data": {
      "text/html": [
       "<mark style=\"background-color: hsl(0, 100%, 74%, 0.8); line-height:1.75\">A</mark> <mark style=\"background-color: hsl(0, 100%, 50%, 0.8); line-height:1.75\">visual</mark> <mark style=\"background-color: hsl(0, 100%, 67%, 0.8); line-height:1.75\">film</mark> <mark style=\"background-color: hsl(0, 100%, 83%, 0.8); line-height:1.75\">.</mark>"
      ],
      "text/plain": [
       "<IPython.core.display.HTML object>"
      ]
     },
     "metadata": {},
     "output_type": "display_data"
    },
    {
     "name": "stdout",
     "output_type": "stream",
     "text": [
      "\"It is emotional.\" - positive - 0.94\n",
      "Rise parameter p_keep was automatically determined at 0.6\n"
     ]
    },
    {
     "name": "stderr",
     "output_type": "stream",
     "text": [
      "Explaining: 100%|██████████| 10/10 [00:10<00:00,  1.09s/it]"
     ]
    },
    {
     "name": "stdout",
     "output_type": "stream",
     "text": [
      "[('It', 0, 0.40985376159350095), ('is', 1, 0.48462146520614624), ('emotional', 2, 0.63486767411232), ('.', 3, 0.39792781134446464)]\n"
     ]
    },
    {
     "name": "stderr",
     "output_type": "stream",
     "text": [
      "\n"
     ]
    },
    {
     "data": {
      "text/html": [
       "<mark style=\"background-color: hsl(0, 100%, 68%, 0.8); line-height:1.75\">It</mark> <mark style=\"background-color: hsl(0, 100%, 62%, 0.8); line-height:1.75\">is</mark> <mark style=\"background-color: hsl(0, 100%, 50%, 0.8); line-height:1.75\">emotional</mark> <mark style=\"background-color: hsl(0, 100%, 69%, 0.8); line-height:1.75\">.</mark>"
      ],
      "text/plain": [
       "<IPython.core.display.HTML object>"
      ]
     },
     "metadata": {},
     "output_type": "display_data"
    },
    {
     "name": "stdout",
     "output_type": "stream",
     "text": [
      "\"This is emotional.\" - positive - 0.94\n",
      "Rise parameter p_keep was automatically determined at 0.5\n"
     ]
    },
    {
     "name": "stderr",
     "output_type": "stream",
     "text": [
      "Explaining: 100%|██████████| 10/10 [00:10<00:00,  1.07s/it]"
     ]
    },
    {
     "name": "stdout",
     "output_type": "stream",
     "text": [
      "[('This', 0, 0.30437613558769216), ('is', 1, 0.41617312335968015), ('emotional', 2, 0.6197495174407959), ('.', 3, 0.2898519296646118)]\n"
     ]
    },
    {
     "name": "stderr",
     "output_type": "stream",
     "text": [
      "\n"
     ]
    },
    {
     "data": {
      "text/html": [
       "<mark style=\"background-color: hsl(0, 100%, 76%, 0.8); line-height:1.75\">This</mark> <mark style=\"background-color: hsl(0, 100%, 67%, 0.8); line-height:1.75\">is</mark> <mark style=\"background-color: hsl(0, 100%, 50%, 0.8); line-height:1.75\">emotional</mark> <mark style=\"background-color: hsl(0, 100%, 77%, 0.8); line-height:1.75\">.</mark>"
      ],
      "text/plain": [
       "<IPython.core.display.HTML object>"
      ]
     },
     "metadata": {},
     "output_type": "display_data"
    },
    {
     "name": "stdout",
     "output_type": "stream",
     "text": [
      "\"An emotional film.\" - positive - 0.71\n",
      "Rise parameter p_keep was automatically determined at 0.6\n"
     ]
    },
    {
     "name": "stderr",
     "output_type": "stream",
     "text": [
      "Explaining: 100%|██████████| 10/10 [00:10<00:00,  1.06s/it]"
     ]
    },
    {
     "name": "stdout",
     "output_type": "stream",
     "text": [
      "[('An', 0, 0.4668234560887019), ('emotional', 1, 0.7193035775423049), ('film', 2, 0.5593350368738175), ('.', 3, 0.4097338364521663)]\n"
     ]
    },
    {
     "name": "stderr",
     "output_type": "stream",
     "text": [
      "\n"
     ]
    },
    {
     "data": {
      "text/html": [
       "<mark style=\"background-color: hsl(0, 100%, 68%, 0.8); line-height:1.75\">An</mark> <mark style=\"background-color: hsl(0, 100%, 50%, 0.8); line-height:1.75\">emotional</mark> <mark style=\"background-color: hsl(0, 100%, 62%, 0.8); line-height:1.75\">film</mark> <mark style=\"background-color: hsl(0, 100%, 72%, 0.8); line-height:1.75\">.</mark>"
      ],
      "text/plain": [
       "<IPython.core.display.HTML object>"
      ]
     },
     "metadata": {},
     "output_type": "display_data"
    },
    {
     "name": "stdout",
     "output_type": "stream",
     "text": [
      "\"It is satirical.\" - positive - 0.68\n",
      "Rise parameter p_keep was automatically determined at 0.5\n"
     ]
    },
    {
     "name": "stderr",
     "output_type": "stream",
     "text": [
      "Explaining: 100%|██████████| 10/10 [00:10<00:00,  1.06s/it]"
     ]
    },
    {
     "name": "stdout",
     "output_type": "stream",
     "text": [
      "[('It', 0, 0.1044280047416688), ('is', 1, 0.2031602787971496), ('satirical', 2, 0.16824917650222782), ('.', 3, 0.122869624376297)]\n"
     ]
    },
    {
     "name": "stderr",
     "output_type": "stream",
     "text": [
      "\n"
     ]
    },
    {
     "data": {
      "text/html": [
       "<mark style=\"background-color: hsl(0, 100%, 75%, 0.8); line-height:1.75\">It</mark> <mark style=\"background-color: hsl(0, 100%, 50%, 0.8); line-height:1.75\">is</mark> <mark style=\"background-color: hsl(0, 100%, 59%, 0.8); line-height:1.75\">satirical</mark> <mark style=\"background-color: hsl(0, 100%, 70%, 0.8); line-height:1.75\">.</mark>"
      ],
      "text/plain": [
       "<IPython.core.display.HTML object>"
      ]
     },
     "metadata": {},
     "output_type": "display_data"
    },
    {
     "name": "stdout",
     "output_type": "stream",
     "text": [
      "\"This is satirical.\" - positive - 0.68\n",
      "Rise parameter p_keep was automatically determined at 0.6\n"
     ]
    },
    {
     "name": "stderr",
     "output_type": "stream",
     "text": [
      "Explaining: 100%|██████████| 10/10 [00:10<00:00,  1.06s/it]"
     ]
    },
    {
     "name": "stdout",
     "output_type": "stream",
     "text": [
      "[('This', 0, 0.13158680260181432), ('is', 1, 0.2355488357941311), ('satirical', 2, 0.14200738449891404), ('.', 3, 0.12668430288632715)]\n"
     ]
    },
    {
     "name": "stderr",
     "output_type": "stream",
     "text": [
      "\n"
     ]
    },
    {
     "data": {
      "text/html": [
       "<mark style=\"background-color: hsl(0, 100%, 73%, 0.8); line-height:1.75\">This</mark> <mark style=\"background-color: hsl(0, 100%, 50%, 0.8); line-height:1.75\">is</mark> <mark style=\"background-color: hsl(0, 100%, 70%, 0.8); line-height:1.75\">satirical</mark> <mark style=\"background-color: hsl(0, 100%, 74%, 0.8); line-height:1.75\">.</mark>"
      ],
      "text/plain": [
       "<IPython.core.display.HTML object>"
      ]
     },
     "metadata": {},
     "output_type": "display_data"
    },
    {
     "name": "stdout",
     "output_type": "stream",
     "text": [
      "\"A satirical film.\" - negative - 0.40\n",
      "Rise parameter p_keep was automatically determined at 0.5\n"
     ]
    },
    {
     "name": "stderr",
     "output_type": "stream",
     "text": [
      "Explaining: 100%|██████████| 10/10 [00:10<00:00,  1.06s/it]"
     ]
    },
    {
     "name": "stdout",
     "output_type": "stream",
     "text": [
      "[('A', 0, 0.2517432274818421), ('satirical', 1, 0.46994745993614195), ('film', 2, 0.4684930729866028), ('.', 3, 0.14085174679756163)]\n"
     ]
    },
    {
     "name": "stderr",
     "output_type": "stream",
     "text": [
      "\n"
     ]
    },
    {
     "data": {
      "text/html": [
       "<mark style=\"background-color: hsl(0, 100%, 74%, 0.8); line-height:1.75\">A</mark> <mark style=\"background-color: hsl(0, 100%, 50%, 0.8); line-height:1.75\">satirical</mark> <mark style=\"background-color: hsl(0, 100%, 51%, 0.8); line-height:1.75\">film</mark> <mark style=\"background-color: hsl(0, 100%, 86%, 0.8); line-height:1.75\">.</mark>"
      ],
      "text/plain": [
       "<IPython.core.display.HTML object>"
      ]
     },
     "metadata": {},
     "output_type": "display_data"
    },
    {
     "name": "stdout",
     "output_type": "stream",
     "text": [
      "\"It is artful.\" - positive - 0.94\n",
      "Rise parameter p_keep was automatically determined at 0.5\n"
     ]
    },
    {
     "name": "stderr",
     "output_type": "stream",
     "text": [
      "Explaining: 100%|██████████| 10/10 [00:10<00:00,  1.06s/it]"
     ]
    },
    {
     "name": "stdout",
     "output_type": "stream",
     "text": [
      "[('It', 0, 0.3846641716957093), ('is', 1, 0.37210189962387075), ('artful', 2, 0.5946211259365082), ('.', 3, 0.29382061767578116)]\n"
     ]
    },
    {
     "name": "stderr",
     "output_type": "stream",
     "text": [
      "\n"
     ]
    },
    {
     "data": {
      "text/html": [
       "<mark style=\"background-color: hsl(0, 100%, 68%, 0.8); line-height:1.75\">It</mark> <mark style=\"background-color: hsl(0, 100%, 69%, 0.8); line-height:1.75\">is</mark> <mark style=\"background-color: hsl(0, 100%, 50%, 0.8); line-height:1.75\">artful</mark> <mark style=\"background-color: hsl(0, 100%, 76%, 0.8); line-height:1.75\">.</mark>"
      ],
      "text/plain": [
       "<IPython.core.display.HTML object>"
      ]
     },
     "metadata": {},
     "output_type": "display_data"
    },
    {
     "name": "stdout",
     "output_type": "stream",
     "text": [
      "\"This is artful.\" - positive - 0.94\n",
      "Rise parameter p_keep was automatically determined at 0.6\n"
     ]
    },
    {
     "name": "stderr",
     "output_type": "stream",
     "text": [
      "Explaining: 100%|██████████| 10/10 [00:10<00:00,  1.06s/it]"
     ]
    },
    {
     "name": "stdout",
     "output_type": "stream",
     "text": [
      "[('This', 0, 0.3740329349040985), ('is', 1, 0.3805679380893707), ('artful', 2, 0.556290405392647), ('.', 3, 0.3302049585183462)]\n"
     ]
    },
    {
     "name": "stderr",
     "output_type": "stream",
     "text": [
      "\n"
     ]
    },
    {
     "data": {
      "text/html": [
       "<mark style=\"background-color: hsl(0, 100%, 67%, 0.8); line-height:1.75\">This</mark> <mark style=\"background-color: hsl(0, 100%, 66%, 0.8); line-height:1.75\">is</mark> <mark style=\"background-color: hsl(0, 100%, 50%, 0.8); line-height:1.75\">artful</mark> <mark style=\"background-color: hsl(0, 100%, 71%, 0.8); line-height:1.75\">.</mark>"
      ],
      "text/plain": [
       "<IPython.core.display.HTML object>"
      ]
     },
     "metadata": {},
     "output_type": "display_data"
    },
    {
     "name": "stdout",
     "output_type": "stream",
     "text": [
      "\"An artful film.\" - positive - 0.93\n",
      "Rise parameter p_keep was automatically determined at 0.5\n"
     ]
    },
    {
     "name": "stderr",
     "output_type": "stream",
     "text": [
      "Explaining: 100%|██████████| 10/10 [00:10<00:00,  1.06s/it]"
     ]
    },
    {
     "name": "stdout",
     "output_type": "stream",
     "text": [
      "[('An', 0, 0.3705486943721772), ('artful', 1, 0.6559102685451508), ('film', 2, 0.49574285554885855), ('.', 3, 0.34569215106964113)]\n"
     ]
    },
    {
     "name": "stderr",
     "output_type": "stream",
     "text": [
      "\n"
     ]
    },
    {
     "data": {
      "text/html": [
       "<mark style=\"background-color: hsl(0, 100%, 72%, 0.8); line-height:1.75\">An</mark> <mark style=\"background-color: hsl(0, 100%, 50%, 0.8); line-height:1.75\">artful</mark> <mark style=\"background-color: hsl(0, 100%, 63%, 0.8); line-height:1.75\">film</mark> <mark style=\"background-color: hsl(0, 100%, 74%, 0.8); line-height:1.75\">.</mark>"
      ],
      "text/plain": [
       "<IPython.core.display.HTML object>"
      ]
     },
     "metadata": {},
     "output_type": "display_data"
    },
    {
     "name": "stdout",
     "output_type": "stream",
     "text": [
      "\"It is beguiling.\" - positive - 0.90\n",
      "Rise parameter p_keep was automatically determined at 0.4\n"
     ]
    },
    {
     "name": "stderr",
     "output_type": "stream",
     "text": [
      "Explaining: 100%|██████████| 10/10 [00:10<00:00,  1.07s/it]"
     ]
    },
    {
     "name": "stdout",
     "output_type": "stream",
     "text": [
      "[('It', 0, 0.30974722474813454), ('is', 1, 0.396353231370449), ('beguiling', 2, 0.7473731774091721), ('.', 3, 0.33379906922578795)]\n"
     ]
    },
    {
     "name": "stderr",
     "output_type": "stream",
     "text": [
      "\n"
     ]
    },
    {
     "data": {
      "text/html": [
       "<mark style=\"background-color: hsl(0, 100%, 80%, 0.8); line-height:1.75\">It</mark> <mark style=\"background-color: hsl(0, 100%, 74%, 0.8); line-height:1.75\">is</mark> <mark style=\"background-color: hsl(0, 100%, 50%, 0.8); line-height:1.75\">beguiling</mark> <mark style=\"background-color: hsl(0, 100%, 78%, 0.8); line-height:1.75\">.</mark>"
      ],
      "text/plain": [
       "<IPython.core.display.HTML object>"
      ]
     },
     "metadata": {},
     "output_type": "display_data"
    },
    {
     "name": "stdout",
     "output_type": "stream",
     "text": [
      "\"This is beguiling.\" - positive - 0.90\n",
      "Rise parameter p_keep was automatically determined at 0.5\n"
     ]
    },
    {
     "name": "stderr",
     "output_type": "stream",
     "text": [
      "Explaining: 100%|██████████| 10/10 [00:10<00:00,  1.06s/it]"
     ]
    },
    {
     "name": "stdout",
     "output_type": "stream",
     "text": [
      "[('This', 0, 0.4831679706573486), ('is', 1, 0.5067918210029603), ('beguiling', 2, 0.7053655247688293), ('.', 3, 0.36649242830276485)]\n"
     ]
    },
    {
     "name": "stderr",
     "output_type": "stream",
     "text": [
      "\n"
     ]
    },
    {
     "data": {
      "text/html": [
       "<mark style=\"background-color: hsl(0, 100%, 66%, 0.8); line-height:1.75\">This</mark> <mark style=\"background-color: hsl(0, 100%, 65%, 0.8); line-height:1.75\">is</mark> <mark style=\"background-color: hsl(0, 100%, 50%, 0.8); line-height:1.75\">beguiling</mark> <mark style=\"background-color: hsl(0, 100%, 75%, 0.8); line-height:1.75\">.</mark>"
      ],
      "text/plain": [
       "<IPython.core.display.HTML object>"
      ]
     },
     "metadata": {},
     "output_type": "display_data"
    },
    {
     "name": "stdout",
     "output_type": "stream",
     "text": [
      "\"A beguiling film.\" - positive - 0.79\n",
      "Rise parameter p_keep was automatically determined at 0.5\n"
     ]
    },
    {
     "name": "stderr",
     "output_type": "stream",
     "text": [
      "Explaining: 100%|██████████| 10/10 [00:10<00:00,  1.06s/it]"
     ]
    },
    {
     "name": "stdout",
     "output_type": "stream",
     "text": [
      "[('A', 0, 0.3883743298053741), ('beguiling', 1, 0.8528543264865875), ('film', 2, 0.5613604247570039), ('.', 3, 0.404432885169983)]\n"
     ]
    },
    {
     "name": "stderr",
     "output_type": "stream",
     "text": [
      "\n"
     ]
    },
    {
     "data": {
      "text/html": [
       "<mark style=\"background-color: hsl(0, 100%, 78%, 0.8); line-height:1.75\">A</mark> <mark style=\"background-color: hsl(0, 100%, 50%, 0.8); line-height:1.75\">beguiling</mark> <mark style=\"background-color: hsl(0, 100%, 68%, 0.8); line-height:1.75\">film</mark> <mark style=\"background-color: hsl(0, 100%, 77%, 0.8); line-height:1.75\">.</mark>"
      ],
      "text/plain": [
       "<IPython.core.display.HTML object>"
      ]
     },
     "metadata": {},
     "output_type": "display_data"
    },
    {
     "name": "stdout",
     "output_type": "stream",
     "text": [
      "\"It is stimulating.\" - positive - 0.92\n",
      "Rise parameter p_keep was automatically determined at 0.5\n"
     ]
    },
    {
     "name": "stderr",
     "output_type": "stream",
     "text": [
      "Explaining: 100%|██████████| 10/10 [00:11<00:00,  1.18s/it]"
     ]
    },
    {
     "name": "stdout",
     "output_type": "stream",
     "text": [
      "[('It', 0, 0.35577935791015625), ('is', 1, 0.44163057112693793), ('stimulating', 2, 0.5637025396823883), ('.', 3, 0.3815356202125548)]\n"
     ]
    },
    {
     "name": "stderr",
     "output_type": "stream",
     "text": [
      "\n"
     ]
    },
    {
     "data": {
      "text/html": [
       "<mark style=\"background-color: hsl(0, 100%, 69%, 0.8); line-height:1.75\">It</mark> <mark style=\"background-color: hsl(0, 100%, 61%, 0.8); line-height:1.75\">is</mark> <mark style=\"background-color: hsl(0, 100%, 50%, 0.8); line-height:1.75\">stimulating</mark> <mark style=\"background-color: hsl(0, 100%, 67%, 0.8); line-height:1.75\">.</mark>"
      ],
      "text/plain": [
       "<IPython.core.display.HTML object>"
      ]
     },
     "metadata": {},
     "output_type": "display_data"
    },
    {
     "name": "stdout",
     "output_type": "stream",
     "text": [
      "\"This is stimulating.\" - positive - 0.92\n",
      "Rise parameter p_keep was automatically determined at 0.5\n"
     ]
    },
    {
     "name": "stderr",
     "output_type": "stream",
     "text": [
      "Explaining: 100%|██████████| 10/10 [00:11<00:00,  1.12s/it]"
     ]
    },
    {
     "name": "stdout",
     "output_type": "stream",
     "text": [
      "[('This', 0, 0.34984314060211186), ('is', 1, 0.4995387837886811), ('stimulating', 2, 0.6946953008174896), ('.', 3, 0.3527472925186157)]\n"
     ]
    },
    {
     "name": "stderr",
     "output_type": "stream",
     "text": [
      "\n"
     ]
    },
    {
     "data": {
      "text/html": [
       "<mark style=\"background-color: hsl(0, 100%, 75%, 0.8); line-height:1.75\">This</mark> <mark style=\"background-color: hsl(0, 100%, 65%, 0.8); line-height:1.75\">is</mark> <mark style=\"background-color: hsl(0, 100%, 50%, 0.8); line-height:1.75\">stimulating</mark> <mark style=\"background-color: hsl(0, 100%, 75%, 0.8); line-height:1.75\">.</mark>"
      ],
      "text/plain": [
       "<IPython.core.display.HTML object>"
      ]
     },
     "metadata": {},
     "output_type": "display_data"
    },
    {
     "name": "stdout",
     "output_type": "stream",
     "text": [
      "\"A stimulating film.\" - positive - 0.91\n",
      "Rise parameter p_keep was automatically determined at 0.5\n"
     ]
    },
    {
     "name": "stderr",
     "output_type": "stream",
     "text": [
      "Explaining: 100%|██████████| 10/10 [00:10<00:00,  1.09s/it]"
     ]
    },
    {
     "name": "stdout",
     "output_type": "stream",
     "text": [
      "[('A', 0, 0.34645237851142885), ('stimulating', 1, 0.7077215604782106), ('film', 2, 0.4982589530944823), ('.', 3, 0.33861521577835085)]\n"
     ]
    },
    {
     "name": "stderr",
     "output_type": "stream",
     "text": [
      "\n"
     ]
    },
    {
     "data": {
      "text/html": [
       "<mark style=\"background-color: hsl(0, 100%, 76%, 0.8); line-height:1.75\">A</mark> <mark style=\"background-color: hsl(0, 100%, 50%, 0.8); line-height:1.75\">stimulating</mark> <mark style=\"background-color: hsl(0, 100%, 65%, 0.8); line-height:1.75\">film</mark> <mark style=\"background-color: hsl(0, 100%, 77%, 0.8); line-height:1.75\">.</mark>"
      ],
      "text/plain": [
       "<IPython.core.display.HTML object>"
      ]
     },
     "metadata": {},
     "output_type": "display_data"
    },
    {
     "name": "stdout",
     "output_type": "stream",
     "text": [
      "\"It is modest.\" - positive - 0.97\n",
      "Rise parameter p_keep was automatically determined at 0.6\n"
     ]
    },
    {
     "name": "stderr",
     "output_type": "stream",
     "text": [
      "Explaining: 100%|██████████| 10/10 [00:11<00:00,  1.13s/it]"
     ]
    },
    {
     "name": "stdout",
     "output_type": "stream",
     "text": [
      "[('It', 0, 0.5605550561348598), ('is', 1, 0.5479122553269069), ('modest', 2, 0.6583392912149428), ('.', 3, 0.4033735998471579)]\n"
     ]
    },
    {
     "name": "stderr",
     "output_type": "stream",
     "text": [
      "\n"
     ]
    },
    {
     "data": {
      "text/html": [
       "<mark style=\"background-color: hsl(0, 100%, 58%, 0.8); line-height:1.75\">It</mark> <mark style=\"background-color: hsl(0, 100%, 59%, 0.8); line-height:1.75\">is</mark> <mark style=\"background-color: hsl(0, 100%, 50%, 0.8); line-height:1.75\">modest</mark> <mark style=\"background-color: hsl(0, 100%, 70%, 0.8); line-height:1.75\">.</mark>"
      ],
      "text/plain": [
       "<IPython.core.display.HTML object>"
      ]
     },
     "metadata": {},
     "output_type": "display_data"
    },
    {
     "name": "stdout",
     "output_type": "stream",
     "text": [
      "\"This is modest.\" - positive - 0.97\n",
      "Rise parameter p_keep was automatically determined at 0.5\n"
     ]
    },
    {
     "name": "stderr",
     "output_type": "stream",
     "text": [
      "Explaining: 100%|██████████| 10/10 [00:11<00:00,  1.12s/it]"
     ]
    },
    {
     "name": "stdout",
     "output_type": "stream",
     "text": [
      "[('This', 0, 0.41511082625389095), ('is', 1, 0.4350675380229949), ('modest', 2, 0.6446168539524078), ('.', 3, 0.3548440384864806)]\n"
     ]
    },
    {
     "name": "stderr",
     "output_type": "stream",
     "text": [
      "\n"
     ]
    },
    {
     "data": {
      "text/html": [
       "<mark style=\"background-color: hsl(0, 100%, 68%, 0.8); line-height:1.75\">This</mark> <mark style=\"background-color: hsl(0, 100%, 67%, 0.8); line-height:1.75\">is</mark> <mark style=\"background-color: hsl(0, 100%, 50%, 0.8); line-height:1.75\">modest</mark> <mark style=\"background-color: hsl(0, 100%, 73%, 0.8); line-height:1.75\">.</mark>"
      ],
      "text/plain": [
       "<IPython.core.display.HTML object>"
      ]
     },
     "metadata": {},
     "output_type": "display_data"
    },
    {
     "name": "stdout",
     "output_type": "stream",
     "text": [
      "\"A modest film.\" - positive - 0.99\n",
      "Rise parameter p_keep was automatically determined at 0.5\n"
     ]
    },
    {
     "name": "stderr",
     "output_type": "stream",
     "text": [
      "Explaining: 100%|██████████| 10/10 [00:10<00:00,  1.08s/it]"
     ]
    },
    {
     "name": "stdout",
     "output_type": "stream",
     "text": [
      "[('A', 0, 0.36590699625015266), ('modest', 1, 0.777044461965561), ('film', 2, 0.5447420251369477), ('.', 3, 0.40125012946128846)]\n"
     ]
    },
    {
     "name": "stderr",
     "output_type": "stream",
     "text": [
      "\n"
     ]
    },
    {
     "data": {
      "text/html": [
       "<mark style=\"background-color: hsl(0, 100%, 77%, 0.8); line-height:1.75\">A</mark> <mark style=\"background-color: hsl(0, 100%, 50%, 0.8); line-height:1.75\">modest</mark> <mark style=\"background-color: hsl(0, 100%, 65%, 0.8); line-height:1.75\">film</mark> <mark style=\"background-color: hsl(0, 100%, 75%, 0.8); line-height:1.75\">.</mark>"
      ],
      "text/plain": [
       "<IPython.core.display.HTML object>"
      ]
     },
     "metadata": {},
     "output_type": "display_data"
    },
    {
     "name": "stdout",
     "output_type": "stream",
     "text": [
      "\"It is gorgeous.\" - positive - 0.96\n",
      "Rise parameter p_keep was automatically determined at 0.4\n"
     ]
    },
    {
     "name": "stderr",
     "output_type": "stream",
     "text": [
      "Explaining: 100%|██████████| 10/10 [00:10<00:00,  1.07s/it]"
     ]
    },
    {
     "name": "stdout",
     "output_type": "stream",
     "text": [
      "[('It', 0, 0.35764752388000476), ('is', 1, 0.5336348420381545), ('gorgeous', 2, 0.7747558096051215), ('.', 3, 0.34120184391736963)]\n"
     ]
    },
    {
     "name": "stderr",
     "output_type": "stream",
     "text": [
      "\n"
     ]
    },
    {
     "data": {
      "text/html": [
       "<mark style=\"background-color: hsl(0, 100%, 77%, 0.8); line-height:1.75\">It</mark> <mark style=\"background-color: hsl(0, 100%, 66%, 0.8); line-height:1.75\">is</mark> <mark style=\"background-color: hsl(0, 100%, 50%, 0.8); line-height:1.75\">gorgeous</mark> <mark style=\"background-color: hsl(0, 100%, 78%, 0.8); line-height:1.75\">.</mark>"
      ],
      "text/plain": [
       "<IPython.core.display.HTML object>"
      ]
     },
     "metadata": {},
     "output_type": "display_data"
    },
    {
     "name": "stdout",
     "output_type": "stream",
     "text": [
      "\"This is gorgeous.\" - positive - 0.96\n",
      "Rise parameter p_keep was automatically determined at 0.5\n"
     ]
    },
    {
     "name": "stderr",
     "output_type": "stream",
     "text": [
      "Explaining: 100%|██████████| 10/10 [00:10<00:00,  1.08s/it]"
     ]
    },
    {
     "name": "stdout",
     "output_type": "stream",
     "text": [
      "[('This', 0, 0.44895264315605155), ('is', 1, 0.5542182228565216), ('gorgeous', 2, 0.870500746011734), ('.', 3, 0.3964976234436035)]\n"
     ]
    },
    {
     "name": "stderr",
     "output_type": "stream",
     "text": [
      "\n"
     ]
    },
    {
     "data": {
      "text/html": [
       "<mark style=\"background-color: hsl(0, 100%, 75%, 0.8); line-height:1.75\">This</mark> <mark style=\"background-color: hsl(0, 100%, 69%, 0.8); line-height:1.75\">is</mark> <mark style=\"background-color: hsl(0, 100%, 50%, 0.8); line-height:1.75\">gorgeous</mark> <mark style=\"background-color: hsl(0, 100%, 78%, 0.8); line-height:1.75\">.</mark>"
      ],
      "text/plain": [
       "<IPython.core.display.HTML object>"
      ]
     },
     "metadata": {},
     "output_type": "display_data"
    },
    {
     "name": "stdout",
     "output_type": "stream",
     "text": [
      "\"A gorgeous film.\" - positive - 0.96\n",
      "Rise parameter p_keep was automatically determined at 0.4\n"
     ]
    },
    {
     "name": "stderr",
     "output_type": "stream",
     "text": [
      "Explaining: 100%|██████████| 10/10 [00:10<00:00,  1.09s/it]"
     ]
    },
    {
     "name": "stdout",
     "output_type": "stream",
     "text": [
      "[('A', 0, 0.38798282325267763), ('gorgeous', 1, 0.9924197584390639), ('film', 2, 0.485864310860634), ('.', 3, 0.4001378655433654)]\n"
     ]
    },
    {
     "name": "stderr",
     "output_type": "stream",
     "text": [
      "\n"
     ]
    },
    {
     "data": {
      "text/html": [
       "<mark style=\"background-color: hsl(0, 100%, 81%, 0.8); line-height:1.75\">A</mark> <mark style=\"background-color: hsl(0, 100%, 50%, 0.8); line-height:1.75\">gorgeous</mark> <mark style=\"background-color: hsl(0, 100%, 76%, 0.8); line-height:1.75\">film</mark> <mark style=\"background-color: hsl(0, 100%, 80%, 0.8); line-height:1.75\">.</mark>"
      ],
      "text/plain": [
       "<IPython.core.display.HTML object>"
      ]
     },
     "metadata": {},
     "output_type": "display_data"
    },
    {
     "name": "stdout",
     "output_type": "stream",
     "text": [
      "\"It is inventive.\" - positive - 0.99\n",
      "Rise parameter p_keep was automatically determined at 0.6\n"
     ]
    },
    {
     "name": "stderr",
     "output_type": "stream",
     "text": [
      "Explaining: 100%|██████████| 10/10 [00:11<00:00,  1.11s/it]"
     ]
    },
    {
     "name": "stdout",
     "output_type": "stream",
     "text": [
      "[('It', 0, 0.4880770846207936), ('is', 1, 0.5476569416125616), ('inventive', 2, 0.7763647476832072), ('.', 3, 0.5196734648942949)]\n"
     ]
    },
    {
     "name": "stderr",
     "output_type": "stream",
     "text": [
      "\n"
     ]
    },
    {
     "data": {
      "text/html": [
       "<mark style=\"background-color: hsl(0, 100%, 69%, 0.8); line-height:1.75\">It</mark> <mark style=\"background-color: hsl(0, 100%, 65%, 0.8); line-height:1.75\">is</mark> <mark style=\"background-color: hsl(0, 100%, 50%, 0.8); line-height:1.75\">inventive</mark> <mark style=\"background-color: hsl(0, 100%, 67%, 0.8); line-height:1.75\">.</mark>"
      ],
      "text/plain": [
       "<IPython.core.display.HTML object>"
      ]
     },
     "metadata": {},
     "output_type": "display_data"
    },
    {
     "name": "stdout",
     "output_type": "stream",
     "text": [
      "\"This is inventive.\" - positive - 0.99\n",
      "Rise parameter p_keep was automatically determined at 0.4\n"
     ]
    },
    {
     "name": "stderr",
     "output_type": "stream",
     "text": [
      "Explaining: 100%|██████████| 10/10 [00:10<00:00,  1.09s/it]"
     ]
    },
    {
     "name": "stdout",
     "output_type": "stream",
     "text": [
      "[('This', 0, 0.36097461432218525), ('is', 1, 0.44999396055936813), ('inventive', 2, 0.8909672784805298), ('.', 3, 0.40142482727766016)]\n"
     ]
    },
    {
     "name": "stderr",
     "output_type": "stream",
     "text": [
      "\n"
     ]
    },
    {
     "data": {
      "text/html": [
       "<mark style=\"background-color: hsl(0, 100%, 80%, 0.8); line-height:1.75\">This</mark> <mark style=\"background-color: hsl(0, 100%, 75%, 0.8); line-height:1.75\">is</mark> <mark style=\"background-color: hsl(0, 100%, 50%, 0.8); line-height:1.75\">inventive</mark> <mark style=\"background-color: hsl(0, 100%, 78%, 0.8); line-height:1.75\">.</mark>"
      ],
      "text/plain": [
       "<IPython.core.display.HTML object>"
      ]
     },
     "metadata": {},
     "output_type": "display_data"
    },
    {
     "name": "stdout",
     "output_type": "stream",
     "text": [
      "\"An inventive film.\" - positive - 0.99\n",
      "Rise parameter p_keep was automatically determined at 0.4\n"
     ]
    },
    {
     "name": "stderr",
     "output_type": "stream",
     "text": [
      "Explaining: 100%|██████████| 10/10 [00:10<00:00,  1.07s/it]"
     ]
    },
    {
     "name": "stdout",
     "output_type": "stream",
     "text": [
      "[('An', 0, 0.4707563853263854), ('inventive', 1, 0.8714745196700096), ('film', 2, 0.5627083563804625), ('.', 3, 0.3343153941631316)]\n"
     ]
    },
    {
     "name": "stderr",
     "output_type": "stream",
     "text": [
      "\n"
     ]
    },
    {
     "data": {
      "text/html": [
       "<mark style=\"background-color: hsl(0, 100%, 73%, 0.8); line-height:1.75\">An</mark> <mark style=\"background-color: hsl(0, 100%, 50%, 0.8); line-height:1.75\">inventive</mark> <mark style=\"background-color: hsl(0, 100%, 68%, 0.8); line-height:1.75\">film</mark> <mark style=\"background-color: hsl(0, 100%, 81%, 0.8); line-height:1.75\">.</mark>"
      ],
      "text/plain": [
       "<IPython.core.display.HTML object>"
      ]
     },
     "metadata": {},
     "output_type": "display_data"
    },
    {
     "name": "stdout",
     "output_type": "stream",
     "text": [
      "\"It is good.\" - positive - 1.00\n",
      "Rise parameter p_keep was automatically determined at 0.6\n"
     ]
    },
    {
     "name": "stderr",
     "output_type": "stream",
     "text": [
      "Explaining: 100%|██████████| 10/10 [00:11<00:00,  1.11s/it]"
     ]
    },
    {
     "name": "stdout",
     "output_type": "stream",
     "text": [
      "[('It', 0, 0.4895256461699804), ('is', 1, 0.5167212627331417), ('good', 2, 0.8627759315570196), ('.', 3, 0.44921954373518624)]\n"
     ]
    },
    {
     "name": "stderr",
     "output_type": "stream",
     "text": [
      "\n"
     ]
    },
    {
     "data": {
      "text/html": [
       "<mark style=\"background-color: hsl(0, 100%, 72%, 0.8); line-height:1.75\">It</mark> <mark style=\"background-color: hsl(0, 100%, 71%, 0.8); line-height:1.75\">is</mark> <mark style=\"background-color: hsl(0, 100%, 50%, 0.8); line-height:1.75\">good</mark> <mark style=\"background-color: hsl(0, 100%, 74%, 0.8); line-height:1.75\">.</mark>"
      ],
      "text/plain": [
       "<IPython.core.display.HTML object>"
      ]
     },
     "metadata": {},
     "output_type": "display_data"
    },
    {
     "name": "stdout",
     "output_type": "stream",
     "text": [
      "\"This is good.\" - positive - 1.00\n",
      "Rise parameter p_keep was automatically determined at 0.6\n"
     ]
    },
    {
     "name": "stderr",
     "output_type": "stream",
     "text": [
      "Explaining: 100%|██████████| 10/10 [00:10<00:00,  1.06s/it]"
     ]
    },
    {
     "name": "stdout",
     "output_type": "stream",
     "text": [
      "[('This', 0, 0.450841581026713), ('is', 1, 0.5875304953257243), ('good', 2, 0.7809842914342882), ('.', 3, 0.45278868993123367)]\n"
     ]
    },
    {
     "name": "stderr",
     "output_type": "stream",
     "text": [
      "\n"
     ]
    },
    {
     "data": {
      "text/html": [
       "<mark style=\"background-color: hsl(0, 100%, 72%, 0.8); line-height:1.75\">This</mark> <mark style=\"background-color: hsl(0, 100%, 63%, 0.8); line-height:1.75\">is</mark> <mark style=\"background-color: hsl(0, 100%, 50%, 0.8); line-height:1.75\">good</mark> <mark style=\"background-color: hsl(0, 100%, 72%, 0.8); line-height:1.75\">.</mark>"
      ],
      "text/plain": [
       "<IPython.core.display.HTML object>"
      ]
     },
     "metadata": {},
     "output_type": "display_data"
    },
    {
     "name": "stdout",
     "output_type": "stream",
     "text": [
      "\"A good film.\" - positive - 1.00\n",
      "Rise parameter p_keep was automatically determined at 0.5\n"
     ]
    },
    {
     "name": "stderr",
     "output_type": "stream",
     "text": [
      "Explaining: 100%|██████████| 10/10 [00:10<00:00,  1.04s/it]"
     ]
    },
    {
     "name": "stdout",
     "output_type": "stream",
     "text": [
      "[('A', 0, 0.5385709869861603), ('good', 1, 0.8821266207695007), ('film', 2, 0.5739732112884521), ('.', 3, 0.4092336630821227)]\n"
     ]
    },
    {
     "name": "stderr",
     "output_type": "stream",
     "text": [
      "\n"
     ]
    },
    {
     "data": {
      "text/html": [
       "<mark style=\"background-color: hsl(0, 100%, 70%, 0.8); line-height:1.75\">A</mark> <mark style=\"background-color: hsl(0, 100%, 50%, 0.8); line-height:1.75\">good</mark> <mark style=\"background-color: hsl(0, 100%, 68%, 0.8); line-height:1.75\">film</mark> <mark style=\"background-color: hsl(0, 100%, 77%, 0.8); line-height:1.75\">.</mark>"
      ],
      "text/plain": [
       "<IPython.core.display.HTML object>"
      ]
     },
     "metadata": {},
     "output_type": "display_data"
    },
    {
     "name": "stdout",
     "output_type": "stream",
     "text": [
      "\"It is ultimate.\" - positive - 0.81\n",
      "Rise parameter p_keep was automatically determined at 0.6\n"
     ]
    },
    {
     "name": "stderr",
     "output_type": "stream",
     "text": [
      "Explaining: 100%|██████████| 10/10 [00:10<00:00,  1.06s/it]"
     ]
    },
    {
     "name": "stdout",
     "output_type": "stream",
     "text": [
      "[('It', 0, 0.2987405069669087), ('is', 1, 0.33367812554041554), ('ultimate', 2, 0.39164073924223586), ('.', 3, 0.27505301892757417)]\n"
     ]
    },
    {
     "name": "stderr",
     "output_type": "stream",
     "text": [
      "\n"
     ]
    },
    {
     "data": {
      "text/html": [
       "<mark style=\"background-color: hsl(0, 100%, 62%, 0.8); line-height:1.75\">It</mark> <mark style=\"background-color: hsl(0, 100%, 58%, 0.8); line-height:1.75\">is</mark> <mark style=\"background-color: hsl(0, 100%, 50%, 0.8); line-height:1.75\">ultimate</mark> <mark style=\"background-color: hsl(0, 100%, 65%, 0.8); line-height:1.75\">.</mark>"
      ],
      "text/plain": [
       "<IPython.core.display.HTML object>"
      ]
     },
     "metadata": {},
     "output_type": "display_data"
    },
    {
     "name": "stdout",
     "output_type": "stream",
     "text": [
      "\"This is ultimate.\" - positive - 0.81\n",
      "Rise parameter p_keep was automatically determined at 0.4\n"
     ]
    },
    {
     "name": "stderr",
     "output_type": "stream",
     "text": [
      "Explaining: 100%|██████████| 10/10 [00:10<00:00,  1.07s/it]"
     ]
    },
    {
     "name": "stdout",
     "output_type": "stream",
     "text": [
      "[('This', 0, 0.15917907088994965), ('is', 1, 0.29437110960483537), ('ultimate', 2, 0.392651324868202), ('.', 3, 0.05263850927352909)]\n"
     ]
    },
    {
     "name": "stderr",
     "output_type": "stream",
     "text": [
      "\n"
     ]
    },
    {
     "data": {
      "text/html": [
       "<mark style=\"background-color: hsl(0, 100%, 80%, 0.8); line-height:1.75\">This</mark> <mark style=\"background-color: hsl(0, 100%, 63%, 0.8); line-height:1.75\">is</mark> <mark style=\"background-color: hsl(0, 100%, 50%, 0.8); line-height:1.75\">ultimate</mark> <mark style=\"background-color: hsl(0, 100%, 94%, 0.8); line-height:1.75\">.</mark>"
      ],
      "text/plain": [
       "<IPython.core.display.HTML object>"
      ]
     },
     "metadata": {},
     "output_type": "display_data"
    },
    {
     "name": "stdout",
     "output_type": "stream",
     "text": [
      "\"An ultimate film.\" - positive - 0.70\n",
      "Rise parameter p_keep was automatically determined at 0.4\n"
     ]
    },
    {
     "name": "stderr",
     "output_type": "stream",
     "text": [
      "Explaining: 100%|██████████| 10/10 [00:10<00:00,  1.04s/it]"
     ]
    },
    {
     "name": "stdout",
     "output_type": "stream",
     "text": [
      "[('An', 0, 0.225414926111698), ('ultimate', 1, 0.5291098120808602), ('film', 2, 0.38073523163795464), ('.', 3, 0.1459165182709692)]\n"
     ]
    },
    {
     "name": "stderr",
     "output_type": "stream",
     "text": [
      "\n"
     ]
    },
    {
     "data": {
      "text/html": [
       "<mark style=\"background-color: hsl(0, 100%, 79%, 0.8); line-height:1.75\">An</mark> <mark style=\"background-color: hsl(0, 100%, 50%, 0.8); line-height:1.75\">ultimate</mark> <mark style=\"background-color: hsl(0, 100%, 65%, 0.8); line-height:1.75\">film</mark> <mark style=\"background-color: hsl(0, 100%, 87%, 0.8); line-height:1.75\">.</mark>"
      ],
      "text/plain": [
       "<IPython.core.display.HTML object>"
      ]
     },
     "metadata": {},
     "output_type": "display_data"
    },
    {
     "name": "stdout",
     "output_type": "stream",
     "text": [
      "\"It is fantastic.\" - positive - 0.95\n",
      "Rise parameter p_keep was automatically determined at 0.5\n"
     ]
    },
    {
     "name": "stderr",
     "output_type": "stream",
     "text": [
      "Explaining: 100%|██████████| 10/10 [00:10<00:00,  1.04s/it]"
     ]
    },
    {
     "name": "stdout",
     "output_type": "stream",
     "text": [
      "[('It', 0, 0.4055573379993438), ('is', 1, 0.6073905301094056), ('fantastic', 2, 0.9355177347660064), ('.', 3, 0.5126999053955079)]\n"
     ]
    },
    {
     "name": "stderr",
     "output_type": "stream",
     "text": [
      "\n"
     ]
    },
    {
     "data": {
      "text/html": [
       "<mark style=\"background-color: hsl(0, 100%, 79%, 0.8); line-height:1.75\">It</mark> <mark style=\"background-color: hsl(0, 100%, 68%, 0.8); line-height:1.75\">is</mark> <mark style=\"background-color: hsl(0, 100%, 50%, 0.8); line-height:1.75\">fantastic</mark> <mark style=\"background-color: hsl(0, 100%, 73%, 0.8); line-height:1.75\">.</mark>"
      ],
      "text/plain": [
       "<IPython.core.display.HTML object>"
      ]
     },
     "metadata": {},
     "output_type": "display_data"
    },
    {
     "name": "stdout",
     "output_type": "stream",
     "text": [
      "\"This is fantastic.\" - positive - 0.95\n",
      "Rise parameter p_keep was automatically determined at 0.6\n"
     ]
    },
    {
     "name": "stderr",
     "output_type": "stream",
     "text": [
      "Explaining: 100%|██████████| 10/10 [00:12<00:00,  1.25s/it]"
     ]
    },
    {
     "name": "stdout",
     "output_type": "stream",
     "text": [
      "[('This', 0, 0.5831402230262757), ('is', 1, 0.681927605867386), ('fantastic', 2, 0.8793630194664002), ('.', 3, 0.5337695809205374)]\n"
     ]
    },
    {
     "name": "stderr",
     "output_type": "stream",
     "text": [
      "\n"
     ]
    },
    {
     "data": {
      "text/html": [
       "<mark style=\"background-color: hsl(0, 100%, 67%, 0.8); line-height:1.75\">This</mark> <mark style=\"background-color: hsl(0, 100%, 62%, 0.8); line-height:1.75\">is</mark> <mark style=\"background-color: hsl(0, 100%, 50%, 0.8); line-height:1.75\">fantastic</mark> <mark style=\"background-color: hsl(0, 100%, 70%, 0.8); line-height:1.75\">.</mark>"
      ],
      "text/plain": [
       "<IPython.core.display.HTML object>"
      ]
     },
     "metadata": {},
     "output_type": "display_data"
    },
    {
     "name": "stdout",
     "output_type": "stream",
     "text": [
      "\"A fantastic film.\" - positive - 0.96\n",
      "Rise parameter p_keep was automatically determined at 0.5\n"
     ]
    },
    {
     "name": "stderr",
     "output_type": "stream",
     "text": [
      "Explaining: 100%|██████████| 10/10 [00:11<00:00,  1.14s/it]"
     ]
    },
    {
     "name": "stdout",
     "output_type": "stream",
     "text": [
      "[('A', 0, 0.5348869903087616), ('fantastic', 1, 0.8848718633651733), ('film', 2, 0.5972800052165985), ('.', 3, 0.48256877756118777)]\n"
     ]
    },
    {
     "name": "stderr",
     "output_type": "stream",
     "text": [
      "\n"
     ]
    },
    {
     "data": {
      "text/html": [
       "<mark style=\"background-color: hsl(0, 100%, 70%, 0.8); line-height:1.75\">A</mark> <mark style=\"background-color: hsl(0, 100%, 50%, 0.8); line-height:1.75\">fantastic</mark> <mark style=\"background-color: hsl(0, 100%, 67%, 0.8); line-height:1.75\">film</mark> <mark style=\"background-color: hsl(0, 100%, 73%, 0.8); line-height:1.75\">.</mark>"
      ],
      "text/plain": [
       "<IPython.core.display.HTML object>"
      ]
     },
     "metadata": {},
     "output_type": "display_data"
    },
    {
     "name": "stdout",
     "output_type": "stream",
     "text": [
      "\"It is epic.\" - positive - 0.98\n",
      "Rise parameter p_keep was automatically determined at 0.6\n"
     ]
    },
    {
     "name": "stderr",
     "output_type": "stream",
     "text": [
      "Explaining: 100%|██████████| 10/10 [00:11<00:00,  1.17s/it]"
     ]
    },
    {
     "name": "stdout",
     "output_type": "stream",
     "text": [
      "[('It', 0, 0.4265656725565592), ('is', 1, 0.6037838596105576), ('epic', 2, 0.8122246978680294), ('.', 3, 0.4705427978436154)]\n"
     ]
    },
    {
     "name": "stderr",
     "output_type": "stream",
     "text": [
      "\n"
     ]
    },
    {
     "data": {
      "text/html": [
       "<mark style=\"background-color: hsl(0, 100%, 74%, 0.8); line-height:1.75\">It</mark> <mark style=\"background-color: hsl(0, 100%, 63%, 0.8); line-height:1.75\">is</mark> <mark style=\"background-color: hsl(0, 100%, 50%, 0.8); line-height:1.75\">epic</mark> <mark style=\"background-color: hsl(0, 100%, 72%, 0.8); line-height:1.75\">.</mark>"
      ],
      "text/plain": [
       "<IPython.core.display.HTML object>"
      ]
     },
     "metadata": {},
     "output_type": "display_data"
    },
    {
     "name": "stdout",
     "output_type": "stream",
     "text": [
      "\"This is epic.\" - positive - 0.98\n",
      "Rise parameter p_keep was automatically determined at 0.6\n"
     ]
    },
    {
     "name": "stderr",
     "output_type": "stream",
     "text": [
      "Explaining: 100%|██████████| 10/10 [00:11<00:00,  1.11s/it]"
     ]
    },
    {
     "name": "stdout",
     "output_type": "stream",
     "text": [
      "[('This', 0, 0.48614103615283977), ('is', 1, 0.5080036161343255), ('epic', 2, 0.668742825984955), ('.', 3, 0.4099139573176702)]\n"
     ]
    },
    {
     "name": "stderr",
     "output_type": "stream",
     "text": [
      "\n"
     ]
    },
    {
     "data": {
      "text/html": [
       "<mark style=\"background-color: hsl(0, 100%, 64%, 0.8); line-height:1.75\">This</mark> <mark style=\"background-color: hsl(0, 100%, 63%, 0.8); line-height:1.75\">is</mark> <mark style=\"background-color: hsl(0, 100%, 50%, 0.8); line-height:1.75\">epic</mark> <mark style=\"background-color: hsl(0, 100%, 70%, 0.8); line-height:1.75\">.</mark>"
      ],
      "text/plain": [
       "<IPython.core.display.HTML object>"
      ]
     },
     "metadata": {},
     "output_type": "display_data"
    },
    {
     "name": "stdout",
     "output_type": "stream",
     "text": [
      "\"An epic film.\" - positive - 0.99\n",
      "Rise parameter p_keep was automatically determined at 0.4\n"
     ]
    },
    {
     "name": "stderr",
     "output_type": "stream",
     "text": [
      "Explaining: 100%|██████████| 10/10 [00:10<00:00,  1.10s/it]"
     ]
    },
    {
     "name": "stdout",
     "output_type": "stream",
     "text": [
      "[('An', 0, 0.29910796135663964), ('epic', 1, 0.8119950282573698), ('film', 2, 0.4938395941257476), ('.', 3, 0.3317811191082001)]\n"
     ]
    },
    {
     "name": "stderr",
     "output_type": "stream",
     "text": [
      "\n"
     ]
    },
    {
     "data": {
      "text/html": [
       "<mark style=\"background-color: hsl(0, 100%, 82%, 0.8); line-height:1.75\">An</mark> <mark style=\"background-color: hsl(0, 100%, 50%, 0.8); line-height:1.75\">epic</mark> <mark style=\"background-color: hsl(0, 100%, 70%, 0.8); line-height:1.75\">film</mark> <mark style=\"background-color: hsl(0, 100%, 80%, 0.8); line-height:1.75\">.</mark>"
      ],
      "text/plain": [
       "<IPython.core.display.HTML object>"
      ]
     },
     "metadata": {},
     "output_type": "display_data"
    },
    {
     "name": "stdout",
     "output_type": "stream",
     "text": [
      "\"It is fun.\" - positive - 0.96\n",
      "Rise parameter p_keep was automatically determined at 0.5\n"
     ]
    },
    {
     "name": "stderr",
     "output_type": "stream",
     "text": [
      "Explaining: 100%|██████████| 10/10 [00:11<00:00,  1.10s/it]"
     ]
    },
    {
     "name": "stdout",
     "output_type": "stream",
     "text": [
      "[('It', 0, 0.3123683154582977), ('is', 1, 0.46555093646049506), ('fun', 2, 0.6899021434783936), ('.', 3, 0.31763425588607785)]\n"
     ]
    },
    {
     "name": "stderr",
     "output_type": "stream",
     "text": [
      "\n"
     ]
    },
    {
     "data": {
      "text/html": [
       "<mark style=\"background-color: hsl(0, 100%, 78%, 0.8); line-height:1.75\">It</mark> <mark style=\"background-color: hsl(0, 100%, 67%, 0.8); line-height:1.75\">is</mark> <mark style=\"background-color: hsl(0, 100%, 50%, 0.8); line-height:1.75\">fun</mark> <mark style=\"background-color: hsl(0, 100%, 77%, 0.8); line-height:1.75\">.</mark>"
      ],
      "text/plain": [
       "<IPython.core.display.HTML object>"
      ]
     },
     "metadata": {},
     "output_type": "display_data"
    },
    {
     "name": "stdout",
     "output_type": "stream",
     "text": [
      "\"This is fun.\" - positive - 0.96\n",
      "Rise parameter p_keep was automatically determined at 0.5\n"
     ]
    },
    {
     "name": "stderr",
     "output_type": "stream",
     "text": [
      "Explaining: 100%|██████████| 10/10 [00:10<00:00,  1.09s/it]"
     ]
    },
    {
     "name": "stdout",
     "output_type": "stream",
     "text": [
      "[('This', 0, 0.33499760746955864), ('is', 1, 0.47786423730850225), ('fun', 2, 0.7179865818023681), ('.', 3, 0.3333597431182862)]\n"
     ]
    },
    {
     "name": "stderr",
     "output_type": "stream",
     "text": [
      "\n"
     ]
    },
    {
     "data": {
      "text/html": [
       "<mark style=\"background-color: hsl(0, 100%, 77%, 0.8); line-height:1.75\">This</mark> <mark style=\"background-color: hsl(0, 100%, 67%, 0.8); line-height:1.75\">is</mark> <mark style=\"background-color: hsl(0, 100%, 50%, 0.8); line-height:1.75\">fun</mark> <mark style=\"background-color: hsl(0, 100%, 77%, 0.8); line-height:1.75\">.</mark>"
      ],
      "text/plain": [
       "<IPython.core.display.HTML object>"
      ]
     },
     "metadata": {},
     "output_type": "display_data"
    },
    {
     "name": "stdout",
     "output_type": "stream",
     "text": [
      "\"A fun film.\" - positive - 0.99\n",
      "Rise parameter p_keep was automatically determined at 0.5\n"
     ]
    },
    {
     "name": "stderr",
     "output_type": "stream",
     "text": [
      "Explaining: 100%|██████████| 10/10 [00:10<00:00,  1.09s/it]"
     ]
    },
    {
     "name": "stdout",
     "output_type": "stream",
     "text": [
      "[('A', 0, 0.48012787294387826), ('fun', 1, 0.8099143199920655), ('film', 2, 0.617053150653839), ('.', 3, 0.36615340900421134)]\n"
     ]
    },
    {
     "name": "stderr",
     "output_type": "stream",
     "text": [
      "\n"
     ]
    },
    {
     "data": {
      "text/html": [
       "<mark style=\"background-color: hsl(0, 100%, 71%, 0.8); line-height:1.75\">A</mark> <mark style=\"background-color: hsl(0, 100%, 50%, 0.8); line-height:1.75\">fun</mark> <mark style=\"background-color: hsl(0, 100%, 62%, 0.8); line-height:1.75\">film</mark> <mark style=\"background-color: hsl(0, 100%, 78%, 0.8); line-height:1.75\">.</mark>"
      ],
      "text/plain": [
       "<IPython.core.display.HTML object>"
      ]
     },
     "metadata": {},
     "output_type": "display_data"
    },
    {
     "name": "stdout",
     "output_type": "stream",
     "text": [
      "\"It is better.\" - positive - 0.81\n",
      "Rise parameter p_keep was automatically determined at 0.5\n"
     ]
    },
    {
     "name": "stderr",
     "output_type": "stream",
     "text": [
      "Explaining: 100%|██████████| 10/10 [00:10<00:00,  1.08s/it]"
     ]
    },
    {
     "name": "stdout",
     "output_type": "stream",
     "text": [
      "[('It', 0, 0.2229043970108031), ('is', 1, 0.27963654470443733), ('better', 2, 0.27186008214950563), ('.', 3, 0.16006329441070566)]\n"
     ]
    },
    {
     "name": "stderr",
     "output_type": "stream",
     "text": [
      "\n"
     ]
    },
    {
     "data": {
      "text/html": [
       "<mark style=\"background-color: hsl(0, 100%, 61%, 0.8); line-height:1.75\">It</mark> <mark style=\"background-color: hsl(0, 100%, 50%, 0.8); line-height:1.75\">is</mark> <mark style=\"background-color: hsl(0, 100%, 52%, 0.8); line-height:1.75\">better</mark> <mark style=\"background-color: hsl(0, 100%, 72%, 0.8); line-height:1.75\">.</mark>"
      ],
      "text/plain": [
       "<IPython.core.display.HTML object>"
      ]
     },
     "metadata": {},
     "output_type": "display_data"
    },
    {
     "name": "stdout",
     "output_type": "stream",
     "text": [
      "\"This is better.\" - positive - 0.81\n",
      "Rise parameter p_keep was automatically determined at 0.6\n"
     ]
    },
    {
     "name": "stderr",
     "output_type": "stream",
     "text": [
      "Explaining: 100%|██████████| 10/10 [00:10<00:00,  1.09s/it]"
     ]
    },
    {
     "name": "stdout",
     "output_type": "stream",
     "text": [
      "[('This', 0, 0.24490986764431022), ('is', 1, 0.31196180045604716), ('better', 2, 0.3150339321295421), ('.', 3, 0.19055515786012012)]\n"
     ]
    },
    {
     "name": "stderr",
     "output_type": "stream",
     "text": [
      "\n"
     ]
    },
    {
     "data": {
      "text/html": [
       "<mark style=\"background-color: hsl(0, 100%, 62%, 0.8); line-height:1.75\">This</mark> <mark style=\"background-color: hsl(0, 100%, 51%, 0.8); line-height:1.75\">is</mark> <mark style=\"background-color: hsl(0, 100%, 50%, 0.8); line-height:1.75\">better</mark> <mark style=\"background-color: hsl(0, 100%, 70%, 0.8); line-height:1.75\">.</mark>"
      ],
      "text/plain": [
       "<IPython.core.display.HTML object>"
      ]
     },
     "metadata": {},
     "output_type": "display_data"
    },
    {
     "name": "stdout",
     "output_type": "stream",
     "text": [
      "\"A better film.\" - positive - 0.75\n",
      "Rise parameter p_keep was automatically determined at 0.4\n"
     ]
    },
    {
     "name": "stderr",
     "output_type": "stream",
     "text": [
      "Explaining: 100%|██████████| 10/10 [00:11<00:00,  1.11s/it]"
     ]
    },
    {
     "name": "stdout",
     "output_type": "stream",
     "text": [
      "[('A', 0, 0.19015731960535054), ('better', 1, 0.3782711064815518), ('film', 2, 0.28631809473037695), ('.', 3, 0.1621014446020126)]\n"
     ]
    },
    {
     "name": "stderr",
     "output_type": "stream",
     "text": [
      "\n"
     ]
    },
    {
     "data": {
      "text/html": [
       "<mark style=\"background-color: hsl(0, 100%, 75%, 0.8); line-height:1.75\">A</mark> <mark style=\"background-color: hsl(0, 100%, 50%, 0.8); line-height:1.75\">better</mark> <mark style=\"background-color: hsl(0, 100%, 63%, 0.8); line-height:1.75\">film</mark> <mark style=\"background-color: hsl(0, 100%, 79%, 0.8); line-height:1.75\">.</mark>"
      ],
      "text/plain": [
       "<IPython.core.display.HTML object>"
      ]
     },
     "metadata": {},
     "output_type": "display_data"
    },
    {
     "name": "stdout",
     "output_type": "stream",
     "text": [
      "\"It is perfect.\" - positive - 0.98\n",
      "Rise parameter p_keep was automatically determined at 0.5\n"
     ]
    },
    {
     "name": "stderr",
     "output_type": "stream",
     "text": [
      "Explaining: 100%|██████████| 10/10 [00:11<00:00,  1.12s/it]"
     ]
    },
    {
     "name": "stdout",
     "output_type": "stream",
     "text": [
      "[('It', 0, 0.46873569226264955), ('is', 1, 0.4827871844768523), ('perfect', 2, 0.7831832041740419), ('.', 3, 0.32665034365654)]\n"
     ]
    },
    {
     "name": "stderr",
     "output_type": "stream",
     "text": [
      "\n"
     ]
    },
    {
     "data": {
      "text/html": [
       "<mark style=\"background-color: hsl(0, 100%, 71%, 0.8); line-height:1.75\">It</mark> <mark style=\"background-color: hsl(0, 100%, 70%, 0.8); line-height:1.75\">is</mark> <mark style=\"background-color: hsl(0, 100%, 50%, 0.8); line-height:1.75\">perfect</mark> <mark style=\"background-color: hsl(0, 100%, 80%, 0.8); line-height:1.75\">.</mark>"
      ],
      "text/plain": [
       "<IPython.core.display.HTML object>"
      ]
     },
     "metadata": {},
     "output_type": "display_data"
    },
    {
     "name": "stdout",
     "output_type": "stream",
     "text": [
      "\"This is perfect.\" - positive - 0.98\n",
      "Rise parameter p_keep was automatically determined at 0.6\n"
     ]
    },
    {
     "name": "stderr",
     "output_type": "stream",
     "text": [
      "Explaining: 100%|██████████| 10/10 [00:10<00:00,  1.08s/it]"
     ]
    },
    {
     "name": "stdout",
     "output_type": "stream",
     "text": [
      "[('This', 0, 0.520197066863378), ('is', 1, 0.526803737282753), ('perfect', 2, 0.8243550443649292), ('.', 3, 0.5095004365841549)]\n"
     ]
    },
    {
     "name": "stderr",
     "output_type": "stream",
     "text": [
      "\n"
     ]
    },
    {
     "data": {
      "text/html": [
       "<mark style=\"background-color: hsl(0, 100%, 69%, 0.8); line-height:1.75\">This</mark> <mark style=\"background-color: hsl(0, 100%, 69%, 0.8); line-height:1.75\">is</mark> <mark style=\"background-color: hsl(0, 100%, 50%, 0.8); line-height:1.75\">perfect</mark> <mark style=\"background-color: hsl(0, 100%, 70%, 0.8); line-height:1.75\">.</mark>"
      ],
      "text/plain": [
       "<IPython.core.display.HTML object>"
      ]
     },
     "metadata": {},
     "output_type": "display_data"
    },
    {
     "name": "stdout",
     "output_type": "stream",
     "text": [
      "\"A perfect film.\" - positive - 0.99\n",
      "Rise parameter p_keep was automatically determined at 0.4\n"
     ]
    },
    {
     "name": "stderr",
     "output_type": "stream",
     "text": [
      "Explaining: 100%|██████████| 10/10 [00:11<00:00,  1.11s/it]"
     ]
    },
    {
     "name": "stdout",
     "output_type": "stream",
     "text": [
      "[('A', 0, 0.5106867471337317), ('perfect', 1, 0.909725746810436), ('film', 2, 0.43125056803226447), ('.', 3, 0.38780444562435146)]\n"
     ]
    },
    {
     "name": "stderr",
     "output_type": "stream",
     "text": [
      "\n"
     ]
    },
    {
     "data": {
      "text/html": [
       "<mark style=\"background-color: hsl(0, 100%, 72%, 0.8); line-height:1.75\">A</mark> <mark style=\"background-color: hsl(0, 100%, 50%, 0.8); line-height:1.75\">perfect</mark> <mark style=\"background-color: hsl(0, 100%, 77%, 0.8); line-height:1.75\">film</mark> <mark style=\"background-color: hsl(0, 100%, 79%, 0.8); line-height:1.75\">.</mark>"
      ],
      "text/plain": [
       "<IPython.core.display.HTML object>"
      ]
     },
     "metadata": {},
     "output_type": "display_data"
    },
    {
     "name": "stdout",
     "output_type": "stream",
     "text": [
      "\"It is successful.\" - positive - 0.92\n",
      "Rise parameter p_keep was automatically determined at 0.5\n"
     ]
    },
    {
     "name": "stderr",
     "output_type": "stream",
     "text": [
      "Explaining: 100%|██████████| 10/10 [00:10<00:00,  1.09s/it]"
     ]
    },
    {
     "name": "stdout",
     "output_type": "stream",
     "text": [
      "[('It', 0, 0.3460609502792358), ('is', 1, 0.48735103821754455), ('successful', 2, 0.5839242827892304), ('.', 3, 0.30105537533760063)]\n"
     ]
    },
    {
     "name": "stderr",
     "output_type": "stream",
     "text": [
      "\n"
     ]
    },
    {
     "data": {
      "text/html": [
       "<mark style=\"background-color: hsl(0, 100%, 71%, 0.8); line-height:1.75\">It</mark> <mark style=\"background-color: hsl(0, 100%, 59%, 0.8); line-height:1.75\">is</mark> <mark style=\"background-color: hsl(0, 100%, 50%, 0.8); line-height:1.75\">successful</mark> <mark style=\"background-color: hsl(0, 100%, 75%, 0.8); line-height:1.75\">.</mark>"
      ],
      "text/plain": [
       "<IPython.core.display.HTML object>"
      ]
     },
     "metadata": {},
     "output_type": "display_data"
    },
    {
     "name": "stdout",
     "output_type": "stream",
     "text": [
      "\"This is successful.\" - positive - 0.92\n",
      "Rise parameter p_keep was automatically determined at 0.5\n"
     ]
    },
    {
     "name": "stderr",
     "output_type": "stream",
     "text": [
      "Explaining: 100%|██████████| 10/10 [00:10<00:00,  1.08s/it]"
     ]
    },
    {
     "name": "stdout",
     "output_type": "stream",
     "text": [
      "[('This', 0, 0.3509898409843444), ('is', 1, 0.35278276085853566), ('successful', 2, 0.6162988781929015), ('.', 3, 0.30926126360893247)]\n"
     ]
    },
    {
     "name": "stderr",
     "output_type": "stream",
     "text": [
      "\n"
     ]
    },
    {
     "data": {
      "text/html": [
       "<mark style=\"background-color: hsl(0, 100%, 72%, 0.8); line-height:1.75\">This</mark> <mark style=\"background-color: hsl(0, 100%, 72%, 0.8); line-height:1.75\">is</mark> <mark style=\"background-color: hsl(0, 100%, 50%, 0.8); line-height:1.75\">successful</mark> <mark style=\"background-color: hsl(0, 100%, 75%, 0.8); line-height:1.75\">.</mark>"
      ],
      "text/plain": [
       "<IPython.core.display.HTML object>"
      ]
     },
     "metadata": {},
     "output_type": "display_data"
    },
    {
     "name": "stdout",
     "output_type": "stream",
     "text": [
      "\"A successful film.\" - positive - 0.93\n",
      "Rise parameter p_keep was automatically determined at 0.6\n"
     ]
    },
    {
     "name": "stderr",
     "output_type": "stream",
     "text": [
      "Explaining: 100%|██████████| 10/10 [00:11<00:00,  1.15s/it]"
     ]
    },
    {
     "name": "stdout",
     "output_type": "stream",
     "text": [
      "[('A', 0, 0.41850760916868857), ('successful', 1, 0.7814741547902424), ('film', 2, 0.49474263270695995), ('.', 3, 0.42959434012571984)]\n"
     ]
    },
    {
     "name": "stderr",
     "output_type": "stream",
     "text": [
      "\n"
     ]
    },
    {
     "data": {
      "text/html": [
       "<mark style=\"background-color: hsl(0, 100%, 74%, 0.8); line-height:1.75\">A</mark> <mark style=\"background-color: hsl(0, 100%, 50%, 0.8); line-height:1.75\">successful</mark> <mark style=\"background-color: hsl(0, 100%, 69%, 0.8); line-height:1.75\">film</mark> <mark style=\"background-color: hsl(0, 100%, 73%, 0.8); line-height:1.75\">.</mark>"
      ],
      "text/plain": [
       "<IPython.core.display.HTML object>"
      ]
     },
     "metadata": {},
     "output_type": "display_data"
    },
    {
     "name": "stdout",
     "output_type": "stream",
     "text": [
      "\"It is great.\" - positive - 0.99\n",
      "Rise parameter p_keep was automatically determined at 0.5\n"
     ]
    },
    {
     "name": "stderr",
     "output_type": "stream",
     "text": [
      "Explaining: 100%|██████████| 10/10 [00:11<00:00,  1.12s/it]"
     ]
    },
    {
     "name": "stdout",
     "output_type": "stream",
     "text": [
      "[('It', 0, 0.4472351307868958), ('is', 1, 0.38047654557228094), ('great', 2, 0.9093245992660521), ('.', 3, 0.4863651657104493)]\n"
     ]
    },
    {
     "name": "stderr",
     "output_type": "stream",
     "text": [
      "\n"
     ]
    },
    {
     "data": {
      "text/html": [
       "<mark style=\"background-color: hsl(0, 100%, 76%, 0.8); line-height:1.75\">It</mark> <mark style=\"background-color: hsl(0, 100%, 80%, 0.8); line-height:1.75\">is</mark> <mark style=\"background-color: hsl(0, 100%, 50%, 0.8); line-height:1.75\">great</mark> <mark style=\"background-color: hsl(0, 100%, 74%, 0.8); line-height:1.75\">.</mark>"
      ],
      "text/plain": [
       "<IPython.core.display.HTML object>"
      ]
     },
     "metadata": {},
     "output_type": "display_data"
    },
    {
     "name": "stdout",
     "output_type": "stream",
     "text": [
      "\"This is great.\" - positive - 0.99\n",
      "Rise parameter p_keep was automatically determined at 0.5\n"
     ]
    },
    {
     "name": "stderr",
     "output_type": "stream",
     "text": [
      "Explaining: 100%|██████████| 10/10 [00:10<00:00,  1.08s/it]"
     ]
    },
    {
     "name": "stdout",
     "output_type": "stream",
     "text": [
      "[('This', 0, 0.43020342206954965), ('is', 1, 0.44509758877754213), ('great', 2, 0.8620116057395935), ('.', 3, 0.38653657364845273)]\n"
     ]
    },
    {
     "name": "stderr",
     "output_type": "stream",
     "text": [
      "\n"
     ]
    },
    {
     "data": {
      "text/html": [
       "<mark style=\"background-color: hsl(0, 100%, 76%, 0.8); line-height:1.75\">This</mark> <mark style=\"background-color: hsl(0, 100%, 75%, 0.8); line-height:1.75\">is</mark> <mark style=\"background-color: hsl(0, 100%, 50%, 0.8); line-height:1.75\">great</mark> <mark style=\"background-color: hsl(0, 100%, 78%, 0.8); line-height:1.75\">.</mark>"
      ],
      "text/plain": [
       "<IPython.core.display.HTML object>"
      ]
     },
     "metadata": {},
     "output_type": "display_data"
    },
    {
     "name": "stdout",
     "output_type": "stream",
     "text": [
      "\"A great film.\" - positive - 0.99\n",
      "Rise parameter p_keep was automatically determined at 0.5\n"
     ]
    },
    {
     "name": "stderr",
     "output_type": "stream",
     "text": [
      "Explaining: 100%|██████████| 10/10 [00:10<00:00,  1.08s/it]"
     ]
    },
    {
     "name": "stdout",
     "output_type": "stream",
     "text": [
      "[('A', 0, 0.5753833584785462), ('great', 1, 0.9491307132244111), ('film', 2, 0.5616851372718812), ('.', 3, 0.4112973949909211)]\n"
     ]
    },
    {
     "name": "stderr",
     "output_type": "stream",
     "text": [
      "\n"
     ]
    },
    {
     "data": {
      "text/html": [
       "<mark style=\"background-color: hsl(0, 100%, 70%, 0.8); line-height:1.75\">A</mark> <mark style=\"background-color: hsl(0, 100%, 50%, 0.8); line-height:1.75\">great</mark> <mark style=\"background-color: hsl(0, 100%, 71%, 0.8); line-height:1.75\">film</mark> <mark style=\"background-color: hsl(0, 100%, 79%, 0.8); line-height:1.75\">.</mark>"
      ],
      "text/plain": [
       "<IPython.core.display.HTML object>"
      ]
     },
     "metadata": {},
     "output_type": "display_data"
    },
    {
     "name": "stdout",
     "output_type": "stream",
     "text": [
      "\"It is excellent.\" - positive - 0.98\n",
      "Rise parameter p_keep was automatically determined at 0.5\n"
     ]
    },
    {
     "name": "stderr",
     "output_type": "stream",
     "text": [
      "Explaining: 100%|██████████| 10/10 [00:10<00:00,  1.08s/it]"
     ]
    },
    {
     "name": "stdout",
     "output_type": "stream",
     "text": [
      "[('It', 0, 0.5881825051307679), ('is', 1, 0.5553840618133545), ('excellent', 2, 1.0252336022853852), ('.', 3, 0.4233171002864837)]\n"
     ]
    },
    {
     "name": "stderr",
     "output_type": "stream",
     "text": [
      "\n"
     ]
    },
    {
     "data": {
      "text/html": [
       "<mark style=\"background-color: hsl(0, 100%, 72%, 0.8); line-height:1.75\">It</mark> <mark style=\"background-color: hsl(0, 100%, 73%, 0.8); line-height:1.75\">is</mark> <mark style=\"background-color: hsl(0, 100%, 50%, 0.8); line-height:1.75\">excellent</mark> <mark style=\"background-color: hsl(0, 100%, 80%, 0.8); line-height:1.75\">.</mark>"
      ],
      "text/plain": [
       "<IPython.core.display.HTML object>"
      ]
     },
     "metadata": {},
     "output_type": "display_data"
    },
    {
     "name": "stdout",
     "output_type": "stream",
     "text": [
      "\"This is excellent.\" - positive - 0.98\n",
      "Rise parameter p_keep was automatically determined at 0.4\n"
     ]
    },
    {
     "name": "stderr",
     "output_type": "stream",
     "text": [
      "Explaining: 100%|██████████| 10/10 [00:11<00:00,  1.13s/it]"
     ]
    },
    {
     "name": "stdout",
     "output_type": "stream",
     "text": [
      "[('This', 0, 0.4077163070440293), ('is', 1, 0.42785945147275894), ('excellent', 2, 0.9340269747376442), ('.', 3, 0.3003734549880026)]\n"
     ]
    },
    {
     "name": "stderr",
     "output_type": "stream",
     "text": [
      "\n"
     ]
    },
    {
     "data": {
      "text/html": [
       "<mark style=\"background-color: hsl(0, 100%, 79%, 0.8); line-height:1.75\">This</mark> <mark style=\"background-color: hsl(0, 100%, 78%, 0.8); line-height:1.75\">is</mark> <mark style=\"background-color: hsl(0, 100%, 50%, 0.8); line-height:1.75\">excellent</mark> <mark style=\"background-color: hsl(0, 100%, 84%, 0.8); line-height:1.75\">.</mark>"
      ],
      "text/plain": [
       "<IPython.core.display.HTML object>"
      ]
     },
     "metadata": {},
     "output_type": "display_data"
    },
    {
     "name": "stdout",
     "output_type": "stream",
     "text": [
      "\"An excellent film.\" - positive - 0.99\n",
      "Rise parameter p_keep was automatically determined at 0.30000000000000004\n"
     ]
    },
    {
     "name": "stderr",
     "output_type": "stream",
     "text": [
      "Explaining: 100%|██████████| 10/10 [00:10<00:00,  1.10s/it]"
     ]
    },
    {
     "name": "stdout",
     "output_type": "stream",
     "text": [
      "[('An', 0, 0.5086922466754911), ('excellent', 1, 0.9055279958248137), ('film', 2, 0.3845957752068836), ('.', 3, 0.27592049956321696)]\n"
     ]
    },
    {
     "name": "stderr",
     "output_type": "stream",
     "text": [
      "\n"
     ]
    },
    {
     "data": {
      "text/html": [
       "<mark style=\"background-color: hsl(0, 100%, 72%, 0.8); line-height:1.75\">An</mark> <mark style=\"background-color: hsl(0, 100%, 50%, 0.8); line-height:1.75\">excellent</mark> <mark style=\"background-color: hsl(0, 100%, 79%, 0.8); line-height:1.75\">film</mark> <mark style=\"background-color: hsl(0, 100%, 85%, 0.8); line-height:1.75\">.</mark>"
      ],
      "text/plain": [
       "<IPython.core.display.HTML object>"
      ]
     },
     "metadata": {},
     "output_type": "display_data"
    },
    {
     "name": "stdout",
     "output_type": "stream",
     "text": [
      "\"It is hilarious.\" - positive - 0.99\n",
      "Rise parameter p_keep was automatically determined at 0.5\n"
     ]
    },
    {
     "name": "stderr",
     "output_type": "stream",
     "text": [
      "Explaining: 100%|██████████| 10/10 [00:10<00:00,  1.07s/it]"
     ]
    },
    {
     "name": "stdout",
     "output_type": "stream",
     "text": [
      "[('It', 0, 0.30829631543159475), ('is', 1, 0.45397891449928274), ('hilarious', 2, 0.540645616054535), ('.', 3, 0.2385751078128815)]\n"
     ]
    },
    {
     "name": "stderr",
     "output_type": "stream",
     "text": [
      "\n"
     ]
    },
    {
     "data": {
      "text/html": [
       "<mark style=\"background-color: hsl(0, 100%, 72%, 0.8); line-height:1.75\">It</mark> <mark style=\"background-color: hsl(0, 100%, 59%, 0.8); line-height:1.75\">is</mark> <mark style=\"background-color: hsl(0, 100%, 50%, 0.8); line-height:1.75\">hilarious</mark> <mark style=\"background-color: hsl(0, 100%, 78%, 0.8); line-height:1.75\">.</mark>"
      ],
      "text/plain": [
       "<IPython.core.display.HTML object>"
      ]
     },
     "metadata": {},
     "output_type": "display_data"
    },
    {
     "name": "stdout",
     "output_type": "stream",
     "text": [
      "\"This is hilarious.\" - positive - 0.99\n",
      "Rise parameter p_keep was automatically determined at 0.30000000000000004\n"
     ]
    },
    {
     "name": "stderr",
     "output_type": "stream",
     "text": [
      "Explaining: 100%|██████████| 10/10 [00:10<00:00,  1.09s/it]"
     ]
    },
    {
     "name": "stdout",
     "output_type": "stream",
     "text": [
      "[('This', 0, 0.24822186509768152), ('is', 1, 0.35550895452499365), ('hilarious', 2, 0.6094509800275163), ('.', 3, 0.2309116212526956)]\n"
     ]
    },
    {
     "name": "stderr",
     "output_type": "stream",
     "text": [
      "\n"
     ]
    },
    {
     "data": {
      "text/html": [
       "<mark style=\"background-color: hsl(0, 100%, 80%, 0.8); line-height:1.75\">This</mark> <mark style=\"background-color: hsl(0, 100%, 71%, 0.8); line-height:1.75\">is</mark> <mark style=\"background-color: hsl(0, 100%, 50%, 0.8); line-height:1.75\">hilarious</mark> <mark style=\"background-color: hsl(0, 100%, 82%, 0.8); line-height:1.75\">.</mark>"
      ],
      "text/plain": [
       "<IPython.core.display.HTML object>"
      ]
     },
     "metadata": {},
     "output_type": "display_data"
    },
    {
     "name": "stdout",
     "output_type": "stream",
     "text": [
      "\"A hilarious film.\" - positive - 1.00\n",
      "Rise parameter p_keep was automatically determined at 0.4\n"
     ]
    },
    {
     "name": "stderr",
     "output_type": "stream",
     "text": [
      "Explaining: 100%|██████████| 10/10 [00:10<00:00,  1.07s/it]"
     ]
    },
    {
     "name": "stdout",
     "output_type": "stream",
     "text": [
      "[('A', 0, 0.376074872612953), ('hilarious', 1, 0.7052981206774711), ('film', 2, 0.4355512493848801), ('.', 3, 0.21670884341001506)]\n"
     ]
    },
    {
     "name": "stderr",
     "output_type": "stream",
     "text": [
      "\n"
     ]
    },
    {
     "data": {
      "text/html": [
       "<mark style=\"background-color: hsl(0, 100%, 74%, 0.8); line-height:1.75\">A</mark> <mark style=\"background-color: hsl(0, 100%, 50%, 0.8); line-height:1.75\">hilarious</mark> <mark style=\"background-color: hsl(0, 100%, 70%, 0.8); line-height:1.75\">film</mark> <mark style=\"background-color: hsl(0, 100%, 85%, 0.8); line-height:1.75\">.</mark>"
      ],
      "text/plain": [
       "<IPython.core.display.HTML object>"
      ]
     },
     "metadata": {},
     "output_type": "display_data"
    },
    {
     "name": "stdout",
     "output_type": "stream",
     "text": [
      "\"It is fabulous.\" - positive - 0.81\n",
      "Rise parameter p_keep was automatically determined at 0.5\n"
     ]
    },
    {
     "name": "stderr",
     "output_type": "stream",
     "text": [
      "Explaining: 100%|██████████| 10/10 [00:10<00:00,  1.07s/it]"
     ]
    },
    {
     "name": "stdout",
     "output_type": "stream",
     "text": [
      "[('It', 0, 0.3755423848628998), ('is', 1, 0.5087084772586823), ('fabulous', 2, 0.7099535596370696), ('.', 3, 0.2400279953479767)]\n"
     ]
    },
    {
     "name": "stderr",
     "output_type": "stream",
     "text": [
      "\n"
     ]
    },
    {
     "data": {
      "text/html": [
       "<mark style=\"background-color: hsl(0, 100%, 74%, 0.8); line-height:1.75\">It</mark> <mark style=\"background-color: hsl(0, 100%, 65%, 0.8); line-height:1.75\">is</mark> <mark style=\"background-color: hsl(0, 100%, 50%, 0.8); line-height:1.75\">fabulous</mark> <mark style=\"background-color: hsl(0, 100%, 84%, 0.8); line-height:1.75\">.</mark>"
      ],
      "text/plain": [
       "<IPython.core.display.HTML object>"
      ]
     },
     "metadata": {},
     "output_type": "display_data"
    },
    {
     "name": "stdout",
     "output_type": "stream",
     "text": [
      "\"This is fabulous.\" - positive - 0.81\n",
      "Rise parameter p_keep was automatically determined at 0.5\n"
     ]
    },
    {
     "name": "stderr",
     "output_type": "stream",
     "text": [
      "Explaining: 100%|██████████| 10/10 [00:10<00:00,  1.07s/it]"
     ]
    },
    {
     "name": "stdout",
     "output_type": "stream",
     "text": [
      "[('This', 0, 0.3845798275470733), ('is', 1, 0.4830061588287353), ('fabulous', 2, 0.7426809253692628), ('.', 3, 0.41741788029670723)]\n"
     ]
    },
    {
     "name": "stderr",
     "output_type": "stream",
     "text": [
      "\n"
     ]
    },
    {
     "data": {
      "text/html": [
       "<mark style=\"background-color: hsl(0, 100%, 75%, 0.8); line-height:1.75\">This</mark> <mark style=\"background-color: hsl(0, 100%, 68%, 0.8); line-height:1.75\">is</mark> <mark style=\"background-color: hsl(0, 100%, 50%, 0.8); line-height:1.75\">fabulous</mark> <mark style=\"background-color: hsl(0, 100%, 72%, 0.8); line-height:1.75\">.</mark>"
      ],
      "text/plain": [
       "<IPython.core.display.HTML object>"
      ]
     },
     "metadata": {},
     "output_type": "display_data"
    },
    {
     "name": "stdout",
     "output_type": "stream",
     "text": [
      "\"A fabulous film.\" - positive - 0.62\n",
      "Rise parameter p_keep was automatically determined at 0.5\n"
     ]
    },
    {
     "name": "stderr",
     "output_type": "stream",
     "text": [
      "Explaining: 100%|██████████| 10/10 [00:10<00:00,  1.08s/it]"
     ]
    },
    {
     "name": "stdout",
     "output_type": "stream",
     "text": [
      "[('A', 0, 0.38522363805770876), ('fabulous', 1, 0.7074408683776856), ('film', 2, 0.584230966091156), ('.', 3, 0.31085398721694957)]\n"
     ]
    },
    {
     "name": "stderr",
     "output_type": "stream",
     "text": [
      "\n"
     ]
    },
    {
     "data": {
      "text/html": [
       "<mark style=\"background-color: hsl(0, 100%, 73%, 0.8); line-height:1.75\">A</mark> <mark style=\"background-color: hsl(0, 100%, 50%, 0.8); line-height:1.75\">fabulous</mark> <mark style=\"background-color: hsl(0, 100%, 59%, 0.8); line-height:1.75\">film</mark> <mark style=\"background-color: hsl(0, 100%, 79%, 0.8); line-height:1.75\">.</mark>"
      ],
      "text/plain": [
       "<IPython.core.display.HTML object>"
      ]
     },
     "metadata": {},
     "output_type": "display_data"
    },
    {
     "name": "stdout",
     "output_type": "stream",
     "text": [
      "\"It is brilliant.\" - positive - 1.00\n",
      "Rise parameter p_keep was automatically determined at 0.4\n"
     ]
    },
    {
     "name": "stderr",
     "output_type": "stream",
     "text": [
      "Explaining: 100%|██████████| 10/10 [00:10<00:00,  1.08s/it]"
     ]
    },
    {
     "name": "stdout",
     "output_type": "stream",
     "text": [
      "[('It', 0, 0.36080170691013325), ('is', 1, 0.5245882087945939), ('brilliant', 2, 0.9403104940056799), ('.', 3, 0.3010956782102583)]\n"
     ]
    },
    {
     "name": "stderr",
     "output_type": "stream",
     "text": [
      "\n"
     ]
    },
    {
     "data": {
      "text/html": [
       "<mark style=\"background-color: hsl(0, 100%, 81%, 0.8); line-height:1.75\">It</mark> <mark style=\"background-color: hsl(0, 100%, 73%, 0.8); line-height:1.75\">is</mark> <mark style=\"background-color: hsl(0, 100%, 50%, 0.8); line-height:1.75\">brilliant</mark> <mark style=\"background-color: hsl(0, 100%, 84%, 0.8); line-height:1.75\">.</mark>"
      ],
      "text/plain": [
       "<IPython.core.display.HTML object>"
      ]
     },
     "metadata": {},
     "output_type": "display_data"
    },
    {
     "name": "stdout",
     "output_type": "stream",
     "text": [
      "\"This is brilliant.\" - positive - 1.00\n",
      "Rise parameter p_keep was automatically determined at 0.6\n"
     ]
    },
    {
     "name": "stderr",
     "output_type": "stream",
     "text": [
      "Explaining: 100%|██████████| 10/10 [00:11<00:00,  1.12s/it]"
     ]
    },
    {
     "name": "stdout",
     "output_type": "stream",
     "text": [
      "[('This', 0, 0.5770493115981419), ('is', 1, 0.63089160323143), ('brilliant', 2, 0.9451508782307307), ('.', 3, 0.5114707112312318)]\n"
     ]
    },
    {
     "name": "stderr",
     "output_type": "stream",
     "text": [
      "\n"
     ]
    },
    {
     "data": {
      "text/html": [
       "<mark style=\"background-color: hsl(0, 100%, 70%, 0.8); line-height:1.75\">This</mark> <mark style=\"background-color: hsl(0, 100%, 67%, 0.8); line-height:1.75\">is</mark> <mark style=\"background-color: hsl(0, 100%, 50%, 0.8); line-height:1.75\">brilliant</mark> <mark style=\"background-color: hsl(0, 100%, 73%, 0.8); line-height:1.75\">.</mark>"
      ],
      "text/plain": [
       "<IPython.core.display.HTML object>"
      ]
     },
     "metadata": {},
     "output_type": "display_data"
    },
    {
     "name": "stdout",
     "output_type": "stream",
     "text": [
      "\"A brilliant film.\" - positive - 1.00\n",
      "Rise parameter p_keep was automatically determined at 0.4\n"
     ]
    },
    {
     "name": "stderr",
     "output_type": "stream",
     "text": [
      "Explaining: 100%|██████████| 10/10 [00:11<00:00,  1.11s/it]"
     ]
    },
    {
     "name": "stdout",
     "output_type": "stream",
     "text": [
      "[('A', 0, 0.4953758588433266), ('brilliant', 1, 1.062733949422836), ('film', 2, 0.48774639964103694), ('.', 3, 0.42380096614360796)]\n"
     ]
    },
    {
     "name": "stderr",
     "output_type": "stream",
     "text": [
      "\n"
     ]
    },
    {
     "data": {
      "text/html": [
       "<mark style=\"background-color: hsl(0, 100%, 77%, 0.8); line-height:1.75\">A</mark> <mark style=\"background-color: hsl(0, 100%, 50%, 0.8); line-height:1.75\">brilliant</mark> <mark style=\"background-color: hsl(0, 100%, 78%, 0.8); line-height:1.75\">film</mark> <mark style=\"background-color: hsl(0, 100%, 81%, 0.8); line-height:1.75\">.</mark>"
      ],
      "text/plain": [
       "<IPython.core.display.HTML object>"
      ]
     },
     "metadata": {},
     "output_type": "display_data"
    },
    {
     "name": "stdout",
     "output_type": "stream",
     "text": [
      "\"It is Spectacular.\" - positive - 0.80\n",
      "Rise parameter p_keep was automatically determined at 0.6\n"
     ]
    },
    {
     "name": "stderr",
     "output_type": "stream",
     "text": [
      "Explaining: 100%|██████████| 10/10 [00:10<00:00,  1.09s/it]"
     ]
    },
    {
     "name": "stdout",
     "output_type": "stream",
     "text": [
      "[('It', 0, 0.033726154764493366), ('is', 1, 0.1379570156335832), ('Spectacular', 2, 0.0761380741993587), ('.', 3, 0.03216756482919059)]\n"
     ]
    },
    {
     "name": "stderr",
     "output_type": "stream",
     "text": [
      "\n"
     ]
    },
    {
     "data": {
      "text/html": [
       "<mark style=\"background-color: hsl(0, 100%, 88%, 0.8); line-height:1.75\">It</mark> <mark style=\"background-color: hsl(0, 100%, 50%, 0.8); line-height:1.75\">is</mark> <mark style=\"background-color: hsl(0, 100%, 73%, 0.8); line-height:1.75\">Spectacular</mark> <mark style=\"background-color: hsl(0, 100%, 89%, 0.8); line-height:1.75\">.</mark>"
      ],
      "text/plain": [
       "<IPython.core.display.HTML object>"
      ]
     },
     "metadata": {},
     "output_type": "display_data"
    },
    {
     "name": "stdout",
     "output_type": "stream",
     "text": [
      "\"This is Spectacular.\" - positive - 0.80\n",
      "Rise parameter p_keep was automatically determined at 0.7000000000000001\n"
     ]
    },
    {
     "name": "stderr",
     "output_type": "stream",
     "text": [
      "Explaining: 100%|██████████| 10/10 [00:11<00:00,  1.13s/it]"
     ]
    },
    {
     "name": "stdout",
     "output_type": "stream",
     "text": [
      "[('This', 0, 0.050582825967243616), ('is', 1, 0.15108589819499407), ('Spectacular', 2, 0.0652480375766753), ('.', 3, 0.031843557017189994)]\n"
     ]
    },
    {
     "name": "stderr",
     "output_type": "stream",
     "text": [
      "\n"
     ]
    },
    {
     "data": {
      "text/html": [
       "<mark style=\"background-color: hsl(0, 100%, 84%, 0.8); line-height:1.75\">This</mark> <mark style=\"background-color: hsl(0, 100%, 50%, 0.8); line-height:1.75\">is</mark> <mark style=\"background-color: hsl(0, 100%, 79%, 0.8); line-height:1.75\">Spectacular</mark> <mark style=\"background-color: hsl(0, 100%, 90%, 0.8); line-height:1.75\">.</mark>"
      ],
      "text/plain": [
       "<IPython.core.display.HTML object>"
      ]
     },
     "metadata": {},
     "output_type": "display_data"
    },
    {
     "name": "stdout",
     "output_type": "stream",
     "text": [
      "\"A Spectacular film.\" - positive - 0.56\n",
      "Rise parameter p_keep was automatically determined at 0.5\n"
     ]
    },
    {
     "name": "stderr",
     "output_type": "stream",
     "text": [
      "Explaining: 100%|██████████| 10/10 [00:10<00:00,  1.08s/it]"
     ]
    },
    {
     "name": "stdout",
     "output_type": "stream",
     "text": [
      "[('A', 0, 0.0747646889686584), ('Spectacular', 1, 0.14674589776992808), ('film', 2, 0.15909637641906738), ('.', 3, 0.005530501365661689)]\n"
     ]
    },
    {
     "name": "stderr",
     "output_type": "stream",
     "text": [
      "\n"
     ]
    },
    {
     "data": {
      "text/html": [
       "<mark style=\"background-color: hsl(0, 100%, 77%, 0.8); line-height:1.75\">A</mark> <mark style=\"background-color: hsl(0, 100%, 54%, 0.8); line-height:1.75\">Spectacular</mark> <mark style=\"background-color: hsl(0, 100%, 50%, 0.8); line-height:1.75\">film</mark> <mark style=\"background-color: hsl(0, 100%, 99%, 0.8); line-height:1.75\">.</mark>"
      ],
      "text/plain": [
       "<IPython.core.display.HTML object>"
      ]
     },
     "metadata": {},
     "output_type": "display_data"
    }
   ],
   "source": [
    "# print some predictions/explanations from the (unlabeled) experiment set for the workshop\n",
    "sentences1 = pd.read_csv(os.path.join(data_path, 'experiment1.tsv'), delimiter='\\t')['sentence1']\n",
    "sentences2 = pd.read_csv(os.path.join(data_path, 'experiment2.tsv'), delimiter='\\t')['sentence2']\n",
    "sentences3 = pd.read_csv(os.path.join(data_path, 'experiment3.tsv'), delimiter='\\t')['sentence3']\n",
    "score = pd.read_csv(os.path.join(data_path, 'wordscore.tsv'), delimiter='\\t')['score']\n",
    "wordscore=[]\n",
    "perturbation1=[]\n",
    "perturbation2=[]\n",
    "perturbation3=[]\n",
    "nmax = 51\n",
    "classes = ['negative', 'positive']\n",
    "\n",
    "for n, (sentence1,sentence2,sentence3) in enumerate(zip(sentences1,sentences2,sentences3)):\n",
    "    if n == nmax:\n",
    "        break\n",
    "    output_numerical, predicted_class = predict_sentiment(sentence1)\n",
    "    print(f\"\\\"{sentence1}\\\" - {predicted_class} - {output_numerical:.2f}\")\n",
    "\n",
    "    wordscore.append((score[n]-1)/24)\n",
    "    \n",
    "    explanation_relevance1 = dianna.explain_text(model_runner, sentence1, model_runner.tokenizer,'RISE', labels=[labels.index('positive')])[0]\n",
    "\n",
    "    perturbation1.append(explanation_relevance1[2][2])\n",
    "\n",
    "    for i in range(len(explanation_relevance1)):\n",
    "        explanation_relevance1[i] = (explanation_relevance1[i][0],explanation_relevance1[i][1],((2*(explanation_relevance1[i][2]))-1))\n",
    "\n",
    "    print(explanation_relevance1)\n",
    "\n",
    "    visualization.highlight_text(explanation_relevance1, model_runner.tokenizer.tokenize(sentence1))\n",
    "\n",
    "    output_numerical, predicted_class = predict_sentiment(sentence2)\n",
    "    print(f\"\\\"{sentence2}\\\" - {predicted_class} - {output_numerical:.2f}\")\n",
    "\n",
    "    explanation_relevance2 = dianna.explain_text(model_runner, sentence2, model_runner.tokenizer,'RISE', labels=[labels.index('positive')])[0]\n",
    "\n",
    "    perturbation2.append(explanation_relevance2[2][2])\n",
    "\n",
    "    for i in range(len(explanation_relevance2)):\n",
    "        explanation_relevance2[i] = (explanation_relevance2[i][0],explanation_relevance2[i][1],((2*(explanation_relevance2[i][2]))-1))\n",
    "\n",
    "    print(explanation_relevance2)\n",
    "\n",
    "    visualization.highlight_text(explanation_relevance2, model_runner.tokenizer.tokenize(sentence2))\n",
    "\n",
    "    output_numerical, predicted_class = predict_sentiment(sentence3)\n",
    "    print(f\"\\\"{sentence3}\\\" - {predicted_class} - {output_numerical:.2f}\")\n",
    "\n",
    "    explanation_relevance3 = dianna.explain_text(model_runner, sentence3, model_runner.tokenizer,'RISE', labels=[labels.index('positive')])[0]\n",
    "\n",
    "    perturbation3.append(explanation_relevance3[1][2])\n",
    "\n",
    "    for i in range(len(explanation_relevance3)):\n",
    "        explanation_relevance3[i] = (explanation_relevance3[i][0],explanation_relevance3[i][1],((2*(explanation_relevance3[i][2]))-1))\n",
    "\n",
    "    print(explanation_relevance3)\n",
    "\n",
    "    visualization.highlight_text(explanation_relevance3, model_runner.tokenizer.tokenize(sentence3))"
   ]
  },
  {
   "cell_type": "code",
   "execution_count": 91,
   "metadata": {},
   "outputs": [
    {
     "name": "stdout",
     "output_type": "stream",
     "text": [
      "\"worthless\" - negative - 0.00\n",
      "Rise parameter p_keep was automatically determined at 0.5\n"
     ]
    },
    {
     "name": "stderr",
     "output_type": "stream",
     "text": [
      "Explaining: 100%|██████████| 10/10 [00:11<00:00,  1.11s/it]"
     ]
    },
    {
     "name": "stdout",
     "output_type": "stream",
     "text": [
      "[('worthless', 0, -0.9744814137071371)]\n"
     ]
    },
    {
     "name": "stderr",
     "output_type": "stream",
     "text": [
      "\n"
     ]
    },
    {
     "data": {
      "text/html": [
       "<mark style=\"background-color: hsl(240, 100%, 50%, 0.8); line-height:1.75\">worthless</mark>"
      ],
      "text/plain": [
       "<IPython.core.display.HTML object>"
      ]
     },
     "metadata": {},
     "output_type": "display_data"
    },
    {
     "name": "stdout",
     "output_type": "stream",
     "text": [
      "\"dreadful\" - negative - 0.02\n",
      "Rise parameter p_keep was automatically determined at 0.5\n"
     ]
    },
    {
     "name": "stderr",
     "output_type": "stream",
     "text": [
      "Explaining: 100%|██████████| 10/10 [00:10<00:00,  1.08s/it]"
     ]
    },
    {
     "name": "stdout",
     "output_type": "stream",
     "text": [
      "[('dreadful', 0, -0.9476113300919533)]\n"
     ]
    },
    {
     "name": "stderr",
     "output_type": "stream",
     "text": [
      "\n"
     ]
    },
    {
     "data": {
      "text/html": [
       "<mark style=\"background-color: hsl(240, 100%, 50%, 0.8); line-height:1.75\">dreadful</mark>"
      ],
      "text/plain": [
       "<IPython.core.display.HTML object>"
      ]
     },
     "metadata": {},
     "output_type": "display_data"
    },
    {
     "name": "stdout",
     "output_type": "stream",
     "text": [
      "\"irritating\" - negative - 0.00\n",
      "Rise parameter p_keep was automatically determined at 0.5\n"
     ]
    },
    {
     "name": "stderr",
     "output_type": "stream",
     "text": [
      "Explaining: 100%|██████████| 10/10 [00:10<00:00,  1.08s/it]"
     ]
    },
    {
     "name": "stdout",
     "output_type": "stream",
     "text": [
      "[('irritating', 0, -0.9339220889806747)]\n"
     ]
    },
    {
     "name": "stderr",
     "output_type": "stream",
     "text": [
      "\n"
     ]
    },
    {
     "data": {
      "text/html": [
       "<mark style=\"background-color: hsl(240, 100%, 50%, 0.8); line-height:1.75\">irritating</mark>"
      ],
      "text/plain": [
       "<IPython.core.display.HTML object>"
      ]
     },
     "metadata": {},
     "output_type": "display_data"
    },
    {
     "name": "stdout",
     "output_type": "stream",
     "text": [
      "\"horrible\" - negative - 0.00\n",
      "Rise parameter p_keep was automatically determined at 0.5\n"
     ]
    },
    {
     "name": "stderr",
     "output_type": "stream",
     "text": [
      "Explaining: 100%|██████████| 10/10 [00:10<00:00,  1.08s/it]"
     ]
    },
    {
     "name": "stdout",
     "output_type": "stream",
     "text": [
      "[('horrible', 0, -0.9706215468980371)]\n"
     ]
    },
    {
     "name": "stderr",
     "output_type": "stream",
     "text": [
      "\n"
     ]
    },
    {
     "data": {
      "text/html": [
       "<mark style=\"background-color: hsl(240, 100%, 50%, 0.8); line-height:1.75\">horrible</mark>"
      ],
      "text/plain": [
       "<IPython.core.display.HTML object>"
      ]
     },
     "metadata": {},
     "output_type": "display_data"
    },
    {
     "name": "stdout",
     "output_type": "stream",
     "text": [
      "\"excruciating\" - negative - 0.27\n",
      "Rise parameter p_keep was automatically determined at 0.5\n"
     ]
    },
    {
     "name": "stderr",
     "output_type": "stream",
     "text": [
      "Explaining: 100%|██████████| 10/10 [00:10<00:00,  1.07s/it]"
     ]
    },
    {
     "name": "stdout",
     "output_type": "stream",
     "text": [
      "[('excruciating', 0, -0.8863439919352532)]\n"
     ]
    },
    {
     "name": "stderr",
     "output_type": "stream",
     "text": [
      "\n"
     ]
    },
    {
     "data": {
      "text/html": [
       "<mark style=\"background-color: hsl(240, 100%, 50%, 0.8); line-height:1.75\">excruciating</mark>"
      ],
      "text/plain": [
       "<IPython.core.display.HTML object>"
      ]
     },
     "metadata": {},
     "output_type": "display_data"
    },
    {
     "name": "stdout",
     "output_type": "stream",
     "text": [
      "\"pointless\" - negative - 0.00\n",
      "Rise parameter p_keep was automatically determined at 0.6\n"
     ]
    },
    {
     "name": "stderr",
     "output_type": "stream",
     "text": [
      "Explaining: 100%|██████████| 10/10 [00:10<00:00,  1.07s/it]"
     ]
    },
    {
     "name": "stdout",
     "output_type": "stream",
     "text": [
      "[('pointless', 0, -0.9763070188276469)]\n"
     ]
    },
    {
     "name": "stderr",
     "output_type": "stream",
     "text": [
      "\n"
     ]
    },
    {
     "data": {
      "text/html": [
       "<mark style=\"background-color: hsl(240, 100%, 50%, 0.8); line-height:1.75\">pointless</mark>"
      ],
      "text/plain": [
       "<IPython.core.display.HTML object>"
      ]
     },
     "metadata": {},
     "output_type": "display_data"
    },
    {
     "name": "stdout",
     "output_type": "stream",
     "text": [
      "\"bad\" - negative - 0.00\n",
      "Rise parameter p_keep was automatically determined at 0.6\n"
     ]
    },
    {
     "name": "stderr",
     "output_type": "stream",
     "text": [
      "Explaining: 100%|██████████| 10/10 [00:10<00:00,  1.07s/it]"
     ]
    },
    {
     "name": "stdout",
     "output_type": "stream",
     "text": [
      "[('bad', 0, -0.9765916939390202)]\n"
     ]
    },
    {
     "name": "stderr",
     "output_type": "stream",
     "text": [
      "\n"
     ]
    },
    {
     "data": {
      "text/html": [
       "<mark style=\"background-color: hsl(240, 100%, 50%, 0.8); line-height:1.75\">bad</mark>"
      ],
      "text/plain": [
       "<IPython.core.display.HTML object>"
      ]
     },
     "metadata": {},
     "output_type": "display_data"
    },
    {
     "name": "stdout",
     "output_type": "stream",
     "text": [
      "\"depressing\" - negative - 0.00\n",
      "Rise parameter p_keep was automatically determined at 0.5\n"
     ]
    },
    {
     "name": "stderr",
     "output_type": "stream",
     "text": [
      "Explaining: 100%|██████████| 10/10 [00:10<00:00,  1.08s/it]"
     ]
    },
    {
     "name": "stdout",
     "output_type": "stream",
     "text": [
      "[('depressing', 0, -0.9391762969642877)]\n"
     ]
    },
    {
     "name": "stderr",
     "output_type": "stream",
     "text": [
      "\n"
     ]
    },
    {
     "data": {
      "text/html": [
       "<mark style=\"background-color: hsl(240, 100%, 50%, 0.8); line-height:1.75\">depressing</mark>"
      ],
      "text/plain": [
       "<IPython.core.display.HTML object>"
      ]
     },
     "metadata": {},
     "output_type": "display_data"
    },
    {
     "name": "stdout",
     "output_type": "stream",
     "text": [
      "\"nasty\" - negative - 0.00\n",
      "Rise parameter p_keep was automatically determined at 0.6\n"
     ]
    },
    {
     "name": "stderr",
     "output_type": "stream",
     "text": [
      "Explaining: 100%|██████████| 10/10 [00:10<00:00,  1.07s/it]"
     ]
    },
    {
     "name": "stdout",
     "output_type": "stream",
     "text": [
      "[('nasty', 0, -0.9647345028072596)]\n"
     ]
    },
    {
     "name": "stderr",
     "output_type": "stream",
     "text": [
      "\n"
     ]
    },
    {
     "data": {
      "text/html": [
       "<mark style=\"background-color: hsl(240, 100%, 50%, 0.8); line-height:1.75\">nasty</mark>"
      ],
      "text/plain": [
       "<IPython.core.display.HTML object>"
      ]
     },
     "metadata": {},
     "output_type": "display_data"
    },
    {
     "name": "stdout",
     "output_type": "stream",
     "text": [
      "\"boring\" - negative - 0.00\n",
      "Rise parameter p_keep was automatically determined at 0.5\n"
     ]
    },
    {
     "name": "stderr",
     "output_type": "stream",
     "text": [
      "Explaining: 100%|██████████| 10/10 [00:11<00:00,  1.11s/it]"
     ]
    },
    {
     "name": "stdout",
     "output_type": "stream",
     "text": [
      "[('boring', 0, -0.9395097670480609)]\n"
     ]
    },
    {
     "name": "stderr",
     "output_type": "stream",
     "text": [
      "\n"
     ]
    },
    {
     "data": {
      "text/html": [
       "<mark style=\"background-color: hsl(240, 100%, 50%, 0.8); line-height:1.75\">boring</mark>"
      ],
      "text/plain": [
       "<IPython.core.display.HTML object>"
      ]
     },
     "metadata": {},
     "output_type": "display_data"
    },
    {
     "name": "stdout",
     "output_type": "stream",
     "text": [
      "\"lackluster\" - negative - 0.01\n",
      "Rise parameter p_keep was automatically determined at 0.5\n"
     ]
    },
    {
     "name": "stderr",
     "output_type": "stream",
     "text": [
      "Explaining: 100%|██████████| 10/10 [00:11<00:00,  1.14s/it]"
     ]
    },
    {
     "name": "stdout",
     "output_type": "stream",
     "text": [
      "[('lackluster', 0, -0.8953424319624901)]\n"
     ]
    },
    {
     "name": "stderr",
     "output_type": "stream",
     "text": [
      "\n"
     ]
    },
    {
     "data": {
      "text/html": [
       "<mark style=\"background-color: hsl(240, 100%, 50%, 0.8); line-height:1.75\">lackluster</mark>"
      ],
      "text/plain": [
       "<IPython.core.display.HTML object>"
      ]
     },
     "metadata": {},
     "output_type": "display_data"
    },
    {
     "name": "stdout",
     "output_type": "stream",
     "text": [
      "\"repetitive\" - negative - 0.00\n",
      "Rise parameter p_keep was automatically determined at 0.5\n"
     ]
    },
    {
     "name": "stderr",
     "output_type": "stream",
     "text": [
      "Explaining: 100%|██████████| 10/10 [00:11<00:00,  1.15s/it]"
     ]
    },
    {
     "name": "stdout",
     "output_type": "stream",
     "text": [
      "[('repetitive', 0, -0.958457942634821)]\n"
     ]
    },
    {
     "name": "stderr",
     "output_type": "stream",
     "text": [
      "\n"
     ]
    },
    {
     "data": {
      "text/html": [
       "<mark style=\"background-color: hsl(240, 100%, 50%, 0.8); line-height:1.75\">repetitive</mark>"
      ],
      "text/plain": [
       "<IPython.core.display.HTML object>"
      ]
     },
     "metadata": {},
     "output_type": "display_data"
    },
    {
     "name": "stdout",
     "output_type": "stream",
     "text": [
      "\"worse\" - negative - 0.00\n",
      "Rise parameter p_keep was automatically determined at 0.5\n"
     ]
    },
    {
     "name": "stderr",
     "output_type": "stream",
     "text": [
      "Explaining: 100%|██████████| 10/10 [00:11<00:00,  1.11s/it]"
     ]
    },
    {
     "name": "stdout",
     "output_type": "stream",
     "text": [
      "[('worse', 0, -0.9823667911440134)]\n"
     ]
    },
    {
     "name": "stderr",
     "output_type": "stream",
     "text": [
      "\n"
     ]
    },
    {
     "data": {
      "text/html": [
       "<mark style=\"background-color: hsl(240, 100%, 50%, 0.8); line-height:1.75\">worse</mark>"
      ],
      "text/plain": [
       "<IPython.core.display.HTML object>"
      ]
     },
     "metadata": {},
     "output_type": "display_data"
    },
    {
     "name": "stdout",
     "output_type": "stream",
     "text": [
      "\"pitiful\" - negative - 0.39\n",
      "Rise parameter p_keep was automatically determined at 0.5\n"
     ]
    },
    {
     "name": "stderr",
     "output_type": "stream",
     "text": [
      "Explaining: 100%|██████████| 10/10 [00:10<00:00,  1.09s/it]"
     ]
    },
    {
     "name": "stdout",
     "output_type": "stream",
     "text": [
      "[('pitiful', 0, -0.9597057409584522)]\n"
     ]
    },
    {
     "name": "stderr",
     "output_type": "stream",
     "text": [
      "\n"
     ]
    },
    {
     "data": {
      "text/html": [
       "<mark style=\"background-color: hsl(240, 100%, 50%, 0.8); line-height:1.75\">pitiful</mark>"
      ],
      "text/plain": [
       "<IPython.core.display.HTML object>"
      ]
     },
     "metadata": {},
     "output_type": "display_data"
    },
    {
     "name": "stdout",
     "output_type": "stream",
     "text": [
      "\"clunky\" - negative - 0.00\n",
      "Rise parameter p_keep was automatically determined at 0.5\n"
     ]
    },
    {
     "name": "stderr",
     "output_type": "stream",
     "text": [
      "Explaining: 100%|██████████| 10/10 [00:10<00:00,  1.07s/it]"
     ]
    },
    {
     "name": "stdout",
     "output_type": "stream",
     "text": [
      "[('clunky', 0, -0.9730114792138338)]\n"
     ]
    },
    {
     "name": "stderr",
     "output_type": "stream",
     "text": [
      "\n"
     ]
    },
    {
     "data": {
      "text/html": [
       "<mark style=\"background-color: hsl(240, 100%, 50%, 0.8); line-height:1.75\">clunky</mark>"
      ],
      "text/plain": [
       "<IPython.core.display.HTML object>"
      ]
     },
     "metadata": {},
     "output_type": "display_data"
    },
    {
     "name": "stdout",
     "output_type": "stream",
     "text": [
      "\"rotten\" - negative - 0.00\n",
      "Rise parameter p_keep was automatically determined at 0.5\n"
     ]
    },
    {
     "name": "stderr",
     "output_type": "stream",
     "text": [
      "Explaining: 100%|██████████| 10/10 [00:10<00:00,  1.07s/it]"
     ]
    },
    {
     "name": "stdout",
     "output_type": "stream",
     "text": [
      "[('rotten', 0, -0.9558780049234629)]\n"
     ]
    },
    {
     "name": "stderr",
     "output_type": "stream",
     "text": [
      "\n"
     ]
    },
    {
     "data": {
      "text/html": [
       "<mark style=\"background-color: hsl(240, 100%, 50%, 0.8); line-height:1.75\">rotten</mark>"
      ],
      "text/plain": [
       "<IPython.core.display.HTML object>"
      ]
     },
     "metadata": {},
     "output_type": "display_data"
    },
    {
     "name": "stdout",
     "output_type": "stream",
     "text": [
      "\"tedious\" - negative - 0.00\n",
      "Rise parameter p_keep was automatically determined at 0.4\n"
     ]
    },
    {
     "name": "stderr",
     "output_type": "stream",
     "text": [
      "Explaining: 100%|██████████| 10/10 [00:11<00:00,  1.15s/it]"
     ]
    },
    {
     "name": "stdout",
     "output_type": "stream",
     "text": [
      "[('tedious', 0, -0.9694584121182561)]\n"
     ]
    },
    {
     "name": "stderr",
     "output_type": "stream",
     "text": [
      "\n"
     ]
    },
    {
     "data": {
      "text/html": [
       "<mark style=\"background-color: hsl(240, 100%, 50%, 0.8); line-height:1.75\">tedious</mark>"
      ],
      "text/plain": [
       "<IPython.core.display.HTML object>"
      ]
     },
     "metadata": {},
     "output_type": "display_data"
    },
    {
     "name": "stdout",
     "output_type": "stream",
     "text": [
      "\"cliched\" - negative - 0.01\n",
      "Rise parameter p_keep was automatically determined at 0.4\n"
     ]
    },
    {
     "name": "stderr",
     "output_type": "stream",
     "text": [
      "Explaining: 100%|██████████| 10/10 [00:11<00:00,  1.10s/it]"
     ]
    },
    {
     "name": "stdout",
     "output_type": "stream",
     "text": [
      "[('cliched', 0, -0.9140948787890375)]\n"
     ]
    },
    {
     "name": "stderr",
     "output_type": "stream",
     "text": [
      "\n"
     ]
    },
    {
     "data": {
      "text/html": [
       "<mark style=\"background-color: hsl(240, 100%, 50%, 0.8); line-height:1.75\">cliched</mark>"
      ],
      "text/plain": [
       "<IPython.core.display.HTML object>"
      ]
     },
     "metadata": {},
     "output_type": "display_data"
    },
    {
     "name": "stdout",
     "output_type": "stream",
     "text": [
      "\"confusing\" - negative - 0.01\n",
      "Rise parameter p_keep was automatically determined at 0.5\n"
     ]
    },
    {
     "name": "stderr",
     "output_type": "stream",
     "text": [
      "Explaining: 100%|██████████| 10/10 [00:10<00:00,  1.08s/it]"
     ]
    },
    {
     "name": "stdout",
     "output_type": "stream",
     "text": [
      "[('confusing', 0, -0.9621844101697207)]\n"
     ]
    },
    {
     "name": "stderr",
     "output_type": "stream",
     "text": [
      "\n"
     ]
    },
    {
     "data": {
      "text/html": [
       "<mark style=\"background-color: hsl(240, 100%, 50%, 0.8); line-height:1.75\">confusing</mark>"
      ],
      "text/plain": [
       "<IPython.core.display.HTML object>"
      ]
     },
     "metadata": {},
     "output_type": "display_data"
    },
    {
     "name": "stdout",
     "output_type": "stream",
     "text": [
      "\"redundant\" - negative - 0.01\n",
      "Rise parameter p_keep was automatically determined at 0.4\n"
     ]
    },
    {
     "name": "stderr",
     "output_type": "stream",
     "text": [
      "Explaining: 100%|██████████| 10/10 [00:10<00:00,  1.07s/it]"
     ]
    },
    {
     "name": "stdout",
     "output_type": "stream",
     "text": [
      "[('redundant', 0, -0.939431803189218)]\n"
     ]
    },
    {
     "name": "stderr",
     "output_type": "stream",
     "text": [
      "\n"
     ]
    },
    {
     "data": {
      "text/html": [
       "<mark style=\"background-color: hsl(240, 100%, 50%, 0.8); line-height:1.75\">redundant</mark>"
      ],
      "text/plain": [
       "<IPython.core.display.HTML object>"
      ]
     },
     "metadata": {},
     "output_type": "display_data"
    },
    {
     "name": "stdout",
     "output_type": "stream",
     "text": [
      "\"awful\" - negative - 0.01\n",
      "Rise parameter p_keep was automatically determined at 0.5\n"
     ]
    },
    {
     "name": "stderr",
     "output_type": "stream",
     "text": [
      "Explaining: 100%|██████████| 10/10 [00:10<00:00,  1.09s/it]"
     ]
    },
    {
     "name": "stdout",
     "output_type": "stream",
     "text": [
      "[('awful', 0, -0.8828937494754792)]\n"
     ]
    },
    {
     "name": "stderr",
     "output_type": "stream",
     "text": [
      "\n"
     ]
    },
    {
     "data": {
      "text/html": [
       "<mark style=\"background-color: hsl(240, 100%, 50%, 0.8); line-height:1.75\">awful</mark>"
      ],
      "text/plain": [
       "<IPython.core.display.HTML object>"
      ]
     },
     "metadata": {},
     "output_type": "display_data"
    },
    {
     "name": "stdout",
     "output_type": "stream",
     "text": [
      "\"sordid\" - negative - 0.01\n",
      "Rise parameter p_keep was automatically determined at 0.5\n"
     ]
    },
    {
     "name": "stderr",
     "output_type": "stream",
     "text": [
      "Explaining: 100%|██████████| 10/10 [00:10<00:00,  1.07s/it]"
     ]
    },
    {
     "name": "stdout",
     "output_type": "stream",
     "text": [
      "[('sordid', 0, -0.9125983010232448)]\n"
     ]
    },
    {
     "name": "stderr",
     "output_type": "stream",
     "text": [
      "\n"
     ]
    },
    {
     "data": {
      "text/html": [
       "<mark style=\"background-color: hsl(240, 100%, 50%, 0.8); line-height:1.75\">sordid</mark>"
      ],
      "text/plain": [
       "<IPython.core.display.HTML object>"
      ]
     },
     "metadata": {},
     "output_type": "display_data"
    },
    {
     "name": "stdout",
     "output_type": "stream",
     "text": [
      "\"stagy\" - negative - 0.04\n",
      "Rise parameter p_keep was automatically determined at 0.4\n"
     ]
    },
    {
     "name": "stderr",
     "output_type": "stream",
     "text": [
      "Explaining: 100%|██████████| 10/10 [00:10<00:00,  1.07s/it]"
     ]
    },
    {
     "name": "stdout",
     "output_type": "stream",
     "text": [
      "[('stagy', 0, -0.8262288485839964)]\n"
     ]
    },
    {
     "name": "stderr",
     "output_type": "stream",
     "text": [
      "\n"
     ]
    },
    {
     "data": {
      "text/html": [
       "<mark style=\"background-color: hsl(240, 100%, 50%, 0.8); line-height:1.75\">stagy</mark>"
      ],
      "text/plain": [
       "<IPython.core.display.HTML object>"
      ]
     },
     "metadata": {},
     "output_type": "display_data"
    },
    {
     "name": "stdout",
     "output_type": "stream",
     "text": [
      "\"satisfactory\" - positive - 0.90\n",
      "Rise parameter p_keep was automatically determined at 0.4\n"
     ]
    },
    {
     "name": "stderr",
     "output_type": "stream",
     "text": [
      "Explaining: 100%|██████████| 10/10 [00:10<00:00,  1.08s/it]"
     ]
    },
    {
     "name": "stdout",
     "output_type": "stream",
     "text": [
      "[('satisfactory', 0, 0.19784465849399568)]\n"
     ]
    },
    {
     "name": "stderr",
     "output_type": "stream",
     "text": [
      "\n"
     ]
    },
    {
     "data": {
      "text/html": [
       "<mark style=\"background-color: hsl(0, 100%, 50%, 0.8); line-height:1.75\">satisfactory</mark>"
      ],
      "text/plain": [
       "<IPython.core.display.HTML object>"
      ]
     },
     "metadata": {},
     "output_type": "display_data"
    },
    {
     "name": "stdout",
     "output_type": "stream",
     "text": [
      "\"conventional\" - negative - 0.00\n",
      "Rise parameter p_keep was automatically determined at 0.5\n"
     ]
    },
    {
     "name": "stderr",
     "output_type": "stream",
     "text": [
      "Explaining: 100%|██████████| 10/10 [00:10<00:00,  1.07s/it]"
     ]
    },
    {
     "name": "stdout",
     "output_type": "stream",
     "text": [
      "[('conventional', 0, -0.5308932132720947)]\n"
     ]
    },
    {
     "name": "stderr",
     "output_type": "stream",
     "text": [
      "\n"
     ]
    },
    {
     "data": {
      "text/html": [
       "<mark style=\"background-color: hsl(240, 100%, 50%, 0.8); line-height:1.75\">conventional</mark>"
      ],
      "text/plain": [
       "<IPython.core.display.HTML object>"
      ]
     },
     "metadata": {},
     "output_type": "display_data"
    },
    {
     "name": "stdout",
     "output_type": "stream",
     "text": [
      "\"sober\" - positive - 0.68\n",
      "Rise parameter p_keep was automatically determined at 0.5\n"
     ]
    },
    {
     "name": "stderr",
     "output_type": "stream",
     "text": [
      "Explaining: 100%|██████████| 10/10 [00:10<00:00,  1.08s/it]"
     ]
    },
    {
     "name": "stdout",
     "output_type": "stream",
     "text": [
      "[('sober', 0, 0.4329391372203828)]\n"
     ]
    },
    {
     "name": "stderr",
     "output_type": "stream",
     "text": [
      "\n"
     ]
    },
    {
     "data": {
      "text/html": [
       "<mark style=\"background-color: hsl(0, 100%, 50%, 0.8); line-height:1.75\">sober</mark>"
      ],
      "text/plain": [
       "<IPython.core.display.HTML object>"
      ]
     },
     "metadata": {},
     "output_type": "display_data"
    },
    {
     "name": "stdout",
     "output_type": "stream",
     "text": [
      "\"melodramatic\" - negative - 0.07\n",
      "Rise parameter p_keep was automatically determined at 0.5\n"
     ]
    },
    {
     "name": "stderr",
     "output_type": "stream",
     "text": [
      "Explaining: 100%|██████████| 10/10 [00:10<00:00,  1.07s/it]"
     ]
    },
    {
     "name": "stdout",
     "output_type": "stream",
     "text": [
      "[('melodramatic', 0, -0.7303226509690285)]\n"
     ]
    },
    {
     "name": "stderr",
     "output_type": "stream",
     "text": [
      "\n"
     ]
    },
    {
     "data": {
      "text/html": [
       "<mark style=\"background-color: hsl(240, 100%, 50%, 0.8); line-height:1.75\">melodramatic</mark>"
      ],
      "text/plain": [
       "<IPython.core.display.HTML object>"
      ]
     },
     "metadata": {},
     "output_type": "display_data"
    },
    {
     "name": "stdout",
     "output_type": "stream",
     "text": [
      "\"extreme\" - positive - 0.66\n",
      "Rise parameter p_keep was automatically determined at 0.5\n"
     ]
    },
    {
     "name": "stderr",
     "output_type": "stream",
     "text": [
      "Explaining: 100%|██████████| 10/10 [00:10<00:00,  1.07s/it]"
     ]
    },
    {
     "name": "stdout",
     "output_type": "stream",
     "text": [
      "[('extreme', 0, -0.4856784558296203)]\n"
     ]
    },
    {
     "name": "stderr",
     "output_type": "stream",
     "text": [
      "\n"
     ]
    },
    {
     "data": {
      "text/html": [
       "<mark style=\"background-color: hsl(240, 100%, 50%, 0.8); line-height:1.75\">extreme</mark>"
      ],
      "text/plain": [
       "<IPython.core.display.HTML object>"
      ]
     },
     "metadata": {},
     "output_type": "display_data"
    },
    {
     "name": "stdout",
     "output_type": "stream",
     "text": [
      "\"visual\" - positive - 0.83\n",
      "Rise parameter p_keep was automatically determined at 0.5\n"
     ]
    },
    {
     "name": "stderr",
     "output_type": "stream",
     "text": [
      "Explaining: 100%|██████████| 10/10 [00:10<00:00,  1.07s/it]"
     ]
    },
    {
     "name": "stdout",
     "output_type": "stream",
     "text": [
      "[('visual', 0, 0.6885253763198853)]\n"
     ]
    },
    {
     "name": "stderr",
     "output_type": "stream",
     "text": [
      "\n"
     ]
    },
    {
     "data": {
      "text/html": [
       "<mark style=\"background-color: hsl(0, 100%, 50%, 0.8); line-height:1.75\">visual</mark>"
      ],
      "text/plain": [
       "<IPython.core.display.HTML object>"
      ]
     },
     "metadata": {},
     "output_type": "display_data"
    },
    {
     "name": "stdout",
     "output_type": "stream",
     "text": [
      "\"emotional\" - positive - 0.76\n",
      "Rise parameter p_keep was automatically determined at 0.5\n"
     ]
    },
    {
     "name": "stderr",
     "output_type": "stream",
     "text": [
      "Explaining: 100%|██████████| 10/10 [00:10<00:00,  1.07s/it]"
     ]
    },
    {
     "name": "stdout",
     "output_type": "stream",
     "text": [
      "[('emotional', 0, 0.5811195392608643)]\n"
     ]
    },
    {
     "name": "stderr",
     "output_type": "stream",
     "text": [
      "\n"
     ]
    },
    {
     "data": {
      "text/html": [
       "<mark style=\"background-color: hsl(0, 100%, 50%, 0.8); line-height:1.75\">emotional</mark>"
      ],
      "text/plain": [
       "<IPython.core.display.HTML object>"
      ]
     },
     "metadata": {},
     "output_type": "display_data"
    },
    {
     "name": "stdout",
     "output_type": "stream",
     "text": [
      "\"satirical\" - positive - 0.60\n",
      "Rise parameter p_keep was automatically determined at 0.5\n"
     ]
    },
    {
     "name": "stderr",
     "output_type": "stream",
     "text": [
      "Explaining: 100%|██████████| 10/10 [00:11<00:00,  1.12s/it]"
     ]
    },
    {
     "name": "stdout",
     "output_type": "stream",
     "text": [
      "[('satirical', 0, 0.5594304955005647)]\n"
     ]
    },
    {
     "name": "stderr",
     "output_type": "stream",
     "text": [
      "\n"
     ]
    },
    {
     "data": {
      "text/html": [
       "<mark style=\"background-color: hsl(0, 100%, 50%, 0.8); line-height:1.75\">satirical</mark>"
      ],
      "text/plain": [
       "<IPython.core.display.HTML object>"
      ]
     },
     "metadata": {},
     "output_type": "display_data"
    },
    {
     "name": "stdout",
     "output_type": "stream",
     "text": [
      "\"artful\" - positive - 0.95\n",
      "Rise parameter p_keep was automatically determined at 0.5\n"
     ]
    },
    {
     "name": "stderr",
     "output_type": "stream",
     "text": [
      "Explaining: 100%|██████████| 10/10 [00:10<00:00,  1.10s/it]"
     ]
    },
    {
     "name": "stdout",
     "output_type": "stream",
     "text": [
      "[('artful', 0, 0.784025086402893)]\n"
     ]
    },
    {
     "name": "stderr",
     "output_type": "stream",
     "text": [
      "\n"
     ]
    },
    {
     "data": {
      "text/html": [
       "<mark style=\"background-color: hsl(0, 100%, 50%, 0.8); line-height:1.75\">artful</mark>"
      ],
      "text/plain": [
       "<IPython.core.display.HTML object>"
      ]
     },
     "metadata": {},
     "output_type": "display_data"
    },
    {
     "name": "stdout",
     "output_type": "stream",
     "text": [
      "\"beguiling\" - positive - 0.84\n",
      "Rise parameter p_keep was automatically determined at 0.5\n"
     ]
    },
    {
     "name": "stderr",
     "output_type": "stream",
     "text": [
      "Explaining: 100%|██████████| 10/10 [00:10<00:00,  1.08s/it]"
     ]
    },
    {
     "name": "stdout",
     "output_type": "stream",
     "text": [
      "[('beguiling', 0, 0.8954659662246705)]\n"
     ]
    },
    {
     "name": "stderr",
     "output_type": "stream",
     "text": [
      "\n"
     ]
    },
    {
     "data": {
      "text/html": [
       "<mark style=\"background-color: hsl(0, 100%, 50%, 0.8); line-height:1.75\">beguiling</mark>"
      ],
      "text/plain": [
       "<IPython.core.display.HTML object>"
      ]
     },
     "metadata": {},
     "output_type": "display_data"
    },
    {
     "name": "stdout",
     "output_type": "stream",
     "text": [
      "\"stimulating\" - positive - 0.93\n",
      "Rise parameter p_keep was automatically determined at 0.5\n"
     ]
    },
    {
     "name": "stderr",
     "output_type": "stream",
     "text": [
      "Explaining: 100%|██████████| 10/10 [00:10<00:00,  1.08s/it]"
     ]
    },
    {
     "name": "stdout",
     "output_type": "stream",
     "text": [
      "[('stimulating', 0, 0.7322481470108033)]\n"
     ]
    },
    {
     "name": "stderr",
     "output_type": "stream",
     "text": [
      "\n"
     ]
    },
    {
     "data": {
      "text/html": [
       "<mark style=\"background-color: hsl(0, 100%, 50%, 0.8); line-height:1.75\">stimulating</mark>"
      ],
      "text/plain": [
       "<IPython.core.display.HTML object>"
      ]
     },
     "metadata": {},
     "output_type": "display_data"
    },
    {
     "name": "stdout",
     "output_type": "stream",
     "text": [
      "\"modest\" - positive - 0.99\n",
      "Rise parameter p_keep was automatically determined at 0.5\n"
     ]
    },
    {
     "name": "stderr",
     "output_type": "stream",
     "text": [
      "Explaining: 100%|██████████| 10/10 [00:10<00:00,  1.08s/it]"
     ]
    },
    {
     "name": "stdout",
     "output_type": "stream",
     "text": [
      "[('modest', 0, 0.9555432848930359)]\n"
     ]
    },
    {
     "name": "stderr",
     "output_type": "stream",
     "text": [
      "\n"
     ]
    },
    {
     "data": {
      "text/html": [
       "<mark style=\"background-color: hsl(0, 100%, 50%, 0.8); line-height:1.75\">modest</mark>"
      ],
      "text/plain": [
       "<IPython.core.display.HTML object>"
      ]
     },
     "metadata": {},
     "output_type": "display_data"
    },
    {
     "name": "stdout",
     "output_type": "stream",
     "text": [
      "\"gorgeous\" - positive - 0.96\n",
      "Rise parameter p_keep was automatically determined at 0.6\n"
     ]
    },
    {
     "name": "stderr",
     "output_type": "stream",
     "text": [
      "Explaining: 100%|██████████| 10/10 [00:10<00:00,  1.03s/it]"
     ]
    },
    {
     "name": "stdout",
     "output_type": "stream",
     "text": [
      "[('gorgeous', 0, 0.9822242581844329)]\n"
     ]
    },
    {
     "name": "stderr",
     "output_type": "stream",
     "text": [
      "\n"
     ]
    },
    {
     "data": {
      "text/html": [
       "<mark style=\"background-color: hsl(0, 100%, 50%, 0.8); line-height:1.75\">gorgeous</mark>"
      ],
      "text/plain": [
       "<IPython.core.display.HTML object>"
      ]
     },
     "metadata": {},
     "output_type": "display_data"
    },
    {
     "name": "stdout",
     "output_type": "stream",
     "text": [
      "\"inventive\" - positive - 0.99\n",
      "Rise parameter p_keep was automatically determined at 0.5\n"
     ]
    },
    {
     "name": "stderr",
     "output_type": "stream",
     "text": [
      "Explaining: 100%|██████████| 10/10 [00:09<00:00,  1.01it/s]"
     ]
    },
    {
     "name": "stdout",
     "output_type": "stream",
     "text": [
      "[('inventive', 0, 0.9494911193847657)]\n"
     ]
    },
    {
     "name": "stderr",
     "output_type": "stream",
     "text": [
      "\n"
     ]
    },
    {
     "data": {
      "text/html": [
       "<mark style=\"background-color: hsl(0, 100%, 50%, 0.8); line-height:1.75\">inventive</mark>"
      ],
      "text/plain": [
       "<IPython.core.display.HTML object>"
      ]
     },
     "metadata": {},
     "output_type": "display_data"
    },
    {
     "name": "stdout",
     "output_type": "stream",
     "text": [
      "\"good\" - positive - 1.00\n",
      "Rise parameter p_keep was automatically determined at 0.5\n"
     ]
    },
    {
     "name": "stderr",
     "output_type": "stream",
     "text": [
      "Explaining: 100%|██████████| 10/10 [00:09<00:00,  1.09it/s]"
     ]
    },
    {
     "name": "stdout",
     "output_type": "stream",
     "text": [
      "[('good', 0, 0.9590523042678833)]\n"
     ]
    },
    {
     "name": "stderr",
     "output_type": "stream",
     "text": [
      "\n"
     ]
    },
    {
     "data": {
      "text/html": [
       "<mark style=\"background-color: hsl(0, 100%, 50%, 0.8); line-height:1.75\">good</mark>"
      ],
      "text/plain": [
       "<IPython.core.display.HTML object>"
      ]
     },
     "metadata": {},
     "output_type": "display_data"
    },
    {
     "name": "stdout",
     "output_type": "stream",
     "text": [
      "\"ultimate\" - positive - 0.72\n",
      "Rise parameter p_keep was automatically determined at 0.6\n"
     ]
    },
    {
     "name": "stderr",
     "output_type": "stream",
     "text": [
      "Explaining: 100%|██████████| 10/10 [00:09<00:00,  1.09it/s]"
     ]
    },
    {
     "name": "stdout",
     "output_type": "stream",
     "text": [
      "[('ultimate', 0, 0.5067263078689574)]\n"
     ]
    },
    {
     "name": "stderr",
     "output_type": "stream",
     "text": [
      "\n"
     ]
    },
    {
     "data": {
      "text/html": [
       "<mark style=\"background-color: hsl(0, 100%, 50%, 0.8); line-height:1.75\">ultimate</mark>"
      ],
      "text/plain": [
       "<IPython.core.display.HTML object>"
      ]
     },
     "metadata": {},
     "output_type": "display_data"
    },
    {
     "name": "stdout",
     "output_type": "stream",
     "text": [
      "\"fantastic\" - positive - 0.95\n",
      "Rise parameter p_keep was automatically determined at 0.5\n"
     ]
    },
    {
     "name": "stderr",
     "output_type": "stream",
     "text": [
      "Explaining: 100%|██████████| 10/10 [00:09<00:00,  1.09it/s]"
     ]
    },
    {
     "name": "stdout",
     "output_type": "stream",
     "text": [
      "[('fantastic', 0, 0.9277240467071532)]\n"
     ]
    },
    {
     "name": "stderr",
     "output_type": "stream",
     "text": [
      "\n"
     ]
    },
    {
     "data": {
      "text/html": [
       "<mark style=\"background-color: hsl(0, 100%, 50%, 0.8); line-height:1.75\">fantastic</mark>"
      ],
      "text/plain": [
       "<IPython.core.display.HTML object>"
      ]
     },
     "metadata": {},
     "output_type": "display_data"
    },
    {
     "name": "stdout",
     "output_type": "stream",
     "text": [
      "\"epic\" - positive - 0.98\n",
      "Rise parameter p_keep was automatically determined at 0.5\n"
     ]
    },
    {
     "name": "stderr",
     "output_type": "stream",
     "text": [
      "Explaining: 100%|██████████| 10/10 [00:09<00:00,  1.08it/s]"
     ]
    },
    {
     "name": "stdout",
     "output_type": "stream",
     "text": [
      "[('epic', 0, 0.7392408535480499)]\n"
     ]
    },
    {
     "name": "stderr",
     "output_type": "stream",
     "text": [
      "\n"
     ]
    },
    {
     "data": {
      "text/html": [
       "<mark style=\"background-color: hsl(0, 100%, 50%, 0.8); line-height:1.75\">epic</mark>"
      ],
      "text/plain": [
       "<IPython.core.display.HTML object>"
      ]
     },
     "metadata": {},
     "output_type": "display_data"
    },
    {
     "name": "stdout",
     "output_type": "stream",
     "text": [
      "\"fun\" - positive - 1.00\n",
      "Rise parameter p_keep was automatically determined at 0.5\n"
     ]
    },
    {
     "name": "stderr",
     "output_type": "stream",
     "text": [
      "Explaining: 100%|██████████| 10/10 [00:09<00:00,  1.09it/s]"
     ]
    },
    {
     "name": "stdout",
     "output_type": "stream",
     "text": [
      "[('fun', 0, 0.9493955025672913)]\n"
     ]
    },
    {
     "name": "stderr",
     "output_type": "stream",
     "text": [
      "\n"
     ]
    },
    {
     "data": {
      "text/html": [
       "<mark style=\"background-color: hsl(0, 100%, 50%, 0.8); line-height:1.75\">fun</mark>"
      ],
      "text/plain": [
       "<IPython.core.display.HTML object>"
      ]
     },
     "metadata": {},
     "output_type": "display_data"
    },
    {
     "name": "stdout",
     "output_type": "stream",
     "text": [
      "\"better\" - positive - 0.88\n",
      "Rise parameter p_keep was automatically determined at 0.5\n"
     ]
    },
    {
     "name": "stderr",
     "output_type": "stream",
     "text": [
      "Explaining: 100%|██████████| 10/10 [00:09<00:00,  1.09it/s]"
     ]
    },
    {
     "name": "stdout",
     "output_type": "stream",
     "text": [
      "[('better', 0, 0.6141363596916198)]\n"
     ]
    },
    {
     "name": "stderr",
     "output_type": "stream",
     "text": [
      "\n"
     ]
    },
    {
     "data": {
      "text/html": [
       "<mark style=\"background-color: hsl(0, 100%, 50%, 0.8); line-height:1.75\">better</mark>"
      ],
      "text/plain": [
       "<IPython.core.display.HTML object>"
      ]
     },
     "metadata": {},
     "output_type": "display_data"
    },
    {
     "name": "stdout",
     "output_type": "stream",
     "text": [
      "\"perfect\" - positive - 1.00\n",
      "Rise parameter p_keep was automatically determined at 0.6\n"
     ]
    },
    {
     "name": "stderr",
     "output_type": "stream",
     "text": [
      "Explaining: 100%|██████████| 10/10 [00:09<00:00,  1.09it/s]"
     ]
    },
    {
     "name": "stdout",
     "output_type": "stream",
     "text": [
      "[('perfect', 0, 0.893235504627228)]\n"
     ]
    },
    {
     "name": "stderr",
     "output_type": "stream",
     "text": [
      "\n"
     ]
    },
    {
     "data": {
      "text/html": [
       "<mark style=\"background-color: hsl(0, 100%, 50%, 0.8); line-height:1.75\">perfect</mark>"
      ],
      "text/plain": [
       "<IPython.core.display.HTML object>"
      ]
     },
     "metadata": {},
     "output_type": "display_data"
    },
    {
     "name": "stdout",
     "output_type": "stream",
     "text": [
      "\"successful\" - positive - 0.93\n",
      "Rise parameter p_keep was automatically determined at 0.6\n"
     ]
    },
    {
     "name": "stderr",
     "output_type": "stream",
     "text": [
      "Explaining: 100%|██████████| 10/10 [00:09<00:00,  1.10it/s]"
     ]
    },
    {
     "name": "stdout",
     "output_type": "stream",
     "text": [
      "[('successful', 0, 0.7423589038848879)]\n"
     ]
    },
    {
     "name": "stderr",
     "output_type": "stream",
     "text": [
      "\n"
     ]
    },
    {
     "data": {
      "text/html": [
       "<mark style=\"background-color: hsl(0, 100%, 50%, 0.8); line-height:1.75\">successful</mark>"
      ],
      "text/plain": [
       "<IPython.core.display.HTML object>"
      ]
     },
     "metadata": {},
     "output_type": "display_data"
    },
    {
     "name": "stdout",
     "output_type": "stream",
     "text": [
      "\"great\" - positive - 0.99\n",
      "Rise parameter p_keep was automatically determined at 0.30000000000000004\n"
     ]
    },
    {
     "name": "stderr",
     "output_type": "stream",
     "text": [
      "Explaining: 100%|██████████| 10/10 [00:09<00:00,  1.09it/s]"
     ]
    },
    {
     "name": "stdout",
     "output_type": "stream",
     "text": [
      "[('great', 0, 1.0946298062801358)]\n"
     ]
    },
    {
     "name": "stderr",
     "output_type": "stream",
     "text": [
      "\n"
     ]
    },
    {
     "data": {
      "text/html": [
       "<mark style=\"background-color: hsl(0, 100%, 50%, 0.8); line-height:1.75\">great</mark>"
      ],
      "text/plain": [
       "<IPython.core.display.HTML object>"
      ]
     },
     "metadata": {},
     "output_type": "display_data"
    },
    {
     "name": "stdout",
     "output_type": "stream",
     "text": [
      "\"excellent\" - positive - 0.99\n",
      "Rise parameter p_keep was automatically determined at 0.4\n"
     ]
    },
    {
     "name": "stderr",
     "output_type": "stream",
     "text": [
      "Explaining: 100%|██████████| 10/10 [00:09<00:00,  1.09it/s]"
     ]
    },
    {
     "name": "stdout",
     "output_type": "stream",
     "text": [
      "[('excellent', 0, 1.0418103218078612)]\n"
     ]
    },
    {
     "name": "stderr",
     "output_type": "stream",
     "text": [
      "\n"
     ]
    },
    {
     "data": {
      "text/html": [
       "<mark style=\"background-color: hsl(0, 100%, 50%, 0.8); line-height:1.75\">excellent</mark>"
      ],
      "text/plain": [
       "<IPython.core.display.HTML object>"
      ]
     },
     "metadata": {},
     "output_type": "display_data"
    },
    {
     "name": "stdout",
     "output_type": "stream",
     "text": [
      "\"hilarious\" - positive - 1.00\n",
      "Rise parameter p_keep was automatically determined at 0.5\n"
     ]
    },
    {
     "name": "stderr",
     "output_type": "stream",
     "text": [
      "Explaining: 100%|██████████| 10/10 [00:09<00:00,  1.06it/s]"
     ]
    },
    {
     "name": "stdout",
     "output_type": "stream",
     "text": [
      "[('hilarious', 0, 0.7319676179885863)]\n"
     ]
    },
    {
     "name": "stderr",
     "output_type": "stream",
     "text": [
      "\n"
     ]
    },
    {
     "data": {
      "text/html": [
       "<mark style=\"background-color: hsl(0, 100%, 50%, 0.8); line-height:1.75\">hilarious</mark>"
      ],
      "text/plain": [
       "<IPython.core.display.HTML object>"
      ]
     },
     "metadata": {},
     "output_type": "display_data"
    },
    {
     "name": "stdout",
     "output_type": "stream",
     "text": [
      "\"fabulous\" - positive - 0.72\n",
      "Rise parameter p_keep was automatically determined at 0.5\n"
     ]
    },
    {
     "name": "stderr",
     "output_type": "stream",
     "text": [
      "Explaining: 100%|██████████| 10/10 [00:09<00:00,  1.07it/s]"
     ]
    },
    {
     "name": "stdout",
     "output_type": "stream",
     "text": [
      "[('fabulous', 0, 0.8783106005191803)]\n"
     ]
    },
    {
     "name": "stderr",
     "output_type": "stream",
     "text": [
      "\n"
     ]
    },
    {
     "data": {
      "text/html": [
       "<mark style=\"background-color: hsl(0, 100%, 50%, 0.8); line-height:1.75\">fabulous</mark>"
      ],
      "text/plain": [
       "<IPython.core.display.HTML object>"
      ]
     },
     "metadata": {},
     "output_type": "display_data"
    },
    {
     "name": "stdout",
     "output_type": "stream",
     "text": [
      "\"brilliant\" - positive - 1.00\n",
      "Rise parameter p_keep was automatically determined at 0.5\n"
     ]
    },
    {
     "name": "stderr",
     "output_type": "stream",
     "text": [
      "Explaining: 100%|██████████| 10/10 [00:09<00:00,  1.08it/s]"
     ]
    },
    {
     "name": "stdout",
     "output_type": "stream",
     "text": [
      "[('brilliant', 0, 0.8039187288284302)]\n"
     ]
    },
    {
     "name": "stderr",
     "output_type": "stream",
     "text": [
      "\n"
     ]
    },
    {
     "data": {
      "text/html": [
       "<mark style=\"background-color: hsl(0, 100%, 50%, 0.8); line-height:1.75\">brilliant</mark>"
      ],
      "text/plain": [
       "<IPython.core.display.HTML object>"
      ]
     },
     "metadata": {},
     "output_type": "display_data"
    },
    {
     "name": "stdout",
     "output_type": "stream",
     "text": [
      "\"Spectacular\" - positive - 0.69\n",
      "Rise parameter p_keep was automatically determined at 0.1\n"
     ]
    },
    {
     "name": "stderr",
     "output_type": "stream",
     "text": [
      "Explaining: 100%|██████████| 10/10 [00:09<00:00,  1.10it/s]"
     ]
    },
    {
     "name": "stdout",
     "output_type": "stream",
     "text": [
      "[('Spectacular', 0, 0.025333286523818943)]\n"
     ]
    },
    {
     "name": "stderr",
     "output_type": "stream",
     "text": [
      "\n"
     ]
    },
    {
     "data": {
      "text/html": [
       "<mark style=\"background-color: hsl(0, 100%, 50%, 0.8); line-height:1.75\">Spectacular</mark>"
      ],
      "text/plain": [
       "<IPython.core.display.HTML object>"
      ]
     },
     "metadata": {},
     "output_type": "display_data"
    }
   ],
   "source": [
    "# print some predictions/explanations from the (unlabeled) experiment set for the workshop\n",
    "sentences4 = pd.read_csv(os.path.join(data_path, 'experiment4.tsv'), delimiter='\\t')['sentence4']\n",
    "nmax = 51\n",
    "classes = ['negative', 'positive']\n",
    "modwordscore=[]\n",
    "expwordscore=[]\n",
    "\n",
    "for n, sentence4 in enumerate(sentences4):\n",
    "    if n == nmax:\n",
    "        break\n",
    "    output_numerical, predicted_class = predict_sentiment(sentence4)\n",
    "    print(f\"\\\"{sentence4}\\\" - {predicted_class} - {output_numerical:.2f}\")\n",
    "    \n",
    "    explanation_relevance4 = dianna.explain_text(model_runner, sentence4, model_runner.tokenizer,'RISE', labels=[labels.index('positive')])[0]\n",
    "\n",
    "    modwordscore.append(output_numerical)\n",
    "\n",
    "    expwordscore.append(explanation_relevance4[0][2])\n",
    "\n",
    "    for i in range(len(explanation_relevance4)):\n",
    "        explanation_relevance4[i] = (explanation_relevance4[i][0],explanation_relevance4[i][1],((2*(explanation_relevance4[i][2]))-1))\n",
    "    \n",
    "    print(explanation_relevance4)\n",
    "\n",
    "    visualization.highlight_text(explanation_relevance4, model_runner.tokenizer.tokenize(sentence4))"
   ]
  },
  {
   "cell_type": "code",
   "execution_count": 102,
   "metadata": {},
   "outputs": [
    {
     "name": "stdout",
     "output_type": "stream",
     "text": [
      "[0.03503441927582025, 0.10666879996657372, 0.10108903177082539, 0.0698213622905314, 0.17745178346832594, 0.04218142420053482, 0.03330934721976519, 0.13417823997636635, 0.05565906352549791, 0.05374064026027918, 0.16057559542357921, 0.05402313853924473, 0.032443609920640784, 0.09450648157298565, 0.031872222342838846, 0.04756615249812603, 0.05394512628018856, 0.10608951281756164, 0.06371315150832137, 0.06081793171043198, 0.16347713908553124, 0.1516840919703245, 0.19784599930047989, 0.5692903506755829, 0.13174998650948208, 0.6540065129995346, 0.2059007268399, 0.29269520767033097, 0.7256824610630672, 0.81743383705616, 0.5841245882511139, 0.7973105629682541, 0.873686588704586, 0.7818512698411941, 0.8291696456074714, 0.8873779048025607, 0.8881823738416036, 0.9313879657785098, 0.6958203696211179, 0.9677588673830032, 0.9061123489340147, 0.8449510717391968, 0.6359300410747528, 0.8915916020870209, 0.7919621413946152, 0.9546622996330261, 1.0126168011426926, 0.7703228080272675, 0.8549767798185348, 0.97015524700284, 0.5380690370996793]\n",
      "[0.03535418491438031, 0.11242411655187606, 0.11298966825008394, 0.07573989227414131, 0.19292296516398588, 0.04287489110603929, 0.03323753163591027, 0.13307988613843919, 0.05762342901527882, 0.057750144720077515, 0.15139198645949364, 0.0561906685307622, 0.030957823678851127, 0.09089645263552666, 0.03197866570204497, 0.04709761083126068, 0.05585166593392691, 0.11316448934376241, 0.06579756712913513, 0.05815979677562912, 0.16270723333954812, 0.16491712172116552, 0.19408715918660163, 0.6027897995710372, 0.133622691805164, 0.691668848650796, 0.22270224091410637, 0.3015377013882001, 0.7524005943536758, 0.8098747587203979, 0.571003692249457, 0.7781452026963235, 0.8526827623844146, 0.8473476504087448, 0.8223084269762039, 0.935250373005867, 0.9454836392402649, 0.8904921457171441, 0.696325662434101, 0.9396815097332001, 0.8343714129924775, 0.858993290901184, 0.6575169660647711, 0.9121775221824646, 0.8081494390964508, 0.9310058028697967, 0.9670134873688221, 0.8047254900137581, 0.8713404626846314, 0.9725754391153654, 0.5326240187883376]\n",
      "[0.025653458189219238, 0.05412875260412693, 0.07369282508268953, 0.033395761873573064, 0.11343495973944664, 0.027341134359261818, 0.01784205715171993, 0.06920296899974346, 0.032128286093473436, 0.04220892619341612, 0.0911400930956006, 0.043971447736024856, 0.01528422986343503, 0.04605921513587236, 0.021810135070234538, 0.025237116164838275, 0.03702688241750002, 0.08305952134728432, 0.04473132034391165, 0.05332274462282657, 0.09805795812606811, 0.08957909082993865, 0.17583533263454837, 0.5720595049858094, 0.21653361747662225, 0.6878666944305102, 0.19453911909461022, 0.2506511398777366, 0.8431928616762161, 0.8596517887711524, 0.734973729968071, 0.8279551342725754, 0.9264271632432938, 0.8538607802391053, 0.8885222309827805, 0.996209879219532, 0.9357372598350048, 0.9410633103847503, 0.7645549060404301, 0.9424359316825867, 0.9059975141286849, 0.9049571599960328, 0.6891355532407759, 0.954862873405218, 0.8907370773951212, 0.9745653566122056, 0.9527639979124068, 0.8526490603387356, 0.8537204341888428, 1.031366974711418, 0.573372948884964]\n",
      "[0.0, 0.02777777777777792, 0.041666666666666664, 0.055555555555555414, 0.08333333333333333, 0.11111111111111126, 0.125, 0.1527777777777779, 0.16666666666666666, 0.18055555555555544, 0.20833333333333334, 0.23611111111111124, 0.25, 0.2638888888888888, 0.2916666666666667, 0.3055555555555554, 0.3333333333333333, 0.3472222222222221, 0.375, 0.3888888888888875, 0.4166666666666667, 0.4444444444444458, 0.4583333333333333, 0.4722222222222208, 0.4861111111111125, 0.5, 0.5138888888888875, 0.5277777777777791, 0.5416666666666666, 0.5555555555555541, 0.5833333333333334, 0.6111111111111125, 0.625, 0.6527777777777791, 0.6666666666666666, 0.6944444444444459, 0.7083333333333334, 0.7361111111111125, 0.75, 0.7638888888888875, 0.7916666666666666, 0.8194444444444459, 0.8333333333333334, 0.8611111111111125, 0.875, 0.8888888888888875, 0.9166666666666666, 0.9444444444444459, 0.9583333333333334, 0.9722222222222209, 1.0]\n"
     ]
    },
    {
     "data": {
      "image/png": "[encoded data removed]",
      "text/plain": [
       "<Figure size 640x480 with 1 Axes>"
      ]
     },
     "metadata": {},
     "output_type": "display_data"
    },
    {
     "data": {
      "image/png": "[encoded data removed]",
      "text/plain": [
       "<Figure size 640x480 with 1 Axes>"
      ]
     },
     "metadata": {},
     "output_type": "display_data"
    },
    {
     "name": "stdout",
     "output_type": "stream",
     "text": [
      "Pearsons correlation (average explainer vs original rating):\n",
      "pvalue: 0.00000000000000016158532822913317\n",
      "statistic: 0.86810281302465641672938545525540\n"
     ]
    },
    {
     "data": {
      "image/png": "[encoded data removed]",
      "text/plain": [
       "<Figure size 640x480 with 1 Axes>"
      ]
     },
     "metadata": {},
     "output_type": "display_data"
    },
    {
     "data": {
      "image/png": "[encoded data removed]",
      "text/plain": [
       "<Figure size 640x480 with 1 Axes>"
      ]
     },
     "metadata": {},
     "output_type": "display_data"
    },
    {
     "name": "stdout",
     "output_type": "stream",
     "text": [
      "Pearsons correlation (average explainer vs original rating):\n",
      "pvalue: 0.00000000000000000000000000000000\n",
      "statistic: 0.99292236256751509326790028353571\n"
     ]
    },
    {
     "data": {
      "image/png": "[encoded data removed]",
      "text/plain": [
       "<Figure size 640x480 with 1 Axes>"
      ]
     },
     "metadata": {},
     "output_type": "display_data"
    },
    {
     "name": "stdout",
     "output_type": "stream",
     "text": [
      "Pearsons correlation (dianna model vs dataset):\n",
      "pvalue: 0.00000000000000667542994012112219\n",
      "statistic: 0.84468369642667040508854370273184\n",
      "\n"
     ]
    },
    {
     "data": {
      "image/png": "[encoded data removed]",
      "text/plain": [
       "<Figure size 640x480 with 1 Axes>"
      ]
     },
     "metadata": {},
     "output_type": "display_data"
    },
    {
     "name": "stdout",
     "output_type": "stream",
     "text": [
      "Pearsons correlation (rise explainer vs dataset):\n",
      "pvalue: 0.00000000000000040633135729260875\n",
      "statistic: 0.86267834448133928759716582135297\n",
      "\n"
     ]
    },
    {
     "data": {
      "image/png": "[encoded data removed]",
      "text/plain": [
       "<Figure size 640x480 with 1 Axes>"
      ]
     },
     "metadata": {},
     "output_type": "display_data"
    },
    {
     "name": "stdout",
     "output_type": "stream",
     "text": [
      "Pearsons correlation (rise explainer vs dianna model):\n",
      "pvalue: 0.00000000000000000000000000000822\n",
      "statistic: 0.96388337465229823042278667344362\n",
      "\n"
     ]
    }
   ],
   "source": [
    "# graph\n",
    "\n",
    "print(perturbation1)\n",
    "print(perturbation2)\n",
    "print(perturbation3)\n",
    "print(wordscore)\n",
    "avgpert=[]\n",
    "\n",
    "for i in range(len(perturbation1)):\n",
    "    avgpert.append((perturbation1[i]+perturbation2[i]+perturbation3[i])/3)\n",
    "\n",
    "plt.plot(wordscore, perturbation1, \"-b\", label=\"It is <adj>.\")\n",
    "plt.plot(wordscore, perturbation2, \"-r\", label=\"This is <adj>.\")\n",
    "plt.plot(wordscore, perturbation3, \"-g\", label=\"A(n) <adj> film.\")\n",
    "plt.legend(loc=\"upper left\")\n",
    "plt.xlabel(\"<adj> dataset sentiment rating\")\n",
    "plt.ylabel(\"<adj> explainer sentiment score\")\n",
    "plt.show()\n",
    "\n",
    "plt.plot(wordscore, avgpert, \"-b\")\n",
    "plt.xlabel(\"<adj> dataset sentiment rating\")\n",
    "plt.ylabel(\"average <adj> explainer sentiment score\")\n",
    "plt.show()\n",
    "\n",
    "corr = pearsonr(wordscore, avgpert)\n",
    "print('Pearsons correlation (average explainer vs original rating):')\n",
    "print('pvalue: %.32f' % corr.pvalue)\n",
    "print('statistic: %.32f' % corr.statistic)\n",
    "\n",
    "newEWS, newP1 = zip(*sorted(zip(expwordscore,perturbation1)))\n",
    "newEWS, newP2 = zip(*sorted(zip(expwordscore,perturbation2)))\n",
    "newEWS, newP3 = zip(*sorted(zip(expwordscore,perturbation3)))\n",
    "\n",
    "plt.plot(newEWS, newP1, \"-b\", label=\"It is <adj>.\")\n",
    "plt.plot(newEWS, newP2, \"-r\", label=\"This is <adj>.\")\n",
    "plt.plot(newEWS, newP3, \"-g\", label=\"A(n) <adj> film.\")\n",
    "plt.legend(loc=\"upper left\")\n",
    "plt.xlabel(\"<adj> explainer sentiment score for just '<adj>'\")\n",
    "plt.ylabel(\"<adj> explainer sentiment score\")\n",
    "plt.show()\n",
    "\n",
    "newEWS, newAvgP = zip(*sorted(zip(expwordscore,avgpert)))\n",
    "\n",
    "plt.plot(newEWS, newAvgP, \"-b\")\n",
    "plt.xlabel(\"<adj> explainer sentiment score for just '<adj>'\")\n",
    "plt.ylabel(\"average <adj> explainer sentiment score\")\n",
    "plt.show()\n",
    "\n",
    "corr = pearsonr(expwordscore, avgpert)\n",
    "print('Pearsons correlation (average explainer vs original rating):')\n",
    "print('pvalue: %.32f' % corr.pvalue)\n",
    "print('statistic: %.32f' % corr.statistic)\n",
    "\n",
    "plt.plot(wordscore, modwordscore[:51], \"-b\")\n",
    "plt.xlabel(\"<adj> dataset sentiment rating\")\n",
    "plt.ylabel(\"<adj> model sentiment score\")\n",
    "plt.show()\n",
    "\n",
    "corr = pearsonr(wordscore, modwordscore[:51])\n",
    "print('Pearsons correlation (dianna model vs dataset):')\n",
    "print('pvalue: %.32f' % corr.pvalue)\n",
    "print('statistic: %.32f' % corr.statistic)\n",
    "print('')\n",
    "\n",
    "plt.plot(wordscore, expwordscore[:51], \"-b\")\n",
    "plt.xlabel(\"<adj> dataset sentiment rating\")\n",
    "plt.ylabel(\"<adj> explainer sentiment score for just '<adj>'\")\n",
    "plt.show()\n",
    "\n",
    "corr = pearsonr(wordscore, expwordscore[:51])\n",
    "print('Pearsons correlation (rise explainer vs dataset):')\n",
    "print('pvalue: %.32f' % corr.pvalue)\n",
    "print('statistic: %.32f' % corr.statistic)\n",
    "print('')\n",
    "\n",
    "newMWS, newEWS = zip(*sorted(zip(modwordscore[:51],expwordscore[:51])))\n",
    "\n",
    "plt.plot(newMWS, newEWS, \"-b\")\n",
    "plt.xlabel(\"<adj> model sentiment score\")\n",
    "plt.ylabel(\"<adj> explainer sentiment score for just '<adj>'\")\n",
    "plt.show()\n",
    "\n",
    "corr = pearsonr(modwordscore[:51], expwordscore[:51])\n",
    "print('Pearsons correlation (rise explainer vs dianna model):')\n",
    "print('pvalue: %.32f' % corr.pvalue)\n",
    "print('statistic: %.32f' % corr.statistic)\n",
    "print('')"
   ]
  },
  {
   "cell_type": "code",
   "execution_count": 98,
   "metadata": {},
   "outputs": [
    {
     "name": "stdout",
     "output_type": "stream",
     "text": [
      "\"A beguiling splash of pastel colors and prankish comedy from Disney.\" - positive - 0.98\n",
      "Rise parameter p_keep was automatically determined at 0.2\n"
     ]
    },
    {
     "name": "stderr",
     "output_type": "stream",
     "text": [
      "Explaining: 100%|██████████| 10/10 [00:09<00:00,  1.09it/s]"
     ]
    },
    {
     "name": "stdout",
     "output_type": "stream",
     "text": [
      "[('A', 0, 0.27424614399671565), ('beguiling', 1, 0.7533750998973845), ('splash', 2, 0.5763634398579598), ('of', 3, 0.3359677040576934), ('pastel', 4, 0.5798291957378388), ('colors', 5, 0.5189457410573959), ('and', 6, 0.5108731347322462), ('prankish', 7, 0.34310279563069335), ('comedy', 8, 0.38359620660543436), ('from', 9, 0.05818083316087708), ('Disney', 10, 0.39339916914701445), ('.', 11, 0.28293081164360045)]\n"
     ]
    },
    {
     "name": "stderr",
     "output_type": "stream",
     "text": [
      "\n"
     ]
    },
    {
     "data": {
      "text/html": [
       "<mark style=\"background-color: hsl(0, 100%, 82%, 0.8); line-height:1.75\">A</mark> <mark style=\"background-color: hsl(0, 100%, 50%, 0.8); line-height:1.75\">beguiling</mark> <mark style=\"background-color: hsl(0, 100%, 62%, 0.8); line-height:1.75\">splash</mark> <mark style=\"background-color: hsl(0, 100%, 78%, 0.8); line-height:1.75\">of</mark> <mark style=\"background-color: hsl(0, 100%, 62%, 0.8); line-height:1.75\">pastel</mark> <mark style=\"background-color: hsl(0, 100%, 66%, 0.8); line-height:1.75\">colors</mark> <mark style=\"background-color: hsl(0, 100%, 67%, 0.8); line-height:1.75\">and</mark> <mark style=\"background-color: hsl(0, 100%, 78%, 0.8); line-height:1.75\">prankish</mark> <mark style=\"background-color: hsl(0, 100%, 75%, 0.8); line-height:1.75\">comedy</mark> <mark style=\"background-color: hsl(0, 100%, 97%, 0.8); line-height:1.75\">from</mark> <mark style=\"background-color: hsl(0, 100%, 74%, 0.8); line-height:1.75\">Disney</mark> <mark style=\"background-color: hsl(0, 100%, 82%, 0.8); line-height:1.75\">.</mark>"
      ],
      "text/plain": [
       "<IPython.core.display.HTML object>"
      ]
     },
     "metadata": {},
     "output_type": "display_data"
    }
   ],
   "source": [
    "newsentence = \"A beguiling splash of pastel colors and prankish comedy from Disney.\"\n",
    "\n",
    "output_numerical, predicted_class = predict_sentiment(newsentence)\n",
    "print(f\"\\\"{newsentence}\\\" - {predicted_class} - {output_numerical:.2f}\")\n",
    "\n",
    "explanation_relevance5 = dianna.explain_text(model_runner, newsentence, model_runner.tokenizer,'RISE', labels=[labels.index('positive')])[0]\n",
    "\n",
    "for i in range(len(explanation_relevance5)):\n",
    "    explanation_relevance5[i] = (explanation_relevance5[i][0],explanation_relevance5[i][1],((2*(explanation_relevance5[i][2]))-1))\n",
    "\n",
    "print(explanation_relevance5)\n",
    "\n",
    "visualization.highlight_text(explanation_relevance5, model_runner.tokenizer.tokenize(newsentence))"
   ]
  }
 ],
 "metadata": {
  "kernelspec": {
   "display_name": "loren",
   "language": "python",
   "name": "python3"
  },
  "language_info": {
   "codemirror_mode": {
    "name": "ipython",
    "version": 3
   },
   "file_extension": ".py",
   "mimetype": "text/x-python",
   "name": "python",
   "nbconvert_exporter": "python",
   "pygments_lexer": "ipython3",
   "version": "3.9.18"
  }
 },
 "nbformat": 4,
 "nbformat_minor": 2
}
