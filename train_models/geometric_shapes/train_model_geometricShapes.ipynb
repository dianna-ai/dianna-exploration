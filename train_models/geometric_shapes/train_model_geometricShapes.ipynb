{
 "metadata": {
  "language_info": {
   "codemirror_mode": {
    "name": "ipython",
    "version": 3
   },
   "file_extension": ".py",
   "mimetype": "text/x-python",
   "name": "python",
   "nbconvert_exporter": "python",
   "pygments_lexer": "ipython3",
   "version": "3.8.5"
  },
  "orig_nbformat": 2,
  "kernelspec": {
   "name": "python385jvsc74a57bd090e02b2587fbb2ca467fc85381f5522fddb4a9e5fbb8605712260c849ecf752b",
   "display_name": "Python 3.8.5 64-bit ('base': conda)"
  }
 },
 "nbformat": 4,
 "nbformat_minor": 2,
 "cells": [
  {
   "source": [
    "## Train model for geometric shapes\n",
    "**Function        : Train model in pytorch for geometric shapes **<br>\n",
    "**Author          : Team DIANNA **<br>\n",
    "**Contributor     : **<br>\n",
    "**First Built     : 2021.05.26 **<br>\n",
    "**Last Update     : 2021.05.26 **<br>\n",
    "**Library         : os, numpy, matplotlib, torch, tensorflow, wandb **<br>\n",
    "**Description     : In this notebook we train models in pytorch for geometric shapes. The trained models will be used to explore the XAI methods later.**<br>\n",
    "**Return Values   : pytorch models and training status (.pt) / training report from weights & biases**<br>"
   ],
   "cell_type": "markdown",
   "metadata": {}
  },
  {
   "cell_type": "code",
   "execution_count": 1,
   "metadata": {},
   "outputs": [],
   "source": [
    "%matplotlib inline\n",
    "import os\n",
    "import numpy as np\n",
    "# DL framework\n",
    "import torch\n",
    "import torch.nn as nn\n",
    "import torch.nn.functional as F\n",
    "import torch.optim as optim\n",
    "import torch.utils.data\n",
    "#import torchvision\n",
    "# for plotting\n",
    "import matplotlib.pyplot as plt\n",
    "# report and monitoring with Weights & Biases\n",
    "import wandb"
   ]
  },
  {
   "cell_type": "code",
   "execution_count": 2,
   "metadata": {},
   "outputs": [],
   "source": [
    "#################################################################################\n",
    "#########                     path to the dataset                        ########\n",
    "#################################################################################\n",
    "# please specify data path\n",
    "datapath = '/mnt/d/NLeSC/DIANNA/data/geometric_shapes'\n",
    "# please specify output path\n",
    "output_path = '/mnt/d/NLeSC/DIANNA/codebase/dianna/train_models/geometric_shapes'"
   ]
  },
  {
   "cell_type": "code",
   "execution_count": 3,
   "metadata": {},
   "outputs": [
    {
     "output_type": "stream",
     "name": "stdout",
     "text": [
      "Dimensions of shapes data: (10000, 64, 64)\nDimensions of labels: (10000,)\n"
     ]
    },
    {
     "output_type": "display_data",
     "data": {
      "text/plain": "<Figure size 288x288 with 16 Axes>",
      "image/svg+xml": "<?xml version=\"1.0\" encoding=\"utf-8\" standalone=\"no\"?>\n<!DOCTYPE svg PUBLIC \"-//W3C//DTD SVG 1.1//EN\"\n  \"http://www.w3.org/Graphics/SVG/1.1/DTD/svg11.dtd\">\n<!-- Created with matplotlib (https://matplotlib.org/) -->\n<svg height=\"279.87875pt\" version=\"1.1\" viewBox=\"0 0 266.86087 279.87875\" width=\"266.86087pt\" xmlns=\"http://www.w3.org/2000/svg\" xmlns:xlink=\"http://www.w3.org/1999/xlink\">\n <defs>\n  <style type=\"text/css\">\n*{stroke-linecap:butt;stroke-linejoin:round;}\n  </style>\n </defs>\n <g id=\"figure_1\">\n  <g id=\"patch_1\">\n   <path d=\"M 0 279.87875 \nL 266.86087 279.87875 \nL 266.86087 0 \nL 0 0 \nz\n\" style=\"fill:none;\"/>\n  </g>\n  <g id=\"axes_1\">\n   <g clip-path=\"url(#p11be4d2dfd)\">\n    <image height=\"46\" id=\"imagef72760a4b8\" transform=\"scale(1 -1)translate(0 -46)\" width=\"46\" x=\"7.2\" xlink:href=\"data:image/png;base64,\niVBORw0KGgoAAAANSUhEUgAAAC4AAAAuCAYAAABXuSs3AAAABHNCSVQICAgIfAhkiAAAAixJREFUaIHtmE2vojAUhl/IhET3Rhfu/GH+aGMKxIhBQIUrEZVQaj9mJcnMcI1A5WYSnsQNPe15PK0H0Fgulwr/IeZPC7RlEO+bQbxvBvG+GcTrUEpBSvmRtT8qfjwesVqtwDnXvvbHxBljIIRgu93idrtpX/8j4lJKEEKQpimEEHBdF0rpfSTSLq6UQhAE8H2/uhbHMS6Xi9Y82sUppXBdF2VZVtcYY/B9X+sPVau4lBLr9fqf6iqlEEWR1qprE38ekSAIasfzPEcURdqqrk08yzI4jvOy9XmeB8aYlnxaxDnncBwHWZa9jCvLEpvNRkuH0SK+3++/PSJ/czgckOd555ydxdM0heM4b1fxer0iDMPOVe8kXpYlCCG43+9vz1FKwfd9FEXRJXV78afA6XRqPDfLMsRx3DY1gA7iaZqCENK6vdm23anDtBIvigKEkE6Ji6JAGIat5zcWl1Jit9t13mohBMIwBKW01fzG4kmSwLZtLXfAJEkQx3GrDtNInFIK27YhhGicqA4hBDzPa7XerybBSiksFgvMZjNQSkEpxePxAOccUkoopSCE+OMjpazG6vj6+sL5fMZ0Ov2c+Gg0wnw+rx2TUoJzDs45GGNgjIFSCiEEOOfVF3nGUEqrON/3MZlMYJrvH4BG4q8wTROWZcGyLIzH49oYpVT1Ai2lrHbEMAwYhtEonzbxd3gKNqnsdwz/q/TNIN43g3jfDOJ9M4j3zSDeN4N43/wGzReF8tDPRKcAAAAASUVORK5CYII=\" y=\"-18.77875\"/>\n   </g>\n   <g id=\"text_1\">\n    <!-- triangle -->\n    <defs>\n     <path d=\"M 18.3125 70.21875 \nL 18.3125 54.6875 \nL 36.8125 54.6875 \nL 36.8125 47.703125 \nL 18.3125 47.703125 \nL 18.3125 18.015625 \nQ 18.3125 11.328125 20.140625 9.421875 \nQ 21.96875 7.515625 27.59375 7.515625 \nL 36.8125 7.515625 \nL 36.8125 0 \nL 27.59375 0 \nQ 17.1875 0 13.234375 3.875 \nQ 9.28125 7.765625 9.28125 18.015625 \nL 9.28125 47.703125 \nL 2.6875 47.703125 \nL 2.6875 54.6875 \nL 9.28125 54.6875 \nL 9.28125 70.21875 \nz\n\" id=\"DejaVuSans-116\"/>\n     <path d=\"M 41.109375 46.296875 \nQ 39.59375 47.171875 37.8125 47.578125 \nQ 36.03125 48 33.890625 48 \nQ 26.265625 48 22.1875 43.046875 \nQ 18.109375 38.09375 18.109375 28.8125 \nL 18.109375 0 \nL 9.078125 0 \nL 9.078125 54.6875 \nL 18.109375 54.6875 \nL 18.109375 46.1875 \nQ 20.953125 51.171875 25.484375 53.578125 \nQ 30.03125 56 36.53125 56 \nQ 37.453125 56 38.578125 55.875 \nQ 39.703125 55.765625 41.0625 55.515625 \nz\n\" id=\"DejaVuSans-114\"/>\n     <path d=\"M 9.421875 54.6875 \nL 18.40625 54.6875 \nL 18.40625 0 \nL 9.421875 0 \nz\nM 9.421875 75.984375 \nL 18.40625 75.984375 \nL 18.40625 64.59375 \nL 9.421875 64.59375 \nz\n\" id=\"DejaVuSans-105\"/>\n     <path d=\"M 34.28125 27.484375 \nQ 23.390625 27.484375 19.1875 25 \nQ 14.984375 22.515625 14.984375 16.5 \nQ 14.984375 11.71875 18.140625 8.90625 \nQ 21.296875 6.109375 26.703125 6.109375 \nQ 34.1875 6.109375 38.703125 11.40625 \nQ 43.21875 16.703125 43.21875 25.484375 \nL 43.21875 27.484375 \nz\nM 52.203125 31.203125 \nL 52.203125 0 \nL 43.21875 0 \nL 43.21875 8.296875 \nQ 40.140625 3.328125 35.546875 0.953125 \nQ 30.953125 -1.421875 24.3125 -1.421875 \nQ 15.921875 -1.421875 10.953125 3.296875 \nQ 6 8.015625 6 15.921875 \nQ 6 25.140625 12.171875 29.828125 \nQ 18.359375 34.515625 30.609375 34.515625 \nL 43.21875 34.515625 \nL 43.21875 35.40625 \nQ 43.21875 41.609375 39.140625 45 \nQ 35.0625 48.390625 27.6875 48.390625 \nQ 23 48.390625 18.546875 47.265625 \nQ 14.109375 46.140625 10.015625 43.890625 \nL 10.015625 52.203125 \nQ 14.9375 54.109375 19.578125 55.046875 \nQ 24.21875 56 28.609375 56 \nQ 40.484375 56 46.34375 49.84375 \nQ 52.203125 43.703125 52.203125 31.203125 \nz\n\" id=\"DejaVuSans-97\"/>\n     <path d=\"M 54.890625 33.015625 \nL 54.890625 0 \nL 45.90625 0 \nL 45.90625 32.71875 \nQ 45.90625 40.484375 42.875 44.328125 \nQ 39.84375 48.1875 33.796875 48.1875 \nQ 26.515625 48.1875 22.3125 43.546875 \nQ 18.109375 38.921875 18.109375 30.90625 \nL 18.109375 0 \nL 9.078125 0 \nL 9.078125 54.6875 \nL 18.109375 54.6875 \nL 18.109375 46.1875 \nQ 21.34375 51.125 25.703125 53.5625 \nQ 30.078125 56 35.796875 56 \nQ 45.21875 56 50.046875 50.171875 \nQ 54.890625 44.34375 54.890625 33.015625 \nz\n\" id=\"DejaVuSans-110\"/>\n     <path d=\"M 45.40625 27.984375 \nQ 45.40625 37.75 41.375 43.109375 \nQ 37.359375 48.484375 30.078125 48.484375 \nQ 22.859375 48.484375 18.828125 43.109375 \nQ 14.796875 37.75 14.796875 27.984375 \nQ 14.796875 18.265625 18.828125 12.890625 \nQ 22.859375 7.515625 30.078125 7.515625 \nQ 37.359375 7.515625 41.375 12.890625 \nQ 45.40625 18.265625 45.40625 27.984375 \nz\nM 54.390625 6.78125 \nQ 54.390625 -7.171875 48.1875 -13.984375 \nQ 42 -20.796875 29.203125 -20.796875 \nQ 24.46875 -20.796875 20.265625 -20.09375 \nQ 16.0625 -19.390625 12.109375 -17.921875 \nL 12.109375 -9.1875 \nQ 16.0625 -11.328125 19.921875 -12.34375 \nQ 23.78125 -13.375 27.78125 -13.375 \nQ 36.625 -13.375 41.015625 -8.765625 \nQ 45.40625 -4.15625 45.40625 5.171875 \nL 45.40625 9.625 \nQ 42.625 4.78125 38.28125 2.390625 \nQ 33.9375 0 27.875 0 \nQ 17.828125 0 11.671875 7.65625 \nQ 5.515625 15.328125 5.515625 27.984375 \nQ 5.515625 40.671875 11.671875 48.328125 \nQ 17.828125 56 27.875 56 \nQ 33.9375 56 38.28125 53.609375 \nQ 42.625 51.21875 45.40625 46.390625 \nL 45.40625 54.6875 \nL 54.390625 54.6875 \nz\n\" id=\"DejaVuSans-103\"/>\n     <path d=\"M 9.421875 75.984375 \nL 18.40625 75.984375 \nL 18.40625 0 \nL 9.421875 0 \nz\n\" id=\"DejaVuSans-108\"/>\n     <path d=\"M 56.203125 29.59375 \nL 56.203125 25.203125 \nL 14.890625 25.203125 \nQ 15.484375 15.921875 20.484375 11.0625 \nQ 25.484375 6.203125 34.421875 6.203125 \nQ 39.59375 6.203125 44.453125 7.46875 \nQ 49.3125 8.734375 54.109375 11.28125 \nL 54.109375 2.78125 \nQ 49.265625 0.734375 44.1875 -0.34375 \nQ 39.109375 -1.421875 33.890625 -1.421875 \nQ 20.796875 -1.421875 13.15625 6.1875 \nQ 5.515625 13.8125 5.515625 26.8125 \nQ 5.515625 40.234375 12.765625 48.109375 \nQ 20.015625 56 32.328125 56 \nQ 43.359375 56 49.78125 48.890625 \nQ 56.203125 41.796875 56.203125 29.59375 \nz\nM 47.21875 32.234375 \nQ 47.125 39.59375 43.09375 43.984375 \nQ 39.0625 48.390625 32.421875 48.390625 \nQ 24.90625 48.390625 20.390625 44.140625 \nQ 15.875 39.890625 15.1875 32.171875 \nz\n\" id=\"DejaVuSans-101\"/>\n    </defs>\n    <g transform=\"translate(14.528125 13.27875)scale(0.08 -0.08)\">\n     <use xlink:href=\"#DejaVuSans-116\"/>\n     <use x=\"39.208984\" xlink:href=\"#DejaVuSans-114\"/>\n     <use x=\"80.322266\" xlink:href=\"#DejaVuSans-105\"/>\n     <use x=\"108.105469\" xlink:href=\"#DejaVuSans-97\"/>\n     <use x=\"169.384766\" xlink:href=\"#DejaVuSans-110\"/>\n     <use x=\"232.763672\" xlink:href=\"#DejaVuSans-103\"/>\n     <use x=\"296.240234\" xlink:href=\"#DejaVuSans-108\"/>\n     <use x=\"324.023438\" xlink:href=\"#DejaVuSans-101\"/>\n    </g>\n   </g>\n  </g>\n  <g id=\"axes_2\">\n   <g clip-path=\"url(#p1b4136ae8e)\">\n    <image height=\"46\" id=\"imageb7ab18f8d5\" transform=\"scale(1 -1)translate(0 -46)\" width=\"46\" x=\"76.186957\" xlink:href=\"data:image/png;base64,\niVBORw0KGgoAAAANSUhEUgAAAC4AAAAuCAYAAABXuSs3AAAABHNCSVQICAgIfAhkiAAAAo5JREFUaIHtmGtr6kAQht/JGhuvq8RKKV6Cv9e/qBQVsRKh8VJNNmbPh0Pl0PYcdhKTQyHPNyEz87DZjbND0+lU4wdi/W+BtJTiRVOKF00pXjSleNFU7pmMiGDbNiqVCogIRAStNZIkgVIKcRzfrdZdxIkIUkq02220Wi3U6/Wb/PV6hVIKx+MRp9MJvu8jDMPMNTOJExEcx8FwOISUErZtf3lGCAEhBBzHgeu6eHx8xHa7xXa7zfQGUosTEXq9HkajER4eHoxj6vU6PM+DlBIvLy84n8+p6qc+nK7rwvM8Y+nPdLtdTCYT1Gq1VPGpxDudDsbj8bdbg4OUEp7noVLhv3i2uBACg8Eg9Up/ptvtot/vs+PY4q7rot1uswv9i36/z14IlrhlWXh6emIVMKFWq6HX67FiWOLNZhPVapVVwAQiQqPRYO11lnij0ch8IP9Gs9lk5WaJ27YNImJLmea2LHMd4yc/eo+8EEKw8huLa62hdX6TDG5+1lZJkoQtZEocx/mJXy6Xu7amf/L+/s7KzRIPggBRFLGlTDgcDlBKGT/PEldK4XA4sKVM8u73+/y2CgCsVivWypgQBAGCIGDFsMWjKMJ6vcb1euWGfksYhlgul+wvFltca43X11fsdrvMn0elFBaLBS6XCzs21Q0ojmPM53MAv7tFIQQ7RxiGWCwW8H0/1QKkvrolSXK7ej0/P7P6jP1+j9Vqhbe3t7Tls12W4zjGer2G7/sYDAZotVqoVqtfujytNZRSiKIIm80Gu90u8xnJPJ7QWiMMQ8xmM9i2DSklHMeBZVm3uYpSCqfTCcfj8W7/vncdCCml4Pv+7feHeB7kOoLLsyn7sbPDUrxoSvGiKcWLphQvml+N2AKGwgotsQAAAABJRU5ErkJggg==\" y=\"-18.77875\"/>\n   </g>\n   <g id=\"text_2\">\n    <!-- circle -->\n    <defs>\n     <path d=\"M 48.78125 52.59375 \nL 48.78125 44.1875 \nQ 44.96875 46.296875 41.140625 47.34375 \nQ 37.3125 48.390625 33.40625 48.390625 \nQ 24.65625 48.390625 19.8125 42.84375 \nQ 14.984375 37.3125 14.984375 27.296875 \nQ 14.984375 17.28125 19.8125 11.734375 \nQ 24.65625 6.203125 33.40625 6.203125 \nQ 37.3125 6.203125 41.140625 7.25 \nQ 44.96875 8.296875 48.78125 10.40625 \nL 48.78125 2.09375 \nQ 45.015625 0.34375 40.984375 -0.53125 \nQ 36.96875 -1.421875 32.421875 -1.421875 \nQ 20.0625 -1.421875 12.78125 6.34375 \nQ 5.515625 14.109375 5.515625 27.296875 \nQ 5.515625 40.671875 12.859375 48.328125 \nQ 20.21875 56 33.015625 56 \nQ 37.15625 56 41.109375 55.140625 \nQ 45.0625 54.296875 48.78125 52.59375 \nz\n\" id=\"DejaVuSans-99\"/>\n    </defs>\n    <g transform=\"translate(88.300082 13.27875)scale(0.08 -0.08)\">\n     <use xlink:href=\"#DejaVuSans-99\"/>\n     <use x=\"54.980469\" xlink:href=\"#DejaVuSans-105\"/>\n     <use x=\"82.763672\" xlink:href=\"#DejaVuSans-114\"/>\n     <use x=\"121.626953\" xlink:href=\"#DejaVuSans-99\"/>\n     <use x=\"176.607422\" xlink:href=\"#DejaVuSans-108\"/>\n     <use x=\"204.390625\" xlink:href=\"#DejaVuSans-101\"/>\n    </g>\n   </g>\n  </g>\n  <g id=\"axes_3\">\n   <g clip-path=\"url(#p38d5b7e4c7)\">\n    <image height=\"46\" id=\"imagef27483f78b\" transform=\"scale(1 -1)translate(0 -46)\" width=\"46\" x=\"145.173913\" xlink:href=\"data:image/png;base64,\niVBORw0KGgoAAAANSUhEUgAAAC4AAAAuCAYAAABXuSs3AAAABHNCSVQICAgIfAhkiAAAAcNJREFUaIHtmOuOgjAQRr9uKzya7/82Ujqd/bEZJCi1lynqhpOYGMHm9PYx1FyvV8YX8vNugVpO8aM5xY/mFD+aU/xossWNMT09inG5Nw7DAABgZsQYl8+7yBZnZozjuHwXaWYGESGEAGZefutNtngIAcMwwBgDYwystfdGnFs6RUSIMYKIlg4ys3pnikaciOBc+i/WWlhrcblcHsSlDenUR4mv2c6MtANg6ZAsM7mW26F8C/wtF+fcg0wJkk7Shiyz7aaXTu0FQJF4zxSR2ZEOMTO89/DeP72/+AEk09qbEALmed69/pHiRIRpmpLrvVg8xthVnohwu91ebtKqWqWXuEjn7KUqccliTWQz5gZAlbjElRbMjGmaimayuqzVHHHvfTJBnlEtvi6qWkhldYpqcY2ydp7nKmmg8Q2odHrX5GR1iibx2iovN6tTNIkzc3Gml2R1imbxklFnZhVpQOEtP1V6rpGs1qowm8VzHkbyVGzZzFtUzlVerfOW2NtDTXxv1HtIA0rie+kSQmjK6hRqR3BbcY2sTqEmLmcpQH9poPBlOcW6dimpq2tREwfuy+WI99Iu4kfw/8/HP41T/Gi+VvwXqO20J5RZ3QkAAAAASUVORK5CYII=\" y=\"-18.77875\"/>\n   </g>\n   <g id=\"text_3\">\n    <!-- triangle -->\n    <g transform=\"translate(152.502038 13.27875)scale(0.08 -0.08)\">\n     <use xlink:href=\"#DejaVuSans-116\"/>\n     <use x=\"39.208984\" xlink:href=\"#DejaVuSans-114\"/>\n     <use x=\"80.322266\" xlink:href=\"#DejaVuSans-105\"/>\n     <use x=\"108.105469\" xlink:href=\"#DejaVuSans-97\"/>\n     <use x=\"169.384766\" xlink:href=\"#DejaVuSans-110\"/>\n     <use x=\"232.763672\" xlink:href=\"#DejaVuSans-103\"/>\n     <use x=\"296.240234\" xlink:href=\"#DejaVuSans-108\"/>\n     <use x=\"324.023438\" xlink:href=\"#DejaVuSans-101\"/>\n    </g>\n   </g>\n  </g>\n  <g id=\"axes_4\">\n   <g clip-path=\"url(#p4c3a196d95)\">\n    <image height=\"46\" id=\"image7683a81b2c\" transform=\"scale(1 -1)translate(0 -46)\" width=\"46\" x=\"214.16087\" xlink:href=\"data:image/png;base64,\niVBORw0KGgoAAAANSUhEUgAAAC4AAAAuCAYAAABXuSs3AAAABHNCSVQICAgIfAhkiAAABFJJREFUaIHVmWlP6kwYhu8OZYkUlcXKElCiQUKIkGjUGP3kz/WPGLeIUQLEDQxgWFUoIm2H98PJMfZQoGzV9/pEZoZydTLzzPMMzPHxcRf/Q8hPC4wLO60HSZIESZIgyzJkWYYoiuh2uzAYDDAajSCEgBACk8kEQiafr4nEZVlGrVZDtVpFpVJBqVSCIAiQZblnrMlkwsLCAjweDxYXF8HzPDiO01ecUopSqYRUKoVqtYpms4lud/BW6XQ6KJfLKJfLYFkWdrsdHo8HoVBorBcYSZxSinq9jkQigUKhAEmSRv5B4M+yKpfLqFQqSKVSiMViCAaDmJub0/wMzeKiKOL+/h43NzdoNptjCf9Lt9tFp9PBxcUF8vk84vE4eJ7X9F1N4qIo4vT0FE9PTxBFcSJZNSilKBQKaDQa2NraQiAQGLqBh4oLgoCzszNks9mh63hSGo0GTk5O0Gq1EA6HB8oPfC1RFHF5eYlcLjdz6b+0221cX18jl8sNHNdXnFKK29tbPDw8gFI6dcFBtNttnJ+fo1Qq9R3TVzyfzyOZTOo20//SbDZxdXWFVqul2q8qLggCkskkOp3OTOWG8fLygsfHR9U+VfHn52cUi8WZSmmBUopEIgFBEHr6esRlWUYymdRFTAuiKCKdTve094jncrmpHTDToNvtolgs9jgpxCmlyGazukeRYdTr9Z4IoxBvNptoNBq6SmlBkiS8vr4qJlQhXq/Xf6U4ABSLRUWUU4h/fHzMJBeZBm9vb+oz/jdT+6kDZxidTkdRoHyJU0p//MAZxvf8n/Tr+I2ozjiAqRSxs4RhmK/P5Hsjy06t6J8J3/2+xAkhsFgsPyKkBYPBoC4OAGazGQaDQXcpLVitVoWbQtxms41UaesJz/P9Z9zhcGB+fl53qWEwDAOXy9VfnGVZLC0tKXbvb4DjODidTkVbT/xbX1+H0WjUTUoLTqcTDodD0dYjbrVasbq6qpfTUFiWRTgc7gkaPeIMwyAUCsFqteomNwiv16t6u6V6VDocDmxsbPx4aOQ4DrFYTPVEVxUnhCAUCsHtds9crh9GoxHRaBR2u121v29yYrFYsL29PdEd9rgwDIPV1VWsra31zZ8GZlV2ux0HBwe6xnZCCPx+P3Z2dgZGt6Hp4PLyMvb393WZeYZhEAwGsbu7OzQkDxVnGAZutxtHR0fw+Xwz27AmkwmxWAx7e3uaIprmPNZut+Pw8BCZTAbpdFr1dmlcPB4PIpEIfD6f5ppgpATcYrEgGo3C6/Uik8l8XfSPU6cSQsBxHCKRCPx+/8jnxsiVAyEELpcLTqcTm5ubuLu7Q7lcxvv7O1qtluo/bsCfJWc0GmGz2WCz2bCysoJAIDD20hu75GEYBhzHIR6PQ5Ik1Go1NBoNfH5+ot1uQ5IkUEphMBhgNpthMplgsVjgcDjAcdzEZeJUajWWZcHz/NfRTClVLB9CyNQzzpkUmXoU3b+7rB/Af9R7rkhDHy+zAAAAAElFTkSuQmCC\" y=\"-18.77875\"/>\n   </g>\n   <g id=\"text_4\">\n    <!-- circle -->\n    <g transform=\"translate(226.273995 13.27875)scale(0.08 -0.08)\">\n     <use xlink:href=\"#DejaVuSans-99\"/>\n     <use x=\"54.980469\" xlink:href=\"#DejaVuSans-105\"/>\n     <use x=\"82.763672\" xlink:href=\"#DejaVuSans-114\"/>\n     <use x=\"121.626953\" xlink:href=\"#DejaVuSans-99\"/>\n     <use x=\"176.607422\" xlink:href=\"#DejaVuSans-108\"/>\n     <use x=\"204.390625\" xlink:href=\"#DejaVuSans-101\"/>\n    </g>\n   </g>\n  </g>\n  <g id=\"axes_5\">\n   <g clip-path=\"url(#p94590ca068)\">\n    <image height=\"46\" id=\"imaged05a75fdf9\" transform=\"scale(1 -1)translate(0 -46)\" width=\"46\" x=\"7.2\" xlink:href=\"data:image/png;base64,\niVBORw0KGgoAAAANSUhEUgAAAC4AAAAuCAYAAABXuSs3AAAABHNCSVQICAgIfAhkiAAAAwNJREFUaIHtmFtP6kAURj8ol9LUS2mKWhOjbz76t/0dxhvavhhNCIkxxDYUaSzQcqnM9Dyc5OQYuXQ6A8bIemrI3ntWpps9A7nz8/MEP5D8dwtkZSO+bn63eJIkGI1GIkqlRog4IQSWZSEIAhHlUiFEPIoiuK6Lm5sb9Ho9ESWXIkTcdV1QShEEAS4uLtDtdpEkqz0ehIh3u91/z2EYol6v4+3tTUTpuXCLx3H85YvZ7/dxeXmJdrsNSinvEjPhFg+CAOPx+Mvnk8kE9Xodr6+vK5FfmTgADIdD2LaNVqslvOe5xCmlGA6HC3d0PB7Dsiw0m01Mp1Oe5T7BJR7HMd7f35fGfXx84PHxEY1GQ1jbFHiS04oDf3v+6ekJhBCcnp6iVCrxLM2346PRCHEcp44nhKDRaODh4YEpbxZc4p7nMecQQvD8/AzbtkEIybw2V6u4rpspjxCCl5cXUEpxdnYGRVGYa2Te8TiO547BtLRaLViWhclkwpybWdz3fSHjzXEcXF9fI4oiprzM4p7nCZvL7XYbt7e3TNfiTOKUUuE/HDqdDu7u7tDv91PFZxKPoghhGGZJXYjv+7i6uoLneUuvCJnEwzDEYDDIJLeMIAhg2zY6nc7CuEzirAcPK71eD/f393AcZ+7OM4tTSuH7PrfcMqIoQrPZnDttmA+g6XS69DXyoCgKTNPE/v4+VFVFpVKZGZdJXGR/y7IMVVWh6zqOjo6ws7ODfD6PfH5xMzCLi2gTWZaxt7eHarUKTdOg6zokSWKqwSzuOA5rCgqFAkqlEnRdx8nJCVRVhSzLXFdbJnFKaeoDolwuQ9M0bG1t4eDgALVaDYUC153uE0yVwjBcOAYlSYJhGDBNE9vb29jd3YUsy9ySs2AS933/042wWCyiUqlAVVUcHx/DMAwUi0VIkoRcLidc9n9SiydJgjAMkSQJDMOAruvQNA21Wm3uyFolTDt+eHgI0zShKArK5fLSkbVKUovncjlUq9VVujDxu//Y/w424utmI75uNuLr5seK/wE9EW8Eo9SklAAAAABJRU5ErkJggg==\" y=\"-88.07875\"/>\n   </g>\n   <g id=\"text_5\">\n    <!-- triangle -->\n    <g transform=\"translate(14.528125 82.57875)scale(0.08 -0.08)\">\n     <use xlink:href=\"#DejaVuSans-116\"/>\n     <use x=\"39.208984\" xlink:href=\"#DejaVuSans-114\"/>\n     <use x=\"80.322266\" xlink:href=\"#DejaVuSans-105\"/>\n     <use x=\"108.105469\" xlink:href=\"#DejaVuSans-97\"/>\n     <use x=\"169.384766\" xlink:href=\"#DejaVuSans-110\"/>\n     <use x=\"232.763672\" xlink:href=\"#DejaVuSans-103\"/>\n     <use x=\"296.240234\" xlink:href=\"#DejaVuSans-108\"/>\n     <use x=\"324.023438\" xlink:href=\"#DejaVuSans-101\"/>\n    </g>\n   </g>\n  </g>\n  <g id=\"axes_6\">\n   <g clip-path=\"url(#p6f3e9cb033)\">\n    <image height=\"46\" id=\"imaged9b63e19c8\" transform=\"scale(1 -1)translate(0 -46)\" width=\"46\" x=\"76.186957\" xlink:href=\"data:image/png;base64,\niVBORw0KGgoAAAANSUhEUgAAAC4AAAAuCAYAAABXuSs3AAAABHNCSVQICAgIfAhkiAAABFZJREFUaIHtmc1LG00Ah5/9StbsbsywbjRuNlGjaTRttWBrT4UiQluRoKBEj/6PHgr15MFDEcFLaW0P9iK0PQTREiFu35N5aWt0v/SlL31gL7szs89sNjO/mZXevHnzgz8Q+b8WiMpf8bvmr/hd8/8V//r1K9vb23z+/Jnv37/T6XTuwutG1JsKZDIZPn36xOvXr8lms0xOTjI2NobjOAwNDaGqNzZxKwQStywL3/dptVrs7u7y9u1bbNtmcHAQz/Oo1+s4joMkSXfhDIAUZObc2dlha2vrytdEVVVUVUUIwcOHD6lWq/T392NZFoqi3Io0BHjiAOPj46iqeqV4p9Oh0+lwfHzM8fEx29vbuK5LuVxmeHiYsbExhBCJ/xqBxB3HIZVK0W63byzb6XQ4Ojri6OgIXdfJZrPYts309DTj4+NkMhk0TYvdkUDiiqLgui4nJyehGm+327Tbbb58+cL79++RZZnR0VHq9Tr5fJ5CoYBpmpE6EUhckiRqtRrv3r0LfYNLfN/H930ODw85PDzEMAxc18VxHO7du0elUiGdTicrDuC6LoqicHFxEUn8V87Ozvjw4QMfP35kb28PXdcplUo8fvyYgYEBTNOkr68vvrhhGAgh+PbtWyLil/i+332lWq0WBwcHmKbJxMQEnufhui6e55FKpaKJm6aJ67qJi1/F6ekp+/v7HBwcYFkWQgiKxSJPnjyhUCgAIcR1XSefz9+a7FVcXFzQarW6R6VS6YoHDlmSJCGECPUHSgrbtllaWmJqaqp7LlTQ8DwP0zQ5Pz9PXK4Xtm2zvr5OqVRClv99zqFireM4GIaRuFwvisUiGxsbjIyM/CQNIcVVVcW27UTlelEoFFhdXaVUKl15PfRCol6v/9b7JJFlmZGRETY3N3Fdt+esGjpMl0qlW4uvsiwzMTFBo9FACHF92bCN9/X1kc1mI8v1QlEUqtUqzWYz0LAbWlzTNKrVaiS5XqiqyqNHj2g2m1iWFahOaHFFUSgWi6HlegrIMrOzs7x69QrTNAPXC/2OS5JELpdD1/VA+fw6dF3n6dOnLCwshJ7YIg0Ptm0zMDAQpWqXVCrF8+fPmZ+fjzQbRxIXQsQaz9PpNC9evODZs2fXRtfriLS3oGkaQghkWcb3/VB1TdPk5cuXzM7OxlpMR55JyuUymqaFqpNOp2k0GrGlIeITBxgdHUXTtMCBSwhBo9FgamoqkZk3cguGYQQevoQQrKysJBoXIrciSRKVSuXGcrZt02w2mZycTDQqxOp+rVa79nq5XGZjYyNQB8MSSzyXy/Ucgz3PY3l5mXK5HOcWPYklbhhGdw14iaIo1Go11tbWEo0GvxJLPJPJ4HneT+fq9TrLy8u/dShpYm1uq6pKLpfrjskPHjxgcXHxxiydBLF35fP5PJZlcf/+fRYWFu5sTRpb3HVd5ufnmZmZiZw7ohBb3LIs5ubmbnUdehWxxSVJutNPKJf8sZ8L/wEOFOidLWuH8QAAAABJRU5ErkJggg==\" y=\"-88.07875\"/>\n   </g>\n   <g id=\"text_6\">\n    <!-- triangle -->\n    <g transform=\"translate(83.515082 82.57875)scale(0.08 -0.08)\">\n     <use xlink:href=\"#DejaVuSans-116\"/>\n     <use x=\"39.208984\" xlink:href=\"#DejaVuSans-114\"/>\n     <use x=\"80.322266\" xlink:href=\"#DejaVuSans-105\"/>\n     <use x=\"108.105469\" xlink:href=\"#DejaVuSans-97\"/>\n     <use x=\"169.384766\" xlink:href=\"#DejaVuSans-110\"/>\n     <use x=\"232.763672\" xlink:href=\"#DejaVuSans-103\"/>\n     <use x=\"296.240234\" xlink:href=\"#DejaVuSans-108\"/>\n     <use x=\"324.023438\" xlink:href=\"#DejaVuSans-101\"/>\n    </g>\n   </g>\n  </g>\n  <g id=\"axes_7\">\n   <g clip-path=\"url(#p09d7956107)\">\n    <image height=\"46\" id=\"imaged9cde1cc5f\" transform=\"scale(1 -1)translate(0 -46)\" width=\"46\" x=\"145.173913\" xlink:href=\"data:image/png;base64,\niVBORw0KGgoAAAANSUhEUgAAAC4AAAAuCAYAAABXuSs3AAAABHNCSVQICAgIfAhkiAAAAiFJREFUaIHtmOuuojAYRTetF1DECxpv7/8UvoyJERMjChRECbbzS2NydJx+ICeTsBJ+6WavSEtbjdVqpfAfwn5bgEotXjW1eNXU4lVTi1dNLV41jbJupJRCnucIwxBxHCPPcyilYBgGTNNEv99Hp9MB57yUvlLE0zSF7/sIggC32+3H50mS4Hg8otlsYjqdwnEcNBrFqgullVKIogi73Q7X6/Xjd7Msw3a7RRRFWCwWaLVa5O5CYzwIAmw2m4/Sz0gpEYYh1us1siwjd5PF4ziG53kvh8a/kKYpPM9DnuekPEk8z3McDgdy6R0hBMIwJGVJ4kIICCFIhc9IKbHf70lPTVtcKQUhBKSU2mWvyLIM5/NZO6ctLqUs5dd+hjJcSOLUCfmOy+WindEWv91uUKrcPwYo99MWZ6z87Y1hGNoZknjZ8pTlnyRumqZ20d+wbVs7QxIfDofaRe/gnKPf72vnSM+82+2i3W5Toj8YDAbVDBUAsCwLrusWHuvtdhuu61YzOe+4rovBYECNg3OO+XwOy7JIefJ+nDGG2WwGADidTlrv4kajgcViAcdxqPXFDhLNZhPL5RKmacL3/Y/7csYYer0exuMx6U3yTOGjG2MMk8kEtm0jSRIEQYA0TR+bMMMwwDlHr9d7XEWPbaWI37EsC5ZlYTQaQUr5uDjnj0WLMgnfUZr4nW+srC97vt7wJWrxqqnFq6YWr5pavGpq8ar5AyGGzzl1egejAAAAAElFTkSuQmCC\" y=\"-88.07875\"/>\n   </g>\n   <g id=\"text_7\">\n    <!-- circle -->\n    <g transform=\"translate(157.287038 82.57875)scale(0.08 -0.08)\">\n     <use xlink:href=\"#DejaVuSans-99\"/>\n     <use x=\"54.980469\" xlink:href=\"#DejaVuSans-105\"/>\n     <use x=\"82.763672\" xlink:href=\"#DejaVuSans-114\"/>\n     <use x=\"121.626953\" xlink:href=\"#DejaVuSans-99\"/>\n     <use x=\"176.607422\" xlink:href=\"#DejaVuSans-108\"/>\n     <use x=\"204.390625\" xlink:href=\"#DejaVuSans-101\"/>\n    </g>\n   </g>\n  </g>\n  <g id=\"axes_8\">\n   <g clip-path=\"url(#pbb97f03728)\">\n    <image height=\"46\" id=\"image8e5cdfaf9f\" transform=\"scale(1 -1)translate(0 -46)\" width=\"46\" x=\"214.16087\" xlink:href=\"data:image/png;base64,\niVBORw0KGgoAAAANSUhEUgAAAC4AAAAuCAYAAABXuSs3AAAABHNCSVQICAgIfAhkiAAAA7hJREFUaIHtmU1P8kwUhm9mSoFOW9oBbCkiNQU1hggYjSAxRI3+XX+GLNxpXLHDBYnB4I40Bd8deRTFfuEbE6/lZM6cq+lM58w0cXNz84ZfCPm/BcLyJ/7T/In/NH/iP82vFRf8dHp4eIDneSiXy9A0DYQQJBKJdbutxJe453m4vb1Fv99HMplEsViEbdvI5XLIZDLIZDJIJpPrdn2HL/Ht7W30+324rgvXdTEYDDAYDEAphaZpMAwDmqZB13UYhgHG2NrfiC9xRVGgKArG4/G79tlshvF4vGhPp9OQJAmSJME0TTiOg2w2C0EQQCmN9WF8iRNCUKvVlsQ/Mp1OMZ1O8fLygqenJ9zd3UEURRiGgUqlgmw2C1VVoaoqUqnU+sUBYHNzE4QQzOfzQAlc18VwOMRwOASlFIqigHMOWZZRLBZhWRZkWQ78NnyLy7KMXC6H5+fnQAn+ZTabYTKZYDKZAAAeHx8hCAIkSUKpVIJt29A0DclkEplMBpTS6OKMMViWFUn8I57nwfO8xfS6v7+HKIrgnMOyLKiqCs45CoXC0tTyLU4pha7rEAQBnufFJv8R13UxGo0wGo1AKQVjDM1mE41G4910CrRzlstlMMZil/2Kt7c3GIaBer2+tAYCiWez2R8Vt20bZ2dnEITliRFInBAC27bj8lpJpVLBxcUFZFn+3CXogI7jgJD11mblchlXV1eQJOnLPoENGGNQVTWS2CpKpRJ6vd5KaSCEuCAIqNVqocVWYZomrq+vwTn/tm9gcUIICoXCys0hDIZh4Pz8HIqi+PMIk0TXdei6Hib0U/L5PHq9HvL5vO+YUOKapiGXy4UJXYJzjsvLS5imGaheCSVOKUU+n4/8ddE0Dd1uFxsbG4FjQ2d2HAeiKIYNh6qq6PV6sG07VJ0eWjzKLsoYw+npKSqVSujDRWjxRCIBx3ECx0mShE6ng2q1GjY1gIjXE7ZtB5rnqVQK3W4X+/v7kddHpGhJkqBpmq++oiji+PgYu7u7UVIuiCTOGMPW1ta3/URRxMnJCRqNRmx1TqRRKKXgnH9adv7b5/DwEM1mM9bdNvLjm6b5ZekpCAJarRZarVbs9yyRxTnnn9YXhBC0Wi2cnJys5ZYrsjghBJZlLbXX63UcHR3FXowt8sYxyM7OzmLREUJwcHCAdru91vvEWMRlWV4cLvb29tDpdJBOp+MY+kt8X0+sglKKarWK19dXtNvtyNdrfohFnBCCZrOJ+Xz+5RcmbmIRB/DtGTFufu2vlD/xn+Y/MXGp/RINc8UAAAAASUVORK5CYII=\" y=\"-88.07875\"/>\n   </g>\n   <g id=\"text_8\">\n    <!-- triangle -->\n    <g transform=\"translate(221.488995 82.57875)scale(0.08 -0.08)\">\n     <use xlink:href=\"#DejaVuSans-116\"/>\n     <use x=\"39.208984\" xlink:href=\"#DejaVuSans-114\"/>\n     <use x=\"80.322266\" xlink:href=\"#DejaVuSans-105\"/>\n     <use x=\"108.105469\" xlink:href=\"#DejaVuSans-97\"/>\n     <use x=\"169.384766\" xlink:href=\"#DejaVuSans-110\"/>\n     <use x=\"232.763672\" xlink:href=\"#DejaVuSans-103\"/>\n     <use x=\"296.240234\" xlink:href=\"#DejaVuSans-108\"/>\n     <use x=\"324.023438\" xlink:href=\"#DejaVuSans-101\"/>\n    </g>\n   </g>\n  </g>\n  <g id=\"axes_9\">\n   <g clip-path=\"url(#p6e880dbbfa)\">\n    <image height=\"46\" id=\"image69e02eaf5a\" transform=\"scale(1 -1)translate(0 -46)\" width=\"46\" x=\"7.2\" xlink:href=\"data:image/png;base64,\niVBORw0KGgoAAAANSUhEUgAAAC4AAAAuCAYAAABXuSs3AAAABHNCSVQICAgIfAhkiAAAAyRJREFUaIHtmd1PqzAYh39tOiYqY274GUX0wjj9y/17jBfeLCAxxA0RXOYQGnouTjTm5EjLqDMmPrf9eB/elbctI1dXVwI/EPrdAsvyK75qfsVXDfuKSYUQqKoKQghQSkGp/vxoEeecI89zxHGMJElQFAWEEBBCgBACQgg2NzfhOA62trbQ6XRaP0wr8dfXV8RxjCiKkKYphPh8S5jNZoiiCIwx7O7uYmdnB4PBYOkHWEpcCIEkSeD7PtI0RVVVymM557i/v8dkMsH+/j5c14Vpmo0dGotzznF3d4cgCMA5bxzwjbIsEYYh4jjG5eUlbNsGIUR5fKPfiXOO8XiM8XjcSvoNIQReXl5wfX2N6XRau9T+RVm8qioEQYAwDBsFUCHPc9ze3iLLMuUxyuJRFMH3/UbruQl5nuPm5gZ5niv1VxLP8/xLpd9YLBYIgkApjlRcCAHf97FYLLTIyWJFUYQkSaR9peKz2QyPj4/a1/VnlGWJyWQizbpUPMuylWT7Iw8PDyjLsrZPrTjnHHEcryzbH+M+PT3V9qkVr6oKaZpqlVJlOp3WtkszrmOjWYb5fF7bXiteFIVWmSa8HY0/Q5rx76KV+FdcAJpQd+iqNTMMQ7uMKoSQ2sTViuu4qSxLt9tdPuOEEGxsbGiXUmEwGNS2SzPuOI5WIRUIIdK40oz3+310Oh2tYjJs28ba2lptH+kC7vV6sG1bm5QMSikODg7AWP2tUipuGAaOjo6kE+mi3+8rLU+lkuE4Dvb29lpLyWCMwfM8dLtdaV/lWud5nvRNbwMhBMfHx8oxlMVN08TZ2dmXrHdKKVzXheu6yp8oGu0ulmVhNBppzTylFJ7n4fT0tNF71HhbtCwLFxcXODw8bPXCEkKwvr6O8/NznJycNJ5rqcimaWI0GmF7exthGCLLMulV66OwaZoYDofwPE9arz+jVY1zHAe9Xg/Pz89I0xRxHGM+n//3OMoYey91tm3DsqxGn9y0igN/67zjOBgOh3BdF0IIlGWJoihQVRUYYzAMA4wxUEq17QfadhVCyPsxWKUOt+XH/pXyK75qfsVXzY8V/wMmx0CTk0AlYgAAAABJRU5ErkJggg==\" y=\"-157.37875\"/>\n   </g>\n   <g id=\"text_9\">\n    <!-- circle -->\n    <g transform=\"translate(19.313125 151.87875)scale(0.08 -0.08)\">\n     <use xlink:href=\"#DejaVuSans-99\"/>\n     <use x=\"54.980469\" xlink:href=\"#DejaVuSans-105\"/>\n     <use x=\"82.763672\" xlink:href=\"#DejaVuSans-114\"/>\n     <use x=\"121.626953\" xlink:href=\"#DejaVuSans-99\"/>\n     <use x=\"176.607422\" xlink:href=\"#DejaVuSans-108\"/>\n     <use x=\"204.390625\" xlink:href=\"#DejaVuSans-101\"/>\n    </g>\n   </g>\n  </g>\n  <g id=\"axes_10\">\n   <g clip-path=\"url(#pff1cbd4785)\">\n    <image height=\"46\" id=\"imagee3d8634fca\" transform=\"scale(1 -1)translate(0 -46)\" width=\"46\" x=\"76.186957\" xlink:href=\"data:image/png;base64,\niVBORw0KGgoAAAANSUhEUgAAAC4AAAAuCAYAAABXuSs3AAAABHNCSVQICAgIfAhkiAAAAyFJREFUaIHtme9PqlAYx78HEBSUmhXTfphzrGho6nqRvelvu3+m09YMZElgW7XlQon74s7WLb3KkcC7+Xmrz+HDc57zEyIIQoD/ECZpAVo24nGzEY+bRMV5ngfLslSxiYinUilomobr62uIokjVBhex0z8hhODw8BC1Wg2lUgnD4RAcR6cQm7goitB1HWdnZ8hmswAAhmHAMHSd/uPiPM/j4OAAV1dXkGX5L1GWZddTXFEUVKtVqKo6syTWLuM8z0PXdei6jlwuB0LIzP+tjTjLsjg6OkKz2UShUJgrPIVWGohQXJZlVKtVaJqGdDq9VAzDMNTz+MrigiCgXC7j8vISoiiGzuKiXpnHSuKf52SazMU+q4iiiFqthtPT0485mQZCSDwZn87JrVYL29vb1A+dEot4Pp9Ho9FApVIBz/NUD/vKKi++UDyTyeDk5AT1eh2SJK2c5c8QQqKvcYZhcHx8jPPzc+zv70cqPCXyjEuShGazCVVVqbedy0Kb8ZlRxWIRiqJAEISVpH6SmRm/ubmBbdtQVRW6rkOW5R8ToF05WY7jfs36wfM82LaNu7s7+L6Pra0tcBwXea33ej24rhs6bq74lLe3N/T7fRiGAYZhkM1mkUqlKDW/Y5omHh4eQsctFJ8yGo1gWRZs2wbP898OBbQYhgHHcULHhVo5J5MJLMvCYDBAoVDAxcUFFEVZaUGK9czp+z4sy4LjOKhUKtA0DcVikar+E9nWep6HdrsN0zRRLpdRr9dDl9B0wAdBuEvjpWv8X4zHYziOg263C9/3kclkkE6nl+oBx3FgmmYy4lMmkwnu7+8xGAzgeR52d3cXloLrujAMI7R45IflIAjgui4eHx/R6XTQaDRQKpXmbh1YlqUbG1Fm/DNBEGA0GqHX62E4HIJlWeRyuW898PT0hNvb2+Qz/pUgCD4Wmb29PbRaLezs7Hy8wNpl/Cu+7+P5+RmdTgcvLy8QBAGSJOH19RXdbhfv7++h2ov10hP4M4Db7Tb6/T5UVUU+n6dqhyT51Y0QAo7jMB6PQ8cmerEfBAGVNLD5lBI/G/G42YjHzW/daOhKj7NZGgAAAABJRU5ErkJggg==\" y=\"-157.37875\"/>\n   </g>\n   <g id=\"text_10\">\n    <!-- triangle -->\n    <g transform=\"translate(83.515082 151.87875)scale(0.08 -0.08)\">\n     <use xlink:href=\"#DejaVuSans-116\"/>\n     <use x=\"39.208984\" xlink:href=\"#DejaVuSans-114\"/>\n     <use x=\"80.322266\" xlink:href=\"#DejaVuSans-105\"/>\n     <use x=\"108.105469\" xlink:href=\"#DejaVuSans-97\"/>\n     <use x=\"169.384766\" xlink:href=\"#DejaVuSans-110\"/>\n     <use x=\"232.763672\" xlink:href=\"#DejaVuSans-103\"/>\n     <use x=\"296.240234\" xlink:href=\"#DejaVuSans-108\"/>\n     <use x=\"324.023438\" xlink:href=\"#DejaVuSans-101\"/>\n    </g>\n   </g>\n  </g>\n  <g id=\"axes_11\">\n   <g clip-path=\"url(#pd86202e603)\">\n    <image height=\"46\" id=\"imagee9d6e530bd\" transform=\"scale(1 -1)translate(0 -46)\" width=\"46\" x=\"145.173913\" xlink:href=\"data:image/png;base64,\niVBORw0KGgoAAAANSUhEUgAAAC4AAAAuCAYAAABXuSs3AAAABHNCSVQICAgIfAhkiAAAAVdJREFUaIHtmVuOwyAMRW2TFWT/WwXPlxHtWGmg+BGpR8pf1B6si3kEz/NkeCAULbDKT9ybcPHWGjDPT7MwcWaGWivUWpfEDwOnS5gZmHm50oKbuEhqFU5bcalwa23bb5qK74qFhon4VSx2sV3cIhYa28QtY6GxRVx68qqwe1fxioXGkrh3LDSmxSOrPHJbXKpca7X0uc1H8Qyx0LgUzxILDVU8Wyw0/olLhTPFQqOLZ46FRj8BSTyeQq84EQEihnUQZgZEvP3+S8YRsT/ZY6MelhERSilwHAcQhV8EqFxaISIQUcoBfFw5JXcyByzyb7qtHfOfYQswvTt8H0DU6rp8kIjuQF/PuKgOtO2fxg40s5CssvV6QoRLKeYT2ORCyKMDmV7BzQzgq72KFRYdyHUd37mFcL/YHyfwGKFZ3MVHiKhne7aFhooDwJI0QIKvbqv8xL15rPgf6JkkN+okcK0AAAAASUVORK5CYII=\" y=\"-157.37875\"/>\n   </g>\n   <g id=\"text_11\">\n    <!-- triangle -->\n    <g transform=\"translate(152.502038 151.87875)scale(0.08 -0.08)\">\n     <use xlink:href=\"#DejaVuSans-116\"/>\n     <use x=\"39.208984\" xlink:href=\"#DejaVuSans-114\"/>\n     <use x=\"80.322266\" xlink:href=\"#DejaVuSans-105\"/>\n     <use x=\"108.105469\" xlink:href=\"#DejaVuSans-97\"/>\n     <use x=\"169.384766\" xlink:href=\"#DejaVuSans-110\"/>\n     <use x=\"232.763672\" xlink:href=\"#DejaVuSans-103\"/>\n     <use x=\"296.240234\" xlink:href=\"#DejaVuSans-108\"/>\n     <use x=\"324.023438\" xlink:href=\"#DejaVuSans-101\"/>\n    </g>\n   </g>\n  </g>\n  <g id=\"axes_12\">\n   <g clip-path=\"url(#pf1017de1b4)\">\n    <image height=\"46\" id=\"image29235c3bdd\" transform=\"scale(1 -1)translate(0 -46)\" width=\"46\" x=\"214.16087\" xlink:href=\"data:image/png;base64,\niVBORw0KGgoAAAANSUhEUgAAAC4AAAAuCAYAAABXuSs3AAAABHNCSVQICAgIfAhkiAAAA2JJREFUaIHtmWtP4kAUht+Z0guXFmMIGEpAg4r//xf4M1SCIqGNEEIMld6mne6HjWTj7vSCBbKJz9e5PaEzZ+YcyP39fYL/EHpqgX35ET82/614pczJ4jhGGIaIogiccwAAIQSEEKiqClmWQQgpZa1viydJAsdxsFqt4HkePj4+4Hke4jhGkiSglEKWZdTrddRqNei6jlarBVVVTyPOOcdms8Hz8zMcx4Hv+//sF8cxGGNwXff3gpUKFEVBp9PBYDCAoih7fYW9xB3HwWw2g23buy2RlyiKEEURXl5e8Pb2hn6/j16vh0qlmEph8dVqhaenJziOU3ToX3ieh/F4jO12i+FwCE3Tco/NLc45h2VZmEwmCIJgL1HRvPP5HK7r4u7uDrqu5xqXOxwuFovSpf9kvV7j4eFBeFa+kkvccRyMx+ODSX+yXq8xmUwQRVFm30zxIAjw+PgIz/NKkcvCtm3M53MkSfrbL1N8uVzi/f29NLEsOOeYzWYIwzC1X6p4GIaYTqeI47hUuSw8z8Pr62tqn1Tx9Xq9uziOzWKxSD1TqeKWZZUulJcgCLBarYTtQnHf90/2awO/nwqO4wgPqVB8s9mAMXYwsTy4rit0EIq7rnv0Q/mV7XYr3OdCccZY4QdU2TDGim+VrAvgGHDOi4uXlal8hzQHoTilp09HJUkSegjtNE2DJEkHk8pDtVoVJhhCccMwIMvywaTy0Gg0oCjKP9uE4vV6/eTi1WpV+NVT93i73T6YVBaapqHVagnbU09gt9stnMSWha7rqWlcqrimaeh2u6VLZUEpxdXV1X7h8HMC0zTRaDRKl0uj2+2i2Wym9skM1rquo9/vHy2u510v04YQAtM0YZrmweVVVcXt7W2uEkUuE0oprq+vcXFxcTB5VVUxHA5TI8mf5A4ZiqJgNBpBkiRYllXqy7FareLm5gadTif3mEKxTlGUXbVpOp1+O0OSJAlnZ2cYjUa5K1ifFA7SlFL0ej00m01YlgXbtnMVcL5Sq9VweXmJdru9V8l5r9uFEALDMNBoNDAYDGDbNpbLJRhjYIz9lTlRSiFJEmRZRq1Wg2maOD8/F75DcjmU9Xch5xzb7RabzQa+7++SAELITtgwjEIV2TRKu88ppZnXdJmcPlvYkx/xY/Mjfmx+AcGbXYItuR0dAAAAAElFTkSuQmCC\" y=\"-157.37875\"/>\n   </g>\n   <g id=\"text_12\">\n    <!-- circle -->\n    <g transform=\"translate(226.273995 151.87875)scale(0.08 -0.08)\">\n     <use xlink:href=\"#DejaVuSans-99\"/>\n     <use x=\"54.980469\" xlink:href=\"#DejaVuSans-105\"/>\n     <use x=\"82.763672\" xlink:href=\"#DejaVuSans-114\"/>\n     <use x=\"121.626953\" xlink:href=\"#DejaVuSans-99\"/>\n     <use x=\"176.607422\" xlink:href=\"#DejaVuSans-108\"/>\n     <use x=\"204.390625\" xlink:href=\"#DejaVuSans-101\"/>\n    </g>\n   </g>\n  </g>\n  <g id=\"axes_13\">\n   <g clip-path=\"url(#p2f4f792929)\">\n    <image height=\"46\" id=\"image2446de11f4\" transform=\"scale(1 -1)translate(0 -46)\" width=\"46\" x=\"7.2\" xlink:href=\"data:image/png;base64,\niVBORw0KGgoAAAANSUhEUgAAAC4AAAAuCAYAAABXuSs3AAAABHNCSVQICAgIfAhkiAAAA6FJREFUaIHtmd1LKl0Uh3+zGxvFSU3HJMtsSqUoY/qgi6APugq6KIpMiep/7Mp/ovLGC0FSSNRgkslAwzE9F4fT+x78aGZv83A4PXcOe631uJjl7NlyiqK08RdC/rQALf+2OCEEIyMjg0hlvOYgkkxPT2N/fx88zw8inSEGUmltbQ3b29uw2+1IJpN4e3sbRNq+MHecEIJAIACLxYK9vT0cHBxgdHR0EG59Ye642+3G2NgYgJ9fYmdnB4QQJJNJ1Go1ZsFeMHc8GAzC6XR+fOZ5Hru7uzg+PobdbmdN3xNmcY/HA6vV+ts1juOwubmJw8NDiKLIWqIrTOJWqxV+vx8cx3UmJgRbW1s4PT3F+Pg4S5muMImLoghZlnsnJwTr6+s4OjqCy+ViKdUB03CKomhISFEUEEJwc3MDVVVZSn7A1PFwONz1NukoQggURUE8HsfExARLyf9ysgQvLS2ZWh+JRHBycgKfz8dSFgCDuNVqhdfrNR23uLiIRCKBqakp2tIAGMRlWaZ6QnIch7m5OcTjcQQCAdry9OKhUAgWi4W68MzMDM7OzhAMBqniqcR5nofX6wUh9CPCcRxmZ2dxfX3d9ye1F1SVJUmCJEk0oV1znZ+fY35+3lQclbjX66UazF74/X5cXFwgEokYjqESd7vdEASBJrQnkiTh8vISCwsLhtabFud5HqFQyLSYEZxOJ2KxmKHng2lxQRAQDoepxIwgSRKurq4QjUb7Dr9pcZfLBZvNxiT3GTabDbFYDCsrKz3lTYsvLy8b2p+w8uu2WV1d7SpvWtzM5LMiiiISiQQ2NjY6ThBMiTscjo/3y6+m3W6j1WqhXq/D4/F0iJvaj8uy/KXizWYTmqahWq3i4eEBd3d3UFUVuq7j/f39t7WmxH0+38AHs91uo1wuI5vN4unpCblcDqVSCc1ms2+cYXFBECBJEtP+BPjZ1UajgZeXF9zf3yOTyUDTNLy+vn4q+38MizscDqrNEAA0Gg2USiWoqop8Po90Oo1KpYJWq0WVDzAhbrfbDW+sfg3W4+Mj0uk0isUiyuUyKpVKx71Ki2HxQCDQ90S2Xq+jWq3i+fkZqVQKmUwGtVoNuq4zdbYXhsWj0WjHtXq9jnw+j0KhgEKhgFwuB03TBirYC0PiPM9jcnISuq6j0Wggl8shlUqhWCxC0zTUarUv6WpfJyOLRFHE7e0tstksstnsUI6RP4P7/vNqyHyLD5tv8WHzLT5s/lrxH+u5/vK8kj8FAAAAAElFTkSuQmCC\" y=\"-226.67875\"/>\n   </g>\n   <g id=\"text_13\">\n    <!-- triangle -->\n    <g transform=\"translate(14.528125 221.17875)scale(0.08 -0.08)\">\n     <use xlink:href=\"#DejaVuSans-116\"/>\n     <use x=\"39.208984\" xlink:href=\"#DejaVuSans-114\"/>\n     <use x=\"80.322266\" xlink:href=\"#DejaVuSans-105\"/>\n     <use x=\"108.105469\" xlink:href=\"#DejaVuSans-97\"/>\n     <use x=\"169.384766\" xlink:href=\"#DejaVuSans-110\"/>\n     <use x=\"232.763672\" xlink:href=\"#DejaVuSans-103\"/>\n     <use x=\"296.240234\" xlink:href=\"#DejaVuSans-108\"/>\n     <use x=\"324.023438\" xlink:href=\"#DejaVuSans-101\"/>\n    </g>\n   </g>\n  </g>\n  <g id=\"axes_14\">\n   <g clip-path=\"url(#p0b9d603cbe)\">\n    <image height=\"46\" id=\"image262578d0a4\" transform=\"scale(1 -1)translate(0 -46)\" width=\"46\" x=\"76.186957\" xlink:href=\"data:image/png;base64,\niVBORw0KGgoAAAANSUhEUgAAAC4AAAAuCAYAAABXuSs3AAAABHNCSVQICAgIfAhkiAAAA2lJREFUaIHVmOtyqjAURr8kGOTiQGmt7fs/U9+h1aOFogUSQs6vOAoIeCm1a8Zx5KIrYZvsvcnb25vGH4T+tsClWLf8MkLI/mU+a633LwD792u5WpwQAs45bNuGZVngnGMymYAxBkIIlFJQSkEIgbIsIYRAURRQSl01iIvFCSFwXRdBEIBzDs75fqa7MIPIsgxxHKMsy4sGcLY4pRSu6yKKIkyn00GyhzDG4DgOHMdBEARI0xRxHEMIcdYAzhLnnCMMQ4RheLZwG4wxhGEI13WxXq+x3W5RVdWgeweJE0IwnU4xn8/hOM5Vsm1wzrFYLOC6LlarFZRSvff0iptYfn19BWPsJqJtUEoRBAEYY1gul5BSdl/f94WO42CxWPyo9CG+7+P5+bn39zrFbdvGy8sLJpPJTeX68H0f8/kclJ7WO3mGUoqnp6fRpQ2z2Qy+759cBFrFCSEIggCe5/2oXBeUUjw+PoJz3n6+7eBkMkEQBDdZ8q7BLL9tHg1xQgg8z4Nt26PI9TGbzWBZzcWvVfzh4WEUqSGYTao+6w1xx3FaR/ibOI7TWB4b4rPZ7Ndju47JPg85EqeU/try1wVjrJF9HombPPoeqYcvrZ+8t/g2cM6PdtIjcVO13CO9f857Fj8Z4/fMYcEN1MSrqhpcgYxNvbig9ZP3Ki6lPD3jUkqUZTm61BDqxXRjxofUe2OjtW60MWj9gt1uN7pYH6aJdEhjVTmnRTAWQggIIY6ONcSVUthut6NJ9aG1RpIkjWZRQ1xrjTiO7ybW8zzH9/d343jrBlQUxV3MutYam82mtTXXKl5VFTabTSOuxiaO49bZBjq2fCEE1uv1zfrZ52K6uacWis5cJU3Tk4/qJ1FKYbVadT7xzuTbxBgARFE0SuYopcTHxwfyPO+8rrdqMPEO/Ly8lBLv7+/Isqz3KQ8qd6qqwnq9hhCis7t0KWbH/vfvX2OHPMXgOk1rja+vL+R5jiiK4Pv+TerToiiQJAmSJDlrxz67wBRCYLlcIkkShGEI3/c7u6ptmKTp8/MTu92ukbIO4aLKuKoqZFmGPM/BGIPv+/A8D4wxWJYFSul+MKZyKcsSSilIKZGm6T6OL12xrirpjVAcx0iSBIyxfYvj8CkopVCWJaSUN0vgbtaLMIMYqxD5M8VynT8r/h9eprQBtmjFIgAAAABJRU5ErkJggg==\" y=\"-226.67875\"/>\n   </g>\n   <g id=\"text_14\">\n    <!-- circle -->\n    <g transform=\"translate(88.300082 221.17875)scale(0.08 -0.08)\">\n     <use xlink:href=\"#DejaVuSans-99\"/>\n     <use x=\"54.980469\" xlink:href=\"#DejaVuSans-105\"/>\n     <use x=\"82.763672\" xlink:href=\"#DejaVuSans-114\"/>\n     <use x=\"121.626953\" xlink:href=\"#DejaVuSans-99\"/>\n     <use x=\"176.607422\" xlink:href=\"#DejaVuSans-108\"/>\n     <use x=\"204.390625\" xlink:href=\"#DejaVuSans-101\"/>\n    </g>\n   </g>\n  </g>\n  <g id=\"axes_15\">\n   <g clip-path=\"url(#pf3daee9c9a)\">\n    <image height=\"46\" id=\"image581b975d23\" transform=\"scale(1 -1)translate(0 -46)\" width=\"46\" x=\"145.173913\" xlink:href=\"data:image/png;base64,\niVBORw0KGgoAAAANSUhEUgAAAC4AAAAuCAYAAABXuSs3AAAABHNCSVQICAgIfAhkiAAAAXpJREFUaIHtmNtugzAMhn/biXPoq/dxK7U3NLuiYirrQmIyTconISQO9pdgTARdr9eCfwj/tUArU3w0U3w0U3w0U3w0p4qLCFJKICLz2KeJExFSSkgpQUTM458mrqoIIbwGYM0p4s65b7LeezjnTHOYi68zvC0PIkIIwTSPuXiMEar6dtx61k3Fvfc/1rOI7A6oFTPxmta3vqwWmIgTEWKM8N5/TsaMGKNFShtx7331y6eqYO5P2x1BRJBzri4BEfn1ydTQJU5EyDkf+jKurbF31rvuVtWmTuG9714GNIs753C5XJoT55yb7wUaxZn5UF3v0Vvrh8VrW19NnJ6+flj809exJVbrMuCQODObLlGZGaraNOuHhltKwe12AzO/bUT0Etjut8f3CCHg8XhgWZZzxZdl+ZhkFd0OCMCrb6/ntteoKu73+3niNZRSUErB8/ncPb/3VEo5/sPYXPw3VskW2S3z98RopvhopvhopvhopvhopvhopvhovgBwhDGfzB5/bQAAAABJRU5ErkJggg==\" y=\"-226.67875\"/>\n   </g>\n   <g id=\"text_15\">\n    <!-- triangle -->\n    <g transform=\"translate(152.502038 221.17875)scale(0.08 -0.08)\">\n     <use xlink:href=\"#DejaVuSans-116\"/>\n     <use x=\"39.208984\" xlink:href=\"#DejaVuSans-114\"/>\n     <use x=\"80.322266\" xlink:href=\"#DejaVuSans-105\"/>\n     <use x=\"108.105469\" xlink:href=\"#DejaVuSans-97\"/>\n     <use x=\"169.384766\" xlink:href=\"#DejaVuSans-110\"/>\n     <use x=\"232.763672\" xlink:href=\"#DejaVuSans-103\"/>\n     <use x=\"296.240234\" xlink:href=\"#DejaVuSans-108\"/>\n     <use x=\"324.023438\" xlink:href=\"#DejaVuSans-101\"/>\n    </g>\n   </g>\n  </g>\n  <g id=\"axes_16\">\n   <g clip-path=\"url(#p052279fb89)\">\n    <image height=\"46\" id=\"image3ecb2553fa\" transform=\"scale(1 -1)translate(0 -46)\" width=\"46\" x=\"214.16087\" xlink:href=\"data:image/png;base64,\niVBORw0KGgoAAAANSUhEUgAAAC4AAAAuCAYAAABXuSs3AAAABHNCSVQICAgIfAhkiAAAAoBJREFUaIHtmcuyoyAQhn/AEBBNssn7P2IuRomo7SzOkEqmJniJlzpV+TcubOCjbbG7ZcfjscUvFF8bYKy+4EvrC/6vGGNgjM01PaKpJhJCQEoJzjmEEA/otm3Rti2ICHVdwzmHtv38IPsInDGGzWYDrfUDGsDj+iwiQtu2aJoGzjkURYGmaUavPRpcSgljzAtwSN7GP5k4jnG73XC/30dtYBS4MQbGGAghxgwH8LORJEmglEKWZXDODRs/dLH9fo8kST6Cfp5PSonD4QCt9bCxQxZJ0xRKqV6hMURCCOx2u0HwvQn8Y50a+gHy1zFSyn72fYyUUtBazwbtJYRAmqa9wrCTRAgBY8zs0F5RFEEp1WnXSaOUQhRN9p3qlD9turweBGeMIY7jxbztxTlHHMdhm9DNzWazOLSXlDKY6wSplngh3ymKouAJE6RaMraHrv8WnDG2mreBnzgPrf/2znNqupZGxfja0J7hHcdb8CmS/Tn1Ftwn/mvKV0//UxCciGaD6hIRBQuM4LGxJnjX+kHw+/0+OUxfEVGwKgqCl2W5mtfruv4sVNbwOhEhz/OgTeen0Vr7URthjJxzqKoqaNMJ7pyDtXaxkGmaBnmedx7FvZKRPM9R1/UkYCH5EOnTqugFTkS4Xq+zwvv3qSu2vXqnf1VV4XK5zALvobMs6z1mUN7qnMP5fIZzbrKYJyJYa5Fl2aA5B1cKVVXhdDrBGAOt9eiOlu/e5nk+6sgdVeIQEbIsQ1mW0FoPahT5HKgoitENTwBgU/x145xju90+NsA5f8mjn/vj1lpUVfVx5jlJUenj1FoLAC/wvic+dYo8SzW8REr8/Xm1tL7gS+vXgv8BUTY1C0kHnBsAAAAASUVORK5CYII=\" y=\"-226.67875\"/>\n   </g>\n   <g id=\"text_16\">\n    <!-- circle -->\n    <g transform=\"translate(226.273995 221.17875)scale(0.08 -0.08)\">\n     <use xlink:href=\"#DejaVuSans-99\"/>\n     <use x=\"54.980469\" xlink:href=\"#DejaVuSans-105\"/>\n     <use x=\"82.763672\" xlink:href=\"#DejaVuSans-114\"/>\n     <use x=\"121.626953\" xlink:href=\"#DejaVuSans-99\"/>\n     <use x=\"176.607422\" xlink:href=\"#DejaVuSans-108\"/>\n     <use x=\"204.390625\" xlink:href=\"#DejaVuSans-101\"/>\n    </g>\n   </g>\n  </g>\n </g>\n <defs>\n  <clipPath id=\"p11be4d2dfd\">\n   <rect height=\"45.5\" width=\"45.5\" x=\"7.2\" y=\"19.27875\"/>\n  </clipPath>\n  <clipPath id=\"p1b4136ae8e\">\n   <rect height=\"45.5\" width=\"45.5\" x=\"76.186957\" y=\"19.27875\"/>\n  </clipPath>\n  <clipPath id=\"p38d5b7e4c7\">\n   <rect height=\"45.5\" width=\"45.5\" x=\"145.173913\" y=\"19.27875\"/>\n  </clipPath>\n  <clipPath id=\"p4c3a196d95\">\n   <rect height=\"45.5\" width=\"45.5\" x=\"214.16087\" y=\"19.27875\"/>\n  </clipPath>\n  <clipPath id=\"p94590ca068\">\n   <rect height=\"45.5\" width=\"45.5\" x=\"7.2\" y=\"88.57875\"/>\n  </clipPath>\n  <clipPath id=\"p6f3e9cb033\">\n   <rect height=\"45.5\" width=\"45.5\" x=\"76.186957\" y=\"88.57875\"/>\n  </clipPath>\n  <clipPath id=\"p09d7956107\">\n   <rect height=\"45.5\" width=\"45.5\" x=\"145.173913\" y=\"88.57875\"/>\n  </clipPath>\n  <clipPath id=\"pbb97f03728\">\n   <rect height=\"45.5\" width=\"45.5\" x=\"214.16087\" y=\"88.57875\"/>\n  </clipPath>\n  <clipPath id=\"p6e880dbbfa\">\n   <rect height=\"45.5\" width=\"45.5\" x=\"7.2\" y=\"157.87875\"/>\n  </clipPath>\n  <clipPath id=\"pff1cbd4785\">\n   <rect height=\"45.5\" width=\"45.5\" x=\"76.186957\" y=\"157.87875\"/>\n  </clipPath>\n  <clipPath id=\"pd86202e603\">\n   <rect height=\"45.5\" width=\"45.5\" x=\"145.173913\" y=\"157.87875\"/>\n  </clipPath>\n  <clipPath id=\"pf1017de1b4\">\n   <rect height=\"45.5\" width=\"45.5\" x=\"214.16087\" y=\"157.87875\"/>\n  </clipPath>\n  <clipPath id=\"p2f4f792929\">\n   <rect height=\"45.5\" width=\"45.5\" x=\"7.2\" y=\"227.17875\"/>\n  </clipPath>\n  <clipPath id=\"p0b9d603cbe\">\n   <rect height=\"45.5\" width=\"45.5\" x=\"76.186957\" y=\"227.17875\"/>\n  </clipPath>\n  <clipPath id=\"pf3daee9c9a\">\n   <rect height=\"45.5\" width=\"45.5\" x=\"145.173913\" y=\"227.17875\"/>\n  </clipPath>\n  <clipPath id=\"p052279fb89\">\n   <rect height=\"45.5\" width=\"45.5\" x=\"214.16087\" y=\"227.17875\"/>\n  </clipPath>\n </defs>\n</svg>\n",
      "image/png": "[encoded data removed]"
     },
     "metadata": {
      "needs_background": "light"
     }
    }
   ],
   "source": [
    "#################################################################################\n",
    "#########          load and preprocess geometric shapes dataset          ########\n",
    "#################################################################################\n",
    "# load data\n",
    "fd = np.load(os.path.join(datapath, 'shapes.npz'))\n",
    "shapes_X = fd['X']\n",
    "shapes_y = fd['y']\n",
    "fd.close()\n",
    "# define labels for each item in the dataset, circle=0, triangle=1\n",
    "classes = ['circle', 'triangle']\n",
    "# dimensions of data and label\n",
    "print('Dimensions of shapes data:', shapes_X.shape)\n",
    "print('Dimensions of labels:', shapes_y.shape)\n",
    "# pre-check geometric shapes\n",
    "overview_fig, axes = plt.subplots(nrows=4, ncols=4, figsize=(4, 4))\n",
    "axes = axes.flatten()\n",
    "\n",
    "for i in range(16):\n",
    "    a = axes[i]\n",
    "    a.imshow(shapes_X[i], cmap='gray', vmin=0, vmax=1)\n",
    "    a.set_title(classes[shapes_y[i]], fontsize=8)\n",
    "    a.axis('off')\n",
    "    \n",
    "overview_fig.tight_layout()"
   ]
  },
  {
   "cell_type": "code",
   "execution_count": 4,
   "metadata": {},
   "outputs": [
    {
     "output_type": "stream",
     "name": "stdout",
     "text": [
      "*******************  pre-process data  *********************\nDimensions of training set: (8500, 64, 64)\nDimensions of testing set: (1500, 64, 64)\n"
     ]
    }
   ],
   "source": [
    "print ('*******************  pre-process data  *********************')\n",
    "# split dataset into training (85%) and testing set (15%)\n",
    "training_size_ratio = 0.85\n",
    "\n",
    "def preprocess(images, label, train_ratio):\n",
    "    '''\n",
    "    Function to preprocess the geometrics data and split dataset into training and testing sets.\n",
    "    parameters\n",
    "    images: input images\n",
    "    label: label of input images\n",
    "    train_ratio: percentage of training data w.r.t whole input dataset size\n",
    "    '''\n",
    "    dimension = images.ndim\n",
    "    length = len(label)\n",
    "    #check the input dimension\n",
    "    if dimension == 3:\n",
    "        pass\n",
    "    else:\n",
    "        raise IOError(\"This module only supports input images with 3 dimensions.\")\n",
    "    train_length = int(length * train_ratio)\n",
    "    # training set\n",
    "    train_X = images[:train_length,:,:]\n",
    "    train_y = label[:train_length]\n",
    "    # testing set\n",
    "    test_X = images[train_length:,:,:]\n",
    "    test_y = label[train_length:]\n",
    "    # summary of training and testing sets\n",
    "    print('Dimensions of training set:', train_X.shape)\n",
    "    print('Dimensions of testing set:', test_X.shape)\n",
    "\n",
    "    return train_X, train_y, test_X, test_y\n",
    "\n",
    "# call the function to preprocess data\n",
    "train_X, train_y, test_X, test_y = preprocess(shapes_X, shapes_y, training_size_ratio)"
   ]
  },
  {
   "cell_type": "code",
   "execution_count": 5,
   "metadata": {},
   "outputs": [
    {
     "output_type": "stream",
     "name": "stdout",
     "text": [
      "*******************  check the version of pytorch  *********************\nPytorch version 1.8.1\nIs CUDA available? False\n*******************  login weights & biases  *********************\n"
     ]
    }
   ],
   "source": [
    "#################################################################################\n",
    "#########              set up the environment for training               ########\n",
    "#################################################################################\n",
    "print ('*******************  check the version of pytorch  *********************')\n",
    "print (\"Pytorch version {}\".format(torch.__version__))\n",
    "# check if CUDA is available\n",
    "use_cuda = torch.cuda.is_available()\n",
    "print(\"Is CUDA available? {}\".format(use_cuda))\n",
    "# use GPU if possible\n",
    "device = torch.device(\"cuda:0\" if torch.cuda.is_available() else \"cpu\")\n",
    "print ('*******************  login weights & biases  *********************')\n",
    "# call weights & biases service\n",
    "# wandb.login()\n"
   ]
  },
  {
   "cell_type": "code",
   "execution_count": 13,
   "metadata": {},
   "outputs": [],
   "source": [
    "#################################################################################\n",
    "#########                      build neural network                      ########\n",
    "#################################################################################\n",
    "class ShapesNet(nn.Module):\n",
    "    def __init__(self, kernels=[16, 32], classes=2):\n",
    "        '''\n",
    "        Two layer CNN model with max pooling.\n",
    "        '''\n",
    "        super(ShapesNet, self).__init__()\n",
    "        # 1st layer\n",
    "        self.layer1 = nn.Sequential(\n",
    "            nn.Conv2d(1, kernels[0], kernel_size=5, stride=1, padding=2),\n",
    "            nn.ReLU(),\n",
    "            nn.MaxPool2d(kernel_size=2, stride=2)\n",
    "        )\n",
    "        # 2nd layer\n",
    "        self.layer2 = nn.Sequential(\n",
    "            nn.Conv2d(1, kernels[1], kernel_size=5, stride=1, padding=2),\n",
    "            nn.ReLU(),\n",
    "            nn.MaxPool2d(kernel_size=2, stride=2)\n",
    "        )\n",
    "        self.fc1 = nn.Linear(5 * 5 * kernels[-1], kernels[-1])\n",
    "        self.fc2 = nn.Linear(kernels[-1], classes)\n",
    "\n",
    "    def forward(self, x):\n",
    "        x = self.layer1(x)\n",
    "        x = self.layer2(x)\n",
    "        x = x.reshape(x.size(0), -1)\n",
    "        x = self.fc1(x)\n",
    "        x = self.fc2(x)\n",
    "\n",
    "        return x"
   ]
  },
  {
   "cell_type": "code",
   "execution_count": 11,
   "metadata": {},
   "outputs": [
    {
     "output_type": "stream",
     "name": "stderr",
     "text": [
      "\u001b[34m\u001b[1mwandb\u001b[0m: You can find your API key in your browser here: https://wandb.ai/authorize\n",
      "\u001b[34m\u001b[1mwandb\u001b[0m: W&B syncing is set to `offline` in this directory.  Run `wandb online` or set WANDB_MODE=online to enable cloud syncing.\n"
     ]
    }
   ],
   "source": [
    "#################################################################################\n",
    "#########            configure hyper-parameters & prepare data           ########\n",
    "#################################################################################\n",
    "hyperparameters = dict(\n",
    "    epoch = 20,\n",
    "    classes = 2,\n",
    "    kernels = [16, 32],\n",
    "    batch_size = 100,\n",
    "    learning_rate = 0.01,\n",
    "    dataset = 'Geographic shapes',\n",
    "    architecture = 'CNN'\n",
    ")\n",
    "\n",
    "# initialize weights & biases service\n",
    "#wandb.init(project='train model for geometric shapes',config=hyperparameters)\n",
    "wandb.init(config=hyperparameters)\n",
    "config = wandb.config\n",
    "\n",
    "# use pytorch data loader\n",
    "train_X_torch = torch.from_numpy(train_X).type(torch.LongTensor)\n",
    "train_y_torch = torch.from_numpy(train_y).type(torch.LongTensor)\n",
    "\n",
    "test_X_torch = torch.from_numpy(test_X).type(torch.LongTensor)\n",
    "test_y_torch = torch.from_numpy(test_y).type(torch.LongTensor)\n",
    "\n",
    "# reshape the input following the definition in pytorch (batch, channel, Height, Width)\n",
    "train_X_torch = train_X_torch.view(-1,1,64,64).float()\n",
    "test_X_torch = test_X_torch.view(-1,1,64,64).float()\n",
    "\n",
    "# pytorch train and test sets\n",
    "train_set = torch.utils.data.TensorDataset(train_X_torch,train_y_torch)\n",
    "test_set = torch.utils.data.TensorDataset(test_X_torch,test_y_torch)\n",
    "\n",
    "# data loader\n",
    "train_loader = torch.utils.data.DataLoader(train_set, batch_size = config.batch_size, shuffle = False)\n",
    "test_loader = torch.utils.data.DataLoader(test_set, batch_size = config.batch_size, shuffle = False)\n"
   ]
  },
  {
   "cell_type": "code",
   "execution_count": 14,
   "metadata": {},
   "outputs": [
    {
     "output_type": "stream",
     "name": "stdout",
     "text": [
      "Model details:\n ShapesNet(\n  (layer1): Sequential(\n    (0): Conv2d(1, 16, kernel_size=(5, 5), stride=(1, 1), padding=(2, 2))\n    (1): ReLU()\n    (2): MaxPool2d(kernel_size=2, stride=2, padding=0, dilation=1, ceil_mode=False)\n  )\n  (layer2): Sequential(\n    (0): Conv2d(1, 32, kernel_size=(5, 5), stride=(1, 1), padding=(2, 2))\n    (1): ReLU()\n    (2): MaxPool2d(kernel_size=2, stride=2, padding=0, dilation=1, ceil_mode=False)\n  )\n  (fc1): Linear(in_features=800, out_features=32, bias=True)\n  (fc2): Linear(in_features=32, out_features=2, bias=True)\n)\nOptimizer details:\n Adam (\nParameter Group 0\n    amsgrad: False\n    betas: (0.9, 0.999)\n    eps: 1e-08\n    lr: 0.01\n    weight_decay: 0\n)\n"
     ]
    }
   ],
   "source": [
    "#################################################################################\n",
    "#########               create model and choose optimizer                ########\n",
    "#################################################################################\n",
    "model = ShapesNet(config.kernels, config.classes)\n",
    "criterion = nn.CrossEntropyLoss()\n",
    "optimizer = torch.optim.Adam(model.parameters(), lr=config.learning_rate)\n",
    "print('Model details:\\n', model)\n",
    "print('Optimizer details:\\n',optimizer)"
   ]
  },
  {
   "cell_type": "code",
   "execution_count": null,
   "metadata": {},
   "outputs": [],
   "source": [
    "#################################################################################\n",
    "#########                   start the training process                   ########\n",
    "#################################################################################\n",
    "# calculate the time for the code execution\n",
    "start_time = tttt.time()\n",
    "# switch model into train mode\n",
    "model.train()\n",
    "for epoch in range(config.epoch):\n",
    "    correct = 0\n",
    "    for batch_idx, (X_batch, y_batch) in enumerate(train_loader):\n",
    "        var_X_batch = Variable(X_batch).float()\n",
    "        var_y_batch = Variable(y_batch)\n",
    "        optimizer.zero_grad()\n",
    "        output = model(var_X_batch)\n",
    "        loss = criterion(output, var_y_batch)\n",
    "        loss.backward()\n",
    "        optimizer.step()\n",
    "\n",
    "        # Total correct predictions\n",
    "        predicted = torch.max(output.data, 1)[1] \n",
    "        correct += (predicted == var_y_batch).sum()\n",
    "        #print(correct)\n",
    "        if batch_idx % 10 == 0:\n",
    "            print('Epoch : {} [{}/{} ({:.0f}%)]\\tLoss: {:.6f}\\t Accuracy:{:.3f}%'.format(\n",
    "                  epoch, batch_idx*len(X_batch), len(train_loader.dataset), 100.* batch_idx / len(train_loader),\n",
    "                  loss.data[0], float(correct*100) / float(config.batch_size*(batch_idx+1))))\n",
    "\n",
    "# save the general checkpoint\n",
    "torch.save({\n",
    "            'epoch': epoch,\n",
    "            'model_state_dict': model.state_dict(),\n",
    "            'optimizer_state_dict': optimizer.state_dict(),\n",
    "            'loss': loss.data[0]\n",
    "            }, os.path.join(output_path,'shapesnet_training_checkpoint.pt'))\n",
    "\n",
    "print (\"--- %s minutes ---\" % ((tttt.time() - start_time)/60))"
   ]
  },
  {
   "cell_type": "code",
   "execution_count": null,
   "metadata": {},
   "outputs": [],
   "source": [
    "#################################################################################\n",
    "#########                  start the evaluation process                  ########\n",
    "#################################################################################\n",
    "# switch model into evaluation mode\n",
    "model.eval()\n",
    "correct = 0\n",
    "for test_imgs, test_labels in test_loader:\n",
    "    #print(test_imgs.shape)\n",
    "    test_imgs = Variable(test_imgs).float()\n",
    "    output = model(test_imgs)\n",
    "    predicted = torch.max(output,1)[1]\n",
    "    correct += (predicted == test_labels).sum()\n",
    "print(\"Test accuracy:{:.3f}% \".format( float(correct) / (len(test_loader)*config.batch_size)))\n"
   ]
  }
 ]
}