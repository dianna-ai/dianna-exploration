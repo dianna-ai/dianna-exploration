{
 "cells": [
  {
   "cell_type": "markdown",
   "id": "asian-conclusion",
   "metadata": {},
   "source": [
    "Exploration of RISE with mnist binary\n",
    "\n",
    "Function : Exploration of RISE mnist binary\n",
    "Author : Team DIANNA\n",
    "Contributor :\n",
    "First Built : 2021.08.25\n",
    "Last Update : 2021.08.25\n",
    "Note : We ran the method using the our own trained model on mnist and various instances from mnist dataset. Results look random. There is no sense that we can make of the heatmaps."
   ]
  },
  {
   "cell_type": "code",
   "execution_count": 1,
   "id": "c2f8d103-ef57-4fa1-b9f8-556892f6d6ae",
   "metadata": {},
   "outputs": [],
   "source": [
    "import os\n",
    "import dianna\n",
    "import onnx\n",
    "import onnxruntime\n",
    "import numpy as np\n",
    "%matplotlib inline\n",
    "from matplotlib import pyplot as plt\n",
    "from torchvision import datasets, transforms"
   ]
  },
  {
   "cell_type": "code",
   "execution_count": 4,
   "id": "8b2d285d-b42d-448e-bc32-e4ae7bd63661",
   "metadata": {},
   "outputs": [
    {
     "ename": "FileNotFoundError",
     "evalue": "[WinError 3] The system cannot find the path specified: './leafsnap-dataset-30subset/dataset/split/test'",
     "output_type": "error",
     "traceback": [
      "\u001b[1;31m---------------------------------------------------------------------------\u001b[0m",
      "\u001b[1;31mFileNotFoundError\u001b[0m                         Traceback (most recent call last)",
      "\u001b[1;32m<ipython-input-4-5544cc396730>\u001b[0m in \u001b[0;36m<module>\u001b[1;34m\u001b[0m\n\u001b[0;32m      7\u001b[0m                                 transforms.ToTensor()])\n\u001b[0;32m      8\u001b[0m \u001b[1;33m\u001b[0m\u001b[0m\n\u001b[1;32m----> 9\u001b[1;33m test_data = datasets.ImageFolder(os.path.join(dataset_root, 'dataset/split/test'), transform=transform,\n\u001b[0m\u001b[0;32m     10\u001b[0m                                  is_valid_file=lambda fname: fname.endswith('.jpg'))\n\u001b[0;32m     11\u001b[0m \u001b[0mnsample\u001b[0m \u001b[1;33m=\u001b[0m \u001b[0mlen\u001b[0m\u001b[1;33m(\u001b[0m\u001b[0mtest_data\u001b[0m\u001b[1;33m)\u001b[0m\u001b[1;33m\u001b[0m\u001b[1;33m\u001b[0m\u001b[0m\n",
      "\u001b[1;32m~\\anaconda3\\envs\\dianna\\lib\\site-packages\\torchvision\\datasets\\folder.py\u001b[0m in \u001b[0;36m__init__\u001b[1;34m(self, root, transform, target_transform, loader, is_valid_file)\u001b[0m\n\u001b[0;32m    251\u001b[0m             \u001b[0mis_valid_file\u001b[0m\u001b[1;33m:\u001b[0m \u001b[0mOptional\u001b[0m\u001b[1;33m[\u001b[0m\u001b[0mCallable\u001b[0m\u001b[1;33m[\u001b[0m\u001b[1;33m[\u001b[0m\u001b[0mstr\u001b[0m\u001b[1;33m]\u001b[0m\u001b[1;33m,\u001b[0m \u001b[0mbool\u001b[0m\u001b[1;33m]\u001b[0m\u001b[1;33m]\u001b[0m \u001b[1;33m=\u001b[0m \u001b[1;32mNone\u001b[0m\u001b[1;33m,\u001b[0m\u001b[1;33m\u001b[0m\u001b[1;33m\u001b[0m\u001b[0m\n\u001b[0;32m    252\u001b[0m     ):\n\u001b[1;32m--> 253\u001b[1;33m         super(ImageFolder, self).__init__(root, loader, IMG_EXTENSIONS if is_valid_file is None else None,\n\u001b[0m\u001b[0;32m    254\u001b[0m                                           \u001b[0mtransform\u001b[0m\u001b[1;33m=\u001b[0m\u001b[0mtransform\u001b[0m\u001b[1;33m,\u001b[0m\u001b[1;33m\u001b[0m\u001b[1;33m\u001b[0m\u001b[0m\n\u001b[0;32m    255\u001b[0m                                           \u001b[0mtarget_transform\u001b[0m\u001b[1;33m=\u001b[0m\u001b[0mtarget_transform\u001b[0m\u001b[1;33m,\u001b[0m\u001b[1;33m\u001b[0m\u001b[1;33m\u001b[0m\u001b[0m\n",
      "\u001b[1;32m~\\anaconda3\\envs\\dianna\\lib\\site-packages\\torchvision\\datasets\\folder.py\u001b[0m in \u001b[0;36m__init__\u001b[1;34m(self, root, loader, extensions, transform, target_transform, is_valid_file)\u001b[0m\n\u001b[0;32m    124\u001b[0m         super(DatasetFolder, self).__init__(root, transform=transform,\n\u001b[0;32m    125\u001b[0m                                             target_transform=target_transform)\n\u001b[1;32m--> 126\u001b[1;33m         \u001b[0mclasses\u001b[0m\u001b[1;33m,\u001b[0m \u001b[0mclass_to_idx\u001b[0m \u001b[1;33m=\u001b[0m \u001b[0mself\u001b[0m\u001b[1;33m.\u001b[0m\u001b[0m_find_classes\u001b[0m\u001b[1;33m(\u001b[0m\u001b[0mself\u001b[0m\u001b[1;33m.\u001b[0m\u001b[0mroot\u001b[0m\u001b[1;33m)\u001b[0m\u001b[1;33m\u001b[0m\u001b[1;33m\u001b[0m\u001b[0m\n\u001b[0m\u001b[0;32m    127\u001b[0m         \u001b[0msamples\u001b[0m \u001b[1;33m=\u001b[0m \u001b[0mself\u001b[0m\u001b[1;33m.\u001b[0m\u001b[0mmake_dataset\u001b[0m\u001b[1;33m(\u001b[0m\u001b[0mself\u001b[0m\u001b[1;33m.\u001b[0m\u001b[0mroot\u001b[0m\u001b[1;33m,\u001b[0m \u001b[0mclass_to_idx\u001b[0m\u001b[1;33m,\u001b[0m \u001b[0mextensions\u001b[0m\u001b[1;33m,\u001b[0m \u001b[0mis_valid_file\u001b[0m\u001b[1;33m)\u001b[0m\u001b[1;33m\u001b[0m\u001b[1;33m\u001b[0m\u001b[0m\n\u001b[0;32m    128\u001b[0m         \u001b[1;32mif\u001b[0m \u001b[0mlen\u001b[0m\u001b[1;33m(\u001b[0m\u001b[0msamples\u001b[0m\u001b[1;33m)\u001b[0m \u001b[1;33m==\u001b[0m \u001b[1;36m0\u001b[0m\u001b[1;33m:\u001b[0m\u001b[1;33m\u001b[0m\u001b[1;33m\u001b[0m\u001b[0m\n",
      "\u001b[1;32m~\\anaconda3\\envs\\dianna\\lib\\site-packages\\torchvision\\datasets\\folder.py\u001b[0m in \u001b[0;36m_find_classes\u001b[1;34m(self, dir)\u001b[0m\n\u001b[0;32m    162\u001b[0m             \u001b[0mNo\u001b[0m \u001b[1;32mclass\u001b[0m \u001b[1;32mis\u001b[0m \u001b[0ma\u001b[0m \u001b[0msubdirectory\u001b[0m \u001b[0mof\u001b[0m \u001b[0manother\u001b[0m\u001b[1;33m.\u001b[0m\u001b[1;33m\u001b[0m\u001b[1;33m\u001b[0m\u001b[0m\n\u001b[0;32m    163\u001b[0m         \"\"\"\n\u001b[1;32m--> 164\u001b[1;33m         \u001b[0mclasses\u001b[0m \u001b[1;33m=\u001b[0m \u001b[1;33m[\u001b[0m\u001b[0md\u001b[0m\u001b[1;33m.\u001b[0m\u001b[0mname\u001b[0m \u001b[1;32mfor\u001b[0m \u001b[0md\u001b[0m \u001b[1;32min\u001b[0m \u001b[0mos\u001b[0m\u001b[1;33m.\u001b[0m\u001b[0mscandir\u001b[0m\u001b[1;33m(\u001b[0m\u001b[0mdir\u001b[0m\u001b[1;33m)\u001b[0m \u001b[1;32mif\u001b[0m \u001b[0md\u001b[0m\u001b[1;33m.\u001b[0m\u001b[0mis_dir\u001b[0m\u001b[1;33m(\u001b[0m\u001b[1;33m)\u001b[0m\u001b[1;33m]\u001b[0m\u001b[1;33m\u001b[0m\u001b[1;33m\u001b[0m\u001b[0m\n\u001b[0m\u001b[0;32m    165\u001b[0m         \u001b[0mclasses\u001b[0m\u001b[1;33m.\u001b[0m\u001b[0msort\u001b[0m\u001b[1;33m(\u001b[0m\u001b[1;33m)\u001b[0m\u001b[1;33m\u001b[0m\u001b[1;33m\u001b[0m\u001b[0m\n\u001b[0;32m    166\u001b[0m         \u001b[0mclass_to_idx\u001b[0m \u001b[1;33m=\u001b[0m \u001b[1;33m{\u001b[0m\u001b[0mcls_name\u001b[0m\u001b[1;33m:\u001b[0m \u001b[0mi\u001b[0m \u001b[1;32mfor\u001b[0m \u001b[0mi\u001b[0m\u001b[1;33m,\u001b[0m \u001b[0mcls_name\u001b[0m \u001b[1;32min\u001b[0m \u001b[0menumerate\u001b[0m\u001b[1;33m(\u001b[0m\u001b[0mclasses\u001b[0m\u001b[1;33m)\u001b[0m\u001b[1;33m}\u001b[0m\u001b[1;33m\u001b[0m\u001b[1;33m\u001b[0m\u001b[0m\n",
      "\u001b[1;31mFileNotFoundError\u001b[0m: [WinError 3] The system cannot find the path specified: './leafsnap-dataset-30subset/dataset/split/test'"
     ]
    }
   ],
   "source": [
    "# load data\n",
    "dataset_root = os.path.expanduser('./leafsnap-dataset-30subset/')\n",
    "img_size = 128\n",
    "# apply same transform as during training: resize and crop to a square image, then convert to tensor\n",
    "transform = transforms.Compose([transforms.Resize(img_size),\n",
    "                                transforms.CenterCrop(img_size),\n",
    "                                transforms.ToTensor()])\n",
    "\n",
    "test_data = datasets.ImageFolder(os.path.join(dataset_root, 'dataset/split/test'), transform=transform,\n",
    "                                 is_valid_file=lambda fname: fname.endswith('.jpg'))\n",
    "nsample = len(test_data)\n",
    "nspecies = len(test_data.classes)\n",
    "print(f'Number of samples: {nsample}')\n",
    "print(f'Number of species: {nspecies}')\n",
    "\n",
    "X_test = np.array([instance[0].numpy() for instance in test_data])\n",
    "X_test = np.transpose(X_test, (0, 2, 3, 1))\n",
    "y_test = np.array([instance[1] for instance in test_data])"
   ]
  },
  {
   "cell_type": "code",
   "execution_count": null,
   "id": "421e3d00-8b55-4c37-8f43-62e509eb165b",
   "metadata": {},
   "outputs": [],
   "source": [
    "X_test.shape\n",
    "plt.imshow(X_test[0])"
   ]
  },
  {
   "cell_type": "markdown",
   "id": "worst-gregory",
   "metadata": {},
   "source": [
    "# Predict classes for test data"
   ]
  },
  {
   "cell_type": "code",
   "execution_count": null,
   "id": "polar-placement",
   "metadata": {},
   "outputs": [],
   "source": [
    "from scipy.special import softmax\n",
    "\n",
    "def run_model(data):\n",
    "    data = np.transpose(data, (0, 3, 1, 2)).astype(np.float32)\n",
    "    fname = os.path.expanduser('~/surfdrive/Shared/datasets/leafsnap/leafsnap_model.onnx')\n",
    "    # get ONNX predictions\n",
    "    sess = onnxruntime.InferenceSession(fname)\n",
    "    input_name = sess.get_inputs()[0].name\n",
    "    output_name = sess.get_outputs()[0].name\n",
    "\n",
    "    \n",
    "    onnx_input = {input_name: data}\n",
    "    pred_onnx = sess.run([output_name], onnx_input)\n",
    "    \n",
    "    return softmax(pred_onnx[0], axis=1)\n",
    "\n",
    "\n",
    "pred_onnx = run_model(X_test)"
   ]
  },
  {
   "cell_type": "markdown",
   "id": "renewable-twelve",
   "metadata": {},
   "source": [
    "Print class and image of a single instance in the test data"
   ]
  },
  {
   "cell_type": "code",
   "execution_count": null,
   "id": "normal-wallet",
   "metadata": {},
   "outputs": [],
   "source": [
    "i_instance = 50\n",
    "target_class = y_test[i_instance]\n",
    "print(target_class)\n",
    "print(pred_onnx[i_instance])\n",
    "plt.imshow(X_test[i_instance])  # 0 for channel"
   ]
  },
  {
   "cell_type": "code",
   "execution_count": null,
   "id": "bacterial-shakespeare",
   "metadata": {},
   "outputs": [],
   "source": [
    "# heatmaps = dianna.explain(run_model, X_test[[i_instance]], method=\"RISE\", n_masks=2000, feature_res=8)"
   ]
  },
  {
   "cell_type": "code",
   "execution_count": null,
   "id": "spiritual-feeding",
   "metadata": {},
   "outputs": [],
   "source": [
    "from dianna.methods import RISE\n",
    "explainer = RISE(n_masks=2000, feature_res=16)\n",
    "heatmaps = explainer(run_model, X_test[[i_instance]])"
   ]
  },
  {
   "cell_type": "code",
   "execution_count": null,
   "id": "intimate-operations",
   "metadata": {},
   "outputs": [],
   "source": [
    "from dianna import visualization\n",
    "visualization.plot_image(heatmaps[target_class], X_test[i_instance], heatmap_cmap='bwr')\n",
    "visualization.plot_image(heatmaps[target_class], heatmap_cmap='gray')"
   ]
  },
  {
   "cell_type": "code",
   "execution_count": null,
   "id": "bizarre-bracket",
   "metadata": {},
   "outputs": [],
   "source": [
    "def describe(arr):\n",
    "    print('shape:',arr.shape, 'min:',np.min(arr), 'max:',np.max(arr), 'std:',np.std(arr))\n",
    "\n",
    "describe(heatmaps[target_class])\n",
    "# describe(heatmaps[1])"
   ]
  },
  {
   "cell_type": "code",
   "execution_count": null,
   "id": "illegal-report",
   "metadata": {},
   "outputs": [],
   "source": [
    "for i in range(10):\n",
    "    plt.imshow(explainer.masks[i])\n",
    "    plt.show()"
   ]
  },
  {
   "cell_type": "code",
   "execution_count": null,
   "id": "521dbdd6-87ea-4831-a7dd-c34a0a941630",
   "metadata": {},
   "outputs": [],
   "source": []
  }
 ],
 "metadata": {
  "kernelspec": {
   "display_name": "Python 3",
   "language": "python",
   "name": "python3"
  },
  "language_info": {
   "codemirror_mode": {
    "name": "ipython",
    "version": 3
   },
   "file_extension": ".py",
   "mimetype": "text/x-python",
   "name": "python",
   "nbconvert_exporter": "python",
   "pygments_lexer": "ipython3",
   "version": "3.9.2"
  }
 },
 "nbformat": 4,
 "nbformat_minor": 5
}
