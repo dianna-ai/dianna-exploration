{
 "cells": [
  {
   "cell_type": "markdown",
   "id": "committed-place",
   "metadata": {},
   "source": [
    "Exploration of RISE with mnist binary\n",
    "\n",
    "Function : Exploration of RISE mnist binary\n",
    "Author : Team DIANNA\n",
    "Contributor :\n",
    "First Built : 2021.08.25\n",
    "Last Update : 2021.08.25\n",
    "Note : We ran the method using the our own trained model on mnist and various instances from mnist dataset. Results look random. There is no sense that we can make of the heatmaps."
   ]
  },
  {
   "cell_type": "code",
   "execution_count": 1,
   "id": "surface-native",
   "metadata": {},
   "outputs": [],
   "source": [
    "import dianna\n",
    "import onnx\n",
    "import onnxruntime\n",
    "import numpy as np\n",
    "%matplotlib inline\n",
    "from matplotlib import pyplot as plt\n",
    "from scipy.special import softmax\n",
    "import pandas as pd\n",
    "from dianna.methods import RISE\n",
    "from dianna import visualization"
   ]
  },
  {
   "cell_type": "code",
   "execution_count": 2,
   "id": "strong-vatican",
   "metadata": {},
   "outputs": [],
   "source": [
    "data = np.load('./binary-mnist.npz')\n",
    "X_test = data['X_test'].astype(np.float32).reshape([-1, 28, 28, 1])/255\n",
    "y_test = data['y_test']"
   ]
  },
  {
   "cell_type": "markdown",
   "id": "outside-tampa",
   "metadata": {},
   "source": [
    "# Predict classes for test data"
   ]
  },
  {
   "cell_type": "code",
   "execution_count": 3,
   "id": "decimal-visitor",
   "metadata": {},
   "outputs": [],
   "source": [
    "def run_model(data):\n",
    "    data = data.reshape([-1, 1, 28, 28]).astype(np.float32)*255\n",
    "    fname = './mnist_model.onnx'\n",
    "    # get ONNX predictions\n",
    "    sess = onnxruntime.InferenceSession(fname)\n",
    "    input_name = sess.get_inputs()[0].name\n",
    "    output_name = sess.get_outputs()[0].name\n",
    "\n",
    "    \n",
    "    onnx_input = {input_name: data}\n",
    "    pred_onnx = sess.run([output_name], onnx_input)\n",
    "    \n",
    "    return softmax(pred_onnx[0], axis=1)\n",
    "\n",
    "\n",
    "pred_onnx = run_model(X_test)"
   ]
  },
  {
   "cell_type": "markdown",
   "id": "academic-judgment",
   "metadata": {},
   "source": [
    "Print class and image of a single instance in the test data"
   ]
  },
  {
   "cell_type": "code",
   "execution_count": 4,
   "id": "reflected-rabbit",
   "metadata": {},
   "outputs": [
    {
     "name": "stdout",
     "output_type": "stream",
     "text": [
      "[1.0000000e+00 1.0304685e-16]\n"
     ]
    },
    {
     "data": {
      "text/plain": [
       "<matplotlib.image.AxesImage at 0x14a166a30>"
      ]
     },
     "execution_count": 4,
     "metadata": {},
     "output_type": "execute_result"
    },
    {
     "data": {
      "image/png": "[encoded data removed]",
      "text/plain": [
       "<Figure size 432x288 with 1 Axes>"
      ]
     },
     "metadata": {
      "needs_background": "light"
     },
     "output_type": "display_data"
    }
   ],
   "source": [
    "i_instance = 3\n",
    "print(pred_onnx[i_instance])\n",
    "plt.imshow(X_test[i_instance][...,0])  # 0 for channel"
   ]
  },
  {
   "cell_type": "code",
   "execution_count": 5,
   "id": "cognitive-indian",
   "metadata": {},
   "outputs": [],
   "source": [
    "# heatmaps = dianna.explain(run_model, X_test[[i_instance]], method=\"RISE\", n_masks=2000, feature_res=8, p_keep=0.5)"
   ]
  },
  {
   "cell_type": "code",
   "execution_count": 56,
   "id": "large-novelty",
   "metadata": {},
   "outputs": [
    {
     "name": "stderr",
     "output_type": "stream",
     "text": [
      "Generating masks: 100%|██████████| 500/500 [00:00<00:00, 1715.28it/s]\n",
      "Explaining: 100%|██████████| 5/5 [00:00<00:00, 119.07it/s]\n"
     ]
    },
    {
     "data": {
      "text/html": [
       "<div>\n",
       "<style scoped>\n",
       "    .dataframe tbody tr th:only-of-type {\n",
       "        vertical-align: middle;\n",
       "    }\n",
       "\n",
       "    .dataframe tbody tr th {\n",
       "        vertical-align: top;\n",
       "    }\n",
       "\n",
       "    .dataframe thead th {\n",
       "        text-align: right;\n",
       "    }\n",
       "</style>\n",
       "<table border=\"1\" class=\"dataframe\">\n",
       "  <thead>\n",
       "    <tr style=\"text-align: right;\">\n",
       "      <th></th>\n",
       "      <th>0</th>\n",
       "    </tr>\n",
       "  </thead>\n",
       "  <tbody>\n",
       "    <tr>\n",
       "      <th>count</th>\n",
       "      <td>500.000000</td>\n",
       "    </tr>\n",
       "    <tr>\n",
       "      <th>mean</th>\n",
       "      <td>0.781499</td>\n",
       "    </tr>\n",
       "    <tr>\n",
       "      <th>std</th>\n",
       "      <td>0.255905</td>\n",
       "    </tr>\n",
       "    <tr>\n",
       "      <th>min</th>\n",
       "      <td>0.103158</td>\n",
       "    </tr>\n",
       "    <tr>\n",
       "      <th>25%</th>\n",
       "      <td>0.561676</td>\n",
       "    </tr>\n",
       "    <tr>\n",
       "      <th>50%</th>\n",
       "      <td>0.925840</td>\n",
       "    </tr>\n",
       "    <tr>\n",
       "      <th>75%</th>\n",
       "      <td>0.998255</td>\n",
       "    </tr>\n",
       "    <tr>\n",
       "      <th>max</th>\n",
       "      <td>1.000000</td>\n",
       "    </tr>\n",
       "  </tbody>\n",
       "</table>\n",
       "</div>"
      ],
      "text/plain": [
       "                0\n",
       "count  500.000000\n",
       "mean     0.781499\n",
       "std      0.255905\n",
       "min      0.103158\n",
       "25%      0.561676\n",
       "50%      0.925840\n",
       "75%      0.998255\n",
       "max      1.000000"
      ]
     },
     "metadata": {},
     "output_type": "display_data"
    }
   ],
   "source": [
    "# investigate which value for p_keep works best by looking at the stddev of the probabilities for the target class,\n",
    "def print_stats(p_keep):\n",
    "    n_masks = 500\n",
    "    feature_res = 8\n",
    "    explainer = RISE(n_masks=n_masks, feature_res=feature_res, p_keep=p_keep)\n",
    "    explainer(run_model, X_test[[i_instance]])\n",
    "    preds = explainer.predictions[:, y_test[i_instance]]\n",
    "    df = pd.DataFrame(preds)\n",
    "    display(df.describe())\n",
    "\n",
    "# print_stats(.5)  # stddev = .006 -> too low\n",
    "# print_stats(.3)  # .1 -> still a bit low\n",
    "print_stats(.1)  # .26, with minimum probability of .56 and max of 1.0. This may be ok"
   ]
  },
  {
   "cell_type": "code",
   "execution_count": 61,
   "id": "crude-serve",
   "metadata": {},
   "outputs": [
    {
     "name": "stderr",
     "output_type": "stream",
     "text": [
      "Generating masks: 100%|██████████| 5000/5000 [00:02<00:00, 1823.21it/s]\n",
      "Explaining: 100%|██████████| 50/50 [00:00<00:00, 131.41it/s]\n"
     ]
    }
   ],
   "source": [
    "explainer = RISE(n_masks=5000, feature_res=8, p_keep=.1)\n",
    "heatmaps = explainer(run_model, X_test[[i_instance]])"
   ]
  },
  {
   "cell_type": "code",
   "execution_count": 62,
   "id": "nervous-announcement",
   "metadata": {},
   "outputs": [
    {
     "data": {
      "image/png": "[encoded data removed]",
      "text/plain": [
       "<Figure size 432x288 with 1 Axes>"
      ]
     },
     "metadata": {
      "needs_background": "light"
     },
     "output_type": "display_data"
    },
    {
     "data": {
      "image/png": "[encoded data removed]",
      "text/plain": [
       "<Figure size 432x288 with 1 Axes>"
      ]
     },
     "metadata": {
      "needs_background": "light"
     },
     "output_type": "display_data"
    },
    {
     "data": {
      "image/png": "[encoded data removed]",
      "text/plain": [
       "<Figure size 432x288 with 1 Axes>"
      ]
     },
     "metadata": {
      "needs_background": "light"
     },
     "output_type": "display_data"
    }
   ],
   "source": [
    "visualization.plot_image(heatmaps[0], X_test[i_instance], data_cmap='gray', heatmap_cmap='bwr')\n",
    "visualization.plot_image(heatmaps[0], heatmap_cmap='gray')\n",
    "visualization.plot_image(heatmaps[1])"
   ]
  },
  {
   "cell_type": "markdown",
   "id": "marked-enlargement",
   "metadata": {},
   "source": [
    "# Conclusion\n",
    "We see that for this zero, the left and right parts of it are most important to determine the class. This makes sense, as a one would not have signal in those regions. For higher values of p_keep, the probability does not change enough for RISE to give sensible results, so this parameter needs to be checked/tuned. With proper values for p_keep, RISE thus seems to work."
   ]
  },
  {
   "cell_type": "code",
   "execution_count": 63,
   "id": "cross-modeling",
   "metadata": {},
   "outputs": [
    {
     "name": "stdout",
     "output_type": "stream",
     "text": [
      "shape: (28, 28) min: 0.7090325995577501 max: 0.9925079555076913 std: 0.06211205164501536\n",
      "shape: (28, 28) min: 0.011478949987205294 max: 0.26451279762482766 std: 0.06483113378816897\n"
     ]
    }
   ],
   "source": [
    "def describe(arr):\n",
    "    print('shape:',arr.shape, 'min:',np.min(arr), 'max:',np.max(arr), 'std:',np.std(arr))\n",
    "\n",
    "describe(heatmaps[0])\n",
    "describe(heatmaps[1])"
   ]
  },
  {
   "cell_type": "code",
   "execution_count": 64,
   "id": "thrown-rotation",
   "metadata": {},
   "outputs": [
    {
     "data": {
      "image/png": "[encoded data removed]",
      "text/plain": [
       "<Figure size 432x288 with 1 Axes>"
      ]
     },
     "metadata": {
      "needs_background": "light"
     },
     "output_type": "display_data"
    },
    {
     "data": {
      "image/png": "[encoded data removed]",
      "text/plain": [
       "<Figure size 432x288 with 1 Axes>"
      ]
     },
     "metadata": {
      "needs_background": "light"
     },
     "output_type": "display_data"
    },
    {
     "data": {
      "image/png": "[encoded data removed]",
      "text/plain": [
       "<Figure size 432x288 with 1 Axes>"
      ]
     },
     "metadata": {
      "needs_background": "light"
     },
     "output_type": "display_data"
    },
    {
     "data": {
      "image/png": "[encoded data removed]",
      "text/plain": [
       "<Figure size 432x288 with 1 Axes>"
      ]
     },
     "metadata": {
      "needs_background": "light"
     },
     "output_type": "display_data"
    },
    {
     "data": {
      "image/png": "[encoded data removed]",
      "text/plain": [
       "<Figure size 432x288 with 1 Axes>"
      ]
     },
     "metadata": {
      "needs_background": "light"
     },
     "output_type": "display_data"
    },
    {
     "data": {
      "image/png": "[encoded data removed]",
      "text/plain": [
       "<Figure size 432x288 with 1 Axes>"
      ]
     },
     "metadata": {
      "needs_background": "light"
     },
     "output_type": "display_data"
    },
    {
     "data": {
      "image/png": "[encoded data removed]",
      "text/plain": [
       "<Figure size 432x288 with 1 Axes>"
      ]
     },
     "metadata": {
      "needs_background": "light"
     },
     "output_type": "display_data"
    },
    {
     "data": {
      "image/png": "[encoded data removed]",
      "text/plain": [
       "<Figure size 432x288 with 1 Axes>"
      ]
     },
     "metadata": {
      "needs_background": "light"
     },
     "output_type": "display_data"
    },
    {
     "data": {
      "image/png": "[encoded data removed]",
      "text/plain": [
       "<Figure size 432x288 with 1 Axes>"
      ]
     },
     "metadata": {
      "needs_background": "light"
     },
     "output_type": "display_data"
    },
    {
     "data": {
      "image/png": "[encoded data removed]",
      "text/plain": [
       "<Figure size 432x288 with 1 Axes>"
      ]
     },
     "metadata": {
      "needs_background": "light"
     },
     "output_type": "display_data"
    }
   ],
   "source": [
    "for i in range(10):\n",
    "    plt.imshow(explainer.masks[i])\n",
    "    plt.show()"
   ]
  },
  {
   "cell_type": "code",
   "execution_count": null,
   "id": "ongoing-basement",
   "metadata": {},
   "outputs": [],
   "source": []
  }
 ],
 "metadata": {
  "kernelspec": {
   "display_name": "Python 3",
   "language": "python",
   "name": "python3"
  },
  "language_info": {
   "codemirror_mode": {
    "name": "ipython",
    "version": 3
   },
   "file_extension": ".py",
   "mimetype": "text/x-python",
   "name": "python",
   "nbconvert_exporter": "python",
   "pygments_lexer": "ipython3",
   "version": "3.9.1"
  }
 },
 "nbformat": 4,
 "nbformat_minor": 5
}
