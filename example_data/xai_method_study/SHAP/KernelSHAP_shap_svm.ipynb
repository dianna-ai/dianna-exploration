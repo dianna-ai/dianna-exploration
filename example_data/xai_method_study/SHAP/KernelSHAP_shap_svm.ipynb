{
 "cells": [
  {
   "cell_type": "markdown",
   "metadata": {},
   "source": [
    "## Test KernelSHAP following a tutorial with multi-class SVM\n",
    "\n",
    "**Function        : Test KernelSHAP with multi-class SVM on the classic iris dataset**<br>\n",
    "**Author          : Team DIANNA**<br>\n",
    "**Contributor     :**<br>\n",
    "**First Built     : 2021.11.30**<br>\n",
    "**Last Update     : 2021.11.30**<br>\n",
    "**Library         : os, numpy, pandas, matplotlib, sklearn, shap**<br>\n",
    "**Description     : In this notebook we test XAI method KernelSHAP following a tutorial.**<br>\n",
    "**Return Values   : Shapley scores**<br>\n",
    "**Note**          : We use shap library, which is the original implementation by the author of \"SHAP\" paper, to perform KernelSHAP. The example can be found: <br>\n",
    "https://github.com/slundberg/shap\n"
   ]
  },
  {
   "cell_type": "code",
   "execution_count": null,
   "metadata": {},
   "outputs": [],
   "source": [
    "import sklearn\n",
    "import shap\n",
    "from sklearn.model_selection import train_test_split\n",
    "\n",
    "# print the JS visualization code to the notebook\n",
    "shap.initjs()"
   ]
  },
  {
   "cell_type": "code",
   "execution_count": 2,
   "metadata": {},
   "outputs": [
    {
     "data": {
      "text/plain": [
       "SVC(probability=True)"
      ]
     },
     "execution_count": 2,
     "metadata": {},
     "output_type": "execute_result"
    }
   ],
   "source": [
    "# train a SVM classifier\n",
    "X_train,X_test,Y_train,Y_test = train_test_split(*shap.datasets.iris(), test_size=0.2, random_state=0)\n",
    "svm = sklearn.svm.SVC(kernel='rbf', probability=True)\n",
    "svm.fit(X_train, Y_train)"
   ]
  },
  {
   "cell_type": "code",
   "execution_count": 7,
   "metadata": {},
   "outputs": [
    {
     "name": "stdout",
     "output_type": "stream",
     "text": [
      "(120, 4)\n",
      "(30, 4)\n"
     ]
    }
   ],
   "source": [
    "print(X_train.shape)\n",
    "print(X_test.shape)"
   ]
  },
  {
   "cell_type": "code",
   "execution_count": 4,
   "metadata": {},
   "outputs": [
    {
     "name": "stderr",
     "output_type": "stream",
     "text": [
      "X does not have valid feature names, but SVC was fitted with feature names\n",
      "Using 120 background data samples could cause slower run times. Consider using shap.sample(data, K) or shap.kmeans(data, K) to summarize the background as K samples.\n"
     ]
    },
    {
     "data": {
      "application/vnd.jupyter.widget-view+json": {
       "model_id": "e1d59bc5604749fd92fe5c6b2f71948c",
       "version_major": 2,
       "version_minor": 0
      },
      "text/plain": [
       "  0%|          | 0/30 [00:00<?, ?it/s]"
      ]
     },
     "metadata": {},
     "output_type": "display_data"
    },
    {
     "name": "stderr",
     "output_type": "stream",
     "text": [
      "X does not have valid feature names, but SVC was fitted with feature names\n",
      "X does not have valid feature names, but SVC was fitted with feature names\n",
      "X does not have valid feature names, but SVC was fitted with feature names\n",
      "X does not have valid feature names, but SVC was fitted with feature names\n",
      "X does not have valid feature names, but SVC was fitted with feature names\n",
      "X does not have valid feature names, but SVC was fitted with feature names\n",
      "X does not have valid feature names, but SVC was fitted with feature names\n",
      "X does not have valid feature names, but SVC was fitted with feature names\n",
      "X does not have valid feature names, but SVC was fitted with feature names\n",
      "X does not have valid feature names, but SVC was fitted with feature names\n",
      "X does not have valid feature names, but SVC was fitted with feature names\n",
      "X does not have valid feature names, but SVC was fitted with feature names\n",
      "X does not have valid feature names, but SVC was fitted with feature names\n",
      "X does not have valid feature names, but SVC was fitted with feature names\n",
      "X does not have valid feature names, but SVC was fitted with feature names\n",
      "X does not have valid feature names, but SVC was fitted with feature names\n",
      "X does not have valid feature names, but SVC was fitted with feature names\n",
      "X does not have valid feature names, but SVC was fitted with feature names\n",
      "X does not have valid feature names, but SVC was fitted with feature names\n",
      "X does not have valid feature names, but SVC was fitted with feature names\n",
      "X does not have valid feature names, but SVC was fitted with feature names\n",
      "X does not have valid feature names, but SVC was fitted with feature names\n",
      "X does not have valid feature names, but SVC was fitted with feature names\n",
      "X does not have valid feature names, but SVC was fitted with feature names\n",
      "X does not have valid feature names, but SVC was fitted with feature names\n",
      "X does not have valid feature names, but SVC was fitted with feature names\n",
      "X does not have valid feature names, but SVC was fitted with feature names\n",
      "X does not have valid feature names, but SVC was fitted with feature names\n",
      "X does not have valid feature names, but SVC was fitted with feature names\n",
      "X does not have valid feature names, but SVC was fitted with feature names\n",
      "X does not have valid feature names, but SVC was fitted with feature names\n",
      "X does not have valid feature names, but SVC was fitted with feature names\n",
      "X does not have valid feature names, but SVC was fitted with feature names\n",
      "X does not have valid feature names, but SVC was fitted with feature names\n",
      "X does not have valid feature names, but SVC was fitted with feature names\n",
      "X does not have valid feature names, but SVC was fitted with feature names\n",
      "X does not have valid feature names, but SVC was fitted with feature names\n",
      "X does not have valid feature names, but SVC was fitted with feature names\n",
      "X does not have valid feature names, but SVC was fitted with feature names\n",
      "X does not have valid feature names, but SVC was fitted with feature names\n",
      "X does not have valid feature names, but SVC was fitted with feature names\n",
      "X does not have valid feature names, but SVC was fitted with feature names\n",
      "X does not have valid feature names, but SVC was fitted with feature names\n",
      "X does not have valid feature names, but SVC was fitted with feature names\n",
      "X does not have valid feature names, but SVC was fitted with feature names\n",
      "X does not have valid feature names, but SVC was fitted with feature names\n",
      "X does not have valid feature names, but SVC was fitted with feature names\n",
      "X does not have valid feature names, but SVC was fitted with feature names\n",
      "X does not have valid feature names, but SVC was fitted with feature names\n",
      "X does not have valid feature names, but SVC was fitted with feature names\n",
      "X does not have valid feature names, but SVC was fitted with feature names\n",
      "X does not have valid feature names, but SVC was fitted with feature names\n",
      "X does not have valid feature names, but SVC was fitted with feature names\n",
      "X does not have valid feature names, but SVC was fitted with feature names\n",
      "X does not have valid feature names, but SVC was fitted with feature names\n",
      "X does not have valid feature names, but SVC was fitted with feature names\n",
      "X does not have valid feature names, but SVC was fitted with feature names\n",
      "X does not have valid feature names, but SVC was fitted with feature names\n",
      "X does not have valid feature names, but SVC was fitted with feature names\n",
      "X does not have valid feature names, but SVC was fitted with feature names\n"
     ]
    }
   ],
   "source": [
    "# use Kernel SHAP to explain test set predictions\n",
    "explainer = shap.KernelExplainer(svm.predict_proba, X_train, link=\"logit\")\n",
    "shap_values = explainer.shap_values(X_test, nsamples=100)"
   ]
  },
  {
   "cell_type": "code",
   "execution_count": 5,
   "metadata": {},
   "outputs": [
    {
     "data": {
      "text/html": [
       "\n",
       "<div id='iVD7S20EHY5ITN99M2YYG'>\n",
       "<div style='color: #900; text-align: center;'>\n",
       "  <b>Visualization omitted, Javascript library not loaded!</b><br>\n",
       "  Have you run `initjs()` in this notebook? If this notebook was from another\n",
       "  user you must also trust this notebook (File -> Trust notebook). If you are viewing\n",
       "  this notebook on github the Javascript has been stripped for security. If you are using\n",
       "  JupyterLab this error is because a JupyterLab extension has not yet been written.\n",
       "</div></div>\n",
       " <script>\n",
       "   if (window.SHAP) SHAP.ReactDom.render(\n",
       "    SHAP.React.createElement(SHAP.AdditiveForceVisualizer, {\"outNames\": [\"f(x)\"], \"baseValue\": -0.745525319849871, \"outValue\": -4.691563894445219, \"link\": \"logit\", \"featureNames\": [\"sepal length (cm)\", \"sepal width (cm)\", \"petal length (cm)\", \"petal width (cm)\"], \"features\": {\"0\": {\"effect\": -0.08889206283884143, \"value\": 5.8}, \"1\": {\"effect\": -0.10015133148774868, \"value\": 2.8}, \"2\": {\"effect\": -3.507023887274869, \"value\": 5.1}, \"3\": {\"effect\": -0.2499712929938891, \"value\": 2.4}}, \"plot_cmap\": \"RdBu\", \"labelMargin\": 20}),\n",
       "    document.getElementById('iVD7S20EHY5ITN99M2YYG')\n",
       "  );\n",
       "</script>"
      ],
      "text/plain": [
       "<shap.plots._force.AdditiveForceVisualizer at 0x7f038867b940>"
      ]
     },
     "execution_count": 5,
     "metadata": {},
     "output_type": "execute_result"
    }
   ],
   "source": [
    "# plot the SHAP values for the Setosa output of the first instance\n",
    "shap.force_plot(explainer.expected_value[0], shap_values[0][0,:], X_test.iloc[0,:], link=\"logit\")"
   ]
  }
 ],
 "metadata": {
  "interpreter": {
   "hash": "e7604e8ec5f09e490e10161e37a4725039efd3ab703d81b1b8a1e00d6741866c"
  },
  "kernelspec": {
   "display_name": "Python 3.8.5 64-bit ('base': conda)",
   "language": "python",
   "name": "python3"
  },
  "language_info": {
   "codemirror_mode": {
    "name": "ipython",
    "version": 3
   },
   "file_extension": ".py",
   "mimetype": "text/x-python",
   "name": "python",
   "nbconvert_exporter": "python",
   "pygments_lexer": "ipython3",
   "version": "3.8.5"
  },
  "orig_nbformat": 4
 },
 "nbformat": 4,
 "nbformat_minor": 2
}
