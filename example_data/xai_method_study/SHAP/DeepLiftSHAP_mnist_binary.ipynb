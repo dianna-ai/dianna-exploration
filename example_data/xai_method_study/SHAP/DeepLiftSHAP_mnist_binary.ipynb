{
 "cells": [
  {
   "cell_type": "markdown",
   "metadata": {},
   "source": [
    "## Exploration of DeepLiftSHAP with binary MNIST\n",
    "\n",
    "**Function        : Exploration of DeepLiftSHAP with binary MNIST**<br>\n",
    "**Author          : Team DIANNA**<br>\n",
    "**Contributor     :**<br>\n",
    "**First Built     : 2021.06.30**<br>\n",
    "**Last Update     : 2021.07.04**<br>\n",
    "**Library         : os, numpy, matplotlib, torch, tensorflow**<br>\n",
    "**Description     : In this notebook we test XAI method DeepLiftSHAP using trained binary MNIST model.**<br>\n",
    "**Return Values   : Shapley scores**<br>\n",
    "**Note**          : We use Captum library to perform DeepLiftSHAP. This library works only with pytorch and it is not compitable with onnx.<br>"
   ]
  },
  {
   "cell_type": "code",
   "execution_count": 1,
   "metadata": {},
   "outputs": [],
   "source": [
    "%matplotlib inline\n",
    "import os\n",
    "import time as tt\n",
    "import numpy as np\n",
    "# DL framework\n",
    "import torch\n",
    "import torchvision\n",
    "import torch.nn as nn\n",
    "import torch.nn.functional as F\n",
    "import torch.optim as optim\n",
    "import torch.utils.data\n",
    "#import torch.onnx\n",
    "# XAI framework\n",
    "from captum.attr import DeepLift\n",
    "from captum.attr import DeepLiftShap\n",
    "from captum.attr import visualization as viz\n",
    "# for plotting\n",
    "import matplotlib.pyplot as plt\n",
    "from matplotlib.colors import LinearSegmentedColormap\n",
    "# report and monitoring with Weights & Biases\n",
    "#import wandb\n",
    "# ONNX model and runtime\n",
    "import onnx\n",
    "#import onnxruntime as ort"
   ]
  },
  {
   "cell_type": "markdown",
   "metadata": {},
   "source": [
    "### Path to the dataset and the model"
   ]
  },
  {
   "cell_type": "code",
   "execution_count": 2,
   "metadata": {},
   "outputs": [],
   "source": [
    "# please specify data path\n",
    "datapath = '/mnt/d/NLeSC/DIANNA/data/mnist/binary-MNIST'\n",
    "# please specify model path\n",
    "model_path = '/mnt/d/NLeSC/DIANNA/codebase/dianna/example_data/model_generation/MNIST'\n",
    "# please specify output path\n",
    "output_path = '/mnt/d/NLeSC/DIANNA/codebase/dianna/example_data/xai_method_study'\n",
    "if not os.path.exists(output_path):\n",
    "    os.makedirs(output_path, exist_ok = True)"
   ]
  },
  {
   "cell_type": "markdown",
   "metadata": {},
   "source": [
    "### Load data (binary MNIST)"
   ]
  },
  {
   "cell_type": "code",
   "execution_count": 3,
   "metadata": {},
   "outputs": [
    {
     "name": "stdout",
     "output_type": "stream",
     "text": [
      "dimensions of mnist:\n",
      "dimensions or training set (12665, 784)\n",
      "dimensions or training set label (12665,)\n",
      "dimensions or testing set (2115, 784)\n",
      "dimensions or testing set label (2115,)\n",
      "statistics of training set:\n",
      "Digits: 0 1\n",
      "labels: [0 1]\n",
      "Class distribution: [5923 6742]\n",
      "Labels of training set [0 1 1 1 1 0 1 1 0 0 1 0 0 1 0 1 0 0 1 1]\n"
     ]
    }
   ],
   "source": [
    "# load binary MNIST from local\n",
    "# load data\n",
    "fd = np.load(os.path.join(datapath, 'binary-mnist.npz'))\n",
    "# training set\n",
    "train_X = fd['X_train']\n",
    "train_y = fd['y_train']\n",
    "# testing set\n",
    "test_X = fd['X_test']\n",
    "test_y = fd['y_test']\n",
    "fd.close()\n",
    "\n",
    "# dimensions of data\n",
    "print(\"dimensions of mnist:\")\n",
    "print(\"dimensions or training set\", train_X.shape)\n",
    "print(\"dimensions or training set label\", train_y.shape)\n",
    "print(\"dimensions or testing set\", test_X.shape)\n",
    "print(\"dimensions or testing set label\", test_y.shape)\n",
    "# statistics of training set\n",
    "print(\"statistics of training set:\")\n",
    "print(\"Digits: 0 1\")\n",
    "print(\"labels: {}\".format(np.unique(train_y)))\n",
    "print(\"Class distribution: {}\".format(np.bincount(train_y)))\n",
    "print(\"Labels of training set\", train_y[:20])"
   ]
  },
  {
   "cell_type": "code",
   "execution_count": 4,
   "metadata": {},
   "outputs": [],
   "source": [
    "# use pytorch data loader\n",
    "test_X_torch = torch.from_numpy(test_X).type(torch.FloatTensor)\n",
    "test_y_torch = torch.from_numpy(test_y).type(torch.LongTensor)\n",
    "# reshape the input following the definition in pytorch (batch, channel, Height, Width)\n",
    "test_X_torch = test_X_torch.view(-1,1,28,28)"
   ]
  },
  {
   "cell_type": "markdown",
   "metadata": {},
   "source": [
    "### Load model (Pytorch model trained for binary MNIST)"
   ]
  },
  {
   "cell_type": "code",
   "execution_count": 5,
   "metadata": {},
   "outputs": [
    {
     "data": {
      "text/plain": [
       "<All keys matched successfully>"
      ]
     },
     "execution_count": 5,
     "metadata": {},
     "output_type": "execute_result"
    }
   ],
   "source": [
    "# define the model first\n",
    "class MnistNet(nn.Module):\n",
    "    def __init__(self, kernels=[16, 32], dropout = 0.1, classes=2):\n",
    "        '''\n",
    "        Two layer CNN model with max pooling.\n",
    "        '''\n",
    "        super(MnistNet, self).__init__()\n",
    "        self.kernels = kernels\n",
    "        # 1st layer\n",
    "        self.layer1 = nn.Sequential(\n",
    "            nn.Conv2d(1, kernels[0], kernel_size=5, stride=1, padding=2),\n",
    "            nn.MaxPool2d(kernel_size=2, stride=2),\n",
    "            nn.ReLU(),\n",
    "            nn.Dropout()\n",
    "        )\n",
    "        # 2nd layer\n",
    "        self.layer2 = nn.Sequential(\n",
    "            nn.Conv2d(kernels[0], kernels[1], kernel_size=5, stride=1, padding=2),\n",
    "            nn.MaxPool2d(kernel_size=2, stride=2),\n",
    "            nn.ReLU(),\n",
    "            nn.Dropout()\n",
    "        )\n",
    "        self.fc1 = nn.Linear(7 * 7 * kernels[-1], kernels[-1]) # pixel 28 / maxpooling 2 * 2 = 7\n",
    "        self.fc2 = nn.Linear(kernels[-1], classes)\n",
    "\n",
    "    def forward(self, x):\n",
    "        x = self.layer1(x)\n",
    "        x = self.layer2(x)\n",
    "        x = x.reshape(x.size(0), -1)\n",
    "        x = self.fc1(x)\n",
    "        x = self.fc2(x)\n",
    "\n",
    "        return F.log_softmax(x, dim=1)\n",
    "\n",
    "# hyper-parameters\n",
    "kernels = [16, 32]\n",
    "dropout = 0.5\n",
    "classes = 2\n",
    "# create model\n",
    "model = MnistNet(kernels, dropout, classes)\n",
    "# load whole model state\n",
    "checkpoint = torch.load(os.path.join(model_path, 'mnistnet_training_checkpoint.pt'))\n",
    "model.load_state_dict(checkpoint['model_state_dict'])"
   ]
  },
  {
   "cell_type": "markdown",
   "metadata": {},
   "source": [
    "### Predict the class of the input image <br>\n",
    "About how to use ONNX model: https://pytorch.org/docs/stable/onnx.html <br>"
   ]
  },
  {
   "cell_type": "code",
   "execution_count": 6,
   "metadata": {},
   "outputs": [
    {
     "name": "stdout",
     "output_type": "stream",
     "text": [
      "Test accuracy:99.905% \n",
      "prediction tensor([1])\n",
      "ground truth 1\n"
     ]
    }
   ],
   "source": [
    "# check the prediction\n",
    "model.eval()\n",
    "\n",
    "# overall test accuracy\n",
    "correct = 0\n",
    "for i in range(len(test_X_torch)):\n",
    "    output = model(test_X_torch[i:i+1,:,:,:])\n",
    "    predicted = torch.max(output,1)[1]\n",
    "    correct += (predicted == test_y[i]).sum()\n",
    "\n",
    "print(\"Test accuracy:{:.3f}% \".format(float(correct*100) / float(len(test_X_torch))))\n",
    "\n",
    "# check one case\n",
    "output = model(test_X_torch[:1,:,:,:])\n",
    "predicted = torch.max(output,1)[1]\n",
    "print(\"prediction\", predicted)\n",
    "print(\"ground truth\", test_y[0])"
   ]
  },
  {
   "cell_type": "markdown",
   "metadata": {},
   "source": [
    "### DeepLIFT-based attribution <br>\n",
    "Compute attributions using DeepLIFT and visualize them on the image."
   ]
  },
  {
   "cell_type": "code",
   "execution_count": 12,
   "metadata": {},
   "outputs": [
    {
     "data": {
      "image/png": "[encoded data removed]",
      "text/plain": [
       "<Figure size 576x432 with 4 Axes>"
      ]
     },
     "metadata": {
      "needs_background": "light"
     },
     "output_type": "display_data"
    }
   ],
   "source": [
    "deeplift = DeepLift(model)\n",
    "attributions_dl = deeplift.attribute(test_X_torch[:1,:,:,:],\n",
    "                                     baselines=test_X_torch[:1,:,:,:] * 0,\n",
    "                                     target=test_y_torch[0])\n",
    "# _ = viz.visualize_image_attr(np.transpose(attributions_dl[0,:,:,:].cpu().detach().numpy(), (1,2,0)),\n",
    "#                                       np.transpose(test_X_torch[0,:,:,:].cpu().detach().numpy(), (1,2,0)),\n",
    "#                                       method='blended_heat_map', sign=\"all\", show_colorbar=True)\n",
    "_ = viz.visualize_image_attr_multiple(np.transpose(attributions_dl[0,:,:,:].cpu().detach().numpy(), (1,2,0)),\n",
    "                                      np.transpose(test_X_torch[0,:,:,:].cpu().detach().numpy(), (1,2,0)),\n",
    "                                      [\"original_image\", \"blended_heat_map\"],\n",
    "                                      [\"all\", \"all\"],\n",
    "                                      show_colorbar=True)"
   ]
  },
  {
   "cell_type": "markdown",
   "metadata": {},
   "source": [
    "### Compute DeepLifttShap\n",
    "Compute Shapley score based on the DeepLift algorithm. <br>\n"
   ]
  },
  {
   "cell_type": "code",
   "execution_count": 10,
   "metadata": {},
   "outputs": [
    {
     "data": {
      "image/png": "[encoded data removed]",
      "text/plain": [
       "<Figure size 576x432 with 4 Axes>"
      ]
     },
     "metadata": {
      "needs_background": "light"
     },
     "output_type": "display_data"
    },
    {
     "data": {
      "image/png": "[encoded data removed]",
      "text/plain": [
       "<Figure size 576x432 with 4 Axes>"
      ]
     },
     "metadata": {
      "needs_background": "light"
     },
     "output_type": "display_data"
    },
    {
     "data": {
      "image/png": "[encoded data removed]",
      "text/plain": [
       "<Figure size 576x432 with 4 Axes>"
      ]
     },
     "metadata": {
      "needs_background": "light"
     },
     "output_type": "display_data"
    },
    {
     "data": {
      "image/png": "[encoded data removed]",
      "text/plain": [
       "<Figure size 576x432 with 4 Axes>"
      ]
     },
     "metadata": {
      "needs_background": "light"
     },
     "output_type": "display_data"
    },
    {
     "data": {
      "image/png": "[encoded data removed]",
      "text/plain": [
       "<Figure size 576x432 with 4 Axes>"
      ]
     },
     "metadata": {
      "needs_background": "light"
     },
     "output_type": "display_data"
    },
    {
     "data": {
      "image/png": "[encoded data removed]",
      "text/plain": [
       "<Figure size 576x432 with 4 Axes>"
      ]
     },
     "metadata": {
      "needs_background": "light"
     },
     "output_type": "display_data"
    },
    {
     "data": {
      "image/png": "[encoded data removed]",
      "text/plain": [
       "<Figure size 576x432 with 4 Axes>"
      ]
     },
     "metadata": {
      "needs_background": "light"
     },
     "output_type": "display_data"
    },
    {
     "data": {
      "image/png": "[encoded data removed]",
      "text/plain": [
       "<Figure size 576x432 with 4 Axes>"
      ]
     },
     "metadata": {
      "needs_background": "light"
     },
     "output_type": "display_data"
    },
    {
     "data": {
      "image/png": "[encoded data removed]",
      "text/plain": [
       "<Figure size 576x432 with 4 Axes>"
      ]
     },
     "metadata": {
      "needs_background": "light"
     },
     "output_type": "display_data"
    },
    {
     "data": {
      "image/png": "[encoded data removed]",
      "text/plain": [
       "<Figure size 576x432 with 4 Axes>"
      ]
     },
     "metadata": {
      "needs_background": "light"
     },
     "output_type": "display_data"
    }
   ],
   "source": [
    "torch.manual_seed(0)\n",
    "np.random.seed(0)\n",
    "\n",
    "deeplift_shap = DeepLiftShap(model)\n",
    "\n",
    "# Defining baseline distribution of images\n",
    "rand_img_dist = torch.cat([test_X_torch[:1,:,:,:] * 0, test_X_torch[:1,:,:,:] * 1])\n",
    "\n",
    "# plot the attribution for a number of cases\n",
    "case = 10\n",
    "for i in range(case):\n",
    "    attributions_dlsh = deeplift_shap.attribute(test_X_torch[i:i+1,:,:,:],\n",
    "                                     baselines=rand_img_dist,\n",
    "                                     target=test_y_torch[i])\n",
    "    #_ = viz.visualize_image_attr(np.transpose(attributions_dlsh[0,:,:,:].cpu().detach().numpy(), (1,2,0)),\n",
    "    #                             np.transpose(test_X_torch[0,:,:,:].cpu().detach().numpy(), (1,2,0)),\n",
    "    #                             method='blended_heat_map', sign=\"all\", show_colorbar=True)\n",
    "    _ = viz.visualize_image_attr_multiple(np.transpose(attributions_dlsh[0,:,:,:].cpu().detach().numpy(), (1,2,0)),\n",
    "                                          np.transpose(test_X_torch[i,:,:,:].cpu().detach().numpy(), (1,2,0)),\n",
    "                                          [\"original_image\", \"blended_heat_map\"],\n",
    "                                          [\"all\", \"all\"],\n",
    "                                          show_colorbar=True)    "
   ]
  }
 ],
 "metadata": {
  "interpreter": {
   "hash": "90e02b2587fbb2ca467fc85381f5522fddb4a9e5fbb8605712260c849ecf752b"
  },
  "kernelspec": {
   "display_name": "Python 3.8.5 64-bit ('base': conda)",
   "name": "python3"
  },
  "language_info": {
   "codemirror_mode": {
    "name": "ipython",
    "version": 3
   },
   "file_extension": ".py",
   "mimetype": "text/x-python",
   "name": "python",
   "nbconvert_exporter": "python",
   "pygments_lexer": "ipython3",
   "version": "3.8.5"
  },
  "orig_nbformat": 2
 },
 "nbformat": 4,
 "nbformat_minor": 2
}