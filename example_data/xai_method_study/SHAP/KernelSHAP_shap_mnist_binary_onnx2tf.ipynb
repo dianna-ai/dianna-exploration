{
 "cells": [
  {
   "cell_type": "markdown",
   "metadata": {},
   "source": [
    "## Exploration of KernelSHAP with model (binary MNIST) converted from onnx to tf\n",
    "\n",
    "**Function        : Exploration of KernelSHAP with model (binary MNIST) converted from onnx to tf**<br>\n",
    "**Author          : Team DIANNA**<br>\n",
    "**Contributor     :**<br>\n",
    "**First Built     : 2021.12.09**<br>\n",
    "**Last Update     : 2021.12.09**<br>\n",
    "**Library         : os, numpy, matplotlib, tensorflow, keras, shap**<br>\n",
    "**Description     : In this notebook we test XAI method KernelSHAP using trained binary MNIST model.**<br>\n",
    "**Return Values   : Shapley scores**<br>\n",
    "**Note**          : We use shap library, which is the original implementation by the author of \"SHAP\" paper, to perform KernelSHAP.<br>"
   ]
  },
  {
   "cell_type": "code",
   "execution_count": 1,
   "metadata": {},
   "outputs": [],
   "source": [
    "from __future__ import print_function\n",
    "import tensorflow as tf\n",
    "from tensorflow import keras\n",
    "from tensorflow.keras.datasets import mnist\n",
    "from tensorflow.keras.models import Sequential\n",
    "from tensorflow.keras.layers import Dense, Dropout, Flatten\n",
    "from tensorflow.keras.layers import Conv2D, MaxPooling2D\n",
    "from tensorflow.keras import backend as K\n",
    "import numpy as np\n",
    "import shap\n",
    "import matplotlib.pyplot as plt\n",
    "from skimage.segmentation import slic\n",
    "import warnings"
   ]
  },
  {
   "cell_type": "code",
   "execution_count": 2,
   "metadata": {},
   "outputs": [
    {
     "name": "stdout",
     "output_type": "stream",
     "text": [
      "Before filtering\n",
      "training set shape (60000, 28, 28)\n",
      "training set label shape (60000,)\n",
      "testing set shape (10000, 28, 28)\n",
      "testing set label shape (10000,)\n",
      "After filtering\n",
      "training set shape (12665, 28, 28)\n",
      "training set label shape (12665,)\n",
      "testing set shape (2115, 28, 28)\n",
      "testing set label shape (2115,)\n"
     ]
    }
   ],
   "source": [
    "# prepare binary mnist dataset\n",
    "\n",
    "# input image dimensions\n",
    "img_rows, img_cols = 28, 28\n",
    "\n",
    "# the data, split between train and test sets\n",
    "(x_train, y_train), (x_test, y_test) = mnist.load_data()\n",
    "# check the shape of train and test sets\n",
    "print(\"Before filtering\")\n",
    "print(\"training set shape\", x_train.shape)\n",
    "print(\"training set label shape\", y_train.shape)\n",
    "print(\"testing set shape\", x_test.shape)\n",
    "print(\"testing set label shape\", y_test.shape)\n",
    "# get all the images labelled \"0\" and \"1\" (binary filtering)\n",
    "label_a = 0\n",
    "label_b = 1\n",
    "x_train_binary = x_train[(y_train == label_a) | (y_train == label_b),:]\n",
    "y_train_binary = y_train[(y_train == label_a) | (y_train == label_b)]\n",
    "x_test_binary = x_test[(y_test == label_a) | (y_test == label_b),:]\n",
    "y_test_binary = y_test[(y_test == label_a) | (y_test == label_b)]\n",
    "# check the shape of train and test sets after filtering\n",
    "print(\"After filtering\")\n",
    "print(\"training set shape\", x_train_binary.shape)\n",
    "print(\"training set label shape\", y_train_binary.shape)\n",
    "print(\"testing set shape\", x_test_binary.shape)\n",
    "print(\"testing set label shape\", y_test_binary.shape)"
   ]
  },
  {
   "cell_type": "code",
   "execution_count": 3,
   "metadata": {},
   "outputs": [
    {
     "name": "stdout",
     "output_type": "stream",
     "text": [
      "x_train_binary shape: (12665, 28, 28, 1)\n",
      "12665 train samples\n",
      "2115 test samples\n"
     ]
    }
   ],
   "source": [
    "# define basic parameters of training\n",
    "batch_size = 128\n",
    "num_classes = 2\n",
    "epochs = 10\n",
    "\n",
    "# preprocess training and testing sets\n",
    "if K.image_data_format() == 'channels_first':\n",
    "    x_train_binary = x_train_binary.reshape(x_train_binary.shape[0], 1, img_rows, img_cols)\n",
    "    x_test_binary = x_test_binary.reshape(x_test_binary.shape[0], 1, img_rows, img_cols)\n",
    "    input_shape = (1, img_rows, img_cols)\n",
    "else:\n",
    "    x_train_binary = x_train_binary.reshape(x_train_binary.shape[0], img_rows, img_cols, 1)\n",
    "    x_test_binary = x_test_binary.reshape(x_test_binary.shape[0], img_rows, img_cols, 1)\n",
    "    input_shape = (img_rows, img_cols, 1)\n",
    "\n",
    "x_train_binary = x_train_binary.astype('float32')\n",
    "x_test_binary = x_test_binary.astype('float32')\n",
    "x_train_binary /= 255\n",
    "x_test_binary /= 255\n",
    "print('x_train_binary shape:', x_train_binary.shape)\n",
    "print(x_train_binary.shape[0], 'train samples')\n",
    "print(x_test_binary.shape[0], 'test samples')\n",
    "\n",
    "# convert class vectors to binary class matrices\n",
    "y_train_binary = keras.utils.to_categorical(y_train_binary, num_classes)\n",
    "y_test_binary = keras.utils.to_categorical(y_test_binary, num_classes)"
   ]
  },
  {
   "cell_type": "code",
   "execution_count": 4,
   "metadata": {},
   "outputs": [
    {
     "name": "stderr",
     "output_type": "stream",
     "text": [
      "2022-01-03 17:49:12.683825: I tensorflow/compiler/jit/xla_cpu_device.cc:41] Not creating XLA devices, tf_xla_enable_xla_devices not set\n",
      "2022-01-03 17:49:12.684215: I tensorflow/core/platform/cpu_feature_guard.cc:142] This TensorFlow binary is optimized with oneAPI Deep Neural Network Library (oneDNN) to use the following CPU instructions in performance-critical operations:  SSE4.1 SSE4.2 AVX AVX2 FMA\n",
      "To enable them in other operations, rebuild TensorFlow with the appropriate compiler flags.\n",
      "2022-01-03 17:49:12.685337: I tensorflow/core/common_runtime/process_util.cc:146] Creating new thread pool with default inter op setting: 2. Tune using inter_op_parallelism_threads for best performance.\n"
     ]
    }
   ],
   "source": [
    "model = Sequential()\n",
    "model.add(Conv2D(32, kernel_size=(3, 3),\n",
    "                 activation='relu',\n",
    "                 input_shape=input_shape))\n",
    "model.add(Conv2D(64, (3, 3), activation='relu'))\n",
    "model.add(MaxPooling2D(pool_size=(2, 2)))\n",
    "model.add(Dropout(0.25))\n",
    "model.add(Flatten())\n",
    "model.add(Dense(128, activation='relu'))\n",
    "model.add(Dropout(0.5))\n",
    "model.add(Dense(num_classes, activation='softmax'))\n",
    "\n",
    "model.compile(loss=keras.losses.categorical_crossentropy,\n",
    "              optimizer=keras.optimizers.Adadelta(),\n",
    "              metrics=['accuracy'])"
   ]
  },
  {
   "cell_type": "code",
   "execution_count": 5,
   "metadata": {},
   "outputs": [
    {
     "name": "stderr",
     "output_type": "stream",
     "text": [
      "2021-12-09 12:21:46.642986: I tensorflow/compiler/mlir/mlir_graph_optimization_pass.cc:116] None of the MLIR optimization passes are enabled (registered 2)\n",
      "2021-12-09 12:21:46.643706: I tensorflow/core/platform/profile_utils/cpu_utils.cc:112] CPU Frequency: 2304005000 Hz\n"
     ]
    },
    {
     "name": "stdout",
     "output_type": "stream",
     "text": [
      "Epoch 1/2\n",
      "99/99 [==============================] - 18s 177ms/step - loss: 0.6926 - accuracy: 0.5235 - val_loss: 0.6692 - val_accuracy: 0.9480\n",
      "Epoch 2/2\n",
      "99/99 [==============================] - 14s 144ms/step - loss: 0.6649 - accuracy: 0.7539 - val_loss: 0.6392 - val_accuracy: 0.9844\n",
      "Test loss: 0.6391953229904175\n",
      "Test accuracy: 0.9843971729278564\n"
     ]
    }
   ],
   "source": [
    "model.fit(x_train_binary, y_train_binary,\n",
    "          batch_size=batch_size,\n",
    "          epochs=epochs,\n",
    "          verbose=1,\n",
    "          validation_data=(x_test_binary, y_test_binary))\n",
    "score = model.evaluate(x_test_binary, y_test_binary, verbose=0)\n",
    "print('Test loss:', score[0])\n",
    "print('Test accuracy:', score[1])"
   ]
  },
  {
   "cell_type": "code",
   "execution_count": 5,
   "metadata": {},
   "outputs": [],
   "source": [
    "# save model\n",
    "savedmodel_dir = 'mnist_savedmodel'\n",
    "#model.save(savedmodel_dir)"
   ]
  },
  {
   "cell_type": "code",
   "execution_count": 7,
   "metadata": {},
   "outputs": [
    {
     "name": "stdout",
     "output_type": "stream",
     "text": [
      "/home/yangliu/miniconda3/lib/python3.8/runpy.py:127: RuntimeWarning: 'tf2onnx.convert' found in sys.modules after import of package 'tf2onnx', but prior to execution of 'tf2onnx.convert'; this may result in unpredictable behaviour\n",
      "  warn(RuntimeWarning(msg))\n",
      "2022-01-03 17:49:37,681 - INFO - Signatures found in model: [serving_default].\n",
      "2022-01-03 17:49:37,681 - INFO - Output names: ['dense_1']\n",
      "WARNING:tensorflow:From /home/yangliu/miniconda3/lib/python3.8/site-packages/tf2onnx/tf_loader.py:706: extract_sub_graph (from tensorflow.python.framework.graph_util_impl) is deprecated and will be removed in a future version.\n",
      "Instructions for updating:\n",
      "Use `tf.compat.v1.graph_util.extract_sub_graph`\n",
      "2022-01-03 17:49:37,818 - WARNING - From /home/yangliu/miniconda3/lib/python3.8/site-packages/tf2onnx/tf_loader.py:706: extract_sub_graph (from tensorflow.python.framework.graph_util_impl) is deprecated and will be removed in a future version.\n",
      "Instructions for updating:\n",
      "Use `tf.compat.v1.graph_util.extract_sub_graph`\n",
      "2022-01-03 17:49:37,911 - INFO - Using tensorflow=2.4.1, onnx=1.9.0, tf2onnx=1.9.3/1190aa\n",
      "2022-01-03 17:49:37,912 - INFO - Using opset <onnx, 9>\n",
      "2022-01-03 17:49:38,144 - INFO - Computed 0 values for constant folding\n",
      "2022-01-03 17:49:38,281 - INFO - Optimizing ONNX model\n",
      "2022-01-03 17:49:38,413 - INFO - After optimization: Cast -1 (1->0), Const +1 (9->10), Identity -7 (7->0), Reshape +1 (1->2), Transpose -5 (6->1)\n",
      "2022-01-03 17:49:38,432 - INFO - \n",
      "2022-01-03 17:49:38,432 - INFO - Successfully converted TensorFlow model mnist_savedmodel to ONNX\n",
      "2022-01-03 17:49:38,432 - INFO - Model inputs: ['conv2d_input']\n",
      "2022-01-03 17:49:38,432 - INFO - Model outputs: ['dense_1']\n",
      "2022-01-03 17:49:38,433 - INFO - ONNX model is saved at mnist_savedmodel.onnx\n"
     ]
    }
   ],
   "source": [
    "# convert model to onnx format\n",
    "import onnx\n",
    "onnx_savedmodel = 'mnist_savedmodel.onnx'\n",
    "!python -m tf2onnx.convert --saved-model {savedmodel_dir} --output {onnx_savedmodel} --signature_def serving_default --tag serve"
   ]
  },
  {
   "cell_type": "code",
   "execution_count": 8,
   "metadata": {},
   "outputs": [],
   "source": [
    "import onnxruntime as ort\n",
    "from onnx_tf.backend import prepare\n",
    "# Load saved onnx model and convert it back to keras/tf model\n",
    "onnx_model = onnx.load(\"mnist_savedmodel.onnx\")  # load onnx model"
   ]
  },
  {
   "cell_type": "markdown",
   "metadata": {},
   "source": [
    "### Overview of tf model re-loaded from onnx format (not required step for the whole workflow)\n",
    "We can check the tf model converted back from onnx format. The following commands will do the job for you. But this part is not necessary for the execution/creation of model runner to perform kernel shap. "
   ]
  },
  {
   "cell_type": "code",
   "execution_count": 9,
   "metadata": {},
   "outputs": [
    {
     "name": "stdout",
     "output_type": "stream",
     "text": [
      "['conv2d_input']\n",
      "-----\n",
      "['dense_1']\n",
      "-----\n",
      "{'conv2d_input': <tf.Tensor 'conv2d_input:0' shape=(None, 28, 28, 1) dtype=float32>, 'new_shape__19': <tf.Variable 'new_shape__19:0' shape=(4,) dtype=int64>, 'const_fold_opt__20': <tf.Variable 'const_fold_opt__20:0' shape=(2,) dtype=int64>, 'StatefulPartitionedCall/sequential/dense_1/MatMul/ReadVariableOp:0': <tf.Variable 'StatefulPartitionedCall/sequential/dense_1/MatMul/ReadVariableOp_tf_0_ff6b2649:0' shape=(128, 2) dtype=float32>, 'StatefulPartitionedCall/sequential/dense_1/BiasAdd/ReadVariableOp:0': <tf.Variable 'StatefulPartitionedCall/sequential/dense_1/BiasAdd/ReadVariableOp_tf_0_74b81394:0' shape=(2,) dtype=float32>, 'StatefulPartitionedCall/sequential/dense/MatMul/ReadVariableOp:0': <tf.Variable 'StatefulPartitionedCall/sequential/dense/MatMul/ReadVariableOp_tf_0_00b2a6d5:0' shape=(9216, 128) dtype=float32>, 'StatefulPartitionedCall/sequential/dense/BiasAdd/ReadVariableOp:0': <tf.Variable 'StatefulPartitionedCall/sequential/dense/BiasAdd/ReadVariableOp_tf_0_d9a96e3e:0' shape=(128,) dtype=float32>, 'StatefulPartitionedCall/sequential/conv2d_1/Conv2D/ReadVariableOp:0': <tf.Variable 'StatefulPartitionedCall/sequential/conv2d_1/Conv2D/ReadVariableOp_tf_0_d0b8befb:0' shape=(64, 32, 3, 3) dtype=float32>, 'StatefulPartitionedCall/sequential/conv2d_1/BiasAdd/ReadVariableOp:0': <tf.Variable 'StatefulPartitionedCall/sequential/conv2d_1/BiasAdd/ReadVariableOp_tf_0_988c20a3:0' shape=(64,) dtype=float32>, 'StatefulPartitionedCall/sequential/conv2d/Conv2D/ReadVariableOp:0': <tf.Variable 'StatefulPartitionedCall/sequential/conv2d/Conv2D/ReadVariableOp_tf_0_50b5b93b:0' shape=(32, 1, 3, 3) dtype=float32>, 'StatefulPartitionedCall/sequential/conv2d/BiasAdd/ReadVariableOp:0': <tf.Variable 'StatefulPartitionedCall/sequential/conv2d/BiasAdd/ReadVariableOp_tf_0_9d235d8d:0' shape=(32,) dtype=float32>, '_onnx_tf_internal_is_training': <tf.Tensor 'PlaceholderWithDefault:0' shape=() dtype=bool>, 'StatefulPartitionedCall/sequential/conv2d/BiasAdd__6:0': <tf.Tensor 'onnx_tf_prefix_StatefulPartitionedCall/sequential/conv2d/BiasAdd__6:0' shape=(None, None, None, None) dtype=float32>, 'StatefulPartitionedCall/sequential/conv2d/BiasAdd:0': <tf.Tensor 'transpose_2:0' shape=(None, 32, None, None) dtype=float32>, 'StatefulPartitionedCall/sequential/conv2d/Relu:0': <tf.Tensor 'onnx_tf_prefix_StatefulPartitionedCall/sequential/conv2d/Relu:0' shape=(None, 32, None, None) dtype=float32>, 'StatefulPartitionedCall/sequential/conv2d_1/BiasAdd:0': <tf.Tensor 'transpose_5:0' shape=(None, 64, None, None) dtype=float32>, 'StatefulPartitionedCall/sequential/conv2d_1/Relu:0': <tf.Tensor 'onnx_tf_prefix_StatefulPartitionedCall/sequential/conv2d_1/Relu:0' shape=(None, 64, None, None) dtype=float32>, 'StatefulPartitionedCall/sequential/max_pooling2d/MaxPool:0': <tf.Tensor 'transpose_7:0' shape=(None, 64, None, None) dtype=float32>, 'StatefulPartitionedCall/sequential/max_pooling2d/MaxPool__16:0': <tf.Tensor 'onnx_tf_prefix_StatefulPartitionedCall/sequential/max_pooling2d/MaxPool__16:0' shape=(None, None, None, 64) dtype=float32>, 'StatefulPartitionedCall/sequential/flatten/Reshape:0': <tf.Tensor 'onnx_tf_prefix_StatefulPartitionedCall/sequential/flatten/Reshape:0' shape=(None, None) dtype=float32>, 'StatefulPartitionedCall/sequential/dense/MatMul:0': <tf.Tensor 'onnx_tf_prefix_StatefulPartitionedCall/sequential/dense/MatMul:0' shape=(None, 128) dtype=float32>, 'StatefulPartitionedCall/sequential/dense/BiasAdd:0': <tf.Tensor 'onnx_tf_prefix_StatefulPartitionedCall/sequential/dense/BiasAdd:0' shape=(None, 128) dtype=float32>, 'StatefulPartitionedCall/sequential/dense/Relu:0': <tf.Tensor 'onnx_tf_prefix_StatefulPartitionedCall/sequential/dense/Relu:0' shape=(None, 128) dtype=float32>, 'StatefulPartitionedCall/sequential/dense_1/MatMul:0': <tf.Tensor 'onnx_tf_prefix_StatefulPartitionedCall/sequential/dense_1/MatMul:0' shape=(None, 2) dtype=float32>, 'StatefulPartitionedCall/sequential/dense_1/BiasAdd:0': <tf.Tensor 'onnx_tf_prefix_StatefulPartitionedCall/sequential/dense_1/BiasAdd:0' shape=(None, 2) dtype=float32>, 'dense_1': <tf.Tensor 'onnx_tf_prefix_StatefulPartitionedCall/sequential/dense_1/Softmax:0' shape=(None, 2) dtype=float32>}\n"
     ]
    }
   ],
   "source": [
    "# overview of loaded \n",
    "tf_model_rep = prepare(onnx_model, gen_tensor_dict=True)\n",
    "print(tf_model_rep.inputs) # Input nodes to the model\n",
    "print('-----')\n",
    "print(tf_model_rep.outputs) # Output nodes from the model\n",
    "print('-----')\n",
    "print(tf_model_rep.tensor_dict) # All nodes in the model\n",
    "# load tf model from exported graph\n",
    "#tf_model_rep.export_graph(\"mnist_model_graph\")\n",
    "#tf_model = tf.saved_model.load(\"mnist_model_graph\")\n",
    "#tf_model = tf.keras.models.load_model(\"mnist_model_graph\") # keras model loader"
   ]
  },
  {
   "cell_type": "code",
   "execution_count": 10,
   "metadata": {},
   "outputs": [
    {
     "name": "stderr",
     "output_type": "stream",
     "text": [
      "skimage.measure.label's indexing starts from 0. In future version it will start from 1. To disable this warning, explicitely set the `start_label` parameter to 1.\n"
     ]
    },
    {
     "data": {
      "text/plain": [
       "(-0.5, 27.5, 27.5, -0.5)"
      ]
     },
     "execution_count": 10,
     "metadata": {},
     "output_type": "execute_result"
    },
    {
     "data": {
      "image/png": "[encoded data removed]",
      "text/plain": [
       "<Figure size 432x288 with 1 Axes>"
      ]
     },
     "metadata": {
      "needs_background": "light"
     },
     "output_type": "display_data"
    }
   ],
   "source": [
    "# Create segmentation to explain by segment, not every pixel\n",
    "segments_slic = slic(x_test_binary[1,:,:,:], n_segments=200, compactness=20, sigma=0)\n",
    "\n",
    "plt.imshow(segments_slic)\n",
    "plt.axis('off')"
   ]
  },
  {
   "cell_type": "code",
   "execution_count": 11,
   "metadata": {},
   "outputs": [],
   "source": [
    "# define a function that depends on a binary mask representing if an image region is hidden\n",
    "def mask_image(zs, segmentation, image, background=None):\n",
    "    \n",
    "    if background is None:\n",
    "        background = image.mean((0, 1))\n",
    "        \n",
    "    # Create an empty 4D array\n",
    "    out = np.zeros((zs.shape[0], \n",
    "                    image.shape[0], \n",
    "                    image.shape[1], \n",
    "                    image.shape[2]))\n",
    "    \n",
    "    for i in range(zs.shape[0]):\n",
    "        out[i, :, :, :] = image\n",
    "        for j in range(zs.shape[1]):\n",
    "            if zs[i, j] == 0:\n",
    "                out[i][segmentation == j, :] = background\n",
    "    return out.astype(np.float32)\n",
    "\n",
    "def f(z):\n",
    "    # it is better to find a generic way to load the values\n",
    "    return prepare(onnx_model).run(\n",
    "        mask_image(z, segments_slic, x_test_binary[1,:,:,:], 0)).dense_1 # better replace \"dense_1\" with some generic entry\n",
    "        \n",
    "def fill_segmentation(values, segmentation):\n",
    "    out = np.zeros(segmentation.shape)\n",
    "    for i in range(len(values)):\n",
    "        out[segmentation == i] = values[i]\n",
    "    return out"
   ]
  },
  {
   "cell_type": "code",
   "execution_count": 12,
   "metadata": {},
   "outputs": [
    {
     "data": {
      "text/plain": [
       "(-0.5, 27.5, 27.5, -0.5)"
      ]
     },
     "execution_count": 12,
     "metadata": {},
     "output_type": "execute_result"
    },
    {
     "data": {
      "image/png": "[encoded data removed]",
      "text/plain": [
       "<Figure size 432x288 with 1 Axes>"
      ]
     },
     "metadata": {
      "needs_background": "light"
     },
     "output_type": "display_data"
    }
   ],
   "source": [
    "masked_images = mask_image(np.zeros((1,200)), segments_slic, x_test_binary[1,:,:,:], 0)\n",
    "\n",
    "plt.imshow(masked_images[0][:,:,0])\n",
    "plt.axis('off')"
   ]
  },
  {
   "cell_type": "code",
   "execution_count": 13,
   "metadata": {},
   "outputs": [
    {
     "name": "stdout",
     "output_type": "stream",
     "text": [
      "WARNING:tensorflow:AutoGraph could not transform <bound method BackendTFModule.__call__ of <tensorflow.python.eager.function.TfMethodTarget object at 0x7f079c53eb20>> and will run it as-is.\n",
      "Please report this to the TensorFlow team. When filing the bug, set the verbosity to 10 (on Linux, `export AUTOGRAPH_VERBOSITY=10`) and attach the full output.\n",
      "Cause: module 'gast' has no attribute 'Index'\n",
      "To silence this warning, decorate the function with @tf.autograph.experimental.do_not_convert\n",
      "WARNING: AutoGraph could not transform <bound method BackendTFModule.__call__ of <tensorflow.python.eager.function.TfMethodTarget object at 0x7f079c53eb20>> and will run it as-is.\n",
      "Please report this to the TensorFlow team. When filing the bug, set the verbosity to 10 (on Linux, `export AUTOGRAPH_VERBOSITY=10`) and attach the full output.\n",
      "Cause: module 'gast' has no attribute 'Index'\n",
      "To silence this warning, decorate the function with @tf.autograph.experimental.do_not_convert\n"
     ]
    },
    {
     "name": "stderr",
     "output_type": "stream",
     "text": [
      "2022-01-03 17:50:34.192713: I tensorflow/compiler/mlir/mlir_graph_optimization_pass.cc:116] None of the MLIR optimization passes are enabled (registered 2)\n",
      "2022-01-03 17:50:34.194014: I tensorflow/core/platform/profile_utils/cpu_utils.cc:112] CPU Frequency: 2304005000 Hz\n"
     ]
    },
    {
     "data": {
      "application/vnd.jupyter.widget-view+json": {
       "model_id": "25b32483d2314b1697bf6a2f8ca06a22",
       "version_major": 2,
       "version_minor": 0
      },
      "text/plain": [
       "  0%|          | 0/1 [00:00<?, ?it/s]"
      ]
     },
     "metadata": {},
     "output_type": "display_data"
    }
   ],
   "source": [
    "# use Kernel SHAP to explain the network's predictions\n",
    "explainer = shap.KernelExplainer(f, np.zeros((1,200)))\n",
    "\n",
    "with warnings.catch_warnings():\n",
    "    warnings.simplefilter(\"ignore\")\n",
    "    shap_values = explainer.shap_values(np.ones((1,200)), nsamples=1000)"
   ]
  },
  {
   "cell_type": "code",
   "execution_count": 14,
   "metadata": {},
   "outputs": [],
   "source": [
    "predictions = prepare(onnx_model).run(np.expand_dims(x_test_binary[1,:,:,:].copy(), axis=0)).dense_1\n",
    "top_preds = np.argsort(-predictions)"
   ]
  },
  {
   "cell_type": "code",
   "execution_count": 15,
   "metadata": {},
   "outputs": [
    {
     "data": {
      "image/png": "[encoded data removed]",
      "text/plain": [
       "<Figure size 720x288 with 4 Axes>"
      ]
     },
     "metadata": {
      "needs_background": "light"
     },
     "output_type": "display_data"
    }
   ],
   "source": [
    "# Visualize the explanations\n",
    "fig, axes = plt.subplots(nrows=1, ncols=3, figsize=(10,4))\n",
    "inds = top_preds[0]\n",
    "axes[0].imshow(x_test_binary[1,:,:,:])\n",
    "axes[0].axis('off')\n",
    "\n",
    "max_val = np.max([np.max(np.abs(shap_values[i][:,:-1])) for i in range(len(shap_values))])\n",
    "for i in range(2):\n",
    "    m = fill_segmentation(shap_values[inds[i]][0], segments_slic)\n",
    "    #axes[i+1].set_title(feature_names[str(inds[i])][1])\n",
    "    axes[i+1].imshow(x_test_binary[1,:,:,:], alpha=0.15)\n",
    "    im = axes[i+1].imshow(m, vmin=-max_val, vmax=max_val)\n",
    "    axes[i+1].axis('off')\n",
    "cb = fig.colorbar(im, ax=axes.ravel().tolist(), label=\"SHAP value\", orientation=\"horizontal\", aspect=60)\n",
    "cb.outline.set_visible(False)\n",
    "plt.show()"
   ]
  }
 ],
 "metadata": {
  "interpreter": {
   "hash": "e7604e8ec5f09e490e10161e37a4725039efd3ab703d81b1b8a1e00d6741866c"
  },
  "kernelspec": {
   "display_name": "Python 3.8.5 64-bit ('base': conda)",
   "language": "python",
   "name": "python3"
  },
  "language_info": {
   "codemirror_mode": {
    "name": "ipython",
    "version": 3
   },
   "file_extension": ".py",
   "mimetype": "text/x-python",
   "name": "python",
   "nbconvert_exporter": "python",
   "pygments_lexer": "ipython3",
   "version": "3.8.5"
  },
  "orig_nbformat": 4
 },
 "nbformat": 4,
 "nbformat_minor": 2
}
