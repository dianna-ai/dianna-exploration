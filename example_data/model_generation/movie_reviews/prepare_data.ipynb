{
 "cells": [
  {
   "cell_type": "markdown",
   "id": "aed1c21f-328c-40b7-8e73-fc1b2c25334e",
   "metadata": {},
   "source": [
    "## Movie review data preparation\n",
    "\n",
    "This notebook prepares the movie review dataset for use with a PyTorch model. The dataset consists of sentences, which need to be converted to a numerical representation.  \n",
    "The sentences are split into tokens using the [spacy](https://spacy.io) tokenizer. A vocabulary is then \n",
    "build with [torchtext](https://pytorch.org/text/stable/index.html) based on an existing set of word vectors, [GloVe](https://nlp.stanford.edu/projects/glove/), with a 100-dimensional embedding space trained on 6 billion words."
   ]
  },
  {
   "cell_type": "code",
   "execution_count": 6,
   "id": "f0e2e3b3",
   "metadata": {},
   "outputs": [
    {
     "name": "stdout",
     "output_type": "stream",
     "text": [
      "Collecting torchtext==0.11.0\n",
      "  Downloading torchtext-0.11.0-cp39-cp39-manylinux1_x86_64.whl (8.0 MB)\n",
      "\u001b[K     |████████████████████████████████| 8.0 MB 47.5 MB/s eta 0:00:01\n",
      "\u001b[?25hCollecting torch==1.10.0\n",
      "  Downloading torch-1.10.0-cp39-cp39-manylinux1_x86_64.whl (881.9 MB)\n",
      "\u001b[K     |████████████████████████████████| 881.9 MB 2.4 kB/s  eta 0:00:01     |█████████████████▉              | 491.6 MB 26.3 MB/s eta 0:00:15     |██████████████████████████████▌ | 839.3 MB 27.3 MB/s eta 0:00:02\n",
      "\u001b[?25hRequirement already satisfied: tqdm in /usr/local/lib/python3.9/dist-packages (from torchtext==0.11.0) (4.65.0)\n",
      "Requirement already satisfied: requests in /usr/lib/python3/dist-packages (from torchtext==0.11.0) (2.25.1)\n",
      "Requirement already satisfied: numpy in /home/willem/.local/lib/python3.9/site-packages (from torchtext==0.11.0) (1.24.3)\n",
      "Requirement already satisfied: typing-extensions in /usr/local/lib/python3.9/dist-packages (from torch==1.10.0->torchtext==0.11.0) (4.4.0)\n",
      "Installing collected packages: torch, torchtext\n",
      "\u001b[31mERROR: pip's dependency resolver does not currently take into account all the packages that are installed. This behaviour is the source of the following dependency conflicts.\n",
      "torchvision 0.14.0 requires torch==1.13.0, but you have torch 1.10.0 which is incompatible.\u001b[0m\n",
      "Successfully installed torch-1.10.0 torchtext-0.11.0\n"
     ]
    }
   ],
   "source": [
    "!pip install torchtext==0.10.0"
   ]
  },
  {
   "cell_type": "code",
   "execution_count": 7,
   "id": "88b5b1a6-a380-41a1-baaf-5732e16c1afd",
   "metadata": {},
   "outputs": [
    {
     "ename": "ModuleNotFoundError",
     "evalue": "No module named 'torchtext.legacy'",
     "output_type": "error",
     "traceback": [
      "\u001b[0;31m---------------------------------------------------------------------------\u001b[0m",
      "\u001b[0;31mModuleNotFoundError\u001b[0m                       Traceback (most recent call last)",
      "\u001b[0;32m<ipython-input-7-af0f008349b9>\u001b[0m in \u001b[0;36m<module>\u001b[0;34m\u001b[0m\n\u001b[1;32m      4\u001b[0m \u001b[0;34m\u001b[0m\u001b[0m\n\u001b[1;32m      5\u001b[0m \u001b[0;32mimport\u001b[0m \u001b[0mtorch\u001b[0m\u001b[0;34m\u001b[0m\u001b[0;34m\u001b[0m\u001b[0m\n\u001b[0;32m----> 6\u001b[0;31m \u001b[0;32mfrom\u001b[0m \u001b[0mtorchtext\u001b[0m\u001b[0;34m.\u001b[0m\u001b[0mlegacy\u001b[0m\u001b[0;34m.\u001b[0m\u001b[0mdata\u001b[0m \u001b[0;32mimport\u001b[0m \u001b[0mField\u001b[0m\u001b[0;34m\u001b[0m\u001b[0;34m\u001b[0m\u001b[0m\n\u001b[0m\u001b[1;32m      7\u001b[0m \u001b[0;32mfrom\u001b[0m \u001b[0mtorchtext\u001b[0m\u001b[0;34m.\u001b[0m\u001b[0mdata\u001b[0m \u001b[0;32mimport\u001b[0m \u001b[0mget_tokenizer\u001b[0m\u001b[0;34m\u001b[0m\u001b[0;34m\u001b[0m\u001b[0m\n",
      "\u001b[0;31mModuleNotFoundError\u001b[0m: No module named 'torchtext.legacy'"
     ]
    }
   ],
   "source": [
    "import os\n",
    "import pandas as pd\n",
    "import numpy as np\n",
    "\n",
    "import torch\n",
    "from torchtext.legacy.data import Field\n",
    "from torchtext.data import get_tokenizer"
   ]
  },
  {
   "cell_type": "code",
   "execution_count": null,
   "id": "c8976955-7eb9-49ba-9a9c-2e373ac909e0",
   "metadata": {},
   "outputs": [],
   "source": [
    "# to install the spacy tokenizer and word embeddings, run these two commands:\n",
    "# !pip install spacy\n",
    "# !python3 -m spacy download en_core_web_sm"
   ]
  },
  {
   "cell_type": "code",
   "execution_count": null,
   "id": "6f1b3a59-6913-4780-8f36-62ab2aa5c70f",
   "metadata": {},
   "outputs": [
    {
     "name": "stdout",
     "output_type": "stream",
     "text": [
      "The training data contains 67349 samples\n"
     ]
    },
    {
     "data": {
      "text/html": [
       "<div>\n",
       "<style scoped>\n",
       "    .dataframe tbody tr th:only-of-type {\n",
       "        vertical-align: middle;\n",
       "    }\n",
       "\n",
       "    .dataframe tbody tr th {\n",
       "        vertical-align: top;\n",
       "    }\n",
       "\n",
       "    .dataframe thead th {\n",
       "        text-align: right;\n",
       "    }\n",
       "</style>\n",
       "<table border=\"1\" class=\"dataframe\">\n",
       "  <thead>\n",
       "    <tr style=\"text-align: right;\">\n",
       "      <th></th>\n",
       "      <th>sentence</th>\n",
       "      <th>label</th>\n",
       "    </tr>\n",
       "  </thead>\n",
       "  <tbody>\n",
       "    <tr>\n",
       "      <th>0</th>\n",
       "      <td>hide new secretions from the parental units</td>\n",
       "      <td>0</td>\n",
       "    </tr>\n",
       "    <tr>\n",
       "      <th>1</th>\n",
       "      <td>contains no wit , only labored gags</td>\n",
       "      <td>0</td>\n",
       "    </tr>\n",
       "    <tr>\n",
       "      <th>2</th>\n",
       "      <td>that loves its characters and communicates som...</td>\n",
       "      <td>1</td>\n",
       "    </tr>\n",
       "    <tr>\n",
       "      <th>3</th>\n",
       "      <td>remains utterly satisfied to remain the same t...</td>\n",
       "      <td>0</td>\n",
       "    </tr>\n",
       "    <tr>\n",
       "      <th>4</th>\n",
       "      <td>on the worst revenge-of-the-nerds clichés the ...</td>\n",
       "      <td>0</td>\n",
       "    </tr>\n",
       "  </tbody>\n",
       "</table>\n",
       "</div>"
      ],
      "text/plain": [
       "                                            sentence  label\n",
       "0       hide new secretions from the parental units       0\n",
       "1               contains no wit , only labored gags       0\n",
       "2  that loves its characters and communicates som...      1\n",
       "3  remains utterly satisfied to remain the same t...      0\n",
       "4  on the worst revenge-of-the-nerds clichés the ...      0"
      ]
     },
     "execution_count": 3,
     "metadata": {},
     "output_type": "execute_result"
    }
   ],
   "source": [
    "# load the raw training data\n",
    "data_path = os.path.join(os.path.expanduser('~'), 'surfdrive/Shared/datasets/stanford_sentiment_treebank_v2')\n",
    "train_data = pd.read_csv(os.path.join(data_path, 'train.tsv'), delimiter='\\t')\n",
    "\n",
    "print(f'The training data contains {len(train_data)} samples')\n",
    "train_data.head()"
   ]
  },
  {
   "cell_type": "code",
   "execution_count": null,
   "id": "a9b9f17e-036e-4609-9772-41485c88fc0b",
   "metadata": {},
   "outputs": [],
   "source": [
    "# tokenize the training data sentences\n",
    "tokenizer = get_tokenizer('spacy', language='en_core_web_sm')\n",
    "tokens = [tokenizer(sentence) for sentence in train_data['sentence']]"
   ]
  },
  {
   "cell_type": "code",
   "execution_count": null,
   "id": "63d1c5a5-7fc8-430d-9879-9abc7ef38efe",
   "metadata": {},
   "outputs": [
    {
     "name": "stdout",
     "output_type": "stream",
     "text": [
      "Number of words in vocabulary: 13889\n",
      "Size of embedding space: 100\n"
     ]
    }
   ],
   "source": [
    "# build vocabulary based on glove vectors\n",
    "TEXT = Field(pad_token='<pad>', unk_token='<unk>')\n",
    "# Note: the following command will download the 860 MB glove data\n",
    "TEXT.build_vocab(tokens, vectors='glove.6B.100d')\n",
    "\n",
    "print(f'Number of words in vocabulary: {TEXT.vocab.vectors.size(0)}')\n",
    "print(f'Size of embedding space: {TEXT.vocab.vectors.size(1)}')"
   ]
  },
  {
   "cell_type": "code",
   "execution_count": null,
   "id": "2d5bd76a-c19c-415e-a8ff-21a65b828633",
   "metadata": {},
   "outputs": [],
   "source": [
    "# store the vocabulary: each word and the associated vector\n",
    "with open('word_vectors.txt', 'w') as f:\n",
    "    for i, embedding in enumerate(TEXT.vocab.vectors):\n",
    "        word = TEXT.vocab.itos[i]\n",
    "        f.write(f'{word} {\" \".join(embedding.numpy().astype(str))}\\n')"
   ]
  }
 ],
 "metadata": {
  "kernelspec": {
   "display_name": "Python 3",
   "language": "python",
   "name": "python3"
  },
  "language_info": {
   "codemirror_mode": {
    "name": "ipython",
    "version": 3
   },
   "file_extension": ".py",
   "mimetype": "text/x-python",
   "name": "python",
   "nbconvert_exporter": "python",
   "pygments_lexer": "ipython3",
   "version": "3.9.2"
  }
 },
 "nbformat": 4,
 "nbformat_minor": 5
}
