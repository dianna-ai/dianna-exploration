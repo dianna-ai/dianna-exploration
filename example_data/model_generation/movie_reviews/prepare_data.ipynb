{
 "cells": [
  {
   "cell_type": "markdown",
   "id": "aed1c21f-328c-40b7-8e73-fc1b2c25334e",
   "metadata": {},
   "source": [
    "## Movie review data preparation\n",
    "\n",
    "This notebook prepares the movie review dataset for use with a PyTorch model. The dataset consists of sentences, which need to be converted to a numerical representation.  \n",
    "The sentences are split into tokens using the [spacy](https://spacy.io) tokenizer. A vocabulary is then \n",
    "build with [torchtext](https://pytorch.org/text/stable/index.html) based on an existing set of word vectors, [GloVe](https://nlp.stanford.edu/projects/glove/), with a 100-dimensional embedding space trained on 6 billion words."
   ]
  },
  {
   "cell_type": "code",
   "execution_count": 1,
   "id": "88b5b1a6-a380-41a1-baaf-5732e16c1afd",
   "metadata": {},
   "outputs": [],
   "source": [
    "import os\n",
    "import pandas as pd\n",
    "import numpy as np\n",
    "\n",
    "import torch\n",
    "from torchtext.legacy.data import Field\n",
    "from torchtext.data import get_tokenizer"
   ]
  },
  {
   "cell_type": "code",
   "execution_count": 2,
   "id": "c8976955-7eb9-49ba-9a9c-2e373ac909e0",
   "metadata": {},
   "outputs": [],
   "source": [
    "# to install the spacy tokenizer and word embeddings, run these two commands:\n",
    "# !pip install spacy\n",
    "# !python3 -m spacy download en_core_web_sm"
   ]
  },
  {
   "cell_type": "code",
   "execution_count": 3,
   "id": "6f1b3a59-6913-4780-8f36-62ab2aa5c70f",
   "metadata": {},
   "outputs": [
    {
     "name": "stdout",
     "output_type": "stream",
     "text": [
      "The training data contains 67349 samples\n"
     ]
    },
    {
     "data": {
      "text/html": [
       "<div>\n",
       "<style scoped>\n",
       "    .dataframe tbody tr th:only-of-type {\n",
       "        vertical-align: middle;\n",
       "    }\n",
       "\n",
       "    .dataframe tbody tr th {\n",
       "        vertical-align: top;\n",
       "    }\n",
       "\n",
       "    .dataframe thead th {\n",
       "        text-align: right;\n",
       "    }\n",
       "</style>\n",
       "<table border=\"1\" class=\"dataframe\">\n",
       "  <thead>\n",
       "    <tr style=\"text-align: right;\">\n",
       "      <th></th>\n",
       "      <th>sentence</th>\n",
       "      <th>label</th>\n",
       "    </tr>\n",
       "  </thead>\n",
       "  <tbody>\n",
       "    <tr>\n",
       "      <th>0</th>\n",
       "      <td>hide new secretions from the parental units</td>\n",
       "      <td>0</td>\n",
       "    </tr>\n",
       "    <tr>\n",
       "      <th>1</th>\n",
       "      <td>contains no wit , only labored gags</td>\n",
       "      <td>0</td>\n",
       "    </tr>\n",
       "    <tr>\n",
       "      <th>2</th>\n",
       "      <td>that loves its characters and communicates som...</td>\n",
       "      <td>1</td>\n",
       "    </tr>\n",
       "    <tr>\n",
       "      <th>3</th>\n",
       "      <td>remains utterly satisfied to remain the same t...</td>\n",
       "      <td>0</td>\n",
       "    </tr>\n",
       "    <tr>\n",
       "      <th>4</th>\n",
       "      <td>on the worst revenge-of-the-nerds clichés the ...</td>\n",
       "      <td>0</td>\n",
       "    </tr>\n",
       "  </tbody>\n",
       "</table>\n",
       "</div>"
      ],
      "text/plain": [
       "                                            sentence  label\n",
       "0       hide new secretions from the parental units       0\n",
       "1               contains no wit , only labored gags       0\n",
       "2  that loves its characters and communicates som...      1\n",
       "3  remains utterly satisfied to remain the same t...      0\n",
       "4  on the worst revenge-of-the-nerds clichés the ...      0"
      ]
     },
     "execution_count": 3,
     "metadata": {},
     "output_type": "execute_result"
    }
   ],
   "source": [
    "# load the raw training data\n",
    "data_path = os.path.join(os.path.expanduser('~'), 'surfdrive/Shared/datasets/stanford_sentiment_treebank_v2')\n",
    "train_data = pd.read_csv(os.path.join(data_path, 'train.tsv'), delimiter='\\t')\n",
    "\n",
    "print(f'The training data contains {len(train_data)} samples')\n",
    "train_data.head()"
   ]
  },
  {
   "cell_type": "code",
   "execution_count": 4,
   "id": "a9b9f17e-036e-4609-9772-41485c88fc0b",
   "metadata": {},
   "outputs": [],
   "source": [
    "# tokenize the training data sentences\n",
    "tokenizer = get_tokenizer('spacy', language='en_core_web_sm')\n",
    "tokens = [tokenizer(sentence) for sentence in train_data['sentence']]"
   ]
  },
  {
   "cell_type": "code",
   "execution_count": 5,
   "id": "63d1c5a5-7fc8-430d-9879-9abc7ef38efe",
   "metadata": {},
   "outputs": [
    {
     "name": "stdout",
     "output_type": "stream",
     "text": [
      "Number of words in vocabulary: 13889\n",
      "Size of embedding space: 100\n"
     ]
    }
   ],
   "source": [
    "# build vocabulary based on glove vectors\n",
    "TEXT = Field(pad_token='<pad>', unk_token='<unk>')\n",
    "TEXT.build_vocab(tokens, vectors='glove.6B.100d')\n",
    "\n",
    "print(f'Number of words in vocabulary: {TEXT.vocab.vectors.size(0)}')\n",
    "print(f'Size of embedding space: {TEXT.vocab.vectors.size(1)}')"
   ]
  },
  {
   "cell_type": "code",
   "execution_count": 6,
   "id": "2d5bd76a-c19c-415e-a8ff-21a65b828633",
   "metadata": {},
   "outputs": [],
   "source": [
    "# store the vocabulary: each word and the associated vector\n",
    "with open('word_vectors.txt', 'w') as f:\n",
    "    for i, embedding in enumerate(TEXT.vocab.vectors):\n",
    "        word = TEXT.vocab.itos[i]\n",
    "        f.write(f'{word} {\" \".join(embedding.numpy().astype(str))}\\n')"
   ]
  }
 ],
 "metadata": {
  "kernelspec": {
   "display_name": "Python 3",
   "language": "python",
   "name": "python3"
  },
  "language_info": {
   "codemirror_mode": {
    "name": "ipython",
    "version": 3
   },
   "file_extension": ".py",
   "mimetype": "text/x-python",
   "name": "python",
   "nbconvert_exporter": "python",
   "pygments_lexer": "ipython3",
   "version": "3.9.1"
  }
 },
 "nbformat": 4,
 "nbformat_minor": 5
}
