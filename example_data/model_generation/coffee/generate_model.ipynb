{
 "cells": [
  {
   "cell_type": "code",
   "execution_count": null,
   "metadata": {
    "collapsed": true,
    "pycharm": {
     "name": "#%%\n"
    }
   },
   "outputs": [],
   "source": [
    "#From https://github.com/emanuel-metzenthin/Lime-For-Time/blob/master/demo/LIME-Pipeline.ipynb\n",
    "import pandas as pd\n",
    "import matplotlib.pyplot as plt\n",
    "from sklearn.neighbors import KNeighborsClassifier as KNN\n",
    "from sklearn.metrics import accuracy_score as acc\n",
    "import numpy as np\n",
    "from lime import explanation\n",
    "from lime import lime_base\n",
    "import math\n"
   ]
  },
  {
   "cell_type": "code",
   "execution_count": null,
   "outputs": [],
   "source": [
    "!wget https://raw.githubusercontent.com/emanuel-metzenthin/Lime-For-Time/master/demo/data/coffee_train.csv\n",
    "!wget https://raw.githubusercontent.com/emanuel-metzenthin/Lime-For-Time/master/demo/data/coffee_test.csv\n"
   ],
   "metadata": {
    "collapsed": false,
    "pycharm": {
     "name": "#%%\n"
    }
   }
  },
  {
   "cell_type": "code",
   "execution_count": null,
   "outputs": [],
   "source": [
    "coffee_train = pd.read_csv('coffee_train.csv', sep=',', header=None).astype(float)\n",
    "coffee_train_y = coffee_train.loc[:, 0]\n",
    "coffee_train_x = coffee_train.loc[:, 1:]\n",
    "coffee_test = pd.read_csv('coffee_test.csv', sep=',', header=None).astype(float)\n",
    "coffee_test_y = coffee_test.loc[:, 0]\n",
    "coffee_test_x = coffee_test.loc[:, 1:]\n"
   ],
   "metadata": {
    "collapsed": false,
    "pycharm": {
     "name": "#%%\n"
    }
   }
  },
  {
   "cell_type": "code",
   "execution_count": null,
   "outputs": [],
   "source": [
    "for idx in range(0, len(coffee_train)):\n",
    "    if coffee_train_y[idx] == 0:\n",
    "        plt.plot(coffee_train_x.loc[idx, :], 'b')\n",
    "    else:\n",
    "        plt.plot(coffee_train_x.loc[idx, :], 'r')\n",
    "plt.title('Coffee Dataset')\n",
    "plt.show()\n"
   ],
   "metadata": {
    "collapsed": false,
    "pycharm": {
     "name": "#%%\n"
    }
   }
  },
  {
   "cell_type": "code",
   "execution_count": null,
   "outputs": [],
   "source": [
    "knn = KNN()\n",
    "knn.fit(coffee_train_x, coffee_train_y)\n",
    "knn2 = KNN()\n",
    "# knn2.fit(ecg_train_x, ecg_train_y)\n",
    "print('Accuracy KNN for coffee dataset: %f' % (acc(coffee_test_y, knn.predict(coffee_test_x))))\n",
    "# print('Accuracy KNN for earthquake dataset: %f' % (acc(ecg_test_y, knn2.predict(ecg_test_x))))\n"
   ],
   "metadata": {
    "collapsed": false,
    "pycharm": {
     "name": "#%%\n"
    }
   }
  },
  {
   "cell_type": "code",
   "execution_count": null,
   "outputs": [],
   "source": [
    "# from https://github.com/florian-huber/weather_prediction_dataset/blob/main/notebooks/machine_learning_classification_bbq.ipynb\n",
    "\n",
    "from sklearn.model_selection import train_test_split\n",
    "from sklearn.preprocessing import MinMaxScaler\n",
    "from sklearn.pipeline import Pipeline\n",
    "\n",
    "from sklearn.metrics import plot_confusion_matrix\n",
    "from sklearn.ensemble import RandomForestClassifier\n",
    "\n",
    "pipe = Pipeline([\n",
    "    ('scale', MinMaxScaler()),\n",
    "    ('model', RandomForestClassifier(n_estimators=500, max_depth=6, random_state=0))\n",
    "])\n",
    "\n",
    "\n",
    "pipe.fit(coffee_train_x, coffee_train_y)\n",
    "\n",
    "print('Accuracy pipe for coffee dataset: %f' % (acc(coffee_test_y, pipe.predict(coffee_test_x))))\n"
   ],
   "metadata": {
    "collapsed": false,
    "pycharm": {
     "name": "#%%\n"
    }
   }
  },
  {
   "cell_type": "code",
   "execution_count": null,
   "outputs": [],
   "source": [
    "# From http://onnx.ai/sklearn-onnx/\n",
    "from skl2onnx import convert_sklearn\n",
    "from skl2onnx.common.data_types import FloatTensorType\n",
    "initial_type = [('float_input', FloatTensorType([None, 4]))]\n",
    "onx = convert_sklearn(pipe, initial_types=initial_type)\n",
    "with open(\"coffee.onnx\", \"wb\") as f:\n",
    "    f.write(onx.SerializeToString())"
   ],
   "metadata": {
    "collapsed": false,
    "pycharm": {
     "name": "#%%\n"
    }
   }
  },
  {
   "cell_type": "markdown",
   "source": [],
   "metadata": {
    "collapsed": false,
    "pycharm": {
     "name": "#%% md\n"
    }
   }
  }
 ],
 "metadata": {
  "kernelspec": {
   "display_name": "Python 3",
   "language": "python",
   "name": "python3"
  },
  "language_info": {
   "codemirror_mode": {
    "name": "ipython",
    "version": 2
   },
   "file_extension": ".py",
   "mimetype": "text/x-python",
   "name": "python",
   "nbconvert_exporter": "python",
   "pygments_lexer": "ipython2",
   "version": "2.7.6"
  }
 },
 "nbformat": 4,
 "nbformat_minor": 0
}