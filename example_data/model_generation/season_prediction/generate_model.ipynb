{
 "cells": [
  {
   "cell_type": "markdown",
   "id": "9c46486a-fdb7-41be-b1f1-2744e7733d58",
   "metadata": {},
   "source": [
    "## Model generation for weather dataset\n",
    "In this notebook we create a neural network for predicting to which season weather data from a specific month belongs using [this](https://zenodo.org/record/7053722) dataset.  \n",
    "The model will be used to explore timeseries-based explainable AI methods.  "
   ]
  },
  {
   "cell_type": "code",
   "execution_count": 1,
   "id": "7d5db394-dff6-4c99-81ca-a74942a53cc3",
   "metadata": {},
   "outputs": [],
   "source": [
    "import os\n",
    "import pandas as pd\n",
    "import numpy as np\n",
    "import matplotlib.pyplot as plt\n",
    "from tensorflow import keras\n",
    "from tensorflow.random import set_seed\n",
    "from sklearn.model_selection import train_test_split\n",
    "from sklearn.metrics import confusion_matrix\n",
    "import seaborn as sns"
   ]
  },
  {
   "cell_type": "code",
   "execution_count": 2,
   "id": "b5888ff9-c8ba-4492-9645-2fdb92da64d3",
   "metadata": {},
   "outputs": [],
   "source": [
    "np.random.seed(42)\n",
    "set_seed(42)"
   ]
  },
  {
   "cell_type": "markdown",
   "id": "f75691e5-793f-4ca5-bff6-6664cf2e22cf",
   "metadata": {},
   "source": [
    "## Load the data, either locally or a direct download from Zenodo"
   ]
  },
  {
   "cell_type": "code",
   "execution_count": 3,
   "id": "136ef4dd-668e-4a73-bc57-499d8266f38b",
   "metadata": {},
   "outputs": [
    {
     "data": {
      "text/html": [
       "<div>\n",
       "<style scoped>\n",
       "    .dataframe tbody tr th:only-of-type {\n",
       "        vertical-align: middle;\n",
       "    }\n",
       "\n",
       "    .dataframe tbody tr th {\n",
       "        vertical-align: top;\n",
       "    }\n",
       "\n",
       "    .dataframe thead th {\n",
       "        text-align: right;\n",
       "    }\n",
       "</style>\n",
       "<table border=\"1\" class=\"dataframe\">\n",
       "  <thead>\n",
       "    <tr style=\"text-align: right;\">\n",
       "      <th></th>\n",
       "      <th>DATE</th>\n",
       "      <th>MONTH</th>\n",
       "      <th>BASEL_cloud_cover</th>\n",
       "      <th>BASEL_humidity</th>\n",
       "      <th>BASEL_pressure</th>\n",
       "      <th>BASEL_global_radiation</th>\n",
       "      <th>BASEL_precipitation</th>\n",
       "      <th>BASEL_sunshine</th>\n",
       "      <th>BASEL_temp_mean</th>\n",
       "      <th>BASEL_temp_min</th>\n",
       "      <th>...</th>\n",
       "      <th>SONNBLICK_temp_mean</th>\n",
       "      <th>SONNBLICK_temp_min</th>\n",
       "      <th>SONNBLICK_temp_max</th>\n",
       "      <th>TOURS_humidity</th>\n",
       "      <th>TOURS_pressure</th>\n",
       "      <th>TOURS_global_radiation</th>\n",
       "      <th>TOURS_precipitation</th>\n",
       "      <th>TOURS_temp_mean</th>\n",
       "      <th>TOURS_temp_min</th>\n",
       "      <th>TOURS_temp_max</th>\n",
       "    </tr>\n",
       "  </thead>\n",
       "  <tbody>\n",
       "    <tr>\n",
       "      <th>count</th>\n",
       "      <td>3.654000e+03</td>\n",
       "      <td>3654.000000</td>\n",
       "      <td>3654.000000</td>\n",
       "      <td>3654.000000</td>\n",
       "      <td>3654.000000</td>\n",
       "      <td>3654.000000</td>\n",
       "      <td>3654.000000</td>\n",
       "      <td>3654.000000</td>\n",
       "      <td>3654.000000</td>\n",
       "      <td>3654.000000</td>\n",
       "      <td>...</td>\n",
       "      <td>3654.000000</td>\n",
       "      <td>3654.000000</td>\n",
       "      <td>3654.000000</td>\n",
       "      <td>3654.000000</td>\n",
       "      <td>3654.000000</td>\n",
       "      <td>3654.000000</td>\n",
       "      <td>3654.000000</td>\n",
       "      <td>3654.000000</td>\n",
       "      <td>3654.000000</td>\n",
       "      <td>3654.000000</td>\n",
       "    </tr>\n",
       "    <tr>\n",
       "      <th>mean</th>\n",
       "      <td>2.004568e+07</td>\n",
       "      <td>6.520799</td>\n",
       "      <td>5.418446</td>\n",
       "      <td>0.745107</td>\n",
       "      <td>1.017876</td>\n",
       "      <td>1.330380</td>\n",
       "      <td>0.234849</td>\n",
       "      <td>4.661193</td>\n",
       "      <td>11.022797</td>\n",
       "      <td>6.989135</td>\n",
       "      <td>...</td>\n",
       "      <td>-4.626327</td>\n",
       "      <td>-6.884319</td>\n",
       "      <td>-2.352244</td>\n",
       "      <td>0.781872</td>\n",
       "      <td>1.016639</td>\n",
       "      <td>1.369787</td>\n",
       "      <td>0.186100</td>\n",
       "      <td>12.205802</td>\n",
       "      <td>7.860536</td>\n",
       "      <td>16.551779</td>\n",
       "    </tr>\n",
       "    <tr>\n",
       "      <th>std</th>\n",
       "      <td>2.874287e+04</td>\n",
       "      <td>3.450083</td>\n",
       "      <td>2.325497</td>\n",
       "      <td>0.107788</td>\n",
       "      <td>0.007962</td>\n",
       "      <td>0.935348</td>\n",
       "      <td>0.536267</td>\n",
       "      <td>4.330112</td>\n",
       "      <td>7.414754</td>\n",
       "      <td>6.653356</td>\n",
       "      <td>...</td>\n",
       "      <td>6.987080</td>\n",
       "      <td>7.120333</td>\n",
       "      <td>6.972886</td>\n",
       "      <td>0.115572</td>\n",
       "      <td>0.018885</td>\n",
       "      <td>0.926472</td>\n",
       "      <td>0.422151</td>\n",
       "      <td>6.467155</td>\n",
       "      <td>5.692256</td>\n",
       "      <td>7.714924</td>\n",
       "    </tr>\n",
       "    <tr>\n",
       "      <th>min</th>\n",
       "      <td>2.000010e+07</td>\n",
       "      <td>1.000000</td>\n",
       "      <td>0.000000</td>\n",
       "      <td>0.380000</td>\n",
       "      <td>0.985600</td>\n",
       "      <td>0.050000</td>\n",
       "      <td>0.000000</td>\n",
       "      <td>0.000000</td>\n",
       "      <td>-9.300000</td>\n",
       "      <td>-16.000000</td>\n",
       "      <td>...</td>\n",
       "      <td>-26.600000</td>\n",
       "      <td>-30.300000</td>\n",
       "      <td>-24.700000</td>\n",
       "      <td>0.330000</td>\n",
       "      <td>0.000300</td>\n",
       "      <td>0.050000</td>\n",
       "      <td>0.000000</td>\n",
       "      <td>-6.200000</td>\n",
       "      <td>-13.000000</td>\n",
       "      <td>-3.100000</td>\n",
       "    </tr>\n",
       "    <tr>\n",
       "      <th>25%</th>\n",
       "      <td>2.002070e+07</td>\n",
       "      <td>4.000000</td>\n",
       "      <td>4.000000</td>\n",
       "      <td>0.670000</td>\n",
       "      <td>1.013300</td>\n",
       "      <td>0.530000</td>\n",
       "      <td>0.000000</td>\n",
       "      <td>0.500000</td>\n",
       "      <td>5.300000</td>\n",
       "      <td>2.000000</td>\n",
       "      <td>...</td>\n",
       "      <td>-9.400000</td>\n",
       "      <td>-11.800000</td>\n",
       "      <td>-7.100000</td>\n",
       "      <td>0.700000</td>\n",
       "      <td>1.012100</td>\n",
       "      <td>0.550000</td>\n",
       "      <td>0.000000</td>\n",
       "      <td>7.600000</td>\n",
       "      <td>3.700000</td>\n",
       "      <td>10.800000</td>\n",
       "    </tr>\n",
       "    <tr>\n",
       "      <th>50%</th>\n",
       "      <td>2.004567e+07</td>\n",
       "      <td>7.000000</td>\n",
       "      <td>6.000000</td>\n",
       "      <td>0.760000</td>\n",
       "      <td>1.017700</td>\n",
       "      <td>1.110000</td>\n",
       "      <td>0.000000</td>\n",
       "      <td>3.600000</td>\n",
       "      <td>11.400000</td>\n",
       "      <td>7.300000</td>\n",
       "      <td>...</td>\n",
       "      <td>-4.400000</td>\n",
       "      <td>-6.400000</td>\n",
       "      <td>-2.200000</td>\n",
       "      <td>0.800000</td>\n",
       "      <td>1.017300</td>\n",
       "      <td>1.235000</td>\n",
       "      <td>0.000000</td>\n",
       "      <td>12.300000</td>\n",
       "      <td>8.300000</td>\n",
       "      <td>16.600000</td>\n",
       "    </tr>\n",
       "    <tr>\n",
       "      <th>75%</th>\n",
       "      <td>2.007070e+07</td>\n",
       "      <td>10.000000</td>\n",
       "      <td>7.000000</td>\n",
       "      <td>0.830000</td>\n",
       "      <td>1.022700</td>\n",
       "      <td>2.060000</td>\n",
       "      <td>0.210000</td>\n",
       "      <td>8.000000</td>\n",
       "      <td>16.900000</td>\n",
       "      <td>12.400000</td>\n",
       "      <td>...</td>\n",
       "      <td>0.700000</td>\n",
       "      <td>-1.100000</td>\n",
       "      <td>2.700000</td>\n",
       "      <td>0.870000</td>\n",
       "      <td>1.022200</td>\n",
       "      <td>2.090000</td>\n",
       "      <td>0.160000</td>\n",
       "      <td>17.200000</td>\n",
       "      <td>12.300000</td>\n",
       "      <td>22.400000</td>\n",
       "    </tr>\n",
       "    <tr>\n",
       "      <th>max</th>\n",
       "      <td>2.010010e+07</td>\n",
       "      <td>12.000000</td>\n",
       "      <td>8.000000</td>\n",
       "      <td>0.980000</td>\n",
       "      <td>1.040800</td>\n",
       "      <td>3.550000</td>\n",
       "      <td>7.570000</td>\n",
       "      <td>15.300000</td>\n",
       "      <td>29.000000</td>\n",
       "      <td>20.800000</td>\n",
       "      <td>...</td>\n",
       "      <td>13.800000</td>\n",
       "      <td>8.700000</td>\n",
       "      <td>14.300000</td>\n",
       "      <td>1.000000</td>\n",
       "      <td>1.041400</td>\n",
       "      <td>3.560000</td>\n",
       "      <td>6.200000</td>\n",
       "      <td>31.200000</td>\n",
       "      <td>22.600000</td>\n",
       "      <td>39.800000</td>\n",
       "    </tr>\n",
       "  </tbody>\n",
       "</table>\n",
       "<p>8 rows × 91 columns</p>\n",
       "</div>"
      ],
      "text/plain": [
       "               DATE        MONTH  BASEL_cloud_cover  BASEL_humidity  \\\n",
       "count  3.654000e+03  3654.000000        3654.000000     3654.000000   \n",
       "mean   2.004568e+07     6.520799           5.418446        0.745107   \n",
       "std    2.874287e+04     3.450083           2.325497        0.107788   \n",
       "min    2.000010e+07     1.000000           0.000000        0.380000   \n",
       "25%    2.002070e+07     4.000000           4.000000        0.670000   \n",
       "50%    2.004567e+07     7.000000           6.000000        0.760000   \n",
       "75%    2.007070e+07    10.000000           7.000000        0.830000   \n",
       "max    2.010010e+07    12.000000           8.000000        0.980000   \n",
       "\n",
       "       BASEL_pressure  BASEL_global_radiation  BASEL_precipitation  \\\n",
       "count     3654.000000             3654.000000          3654.000000   \n",
       "mean         1.017876                1.330380             0.234849   \n",
       "std          0.007962                0.935348             0.536267   \n",
       "min          0.985600                0.050000             0.000000   \n",
       "25%          1.013300                0.530000             0.000000   \n",
       "50%          1.017700                1.110000             0.000000   \n",
       "75%          1.022700                2.060000             0.210000   \n",
       "max          1.040800                3.550000             7.570000   \n",
       "\n",
       "       BASEL_sunshine  BASEL_temp_mean  BASEL_temp_min  ...  \\\n",
       "count     3654.000000      3654.000000     3654.000000  ...   \n",
       "mean         4.661193        11.022797        6.989135  ...   \n",
       "std          4.330112         7.414754        6.653356  ...   \n",
       "min          0.000000        -9.300000      -16.000000  ...   \n",
       "25%          0.500000         5.300000        2.000000  ...   \n",
       "50%          3.600000        11.400000        7.300000  ...   \n",
       "75%          8.000000        16.900000       12.400000  ...   \n",
       "max         15.300000        29.000000       20.800000  ...   \n",
       "\n",
       "       SONNBLICK_temp_mean  SONNBLICK_temp_min  SONNBLICK_temp_max  \\\n",
       "count          3654.000000         3654.000000         3654.000000   \n",
       "mean             -4.626327           -6.884319           -2.352244   \n",
       "std               6.987080            7.120333            6.972886   \n",
       "min             -26.600000          -30.300000          -24.700000   \n",
       "25%              -9.400000          -11.800000           -7.100000   \n",
       "50%              -4.400000           -6.400000           -2.200000   \n",
       "75%               0.700000           -1.100000            2.700000   \n",
       "max              13.800000            8.700000           14.300000   \n",
       "\n",
       "       TOURS_humidity  TOURS_pressure  TOURS_global_radiation  \\\n",
       "count     3654.000000     3654.000000             3654.000000   \n",
       "mean         0.781872        1.016639                1.369787   \n",
       "std          0.115572        0.018885                0.926472   \n",
       "min          0.330000        0.000300                0.050000   \n",
       "25%          0.700000        1.012100                0.550000   \n",
       "50%          0.800000        1.017300                1.235000   \n",
       "75%          0.870000        1.022200                2.090000   \n",
       "max          1.000000        1.041400                3.560000   \n",
       "\n",
       "       TOURS_precipitation  TOURS_temp_mean  TOURS_temp_min  TOURS_temp_max  \n",
       "count          3654.000000      3654.000000     3654.000000     3654.000000  \n",
       "mean              0.186100        12.205802        7.860536       16.551779  \n",
       "std               0.422151         6.467155        5.692256        7.714924  \n",
       "min               0.000000        -6.200000      -13.000000       -3.100000  \n",
       "25%               0.000000         7.600000        3.700000       10.800000  \n",
       "50%               0.000000        12.300000        8.300000       16.600000  \n",
       "75%               0.160000        17.200000       12.300000       22.400000  \n",
       "max               6.200000        31.200000       22.600000       39.800000  \n",
       "\n",
       "[8 rows x 91 columns]"
      ]
     },
     "execution_count": 3,
     "metadata": {},
     "output_type": "execute_result"
    }
   ],
   "source": [
    "fname = \"weather_prediction_dataset_light.csv\"\n",
    "if os.path.isfile(fname):\n",
    "    data = pd.read_csv(fname)\n",
    "else:\n",
    "    data = pd.read_csv(f\"https://zenodo.org/record/5071376/files/{fname}?download=1\")\n",
    "data.describe()"
   ]
  },
  {
   "cell_type": "markdown",
   "id": "dad085d8-6d98-43e4-9c68-5c0955c9463d",
   "metadata": {},
   "source": [
    "## Defining the classification task\n",
    "For simplicity we take data from a single location (DE_BILT). The timeseries are split per month, and we predict to which season each timeseries belongs"
   ]
  },
  {
   "cell_type": "code",
   "execution_count": 4,
   "id": "3fec7b20-59e1-4ed3-a9c1-04ec10e69d5c",
   "metadata": {},
   "outputs": [
    {
     "data": {
      "text/html": [
       "<div>\n",
       "<style scoped>\n",
       "    .dataframe tbody tr th:only-of-type {\n",
       "        vertical-align: middle;\n",
       "    }\n",
       "\n",
       "    .dataframe tbody tr th {\n",
       "        vertical-align: top;\n",
       "    }\n",
       "\n",
       "    .dataframe thead th {\n",
       "        text-align: right;\n",
       "    }\n",
       "</style>\n",
       "<table border=\"1\" class=\"dataframe\">\n",
       "  <thead>\n",
       "    <tr style=\"text-align: right;\">\n",
       "      <th></th>\n",
       "      <th>DE_BILT_cloud_cover</th>\n",
       "      <th>DE_BILT_humidity</th>\n",
       "      <th>DE_BILT_pressure</th>\n",
       "      <th>DE_BILT_global_radiation</th>\n",
       "      <th>DE_BILT_precipitation</th>\n",
       "      <th>DE_BILT_sunshine</th>\n",
       "      <th>DE_BILT_temp_mean</th>\n",
       "      <th>DE_BILT_temp_min</th>\n",
       "      <th>DE_BILT_temp_max</th>\n",
       "    </tr>\n",
       "  </thead>\n",
       "  <tbody>\n",
       "    <tr>\n",
       "      <th>count</th>\n",
       "      <td>3654.000000</td>\n",
       "      <td>3654.000000</td>\n",
       "      <td>3654.000000</td>\n",
       "      <td>3654.000000</td>\n",
       "      <td>3654.000000</td>\n",
       "      <td>3654.000000</td>\n",
       "      <td>3654.00000</td>\n",
       "      <td>3654.000000</td>\n",
       "      <td>3654.000000</td>\n",
       "    </tr>\n",
       "    <tr>\n",
       "      <th>mean</th>\n",
       "      <td>5.303229</td>\n",
       "      <td>0.817882</td>\n",
       "      <td>1.015299</td>\n",
       "      <td>1.190903</td>\n",
       "      <td>0.236888</td>\n",
       "      <td>4.744444</td>\n",
       "      <td>10.70353</td>\n",
       "      <td>6.397099</td>\n",
       "      <td>14.798604</td>\n",
       "    </tr>\n",
       "    <tr>\n",
       "      <th>std</th>\n",
       "      <td>2.279416</td>\n",
       "      <td>0.097465</td>\n",
       "      <td>0.009861</td>\n",
       "      <td>0.870267</td>\n",
       "      <td>0.459495</td>\n",
       "      <td>3.995637</td>\n",
       "      <td>6.19077</td>\n",
       "      <td>5.639597</td>\n",
       "      <td>7.210740</td>\n",
       "    </tr>\n",
       "    <tr>\n",
       "      <th>min</th>\n",
       "      <td>0.000000</td>\n",
       "      <td>0.370000</td>\n",
       "      <td>0.973200</td>\n",
       "      <td>0.110000</td>\n",
       "      <td>0.000000</td>\n",
       "      <td>0.000000</td>\n",
       "      <td>-7.90000</td>\n",
       "      <td>-14.400000</td>\n",
       "      <td>-4.700000</td>\n",
       "    </tr>\n",
       "    <tr>\n",
       "      <th>25%</th>\n",
       "      <td>4.000000</td>\n",
       "      <td>0.760000</td>\n",
       "      <td>1.009400</td>\n",
       "      <td>0.410000</td>\n",
       "      <td>0.000000</td>\n",
       "      <td>1.100000</td>\n",
       "      <td>6.20000</td>\n",
       "      <td>2.300000</td>\n",
       "      <td>9.200000</td>\n",
       "    </tr>\n",
       "    <tr>\n",
       "      <th>50%</th>\n",
       "      <td>6.000000</td>\n",
       "      <td>0.830000</td>\n",
       "      <td>1.015700</td>\n",
       "      <td>1.020000</td>\n",
       "      <td>0.010000</td>\n",
       "      <td>4.100000</td>\n",
       "      <td>11.00000</td>\n",
       "      <td>6.800000</td>\n",
       "      <td>14.900000</td>\n",
       "    </tr>\n",
       "    <tr>\n",
       "      <th>75%</th>\n",
       "      <td>7.000000</td>\n",
       "      <td>0.890000</td>\n",
       "      <td>1.021700</td>\n",
       "      <td>1.860000</td>\n",
       "      <td>0.290000</td>\n",
       "      <td>7.500000</td>\n",
       "      <td>15.50000</td>\n",
       "      <td>10.800000</td>\n",
       "      <td>20.200000</td>\n",
       "    </tr>\n",
       "    <tr>\n",
       "      <th>max</th>\n",
       "      <td>8.000000</td>\n",
       "      <td>1.000000</td>\n",
       "      <td>1.044900</td>\n",
       "      <td>3.410000</td>\n",
       "      <td>4.250000</td>\n",
       "      <td>15.500000</td>\n",
       "      <td>26.90000</td>\n",
       "      <td>20.800000</td>\n",
       "      <td>35.700000</td>\n",
       "    </tr>\n",
       "  </tbody>\n",
       "</table>\n",
       "</div>"
      ],
      "text/plain": [
       "       DE_BILT_cloud_cover  DE_BILT_humidity  DE_BILT_pressure  \\\n",
       "count          3654.000000       3654.000000       3654.000000   \n",
       "mean              5.303229          0.817882          1.015299   \n",
       "std               2.279416          0.097465          0.009861   \n",
       "min               0.000000          0.370000          0.973200   \n",
       "25%               4.000000          0.760000          1.009400   \n",
       "50%               6.000000          0.830000          1.015700   \n",
       "75%               7.000000          0.890000          1.021700   \n",
       "max               8.000000          1.000000          1.044900   \n",
       "\n",
       "       DE_BILT_global_radiation  DE_BILT_precipitation  DE_BILT_sunshine  \\\n",
       "count               3654.000000            3654.000000       3654.000000   \n",
       "mean                   1.190903               0.236888          4.744444   \n",
       "std                    0.870267               0.459495          3.995637   \n",
       "min                    0.110000               0.000000          0.000000   \n",
       "25%                    0.410000               0.000000          1.100000   \n",
       "50%                    1.020000               0.010000          4.100000   \n",
       "75%                    1.860000               0.290000          7.500000   \n",
       "max                    3.410000               4.250000         15.500000   \n",
       "\n",
       "       DE_BILT_temp_mean  DE_BILT_temp_min  DE_BILT_temp_max  \n",
       "count         3654.00000       3654.000000       3654.000000  \n",
       "mean            10.70353          6.397099         14.798604  \n",
       "std              6.19077          5.639597          7.210740  \n",
       "min             -7.90000        -14.400000         -4.700000  \n",
       "25%              6.20000          2.300000          9.200000  \n",
       "50%             11.00000          6.800000         14.900000  \n",
       "75%             15.50000         10.800000         20.200000  \n",
       "max             26.90000         20.800000         35.700000  "
      ]
     },
     "execution_count": 4,
     "metadata": {},
     "output_type": "execute_result"
    }
   ],
   "source": [
    "# select only data from De Bilt\n",
    "columns = [col for col in data.columns if col.startswith('DE_BILT')]\n",
    "data_debilt = data[columns]\n",
    "data_debilt.describe()"
   ]
  },
  {
   "cell_type": "code",
   "execution_count": 5,
   "id": "d0e57457-6aee-4a11-ae49-ca931b9a75b9",
   "metadata": {},
   "outputs": [
    {
     "name": "stdout",
     "output_type": "stream",
     "text": [
      "(120, 28, 9)\n"
     ]
    }
   ],
   "source": [
    "# find where the month changes\n",
    "idx = np.where(np.diff(data['MONTH']) != 0)[0]\n",
    "# idx contains the index of the last day of each month, except for the last month.\n",
    "# of the last month only a single day is recorded, so we discard it.\n",
    "\n",
    "nmonth = len(idx)\n",
    "# add start of first month\n",
    "idx = np.insert(idx, 0, 0)\n",
    "ncol = len(columns)\n",
    "# create single object containing each timeseries\n",
    "# for simplicity we truncate each timeseries to the same length, i.e. 28 days\n",
    "nday = 28\n",
    "data_ts = np.zeros((nmonth, nday, ncol))\n",
    "for m in range(nmonth):\n",
    "    data_ts[m] = data_debilt[idx[m]:idx[m+1]][:28]\n",
    "    \n",
    "print(data_ts.shape)"
   ]
  },
  {
   "cell_type": "code",
   "execution_count": 6,
   "id": "22b82466-ca31-4d55-b457-8821d18b60aa",
   "metadata": {},
   "outputs": [
    {
     "data": {
      "text/html": [
       "<div>\n",
       "<style scoped>\n",
       "    .dataframe tbody tr th:only-of-type {\n",
       "        vertical-align: middle;\n",
       "    }\n",
       "\n",
       "    .dataframe tbody tr th {\n",
       "        vertical-align: top;\n",
       "    }\n",
       "\n",
       "    .dataframe thead th {\n",
       "        text-align: right;\n",
       "    }\n",
       "</style>\n",
       "<table border=\"1\" class=\"dataframe\">\n",
       "  <thead>\n",
       "    <tr style=\"text-align: right;\">\n",
       "      <th></th>\n",
       "      <th>0</th>\n",
       "      <th>1</th>\n",
       "      <th>2</th>\n",
       "      <th>3</th>\n",
       "    </tr>\n",
       "  </thead>\n",
       "  <tbody>\n",
       "    <tr>\n",
       "      <th>count</th>\n",
       "      <td>120.000000</td>\n",
       "      <td>120.000000</td>\n",
       "      <td>120.000000</td>\n",
       "      <td>120.000000</td>\n",
       "    </tr>\n",
       "    <tr>\n",
       "      <th>mean</th>\n",
       "      <td>0.250000</td>\n",
       "      <td>0.250000</td>\n",
       "      <td>0.250000</td>\n",
       "      <td>0.250000</td>\n",
       "    </tr>\n",
       "    <tr>\n",
       "      <th>std</th>\n",
       "      <td>0.434828</td>\n",
       "      <td>0.434828</td>\n",
       "      <td>0.434828</td>\n",
       "      <td>0.434828</td>\n",
       "    </tr>\n",
       "    <tr>\n",
       "      <th>min</th>\n",
       "      <td>0.000000</td>\n",
       "      <td>0.000000</td>\n",
       "      <td>0.000000</td>\n",
       "      <td>0.000000</td>\n",
       "    </tr>\n",
       "    <tr>\n",
       "      <th>25%</th>\n",
       "      <td>0.000000</td>\n",
       "      <td>0.000000</td>\n",
       "      <td>0.000000</td>\n",
       "      <td>0.000000</td>\n",
       "    </tr>\n",
       "    <tr>\n",
       "      <th>50%</th>\n",
       "      <td>0.000000</td>\n",
       "      <td>0.000000</td>\n",
       "      <td>0.000000</td>\n",
       "      <td>0.000000</td>\n",
       "    </tr>\n",
       "    <tr>\n",
       "      <th>75%</th>\n",
       "      <td>0.250000</td>\n",
       "      <td>0.250000</td>\n",
       "      <td>0.250000</td>\n",
       "      <td>0.250000</td>\n",
       "    </tr>\n",
       "    <tr>\n",
       "      <th>max</th>\n",
       "      <td>1.000000</td>\n",
       "      <td>1.000000</td>\n",
       "      <td>1.000000</td>\n",
       "      <td>1.000000</td>\n",
       "    </tr>\n",
       "  </tbody>\n",
       "</table>\n",
       "</div>"
      ],
      "text/plain": [
       "                0           1           2           3\n",
       "count  120.000000  120.000000  120.000000  120.000000\n",
       "mean     0.250000    0.250000    0.250000    0.250000\n",
       "std      0.434828    0.434828    0.434828    0.434828\n",
       "min      0.000000    0.000000    0.000000    0.000000\n",
       "25%      0.000000    0.000000    0.000000    0.000000\n",
       "50%      0.000000    0.000000    0.000000    0.000000\n",
       "75%      0.250000    0.250000    0.250000    0.250000\n",
       "max      1.000000    1.000000    1.000000    1.000000"
      ]
     },
     "execution_count": 6,
     "metadata": {},
     "output_type": "execute_result"
    }
   ],
   "source": [
    "# the labels are based on the month of each timeseries, in range 1 to 12\n",
    "months = (np.arange(nmonth) + data['MONTH'][0] - 1) % 12 + 1\n",
    "\n",
    "# one class per meteorological season\n",
    "labels = np.zeros_like(months, dtype=int)\n",
    "spring = (3 <= months) & (months <= 5)   # mar - may\n",
    "summer = (6 <= months) & (months <= 8)   # jun - aug\n",
    "autumn = (9 <= months) & (months <= 11)  # sep - nov\n",
    "winter = (months <= 2) | (months == 12)  # dec - feb\n",
    "\n",
    "labels[spring] = 0\n",
    "labels[summer] = 1\n",
    "labels[autumn] = 2\n",
    "labels[winter] = 3\n",
    "\n",
    "target = pd.get_dummies(labels)\n",
    "\n",
    "classes = ['spring', 'summer', 'autumn', 'winter']\n",
    "nclass = len(classes)\n",
    "\n",
    "target.describe()"
   ]
  },
  {
   "cell_type": "markdown",
   "id": "db3085a8-5b2d-4565-b3b7-b0bff991c928",
   "metadata": {},
   "source": [
    "## Train - validation - test split"
   ]
  },
  {
   "cell_type": "code",
   "execution_count": 7,
   "id": "08e34c0c-62e3-4078-ab36-2a9cb2713e3f",
   "metadata": {},
   "outputs": [
    {
     "name": "stdout",
     "output_type": "stream",
     "text": [
      "(92, 28, 9) (13, 28, 9) (15, 28, 9)\n"
     ]
    }
   ],
   "source": [
    "data_trainval, data_test, target_trainval, target_test = train_test_split(data_ts, target, stratify=target, random_state=0, test_size=.12)\n",
    "data_train, data_val, target_train, target_val = train_test_split(data_trainval, target_trainval, stratify=target_trainval, random_state=0, test_size=.12)\n",
    "print(data_train.shape, data_val.shape, data_test.shape)"
   ]
  },
  {
   "cell_type": "markdown",
   "id": "94a82da4-fada-4f4c-9d97-fd17afd12960",
   "metadata": {},
   "source": [
    "## Define the model"
   ]
  },
  {
   "cell_type": "code",
   "execution_count": 8,
   "id": "30585506-c36d-448b-a0cb-7ec2f91c6a8c",
   "metadata": {},
   "outputs": [],
   "source": [
    "def create_model(nclass):\n",
    "    inputs = keras.Input(data_train.shape[1:])\n",
    "    x = keras.layers.Conv1D(8, 8)(inputs)\n",
    "    x = keras.layers.BatchNormalization()(x)\n",
    "    x = keras.layers.Activation(\"relu\")(x)\n",
    "    \n",
    "    x = keras.layers.Conv1D(4, 2)(x)\n",
    "    x = keras.layers.BatchNormalization()(x)\n",
    "    x = keras.layers.Activation(\"relu\")(x)\n",
    "\n",
    "    x = keras.layers.GlobalMaxPool1D()(x)\n",
    "    x = keras.layers.Dropout(.25)(x)\n",
    "    outputs = keras.layers.Dense(nclass, activation=\"softmax\")(x)\n",
    "    \n",
    "    return keras.Model(inputs, outputs)"
   ]
  },
  {
   "cell_type": "markdown",
   "id": "95da610b-4943-4515-8f3e-18a0b9709c3c",
   "metadata": {},
   "source": [
    "## Compile and fit"
   ]
  },
  {
   "cell_type": "code",
   "execution_count": 9,
   "id": "2706ea74-adcc-447f-b615-0461e817e963",
   "metadata": {},
   "outputs": [
    {
     "name": "stdout",
     "output_type": "stream",
     "text": [
      "Model: \"model\"\n",
      "_________________________________________________________________\n",
      " Layer (type)                Output Shape              Param #   \n",
      "=================================================================\n",
      " input_1 (InputLayer)        [(None, 28, 9)]           0         \n",
      "                                                                 \n",
      " conv1d (Conv1D)             (None, 21, 8)             584       \n",
      "                                                                 \n",
      " batch_normalization (BatchN  (None, 21, 8)            32        \n",
      " ormalization)                                                   \n",
      "                                                                 \n",
      " activation (Activation)     (None, 21, 8)             0         \n",
      "                                                                 \n",
      " conv1d_1 (Conv1D)           (None, 20, 4)             68        \n",
      "                                                                 \n",
      " batch_normalization_1 (Batc  (None, 20, 4)            16        \n",
      " hNormalization)                                                 \n",
      "                                                                 \n",
      " activation_1 (Activation)   (None, 20, 4)             0         \n",
      "                                                                 \n",
      " global_max_pooling1d (Globa  (None, 4)                0         \n",
      " lMaxPooling1D)                                                  \n",
      "                                                                 \n",
      " dropout (Dropout)           (None, 4)                 0         \n",
      "                                                                 \n",
      " dense (Dense)               (None, 4)                 20        \n",
      "                                                                 \n",
      "=================================================================\n",
      "Total params: 720\n",
      "Trainable params: 696\n",
      "Non-trainable params: 24\n",
      "_________________________________________________________________\n"
     ]
    },
    {
     "name": "stderr",
     "output_type": "stream",
     "text": [
      "2022-11-22 15:33:34.900478: I tensorflow/core/platform/cpu_feature_guard.cc:193] This TensorFlow binary is optimized with oneAPI Deep Neural Network Library (oneDNN) to use the following CPU instructions in performance-critical operations:  AVX2 AVX512F AVX512_VNNI FMA\n",
      "To enable them in other operations, rebuild TensorFlow with the appropriate compiler flags.\n"
     ]
    }
   ],
   "source": [
    "batch_size = 8\n",
    "epochs = 128\n",
    "learning_rate = 1e-3\n",
    "\n",
    "model = create_model(nclass)\n",
    "model.compile(optimizer=keras.optimizers.Adam(learning_rate), loss=\"categorical_crossentropy\", metrics=[\"accuracy\"])\n",
    "model.summary()"
   ]
  },
  {
   "cell_type": "code",
   "execution_count": 10,
   "id": "6e1987db-5dae-46e6-bbaf-ce3a043af0bb",
   "metadata": {},
   "outputs": [
    {
     "name": "stdout",
     "output_type": "stream",
     "text": [
      "Epoch 1/128\n",
      " 1/12 [=>............................] - ETA: 8s - loss: 1.2555 - accuracy: 0.3750"
     ]
    },
    {
     "name": "stderr",
     "output_type": "stream",
     "text": [
      "WARNING:absl:Found untraced functions such as _jit_compiled_convolution_op, _jit_compiled_convolution_op while saving (showing 2 of 2). These functions will not be directly callable after loading.\n"
     ]
    },
    {
     "name": "stdout",
     "output_type": "stream",
     "text": [
      "INFO:tensorflow:Assets written to: season_prediction_model/assets\n"
     ]
    },
    {
     "name": "stderr",
     "output_type": "stream",
     "text": [
      "INFO:tensorflow:Assets written to: season_prediction_model/assets\n"
     ]
    },
    {
     "name": "stdout",
     "output_type": "stream",
     "text": [
      "12/12 [==============================] - 2s 124ms/step - loss: 2.6185 - accuracy: 0.2500 - val_loss: 8.5035 - val_accuracy: 0.2308\n",
      "Epoch 2/128\n",
      "12/12 [==============================] - 0s 4ms/step - loss: 2.5084 - accuracy: 0.2174 - val_loss: 6.8661 - val_accuracy: 0.2308\n",
      "Epoch 3/128\n",
      "12/12 [==============================] - 0s 4ms/step - loss: 2.2340 - accuracy: 0.2283 - val_loss: 5.7302 - val_accuracy: 0.2308\n",
      "Epoch 4/128\n",
      "12/12 [==============================] - 0s 4ms/step - loss: 2.1443 - accuracy: 0.2717 - val_loss: 4.8073 - val_accuracy: 0.2308\n",
      "Epoch 5/128\n",
      "12/12 [==============================] - 0s 3ms/step - loss: 2.0421 - accuracy: 0.2609 - val_loss: 4.2047 - val_accuracy: 0.2308\n",
      "Epoch 6/128\n",
      "12/12 [==============================] - 0s 4ms/step - loss: 1.9829 - accuracy: 0.3152 - val_loss: 3.8578 - val_accuracy: 0.2308\n",
      "Epoch 7/128\n",
      "12/12 [==============================] - 0s 4ms/step - loss: 1.9615 - accuracy: 0.2826 - val_loss: 3.3793 - val_accuracy: 0.2308\n",
      "Epoch 8/128\n",
      "12/12 [==============================] - 0s 4ms/step - loss: 1.8332 - accuracy: 0.2935 - val_loss: 3.0491 - val_accuracy: 0.2308\n",
      "Epoch 9/128\n",
      "12/12 [==============================] - 0s 4ms/step - loss: 1.7521 - accuracy: 0.2500 - val_loss: 2.7308 - val_accuracy: 0.2308\n",
      "Epoch 10/128\n",
      "12/12 [==============================] - 0s 4ms/step - loss: 1.7094 - accuracy: 0.2609 - val_loss: 2.4106 - val_accuracy: 0.2308\n",
      "Epoch 11/128\n",
      "12/12 [==============================] - 0s 4ms/step - loss: 1.7181 - accuracy: 0.3261 - val_loss: 2.0119 - val_accuracy: 0.2308\n",
      "Epoch 12/128\n",
      "12/12 [==============================] - 0s 4ms/step - loss: 1.5765 - accuracy: 0.3152 - val_loss: 1.8061 - val_accuracy: 0.2308\n",
      "Epoch 13/128\n",
      "12/12 [==============================] - 0s 4ms/step - loss: 1.6473 - accuracy: 0.3261 - val_loss: 1.6523 - val_accuracy: 0.2308\n",
      "Epoch 14/128\n",
      "12/12 [==============================] - 0s 3ms/step - loss: 1.5415 - accuracy: 0.2826 - val_loss: 1.5327 - val_accuracy: 0.2308\n",
      "Epoch 15/128\n",
      "12/12 [==============================] - 0s 3ms/step - loss: 1.5242 - accuracy: 0.2717 - val_loss: 1.3999 - val_accuracy: 0.2308\n",
      "Epoch 16/128\n",
      "12/12 [==============================] - 0s 3ms/step - loss: 1.3254 - accuracy: 0.3261 - val_loss: 1.3500 - val_accuracy: 0.2308\n",
      "Epoch 17/128\n",
      " 1/12 [=>............................] - ETA: 0s - loss: 1.4249 - accuracy: 0.1250"
     ]
    },
    {
     "name": "stderr",
     "output_type": "stream",
     "text": [
      "WARNING:absl:Found untraced functions such as _jit_compiled_convolution_op, _jit_compiled_convolution_op while saving (showing 2 of 2). These functions will not be directly callable after loading.\n"
     ]
    },
    {
     "name": "stdout",
     "output_type": "stream",
     "text": [
      "INFO:tensorflow:Assets written to: season_prediction_model/assets\n"
     ]
    },
    {
     "name": "stderr",
     "output_type": "stream",
     "text": [
      "INFO:tensorflow:Assets written to: season_prediction_model/assets\n"
     ]
    },
    {
     "name": "stdout",
     "output_type": "stream",
     "text": [
      "12/12 [==============================] - 1s 96ms/step - loss: 1.3124 - accuracy: 0.3478 - val_loss: 1.3045 - val_accuracy: 0.3077\n",
      "Epoch 18/128\n",
      "12/12 [==============================] - 0s 4ms/step - loss: 1.4709 - accuracy: 0.2826 - val_loss: 1.2645 - val_accuracy: 0.3077\n",
      "Epoch 19/128\n",
      "12/12 [==============================] - 0s 4ms/step - loss: 1.4118 - accuracy: 0.3370 - val_loss: 1.2829 - val_accuracy: 0.3077\n",
      "Epoch 20/128\n",
      "12/12 [==============================] - 0s 4ms/step - loss: 1.3959 - accuracy: 0.3370 - val_loss: 1.3064 - val_accuracy: 0.2308\n",
      "Epoch 21/128\n",
      " 1/12 [=>............................] - ETA: 0s - loss: 1.0628 - accuracy: 0.6250"
     ]
    },
    {
     "name": "stderr",
     "output_type": "stream",
     "text": [
      "WARNING:absl:Found untraced functions such as _jit_compiled_convolution_op, _jit_compiled_convolution_op while saving (showing 2 of 2). These functions will not be directly callable after loading.\n"
     ]
    },
    {
     "name": "stdout",
     "output_type": "stream",
     "text": [
      "INFO:tensorflow:Assets written to: season_prediction_model/assets\n"
     ]
    },
    {
     "name": "stderr",
     "output_type": "stream",
     "text": [
      "INFO:tensorflow:Assets written to: season_prediction_model/assets\n"
     ]
    },
    {
     "name": "stdout",
     "output_type": "stream",
     "text": [
      "12/12 [==============================] - 1s 96ms/step - loss: 1.2236 - accuracy: 0.4022 - val_loss: 1.2240 - val_accuracy: 0.3846\n",
      "Epoch 22/128\n",
      "12/12 [==============================] - 0s 4ms/step - loss: 1.2476 - accuracy: 0.4565 - val_loss: 1.2161 - val_accuracy: 0.3846\n",
      "Epoch 23/128\n",
      "12/12 [==============================] - 0s 4ms/step - loss: 1.3258 - accuracy: 0.3696 - val_loss: 1.1880 - val_accuracy: 0.3846\n",
      "Epoch 24/128\n",
      "12/12 [==============================] - 0s 3ms/step - loss: 1.2370 - accuracy: 0.4348 - val_loss: 1.1759 - val_accuracy: 0.3846\n",
      "Epoch 25/128\n",
      "12/12 [==============================] - 0s 3ms/step - loss: 1.2180 - accuracy: 0.4783 - val_loss: 1.1552 - val_accuracy: 0.3846\n",
      "Epoch 26/128\n",
      "12/12 [==============================] - 0s 4ms/step - loss: 1.2600 - accuracy: 0.4565 - val_loss: 1.1439 - val_accuracy: 0.3846\n",
      "Epoch 27/128\n",
      "12/12 [==============================] - 0s 4ms/step - loss: 1.2339 - accuracy: 0.4239 - val_loss: 1.1381 - val_accuracy: 0.3846\n",
      "Epoch 28/128\n",
      " 1/12 [=>............................] - ETA: 0s - loss: 0.8317 - accuracy: 0.7500"
     ]
    },
    {
     "name": "stderr",
     "output_type": "stream",
     "text": [
      "WARNING:absl:Found untraced functions such as _jit_compiled_convolution_op, _jit_compiled_convolution_op while saving (showing 2 of 2). These functions will not be directly callable after loading.\n"
     ]
    },
    {
     "name": "stdout",
     "output_type": "stream",
     "text": [
      "INFO:tensorflow:Assets written to: season_prediction_model/assets\n"
     ]
    },
    {
     "name": "stderr",
     "output_type": "stream",
     "text": [
      "INFO:tensorflow:Assets written to: season_prediction_model/assets\n"
     ]
    },
    {
     "name": "stdout",
     "output_type": "stream",
     "text": [
      "12/12 [==============================] - 1s 105ms/step - loss: 1.1213 - accuracy: 0.5326 - val_loss: 1.1312 - val_accuracy: 0.4615\n",
      "Epoch 29/128\n",
      "12/12 [==============================] - 0s 4ms/step - loss: 1.1491 - accuracy: 0.4565 - val_loss: 1.1264 - val_accuracy: 0.4615\n",
      "Epoch 30/128\n",
      "12/12 [==============================] - 0s 4ms/step - loss: 1.1007 - accuracy: 0.5217 - val_loss: 1.1466 - val_accuracy: 0.4615\n",
      "Epoch 31/128\n",
      " 1/12 [=>............................] - ETA: 0s - loss: 1.0721 - accuracy: 0.5000"
     ]
    },
    {
     "name": "stderr",
     "output_type": "stream",
     "text": [
      "WARNING:absl:Found untraced functions such as _jit_compiled_convolution_op, _jit_compiled_convolution_op while saving (showing 2 of 2). These functions will not be directly callable after loading.\n"
     ]
    },
    {
     "name": "stdout",
     "output_type": "stream",
     "text": [
      "INFO:tensorflow:Assets written to: season_prediction_model/assets\n"
     ]
    },
    {
     "name": "stderr",
     "output_type": "stream",
     "text": [
      "INFO:tensorflow:Assets written to: season_prediction_model/assets\n"
     ]
    },
    {
     "name": "stdout",
     "output_type": "stream",
     "text": [
      "12/12 [==============================] - 1s 112ms/step - loss: 1.0905 - accuracy: 0.4891 - val_loss: 1.1869 - val_accuracy: 0.5385\n",
      "Epoch 32/128\n",
      "12/12 [==============================] - 0s 4ms/step - loss: 1.0811 - accuracy: 0.5652 - val_loss: 1.1382 - val_accuracy: 0.5385\n",
      "Epoch 33/128\n",
      "12/12 [==============================] - 0s 4ms/step - loss: 1.1195 - accuracy: 0.4348 - val_loss: 1.0842 - val_accuracy: 0.5385\n",
      "Epoch 34/128\n",
      "12/12 [==============================] - 0s 4ms/step - loss: 1.0539 - accuracy: 0.5217 - val_loss: 1.0286 - val_accuracy: 0.3846\n",
      "Epoch 35/128\n",
      "12/12 [==============================] - 0s 4ms/step - loss: 1.0983 - accuracy: 0.4457 - val_loss: 0.9893 - val_accuracy: 0.4615\n",
      "Epoch 36/128\n",
      "12/12 [==============================] - 0s 4ms/step - loss: 1.0645 - accuracy: 0.4783 - val_loss: 0.9860 - val_accuracy: 0.5385\n",
      "Epoch 37/128\n",
      "12/12 [==============================] - 0s 5ms/step - loss: 1.0046 - accuracy: 0.5870 - val_loss: 0.9673 - val_accuracy: 0.5385\n",
      "Epoch 38/128\n",
      "12/12 [==============================] - 0s 4ms/step - loss: 1.0356 - accuracy: 0.5761 - val_loss: 0.9299 - val_accuracy: 0.5385\n",
      "Epoch 39/128\n",
      "12/12 [==============================] - 0s 5ms/step - loss: 1.0158 - accuracy: 0.5543 - val_loss: 0.9216 - val_accuracy: 0.4615\n",
      "Epoch 40/128\n",
      "12/12 [==============================] - 0s 5ms/step - loss: 1.0015 - accuracy: 0.5109 - val_loss: 0.9329 - val_accuracy: 0.5385\n",
      "Epoch 41/128\n",
      " 1/12 [=>............................] - ETA: 0s - loss: 1.2450 - accuracy: 0.3750"
     ]
    },
    {
     "name": "stderr",
     "output_type": "stream",
     "text": [
      "WARNING:absl:Found untraced functions such as _jit_compiled_convolution_op, _jit_compiled_convolution_op while saving (showing 2 of 2). These functions will not be directly callable after loading.\n"
     ]
    },
    {
     "name": "stdout",
     "output_type": "stream",
     "text": [
      "INFO:tensorflow:Assets written to: season_prediction_model/assets\n"
     ]
    },
    {
     "name": "stderr",
     "output_type": "stream",
     "text": [
      "INFO:tensorflow:Assets written to: season_prediction_model/assets\n"
     ]
    },
    {
     "name": "stdout",
     "output_type": "stream",
     "text": [
      "12/12 [==============================] - 1s 121ms/step - loss: 1.0316 - accuracy: 0.5435 - val_loss: 0.9358 - val_accuracy: 0.6154\n",
      "Epoch 42/128\n",
      "12/12 [==============================] - 0s 4ms/step - loss: 0.9781 - accuracy: 0.5000 - val_loss: 0.9581 - val_accuracy: 0.6154\n",
      "Epoch 43/128\n",
      " 1/12 [=>............................] - ETA: 0s - loss: 0.8171 - accuracy: 0.7500"
     ]
    },
    {
     "name": "stderr",
     "output_type": "stream",
     "text": [
      "WARNING:absl:Found untraced functions such as _jit_compiled_convolution_op, _jit_compiled_convolution_op while saving (showing 2 of 2). These functions will not be directly callable after loading.\n"
     ]
    },
    {
     "name": "stdout",
     "output_type": "stream",
     "text": [
      "INFO:tensorflow:Assets written to: season_prediction_model/assets\n"
     ]
    },
    {
     "name": "stderr",
     "output_type": "stream",
     "text": [
      "INFO:tensorflow:Assets written to: season_prediction_model/assets\n"
     ]
    },
    {
     "name": "stdout",
     "output_type": "stream",
     "text": [
      "12/12 [==============================] - 1s 104ms/step - loss: 0.9494 - accuracy: 0.5543 - val_loss: 0.8906 - val_accuracy: 0.7692\n",
      "Epoch 44/128\n",
      "12/12 [==============================] - 0s 4ms/step - loss: 1.0051 - accuracy: 0.6087 - val_loss: 0.8640 - val_accuracy: 0.7692\n",
      "Epoch 45/128\n",
      "12/12 [==============================] - 0s 3ms/step - loss: 0.9996 - accuracy: 0.6087 - val_loss: 0.9230 - val_accuracy: 0.7692\n",
      "Epoch 46/128\n",
      "12/12 [==============================] - 0s 4ms/step - loss: 1.0486 - accuracy: 0.5870 - val_loss: 0.9361 - val_accuracy: 0.6923\n",
      "Epoch 47/128\n",
      " 1/12 [=>............................] - ETA: 0s - loss: 0.9538 - accuracy: 0.5000"
     ]
    },
    {
     "name": "stderr",
     "output_type": "stream",
     "text": [
      "WARNING:absl:Found untraced functions such as _jit_compiled_convolution_op, _jit_compiled_convolution_op while saving (showing 2 of 2). These functions will not be directly callable after loading.\n"
     ]
    },
    {
     "name": "stdout",
     "output_type": "stream",
     "text": [
      "INFO:tensorflow:Assets written to: season_prediction_model/assets\n"
     ]
    },
    {
     "name": "stderr",
     "output_type": "stream",
     "text": [
      "INFO:tensorflow:Assets written to: season_prediction_model/assets\n"
     ]
    },
    {
     "name": "stdout",
     "output_type": "stream",
     "text": [
      "12/12 [==============================] - 1s 123ms/step - loss: 0.9861 - accuracy: 0.5978 - val_loss: 0.8428 - val_accuracy: 0.8462\n",
      "Epoch 48/128\n",
      "12/12 [==============================] - 0s 4ms/step - loss: 0.9497 - accuracy: 0.6087 - val_loss: 0.8497 - val_accuracy: 0.6923\n",
      "Epoch 49/128\n",
      "12/12 [==============================] - 0s 4ms/step - loss: 1.0105 - accuracy: 0.5870 - val_loss: 0.9970 - val_accuracy: 0.6923\n",
      "Epoch 50/128\n",
      "12/12 [==============================] - 0s 4ms/step - loss: 0.9790 - accuracy: 0.6087 - val_loss: 0.8927 - val_accuracy: 0.7692\n",
      "Epoch 51/128\n",
      "12/12 [==============================] - 0s 4ms/step - loss: 0.8671 - accuracy: 0.6957 - val_loss: 0.8340 - val_accuracy: 0.8462\n",
      "Epoch 52/128\n",
      "12/12 [==============================] - 0s 4ms/step - loss: 1.0030 - accuracy: 0.6196 - val_loss: 0.9146 - val_accuracy: 0.6923\n",
      "Epoch 53/128\n",
      "12/12 [==============================] - 0s 4ms/step - loss: 0.9561 - accuracy: 0.6413 - val_loss: 0.8009 - val_accuracy: 0.8462\n",
      "Epoch 54/128\n",
      "12/12 [==============================] - 0s 3ms/step - loss: 0.9225 - accuracy: 0.5978 - val_loss: 0.8893 - val_accuracy: 0.7692\n",
      "Epoch 55/128\n",
      "12/12 [==============================] - 0s 3ms/step - loss: 0.9723 - accuracy: 0.5326 - val_loss: 0.9998 - val_accuracy: 0.6923\n",
      "Epoch 56/128\n",
      "12/12 [==============================] - 0s 3ms/step - loss: 0.9074 - accuracy: 0.5978 - val_loss: 0.8778 - val_accuracy: 0.6923\n",
      "Epoch 57/128\n",
      "12/12 [==============================] - 0s 4ms/step - loss: 0.9548 - accuracy: 0.6848 - val_loss: 0.7791 - val_accuracy: 0.7692\n",
      "Epoch 58/128\n",
      "12/12 [==============================] - 0s 4ms/step - loss: 0.9171 - accuracy: 0.6087 - val_loss: 0.8533 - val_accuracy: 0.6923\n",
      "Epoch 59/128\n",
      "12/12 [==============================] - 0s 5ms/step - loss: 0.9565 - accuracy: 0.6522 - val_loss: 0.8421 - val_accuracy: 0.7692\n",
      "Epoch 60/128\n",
      "12/12 [==============================] - 0s 4ms/step - loss: 0.9632 - accuracy: 0.6196 - val_loss: 0.8736 - val_accuracy: 0.7692\n",
      "Epoch 61/128\n",
      "12/12 [==============================] - 0s 4ms/step - loss: 0.8040 - accuracy: 0.7391 - val_loss: 0.8246 - val_accuracy: 0.7692\n",
      "Epoch 62/128\n",
      "12/12 [==============================] - 0s 3ms/step - loss: 0.9737 - accuracy: 0.6087 - val_loss: 0.9384 - val_accuracy: 0.7692\n",
      "Epoch 63/128\n",
      "12/12 [==============================] - 0s 3ms/step - loss: 0.8987 - accuracy: 0.6739 - val_loss: 0.9409 - val_accuracy: 0.6923\n",
      "Epoch 64/128\n",
      "12/12 [==============================] - 0s 3ms/step - loss: 0.8735 - accuracy: 0.6522 - val_loss: 0.7862 - val_accuracy: 0.6923\n",
      "Epoch 65/128\n",
      "12/12 [==============================] - 0s 3ms/step - loss: 0.8734 - accuracy: 0.7609 - val_loss: 0.7756 - val_accuracy: 0.7692\n",
      "Epoch 66/128\n",
      "12/12 [==============================] - 0s 3ms/step - loss: 0.9166 - accuracy: 0.6413 - val_loss: 0.8346 - val_accuracy: 0.7692\n",
      "Epoch 67/128\n",
      "12/12 [==============================] - 0s 3ms/step - loss: 0.9059 - accuracy: 0.6087 - val_loss: 0.8053 - val_accuracy: 0.8462\n",
      "Epoch 68/128\n",
      "12/12 [==============================] - 0s 3ms/step - loss: 0.8560 - accuracy: 0.6739 - val_loss: 0.8122 - val_accuracy: 0.7692\n",
      "Epoch 69/128\n",
      "12/12 [==============================] - 0s 3ms/step - loss: 0.8172 - accuracy: 0.7609 - val_loss: 0.9283 - val_accuracy: 0.7692\n",
      "Epoch 70/128\n",
      "12/12 [==============================] - 0s 4ms/step - loss: 0.9070 - accuracy: 0.6630 - val_loss: 0.9867 - val_accuracy: 0.6923\n",
      "Epoch 71/128\n",
      "12/12 [==============================] - 0s 4ms/step - loss: 0.8030 - accuracy: 0.7065 - val_loss: 0.7924 - val_accuracy: 0.7692\n",
      "Epoch 72/128\n",
      "12/12 [==============================] - 0s 3ms/step - loss: 0.8119 - accuracy: 0.6413 - val_loss: 0.8483 - val_accuracy: 0.7692\n",
      "Epoch 73/128\n",
      "12/12 [==============================] - 0s 3ms/step - loss: 0.7767 - accuracy: 0.7174 - val_loss: 0.8706 - val_accuracy: 0.7692\n",
      "Epoch 74/128\n",
      "12/12 [==============================] - 0s 4ms/step - loss: 0.8492 - accuracy: 0.6957 - val_loss: 0.8039 - val_accuracy: 0.7692\n",
      "Epoch 75/128\n",
      "12/12 [==============================] - 0s 3ms/step - loss: 0.9109 - accuracy: 0.6522 - val_loss: 0.8514 - val_accuracy: 0.7692\n",
      "Epoch 76/128\n",
      "12/12 [==============================] - 0s 3ms/step - loss: 0.8629 - accuracy: 0.6739 - val_loss: 0.8925 - val_accuracy: 0.7692\n",
      "Epoch 77/128\n",
      "12/12 [==============================] - 0s 4ms/step - loss: 0.7765 - accuracy: 0.7500 - val_loss: 0.8214 - val_accuracy: 0.7692\n",
      "Epoch 78/128\n",
      "12/12 [==============================] - 0s 4ms/step - loss: 0.8577 - accuracy: 0.6522 - val_loss: 0.8431 - val_accuracy: 0.7692\n",
      "Epoch 79/128\n",
      "12/12 [==============================] - 0s 4ms/step - loss: 0.8089 - accuracy: 0.7174 - val_loss: 0.8035 - val_accuracy: 0.8462\n",
      "Epoch 80/128\n",
      "12/12 [==============================] - 0s 3ms/step - loss: 0.7701 - accuracy: 0.7391 - val_loss: 0.7871 - val_accuracy: 0.7692\n",
      "Epoch 81/128\n",
      "12/12 [==============================] - 0s 4ms/step - loss: 0.7248 - accuracy: 0.7065 - val_loss: 0.8033 - val_accuracy: 0.6923\n",
      "Epoch 82/128\n",
      "12/12 [==============================] - 0s 3ms/step - loss: 0.8907 - accuracy: 0.6413 - val_loss: 0.6974 - val_accuracy: 0.7692\n",
      "Epoch 83/128\n",
      "12/12 [==============================] - 0s 4ms/step - loss: 0.8784 - accuracy: 0.6304 - val_loss: 0.6377 - val_accuracy: 0.8462\n",
      "Epoch 84/128\n",
      "12/12 [==============================] - 0s 4ms/step - loss: 0.8088 - accuracy: 0.7500 - val_loss: 0.7381 - val_accuracy: 0.7692\n",
      "Epoch 85/128\n",
      "12/12 [==============================] - 0s 4ms/step - loss: 0.7108 - accuracy: 0.7609 - val_loss: 0.7533 - val_accuracy: 0.7692\n",
      "Epoch 86/128\n",
      "12/12 [==============================] - 0s 4ms/step - loss: 0.7670 - accuracy: 0.7283 - val_loss: 0.7558 - val_accuracy: 0.8462\n",
      "Epoch 87/128\n",
      "12/12 [==============================] - 0s 3ms/step - loss: 0.8086 - accuracy: 0.7174 - val_loss: 0.7769 - val_accuracy: 0.8462\n",
      "Epoch 88/128\n",
      "12/12 [==============================] - 0s 3ms/step - loss: 0.6839 - accuracy: 0.8043 - val_loss: 0.7232 - val_accuracy: 0.7692\n",
      "Epoch 89/128\n",
      "12/12 [==============================] - 0s 3ms/step - loss: 0.8385 - accuracy: 0.6522 - val_loss: 0.7705 - val_accuracy: 0.8462\n",
      "Epoch 90/128\n",
      "12/12 [==============================] - 0s 4ms/step - loss: 0.7813 - accuracy: 0.7065 - val_loss: 0.7200 - val_accuracy: 0.8462\n",
      "Epoch 91/128\n",
      "12/12 [==============================] - 0s 3ms/step - loss: 0.7450 - accuracy: 0.7391 - val_loss: 0.7623 - val_accuracy: 0.8462\n",
      "Epoch 92/128\n",
      "12/12 [==============================] - 0s 4ms/step - loss: 0.8123 - accuracy: 0.7391 - val_loss: 0.8302 - val_accuracy: 0.7692\n",
      "Epoch 93/128\n",
      "12/12 [==============================] - 0s 3ms/step - loss: 0.6523 - accuracy: 0.7500 - val_loss: 0.7688 - val_accuracy: 0.8462\n",
      "Epoch 94/128\n",
      "12/12 [==============================] - 0s 4ms/step - loss: 0.8162 - accuracy: 0.6630 - val_loss: 0.8089 - val_accuracy: 0.8462\n",
      "Epoch 95/128\n",
      "12/12 [==============================] - 0s 3ms/step - loss: 0.7917 - accuracy: 0.6848 - val_loss: 0.8394 - val_accuracy: 0.7692\n",
      "Epoch 96/128\n",
      "12/12 [==============================] - 0s 3ms/step - loss: 0.8442 - accuracy: 0.6630 - val_loss: 0.7317 - val_accuracy: 0.8462\n",
      "Epoch 97/128\n",
      "12/12 [==============================] - 0s 3ms/step - loss: 0.7379 - accuracy: 0.7174 - val_loss: 0.8291 - val_accuracy: 0.6923\n",
      "Epoch 98/128\n",
      "12/12 [==============================] - 0s 4ms/step - loss: 0.6701 - accuracy: 0.7826 - val_loss: 0.8310 - val_accuracy: 0.7692\n",
      "Epoch 99/128\n",
      "12/12 [==============================] - 0s 3ms/step - loss: 0.7131 - accuracy: 0.7717 - val_loss: 0.6479 - val_accuracy: 0.8462\n",
      "Epoch 100/128\n",
      "12/12 [==============================] - 0s 4ms/step - loss: 0.6409 - accuracy: 0.7826 - val_loss: 0.6364 - val_accuracy: 0.7692\n",
      "Epoch 101/128\n",
      "12/12 [==============================] - 0s 3ms/step - loss: 0.6832 - accuracy: 0.7500 - val_loss: 0.8232 - val_accuracy: 0.6923\n",
      "Epoch 102/128\n",
      "12/12 [==============================] - 0s 4ms/step - loss: 0.7951 - accuracy: 0.7283 - val_loss: 0.9773 - val_accuracy: 0.6154\n",
      "Epoch 103/128\n",
      "12/12 [==============================] - 0s 4ms/step - loss: 0.7164 - accuracy: 0.7174 - val_loss: 0.7495 - val_accuracy: 0.8462\n",
      "Epoch 104/128\n",
      "12/12 [==============================] - 0s 3ms/step - loss: 0.6251 - accuracy: 0.8043 - val_loss: 0.6646 - val_accuracy: 0.7692\n",
      "Epoch 105/128\n",
      "12/12 [==============================] - 0s 3ms/step - loss: 0.6454 - accuracy: 0.7935 - val_loss: 0.7462 - val_accuracy: 0.8462\n",
      "Epoch 106/128\n",
      "12/12 [==============================] - 0s 3ms/step - loss: 0.7036 - accuracy: 0.7391 - val_loss: 0.7642 - val_accuracy: 0.6923\n",
      "Epoch 107/128\n",
      "12/12 [==============================] - 0s 3ms/step - loss: 0.8149 - accuracy: 0.6739 - val_loss: 0.8914 - val_accuracy: 0.6923\n",
      "Epoch 108/128\n",
      "12/12 [==============================] - 0s 3ms/step - loss: 0.7424 - accuracy: 0.7283 - val_loss: 0.7548 - val_accuracy: 0.8462\n",
      "Epoch 109/128\n",
      "12/12 [==============================] - 0s 4ms/step - loss: 0.6862 - accuracy: 0.7500 - val_loss: 0.9310 - val_accuracy: 0.6923\n",
      "Epoch 110/128\n",
      "12/12 [==============================] - 0s 4ms/step - loss: 0.6792 - accuracy: 0.7609 - val_loss: 0.6374 - val_accuracy: 0.7692\n",
      "Epoch 111/128\n",
      "12/12 [==============================] - 0s 4ms/step - loss: 0.7533 - accuracy: 0.6848 - val_loss: 0.7513 - val_accuracy: 0.6923\n",
      "Epoch 112/128\n",
      "12/12 [==============================] - 0s 4ms/step - loss: 0.7521 - accuracy: 0.6848 - val_loss: 0.5660 - val_accuracy: 0.8462\n",
      "Epoch 113/128\n",
      "12/12 [==============================] - 0s 3ms/step - loss: 0.7651 - accuracy: 0.6957 - val_loss: 0.5991 - val_accuracy: 0.7692\n",
      "Epoch 114/128\n",
      "12/12 [==============================] - 0s 4ms/step - loss: 0.6921 - accuracy: 0.7609 - val_loss: 0.7790 - val_accuracy: 0.6154\n",
      "Epoch 115/128\n",
      "12/12 [==============================] - 0s 3ms/step - loss: 0.7447 - accuracy: 0.7065 - val_loss: 0.7767 - val_accuracy: 0.6923\n",
      "Epoch 116/128\n",
      "12/12 [==============================] - 0s 3ms/step - loss: 0.6646 - accuracy: 0.7717 - val_loss: 0.7611 - val_accuracy: 0.8462\n",
      "Epoch 117/128\n",
      "12/12 [==============================] - 0s 4ms/step - loss: 0.7257 - accuracy: 0.7391 - val_loss: 0.6779 - val_accuracy: 0.8462\n",
      "Epoch 118/128\n",
      "12/12 [==============================] - 0s 4ms/step - loss: 0.7368 - accuracy: 0.6957 - val_loss: 0.6816 - val_accuracy: 0.8462\n",
      "Epoch 119/128\n",
      "12/12 [==============================] - 0s 3ms/step - loss: 0.7713 - accuracy: 0.7174 - val_loss: 0.7153 - val_accuracy: 0.8462\n",
      "Epoch 120/128\n",
      "12/12 [==============================] - 0s 4ms/step - loss: 0.7578 - accuracy: 0.6739 - val_loss: 0.7353 - val_accuracy: 0.7692\n",
      "Epoch 121/128\n",
      "12/12 [==============================] - 0s 3ms/step - loss: 0.7563 - accuracy: 0.6630 - val_loss: 0.7265 - val_accuracy: 0.8462\n",
      "Epoch 122/128\n",
      "12/12 [==============================] - 0s 4ms/step - loss: 0.7092 - accuracy: 0.7609 - val_loss: 0.7310 - val_accuracy: 0.8462\n",
      "Epoch 123/128\n",
      "12/12 [==============================] - 0s 3ms/step - loss: 0.7118 - accuracy: 0.7065 - val_loss: 0.6986 - val_accuracy: 0.7692\n",
      "Epoch 124/128\n",
      "12/12 [==============================] - 0s 3ms/step - loss: 0.6587 - accuracy: 0.6848 - val_loss: 0.7638 - val_accuracy: 0.8462\n",
      "Epoch 125/128\n",
      "12/12 [==============================] - 0s 3ms/step - loss: 0.6605 - accuracy: 0.7391 - val_loss: 0.7614 - val_accuracy: 0.7692\n",
      "Epoch 126/128\n",
      "12/12 [==============================] - 0s 3ms/step - loss: 0.6651 - accuracy: 0.7826 - val_loss: 0.7048 - val_accuracy: 0.8462\n",
      "Epoch 127/128\n",
      "12/12 [==============================] - 0s 3ms/step - loss: 0.6713 - accuracy: 0.7391 - val_loss: 0.6859 - val_accuracy: 0.7692\n",
      "Epoch 128/128\n",
      "12/12 [==============================] - 0s 3ms/step - loss: 0.7416 - accuracy: 0.7174 - val_loss: 0.7047 - val_accuracy: 0.8462\n"
     ]
    }
   ],
   "source": [
    "# fit the model, store the one with the highest validation accuracy\n",
    "model_dir = 'season_prediction_model'\n",
    "model_checkpoint_callback = keras.callbacks.ModelCheckpoint(filepath=model_dir, monitor='val_accuracy',\n",
    "                                                            mode='max', save_best_only=True)\n",
    "\n",
    "hist = model.fit(data_train, target_train, validation_data=(data_val, target_val),\n",
    "                 batch_size=batch_size, epochs=epochs, callbacks=[model_checkpoint_callback])\n",
    "\n",
    "# load the best model\n",
    "model = keras.models.load_model(model_dir)"
   ]
  },
  {
   "cell_type": "markdown",
   "id": "f6f03edf-a125-4d2e-88b5-a19f348b888e",
   "metadata": {},
   "source": [
    "## Plot loss and accuracy"
   ]
  },
  {
   "cell_type": "code",
   "execution_count": 11,
   "id": "521408d6-bde2-493d-bbb1-3b130f07de5b",
   "metadata": {},
   "outputs": [
    {
     "data": {
      "image/png": "[encoded data removed]",
      "text/plain": [
       "<Figure size 432x288 with 1 Axes>"
      ]
     },
     "metadata": {
      "needs_background": "light"
     },
     "output_type": "display_data"
    },
    {
     "data": {
      "image/png": "[encoded data removed]",
      "text/plain": [
       "<Figure size 432x288 with 1 Axes>"
      ]
     },
     "metadata": {
      "needs_background": "light"
     },
     "output_type": "display_data"
    }
   ],
   "source": [
    "plt.plot(hist.epoch, hist.history['loss'], label='train')\n",
    "plt.plot(hist.epoch, hist.history['val_loss'], label='val')\n",
    "plt.legend()\n",
    "plt.xlabel('Epoch')\n",
    "plt.ylabel('Loss')\n",
    "\n",
    "plt.figure()\n",
    "plt.plot(hist.epoch, hist.history['accuracy'], label='train')\n",
    "plt.plot(hist.epoch, hist.history['val_accuracy'], label='val')\n",
    "plt.legend()\n",
    "plt.xlabel('Epoch')\n",
    "plt.ylabel('Accuracy');"
   ]
  },
  {
   "cell_type": "markdown",
   "id": "2f2a1e18-e801-4244-8c84-2db20a204ac2",
   "metadata": {},
   "source": [
    "## Run model on test set"
   ]
  },
  {
   "cell_type": "code",
   "execution_count": 12,
   "id": "6a5150d8-16e2-41ce-8fbc-b730ca344a13",
   "metadata": {},
   "outputs": [
    {
     "name": "stdout",
     "output_type": "stream",
     "text": [
      "1/1 [==============================] - 0s 135ms/step - loss: 0.9073 - accuracy: 0.8000\n",
      "Test set loss: 0.91\n",
      "Test set accuracy: 80%\n"
     ]
    }
   ],
   "source": [
    "loss, acc = model.evaluate(data_test, target_test)\n",
    "print(f'Test set loss: {loss:.2f}')\n",
    "print(f'Test set accuracy: {100*acc:.0f}%')"
   ]
  },
  {
   "cell_type": "markdown",
   "id": "d36dd89a-7e11-4a54-ae01-a7b9b5b7ce73",
   "metadata": {},
   "source": [
    "## Create confusion matrix"
   ]
  },
  {
   "cell_type": "code",
   "execution_count": 13,
   "id": "2c2f3558-f63e-4a01-a1d9-d31427cb6ee6",
   "metadata": {},
   "outputs": [
    {
     "name": "stdout",
     "output_type": "stream",
     "text": [
      "1/1 [==============================] - 0s 87ms/step\n"
     ]
    },
    {
     "data": {
      "text/plain": [
       "Text(0.5, 15.0, 'Predicted label')"
      ]
     },
     "execution_count": 13,
     "metadata": {},
     "output_type": "execute_result"
    },
    {
     "data": {
      "image/png": "[encoded data removed]",
      "text/plain": [
       "<Figure size 576x288 with 2 Axes>"
      ]
     },
     "metadata": {
      "needs_background": "light"
     },
     "output_type": "display_data"
    }
   ],
   "source": [
    "pred_test = model.predict(data_test)\n",
    "conf_mat = confusion_matrix(target_test.to_numpy().argmax(axis=1), pred_test.argmax(axis=1), normalize='true')\n",
    "plt.figure(figsize=(8, 4))\n",
    "sns.heatmap(conf_mat/conf_mat.sum(axis=1), xticklabels=classes, yticklabels=classes,\n",
    "            annot=True, fmt='.1%')\n",
    "plt.title('Confusion matrix on test data')\n",
    "plt.ylabel('True label')\n",
    "plt.xlabel('Predicted label')"
   ]
  },
  {
   "cell_type": "markdown",
   "id": "86828bbb-b9f2-4178-86a8-60ec164c46f7",
   "metadata": {},
   "source": [
    "## Convert model to ONNX format"
   ]
  },
  {
   "cell_type": "code",
   "execution_count": 14,
   "id": "c910a53a-a6c1-45f1-a5ba-5ba1f5327848",
   "metadata": {},
   "outputs": [
    {
     "name": "stdout",
     "output_type": "stream",
     "text": [
      "/Users/loostrum/pyenv/versions/3.9.1/lib/python3.9/runpy.py:127: RuntimeWarning: 'tf2onnx.convert' found in sys.modules after import of package 'tf2onnx', but prior to execution of 'tf2onnx.convert'; this may result in unpredictable behaviour\n",
      "  warn(RuntimeWarning(msg))\n",
      "/Users/loostrum/pyenv/versions/dianna/lib/python3.9/site-packages/tensorflow/python/keras/backend.py:437: UserWarning: `tf.keras.backend.set_learning_phase` is deprecated and will be removed after 2020-10-11. To update it, simply pass a True/False value to the `training` argument of the `__call__` method of your layer or model.\n",
      "  warnings.warn('`tf.keras.backend.set_learning_phase` is deprecated and '\n",
      "WARNING:tensorflow:From /Users/loostrum/pyenv/versions/dianna/lib/python3.9/site-packages/tf2onnx/tf_loader.py:706: extract_sub_graph (from tensorflow.python.framework.graph_util_impl) is deprecated and will be removed in a future version.\n",
      "Instructions for updating:\n",
      "Use `tf.compat.v1.graph_util.extract_sub_graph`\n",
      "2022-11-22 15:33:57,070 - WARNING - From /Users/loostrum/pyenv/versions/dianna/lib/python3.9/site-packages/tf2onnx/tf_loader.py:706: extract_sub_graph (from tensorflow.python.framework.graph_util_impl) is deprecated and will be removed in a future version.\n",
      "Instructions for updating:\n",
      "Use `tf.compat.v1.graph_util.extract_sub_graph`\n",
      "2022-11-22 15:33:57,091 - INFO - Using tensorflow=2.9.1, onnx=1.10.1, tf2onnx=1.9.3/1190aa\n",
      "2022-11-22 15:33:57,091 - INFO - Using opset <onnx, 9>\n",
      "2022-11-22 15:33:57,105 - INFO - Computed 0 values for constant folding\n",
      "2022-11-22 15:33:57,133 - INFO - Optimizing ONNX model\n",
      "2022-11-22 15:33:57,212 - INFO - After optimization: Const -3 (13->10), GlobalMaxPool +1 (0->1), Identity -15 (15->0), ReduceMax -1 (1->0), Squeeze +1 (2->3), Transpose -3 (4->1)\n",
      "2022-11-22 15:33:57,214 - INFO - \n",
      "2022-11-22 15:33:57,214 - INFO - Successfully converted TensorFlow model season_prediction_model to ONNX\n",
      "2022-11-22 15:33:57,214 - INFO - Model inputs: ['input_1:0']\n",
      "2022-11-22 15:33:57,214 - INFO - Model outputs: ['Identity:0']\n",
      "2022-11-22 15:33:57,214 - INFO - ONNX model is saved at season_prediction_model.onnx\n"
     ]
    }
   ],
   "source": [
    "output_file = 'season_prediction_model.onnx'\n",
    "!python -m tf2onnx.convert --keras {model_dir} --output {output_file}"
   ]
  }
 ],
 "metadata": {
  "kernelspec": {
   "display_name": "Python 3 (ipykernel)",
   "language": "python",
   "name": "python3"
  },
  "language_info": {
   "codemirror_mode": {
    "name": "ipython",
    "version": 3
   },
   "file_extension": ".py",
   "mimetype": "text/x-python",
   "name": "python",
   "nbconvert_exporter": "python",
   "pygments_lexer": "ipython3",
   "version": "3.9.1"
  }
 },
 "nbformat": 4,
 "nbformat_minor": 5
}
