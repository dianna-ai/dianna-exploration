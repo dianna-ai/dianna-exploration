{
 "cells": [
  {
   "cell_type": "markdown",
   "metadata": {},
   "source": [
    "# Penguin species classification model generation"
   ]
  },
  {
   "cell_type": "markdown",
   "metadata": {},
   "source": [
    "This notebook provides a walkthrough on creating a 2-layer neural network based classification model to classify Penguins in to three different species based on physical characteristics of the penguins. The data is obtained from the seaborn package. This is an example of a tabular data based classification model. Keras is used to create the neural network and the final model is converted and saved in ONNX format. This model is largely inspired by the [Introduction to Deep Learning](https://carpentries-incubator.github.io/deep-learning-intro/2-keras.html) carpentries lesson."
   ]
  },
  {
   "cell_type": "code",
   "execution_count": 2,
   "metadata": {},
   "outputs": [],
   "source": [
    "import seaborn as sns\n",
    "import pandas as pd"
   ]
  },
  {
   "cell_type": "markdown",
   "metadata": {},
   "source": [
    "### Load the dataset"
   ]
  },
  {
   "cell_type": "code",
   "execution_count": 3,
   "metadata": {},
   "outputs": [],
   "source": [
    "penguins = sns.load_dataset('penguins')"
   ]
  },
  {
   "cell_type": "markdown",
   "metadata": {},
   "source": [
    "## Prepare the data"
   ]
  },
  {
   "cell_type": "code",
   "execution_count": 4,
   "metadata": {},
   "outputs": [],
   "source": [
    "# Remove categorial columns and NaN values\n",
    "penguins_filtered = penguins.drop(columns=['island', 'sex']).dropna()"
   ]
  },
  {
   "cell_type": "code",
   "execution_count": 5,
   "metadata": {},
   "outputs": [],
   "source": [
    "# Extract inputs and target\n",
    "input_features = penguins_filtered.drop(columns=['species'])\n",
    "target = pd.get_dummies(penguins_filtered['species'])"
   ]
  },
  {
   "cell_type": "code",
   "execution_count": 6,
   "metadata": {},
   "outputs": [
    {
     "data": {
      "text/html": [
       "<div>\n",
       "<style scoped>\n",
       "    .dataframe tbody tr th:only-of-type {\n",
       "        vertical-align: middle;\n",
       "    }\n",
       "\n",
       "    .dataframe tbody tr th {\n",
       "        vertical-align: top;\n",
       "    }\n",
       "\n",
       "    .dataframe thead th {\n",
       "        text-align: right;\n",
       "    }\n",
       "</style>\n",
       "<table border=\"1\" class=\"dataframe\">\n",
       "  <thead>\n",
       "    <tr style=\"text-align: right;\">\n",
       "      <th></th>\n",
       "      <th>bill_length_mm</th>\n",
       "      <th>bill_depth_mm</th>\n",
       "      <th>flipper_length_mm</th>\n",
       "      <th>body_mass_g</th>\n",
       "    </tr>\n",
       "  </thead>\n",
       "  <tbody>\n",
       "    <tr>\n",
       "      <th>0</th>\n",
       "      <td>39.1</td>\n",
       "      <td>18.7</td>\n",
       "      <td>181.0</td>\n",
       "      <td>3750.0</td>\n",
       "    </tr>\n",
       "    <tr>\n",
       "      <th>1</th>\n",
       "      <td>39.5</td>\n",
       "      <td>17.4</td>\n",
       "      <td>186.0</td>\n",
       "      <td>3800.0</td>\n",
       "    </tr>\n",
       "    <tr>\n",
       "      <th>2</th>\n",
       "      <td>40.3</td>\n",
       "      <td>18.0</td>\n",
       "      <td>195.0</td>\n",
       "      <td>3250.0</td>\n",
       "    </tr>\n",
       "    <tr>\n",
       "      <th>4</th>\n",
       "      <td>36.7</td>\n",
       "      <td>19.3</td>\n",
       "      <td>193.0</td>\n",
       "      <td>3450.0</td>\n",
       "    </tr>\n",
       "    <tr>\n",
       "      <th>5</th>\n",
       "      <td>39.3</td>\n",
       "      <td>20.6</td>\n",
       "      <td>190.0</td>\n",
       "      <td>3650.0</td>\n",
       "    </tr>\n",
       "    <tr>\n",
       "      <th>...</th>\n",
       "      <td>...</td>\n",
       "      <td>...</td>\n",
       "      <td>...</td>\n",
       "      <td>...</td>\n",
       "    </tr>\n",
       "    <tr>\n",
       "      <th>338</th>\n",
       "      <td>47.2</td>\n",
       "      <td>13.7</td>\n",
       "      <td>214.0</td>\n",
       "      <td>4925.0</td>\n",
       "    </tr>\n",
       "    <tr>\n",
       "      <th>340</th>\n",
       "      <td>46.8</td>\n",
       "      <td>14.3</td>\n",
       "      <td>215.0</td>\n",
       "      <td>4850.0</td>\n",
       "    </tr>\n",
       "    <tr>\n",
       "      <th>341</th>\n",
       "      <td>50.4</td>\n",
       "      <td>15.7</td>\n",
       "      <td>222.0</td>\n",
       "      <td>5750.0</td>\n",
       "    </tr>\n",
       "    <tr>\n",
       "      <th>342</th>\n",
       "      <td>45.2</td>\n",
       "      <td>14.8</td>\n",
       "      <td>212.0</td>\n",
       "      <td>5200.0</td>\n",
       "    </tr>\n",
       "    <tr>\n",
       "      <th>343</th>\n",
       "      <td>49.9</td>\n",
       "      <td>16.1</td>\n",
       "      <td>213.0</td>\n",
       "      <td>5400.0</td>\n",
       "    </tr>\n",
       "  </tbody>\n",
       "</table>\n",
       "<p>342 rows × 4 columns</p>\n",
       "</div>"
      ],
      "text/plain": [
       "     bill_length_mm  bill_depth_mm  flipper_length_mm  body_mass_g\n",
       "0              39.1           18.7              181.0       3750.0\n",
       "1              39.5           17.4              186.0       3800.0\n",
       "2              40.3           18.0              195.0       3250.0\n",
       "4              36.7           19.3              193.0       3450.0\n",
       "5              39.3           20.6              190.0       3650.0\n",
       "..              ...            ...                ...          ...\n",
       "338            47.2           13.7              214.0       4925.0\n",
       "340            46.8           14.3              215.0       4850.0\n",
       "341            50.4           15.7              222.0       5750.0\n",
       "342            45.2           14.8              212.0       5200.0\n",
       "343            49.9           16.1              213.0       5400.0\n",
       "\n",
       "[342 rows x 4 columns]"
      ]
     },
     "execution_count": 6,
     "metadata": {},
     "output_type": "execute_result"
    }
   ],
   "source": [
    "# Let's explore the features of the dataset\n",
    "input_features"
   ]
  },
  {
   "cell_type": "markdown",
   "metadata": {},
   "source": [
    "The data-set currently has four features that will be used to train the model: bill length, bill depth, flipper length, and body mass. These features will be used to classify the different species."
   ]
  },
  {
   "cell_type": "markdown",
   "metadata": {},
   "source": [
    "## Training and test data split"
   ]
  },
  {
   "cell_type": "code",
   "execution_count": 5,
   "metadata": {},
   "outputs": [],
   "source": [
    "from sklearn.model_selection import train_test_split\n",
    "\n",
    "X_train, X_test, y_train, y_test = train_test_split(input_features, target, test_size=0.2, random_state=0, shuffle=True, stratify=target)"
   ]
  },
  {
   "cell_type": "markdown",
   "metadata": {},
   "source": [
    "## Build & Compile Keras Model"
   ]
  },
  {
   "cell_type": "code",
   "execution_count": 6,
   "metadata": {},
   "outputs": [
    {
     "name": "stderr",
     "output_type": "stream",
     "text": [
      "2023-11-08 10:58:27.399381: I tensorflow/core/util/port.cc:110] oneDNN custom operations are on. You may see slightly different numerical results due to floating-point round-off errors from different computation orders. To turn them off, set the environment variable `TF_ENABLE_ONEDNN_OPTS=0`.\n",
      "2023-11-08 10:58:27.401086: I tensorflow/tsl/cuda/cudart_stub.cc:28] Could not find cuda drivers on your machine, GPU will not be used.\n",
      "2023-11-08 10:58:27.438268: I tensorflow/tsl/cuda/cudart_stub.cc:28] Could not find cuda drivers on your machine, GPU will not be used.\n",
      "2023-11-08 10:58:27.439863: I tensorflow/core/platform/cpu_feature_guard.cc:182] This TensorFlow binary is optimized to use available CPU instructions in performance-critical operations.\n",
      "To enable the following instructions: AVX2 AVX512F AVX512_VNNI FMA, in other operations, rebuild TensorFlow with the appropriate compiler flags.\n",
      "2023-11-08 10:58:28.114692: W tensorflow/compiler/tf2tensorrt/utils/py_utils.cc:38] TF-TRT Warning: Could not find TensorRT\n"
     ]
    },
    {
     "name": "stdout",
     "output_type": "stream",
     "text": [
      "Model: \"model\"\n",
      "_________________________________________________________________\n",
      " Layer (type)                Output Shape              Param #   \n",
      "=================================================================\n",
      " input_1 (InputLayer)        [(None, 4)]               0         \n",
      "                                                                 \n",
      " dense (Dense)               (None, 10)                50        \n",
      "                                                                 \n",
      " dense_1 (Dense)             (None, 3)                 33        \n",
      "                                                                 \n",
      "=================================================================\n",
      "Total params: 83\n",
      "Trainable params: 83\n",
      "Non-trainable params: 0\n",
      "_________________________________________________________________\n"
     ]
    }
   ],
   "source": [
    "from tensorflow import keras\n",
    "\n",
    "def penguin_model():\n",
    "    # Input layer\n",
    "    inputs = keras.Input(shape=X_train.shape[1])\n",
    "\n",
    "    # 1st hidden fully connected layer\n",
    "    hidden_layer = keras.layers.Dense(10, activation=\"relu\")(inputs)\n",
    "\n",
    "    # Output layer\n",
    "    output_layer = keras.layers.Dense(3, activation=\"softmax\")(hidden_layer)\n",
    "\n",
    "    # Create model\n",
    "    model = keras.Model(inputs=inputs, outputs=output_layer)\n",
    "    return model\n",
    "\n",
    "model = penguin_model()\n",
    "model.summary()"
   ]
  },
  {
   "cell_type": "code",
   "execution_count": 7,
   "metadata": {},
   "outputs": [],
   "source": [
    "# Compile model\n",
    "model.compile(optimizer='adam', loss=keras.losses.CategoricalCrossentropy())"
   ]
  },
  {
   "cell_type": "markdown",
   "metadata": {},
   "source": [
    "## Train the model"
   ]
  },
  {
   "cell_type": "code",
   "execution_count": 8,
   "metadata": {},
   "outputs": [
    {
     "name": "stdout",
     "output_type": "stream",
     "text": [
      "Epoch 1/100\n",
      "9/9 [==============================] - 0s 2ms/step - loss: 2614.4949\n",
      "Epoch 2/100\n",
      "9/9 [==============================] - 0s 2ms/step - loss: 2447.2056\n",
      "Epoch 3/100\n",
      "9/9 [==============================] - 0s 2ms/step - loss: 2282.9285\n",
      "Epoch 4/100\n",
      "9/9 [==============================] - 0s 2ms/step - loss: 2127.1621\n",
      "Epoch 5/100\n",
      "9/9 [==============================] - 0s 2ms/step - loss: 1979.8400\n",
      "Epoch 6/100\n",
      "9/9 [==============================] - 0s 2ms/step - loss: 1837.2648\n",
      "Epoch 7/100\n",
      "9/9 [==============================] - 0s 2ms/step - loss: 1695.2177\n",
      "Epoch 8/100\n",
      "9/9 [==============================] - 0s 2ms/step - loss: 1559.1316\n",
      "Epoch 9/100\n",
      "9/9 [==============================] - 0s 2ms/step - loss: 1429.3796\n",
      "Epoch 10/100\n",
      "9/9 [==============================] - 0s 2ms/step - loss: 1305.7759\n",
      "Epoch 11/100\n",
      "9/9 [==============================] - 0s 2ms/step - loss: 1197.8348\n",
      "Epoch 12/100\n",
      "9/9 [==============================] - 0s 2ms/step - loss: 1089.3776\n",
      "Epoch 13/100\n",
      "9/9 [==============================] - 0s 2ms/step - loss: 982.3984\n",
      "Epoch 14/100\n",
      "9/9 [==============================] - 0s 2ms/step - loss: 875.5032\n",
      "Epoch 15/100\n",
      "9/9 [==============================] - 0s 2ms/step - loss: 773.2490\n",
      "Epoch 16/100\n",
      "9/9 [==============================] - 0s 2ms/step - loss: 669.1313\n",
      "Epoch 17/100\n",
      "9/9 [==============================] - 0s 2ms/step - loss: 564.7741\n",
      "Epoch 18/100\n",
      "9/9 [==============================] - 0s 2ms/step - loss: 460.8901\n",
      "Epoch 19/100\n",
      "9/9 [==============================] - 0s 2ms/step - loss: 360.9467\n",
      "Epoch 20/100\n",
      "9/9 [==============================] - 0s 2ms/step - loss: 267.1800\n",
      "Epoch 21/100\n",
      "9/9 [==============================] - 0s 2ms/step - loss: 173.0967\n",
      "Epoch 22/100\n",
      "9/9 [==============================] - 0s 2ms/step - loss: 85.9785\n",
      "Epoch 23/100\n",
      "9/9 [==============================] - 0s 2ms/step - loss: 41.8630\n",
      "Epoch 24/100\n",
      "9/9 [==============================] - 0s 2ms/step - loss: 15.6703\n",
      "Epoch 25/100\n",
      "9/9 [==============================] - 0s 2ms/step - loss: 11.2629\n",
      "Epoch 26/100\n",
      "9/9 [==============================] - 0s 2ms/step - loss: 8.2318\n",
      "Epoch 27/100\n",
      "9/9 [==============================] - 0s 2ms/step - loss: 6.3283\n",
      "Epoch 28/100\n",
      "9/9 [==============================] - 0s 2ms/step - loss: 4.4099\n",
      "Epoch 29/100\n",
      "9/9 [==============================] - 0s 2ms/step - loss: 3.4503\n",
      "Epoch 30/100\n",
      "9/9 [==============================] - 0s 2ms/step - loss: 2.8868\n",
      "Epoch 31/100\n",
      "9/9 [==============================] - 0s 2ms/step - loss: 2.1461\n",
      "Epoch 32/100\n",
      "9/9 [==============================] - 0s 2ms/step - loss: 2.0736\n",
      "Epoch 33/100\n",
      "9/9 [==============================] - 0s 1ms/step - loss: 2.0180\n",
      "Epoch 34/100\n",
      "9/9 [==============================] - 0s 2ms/step - loss: 1.9660\n",
      "Epoch 35/100\n",
      "9/9 [==============================] - 0s 2ms/step - loss: 1.8381\n",
      "Epoch 36/100\n",
      "9/9 [==============================] - 0s 2ms/step - loss: 1.7701\n",
      "Epoch 37/100\n",
      "9/9 [==============================] - 0s 2ms/step - loss: 1.9430\n",
      "Epoch 38/100\n",
      "9/9 [==============================] - 0s 2ms/step - loss: 1.8492\n",
      "Epoch 39/100\n",
      "9/9 [==============================] - 0s 2ms/step - loss: 1.7928\n",
      "Epoch 40/100\n",
      "9/9 [==============================] - 0s 2ms/step - loss: 1.6904\n",
      "Epoch 41/100\n",
      "9/9 [==============================] - 0s 2ms/step - loss: 1.8181\n",
      "Epoch 42/100\n",
      "9/9 [==============================] - 0s 2ms/step - loss: 1.8263\n",
      "Epoch 43/100\n",
      "9/9 [==============================] - 0s 2ms/step - loss: 1.8680\n",
      "Epoch 44/100\n",
      "9/9 [==============================] - 0s 2ms/step - loss: 1.8965\n",
      "Epoch 45/100\n",
      "9/9 [==============================] - 0s 2ms/step - loss: 1.9710\n",
      "Epoch 46/100\n",
      "9/9 [==============================] - 0s 2ms/step - loss: 1.7873\n",
      "Epoch 47/100\n",
      "9/9 [==============================] - 0s 2ms/step - loss: 1.9034\n",
      "Epoch 48/100\n",
      "9/9 [==============================] - 0s 1ms/step - loss: 1.6762\n",
      "Epoch 49/100\n",
      "9/9 [==============================] - 0s 1ms/step - loss: 1.5788\n",
      "Epoch 50/100\n",
      "9/9 [==============================] - 0s 2ms/step - loss: 1.6253\n",
      "Epoch 51/100\n",
      "9/9 [==============================] - 0s 2ms/step - loss: 1.7291\n",
      "Epoch 52/100\n",
      "9/9 [==============================] - 0s 2ms/step - loss: 1.5710\n",
      "Epoch 53/100\n",
      "9/9 [==============================] - 0s 2ms/step - loss: 1.7250\n",
      "Epoch 54/100\n",
      "9/9 [==============================] - 0s 2ms/step - loss: 1.7101\n",
      "Epoch 55/100\n",
      "9/9 [==============================] - 0s 2ms/step - loss: 1.6812\n",
      "Epoch 56/100\n",
      "9/9 [==============================] - 0s 2ms/step - loss: 1.4652\n",
      "Epoch 57/100\n",
      "9/9 [==============================] - 0s 2ms/step - loss: 1.5203\n",
      "Epoch 58/100\n",
      "9/9 [==============================] - 0s 2ms/step - loss: 1.6041\n",
      "Epoch 59/100\n",
      "9/9 [==============================] - 0s 2ms/step - loss: 1.6400\n",
      "Epoch 60/100\n",
      "9/9 [==============================] - 0s 2ms/step - loss: 1.7076\n",
      "Epoch 61/100\n",
      "9/9 [==============================] - 0s 2ms/step - loss: 1.6144\n",
      "Epoch 62/100\n",
      "9/9 [==============================] - 0s 2ms/step - loss: 1.6527\n",
      "Epoch 63/100\n",
      "9/9 [==============================] - 0s 2ms/step - loss: 1.6723\n",
      "Epoch 64/100\n",
      "9/9 [==============================] - 0s 2ms/step - loss: 1.6965\n",
      "Epoch 65/100\n",
      "9/9 [==============================] - 0s 2ms/step - loss: 1.6460\n",
      "Epoch 66/100\n",
      "9/9 [==============================] - 0s 2ms/step - loss: 1.4443\n",
      "Epoch 67/100\n",
      "9/9 [==============================] - 0s 2ms/step - loss: 1.4390\n",
      "Epoch 68/100\n",
      "9/9 [==============================] - 0s 2ms/step - loss: 1.4078\n",
      "Epoch 69/100\n",
      "9/9 [==============================] - 0s 2ms/step - loss: 1.5376\n",
      "Epoch 70/100\n",
      "9/9 [==============================] - 0s 2ms/step - loss: 1.5338\n",
      "Epoch 71/100\n",
      "9/9 [==============================] - 0s 2ms/step - loss: 1.3230\n",
      "Epoch 72/100\n",
      "9/9 [==============================] - 0s 2ms/step - loss: 1.4198\n",
      "Epoch 73/100\n",
      "9/9 [==============================] - 0s 2ms/step - loss: 1.6364\n",
      "Epoch 74/100\n",
      "9/9 [==============================] - 0s 2ms/step - loss: 1.8016\n",
      "Epoch 75/100\n",
      "9/9 [==============================] - 0s 2ms/step - loss: 1.9422\n",
      "Epoch 76/100\n",
      "9/9 [==============================] - 0s 2ms/step - loss: 2.0305\n",
      "Epoch 77/100\n",
      "9/9 [==============================] - 0s 2ms/step - loss: 1.6709\n",
      "Epoch 78/100\n",
      "9/9 [==============================] - 0s 2ms/step - loss: 1.4805\n",
      "Epoch 79/100\n",
      "9/9 [==============================] - 0s 2ms/step - loss: 1.2524\n",
      "Epoch 80/100\n",
      "9/9 [==============================] - 0s 2ms/step - loss: 1.5421\n",
      "Epoch 81/100\n",
      "9/9 [==============================] - 0s 2ms/step - loss: 1.5019\n",
      "Epoch 82/100\n",
      "9/9 [==============================] - 0s 2ms/step - loss: 1.3878\n",
      "Epoch 83/100\n",
      "9/9 [==============================] - 0s 2ms/step - loss: 1.3017\n",
      "Epoch 84/100\n",
      "9/9 [==============================] - 0s 2ms/step - loss: 1.1768\n",
      "Epoch 85/100\n",
      "9/9 [==============================] - 0s 2ms/step - loss: 1.2685\n",
      "Epoch 86/100\n",
      "9/9 [==============================] - 0s 3ms/step - loss: 1.2024\n",
      "Epoch 87/100\n",
      "9/9 [==============================] - 0s 3ms/step - loss: 1.1592\n",
      "Epoch 88/100\n",
      "9/9 [==============================] - 0s 2ms/step - loss: 1.1559\n",
      "Epoch 89/100\n",
      "9/9 [==============================] - 0s 2ms/step - loss: 1.1074\n",
      "Epoch 90/100\n",
      "9/9 [==============================] - 0s 2ms/step - loss: 1.1453\n",
      "Epoch 91/100\n",
      "9/9 [==============================] - 0s 2ms/step - loss: 1.2158\n",
      "Epoch 92/100\n",
      "9/9 [==============================] - 0s 2ms/step - loss: 1.1032\n",
      "Epoch 93/100\n",
      "9/9 [==============================] - 0s 2ms/step - loss: 1.3457\n",
      "Epoch 94/100\n",
      "9/9 [==============================] - 0s 2ms/step - loss: 1.1118\n",
      "Epoch 95/100\n",
      "9/9 [==============================] - 0s 2ms/step - loss: 1.1476\n",
      "Epoch 96/100\n",
      "9/9 [==============================] - 0s 2ms/step - loss: 1.1777\n",
      "Epoch 97/100\n",
      "9/9 [==============================] - 0s 2ms/step - loss: 1.3610\n",
      "Epoch 98/100\n",
      "9/9 [==============================] - 0s 2ms/step - loss: 1.0534\n",
      "Epoch 99/100\n",
      "9/9 [==============================] - 0s 2ms/step - loss: 1.1502\n",
      "Epoch 100/100\n",
      "9/9 [==============================] - 0s 2ms/step - loss: 1.2456\n"
     ]
    }
   ],
   "source": [
    "history = model.fit(X_train, y_train, epochs=100)"
   ]
  },
  {
   "cell_type": "markdown",
   "metadata": {},
   "source": [
    "## Test the model"
   ]
  },
  {
   "cell_type": "code",
   "execution_count": 9,
   "metadata": {},
   "outputs": [
    {
     "name": "stdout",
     "output_type": "stream",
     "text": [
      "3/3 [==============================] - 0s 3ms/step\n"
     ]
    }
   ],
   "source": [
    "y_pred = model.predict(X_test)\n",
    "prediction = pd.DataFrame(y_pred, columns=target.columns)\n",
    "predicted_species = prediction.idxmax(axis=\"columns\")"
   ]
  },
  {
   "cell_type": "code",
   "execution_count": 10,
   "metadata": {},
   "outputs": [
    {
     "data": {
      "text/plain": [
       "<Axes: xlabel='Predicted Label', ylabel='True Label'>"
      ]
     },
     "execution_count": 10,
     "metadata": {},
     "output_type": "execute_result"
    },
    {
     "data": {
      "image/png": "[encoded data removed]",
      "text/plain": [
       "<Figure size 640x480 with 2 Axes>"
      ]
     },
     "metadata": {},
     "output_type": "display_data"
    }
   ],
   "source": [
    "# Confusion Matrix\n",
    "\n",
    "from sklearn.metrics import confusion_matrix\n",
    "\n",
    "true_species = y_test.idxmax(axis=\"columns\")\n",
    "\n",
    "matrix = confusion_matrix(true_species, predicted_species)\n",
    "\n",
    "# Convert to a pandas dataframe\n",
    "confusion_df = pd.DataFrame(matrix, index=y_test.columns.values, columns=y_test.columns.values)\n",
    "\n",
    "# Set the names of the x and y axis, this helps with the readability of the heatmap.\n",
    "confusion_df.index.name = 'True Label'\n",
    "confusion_df.columns.name = 'Predicted Label'\n",
    "\n",
    "sns.heatmap(confusion_df, annot=True)"
   ]
  },
  {
   "cell_type": "markdown",
   "metadata": {},
   "source": [
    "## Convert to ONNX and save model"
   ]
  },
  {
   "cell_type": "code",
   "execution_count": 11,
   "metadata": {},
   "outputs": [
    {
     "name": "stderr",
     "output_type": "stream",
     "text": [
      "2023-11-08 10:58:43.083279: I tensorflow/core/grappler/devices.cc:66] Number of eligible GPUs (core count >= 8, compute capability >= 0.0): 0\n",
      "2023-11-08 10:58:43.083488: I tensorflow/core/grappler/clusters/single_machine.cc:358] Starting new session\n",
      "2023-11-08 10:58:43.104968: I tensorflow/core/grappler/devices.cc:66] Number of eligible GPUs (core count >= 8, compute capability >= 0.0): 0\n",
      "2023-11-08 10:58:43.105238: I tensorflow/core/grappler/clusters/single_machine.cc:358] Starting new session\n"
     ]
    },
    {
     "data": {
      "text/plain": [
       "(ir_version: 7\n",
       " producer_name: \"tf2onnx\"\n",
       " producer_version: \"1.15.1 12a3ba\"\n",
       " graph {\n",
       "   node {\n",
       "     input: \"input_1\"\n",
       "     input: \"model/dense/MatMul/ReadVariableOp:0\"\n",
       "     output: \"model/dense/MatMul:0\"\n",
       "     name: \"model/dense/MatMul\"\n",
       "     op_type: \"MatMul\"\n",
       "   }\n",
       "   node {\n",
       "     input: \"model/dense/MatMul:0\"\n",
       "     input: \"model/dense/BiasAdd/ReadVariableOp:0\"\n",
       "     output: \"model/dense/BiasAdd:0\"\n",
       "     name: \"model/dense/BiasAdd\"\n",
       "     op_type: \"Add\"\n",
       "   }\n",
       "   node {\n",
       "     input: \"model/dense/BiasAdd:0\"\n",
       "     output: \"model/dense/Relu:0\"\n",
       "     name: \"model/dense/Relu\"\n",
       "     op_type: \"Relu\"\n",
       "   }\n",
       "   node {\n",
       "     input: \"model/dense/Relu:0\"\n",
       "     input: \"model/dense_1/MatMul/ReadVariableOp:0\"\n",
       "     output: \"model/dense_1/MatMul:0\"\n",
       "     name: \"model/dense_1/MatMul\"\n",
       "     op_type: \"MatMul\"\n",
       "   }\n",
       "   node {\n",
       "     input: \"model/dense_1/MatMul:0\"\n",
       "     input: \"model/dense_1/BiasAdd/ReadVariableOp:0\"\n",
       "     output: \"model/dense_1/BiasAdd:0\"\n",
       "     name: \"model/dense_1/BiasAdd\"\n",
       "     op_type: \"Add\"\n",
       "   }\n",
       "   node {\n",
       "     input: \"model/dense_1/BiasAdd:0\"\n",
       "     output: \"dense_1\"\n",
       "     name: \"model/dense_1/Softmax\"\n",
       "     op_type: \"Softmax\"\n",
       "   }\n",
       "   name: \"tf2onnx\"\n",
       "   initializer {\n",
       "     dims: 10\n",
       "     dims: 3\n",
       "     data_type: 1\n",
       "     name: \"model/dense_1/MatMul/ReadVariableOp:0\"\n",
       "     raw_data: \"\\014\\214\\004\\277\\357\\275\\306\\275l\\361\\346>\\362\\306\\342\\276\\241\\236\\321\\276}9\\023\\277\\030\\306\\311=P\\237\\263>P\\322T=\\247V\\212<\\313!\\306=\\355\\240\\230\\276\\211_t\\276~\\362\\267\\276\\034\\034\\276>\\240i<\\275\\316\\027\\004?l\\001\\037\\276u\\370\\306\\276\\2470\\361\\276\\334\\021M>c\\t\\242>O\\0254?\\367N\\311>\\037^\\347\\276\\345V\\000\\277\\002>\\004\\277\\303U[>\\r@\\350\\275R\\331\\343>\"\n",
       "   }\n",
       "   initializer {\n",
       "     dims: 3\n",
       "     data_type: 1\n",
       "     name: \"model/dense_1/BiasAdd/ReadVariableOp:0\"\n",
       "     raw_data: \"j\\2378>j\\323\\216>r\\316n\\276\"\n",
       "   }\n",
       "   initializer {\n",
       "     dims: 4\n",
       "     dims: 10\n",
       "     data_type: 1\n",
       "     name: \"model/dense/MatMul/ReadVariableOp:0\"\n",
       "     raw_data: \"\\255\\372\\307>*8#?@\\336\\322\\276T:\\217>J\\300G\\276f5j\\276\\364\\257\\013\\277\\276\\024\\245\\276/\\234\\213\\276x_T\\277D.\\203=\\004\\275\\017\\276\\264\\227\\364>Av6>\\013\\371\\237>\\270\\375\\333\\275\\006L\\315\\276\\371R\\232\\275&\\312\\203\\276\\235\\034\\021\\275\\267\\244\\257\\276s\\241\\316\\2764D\\373\\276O\\237\\342>\\201\\'\\347>9\\261\\002\\277D\\311\\374\\276\\236H\\253\\276`\\300\\360\\275wk$>\\302\\306U;\\300\\340M\\274Nq\\343\\276\\361q??\\277#\\202>b2\\257\\276W\\336!=\\200L(>\\024i\\017\\277\\027-\\204>\"\n",
       "   }\n",
       "   initializer {\n",
       "     dims: 10\n",
       "     data_type: 1\n",
       "     name: \"model/dense/BiasAdd/ReadVariableOp:0\"\n",
       "     raw_data: \"\\326K\\266\\275\\000\\000\\000\\000\\000\\000\\000\\000\\220{\\202>2\\336\\\\\\276\\000\\000\\000\\000\\017\\2012\\276\\363\\364\\031\\275\\000\\000\\000\\000\\007\\377_\\276\"\n",
       "   }\n",
       "   doc_string: \"converted from model\"\n",
       "   input {\n",
       "     name: \"input_1\"\n",
       "     type {\n",
       "       tensor_type {\n",
       "         elem_type: 1\n",
       "         shape {\n",
       "           dim {\n",
       "             dim_param: \"unk__6\"\n",
       "           }\n",
       "           dim {\n",
       "             dim_value: 4\n",
       "           }\n",
       "         }\n",
       "       }\n",
       "     }\n",
       "   }\n",
       "   output {\n",
       "     name: \"dense_1\"\n",
       "     type {\n",
       "       tensor_type {\n",
       "         elem_type: 1\n",
       "         shape {\n",
       "           dim {\n",
       "             dim_param: \"unk__7\"\n",
       "           }\n",
       "           dim {\n",
       "             dim_value: 3\n",
       "           }\n",
       "         }\n",
       "       }\n",
       "     }\n",
       "   }\n",
       " }\n",
       " opset_import {\n",
       "   domain: \"\"\n",
       "   version: 13\n",
       " }\n",
       " opset_import {\n",
       "   domain: \"ai.onnx.ml\"\n",
       "   version: 2\n",
       " },\n",
       " None)"
      ]
     },
     "execution_count": 11,
     "metadata": {},
     "output_type": "execute_result"
    }
   ],
   "source": [
    "import tf2onnx\n",
    "\n",
    "output_path = 'penguin_model.onnx'\n",
    "tf2onnx.convert.from_keras(model, opset=13, output_path=output_path)"
   ]
  },
  {
   "cell_type": "markdown",
   "metadata": {},
   "source": [
    "## Test the saved ONNX model"
   ]
  },
  {
   "cell_type": "code",
   "execution_count": 12,
   "metadata": {},
   "outputs": [
    {
     "name": "stdout",
     "output_type": "stream",
     "text": [
      "9/9 [==============================] - 0s 2ms/step\n",
      "True\n"
     ]
    }
   ],
   "source": [
    "from dianna.utils.onnx_runner import SimpleModelRunner\n",
    "import numpy as np\n",
    "loaded_model = SimpleModelRunner(output_path)\n",
    "penguin_train_x_numpy = X_train.to_numpy().astype(np.float32)\n",
    "predictions = loaded_model(penguin_train_x_numpy)\n",
    "print(np.allclose(model.predict(penguin_train_x_numpy), predictions))\n"
   ]
  }
 ],
 "metadata": {
  "kernelspec": {
   "display_name": "dl_wkshop",
   "language": "python",
   "name": "python3"
  },
  "language_info": {
   "codemirror_mode": {
    "name": "ipython",
    "version": 3
   },
   "file_extension": ".py",
   "mimetype": "text/x-python",
   "name": "python",
   "nbconvert_exporter": "python",
   "pygments_lexer": "ipython3",
   "version": "3.10.11"
  }
 },
 "nbformat": 4,
 "nbformat_minor": 2
}
