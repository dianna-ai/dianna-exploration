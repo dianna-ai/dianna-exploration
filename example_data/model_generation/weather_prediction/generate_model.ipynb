{
 "cells": [
  {
   "cell_type": "markdown",
   "id": "9c46486a-fdb7-41be-b1f1-2744e7733d58",
   "metadata": {},
   "source": [
    "## Model generation for weather prediction dataset\n",
    "In this notebook we create a neural network for weather prediction using [this](https://zenodo.org/record/7053722) dataset.  \n",
    "The model will be used to explore timeseries-based explainable AI methods.  "
   ]
  },
  {
   "cell_type": "code",
   "execution_count": 1,
   "id": "7d5db394-dff6-4c99-81ca-a74942a53cc3",
   "metadata": {},
   "outputs": [],
   "source": [
    "import os\n",
    "import pandas as pd\n",
    "import numpy as np\n",
    "import matplotlib.pyplot as plt\n",
    "from tensorflow import keras\n",
    "from tensorflow.random import set_seed\n",
    "from sklearn.model_selection import train_test_split\n",
    "from sklearn.metrics import confusion_matrix\n",
    "import seaborn as sns"
   ]
  },
  {
   "cell_type": "code",
   "execution_count": 2,
   "id": "b5888ff9-c8ba-4492-9645-2fdb92da64d3",
   "metadata": {},
   "outputs": [],
   "source": [
    "np.random.seed(42)\n",
    "set_seed(42)"
   ]
  },
  {
   "cell_type": "markdown",
   "id": "f75691e5-793f-4ca5-bff6-6664cf2e22cf",
   "metadata": {},
   "source": [
    "## Load the data, either locally or a direct download from Zenodo"
   ]
  },
  {
   "cell_type": "code",
   "execution_count": 3,
   "id": "136ef4dd-668e-4a73-bc57-499d8266f38b",
   "metadata": {},
   "outputs": [
    {
     "data": {
      "text/html": [
       "<div>\n",
       "<style scoped>\n",
       "    .dataframe tbody tr th:only-of-type {\n",
       "        vertical-align: middle;\n",
       "    }\n",
       "\n",
       "    .dataframe tbody tr th {\n",
       "        vertical-align: top;\n",
       "    }\n",
       "\n",
       "    .dataframe thead th {\n",
       "        text-align: right;\n",
       "    }\n",
       "</style>\n",
       "<table border=\"1\" class=\"dataframe\">\n",
       "  <thead>\n",
       "    <tr style=\"text-align: right;\">\n",
       "      <th></th>\n",
       "      <th>DATE</th>\n",
       "      <th>MONTH</th>\n",
       "      <th>BASEL_cloud_cover</th>\n",
       "      <th>BASEL_humidity</th>\n",
       "      <th>BASEL_pressure</th>\n",
       "      <th>BASEL_global_radiation</th>\n",
       "      <th>BASEL_precipitation</th>\n",
       "      <th>BASEL_sunshine</th>\n",
       "      <th>BASEL_temp_mean</th>\n",
       "      <th>BASEL_temp_min</th>\n",
       "      <th>...</th>\n",
       "      <th>SONNBLICK_temp_mean</th>\n",
       "      <th>SONNBLICK_temp_min</th>\n",
       "      <th>SONNBLICK_temp_max</th>\n",
       "      <th>TOURS_humidity</th>\n",
       "      <th>TOURS_pressure</th>\n",
       "      <th>TOURS_global_radiation</th>\n",
       "      <th>TOURS_precipitation</th>\n",
       "      <th>TOURS_temp_mean</th>\n",
       "      <th>TOURS_temp_min</th>\n",
       "      <th>TOURS_temp_max</th>\n",
       "    </tr>\n",
       "  </thead>\n",
       "  <tbody>\n",
       "    <tr>\n",
       "      <th>count</th>\n",
       "      <td>3.654000e+03</td>\n",
       "      <td>3654.000000</td>\n",
       "      <td>3654.000000</td>\n",
       "      <td>3654.000000</td>\n",
       "      <td>3654.000000</td>\n",
       "      <td>3654.000000</td>\n",
       "      <td>3654.000000</td>\n",
       "      <td>3654.000000</td>\n",
       "      <td>3654.000000</td>\n",
       "      <td>3654.000000</td>\n",
       "      <td>...</td>\n",
       "      <td>3654.000000</td>\n",
       "      <td>3654.000000</td>\n",
       "      <td>3654.000000</td>\n",
       "      <td>3654.000000</td>\n",
       "      <td>3654.000000</td>\n",
       "      <td>3654.000000</td>\n",
       "      <td>3654.000000</td>\n",
       "      <td>3654.000000</td>\n",
       "      <td>3654.000000</td>\n",
       "      <td>3654.000000</td>\n",
       "    </tr>\n",
       "    <tr>\n",
       "      <th>mean</th>\n",
       "      <td>2.004568e+07</td>\n",
       "      <td>6.520799</td>\n",
       "      <td>5.418446</td>\n",
       "      <td>0.745107</td>\n",
       "      <td>1.017876</td>\n",
       "      <td>1.330380</td>\n",
       "      <td>0.234849</td>\n",
       "      <td>4.661193</td>\n",
       "      <td>11.022797</td>\n",
       "      <td>6.989135</td>\n",
       "      <td>...</td>\n",
       "      <td>-4.626327</td>\n",
       "      <td>-6.884319</td>\n",
       "      <td>-2.352244</td>\n",
       "      <td>0.781872</td>\n",
       "      <td>1.016639</td>\n",
       "      <td>1.369787</td>\n",
       "      <td>0.186100</td>\n",
       "      <td>12.205802</td>\n",
       "      <td>7.860536</td>\n",
       "      <td>16.551779</td>\n",
       "    </tr>\n",
       "    <tr>\n",
       "      <th>std</th>\n",
       "      <td>2.874287e+04</td>\n",
       "      <td>3.450083</td>\n",
       "      <td>2.325497</td>\n",
       "      <td>0.107788</td>\n",
       "      <td>0.007962</td>\n",
       "      <td>0.935348</td>\n",
       "      <td>0.536267</td>\n",
       "      <td>4.330112</td>\n",
       "      <td>7.414754</td>\n",
       "      <td>6.653356</td>\n",
       "      <td>...</td>\n",
       "      <td>6.987080</td>\n",
       "      <td>7.120333</td>\n",
       "      <td>6.972886</td>\n",
       "      <td>0.115572</td>\n",
       "      <td>0.018885</td>\n",
       "      <td>0.926472</td>\n",
       "      <td>0.422151</td>\n",
       "      <td>6.467155</td>\n",
       "      <td>5.692256</td>\n",
       "      <td>7.714924</td>\n",
       "    </tr>\n",
       "    <tr>\n",
       "      <th>min</th>\n",
       "      <td>2.000010e+07</td>\n",
       "      <td>1.000000</td>\n",
       "      <td>0.000000</td>\n",
       "      <td>0.380000</td>\n",
       "      <td>0.985600</td>\n",
       "      <td>0.050000</td>\n",
       "      <td>0.000000</td>\n",
       "      <td>0.000000</td>\n",
       "      <td>-9.300000</td>\n",
       "      <td>-16.000000</td>\n",
       "      <td>...</td>\n",
       "      <td>-26.600000</td>\n",
       "      <td>-30.300000</td>\n",
       "      <td>-24.700000</td>\n",
       "      <td>0.330000</td>\n",
       "      <td>0.000300</td>\n",
       "      <td>0.050000</td>\n",
       "      <td>0.000000</td>\n",
       "      <td>-6.200000</td>\n",
       "      <td>-13.000000</td>\n",
       "      <td>-3.100000</td>\n",
       "    </tr>\n",
       "    <tr>\n",
       "      <th>25%</th>\n",
       "      <td>2.002070e+07</td>\n",
       "      <td>4.000000</td>\n",
       "      <td>4.000000</td>\n",
       "      <td>0.670000</td>\n",
       "      <td>1.013300</td>\n",
       "      <td>0.530000</td>\n",
       "      <td>0.000000</td>\n",
       "      <td>0.500000</td>\n",
       "      <td>5.300000</td>\n",
       "      <td>2.000000</td>\n",
       "      <td>...</td>\n",
       "      <td>-9.400000</td>\n",
       "      <td>-11.800000</td>\n",
       "      <td>-7.100000</td>\n",
       "      <td>0.700000</td>\n",
       "      <td>1.012100</td>\n",
       "      <td>0.550000</td>\n",
       "      <td>0.000000</td>\n",
       "      <td>7.600000</td>\n",
       "      <td>3.700000</td>\n",
       "      <td>10.800000</td>\n",
       "    </tr>\n",
       "    <tr>\n",
       "      <th>50%</th>\n",
       "      <td>2.004567e+07</td>\n",
       "      <td>7.000000</td>\n",
       "      <td>6.000000</td>\n",
       "      <td>0.760000</td>\n",
       "      <td>1.017700</td>\n",
       "      <td>1.110000</td>\n",
       "      <td>0.000000</td>\n",
       "      <td>3.600000</td>\n",
       "      <td>11.400000</td>\n",
       "      <td>7.300000</td>\n",
       "      <td>...</td>\n",
       "      <td>-4.400000</td>\n",
       "      <td>-6.400000</td>\n",
       "      <td>-2.200000</td>\n",
       "      <td>0.800000</td>\n",
       "      <td>1.017300</td>\n",
       "      <td>1.235000</td>\n",
       "      <td>0.000000</td>\n",
       "      <td>12.300000</td>\n",
       "      <td>8.300000</td>\n",
       "      <td>16.600000</td>\n",
       "    </tr>\n",
       "    <tr>\n",
       "      <th>75%</th>\n",
       "      <td>2.007070e+07</td>\n",
       "      <td>10.000000</td>\n",
       "      <td>7.000000</td>\n",
       "      <td>0.830000</td>\n",
       "      <td>1.022700</td>\n",
       "      <td>2.060000</td>\n",
       "      <td>0.210000</td>\n",
       "      <td>8.000000</td>\n",
       "      <td>16.900000</td>\n",
       "      <td>12.400000</td>\n",
       "      <td>...</td>\n",
       "      <td>0.700000</td>\n",
       "      <td>-1.100000</td>\n",
       "      <td>2.700000</td>\n",
       "      <td>0.870000</td>\n",
       "      <td>1.022200</td>\n",
       "      <td>2.090000</td>\n",
       "      <td>0.160000</td>\n",
       "      <td>17.200000</td>\n",
       "      <td>12.300000</td>\n",
       "      <td>22.400000</td>\n",
       "    </tr>\n",
       "    <tr>\n",
       "      <th>max</th>\n",
       "      <td>2.010010e+07</td>\n",
       "      <td>12.000000</td>\n",
       "      <td>8.000000</td>\n",
       "      <td>0.980000</td>\n",
       "      <td>1.040800</td>\n",
       "      <td>3.550000</td>\n",
       "      <td>7.570000</td>\n",
       "      <td>15.300000</td>\n",
       "      <td>29.000000</td>\n",
       "      <td>20.800000</td>\n",
       "      <td>...</td>\n",
       "      <td>13.800000</td>\n",
       "      <td>8.700000</td>\n",
       "      <td>14.300000</td>\n",
       "      <td>1.000000</td>\n",
       "      <td>1.041400</td>\n",
       "      <td>3.560000</td>\n",
       "      <td>6.200000</td>\n",
       "      <td>31.200000</td>\n",
       "      <td>22.600000</td>\n",
       "      <td>39.800000</td>\n",
       "    </tr>\n",
       "  </tbody>\n",
       "</table>\n",
       "<p>8 rows × 91 columns</p>\n",
       "</div>"
      ],
      "text/plain": [
       "               DATE        MONTH  BASEL_cloud_cover  BASEL_humidity  \\\n",
       "count  3.654000e+03  3654.000000        3654.000000     3654.000000   \n",
       "mean   2.004568e+07     6.520799           5.418446        0.745107   \n",
       "std    2.874287e+04     3.450083           2.325497        0.107788   \n",
       "min    2.000010e+07     1.000000           0.000000        0.380000   \n",
       "25%    2.002070e+07     4.000000           4.000000        0.670000   \n",
       "50%    2.004567e+07     7.000000           6.000000        0.760000   \n",
       "75%    2.007070e+07    10.000000           7.000000        0.830000   \n",
       "max    2.010010e+07    12.000000           8.000000        0.980000   \n",
       "\n",
       "       BASEL_pressure  BASEL_global_radiation  BASEL_precipitation  \\\n",
       "count     3654.000000             3654.000000          3654.000000   \n",
       "mean         1.017876                1.330380             0.234849   \n",
       "std          0.007962                0.935348             0.536267   \n",
       "min          0.985600                0.050000             0.000000   \n",
       "25%          1.013300                0.530000             0.000000   \n",
       "50%          1.017700                1.110000             0.000000   \n",
       "75%          1.022700                2.060000             0.210000   \n",
       "max          1.040800                3.550000             7.570000   \n",
       "\n",
       "       BASEL_sunshine  BASEL_temp_mean  BASEL_temp_min  ...  \\\n",
       "count     3654.000000      3654.000000     3654.000000  ...   \n",
       "mean         4.661193        11.022797        6.989135  ...   \n",
       "std          4.330112         7.414754        6.653356  ...   \n",
       "min          0.000000        -9.300000      -16.000000  ...   \n",
       "25%          0.500000         5.300000        2.000000  ...   \n",
       "50%          3.600000        11.400000        7.300000  ...   \n",
       "75%          8.000000        16.900000       12.400000  ...   \n",
       "max         15.300000        29.000000       20.800000  ...   \n",
       "\n",
       "       SONNBLICK_temp_mean  SONNBLICK_temp_min  SONNBLICK_temp_max  \\\n",
       "count          3654.000000         3654.000000         3654.000000   \n",
       "mean             -4.626327           -6.884319           -2.352244   \n",
       "std               6.987080            7.120333            6.972886   \n",
       "min             -26.600000          -30.300000          -24.700000   \n",
       "25%              -9.400000          -11.800000           -7.100000   \n",
       "50%              -4.400000           -6.400000           -2.200000   \n",
       "75%               0.700000           -1.100000            2.700000   \n",
       "max              13.800000            8.700000           14.300000   \n",
       "\n",
       "       TOURS_humidity  TOURS_pressure  TOURS_global_radiation  \\\n",
       "count     3654.000000     3654.000000             3654.000000   \n",
       "mean         0.781872        1.016639                1.369787   \n",
       "std          0.115572        0.018885                0.926472   \n",
       "min          0.330000        0.000300                0.050000   \n",
       "25%          0.700000        1.012100                0.550000   \n",
       "50%          0.800000        1.017300                1.235000   \n",
       "75%          0.870000        1.022200                2.090000   \n",
       "max          1.000000        1.041400                3.560000   \n",
       "\n",
       "       TOURS_precipitation  TOURS_temp_mean  TOURS_temp_min  TOURS_temp_max  \n",
       "count          3654.000000      3654.000000     3654.000000     3654.000000  \n",
       "mean              0.186100        12.205802        7.860536       16.551779  \n",
       "std               0.422151         6.467155        5.692256        7.714924  \n",
       "min               0.000000        -6.200000      -13.000000       -3.100000  \n",
       "25%               0.000000         7.600000        3.700000       10.800000  \n",
       "50%               0.000000        12.300000        8.300000       16.600000  \n",
       "75%               0.160000        17.200000       12.300000       22.400000  \n",
       "max               6.200000        31.200000       22.600000       39.800000  \n",
       "\n",
       "[8 rows x 91 columns]"
      ]
     },
     "execution_count": 3,
     "metadata": {},
     "output_type": "execute_result"
    }
   ],
   "source": [
    "fname = \"weather_prediction_dataset_light.csv\"\n",
    "if os.path.isfile(fname):\n",
    "    data = pd.read_csv(fname)\n",
    "else:\n",
    "    data = pd.read_csv(f\"https://zenodo.org/record/5071376/files/{fname}?download=1\")\n",
    "data.describe()"
   ]
  },
  {
   "cell_type": "markdown",
   "id": "dad085d8-6d98-43e4-9c68-5c0955c9463d",
   "metadata": {},
   "source": [
    "## Defining the classification task\n",
    "For simplicity we take data from a single location (DE_BILT). The timeseries are split per month, and we predict to which season each timeseries belongs"
   ]
  },
  {
   "cell_type": "code",
   "execution_count": 4,
   "id": "3fec7b20-59e1-4ed3-a9c1-04ec10e69d5c",
   "metadata": {},
   "outputs": [],
   "source": [
    "# select only data from De Bilt\n",
    "columns = [col for col in data.columns if col.startswith('DE_BILT')]\n",
    "data_debilt = data[columns]"
   ]
  },
  {
   "cell_type": "code",
   "execution_count": 5,
   "id": "d0e57457-6aee-4a11-ae49-ca931b9a75b9",
   "metadata": {},
   "outputs": [
    {
     "name": "stdout",
     "output_type": "stream",
     "text": [
      "(120, 28, 9)\n"
     ]
    }
   ],
   "source": [
    "# find where the month changes\n",
    "idx = np.where(np.diff(data['MONTH']) != 0)[0]\n",
    "# idx contains the index of the last day of each month, except for the last month.\n",
    "# of the last month only a single day is recorded, so we discard it.\n",
    "\n",
    "nmonth = len(idx)\n",
    "# add start of first month\n",
    "idx = np.insert(idx, 0, 0)\n",
    "ncol = len(columns)\n",
    "# create single object containing each timeseries\n",
    "# for simplicity we truncate each timeseries to the same length, i.e. 28 days\n",
    "nday = 28\n",
    "data_ts = np.zeros((nmonth, nday, ncol))\n",
    "for m in range(nmonth):\n",
    "    data_ts[m] = data_debilt[idx[m]:idx[m+1]][:28]\n",
    "    \n",
    "print(data_ts.shape)"
   ]
  },
  {
   "cell_type": "code",
   "execution_count": 6,
   "id": "22b82466-ca31-4d55-b457-8821d18b60aa",
   "metadata": {},
   "outputs": [
    {
     "data": {
      "text/html": [
       "<div>\n",
       "<style scoped>\n",
       "    .dataframe tbody tr th:only-of-type {\n",
       "        vertical-align: middle;\n",
       "    }\n",
       "\n",
       "    .dataframe tbody tr th {\n",
       "        vertical-align: top;\n",
       "    }\n",
       "\n",
       "    .dataframe thead th {\n",
       "        text-align: right;\n",
       "    }\n",
       "</style>\n",
       "<table border=\"1\" class=\"dataframe\">\n",
       "  <thead>\n",
       "    <tr style=\"text-align: right;\">\n",
       "      <th></th>\n",
       "      <th>0</th>\n",
       "      <th>1</th>\n",
       "      <th>2</th>\n",
       "      <th>3</th>\n",
       "    </tr>\n",
       "  </thead>\n",
       "  <tbody>\n",
       "    <tr>\n",
       "      <th>count</th>\n",
       "      <td>120.000000</td>\n",
       "      <td>120.000000</td>\n",
       "      <td>120.000000</td>\n",
       "      <td>120.000000</td>\n",
       "    </tr>\n",
       "    <tr>\n",
       "      <th>mean</th>\n",
       "      <td>0.250000</td>\n",
       "      <td>0.250000</td>\n",
       "      <td>0.250000</td>\n",
       "      <td>0.250000</td>\n",
       "    </tr>\n",
       "    <tr>\n",
       "      <th>std</th>\n",
       "      <td>0.434828</td>\n",
       "      <td>0.434828</td>\n",
       "      <td>0.434828</td>\n",
       "      <td>0.434828</td>\n",
       "    </tr>\n",
       "    <tr>\n",
       "      <th>min</th>\n",
       "      <td>0.000000</td>\n",
       "      <td>0.000000</td>\n",
       "      <td>0.000000</td>\n",
       "      <td>0.000000</td>\n",
       "    </tr>\n",
       "    <tr>\n",
       "      <th>25%</th>\n",
       "      <td>0.000000</td>\n",
       "      <td>0.000000</td>\n",
       "      <td>0.000000</td>\n",
       "      <td>0.000000</td>\n",
       "    </tr>\n",
       "    <tr>\n",
       "      <th>50%</th>\n",
       "      <td>0.000000</td>\n",
       "      <td>0.000000</td>\n",
       "      <td>0.000000</td>\n",
       "      <td>0.000000</td>\n",
       "    </tr>\n",
       "    <tr>\n",
       "      <th>75%</th>\n",
       "      <td>0.250000</td>\n",
       "      <td>0.250000</td>\n",
       "      <td>0.250000</td>\n",
       "      <td>0.250000</td>\n",
       "    </tr>\n",
       "    <tr>\n",
       "      <th>max</th>\n",
       "      <td>1.000000</td>\n",
       "      <td>1.000000</td>\n",
       "      <td>1.000000</td>\n",
       "      <td>1.000000</td>\n",
       "    </tr>\n",
       "  </tbody>\n",
       "</table>\n",
       "</div>"
      ],
      "text/plain": [
       "                0           1           2           3\n",
       "count  120.000000  120.000000  120.000000  120.000000\n",
       "mean     0.250000    0.250000    0.250000    0.250000\n",
       "std      0.434828    0.434828    0.434828    0.434828\n",
       "min      0.000000    0.000000    0.000000    0.000000\n",
       "25%      0.000000    0.000000    0.000000    0.000000\n",
       "50%      0.000000    0.000000    0.000000    0.000000\n",
       "75%      0.250000    0.250000    0.250000    0.250000\n",
       "max      1.000000    1.000000    1.000000    1.000000"
      ]
     },
     "execution_count": 6,
     "metadata": {},
     "output_type": "execute_result"
    }
   ],
   "source": [
    "# the labels are based on the month of each timeseries, in range 1 to 12\n",
    "months = (np.arange(nmonth) + data['MONTH'][0] - 1) % 12 + 1\n",
    "\n",
    "# one class per season\n",
    "labels = np.zeros_like(months, dtype=int)\n",
    "spring = (3 < months) & (months <= 6)   # apr - jun\n",
    "summer = (6 < months) & (months <= 9)   # jun - sep\n",
    "autumn = 9 < months                     # oct - dec\n",
    "winter = months <= 3                    # jan - mar\n",
    "\n",
    "labels[spring] = 0\n",
    "labels[summer] = 1\n",
    "labels[autumn] = 2\n",
    "labels[winter] = 3\n",
    "\n",
    "target = pd.get_dummies(labels)\n",
    "\n",
    "classes = ['spring', 'summer', 'autumn', 'winter']\n",
    "nclass = len(classes)\n",
    "\n",
    "target.describe()"
   ]
  },
  {
   "cell_type": "markdown",
   "id": "db3085a8-5b2d-4565-b3b7-b0bff991c928",
   "metadata": {},
   "source": [
    "## Train - validation - test split"
   ]
  },
  {
   "cell_type": "code",
   "execution_count": 7,
   "id": "08e34c0c-62e3-4078-ab36-2a9cb2713e3f",
   "metadata": {},
   "outputs": [
    {
     "name": "stdout",
     "output_type": "stream",
     "text": [
      "(92, 28, 9) (13, 28, 9) (15, 28, 9)\n"
     ]
    }
   ],
   "source": [
    "data_trainval, data_test, target_trainval, target_test = train_test_split(data_ts, target, stratify=target, random_state=0, test_size=.12)\n",
    "data_train, data_val, target_train, target_val = train_test_split(data_trainval, target_trainval, stratify=target_trainval, random_state=0, test_size=.12)\n",
    "print(data_train.shape, data_val.shape, data_test.shape)"
   ]
  },
  {
   "cell_type": "markdown",
   "id": "94a82da4-fada-4f4c-9d97-fd17afd12960",
   "metadata": {},
   "source": [
    "## Define the model"
   ]
  },
  {
   "cell_type": "code",
   "execution_count": 8,
   "id": "30585506-c36d-448b-a0cb-7ec2f91c6a8c",
   "metadata": {},
   "outputs": [],
   "source": [
    "def create_model(nclass):\n",
    "    inputs = keras.Input(data_train.shape[1:])\n",
    "    x = keras.layers.Conv1D(8, 8)(inputs)\n",
    "    x = keras.layers.BatchNormalization()(x)\n",
    "    x = keras.layers.Activation(\"relu\")(x)\n",
    "    \n",
    "    x = keras.layers.Conv1D(4, 2)(x)\n",
    "    x = keras.layers.BatchNormalization()(x)\n",
    "    x = keras.layers.Activation(\"relu\")(x)\n",
    "\n",
    "    x = keras.layers.GlobalMaxPool1D()(x)\n",
    "    x = keras.layers.Dropout(.25)(x)\n",
    "    outputs = keras.layers.Dense(nclass, activation=\"softmax\")(x)\n",
    "    \n",
    "    return keras.Model(inputs, outputs)"
   ]
  },
  {
   "cell_type": "markdown",
   "id": "95da610b-4943-4515-8f3e-18a0b9709c3c",
   "metadata": {},
   "source": [
    "## Compile and fit"
   ]
  },
  {
   "cell_type": "code",
   "execution_count": 9,
   "id": "2706ea74-adcc-447f-b615-0461e817e963",
   "metadata": {},
   "outputs": [
    {
     "name": "stdout",
     "output_type": "stream",
     "text": [
      "Model: \"model\"\n",
      "_________________________________________________________________\n",
      " Layer (type)                Output Shape              Param #   \n",
      "=================================================================\n",
      " input_1 (InputLayer)        [(None, 28, 9)]           0         \n",
      "                                                                 \n",
      " conv1d (Conv1D)             (None, 21, 8)             584       \n",
      "                                                                 \n",
      " batch_normalization (BatchN  (None, 21, 8)            32        \n",
      " ormalization)                                                   \n",
      "                                                                 \n",
      " activation (Activation)     (None, 21, 8)             0         \n",
      "                                                                 \n",
      " conv1d_1 (Conv1D)           (None, 20, 4)             68        \n",
      "                                                                 \n",
      " batch_normalization_1 (Batc  (None, 20, 4)            16        \n",
      " hNormalization)                                                 \n",
      "                                                                 \n",
      " activation_1 (Activation)   (None, 20, 4)             0         \n",
      "                                                                 \n",
      " global_max_pooling1d (Globa  (None, 4)                0         \n",
      " lMaxPooling1D)                                                  \n",
      "                                                                 \n",
      " dropout (Dropout)           (None, 4)                 0         \n",
      "                                                                 \n",
      " dense (Dense)               (None, 4)                 20        \n",
      "                                                                 \n",
      "=================================================================\n",
      "Total params: 720\n",
      "Trainable params: 696\n",
      "Non-trainable params: 24\n",
      "_________________________________________________________________\n"
     ]
    },
    {
     "name": "stderr",
     "output_type": "stream",
     "text": [
      "2022-11-18 16:03:10.262927: I tensorflow/core/platform/cpu_feature_guard.cc:193] This TensorFlow binary is optimized with oneAPI Deep Neural Network Library (oneDNN) to use the following CPU instructions in performance-critical operations:  AVX2 AVX512F AVX512_VNNI FMA\n",
      "To enable them in other operations, rebuild TensorFlow with the appropriate compiler flags.\n"
     ]
    }
   ],
   "source": [
    "batch_size = 8\n",
    "epochs = 128\n",
    "learning_rate = 2e-3\n",
    "\n",
    "model = create_model(nclass)\n",
    "model.compile(optimizer=keras.optimizers.Adam(learning_rate), loss=\"categorical_crossentropy\", metrics=[\"accuracy\"])\n",
    "model.summary()"
   ]
  },
  {
   "cell_type": "code",
   "execution_count": 10,
   "id": "6e1987db-5dae-46e6-bbaf-ce3a043af0bb",
   "metadata": {},
   "outputs": [
    {
     "name": "stdout",
     "output_type": "stream",
     "text": [
      "Epoch 1/128\n",
      " 1/12 [=>............................] - ETA: 7s - loss: 1.3131 - accuracy: 0.3750"
     ]
    },
    {
     "name": "stderr",
     "output_type": "stream",
     "text": [
      "WARNING:absl:Found untraced functions such as _jit_compiled_convolution_op, _jit_compiled_convolution_op while saving (showing 2 of 2). These functions will not be directly callable after loading.\n"
     ]
    },
    {
     "name": "stdout",
     "output_type": "stream",
     "text": [
      "INFO:tensorflow:Assets written to: weather_prediction_model/assets\n"
     ]
    },
    {
     "name": "stderr",
     "output_type": "stream",
     "text": [
      "INFO:tensorflow:Assets written to: weather_prediction_model/assets\n"
     ]
    },
    {
     "name": "stdout",
     "output_type": "stream",
     "text": [
      "12/12 [==============================] - 2s 136ms/step - loss: 2.5972 - accuracy: 0.2174 - val_loss: 9.0114 - val_accuracy: 0.2308\n",
      "Epoch 2/128\n",
      "12/12 [==============================] - 0s 4ms/step - loss: 2.3213 - accuracy: 0.1739 - val_loss: 6.9908 - val_accuracy: 0.2308\n",
      "Epoch 3/128\n",
      "12/12 [==============================] - 0s 4ms/step - loss: 2.0733 - accuracy: 0.1957 - val_loss: 5.7214 - val_accuracy: 0.2308\n",
      "Epoch 4/128\n",
      "12/12 [==============================] - 0s 4ms/step - loss: 1.9620 - accuracy: 0.1848 - val_loss: 4.4462 - val_accuracy: 0.2308\n",
      "Epoch 5/128\n",
      "12/12 [==============================] - 0s 4ms/step - loss: 1.8813 - accuracy: 0.2391 - val_loss: 3.3733 - val_accuracy: 0.2308\n",
      "Epoch 6/128\n",
      "12/12 [==============================] - 0s 4ms/step - loss: 1.6994 - accuracy: 0.2717 - val_loss: 2.7744 - val_accuracy: 0.2308\n",
      "Epoch 7/128\n",
      "12/12 [==============================] - 0s 4ms/step - loss: 1.6280 - accuracy: 0.3043 - val_loss: 2.1358 - val_accuracy: 0.2308\n",
      "Epoch 8/128\n",
      "12/12 [==============================] - 0s 4ms/step - loss: 1.5209 - accuracy: 0.2826 - val_loss: 1.7127 - val_accuracy: 0.2308\n",
      "Epoch 9/128\n",
      "12/12 [==============================] - 0s 4ms/step - loss: 1.4419 - accuracy: 0.2391 - val_loss: 1.5493 - val_accuracy: 0.2308\n",
      "Epoch 10/128\n",
      "12/12 [==============================] - 0s 4ms/step - loss: 1.3302 - accuracy: 0.3913 - val_loss: 1.4293 - val_accuracy: 0.2308\n",
      "Epoch 11/128\n",
      "12/12 [==============================] - 0s 4ms/step - loss: 1.2909 - accuracy: 0.4239 - val_loss: 1.4051 - val_accuracy: 0.2308\n",
      "Epoch 12/128\n",
      " 1/12 [=>............................] - ETA: 0s - loss: 1.6889 - accuracy: 0.1250"
     ]
    },
    {
     "name": "stderr",
     "output_type": "stream",
     "text": [
      "WARNING:absl:Found untraced functions such as _jit_compiled_convolution_op, _jit_compiled_convolution_op while saving (showing 2 of 2). These functions will not be directly callable after loading.\n"
     ]
    },
    {
     "name": "stdout",
     "output_type": "stream",
     "text": [
      "INFO:tensorflow:Assets written to: weather_prediction_model/assets\n"
     ]
    },
    {
     "name": "stderr",
     "output_type": "stream",
     "text": [
      "INFO:tensorflow:Assets written to: weather_prediction_model/assets\n"
     ]
    },
    {
     "name": "stdout",
     "output_type": "stream",
     "text": [
      "12/12 [==============================] - 1s 105ms/step - loss: 1.2134 - accuracy: 0.4457 - val_loss: 1.2976 - val_accuracy: 0.3077\n",
      "Epoch 13/128\n",
      "12/12 [==============================] - 0s 4ms/step - loss: 1.2016 - accuracy: 0.4239 - val_loss: 1.2050 - val_accuracy: 0.3077\n",
      "Epoch 14/128\n",
      "12/12 [==============================] - 0s 4ms/step - loss: 1.1739 - accuracy: 0.4565 - val_loss: 1.1979 - val_accuracy: 0.3077\n",
      "Epoch 15/128\n",
      "12/12 [==============================] - 0s 4ms/step - loss: 1.1502 - accuracy: 0.5435 - val_loss: 1.1473 - val_accuracy: 0.3077\n",
      "Epoch 16/128\n",
      " 1/12 [=>............................] - ETA: 0s - loss: 1.2077 - accuracy: 0.6250"
     ]
    },
    {
     "name": "stderr",
     "output_type": "stream",
     "text": [
      "WARNING:absl:Found untraced functions such as _jit_compiled_convolution_op, _jit_compiled_convolution_op while saving (showing 2 of 2). These functions will not be directly callable after loading.\n"
     ]
    },
    {
     "name": "stdout",
     "output_type": "stream",
     "text": [
      "INFO:tensorflow:Assets written to: weather_prediction_model/assets\n"
     ]
    },
    {
     "name": "stderr",
     "output_type": "stream",
     "text": [
      "INFO:tensorflow:Assets written to: weather_prediction_model/assets\n"
     ]
    },
    {
     "name": "stdout",
     "output_type": "stream",
     "text": [
      "12/12 [==============================] - 1s 104ms/step - loss: 1.1143 - accuracy: 0.5326 - val_loss: 1.1207 - val_accuracy: 0.3846\n",
      "Epoch 17/128\n",
      "12/12 [==============================] - 0s 4ms/step - loss: 1.0316 - accuracy: 0.6087 - val_loss: 1.1004 - val_accuracy: 0.3846\n",
      "Epoch 18/128\n",
      "12/12 [==============================] - 0s 4ms/step - loss: 1.0428 - accuracy: 0.5435 - val_loss: 1.0972 - val_accuracy: 0.3846\n",
      "Epoch 19/128\n",
      " 1/12 [=>............................] - ETA: 0s - loss: 1.2792 - accuracy: 0.3750"
     ]
    },
    {
     "name": "stderr",
     "output_type": "stream",
     "text": [
      "WARNING:absl:Found untraced functions such as _jit_compiled_convolution_op, _jit_compiled_convolution_op while saving (showing 2 of 2). These functions will not be directly callable after loading.\n"
     ]
    },
    {
     "name": "stdout",
     "output_type": "stream",
     "text": [
      "INFO:tensorflow:Assets written to: weather_prediction_model/assets\n"
     ]
    },
    {
     "name": "stderr",
     "output_type": "stream",
     "text": [
      "INFO:tensorflow:Assets written to: weather_prediction_model/assets\n"
     ]
    },
    {
     "name": "stdout",
     "output_type": "stream",
     "text": [
      "12/12 [==============================] - 1s 102ms/step - loss: 1.1290 - accuracy: 0.5000 - val_loss: 1.0435 - val_accuracy: 0.5385\n",
      "Epoch 20/128\n",
      "12/12 [==============================] - 0s 4ms/step - loss: 1.1182 - accuracy: 0.5870 - val_loss: 1.0647 - val_accuracy: 0.5385\n",
      "Epoch 21/128\n",
      "12/12 [==============================] - 0s 4ms/step - loss: 0.9640 - accuracy: 0.6413 - val_loss: 1.1265 - val_accuracy: 0.4615\n",
      "Epoch 22/128\n",
      "12/12 [==============================] - 0s 4ms/step - loss: 1.1008 - accuracy: 0.6196 - val_loss: 1.1513 - val_accuracy: 0.3846\n",
      "Epoch 23/128\n",
      "12/12 [==============================] - 0s 4ms/step - loss: 1.0342 - accuracy: 0.5978 - val_loss: 1.0555 - val_accuracy: 0.5385\n",
      "Epoch 24/128\n",
      " 1/12 [=>............................] - ETA: 0s - loss: 1.0334 - accuracy: 0.5000"
     ]
    },
    {
     "name": "stderr",
     "output_type": "stream",
     "text": [
      "WARNING:absl:Found untraced functions such as _jit_compiled_convolution_op, _jit_compiled_convolution_op while saving (showing 2 of 2). These functions will not be directly callable after loading.\n"
     ]
    },
    {
     "name": "stdout",
     "output_type": "stream",
     "text": [
      "INFO:tensorflow:Assets written to: weather_prediction_model/assets\n"
     ]
    },
    {
     "name": "stderr",
     "output_type": "stream",
     "text": [
      "INFO:tensorflow:Assets written to: weather_prediction_model/assets\n"
     ]
    },
    {
     "name": "stdout",
     "output_type": "stream",
     "text": [
      "12/12 [==============================] - 1s 115ms/step - loss: 1.0985 - accuracy: 0.5652 - val_loss: 0.9820 - val_accuracy: 0.7692\n",
      "Epoch 25/128\n",
      "12/12 [==============================] - 0s 4ms/step - loss: 0.9960 - accuracy: 0.6196 - val_loss: 0.9906 - val_accuracy: 0.6154\n",
      "Epoch 26/128\n",
      "12/12 [==============================] - 0s 4ms/step - loss: 1.0695 - accuracy: 0.5435 - val_loss: 0.9992 - val_accuracy: 0.6154\n",
      "Epoch 27/128\n",
      "12/12 [==============================] - 0s 4ms/step - loss: 0.9819 - accuracy: 0.6087 - val_loss: 1.0278 - val_accuracy: 0.4615\n",
      "Epoch 28/128\n",
      "12/12 [==============================] - 0s 4ms/step - loss: 0.9204 - accuracy: 0.6522 - val_loss: 0.9543 - val_accuracy: 0.6154\n",
      "Epoch 29/128\n",
      "12/12 [==============================] - 0s 4ms/step - loss: 0.9417 - accuracy: 0.6739 - val_loss: 0.9210 - val_accuracy: 0.7692\n",
      "Epoch 30/128\n",
      "12/12 [==============================] - 0s 4ms/step - loss: 0.9363 - accuracy: 0.6848 - val_loss: 0.9211 - val_accuracy: 0.6154\n",
      "Epoch 31/128\n",
      "12/12 [==============================] - 0s 4ms/step - loss: 0.9463 - accuracy: 0.6413 - val_loss: 1.0195 - val_accuracy: 0.6154\n",
      "Epoch 32/128\n",
      "12/12 [==============================] - 0s 4ms/step - loss: 0.8930 - accuracy: 0.6848 - val_loss: 1.0231 - val_accuracy: 0.6154\n",
      "Epoch 33/128\n",
      "12/12 [==============================] - 0s 4ms/step - loss: 0.9932 - accuracy: 0.5543 - val_loss: 0.8700 - val_accuracy: 0.6154\n",
      "Epoch 34/128\n",
      "12/12 [==============================] - 0s 4ms/step - loss: 0.9095 - accuracy: 0.6957 - val_loss: 0.9170 - val_accuracy: 0.6154\n",
      "Epoch 35/128\n",
      "12/12 [==============================] - 0s 4ms/step - loss: 0.9200 - accuracy: 0.6630 - val_loss: 1.0663 - val_accuracy: 0.4615\n",
      "Epoch 36/128\n",
      "12/12 [==============================] - 0s 4ms/step - loss: 0.9425 - accuracy: 0.5435 - val_loss: 1.0349 - val_accuracy: 0.4615\n",
      "Epoch 37/128\n",
      "12/12 [==============================] - 0s 4ms/step - loss: 0.8070 - accuracy: 0.7174 - val_loss: 0.8982 - val_accuracy: 0.7692\n",
      "Epoch 38/128\n",
      "12/12 [==============================] - 0s 4ms/step - loss: 0.9094 - accuracy: 0.6522 - val_loss: 0.9075 - val_accuracy: 0.6923\n",
      "Epoch 39/128\n",
      "12/12 [==============================] - 0s 4ms/step - loss: 0.8702 - accuracy: 0.6848 - val_loss: 1.0074 - val_accuracy: 0.4615\n",
      "Epoch 40/128\n",
      "12/12 [==============================] - 0s 4ms/step - loss: 0.8704 - accuracy: 0.6196 - val_loss: 0.9467 - val_accuracy: 0.6923\n",
      "Epoch 41/128\n",
      "12/12 [==============================] - 0s 4ms/step - loss: 0.8688 - accuracy: 0.7065 - val_loss: 0.9049 - val_accuracy: 0.7692\n",
      "Epoch 42/128\n",
      "12/12 [==============================] - 0s 4ms/step - loss: 0.8403 - accuracy: 0.6522 - val_loss: 1.0136 - val_accuracy: 0.5385\n",
      "Epoch 43/128\n",
      "12/12 [==============================] - 0s 4ms/step - loss: 0.7922 - accuracy: 0.7283 - val_loss: 1.1131 - val_accuracy: 0.5385\n",
      "Epoch 44/128\n",
      "12/12 [==============================] - 0s 4ms/step - loss: 0.8854 - accuracy: 0.6739 - val_loss: 0.8707 - val_accuracy: 0.7692\n",
      "Epoch 45/128\n",
      " 1/12 [=>............................] - ETA: 0s - loss: 1.3190 - accuracy: 0.3750"
     ]
    },
    {
     "name": "stderr",
     "output_type": "stream",
     "text": [
      "WARNING:absl:Found untraced functions such as _jit_compiled_convolution_op, _jit_compiled_convolution_op while saving (showing 2 of 2). These functions will not be directly callable after loading.\n"
     ]
    },
    {
     "name": "stdout",
     "output_type": "stream",
     "text": [
      "INFO:tensorflow:Assets written to: weather_prediction_model/assets\n"
     ]
    },
    {
     "name": "stderr",
     "output_type": "stream",
     "text": [
      "INFO:tensorflow:Assets written to: weather_prediction_model/assets\n"
     ]
    },
    {
     "name": "stdout",
     "output_type": "stream",
     "text": [
      "12/12 [==============================] - 1s 99ms/step - loss: 0.8493 - accuracy: 0.7174 - val_loss: 0.8436 - val_accuracy: 0.8462\n",
      "Epoch 46/128\n",
      "12/12 [==============================] - 0s 4ms/step - loss: 0.9375 - accuracy: 0.5870 - val_loss: 0.8342 - val_accuracy: 0.8462\n",
      "Epoch 47/128\n",
      "12/12 [==============================] - 0s 4ms/step - loss: 0.8277 - accuracy: 0.6630 - val_loss: 0.7137 - val_accuracy: 0.7692\n",
      "Epoch 48/128\n",
      " 1/12 [=>............................] - ETA: 0s - loss: 0.5446 - accuracy: 0.8750"
     ]
    },
    {
     "name": "stderr",
     "output_type": "stream",
     "text": [
      "WARNING:absl:Found untraced functions such as _jit_compiled_convolution_op, _jit_compiled_convolution_op while saving (showing 2 of 2). These functions will not be directly callable after loading.\n"
     ]
    },
    {
     "name": "stdout",
     "output_type": "stream",
     "text": [
      "INFO:tensorflow:Assets written to: weather_prediction_model/assets\n"
     ]
    },
    {
     "name": "stderr",
     "output_type": "stream",
     "text": [
      "INFO:tensorflow:Assets written to: weather_prediction_model/assets\n"
     ]
    },
    {
     "name": "stdout",
     "output_type": "stream",
     "text": [
      "12/12 [==============================] - 1s 101ms/step - loss: 0.8057 - accuracy: 0.7065 - val_loss: 0.6693 - val_accuracy: 0.9231\n",
      "Epoch 49/128\n",
      "12/12 [==============================] - 0s 5ms/step - loss: 0.8902 - accuracy: 0.6630 - val_loss: 0.7700 - val_accuracy: 0.6923\n",
      "Epoch 50/128\n",
      "12/12 [==============================] - 0s 4ms/step - loss: 0.8337 - accuracy: 0.6413 - val_loss: 0.7838 - val_accuracy: 0.6154\n",
      "Epoch 51/128\n",
      "12/12 [==============================] - 0s 4ms/step - loss: 0.7785 - accuracy: 0.7174 - val_loss: 0.7756 - val_accuracy: 0.8462\n",
      "Epoch 52/128\n",
      "12/12 [==============================] - 0s 4ms/step - loss: 0.8975 - accuracy: 0.5978 - val_loss: 0.6883 - val_accuracy: 0.7692\n",
      "Epoch 53/128\n",
      "12/12 [==============================] - 0s 4ms/step - loss: 0.8628 - accuracy: 0.6739 - val_loss: 0.7124 - val_accuracy: 0.8462\n",
      "Epoch 54/128\n",
      "12/12 [==============================] - 0s 4ms/step - loss: 0.8215 - accuracy: 0.6304 - val_loss: 0.8248 - val_accuracy: 0.6154\n",
      "Epoch 55/128\n",
      "12/12 [==============================] - 0s 4ms/step - loss: 0.8590 - accuracy: 0.6196 - val_loss: 0.9081 - val_accuracy: 0.6154\n",
      "Epoch 56/128\n",
      "12/12 [==============================] - 0s 4ms/step - loss: 0.7760 - accuracy: 0.6957 - val_loss: 0.7778 - val_accuracy: 0.5385\n",
      "Epoch 57/128\n",
      "12/12 [==============================] - 0s 4ms/step - loss: 0.8440 - accuracy: 0.6957 - val_loss: 0.7399 - val_accuracy: 0.7692\n",
      "Epoch 58/128\n",
      "12/12 [==============================] - 0s 4ms/step - loss: 0.7235 - accuracy: 0.7391 - val_loss: 0.8735 - val_accuracy: 0.7692\n",
      "Epoch 59/128\n",
      "12/12 [==============================] - 0s 4ms/step - loss: 0.8517 - accuracy: 0.5978 - val_loss: 0.8079 - val_accuracy: 0.8462\n",
      "Epoch 60/128\n",
      "12/12 [==============================] - 0s 4ms/step - loss: 0.7964 - accuracy: 0.6957 - val_loss: 0.7876 - val_accuracy: 0.6923\n",
      "Epoch 61/128\n",
      "12/12 [==============================] - 0s 5ms/step - loss: 0.6487 - accuracy: 0.7935 - val_loss: 0.6346 - val_accuracy: 0.8462\n",
      "Epoch 62/128\n",
      "12/12 [==============================] - 0s 4ms/step - loss: 0.8432 - accuracy: 0.6087 - val_loss: 0.6574 - val_accuracy: 0.8462\n",
      "Epoch 63/128\n",
      "12/12 [==============================] - 0s 4ms/step - loss: 0.7808 - accuracy: 0.6739 - val_loss: 0.7220 - val_accuracy: 0.8462\n",
      "Epoch 64/128\n",
      "12/12 [==============================] - 0s 4ms/step - loss: 0.7464 - accuracy: 0.7500 - val_loss: 0.6790 - val_accuracy: 0.8462\n",
      "Epoch 65/128\n",
      "12/12 [==============================] - 0s 4ms/step - loss: 0.7082 - accuracy: 0.7609 - val_loss: 0.8674 - val_accuracy: 0.6923\n",
      "Epoch 66/128\n",
      "12/12 [==============================] - 0s 4ms/step - loss: 0.7650 - accuracy: 0.6957 - val_loss: 0.8434 - val_accuracy: 0.6154\n",
      "Epoch 67/128\n",
      "12/12 [==============================] - 0s 4ms/step - loss: 0.7608 - accuracy: 0.7283 - val_loss: 0.5624 - val_accuracy: 0.8462\n",
      "Epoch 68/128\n",
      "12/12 [==============================] - 0s 4ms/step - loss: 0.7195 - accuracy: 0.6957 - val_loss: 0.6286 - val_accuracy: 0.7692\n",
      "Epoch 69/128\n",
      "12/12 [==============================] - 0s 4ms/step - loss: 0.6859 - accuracy: 0.7283 - val_loss: 0.5395 - val_accuracy: 0.8462\n",
      "Epoch 70/128\n",
      "12/12 [==============================] - 0s 10ms/step - loss: 0.7586 - accuracy: 0.6739 - val_loss: 0.6067 - val_accuracy: 0.8462\n",
      "Epoch 71/128\n",
      "12/12 [==============================] - 0s 6ms/step - loss: 0.6089 - accuracy: 0.7500 - val_loss: 0.8666 - val_accuracy: 0.6154\n",
      "Epoch 72/128\n",
      "12/12 [==============================] - 0s 5ms/step - loss: 0.6804 - accuracy: 0.7391 - val_loss: 0.7366 - val_accuracy: 0.6154\n",
      "Epoch 73/128\n",
      "12/12 [==============================] - 0s 4ms/step - loss: 0.6302 - accuracy: 0.7283 - val_loss: 0.6399 - val_accuracy: 0.8462\n",
      "Epoch 74/128\n",
      "12/12 [==============================] - 0s 4ms/step - loss: 0.6781 - accuracy: 0.7391 - val_loss: 0.4910 - val_accuracy: 0.9231\n",
      "Epoch 75/128\n",
      "12/12 [==============================] - 0s 4ms/step - loss: 0.6946 - accuracy: 0.7391 - val_loss: 0.4990 - val_accuracy: 0.8462\n",
      "Epoch 76/128\n",
      "12/12 [==============================] - 0s 4ms/step - loss: 0.7534 - accuracy: 0.6848 - val_loss: 0.5672 - val_accuracy: 0.7692\n",
      "Epoch 77/128\n",
      "12/12 [==============================] - 0s 4ms/step - loss: 0.6857 - accuracy: 0.6630 - val_loss: 0.5826 - val_accuracy: 0.8462\n",
      "Epoch 78/128\n",
      "12/12 [==============================] - 0s 4ms/step - loss: 0.6718 - accuracy: 0.7174 - val_loss: 0.6064 - val_accuracy: 0.7692\n",
      "Epoch 79/128\n",
      "12/12 [==============================] - 0s 4ms/step - loss: 0.6175 - accuracy: 0.7609 - val_loss: 0.8544 - val_accuracy: 0.5385\n",
      "Epoch 80/128\n",
      "12/12 [==============================] - 0s 4ms/step - loss: 0.5808 - accuracy: 0.7609 - val_loss: 0.8045 - val_accuracy: 0.6154\n",
      "Epoch 81/128\n",
      "12/12 [==============================] - 0s 4ms/step - loss: 0.5790 - accuracy: 0.7717 - val_loss: 0.6816 - val_accuracy: 0.7692\n",
      "Epoch 82/128\n",
      "12/12 [==============================] - 0s 4ms/step - loss: 0.8158 - accuracy: 0.6630 - val_loss: 0.5624 - val_accuracy: 0.7692\n",
      "Epoch 83/128\n",
      "12/12 [==============================] - 0s 4ms/step - loss: 0.7492 - accuracy: 0.6522 - val_loss: 0.5899 - val_accuracy: 0.7692\n",
      "Epoch 84/128\n",
      "12/12 [==============================] - 0s 4ms/step - loss: 0.7255 - accuracy: 0.6848 - val_loss: 0.5962 - val_accuracy: 0.7692\n",
      "Epoch 85/128\n",
      "12/12 [==============================] - 0s 4ms/step - loss: 0.5249 - accuracy: 0.8152 - val_loss: 1.0102 - val_accuracy: 0.5385\n",
      "Epoch 86/128\n",
      "12/12 [==============================] - 0s 4ms/step - loss: 0.6217 - accuracy: 0.7500 - val_loss: 0.9474 - val_accuracy: 0.5385\n",
      "Epoch 87/128\n",
      "12/12 [==============================] - 0s 4ms/step - loss: 0.6420 - accuracy: 0.7609 - val_loss: 0.6609 - val_accuracy: 0.6923\n",
      "Epoch 88/128\n",
      "12/12 [==============================] - 0s 4ms/step - loss: 0.5332 - accuracy: 0.7935 - val_loss: 0.7066 - val_accuracy: 0.6923\n",
      "Epoch 89/128\n",
      "12/12 [==============================] - 0s 3ms/step - loss: 0.7293 - accuracy: 0.7174 - val_loss: 0.7510 - val_accuracy: 0.6154\n",
      "Epoch 90/128\n",
      "12/12 [==============================] - 0s 4ms/step - loss: 0.6590 - accuracy: 0.7174 - val_loss: 0.8341 - val_accuracy: 0.5385\n",
      "Epoch 91/128\n",
      "12/12 [==============================] - 0s 4ms/step - loss: 0.5599 - accuracy: 0.7500 - val_loss: 0.9308 - val_accuracy: 0.5385\n",
      "Epoch 92/128\n",
      "12/12 [==============================] - 0s 4ms/step - loss: 0.6375 - accuracy: 0.7935 - val_loss: 0.8433 - val_accuracy: 0.5385\n",
      "Epoch 93/128\n",
      "12/12 [==============================] - 0s 4ms/step - loss: 0.5071 - accuracy: 0.8043 - val_loss: 0.8661 - val_accuracy: 0.5385\n",
      "Epoch 94/128\n",
      "12/12 [==============================] - 0s 4ms/step - loss: 0.6939 - accuracy: 0.7065 - val_loss: 0.7247 - val_accuracy: 0.7692\n",
      "Epoch 95/128\n",
      "12/12 [==============================] - 0s 4ms/step - loss: 0.6944 - accuracy: 0.6957 - val_loss: 0.7534 - val_accuracy: 0.6923\n",
      "Epoch 96/128\n",
      "12/12 [==============================] - 0s 4ms/step - loss: 0.6830 - accuracy: 0.6848 - val_loss: 0.6530 - val_accuracy: 0.7692\n",
      "Epoch 97/128\n",
      "12/12 [==============================] - 0s 4ms/step - loss: 0.6377 - accuracy: 0.7283 - val_loss: 0.9060 - val_accuracy: 0.5385\n",
      "Epoch 98/128\n",
      "12/12 [==============================] - 0s 4ms/step - loss: 0.5963 - accuracy: 0.7609 - val_loss: 0.7032 - val_accuracy: 0.6923\n",
      "Epoch 99/128\n",
      "12/12 [==============================] - 0s 3ms/step - loss: 0.5181 - accuracy: 0.7935 - val_loss: 0.6431 - val_accuracy: 0.7692\n",
      "Epoch 100/128\n",
      "12/12 [==============================] - 0s 4ms/step - loss: 0.5931 - accuracy: 0.7826 - val_loss: 0.5974 - val_accuracy: 0.7692\n",
      "Epoch 101/128\n",
      "12/12 [==============================] - 0s 4ms/step - loss: 0.4657 - accuracy: 0.8370 - val_loss: 0.7689 - val_accuracy: 0.5385\n",
      "Epoch 102/128\n",
      "12/12 [==============================] - 0s 4ms/step - loss: 0.6564 - accuracy: 0.7500 - val_loss: 0.6230 - val_accuracy: 0.7692\n",
      "Epoch 103/128\n",
      "12/12 [==============================] - 0s 4ms/step - loss: 0.6079 - accuracy: 0.8261 - val_loss: 0.6224 - val_accuracy: 0.7692\n",
      "Epoch 104/128\n",
      "12/12 [==============================] - 0s 3ms/step - loss: 0.4595 - accuracy: 0.8370 - val_loss: 0.7198 - val_accuracy: 0.6923\n",
      "Epoch 105/128\n",
      "12/12 [==============================] - 0s 4ms/step - loss: 0.5267 - accuracy: 0.8043 - val_loss: 0.8770 - val_accuracy: 0.6154\n",
      "Epoch 106/128\n",
      "12/12 [==============================] - 0s 4ms/step - loss: 0.5698 - accuracy: 0.7283 - val_loss: 0.8050 - val_accuracy: 0.6154\n",
      "Epoch 107/128\n",
      "12/12 [==============================] - 0s 4ms/step - loss: 0.7454 - accuracy: 0.6630 - val_loss: 0.7748 - val_accuracy: 0.6154\n",
      "Epoch 108/128\n",
      "12/12 [==============================] - 0s 4ms/step - loss: 0.6536 - accuracy: 0.7174 - val_loss: 0.8771 - val_accuracy: 0.4615\n",
      "Epoch 109/128\n",
      "12/12 [==============================] - 0s 4ms/step - loss: 0.6283 - accuracy: 0.6957 - val_loss: 0.8017 - val_accuracy: 0.5385\n",
      "Epoch 110/128\n",
      "12/12 [==============================] - 0s 4ms/step - loss: 0.5504 - accuracy: 0.7609 - val_loss: 0.6175 - val_accuracy: 0.7692\n",
      "Epoch 111/128\n",
      "12/12 [==============================] - 0s 4ms/step - loss: 0.5381 - accuracy: 0.7717 - val_loss: 0.6878 - val_accuracy: 0.6923\n",
      "Epoch 112/128\n",
      "12/12 [==============================] - 0s 4ms/step - loss: 0.6280 - accuracy: 0.7717 - val_loss: 0.8033 - val_accuracy: 0.6923\n",
      "Epoch 113/128\n",
      "12/12 [==============================] - 0s 4ms/step - loss: 0.6580 - accuracy: 0.7174 - val_loss: 0.6586 - val_accuracy: 0.7692\n",
      "Epoch 114/128\n",
      "12/12 [==============================] - 0s 4ms/step - loss: 0.6038 - accuracy: 0.7391 - val_loss: 0.7316 - val_accuracy: 0.6154\n",
      "Epoch 115/128\n",
      "12/12 [==============================] - 0s 4ms/step - loss: 0.6508 - accuracy: 0.7391 - val_loss: 0.6388 - val_accuracy: 0.7692\n",
      "Epoch 116/128\n",
      "12/12 [==============================] - 0s 4ms/step - loss: 0.4862 - accuracy: 0.8043 - val_loss: 0.5919 - val_accuracy: 0.8462\n",
      "Epoch 117/128\n",
      "12/12 [==============================] - 0s 4ms/step - loss: 0.6681 - accuracy: 0.6739 - val_loss: 0.6042 - val_accuracy: 0.8462\n",
      "Epoch 118/128\n",
      "12/12 [==============================] - 0s 4ms/step - loss: 0.6444 - accuracy: 0.7609 - val_loss: 0.5799 - val_accuracy: 0.8462\n",
      "Epoch 119/128\n",
      "12/12 [==============================] - 0s 4ms/step - loss: 0.6470 - accuracy: 0.7065 - val_loss: 0.6186 - val_accuracy: 0.8462\n",
      "Epoch 120/128\n",
      "12/12 [==============================] - 0s 4ms/step - loss: 0.6610 - accuracy: 0.7174 - val_loss: 0.7544 - val_accuracy: 0.6923\n",
      "Epoch 121/128\n",
      "12/12 [==============================] - 0s 4ms/step - loss: 0.6325 - accuracy: 0.6957 - val_loss: 0.8688 - val_accuracy: 0.6154\n",
      "Epoch 122/128\n",
      "12/12 [==============================] - 0s 4ms/step - loss: 0.5750 - accuracy: 0.6957 - val_loss: 0.7057 - val_accuracy: 0.5385\n",
      "Epoch 123/128\n",
      "12/12 [==============================] - 0s 4ms/step - loss: 0.5468 - accuracy: 0.7609 - val_loss: 0.6217 - val_accuracy: 0.7692\n",
      "Epoch 124/128\n",
      "12/12 [==============================] - 0s 3ms/step - loss: 0.5849 - accuracy: 0.7717 - val_loss: 0.7382 - val_accuracy: 0.6923\n",
      "Epoch 125/128\n",
      "12/12 [==============================] - 0s 4ms/step - loss: 0.5124 - accuracy: 0.7935 - val_loss: 0.8088 - val_accuracy: 0.6923\n",
      "Epoch 126/128\n",
      "12/12 [==============================] - 0s 4ms/step - loss: 0.5240 - accuracy: 0.8043 - val_loss: 0.8719 - val_accuracy: 0.6154\n",
      "Epoch 127/128\n",
      "12/12 [==============================] - 0s 4ms/step - loss: 0.5527 - accuracy: 0.7717 - val_loss: 0.9047 - val_accuracy: 0.5385\n",
      "Epoch 128/128\n",
      "12/12 [==============================] - 0s 4ms/step - loss: 0.5959 - accuracy: 0.7065 - val_loss: 0.7519 - val_accuracy: 0.6154\n"
     ]
    }
   ],
   "source": [
    "# fit the model, store the one with the highest validation accuracy\n",
    "model_dir = 'weather_prediction_model'\n",
    "model_checkpoint_callback = keras.callbacks.ModelCheckpoint(filepath=model_dir, monitor='val_accuracy',\n",
    "                                                            mode='max', save_best_only=True)\n",
    "\n",
    "hist = model.fit(data_train, target_train, validation_data=(data_val, target_val),\n",
    "                 batch_size=batch_size, epochs=epochs, callbacks=[model_checkpoint_callback])\n",
    "\n",
    "# load the best model\n",
    "model = keras.models.load_model(model_dir)"
   ]
  },
  {
   "cell_type": "markdown",
   "id": "f6f03edf-a125-4d2e-88b5-a19f348b888e",
   "metadata": {},
   "source": [
    "## Plot loss and accuracy"
   ]
  },
  {
   "cell_type": "code",
   "execution_count": 11,
   "id": "521408d6-bde2-493d-bbb1-3b130f07de5b",
   "metadata": {},
   "outputs": [
    {
     "data": {
      "image/png": "[encoded data removed]",
      "text/plain": [
       "<Figure size 432x288 with 1 Axes>"
      ]
     },
     "metadata": {
      "needs_background": "light"
     },
     "output_type": "display_data"
    },
    {
     "data": {
      "image/png": "[encoded data removed]",
      "text/plain": [
       "<Figure size 432x288 with 1 Axes>"
      ]
     },
     "metadata": {
      "needs_background": "light"
     },
     "output_type": "display_data"
    }
   ],
   "source": [
    "plt.plot(hist.epoch, hist.history['loss'], label='train')\n",
    "plt.plot(hist.epoch, hist.history['val_loss'], label='val')\n",
    "plt.legend()\n",
    "plt.xlabel('Epoch')\n",
    "plt.ylabel('Loss')\n",
    "\n",
    "plt.figure()\n",
    "plt.plot(hist.epoch, hist.history['accuracy'], label='train')\n",
    "plt.plot(hist.epoch, hist.history['val_accuracy'], label='val')\n",
    "plt.legend()\n",
    "plt.xlabel('Epoch')\n",
    "plt.ylabel('Accuracy');"
   ]
  },
  {
   "cell_type": "markdown",
   "id": "2f2a1e18-e801-4244-8c84-2db20a204ac2",
   "metadata": {},
   "source": [
    "## Run model on test set"
   ]
  },
  {
   "cell_type": "code",
   "execution_count": 12,
   "id": "6a5150d8-16e2-41ce-8fbc-b730ca344a13",
   "metadata": {},
   "outputs": [
    {
     "name": "stdout",
     "output_type": "stream",
     "text": [
      "1/1 [==============================] - 0s 170ms/step - loss: 0.8664 - accuracy: 0.8000\n",
      "Test set loss: 0.87\n",
      "Test set accuracy: 80%\n"
     ]
    }
   ],
   "source": [
    "loss, acc = model.evaluate(data_test, target_test)\n",
    "print(f'Test set loss: {loss:.2f}')\n",
    "print(f'Test set accuracy: {100*acc:.0f}%')"
   ]
  },
  {
   "cell_type": "markdown",
   "id": "d36dd89a-7e11-4a54-ae01-a7b9b5b7ce73",
   "metadata": {},
   "source": [
    "## Create confusion matrix"
   ]
  },
  {
   "cell_type": "code",
   "execution_count": 13,
   "id": "2c2f3558-f63e-4a01-a1d9-d31427cb6ee6",
   "metadata": {},
   "outputs": [
    {
     "name": "stdout",
     "output_type": "stream",
     "text": [
      "1/1 [==============================] - 0s 117ms/step\n"
     ]
    },
    {
     "data": {
      "text/plain": [
       "Text(0.5, 15.0, 'Predicted label')"
      ]
     },
     "execution_count": 13,
     "metadata": {},
     "output_type": "execute_result"
    },
    {
     "data": {
      "image/png": "[encoded data removed]",
      "text/plain": [
       "<Figure size 576x288 with 2 Axes>"
      ]
     },
     "metadata": {
      "needs_background": "light"
     },
     "output_type": "display_data"
    }
   ],
   "source": [
    "pred_test = model.predict(data_test)\n",
    "conf_mat = confusion_matrix(target_test.to_numpy().argmax(axis=1), pred_test.argmax(axis=1), normalize='true')\n",
    "plt.figure(figsize=(8, 4))\n",
    "sns.heatmap(conf_mat/conf_mat.sum(axis=1), xticklabels=classes, yticklabels=classes,\n",
    "            annot=True, fmt='.1%')\n",
    "plt.title('Confusion matrix on test data')\n",
    "plt.ylabel('True label')\n",
    "plt.xlabel('Predicted label')"
   ]
  },
  {
   "cell_type": "markdown",
   "id": "86828bbb-b9f2-4178-86a8-60ec164c46f7",
   "metadata": {},
   "source": [
    "## Convert model to ONNX format"
   ]
  },
  {
   "cell_type": "code",
   "execution_count": 14,
   "id": "c910a53a-a6c1-45f1-a5ba-5ba1f5327848",
   "metadata": {},
   "outputs": [
    {
     "name": "stdout",
     "output_type": "stream",
     "text": [
      "/Users/loostrum/pyenv/versions/3.9.1/lib/python3.9/runpy.py:127: RuntimeWarning: 'tf2onnx.convert' found in sys.modules after import of package 'tf2onnx', but prior to execution of 'tf2onnx.convert'; this may result in unpredictable behaviour\n",
      "  warn(RuntimeWarning(msg))\n",
      "/Users/loostrum/pyenv/versions/dianna/lib/python3.9/site-packages/tensorflow/python/keras/backend.py:437: UserWarning: `tf.keras.backend.set_learning_phase` is deprecated and will be removed after 2020-10-11. To update it, simply pass a True/False value to the `training` argument of the `__call__` method of your layer or model.\n",
      "  warnings.warn('`tf.keras.backend.set_learning_phase` is deprecated and '\n",
      "WARNING:tensorflow:From /Users/loostrum/pyenv/versions/dianna/lib/python3.9/site-packages/tf2onnx/tf_loader.py:706: extract_sub_graph (from tensorflow.python.framework.graph_util_impl) is deprecated and will be removed in a future version.\n",
      "Instructions for updating:\n",
      "Use `tf.compat.v1.graph_util.extract_sub_graph`\n",
      "2022-11-18 16:03:32,120 - WARNING - From /Users/loostrum/pyenv/versions/dianna/lib/python3.9/site-packages/tf2onnx/tf_loader.py:706: extract_sub_graph (from tensorflow.python.framework.graph_util_impl) is deprecated and will be removed in a future version.\n",
      "Instructions for updating:\n",
      "Use `tf.compat.v1.graph_util.extract_sub_graph`\n",
      "2022-11-18 16:03:32,139 - INFO - Using tensorflow=2.9.1, onnx=1.10.1, tf2onnx=1.9.3/1190aa\n",
      "2022-11-18 16:03:32,139 - INFO - Using opset <onnx, 9>\n",
      "2022-11-18 16:03:32,153 - INFO - Computed 0 values for constant folding\n",
      "2022-11-18 16:03:32,186 - INFO - Optimizing ONNX model\n",
      "2022-11-18 16:03:32,271 - INFO - After optimization: Const -3 (13->10), GlobalMaxPool +1 (0->1), Identity -15 (15->0), ReduceMax -1 (1->0), Squeeze +1 (2->3), Transpose -3 (4->1)\n",
      "2022-11-18 16:03:32,274 - INFO - \n",
      "2022-11-18 16:03:32,274 - INFO - Successfully converted TensorFlow model weather_prediction_model to ONNX\n",
      "2022-11-18 16:03:32,274 - INFO - Model inputs: ['input_1:0']\n",
      "2022-11-18 16:03:32,274 - INFO - Model outputs: ['Identity:0']\n",
      "2022-11-18 16:03:32,274 - INFO - ONNX model is saved at weather_prediction_model.onnx\n"
     ]
    }
   ],
   "source": [
    "output_file = 'weather_prediction_model.onnx'\n",
    "!python -m tf2onnx.convert --keras {model_dir} --output {output_file}"
   ]
  }
 ],
 "metadata": {
  "kernelspec": {
   "display_name": "Python 3 (ipykernel)",
   "language": "python",
   "name": "python3"
  },
  "language_info": {
   "codemirror_mode": {
    "name": "ipython",
    "version": 3
   },
   "file_extension": ".py",
   "mimetype": "text/x-python",
   "name": "python",
   "nbconvert_exporter": "python",
   "pygments_lexer": "ipython3",
   "version": "3.9.1"
  }
 },
 "nbformat": 4,
 "nbformat_minor": 5
}
