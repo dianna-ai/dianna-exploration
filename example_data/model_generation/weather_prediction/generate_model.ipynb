{
 "cells": [
  {
   "cell_type": "markdown",
   "id": "9c46486a-fdb7-41be-b1f1-2744e7733d58",
   "metadata": {},
   "source": [
    "## Model generation for weather prediction dataset\n",
    "In this notebook we create a neural network for weather prediction using [this](https://zenodo.org/record/7053722) dataset.  \n",
    "The model will be used to explore timeseries-based explainable AI methods.  "
   ]
  },
  {
   "cell_type": "code",
   "execution_count": 1,
   "id": "ef636b6a-32b7-4b28-8c4c-89a291762c38",
   "metadata": {},
   "outputs": [],
   "source": [
    "import os\n",
    "import pandas as pd\n",
    "import numpy as np\n",
    "import matplotlib.pyplot as plt\n",
    "from tensorflow import keras\n",
    "from sklearn.model_selection import train_test_split"
   ]
  },
  {
   "cell_type": "code",
   "execution_count": 2,
   "id": "136ef4dd-668e-4a73-bc57-499d8266f38b",
   "metadata": {},
   "outputs": [
    {
     "data": {
      "text/html": [
       "<div>\n",
       "<style scoped>\n",
       "    .dataframe tbody tr th:only-of-type {\n",
       "        vertical-align: middle;\n",
       "    }\n",
       "\n",
       "    .dataframe tbody tr th {\n",
       "        vertical-align: top;\n",
       "    }\n",
       "\n",
       "    .dataframe thead th {\n",
       "        text-align: right;\n",
       "    }\n",
       "</style>\n",
       "<table border=\"1\" class=\"dataframe\">\n",
       "  <thead>\n",
       "    <tr style=\"text-align: right;\">\n",
       "      <th></th>\n",
       "      <th>DATE</th>\n",
       "      <th>MONTH</th>\n",
       "      <th>BASEL_cloud_cover</th>\n",
       "      <th>BASEL_humidity</th>\n",
       "      <th>BASEL_pressure</th>\n",
       "      <th>BASEL_global_radiation</th>\n",
       "      <th>BASEL_precipitation</th>\n",
       "      <th>BASEL_sunshine</th>\n",
       "      <th>BASEL_temp_mean</th>\n",
       "      <th>BASEL_temp_min</th>\n",
       "      <th>...</th>\n",
       "      <th>SONNBLICK_temp_mean</th>\n",
       "      <th>SONNBLICK_temp_min</th>\n",
       "      <th>SONNBLICK_temp_max</th>\n",
       "      <th>TOURS_humidity</th>\n",
       "      <th>TOURS_pressure</th>\n",
       "      <th>TOURS_global_radiation</th>\n",
       "      <th>TOURS_precipitation</th>\n",
       "      <th>TOURS_temp_mean</th>\n",
       "      <th>TOURS_temp_min</th>\n",
       "      <th>TOURS_temp_max</th>\n",
       "    </tr>\n",
       "  </thead>\n",
       "  <tbody>\n",
       "    <tr>\n",
       "      <th>count</th>\n",
       "      <td>3.654000e+03</td>\n",
       "      <td>3654.000000</td>\n",
       "      <td>3654.000000</td>\n",
       "      <td>3654.000000</td>\n",
       "      <td>3654.000000</td>\n",
       "      <td>3654.000000</td>\n",
       "      <td>3654.000000</td>\n",
       "      <td>3654.000000</td>\n",
       "      <td>3654.000000</td>\n",
       "      <td>3654.000000</td>\n",
       "      <td>...</td>\n",
       "      <td>3654.000000</td>\n",
       "      <td>3654.000000</td>\n",
       "      <td>3654.000000</td>\n",
       "      <td>3654.000000</td>\n",
       "      <td>3654.000000</td>\n",
       "      <td>3654.000000</td>\n",
       "      <td>3654.000000</td>\n",
       "      <td>3654.000000</td>\n",
       "      <td>3654.000000</td>\n",
       "      <td>3654.000000</td>\n",
       "    </tr>\n",
       "    <tr>\n",
       "      <th>mean</th>\n",
       "      <td>2.004568e+07</td>\n",
       "      <td>6.520799</td>\n",
       "      <td>5.418446</td>\n",
       "      <td>0.745107</td>\n",
       "      <td>1.017876</td>\n",
       "      <td>1.330380</td>\n",
       "      <td>0.234849</td>\n",
       "      <td>4.661193</td>\n",
       "      <td>11.022797</td>\n",
       "      <td>6.989135</td>\n",
       "      <td>...</td>\n",
       "      <td>-4.626327</td>\n",
       "      <td>-6.884319</td>\n",
       "      <td>-2.352244</td>\n",
       "      <td>0.781872</td>\n",
       "      <td>1.016639</td>\n",
       "      <td>1.369787</td>\n",
       "      <td>0.186100</td>\n",
       "      <td>12.205802</td>\n",
       "      <td>7.860536</td>\n",
       "      <td>16.551779</td>\n",
       "    </tr>\n",
       "    <tr>\n",
       "      <th>std</th>\n",
       "      <td>2.874287e+04</td>\n",
       "      <td>3.450083</td>\n",
       "      <td>2.325497</td>\n",
       "      <td>0.107788</td>\n",
       "      <td>0.007962</td>\n",
       "      <td>0.935348</td>\n",
       "      <td>0.536267</td>\n",
       "      <td>4.330112</td>\n",
       "      <td>7.414754</td>\n",
       "      <td>6.653356</td>\n",
       "      <td>...</td>\n",
       "      <td>6.987080</td>\n",
       "      <td>7.120333</td>\n",
       "      <td>6.972886</td>\n",
       "      <td>0.115572</td>\n",
       "      <td>0.018885</td>\n",
       "      <td>0.926472</td>\n",
       "      <td>0.422151</td>\n",
       "      <td>6.467155</td>\n",
       "      <td>5.692256</td>\n",
       "      <td>7.714924</td>\n",
       "    </tr>\n",
       "    <tr>\n",
       "      <th>min</th>\n",
       "      <td>2.000010e+07</td>\n",
       "      <td>1.000000</td>\n",
       "      <td>0.000000</td>\n",
       "      <td>0.380000</td>\n",
       "      <td>0.985600</td>\n",
       "      <td>0.050000</td>\n",
       "      <td>0.000000</td>\n",
       "      <td>0.000000</td>\n",
       "      <td>-9.300000</td>\n",
       "      <td>-16.000000</td>\n",
       "      <td>...</td>\n",
       "      <td>-26.600000</td>\n",
       "      <td>-30.300000</td>\n",
       "      <td>-24.700000</td>\n",
       "      <td>0.330000</td>\n",
       "      <td>0.000300</td>\n",
       "      <td>0.050000</td>\n",
       "      <td>0.000000</td>\n",
       "      <td>-6.200000</td>\n",
       "      <td>-13.000000</td>\n",
       "      <td>-3.100000</td>\n",
       "    </tr>\n",
       "    <tr>\n",
       "      <th>25%</th>\n",
       "      <td>2.002070e+07</td>\n",
       "      <td>4.000000</td>\n",
       "      <td>4.000000</td>\n",
       "      <td>0.670000</td>\n",
       "      <td>1.013300</td>\n",
       "      <td>0.530000</td>\n",
       "      <td>0.000000</td>\n",
       "      <td>0.500000</td>\n",
       "      <td>5.300000</td>\n",
       "      <td>2.000000</td>\n",
       "      <td>...</td>\n",
       "      <td>-9.400000</td>\n",
       "      <td>-11.800000</td>\n",
       "      <td>-7.100000</td>\n",
       "      <td>0.700000</td>\n",
       "      <td>1.012100</td>\n",
       "      <td>0.550000</td>\n",
       "      <td>0.000000</td>\n",
       "      <td>7.600000</td>\n",
       "      <td>3.700000</td>\n",
       "      <td>10.800000</td>\n",
       "    </tr>\n",
       "    <tr>\n",
       "      <th>50%</th>\n",
       "      <td>2.004567e+07</td>\n",
       "      <td>7.000000</td>\n",
       "      <td>6.000000</td>\n",
       "      <td>0.760000</td>\n",
       "      <td>1.017700</td>\n",
       "      <td>1.110000</td>\n",
       "      <td>0.000000</td>\n",
       "      <td>3.600000</td>\n",
       "      <td>11.400000</td>\n",
       "      <td>7.300000</td>\n",
       "      <td>...</td>\n",
       "      <td>-4.400000</td>\n",
       "      <td>-6.400000</td>\n",
       "      <td>-2.200000</td>\n",
       "      <td>0.800000</td>\n",
       "      <td>1.017300</td>\n",
       "      <td>1.235000</td>\n",
       "      <td>0.000000</td>\n",
       "      <td>12.300000</td>\n",
       "      <td>8.300000</td>\n",
       "      <td>16.600000</td>\n",
       "    </tr>\n",
       "    <tr>\n",
       "      <th>75%</th>\n",
       "      <td>2.007070e+07</td>\n",
       "      <td>10.000000</td>\n",
       "      <td>7.000000</td>\n",
       "      <td>0.830000</td>\n",
       "      <td>1.022700</td>\n",
       "      <td>2.060000</td>\n",
       "      <td>0.210000</td>\n",
       "      <td>8.000000</td>\n",
       "      <td>16.900000</td>\n",
       "      <td>12.400000</td>\n",
       "      <td>...</td>\n",
       "      <td>0.700000</td>\n",
       "      <td>-1.100000</td>\n",
       "      <td>2.700000</td>\n",
       "      <td>0.870000</td>\n",
       "      <td>1.022200</td>\n",
       "      <td>2.090000</td>\n",
       "      <td>0.160000</td>\n",
       "      <td>17.200000</td>\n",
       "      <td>12.300000</td>\n",
       "      <td>22.400000</td>\n",
       "    </tr>\n",
       "    <tr>\n",
       "      <th>max</th>\n",
       "      <td>2.010010e+07</td>\n",
       "      <td>12.000000</td>\n",
       "      <td>8.000000</td>\n",
       "      <td>0.980000</td>\n",
       "      <td>1.040800</td>\n",
       "      <td>3.550000</td>\n",
       "      <td>7.570000</td>\n",
       "      <td>15.300000</td>\n",
       "      <td>29.000000</td>\n",
       "      <td>20.800000</td>\n",
       "      <td>...</td>\n",
       "      <td>13.800000</td>\n",
       "      <td>8.700000</td>\n",
       "      <td>14.300000</td>\n",
       "      <td>1.000000</td>\n",
       "      <td>1.041400</td>\n",
       "      <td>3.560000</td>\n",
       "      <td>6.200000</td>\n",
       "      <td>31.200000</td>\n",
       "      <td>22.600000</td>\n",
       "      <td>39.800000</td>\n",
       "    </tr>\n",
       "  </tbody>\n",
       "</table>\n",
       "<p>8 rows × 91 columns</p>\n",
       "</div>"
      ],
      "text/plain": [
       "               DATE        MONTH  BASEL_cloud_cover  BASEL_humidity  \\\n",
       "count  3.654000e+03  3654.000000        3654.000000     3654.000000   \n",
       "mean   2.004568e+07     6.520799           5.418446        0.745107   \n",
       "std    2.874287e+04     3.450083           2.325497        0.107788   \n",
       "min    2.000010e+07     1.000000           0.000000        0.380000   \n",
       "25%    2.002070e+07     4.000000           4.000000        0.670000   \n",
       "50%    2.004567e+07     7.000000           6.000000        0.760000   \n",
       "75%    2.007070e+07    10.000000           7.000000        0.830000   \n",
       "max    2.010010e+07    12.000000           8.000000        0.980000   \n",
       "\n",
       "       BASEL_pressure  BASEL_global_radiation  BASEL_precipitation  \\\n",
       "count     3654.000000             3654.000000          3654.000000   \n",
       "mean         1.017876                1.330380             0.234849   \n",
       "std          0.007962                0.935348             0.536267   \n",
       "min          0.985600                0.050000             0.000000   \n",
       "25%          1.013300                0.530000             0.000000   \n",
       "50%          1.017700                1.110000             0.000000   \n",
       "75%          1.022700                2.060000             0.210000   \n",
       "max          1.040800                3.550000             7.570000   \n",
       "\n",
       "       BASEL_sunshine  BASEL_temp_mean  BASEL_temp_min  ...  \\\n",
       "count     3654.000000      3654.000000     3654.000000  ...   \n",
       "mean         4.661193        11.022797        6.989135  ...   \n",
       "std          4.330112         7.414754        6.653356  ...   \n",
       "min          0.000000        -9.300000      -16.000000  ...   \n",
       "25%          0.500000         5.300000        2.000000  ...   \n",
       "50%          3.600000        11.400000        7.300000  ...   \n",
       "75%          8.000000        16.900000       12.400000  ...   \n",
       "max         15.300000        29.000000       20.800000  ...   \n",
       "\n",
       "       SONNBLICK_temp_mean  SONNBLICK_temp_min  SONNBLICK_temp_max  \\\n",
       "count          3654.000000         3654.000000         3654.000000   \n",
       "mean             -4.626327           -6.884319           -2.352244   \n",
       "std               6.987080            7.120333            6.972886   \n",
       "min             -26.600000          -30.300000          -24.700000   \n",
       "25%              -9.400000          -11.800000           -7.100000   \n",
       "50%              -4.400000           -6.400000           -2.200000   \n",
       "75%               0.700000           -1.100000            2.700000   \n",
       "max              13.800000            8.700000           14.300000   \n",
       "\n",
       "       TOURS_humidity  TOURS_pressure  TOURS_global_radiation  \\\n",
       "count     3654.000000     3654.000000             3654.000000   \n",
       "mean         0.781872        1.016639                1.369787   \n",
       "std          0.115572        0.018885                0.926472   \n",
       "min          0.330000        0.000300                0.050000   \n",
       "25%          0.700000        1.012100                0.550000   \n",
       "50%          0.800000        1.017300                1.235000   \n",
       "75%          0.870000        1.022200                2.090000   \n",
       "max          1.000000        1.041400                3.560000   \n",
       "\n",
       "       TOURS_precipitation  TOURS_temp_mean  TOURS_temp_min  TOURS_temp_max  \n",
       "count          3654.000000      3654.000000     3654.000000     3654.000000  \n",
       "mean              0.186100        12.205802        7.860536       16.551779  \n",
       "std               0.422151         6.467155        5.692256        7.714924  \n",
       "min               0.000000        -6.200000      -13.000000       -3.100000  \n",
       "25%               0.000000         7.600000        3.700000       10.800000  \n",
       "50%               0.000000        12.300000        8.300000       16.600000  \n",
       "75%               0.160000        17.200000       12.300000       22.400000  \n",
       "max               6.200000        31.200000       22.600000       39.800000  \n",
       "\n",
       "[8 rows x 91 columns]"
      ]
     },
     "execution_count": 2,
     "metadata": {},
     "output_type": "execute_result"
    }
   ],
   "source": [
    "fname = \"weather_prediction_dataset_light.csv\"\n",
    "if os.path.isfile(fname):\n",
    "    data = pd.read_csv(fname)\n",
    "else:\n",
    "    data = pd.read_csv(f\"https://zenodo.org/record/5071376/files/{fname}?download=1\")\n",
    "data.describe()"
   ]
  },
  {
   "cell_type": "markdown",
   "id": "dad085d8-6d98-43e4-9c68-5c0955c9463d",
   "metadata": {},
   "source": [
    "## Defining the classification task\n",
    "For simplicity we take data from a single location (DE_BILT). The timeseries are split per month, and we predict whether the each timeseries belongs to winter/summer (reduce to 2 seasons for simplicity - 4 seasons or even 12 months would be more complicated for XAI)."
   ]
  },
  {
   "cell_type": "code",
   "execution_count": 3,
   "id": "3fec7b20-59e1-4ed3-a9c1-04ec10e69d5c",
   "metadata": {},
   "outputs": [],
   "source": [
    "columns = [col for col in data.columns if col.startswith('DE_BILT')]\n",
    "\n",
    "data_debilt = data[columns]"
   ]
  },
  {
   "cell_type": "code",
   "execution_count": 4,
   "id": "d0e57457-6aee-4a11-ae49-ca931b9a75b9",
   "metadata": {},
   "outputs": [
    {
     "name": "stdout",
     "output_type": "stream",
     "text": [
      "(120, 28, 9)\n"
     ]
    }
   ],
   "source": [
    "# find where the month changes\n",
    "idx = np.where(np.diff(data['MONTH']) != 0)[0]\n",
    "# idx contains the index of the last day of each month, except for the last month.\n",
    "# of the last month only a single day is recorded, so we discard it.\n",
    "\n",
    "nmonth = len(idx)\n",
    "# add start of first month\n",
    "idx = np.insert(idx, 0, 0)\n",
    "ncol = len(columns)\n",
    "nday = 28\n",
    "\n",
    "# create single object containing each timeseries\n",
    "# for simplicity we truncate each timeseries to the same length, i.e. 28 days\n",
    "data_ts = np.zeros((nmonth, nday, ncol))\n",
    "for m in range(nmonth):\n",
    "    data_ts[m] = data_debilt[idx[m]:idx[m+1]][:28]\n",
    "    \n",
    "print(data_ts.shape)"
   ]
  },
  {
   "cell_type": "code",
   "execution_count": 5,
   "id": "22b82466-ca31-4d55-b457-8821d18b60aa",
   "metadata": {},
   "outputs": [],
   "source": [
    "# the labels are the month of each timeseries\n",
    "months = (np.arange(nmonth) + data['MONTH'][0]) % 12\n",
    "\n",
    "# create one-hot encoded target. 0 = winter (oct-mar), 1 = summer (apr-sep)\n",
    "target = pd.get_dummies((3 < months) & (months < 10)).to_numpy()\n",
    "classes = ['winter', 'summer']"
   ]
  },
  {
   "cell_type": "markdown",
   "id": "db3085a8-5b2d-4565-b3b7-b0bff991c928",
   "metadata": {},
   "source": [
    "## Train - validation - test split"
   ]
  },
  {
   "cell_type": "code",
   "execution_count": 6,
   "id": "08e34c0c-62e3-4078-ab36-2a9cb2713e3f",
   "metadata": {},
   "outputs": [
    {
     "name": "stdout",
     "output_type": "stream",
     "text": [
      "(92, 28, 9) (13, 28, 9) (15, 28, 9)\n"
     ]
    }
   ],
   "source": [
    "data_trainval, data_test, target_trainval, target_test = train_test_split(data_ts, target, stratify=target, random_state=0, test_size=.12)\n",
    "data_train, data_val, target_train, target_val = train_test_split(data_trainval, target_trainval, stratify=target_trainval, random_state=0, test_size=.12)\n",
    "print(data_train.shape, data_val.shape, data_test.shape)"
   ]
  },
  {
   "cell_type": "markdown",
   "id": "94a82da4-fada-4f4c-9d97-fd17afd12960",
   "metadata": {},
   "source": [
    "## Define the model"
   ]
  },
  {
   "cell_type": "code",
   "execution_count": 7,
   "id": "30585506-c36d-448b-a0cb-7ec2f91c6a8c",
   "metadata": {},
   "outputs": [],
   "source": [
    "def create_model():\n",
    "    inputs = keras.Input(data_train.shape[1:])\n",
    "    x = keras.layers.Conv1D(8, 3, padding=\"causal\")(inputs)\n",
    "    x = keras.layers.BatchNormalization()(x)\n",
    "    x = keras.layers.Activation(\"relu\")(x)\n",
    "\n",
    "    x = keras.layers.Conv1D(4, 3, padding=\"causal\")(x)\n",
    "    x = keras.layers.BatchNormalization()(x)\n",
    "    x = keras.layers.Activation(\"relu\")(x)\n",
    "\n",
    "    x = keras.layers.GlobalMaxPool1D()(x)\n",
    "\n",
    "    outputs = keras.layers.Dense(2, activation=\"softmax\")(x)\n",
    "    return keras.Model(inputs, outputs)"
   ]
  },
  {
   "cell_type": "code",
   "execution_count": 8,
   "id": "2706ea74-adcc-447f-b615-0461e817e963",
   "metadata": {},
   "outputs": [
    {
     "name": "stderr",
     "output_type": "stream",
     "text": [
      "2022-11-17 11:37:38.095817: I tensorflow/core/platform/cpu_feature_guard.cc:193] This TensorFlow binary is optimized with oneAPI Deep Neural Network Library (oneDNN) to use the following CPU instructions in performance-critical operations:  AVX2 AVX512F AVX512_VNNI FMA\n",
      "To enable them in other operations, rebuild TensorFlow with the appropriate compiler flags.\n"
     ]
    }
   ],
   "source": [
    "batch_size = 8\n",
    "epochs = 64\n",
    "learning_rate = 1e-3\n",
    "\n",
    "model = create_model()\n",
    "model.compile(optimizer=keras.optimizers.Adam(learning_rate), loss=\"binary_crossentropy\", metrics=[\"accuracy\"])"
   ]
  },
  {
   "cell_type": "code",
   "execution_count": 9,
   "id": "6e1987db-5dae-46e6-bbaf-ce3a043af0bb",
   "metadata": {},
   "outputs": [
    {
     "name": "stdout",
     "output_type": "stream",
     "text": [
      "Epoch 1/64\n",
      "12/12 [==============================] - 1s 23ms/step - loss: 1.1850 - accuracy: 0.5000 - val_loss: 1.6223 - val_accuracy: 0.4615\n",
      "Epoch 2/64\n",
      "12/12 [==============================] - 0s 5ms/step - loss: 0.9274 - accuracy: 0.5000 - val_loss: 1.3782 - val_accuracy: 0.5385\n",
      "Epoch 3/64\n",
      "12/12 [==============================] - 0s 5ms/step - loss: 0.7869 - accuracy: 0.5217 - val_loss: 1.2001 - val_accuracy: 0.5385\n",
      "Epoch 4/64\n",
      "12/12 [==============================] - 0s 4ms/step - loss: 0.7460 - accuracy: 0.5652 - val_loss: 1.0363 - val_accuracy: 0.6923\n",
      "Epoch 5/64\n",
      "12/12 [==============================] - 0s 5ms/step - loss: 0.7009 - accuracy: 0.5870 - val_loss: 0.8965 - val_accuracy: 0.8462\n",
      "Epoch 6/64\n",
      "12/12 [==============================] - 0s 5ms/step - loss: 0.6554 - accuracy: 0.6304 - val_loss: 0.7966 - val_accuracy: 0.9231\n",
      "Epoch 7/64\n",
      "12/12 [==============================] - 0s 5ms/step - loss: 0.6444 - accuracy: 0.6522 - val_loss: 0.7176 - val_accuracy: 0.9231\n",
      "Epoch 8/64\n",
      "12/12 [==============================] - 0s 5ms/step - loss: 0.6134 - accuracy: 0.7174 - val_loss: 0.6678 - val_accuracy: 1.0000\n",
      "Epoch 9/64\n",
      "12/12 [==============================] - 0s 5ms/step - loss: 0.6162 - accuracy: 0.7391 - val_loss: 0.6265 - val_accuracy: 0.8462\n",
      "Epoch 10/64\n",
      "12/12 [==============================] - 0s 4ms/step - loss: 0.5747 - accuracy: 0.7500 - val_loss: 0.5916 - val_accuracy: 0.8462\n",
      "Epoch 11/64\n",
      "12/12 [==============================] - 0s 4ms/step - loss: 0.5743 - accuracy: 0.7609 - val_loss: 0.5677 - val_accuracy: 0.8462\n",
      "Epoch 12/64\n",
      "12/12 [==============================] - 0s 4ms/step - loss: 0.5405 - accuracy: 0.7935 - val_loss: 0.5475 - val_accuracy: 0.8462\n",
      "Epoch 13/64\n",
      "12/12 [==============================] - 0s 5ms/step - loss: 0.5270 - accuracy: 0.8478 - val_loss: 0.5294 - val_accuracy: 0.8462\n",
      "Epoch 14/64\n",
      "12/12 [==============================] - 0s 5ms/step - loss: 0.5241 - accuracy: 0.8587 - val_loss: 0.5178 - val_accuracy: 0.8462\n",
      "Epoch 15/64\n",
      "12/12 [==============================] - 0s 5ms/step - loss: 0.5066 - accuracy: 0.8478 - val_loss: 0.5096 - val_accuracy: 0.8462\n",
      "Epoch 16/64\n",
      "12/12 [==============================] - 0s 4ms/step - loss: 0.5389 - accuracy: 0.8043 - val_loss: 0.5027 - val_accuracy: 0.8462\n",
      "Epoch 17/64\n",
      "12/12 [==============================] - 0s 4ms/step - loss: 0.4943 - accuracy: 0.8696 - val_loss: 0.4957 - val_accuracy: 0.8462\n",
      "Epoch 18/64\n",
      "12/12 [==============================] - 0s 4ms/step - loss: 0.5345 - accuracy: 0.8370 - val_loss: 0.4891 - val_accuracy: 0.8462\n",
      "Epoch 19/64\n",
      "12/12 [==============================] - 0s 4ms/step - loss: 0.5113 - accuracy: 0.8696 - val_loss: 0.4858 - val_accuracy: 0.8462\n",
      "Epoch 20/64\n",
      "12/12 [==============================] - 0s 5ms/step - loss: 0.4891 - accuracy: 0.8478 - val_loss: 0.4823 - val_accuracy: 0.8462\n",
      "Epoch 21/64\n",
      "12/12 [==============================] - 0s 5ms/step - loss: 0.5178 - accuracy: 0.8587 - val_loss: 0.4739 - val_accuracy: 0.8462\n",
      "Epoch 22/64\n",
      "12/12 [==============================] - 0s 5ms/step - loss: 0.4726 - accuracy: 0.8587 - val_loss: 0.4662 - val_accuracy: 0.8462\n",
      "Epoch 23/64\n",
      "12/12 [==============================] - 0s 4ms/step - loss: 0.4747 - accuracy: 0.8696 - val_loss: 0.4613 - val_accuracy: 0.8462\n",
      "Epoch 24/64\n",
      "12/12 [==============================] - 0s 5ms/step - loss: 0.4588 - accuracy: 0.8696 - val_loss: 0.4534 - val_accuracy: 0.8462\n",
      "Epoch 25/64\n",
      "12/12 [==============================] - 0s 4ms/step - loss: 0.4407 - accuracy: 0.9239 - val_loss: 0.4452 - val_accuracy: 0.8462\n",
      "Epoch 26/64\n",
      "12/12 [==============================] - 0s 4ms/step - loss: 0.4393 - accuracy: 0.9130 - val_loss: 0.4390 - val_accuracy: 0.8462\n",
      "Epoch 27/64\n",
      "12/12 [==============================] - 0s 4ms/step - loss: 0.4524 - accuracy: 0.8696 - val_loss: 0.4338 - val_accuracy: 0.8462\n",
      "Epoch 28/64\n",
      "12/12 [==============================] - 0s 4ms/step - loss: 0.4459 - accuracy: 0.8696 - val_loss: 0.4269 - val_accuracy: 0.8462\n",
      "Epoch 29/64\n",
      "12/12 [==============================] - 0s 4ms/step - loss: 0.4714 - accuracy: 0.8587 - val_loss: 0.4202 - val_accuracy: 0.8462\n",
      "Epoch 30/64\n",
      "12/12 [==============================] - 0s 5ms/step - loss: 0.4030 - accuracy: 0.9130 - val_loss: 0.4123 - val_accuracy: 0.8462\n",
      "Epoch 31/64\n",
      "12/12 [==============================] - 0s 4ms/step - loss: 0.4182 - accuracy: 0.9022 - val_loss: 0.4045 - val_accuracy: 0.8462\n",
      "Epoch 32/64\n",
      "12/12 [==============================] - 0s 5ms/step - loss: 0.4403 - accuracy: 0.8696 - val_loss: 0.3987 - val_accuracy: 0.8462\n",
      "Epoch 33/64\n",
      "12/12 [==============================] - 0s 4ms/step - loss: 0.3801 - accuracy: 0.9348 - val_loss: 0.3998 - val_accuracy: 0.8462\n",
      "Epoch 34/64\n",
      "12/12 [==============================] - 0s 5ms/step - loss: 0.3807 - accuracy: 0.9239 - val_loss: 0.3995 - val_accuracy: 0.8462\n",
      "Epoch 35/64\n",
      "12/12 [==============================] - 0s 4ms/step - loss: 0.4040 - accuracy: 0.8804 - val_loss: 0.3960 - val_accuracy: 0.8462\n",
      "Epoch 36/64\n",
      "12/12 [==============================] - 0s 4ms/step - loss: 0.3811 - accuracy: 0.9130 - val_loss: 0.3971 - val_accuracy: 0.8462\n",
      "Epoch 37/64\n",
      "12/12 [==============================] - 0s 5ms/step - loss: 0.3980 - accuracy: 0.9130 - val_loss: 0.3962 - val_accuracy: 0.8462\n",
      "Epoch 38/64\n",
      "12/12 [==============================] - 0s 5ms/step - loss: 0.3947 - accuracy: 0.8696 - val_loss: 0.3841 - val_accuracy: 0.8462\n",
      "Epoch 39/64\n",
      "12/12 [==============================] - 0s 5ms/step - loss: 0.3653 - accuracy: 0.8913 - val_loss: 0.3814 - val_accuracy: 0.8462\n",
      "Epoch 40/64\n",
      "12/12 [==============================] - 0s 4ms/step - loss: 0.4077 - accuracy: 0.8696 - val_loss: 0.3704 - val_accuracy: 0.8462\n",
      "Epoch 41/64\n",
      "12/12 [==============================] - 0s 4ms/step - loss: 0.3517 - accuracy: 0.9130 - val_loss: 0.3656 - val_accuracy: 0.8462\n",
      "Epoch 42/64\n",
      "12/12 [==============================] - 0s 5ms/step - loss: 0.3468 - accuracy: 0.8913 - val_loss: 0.3631 - val_accuracy: 0.8462\n",
      "Epoch 43/64\n",
      "12/12 [==============================] - 0s 4ms/step - loss: 0.3261 - accuracy: 0.9457 - val_loss: 0.3582 - val_accuracy: 0.8462\n",
      "Epoch 44/64\n",
      "12/12 [==============================] - 0s 4ms/step - loss: 0.3426 - accuracy: 0.9130 - val_loss: 0.3623 - val_accuracy: 0.8462\n",
      "Epoch 45/64\n",
      "12/12 [==============================] - 0s 4ms/step - loss: 0.3225 - accuracy: 0.9348 - val_loss: 0.3748 - val_accuracy: 0.8462\n",
      "Epoch 46/64\n",
      "12/12 [==============================] - 0s 4ms/step - loss: 0.3886 - accuracy: 0.8696 - val_loss: 0.3839 - val_accuracy: 0.8462\n",
      "Epoch 47/64\n",
      "12/12 [==============================] - 0s 4ms/step - loss: 0.3030 - accuracy: 0.9457 - val_loss: 0.3347 - val_accuracy: 0.9231\n",
      "Epoch 48/64\n",
      "12/12 [==============================] - 0s 5ms/step - loss: 0.3047 - accuracy: 0.9457 - val_loss: 0.3220 - val_accuracy: 0.9231\n",
      "Epoch 49/64\n",
      "12/12 [==============================] - 0s 5ms/step - loss: 0.2893 - accuracy: 0.9239 - val_loss: 0.3173 - val_accuracy: 0.9231\n",
      "Epoch 50/64\n",
      "12/12 [==============================] - 0s 4ms/step - loss: 0.2987 - accuracy: 0.9348 - val_loss: 0.3286 - val_accuracy: 0.9231\n",
      "Epoch 51/64\n",
      "12/12 [==============================] - 0s 4ms/step - loss: 0.3673 - accuracy: 0.9239 - val_loss: 0.3382 - val_accuracy: 0.8462\n",
      "Epoch 52/64\n",
      "12/12 [==============================] - 0s 4ms/step - loss: 0.3079 - accuracy: 0.9239 - val_loss: 0.3469 - val_accuracy: 0.8462\n",
      "Epoch 53/64\n",
      "12/12 [==============================] - 0s 4ms/step - loss: 0.2629 - accuracy: 0.9457 - val_loss: 0.3210 - val_accuracy: 0.9231\n",
      "Epoch 54/64\n",
      "12/12 [==============================] - 0s 4ms/step - loss: 0.3385 - accuracy: 0.9239 - val_loss: 0.3105 - val_accuracy: 0.9231\n",
      "Epoch 55/64\n",
      "12/12 [==============================] - 0s 4ms/step - loss: 0.3347 - accuracy: 0.9022 - val_loss: 0.3307 - val_accuracy: 0.9231\n",
      "Epoch 56/64\n",
      "12/12 [==============================] - 0s 4ms/step - loss: 0.2570 - accuracy: 0.9457 - val_loss: 0.3092 - val_accuracy: 0.9231\n",
      "Epoch 57/64\n",
      "12/12 [==============================] - 0s 5ms/step - loss: 0.2488 - accuracy: 0.9239 - val_loss: 0.3014 - val_accuracy: 0.9231\n",
      "Epoch 58/64\n",
      "12/12 [==============================] - 0s 4ms/step - loss: 0.2735 - accuracy: 0.9239 - val_loss: 0.2953 - val_accuracy: 1.0000\n",
      "Epoch 59/64\n",
      "12/12 [==============================] - 0s 5ms/step - loss: 0.2510 - accuracy: 0.9457 - val_loss: 0.3018 - val_accuracy: 1.0000\n",
      "Epoch 60/64\n",
      "12/12 [==============================] - 0s 5ms/step - loss: 0.2452 - accuracy: 0.9348 - val_loss: 0.2870 - val_accuracy: 1.0000\n",
      "Epoch 61/64\n",
      "12/12 [==============================] - 0s 4ms/step - loss: 0.2467 - accuracy: 0.9565 - val_loss: 0.2697 - val_accuracy: 1.0000\n",
      "Epoch 62/64\n",
      "12/12 [==============================] - 0s 4ms/step - loss: 0.2498 - accuracy: 0.9674 - val_loss: 0.2675 - val_accuracy: 1.0000\n",
      "Epoch 63/64\n",
      "12/12 [==============================] - 0s 5ms/step - loss: 0.2480 - accuracy: 0.9565 - val_loss: 0.2648 - val_accuracy: 1.0000\n",
      "Epoch 64/64\n",
      "12/12 [==============================] - 0s 4ms/step - loss: 0.2306 - accuracy: 0.9457 - val_loss: 0.2658 - val_accuracy: 1.0000\n"
     ]
    }
   ],
   "source": [
    "hist = model.fit(data_train, target_train, validation_data=(data_val, target_val), batch_size=batch_size, epochs=epochs)"
   ]
  },
  {
   "cell_type": "code",
   "execution_count": 10,
   "id": "521408d6-bde2-493d-bbb1-3b130f07de5b",
   "metadata": {},
   "outputs": [
    {
     "data": {
      "text/plain": [
       "Text(0, 0.5, 'Accuracy')"
      ]
     },
     "execution_count": 10,
     "metadata": {},
     "output_type": "execute_result"
    },
    {
     "data": {
      "image/png": "[encoded data removed]",
      "text/plain": [
       "<Figure size 432x288 with 1 Axes>"
      ]
     },
     "metadata": {
      "needs_background": "light"
     },
     "output_type": "display_data"
    },
    {
     "data": {
      "image/png": "[encoded data removed]",
      "text/plain": [
       "<Figure size 432x288 with 1 Axes>"
      ]
     },
     "metadata": {
      "needs_background": "light"
     },
     "output_type": "display_data"
    }
   ],
   "source": [
    "plt.plot(hist.epoch, hist.history['loss'], label='train')\n",
    "plt.plot(hist.epoch, hist.history['val_loss'], label='val')\n",
    "plt.legend()\n",
    "plt.xlabel('Epoch')\n",
    "plt.ylabel('Loss')\n",
    "\n",
    "plt.figure()\n",
    "plt.plot(hist.epoch, hist.history['accuracy'], label='train')\n",
    "plt.plot(hist.epoch, hist.history['val_accuracy'], label='val')\n",
    "plt.legend()\n",
    "plt.xlabel('Epoch')\n",
    "plt.ylabel('Accuracy')"
   ]
  },
  {
   "cell_type": "markdown",
   "id": "2f2a1e18-e801-4244-8c84-2db20a204ac2",
   "metadata": {},
   "source": [
    "## Run model on test set"
   ]
  },
  {
   "cell_type": "code",
   "execution_count": 11,
   "id": "3f413a05-b782-483b-bcc7-7747086e8a31",
   "metadata": {},
   "outputs": [
    {
     "name": "stdout",
     "output_type": "stream",
     "text": [
      "1/1 [==============================] - 0s 123ms/step\n"
     ]
    }
   ],
   "source": [
    "pred_test = model.predict(data_test)"
   ]
  },
  {
   "cell_type": "code",
   "execution_count": 12,
   "id": "6a5150d8-16e2-41ce-8fbc-b730ca344a13",
   "metadata": {},
   "outputs": [
    {
     "name": "stdout",
     "output_type": "stream",
     "text": [
      "Accuracy on test set: 100%\n"
     ]
    }
   ],
   "source": [
    "acc = (target_test.argmax(axis=1) == pred_test.argmax(axis=1)).sum() / len(target_test)\n",
    "print(f'Accuracy on test set: {100*acc:.0f}%')"
   ]
  },
  {
   "cell_type": "markdown",
   "id": "86828bbb-b9f2-4178-86a8-60ec164c46f7",
   "metadata": {},
   "source": [
    "## Save model"
   ]
  },
  {
   "cell_type": "code",
   "execution_count": 13,
   "id": "e8a2c3f8-3571-4ca4-a511-c85bb78dec33",
   "metadata": {},
   "outputs": [
    {
     "name": "stderr",
     "output_type": "stream",
     "text": [
      "WARNING:absl:Found untraced functions such as _jit_compiled_convolution_op, _jit_compiled_convolution_op while saving (showing 2 of 2). These functions will not be directly callable after loading.\n"
     ]
    },
    {
     "name": "stdout",
     "output_type": "stream",
     "text": [
      "INFO:tensorflow:Assets written to: weather_prediction_model/assets\n"
     ]
    },
    {
     "name": "stderr",
     "output_type": "stream",
     "text": [
      "INFO:tensorflow:Assets written to: weather_prediction_model/assets\n"
     ]
    }
   ],
   "source": [
    "model_dir = 'weather_prediction_model'\n",
    "model.save(model_dir)"
   ]
  },
  {
   "cell_type": "code",
   "execution_count": 14,
   "id": "c910a53a-a6c1-45f1-a5ba-5ba1f5327848",
   "metadata": {},
   "outputs": [
    {
     "name": "stdout",
     "output_type": "stream",
     "text": [
      "/Users/loostrum/pyenv/versions/3.9.1/lib/python3.9/runpy.py:127: RuntimeWarning: 'tf2onnx.convert' found in sys.modules after import of package 'tf2onnx', but prior to execution of 'tf2onnx.convert'; this may result in unpredictable behaviour\n",
      "  warn(RuntimeWarning(msg))\n",
      "/Users/loostrum/pyenv/versions/dianna/lib/python3.9/site-packages/tensorflow/python/keras/backend.py:437: UserWarning: `tf.keras.backend.set_learning_phase` is deprecated and will be removed after 2020-10-11. To update it, simply pass a True/False value to the `training` argument of the `__call__` method of your layer or model.\n",
      "  warnings.warn('`tf.keras.backend.set_learning_phase` is deprecated and '\n",
      "WARNING:tensorflow:From /Users/loostrum/pyenv/versions/dianna/lib/python3.9/site-packages/tf2onnx/tf_loader.py:706: extract_sub_graph (from tensorflow.python.framework.graph_util_impl) is deprecated and will be removed in a future version.\n",
      "Instructions for updating:\n",
      "Use `tf.compat.v1.graph_util.extract_sub_graph`\n",
      "2022-11-17 11:37:50,905 - WARNING - From /Users/loostrum/pyenv/versions/dianna/lib/python3.9/site-packages/tf2onnx/tf_loader.py:706: extract_sub_graph (from tensorflow.python.framework.graph_util_impl) is deprecated and will be removed in a future version.\n",
      "Instructions for updating:\n",
      "Use `tf.compat.v1.graph_util.extract_sub_graph`\n",
      "2022-11-17 11:37:50,931 - INFO - Using tensorflow=2.9.1, onnx=1.10.1, tf2onnx=1.9.3/1190aa\n",
      "2022-11-17 11:37:50,932 - INFO - Using opset <onnx, 9>\n",
      "2022-11-17 11:37:50,950 - INFO - Computed 0 values for constant folding\n",
      "2022-11-17 11:37:50,986 - INFO - Optimizing ONNX model\n",
      "2022-11-17 11:37:51,085 - INFO - After optimization: Const -5 (15->10), GlobalMaxPool +1 (0->1), Identity -14 (14->0), ReduceMax -1 (1->0), Squeeze +1 (2->3), Transpose -3 (4->1)\n",
      "2022-11-17 11:37:51,088 - INFO - \n",
      "2022-11-17 11:37:51,088 - INFO - Successfully converted TensorFlow model weather_prediction_model to ONNX\n",
      "2022-11-17 11:37:51,088 - INFO - Model inputs: ['input_1:0']\n",
      "2022-11-17 11:37:51,088 - INFO - Model outputs: ['Identity:0']\n",
      "2022-11-17 11:37:51,088 - INFO - ONNX model is saved at weather_prediction_model.onnx\n"
     ]
    }
   ],
   "source": [
    "output_file = 'weather_prediction_model.onnx'\n",
    "!python -m tf2onnx.convert --keras {model_dir} --output {output_file}"
   ]
  }
 ],
 "metadata": {
  "kernelspec": {
   "display_name": "Python 3 (ipykernel)",
   "language": "python",
   "name": "python3"
  },
  "language_info": {
   "codemirror_mode": {
    "name": "ipython",
    "version": 3
   },
   "file_extension": ".py",
   "mimetype": "text/x-python",
   "name": "python",
   "nbconvert_exporter": "python",
   "pygments_lexer": "ipython3",
   "version": "3.9.1"
  }
 },
 "nbformat": 4,
 "nbformat_minor": 5
}
