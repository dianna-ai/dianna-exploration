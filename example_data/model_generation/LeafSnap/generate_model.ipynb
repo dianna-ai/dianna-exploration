{
 "cells": [
  {
   "cell_type": "code",
   "execution_count": 1,
   "id": "random-strain",
   "metadata": {},
   "outputs": [],
   "source": [
    "import os\n",
    "import numpy as np\n",
    "import pandas as pd\n",
    "import matplotlib.pyplot as plt\n",
    "import tqdm\n",
    "\n",
    "import wandb\n",
    "import torch\n",
    "from torch import nn, optim\n",
    "import torch.nn.functional as F\n",
    "from torchvision import datasets, transforms"
   ]
  },
  {
   "cell_type": "code",
   "execution_count": 2,
   "id": "1640730a-090d-46e6-a4c1-bbeeb03f6826",
   "metadata": {},
   "outputs": [
    {
     "data": {
      "text/plain": []
     },
     "execution_count": 2,
     "metadata": {},
     "output_type": "execute_result"
    }
   ],
   "source": [
    "mode = 'disabled'\n",
    "# mode = 'online'\n",
    "\n",
    "wandb.init(project='leafsnap', entity='dianna-ai', mode=mode)"
   ]
  },
  {
   "cell_type": "code",
   "execution_count": 3,
   "id": "bb15482a-1c87-4d05-ab9a-81a507e49512",
   "metadata": {},
   "outputs": [],
   "source": [
    "# Note: these hyperparameter values were updated to be equal to the optimal ones chosen by W&B,\n",
    "# the rest of this notebook still uses old values, that were just and example,\n",
    "config = wandb.config\n",
    "config.img_size = 128\n",
    "config.batch_size = 128\n",
    "config.epochs = 10\n",
    "config.learning_rate = 0.000359\n",
    "config.weight_decay = 0.00181\n",
    "config.kernel_size = 3  # must be an odd number to keep the image dimensions the same after convolution\n",
    "config.pooling = 2\n",
    "config.channels1 = 62\n",
    "config.channels2 = 55\n",
    "config.channels3 = 40\n",
    "config.channels4 = 42\n",
    "config.dropout = .197"
   ]
  },
  {
   "cell_type": "code",
   "execution_count": 4,
   "id": "473133b6-0704-4446-99ec-d3fdfe6cc572",
   "metadata": {},
   "outputs": [],
   "source": [
    "if torch.cuda.is_available():\n",
    "    device = torch.device('cuda')\n",
    "else:\n",
    "    device = torch.device('cpu')"
   ]
  },
  {
   "cell_type": "code",
   "execution_count": 5,
   "id": "quantitative-accreditation",
   "metadata": {},
   "outputs": [
    {
     "data": {
      "text/html": [
       "<div>\n",
       "<style scoped>\n",
       "    .dataframe tbody tr th:only-of-type {\n",
       "        vertical-align: middle;\n",
       "    }\n",
       "\n",
       "    .dataframe tbody tr th {\n",
       "        vertical-align: top;\n",
       "    }\n",
       "\n",
       "    .dataframe thead th {\n",
       "        text-align: right;\n",
       "    }\n",
       "</style>\n",
       "<table border=\"1\" class=\"dataframe\">\n",
       "  <thead>\n",
       "    <tr style=\"text-align: right;\">\n",
       "      <th></th>\n",
       "      <th>file_id</th>\n",
       "      <th>image_path</th>\n",
       "      <th>species</th>\n",
       "      <th>source</th>\n",
       "    </tr>\n",
       "  </thead>\n",
       "  <tbody>\n",
       "    <tr>\n",
       "      <th>0</th>\n",
       "      <td>77937</td>\n",
       "      <td>dataset/images/lab/Auto_cropped/diospyros_virg...</td>\n",
       "      <td>Diospyros virginiana</td>\n",
       "      <td>lab</td>\n",
       "    </tr>\n",
       "    <tr>\n",
       "      <th>1</th>\n",
       "      <td>77938</td>\n",
       "      <td>dataset/images/lab/Auto_cropped/diospyros_virg...</td>\n",
       "      <td>Diospyros virginiana</td>\n",
       "      <td>lab</td>\n",
       "    </tr>\n",
       "    <tr>\n",
       "      <th>2</th>\n",
       "      <td>77939</td>\n",
       "      <td>dataset/images/lab/Auto_cropped/diospyros_virg...</td>\n",
       "      <td>Diospyros virginiana</td>\n",
       "      <td>lab</td>\n",
       "    </tr>\n",
       "    <tr>\n",
       "      <th>3</th>\n",
       "      <td>77940</td>\n",
       "      <td>dataset/images/lab/Auto_cropped/diospyros_virg...</td>\n",
       "      <td>Diospyros virginiana</td>\n",
       "      <td>lab</td>\n",
       "    </tr>\n",
       "    <tr>\n",
       "      <th>4</th>\n",
       "      <td>77941</td>\n",
       "      <td>dataset/images/lab/Auto_cropped/diospyros_virg...</td>\n",
       "      <td>Diospyros virginiana</td>\n",
       "      <td>lab</td>\n",
       "    </tr>\n",
       "  </tbody>\n",
       "</table>\n",
       "</div>"
      ],
      "text/plain": [
       "   file_id                                         image_path  \\\n",
       "0    77937  dataset/images/lab/Auto_cropped/diospyros_virg...   \n",
       "1    77938  dataset/images/lab/Auto_cropped/diospyros_virg...   \n",
       "2    77939  dataset/images/lab/Auto_cropped/diospyros_virg...   \n",
       "3    77940  dataset/images/lab/Auto_cropped/diospyros_virg...   \n",
       "4    77941  dataset/images/lab/Auto_cropped/diospyros_virg...   \n",
       "\n",
       "                species source  \n",
       "0  Diospyros virginiana    lab  \n",
       "1  Diospyros virginiana    lab  \n",
       "2  Diospyros virginiana    lab  \n",
       "3  Diospyros virginiana    lab  \n",
       "4  Diospyros virginiana    lab  "
      ]
     },
     "execution_count": 5,
     "metadata": {},
     "output_type": "execute_result"
    }
   ],
   "source": [
    "dataset_root = os.path.expanduser('~/nlesc/DIANNA/datasets/leafsnap/leafsnap-dataset-30subset')\n",
    "\n",
    "metadata = pd.read_csv(os.path.join(dataset_root, 'leafsnap-dataset-30subset-images.txt'), delimiter='\\t')\n",
    "metadata.head()"
   ]
  },
  {
   "cell_type": "code",
   "execution_count": 6,
   "id": "50b37f89-dd63-4bc3-bfb8-4ccfe30df53c",
   "metadata": {},
   "outputs": [
    {
     "name": "stdout",
     "output_type": "stream",
     "text": [
      "Number of classes: 30\n",
      "Total number of samples: 7395\n",
      "Number of training samples: 5917\n",
      "Number of validation samples: 739\n",
      "Number of test samples: 739\n"
     ]
    }
   ],
   "source": [
    "def valid_file(fname):\n",
    "    # dataset consists of .jpg images\n",
    "    # converted to .bmp for faster loading\n",
    "    return fname.endswith('.bmp')\n",
    "\n",
    "transform = transforms.Compose([transforms.Resize(config.img_size),\n",
    "                                transforms.CenterCrop(config.img_size),\n",
    "                                transforms.ToTensor()])\n",
    "\n",
    "train_data = datasets.ImageFolder(os.path.join(dataset_root, 'dataset/split/train'), transform=transform, is_valid_file=valid_file)\n",
    "val_data = datasets.ImageFolder(os.path.join(dataset_root, 'dataset/split/validation'), transform=transform, is_valid_file=valid_file)\n",
    "test_data = datasets.ImageFolder(os.path.join(dataset_root, 'dataset/split/test'), transform=transform, is_valid_file=valid_file)\n",
    "\n",
    "num_classes = len(train_data.classes)\n",
    "num_samples = len(train_data) + len(val_data) + len(test_data)\n",
    "\n",
    "print(f'Number of classes: {num_classes}')\n",
    "print(f'Total number of samples: {num_samples}')\n",
    "print(f'Number of training samples: {len(train_data)}')\n",
    "print(f'Number of validation samples: {len(val_data)}')\n",
    "print(f'Number of test samples: {len(test_data)}')"
   ]
  },
  {
   "cell_type": "code",
   "execution_count": 7,
   "id": "defined-campus",
   "metadata": {},
   "outputs": [
    {
     "data": {
      "text/plain": [
       "Text(0.5, 1.0, 'ulmus_pumila')"
      ]
     },
     "execution_count": 7,
     "metadata": {},
     "output_type": "execute_result"
    },
    {
     "data": {
      "image/png": "[encoded data removed]",
      "text/plain": [
       "<Figure size 432x288 with 1 Axes>"
      ]
     },
     "metadata": {
      "needs_background": "light"
     },
     "output_type": "display_data"
    }
   ],
   "source": [
    "workers = min(12, os.cpu_count() - 1)\n",
    "\n",
    "train_dataloader = torch.utils.data.DataLoader(train_data, batch_size=config.batch_size, shuffle=True, num_workers=workers, pin_memory=True)\n",
    "val_dataloader = torch.utils.data.DataLoader(val_data, batch_size=config.batch_size, shuffle=True, num_workers=workers, pin_memory=True)\n",
    "test_dataloader = torch.utils.data.DataLoader(test_data, batch_size=config.batch_size, shuffle=True, num_workers=workers, pin_memory=True)\n",
    "\n",
    "images, labels = next(iter(train_dataloader))\n",
    "im = np.array(images[1].permute(1,2,0))\n",
    "plt.imshow(im)\n",
    "plt.title(train_data.classes[labels[0]])"
   ]
  },
  {
   "cell_type": "code",
   "execution_count": 8,
   "id": "coupled-aruba",
   "metadata": {},
   "outputs": [
    {
     "name": "stdout",
     "output_type": "stream",
     "text": [
      "Number of trainable parameters: 210666\n"
     ]
    }
   ],
   "source": [
    "class Network(nn.Module):\n",
    "    def __init__(self, img_size, num_classes, kernel_size, pooling_size, num_channels, dropout):\n",
    "        super().__init__()\n",
    "        \n",
    "        self.num = len(num_channels)\n",
    "        \n",
    "        self.conv_layers = nn.ModuleList()\n",
    "        self.bn_layers = nn.ModuleList()\n",
    "        self.pool_layers = nn.ModuleList()\n",
    "        \n",
    "        for i, out_channels in enumerate(num_channels):\n",
    "            if i == 0:\n",
    "                in_channels = 3\n",
    "            else:\n",
    "                in_channels = num_channels[i-1]\n",
    "            padding = int((kernel_size - 1) / 2)\n",
    "            self.conv_layers.append(nn.Conv2d(in_channels=in_channels, out_channels=out_channels, kernel_size=kernel_size, stride=1, padding=padding))\n",
    "            self.bn_layers.append(nn.BatchNorm2d(out_channels))\n",
    "            # no pooling layer for the last step\n",
    "            if i < self.num - 1:\n",
    "                self.pool_layers.append(nn.MaxPool2d(pooling_size, pooling_size))\n",
    "        \n",
    "        # image size has been reduced by a factor pooling_size as many times as there are pooling layres\n",
    "        reduced_img_size = int(img_size / pooling_size ** len(self.pool_layers))\n",
    "        self.final_layer_size = num_channels[-1] * reduced_img_size ** 2\n",
    "\n",
    "        self.drop = nn.Dropout(dropout)\n",
    "\n",
    "        self.fc1 = nn.Linear(self.final_layer_size, num_classes)        \n",
    "\n",
    "    def forward(self, data):\n",
    "        for i in range(self.num):\n",
    "            conv = self.conv_layers[i]\n",
    "            bn = self.bn_layers[i]\n",
    "            data = F.relu(bn(conv(data)))\n",
    "            # apply pooling except in the last step\n",
    "            if i < self.num - 1:\n",
    "                pool = self.pool_layers[i]\n",
    "                data = pool(data)\n",
    "\n",
    "        data = data.view(-1, self.final_layer_size)\n",
    "        data = self.fc1(self.drop(data))\n",
    "        return data\n",
    "    \n",
    "# Instantiate a neural network model \n",
    "channels = [config.channels1, config.channels2, config.channels3, config.channels4]\n",
    "model = Network(config.img_size, num_classes, config.kernel_size, config.pooling, channels, config.dropout).to(device)\n",
    "\n",
    "print(f'Number of trainable parameters: {sum([p.numel() for p in model.parameters()])}')"
   ]
  },
  {
   "cell_type": "code",
   "execution_count": 9,
   "id": "7cb63cba-b61d-407c-8a5a-a583490bbce3",
   "metadata": {},
   "outputs": [],
   "source": [
    "optimizer = optim.Adam(model.parameters(), lr=config.learning_rate, weight_decay=config.weight_decay)\n",
    "loss_func = nn.CrossEntropyLoss().to(device)\n",
    "\n",
    "\n",
    "def accuracy(model_output, y_true):\n",
    "    _, y_pred = torch.max(model_output, dim=1)\n",
    "    return (y_pred == y_true).sum() / len(y_pred)\n",
    "\n",
    "\n",
    "def train(model, train_data, optimizer, loss_func):\n",
    "    epoch_loss = 0\n",
    "    epoch_acc = 0\n",
    "    model.train()\n",
    "\n",
    "    for batch in tqdm.notebook.tqdm(train_data):\n",
    "        images, labels = batch\n",
    "        images = images.to(device)\n",
    "        labels = labels.to(device)\n",
    "        \n",
    "        optimizer.zero_grad()\n",
    "        predictions = model(images)\n",
    "       \n",
    "        loss = loss_func(predictions, labels)\n",
    "        acc = accuracy(predictions, labels)\n",
    "        \n",
    "        loss.backward()\n",
    "        optimizer.step()\n",
    "        \n",
    "        epoch_loss += loss.item()\n",
    "        epoch_acc += acc.item()\n",
    "        \n",
    "        wandb.log({'train_loss': loss.item(), 'train_acc': acc.item()})\n",
    "\n",
    "    epoch_loss /= len(train_data)\n",
    "    epoch_acc /= len(train_data)\n",
    "    \n",
    "    return epoch_loss, epoch_acc\n",
    "\n",
    "\n",
    "@torch.no_grad()\n",
    "def evaluate(model, data, loss_func, train_mode=False):\n",
    "    avg_loss = 0\n",
    "    avg_acc = 0\n",
    "    if train_mode:\n",
    "        model.train()\n",
    "    else:\n",
    "        model.eval()\n",
    "        \n",
    "    for batch in data:\n",
    "        images, labels = batch\n",
    "        images = images.to(device)\n",
    "        labels = labels.to(device)\n",
    "        \n",
    "        predictions = model(images)\n",
    "       \n",
    "        loss = loss_func(predictions, labels)\n",
    "        acc = accuracy(predictions, labels)\n",
    "        \n",
    "        avg_loss += loss.item()\n",
    "        avg_acc += acc.item()\n",
    "\n",
    "    avg_loss /= len(data)\n",
    "    avg_acc /= len(data)\n",
    "    \n",
    "    return avg_loss, avg_acc"
   ]
  },
  {
   "cell_type": "code",
   "execution_count": 10,
   "id": "d1f6d8b4-ce21-4bf6-9529-a3c5d8aa8208",
   "metadata": {},
   "outputs": [
    {
     "data": {
      "application/vnd.jupyter.widget-view+json": {
       "model_id": "0c6615eb01554496a53c2044524f67a6",
       "version_major": 2,
       "version_minor": 0
      },
      "text/plain": [
       "  0%|          | 0/185 [00:00<?, ?it/s]"
      ]
     },
     "metadata": {},
     "output_type": "display_data"
    },
    {
     "name": "stdout",
     "output_type": "stream",
     "text": [
      "train loss: 2.22 | train acc: 0.35\n",
      "val   loss: 1.96 | val   acc: 0.42\n"
     ]
    },
    {
     "data": {
      "application/vnd.jupyter.widget-view+json": {
       "model_id": "5b902bbd29754429ae0a74d788fd5d80",
       "version_major": 2,
       "version_minor": 0
      },
      "text/plain": [
       "  0%|          | 0/185 [00:00<?, ?it/s]"
      ]
     },
     "metadata": {},
     "output_type": "display_data"
    },
    {
     "name": "stdout",
     "output_type": "stream",
     "text": [
      "train loss: 1.42 | train acc: 0.55\n",
      "val   loss: 2.25 | val   acc: 0.42\n"
     ]
    },
    {
     "data": {
      "application/vnd.jupyter.widget-view+json": {
       "model_id": "d3d50d631b5b4e158e8f7b145358b962",
       "version_major": 2,
       "version_minor": 0
      },
      "text/plain": [
       "  0%|          | 0/185 [00:00<?, ?it/s]"
      ]
     },
     "metadata": {},
     "output_type": "display_data"
    },
    {
     "name": "stdout",
     "output_type": "stream",
     "text": [
      "train loss: 1.15 | train acc: 0.64\n",
      "val   loss: 1.27 | val   acc: 0.59\n"
     ]
    },
    {
     "data": {
      "application/vnd.jupyter.widget-view+json": {
       "model_id": "97c907417fab40b394b21f81578a8d39",
       "version_major": 2,
       "version_minor": 0
      },
      "text/plain": [
       "  0%|          | 0/185 [00:00<?, ?it/s]"
      ]
     },
     "metadata": {},
     "output_type": "display_data"
    },
    {
     "name": "stdout",
     "output_type": "stream",
     "text": [
      "train loss: 0.92 | train acc: 0.71\n",
      "val   loss: 3.00 | val   acc: 0.41\n"
     ]
    },
    {
     "data": {
      "application/vnd.jupyter.widget-view+json": {
       "model_id": "1410f260ed0a473fbaf0f16a3c20e8fc",
       "version_major": 2,
       "version_minor": 0
      },
      "text/plain": [
       "  0%|          | 0/185 [00:00<?, ?it/s]"
      ]
     },
     "metadata": {},
     "output_type": "display_data"
    },
    {
     "name": "stdout",
     "output_type": "stream",
     "text": [
      "train loss: 0.78 | train acc: 0.75\n",
      "val   loss: 1.24 | val   acc: 0.63\n"
     ]
    },
    {
     "data": {
      "application/vnd.jupyter.widget-view+json": {
       "model_id": "66e320cd8d884d5d8606cbb52fc0e037",
       "version_major": 2,
       "version_minor": 0
      },
      "text/plain": [
       "  0%|          | 0/185 [00:00<?, ?it/s]"
      ]
     },
     "metadata": {},
     "output_type": "display_data"
    },
    {
     "name": "stdout",
     "output_type": "stream",
     "text": [
      "train loss: 0.67 | train acc: 0.78\n",
      "val   loss: 3.47 | val   acc: 0.39\n"
     ]
    },
    {
     "data": {
      "application/vnd.jupyter.widget-view+json": {
       "model_id": "11d723b8a72e43e09722b7992860e67e",
       "version_major": 2,
       "version_minor": 0
      },
      "text/plain": [
       "  0%|          | 0/185 [00:00<?, ?it/s]"
      ]
     },
     "metadata": {},
     "output_type": "display_data"
    },
    {
     "name": "stdout",
     "output_type": "stream",
     "text": [
      "train loss: 0.57 | train acc: 0.81\n",
      "val   loss: 1.23 | val   acc: 0.62\n"
     ]
    },
    {
     "data": {
      "application/vnd.jupyter.widget-view+json": {
       "model_id": "668087df65d448748ccb269770ad3783",
       "version_major": 2,
       "version_minor": 0
      },
      "text/plain": [
       "  0%|          | 0/185 [00:00<?, ?it/s]"
      ]
     },
     "metadata": {},
     "output_type": "display_data"
    },
    {
     "name": "stdout",
     "output_type": "stream",
     "text": [
      "train loss: 0.50 | train acc: 0.83\n",
      "val   loss: 0.91 | val   acc: 0.72\n"
     ]
    },
    {
     "data": {
      "application/vnd.jupyter.widget-view+json": {
       "model_id": "e2b241d1d6a0418c9bae290a65ea1320",
       "version_major": 2,
       "version_minor": 0
      },
      "text/plain": [
       "  0%|          | 0/185 [00:00<?, ?it/s]"
      ]
     },
     "metadata": {},
     "output_type": "display_data"
    },
    {
     "name": "stdout",
     "output_type": "stream",
     "text": [
      "train loss: 0.43 | train acc: 0.86\n",
      "val   loss: 1.73 | val   acc: 0.61\n"
     ]
    },
    {
     "data": {
      "application/vnd.jupyter.widget-view+json": {
       "model_id": "6128e28017894ad5a133ae5dfe6089ac",
       "version_major": 2,
       "version_minor": 0
      },
      "text/plain": [
       "  0%|          | 0/185 [00:00<?, ?it/s]"
      ]
     },
     "metadata": {},
     "output_type": "display_data"
    },
    {
     "name": "stdout",
     "output_type": "stream",
     "text": [
      "train loss: 0.41 | train acc: 0.86\n",
      "val   loss: 0.79 | val   acc: 0.76\n",
      "best val loss: 0.79 | best val acc: 0.76\n"
     ]
    }
   ],
   "source": [
    "best_val_loss = np.inf\n",
    "best_val_acc = None\n",
    "\n",
    "for epoch in range(config.epochs):\n",
    "    # run training loop\n",
    "    train_loss, train_acc = train(model, train_dataloader, optimizer, loss_func)\n",
    "    # evalute on validation data, with same model settings as during training (i.e. including dropout)\n",
    "    val_loss, val_acc = evaluate(model, val_dataloader, loss_func)\n",
    "\n",
    "    wandb.log({'train_epoch_loss': train_loss, 'train_epoch_acc': train_acc})\n",
    "    wandb.log({'val_epoch_loss': val_loss, 'val_epoch_acc': val_acc})\n",
    "\n",
    "    print(f'train loss: {train_loss:.2f} | train acc: {train_acc:.2f}')\n",
    "    print(f'val   loss: {val_loss:.2f} | val   acc: {val_acc:.2f}')\n",
    "    \n",
    "    if val_loss < best_val_loss:\n",
    "        best_val_loss = val_loss\n",
    "        best_val_acc = val_acc\n",
    "        # ensure to store the model in eval mode\n",
    "        model.eval()\n",
    "        torch.save(model, 'leafsnap_model.pytorch')\n",
    "\n",
    "print(f'best val loss: {best_val_loss:.2f} | best val acc: {best_val_acc:.2f}')"
   ]
  },
  {
   "cell_type": "code",
   "execution_count": 11,
   "id": "678e059d-f550-419d-89d4-5448fc2df5bc",
   "metadata": {},
   "outputs": [
    {
     "name": "stdout",
     "output_type": "stream",
     "text": [
      "test loss: 0.87 | test acc: 0.74\n"
     ]
    }
   ],
   "source": [
    "test_loss, test_acc = evaluate(model, test_dataloader, loss_func, train_mode=False)\n",
    "print(f'test loss: {test_loss:.2f} | test acc: {test_acc:.2f}')"
   ]
  },
  {
   "cell_type": "code",
   "execution_count": 12,
   "id": "9cfd4599-7085-4d8f-a5d0-ace493ec7cca",
   "metadata": {},
   "outputs": [],
   "source": [
    "# load model from disk an convert to onnx\n",
    "loaded_model = torch.load('leafsnap_model.pytorch')\n",
    "loaded_model.eval()\n",
    "# export needs example input\n",
    "x = next(iter(train_dataloader))[0].to(device)\n",
    "\n",
    "torch.onnx.export(loaded_model, x, 'leafsnap_model.onnx', opset_version=11,\n",
    "                  export_params=True, input_names=['input'], output_names=['output'],\n",
    "                  dynamic_axes={'input': {0: 'batch_size'},\n",
    "                                'output': {0: 'batch_size'}})"
   ]
  }
 ],
 "metadata": {
  "kernelspec": {
   "display_name": "Python 3",
   "language": "python",
   "name": "python3"
  },
  "language_info": {
   "codemirror_mode": {
    "name": "ipython",
    "version": 3
   },
   "file_extension": ".py",
   "mimetype": "text/x-python",
   "name": "python",
   "nbconvert_exporter": "python",
   "pygments_lexer": "ipython3",
   "version": "3.9.1"
  }
 },
 "nbformat": 4,
 "nbformat_minor": 5
}
