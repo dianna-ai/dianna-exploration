{
 "cells": [
  {
   "cell_type": "markdown",
   "id": "aging-combination",
   "metadata": {},
   "source": [
    "# Leafsnap train/test/validation split\n",
    "\n",
    "This notebook takes the 30 species Leafsnap subset and creates a train, test, and validation dataset using symbolic links to the original images."
   ]
  },
  {
   "cell_type": "code",
   "execution_count": 1,
   "id": "diverse-arctic",
   "metadata": {},
   "outputs": [],
   "source": [
    "import os\n",
    "import pandas as pd\n",
    "import numpy as np\n",
    "import matplotlib.pyplot as plt\n",
    "from sklearn.model_selection import train_test_split"
   ]
  },
  {
   "cell_type": "code",
   "execution_count": 2,
   "id": "micro-weapon",
   "metadata": {},
   "outputs": [],
   "source": [
    "dataset_path = os.path.expanduser('~/projects/DIANNA/datasets/leafsnap/leafsnap-dataset-30subset')\n",
    "\n",
    "output_path = os.path.join(dataset_path, 'dataset', 'split')\n",
    "metadata_file = os.path.join(dataset_path, 'leafsnap-dataset-30subset-images.txt')\n",
    "\n",
    "try:\n",
    "    os.makedirs(output_path)\n",
    "except FileExistsError:\n",
    "    print(f'Output path ({output_path}) already exists, please remove it before running this script')"
   ]
  },
  {
   "cell_type": "code",
   "execution_count": 3,
   "id": "stainless-bonus",
   "metadata": {},
   "outputs": [],
   "source": [
    "# get a list of the image paths (relative to main folder of dataset) and corresponding source (field or lab) from the metadata\n",
    "metadata = pd.read_csv(metadata_file, delimiter='\\t')\n",
    "# extract image paths. Some contain whitespace at the end, make sure to remove this\n",
    "images = metadata['image_path'].apply(lambda value: value.strip())\n",
    "sources = metadata['source']\n",
    "# transform species name to be the same as in the image path: lower case, with _ instead of space\n",
    "# only need the unique values\n",
    "species = list(np.unique(metadata['species'].apply(lambda value: value.lower().replace(' ', '_')).values))"
   ]
  },
  {
   "cell_type": "code",
   "execution_count": 4,
   "id": "formal-updating",
   "metadata": {},
   "outputs": [
    {
     "name": "stdout",
     "output_type": "stream",
     "text": [
      "Total dataset size: 7395\n",
      "Training set size: 5917\n",
      "Validation set size: 739\n",
      "Test set size: 739\n"
     ]
    }
   ],
   "source": [
    "# define size of validation and test set\n",
    "ntot = len(images)\n",
    "ntest = int(.1 * ntot)\n",
    "nval = int(.1 * ntot)\n",
    "ntrain = ntot - ntest - nval\n",
    "\n",
    "print(f'Total dataset size: {ntot}')\n",
    "print(f'Training set size: {ntrain}')\n",
    "print(f'Validation set size: {nval}')\n",
    "print(f'Test set size: {ntest}')"
   ]
  },
  {
   "cell_type": "code",
   "execution_count": 5,
   "id": "opposite-fortune",
   "metadata": {},
   "outputs": [],
   "source": [
    "# split the data, stratified on field/lab. Afterwards, still need to check if species are roughly equally distributed in the different datasets\n",
    "random_state = 42\n",
    "images_trainval, images_test, sources_trainval, sources_test = train_test_split(images, sources, test_size=ntest, stratify=sources, random_state=random_state)\n",
    "images_train, images_val, sources_train, sources_val = train_test_split(images_trainval, sources_trainval, test_size=nval, stratify=sources_trainval, random_state=random_state)"
   ]
  },
  {
   "cell_type": "code",
   "execution_count": 6,
   "id": "moving-soundtrack",
   "metadata": {},
   "outputs": [
    {
     "data": {
      "text/plain": [
       "Text(0, 0.5, 'Fraction of dataset')"
      ]
     },
     "execution_count": 6,
     "metadata": {},
     "output_type": "execute_result"
    },
    {
     "data": {
      "image/png": "[encoded data removed]",
      "text/plain": [
       "<Figure size 432x288 with 1 Axes>"
      ]
     },
     "metadata": {
      "needs_background": "light"
     },
     "output_type": "display_data"
    }
   ],
   "source": [
    "# show normalized species distribution in each dataset\n",
    "data = {'train': images_train, 'validation': images_val, 'test': images_test}\n",
    "nums = {'train': ntrain, 'validation': nval, 'test': ntest}\n",
    "\n",
    "fig, ax = plt.subplots()\n",
    "\n",
    "# plot each dataset\n",
    "for dataset_name, images in data.items():\n",
    "    # create histogram of species\n",
    "    hist = np.zeros(len(species))\n",
    "    # loop over elements in dataset and get species from image path\n",
    "    for image_path in images:\n",
    "        # extract species from path and find index in list of species\n",
    "        species_index = species.index(image_path.split('/')[-2])\n",
    "        hist[species_index] += 1\n",
    "        \n",
    "    # plot the result\n",
    "    ax.bar(range(len(species)), hist / nums[dataset_name], alpha=.4, label=dataset_name)\n",
    "    \n",
    "ax.legend()\n",
    "ax.set_xlim(-.5, len(species) - .5)\n",
    "ax.set_xlabel('Species index')\n",
    "ax.set_ylabel('Fraction of dataset')"
   ]
  },
  {
   "cell_type": "code",
   "execution_count": 7,
   "id": "statewide-hungarian",
   "metadata": {},
   "outputs": [],
   "source": [
    "# loop over each image in each dataset and create symlink in correct output folder\n",
    "for dataset_name, image_paths in data.items():\n",
    "    for img in image_paths:\n",
    "        rest, img_name = os.path.split(img)\n",
    "        this_species = os.path.split(rest)[-1]\n",
    "\n",
    "        # path to original image\n",
    "        source = os.path.join(dataset_path, img)\n",
    "        # path to output\n",
    "        destination_folder = os.path.join(output_path, dataset_name, this_species)\n",
    "        os.makedirs(destination_folder, exist_ok=True)\n",
    "        destination = os.path.join(destination_folder, img_name)\n",
    "        # do the symlinking\n",
    "        os.symlink(source, destination)"
   ]
  }
 ],
 "metadata": {
  "kernelspec": {
   "display_name": "Python 3",
   "language": "python",
   "name": "python3"
  },
  "language_info": {
   "codemirror_mode": {
    "name": "ipython",
    "version": 3
   },
   "file_extension": ".py",
   "mimetype": "text/x-python",
   "name": "python",
   "nbconvert_exporter": "python",
   "pygments_lexer": "ipython3",
   "version": "3.9.1"
  }
 },
 "nbformat": 4,
 "nbformat_minor": 5
}
